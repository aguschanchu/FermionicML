{
  "cells": [
    {
      "cell_type": "markdown",
      "metadata": {
        "colab_type": "text",
        "id": "view-in-github"
      },
      "source": [
        "<a href=\"https://colab.research.google.com/github/aguschanchu/FermionicML/blob/main/FermionicML_thermal.ipynb\" target=\"_parent\"><img src=\"https://colab.research.google.com/assets/colab-badge.svg\" alt=\"Open In Colab\"/></a>"
      ]
    },
    {
      "cell_type": "markdown",
      "metadata": {
        "id": "NXz5cOlVwrzZ"
      },
      "source": [
        "# FermionicML:\n",
        "\n",
        "Code based on aguschanchu/Bosonic.py\n",
        "\n",
        "A diferencia del código anterior, este modelo trabaja sobre estados térmicos"
      ]
    },
    {
      "cell_type": "markdown",
      "metadata": {
        "id": "KLD2Yai55rMm"
      },
      "source": [
        "## Código base"
      ]
    },
    {
      "cell_type": "markdown",
      "metadata": {
        "id": "rgf9ExZN4jA7"
      },
      "source": [
        "Cargamos el código de Bosonic.py básico, branch fermionic"
      ]
    },
    {
      "cell_type": "code",
      "execution_count": 1,
      "metadata": {
        "id": "Gydz4kCH4l5w"
      },
      "outputs": [
        {
          "name": "stderr",
          "output_type": "stream",
          "text": [
            "/var/tmp/ipykernel_88660/3558866515.py:248: NumbaDeprecationWarning: \u001b[1mThe 'nopython' keyword argument was not supplied to the 'numba.jit' decorator. The implicit default value for this argument is currently False, but it will be changed to True in Numba 0.59.0. See https://numba.readthedocs.io/en/stable/reference/deprecation.html#deprecation-of-object-mode-fall-back-behaviour-when-using-jit for details.\u001b[0m\n",
            "  def gamma_lamba_inv(x):\n"
          ]
        }
      ],
      "source": [
        "import numpy as np\n",
        "from scipy.special import binom\n",
        "from scipy.sparse import dok_matrix, linalg\n",
        "from scipy import linalg as linalg_d\n",
        "from joblib import Memory\n",
        "import random\n",
        "import plotly.graph_objects as go\n",
        "from joblib import Parallel, delayed\n",
        "from numba import jit, prange, njit\n",
        "import numba as nb\n",
        "import pickle\n",
        "import math\n",
        "import tensorflow_probability as tfp\n",
        "\n",
        "# Funciones auxiliares optimiadas\n",
        "@nb.jit(nopython=True, parallel=True)\n",
        "def int_to_tuple_arr(ni,nf, b, digits=None):\n",
        "    sol = np.zeros((nf-ni, digits), dtype=np.int64)\n",
        "    for n in prange(ni, nf):\n",
        "        r = np.zeros(digits, dtype=np.int64)\n",
        "        ncop = n\n",
        "        idx = 0\n",
        "        while n != 0:\n",
        "            r[idx] = n % b\n",
        "            n = n // b\n",
        "            idx += 1\n",
        "        if digits is not None:\n",
        "            if idx < digits:\n",
        "                for i in range(idx, digits):\n",
        "                    r[i] = 0\n",
        "                idx = digits\n",
        "        sol[ncop-ni,:] = r[:idx]\n",
        "    return sol\n",
        "\n",
        "def tuple_to_int(t, d):\n",
        "    b = d-1\n",
        "    l = len(t)\n",
        "    s = [t[k]*b**(l-k-1) for k in range(0,l)]\n",
        "    return sum(s)\n",
        "\n",
        "def create_basis_(m, d, size):\n",
        "    base = []\n",
        "    index = 0\n",
        "    chunk_size = 1000000\n",
        "    for x in range(0,(m+1)**d, chunk_size):\n",
        "        start_index = x\n",
        "        end_index = min(x + chunk_size, (m+1)**d)\n",
        "        arr = int_to_tuple_arr(start_index, end_index, m+1, d)\n",
        "        sums = np.sum(arr, axis=1)\n",
        "        rows = np.where(sums == m)[0]\n",
        "        for row in [arr[i] for i in rows]:\n",
        "            if np.all(np.logical_or(row == 0, row == 1)):\n",
        "                base.append(row)\n",
        "\n",
        "    # Como consecuencia de la paralelizacion, es necesario reordenar la base\n",
        "    sorted_base = sorted(base, key=lambda x: tuple_to_int(x, d), reverse=True)\n",
        "    assert len(base) == size\n",
        "\n",
        "    return sorted_base\n",
        "\n",
        "class fixed_basis:\n",
        "\n",
        "    # Convierte a un enterno n a su escritura en base b\n",
        "    def _int_to_tuple(self, n, b, digits = None):\n",
        "        rep = np.base_repr(n, b)\n",
        "        rep_int = [int(x,b) for x in rep]\n",
        "        if digits is not None:\n",
        "            zeros = [0 for i in range(0,digits-len(rep))]\n",
        "            return zeros + rep_int\n",
        "        else:\n",
        "            return rep_int\n",
        "\n",
        "    # Revierte la transformacion anterior\n",
        "    def tuple_to_int(self, t):\n",
        "        b = self.d-1\n",
        "        l = len(t)\n",
        "        s = [t[k]*b**(l-k-1) for k in range(0,l)]\n",
        "        return sum(s)\n",
        "\n",
        "    # Convierte el vector en su representacion\n",
        "    def vect_to_repr(self, vect):\n",
        "        for i, k in enumerate(vect):\n",
        "            if k == 1. or k == 1:\n",
        "                break\n",
        "        else:\n",
        "            return 0\n",
        "        return self.base[i,:]\n",
        "\n",
        "    def rep_to_vect(self, rep):\n",
        "        rep = list(rep)\n",
        "        for i, r in [(j, self.base[j,:]) for j in range(0,self.size)]:\n",
        "            if list(r) == rep:\n",
        "                return self.canonicals[:,i]\n",
        "        else:\n",
        "            None\n",
        "\n",
        "    def rep_to_index(self, rep):\n",
        "        return self.base.tolist().index(list(rep))\n",
        "\n",
        "    @staticmethod\n",
        "    def rep_to_exi(rep):\n",
        "        r = []\n",
        "        for i, k in enumerate(rep):\n",
        "            r += [i for x in range(0,k)]\n",
        "        return r\n",
        "\n",
        "    # Crea base de M particulas en D estados (repr y base canonica)\n",
        "    def create_basis(self, m, d):\n",
        "        #print(\"Creating basis: \", m, d)\n",
        "        length = int(binom(d,m))\n",
        "        base = np.array(create_basis_(m, d, length))\n",
        "        # Asignamos a cada uno de ellos un canónico\n",
        "        canonicals = np.eye(length)\n",
        "        return base, canonicals\n",
        "\n",
        "    def __init__(self, m, d):\n",
        "        self.m = m\n",
        "        self.d = d\n",
        "        self.size = int(binom(d,m))\n",
        "        (self.base, self.canonicals) = self.create_basis(m, d)\n",
        "\n",
        "\n",
        "# Matrices de aniquilación y creación endomórficas. Estan fuera de la clase para poder ser cacheadas\n",
        "#@memory.cache\n",
        "def bdb(basis, i, j):\n",
        "    mat = dok_matrix((basis.size, basis.size), dtype=np.float32)\n",
        "    if i != j:\n",
        "        for k, v in enumerate(basis.base):\n",
        "            if v[j] != 0 and v[i] != 1:\n",
        "                dest = list(v.copy())\n",
        "                dest[j] -= 1\n",
        "                dest[i] += 1\n",
        "                tar = basis.rep_to_index(dest)\n",
        "                mat[tar, k] = np.sqrt(v[i]+1)*np.sqrt(v[j])\n",
        "    else:\n",
        "        for k, v in enumerate(basis.base):\n",
        "            if v[j] != 0:\n",
        "                mat[k, k] = v[i]\n",
        "    return mat\n",
        "\n",
        "#@memory.cache\n",
        "def bbd(basis, i, j):\n",
        "    mat = dok_matrix((basis.size, basis.size), dtype=np.float32)\n",
        "    if i != j:\n",
        "        for k, v in enumerate(basis.base):\n",
        "            if v[i] != 0 and v[j] != 1:\n",
        "                dest = list(v.copy())\n",
        "                dest[i] -= 1\n",
        "                dest[j] += 1\n",
        "                tar = basis.rep_to_index(dest)\n",
        "                mat[tar, k] = np.sqrt(v[j]+1)*np.sqrt(v[i])\n",
        "    else:\n",
        "        for k, v in enumerate(basis.base):\n",
        "            if v[i] != 1:\n",
        "                mat[k, k] = v[i]+1\n",
        "    return mat\n",
        "\n",
        "# Matrices de aniquilación y creación.Toman la base de origen y destino (basis_o, basis_d) resp\n",
        "#@nb.jit(nopython=True, parallel=True)\n",
        "@nb.jit(nopython=True)\n",
        "def b_aux(basis_o, basis_d, i):\n",
        "    mat = np.zeros((len(basis_d), len(basis_o)), dtype=np.float32)\n",
        "    for k in prange(len(basis_o)):\n",
        "        if basis_o[k][i] != 0:\n",
        "            dest = list(basis_o[k].copy())\n",
        "            dest[i] -= 1\n",
        "            for j in prange(len(basis_d)):\n",
        "                if list(basis_d[j]) == dest:\n",
        "                    tar = j\n",
        "                    mat[tar, k] = np.sqrt(basis_o[k][i])\n",
        "    return mat\n",
        "\n",
        "def b(basis_o, basis_d, i):\n",
        "    return b_aux(basis_o.base, basis_d.base, i)\n",
        "\n",
        "#@nb.jit(nopython=True, parallel=True)\n",
        "@nb.jit(nopython=True)\n",
        "def bd_aux(basis_o, basis_d, i):\n",
        "    mat = np.zeros((len(basis_d), len(basis_o)), dtype=np.float32)\n",
        "    for k in prange(len(basis_o)):\n",
        "        if basis_o[k][i] != 1:\n",
        "            dest = list(basis_o[k].copy())\n",
        "            dest[i] += 1\n",
        "            for j in prange(len(basis_d)):\n",
        "                if list(basis_d[j]) == dest:\n",
        "                    tar = j\n",
        "                    mat[tar, k] = np.sqrt(basis_o[k][i]+1)\n",
        "    return mat\n",
        "\n",
        "def bd(basis_o, basis_d, i):\n",
        "    return bd_aux(basis_o.base, basis_d.base, i)\n",
        "\n",
        "\n",
        "# Acepta una lista de indices a crear\n",
        "@nb.jit(nopython=True, parallel=True)\n",
        "def bd_gen_aux(basis_o, basis_d, gen_list):\n",
        "    mat = np.zeros((len(basis_d), len(basis_o)), dtype=np.float32)\n",
        "    for k in prange(len(basis_o)):\n",
        "        conds = np.zeros(len(gen_list), dtype=np.int64)\n",
        "        for i in range(len(gen_list)):\n",
        "            if basis_o[k][gen_list[i]] != 1:\n",
        "                conds[i] = 1\n",
        "        if np.all(conds):\n",
        "            dest = list(basis_o[k].copy())\n",
        "            for i in gen_list:\n",
        "                dest[i] += 1\n",
        "            for j in prange(len(basis_d)):\n",
        "                if list(basis_d[j]) == dest:\n",
        "                    tar = j\n",
        "                    mat[tar, k] = np.sqrt(basis_o[k][i]+1)\n",
        "    return mat\n",
        "\n",
        "def bd_gen(basis_o, basis_d, i):\n",
        "    return bd_gen_aux(basis_o.base, basis_d.base, np.array(i))\n",
        "\n",
        "def b_gen(basis_o, basis_d, i):\n",
        "    return np.transpose(bd_gen(basis_d, basis_o, i))\n",
        "\n",
        "# Volvemos a definir la función para compilarla\n",
        "@nb.jit(forceobj=True)\n",
        "def _rep_to_index(base, rep):\n",
        "    return base.tolist().index(list(rep))\n",
        "\n",
        "# Funciones auxiliares para calcular rho2kkbar y gamma_p\n",
        "@nb.jit(nopython=True)\n",
        "def rep_to_exi(rep):\n",
        "    r = []\n",
        "    for i in range(len(rep)):\n",
        "        for j in range(rep[i]):\n",
        "            r.append(i)\n",
        "    return r\n",
        "\n",
        "@nb.njit\n",
        "def factorial(n):\n",
        "    result = 1\n",
        "    for i in range(1, n + 1):\n",
        "        result *= i\n",
        "    return result\n",
        "\n",
        "@nb.njit\n",
        "def gamma_lamba(x):\n",
        "    res = 1.0\n",
        "    for o in x:\n",
        "        res *= math.sqrt(factorial(o))\n",
        "    return res\n",
        "\n",
        "@nb.jit\n",
        "def gamma_lamba_inv(x):\n",
        "    res = 1.0\n",
        "    for o in x:\n",
        "        res *= 1.0 / np.sqrt(factorial(o))\n",
        "    return res\n",
        "\n",
        "@nb.njit\n",
        "def rep_to_index_np(base, rep):\n",
        "    for i in range(len(base)):\n",
        "        if np.all(base[i] == rep):\n",
        "            return i\n",
        "    return -1\n",
        "\n",
        "\n",
        "def gamma_p(basis, m, vect, m_basis = None, nm_basis = None):\n",
        "    d = basis.d\n",
        "    if not m_basis or not nm_basis:\n",
        "        m_basis = fixed_basis(m, d)\n",
        "        nm_basis = fixed_basis(basis.m-m,d)\n",
        "    return gamma_p_aux(basis.base, vect, m_basis.base, nm_basis.base)\n",
        "\n",
        "@nb.njit()\n",
        "def gamma_p_aux(basis, vect, m_basis, nm_basis):\n",
        "    mat = np.zeros((len(m_basis), len(nm_basis)), dtype=np.float32)\n",
        "    for i in prange(len(m_basis)):\n",
        "        v = m_basis[i]\n",
        "        for j in prange(len(nm_basis)):\n",
        "            w = nm_basis[j]\n",
        "            targ = v + w\n",
        "            index = rep_to_index_np(basis, targ)\n",
        "            if index != -1:\n",
        "                coef = vect[index]\n",
        "                if coef != 0:\n",
        "                    coef = coef * gamma_lamba_inv(v) * gamma_lamba_inv(w) * gamma_lamba(targ)\n",
        "                mat[i, j] = coef\n",
        "    return mat\n",
        "# Devuelve la matriz rho M asociada al vector\n",
        "def rho_m(basis, m, vect, m_basis = None, nm_basis = None):\n",
        "    g = gamma_p(basis, m, vect, m_basis, nm_basis)\n",
        "    return np.dot(g,np.transpose(g))\n",
        "\n",
        "# Devuelve la matriz gamma asociada a la descomposición (M,N-M) del vector\n",
        "@jit(forceobj=True)\n",
        "def gamma(basis, m, vect, m_basis = None, nm_basis = None):\n",
        "    d = basis.d\n",
        "    if not m_basis or not nm_basis:\n",
        "        m_basis = fixed_basis(m, d)\n",
        "        nm_basis = fixed_basis(basis.m-m,d)\n",
        "    mat = dok_matrix((m_basis.size, nm_basis.size), dtype=np.float32)\n",
        "    for i, v in enumerate(m_basis.base):\n",
        "        for j, w in enumerate(nm_basis.base):\n",
        "            targ = v+w\n",
        "            # Revisamos que sea un estado fermionico valido\n",
        "            arr = np.asarray(targ)\n",
        "            if not np.all(np.logical_or(arr == 0, arr == 1)):\n",
        "                continue\n",
        "            index = _rep_to_index(basis.base, targ)\n",
        "            coef = vect[index]\n",
        "            if coef != 0:\n",
        "                aux = lambda x: np.prod(np.reciprocal(np.sqrt([np.math.factorial(o) for o in x])))\n",
        "                aux_inv = lambda x: np.prod(np.sqrt([np.math.factorial(o) for o in x]))\n",
        "                coef = coef * aux(v) * aux(w) * aux_inv(targ)\n",
        "                #coef = coef\n",
        "                #print(v,w,coef)\n",
        "            mat[i,j] = coef\n",
        "    return mat\n",
        "\n",
        "# Genera las matrices de rho1\n",
        "def rho_1_gen(basis):\n",
        "    d = basis.d\n",
        "    s = basis.size\n",
        "    mat = np.empty((d,d,s,s), dtype=np.float32)\n",
        "    for i in range(0, d):\n",
        "        for j in range(0, d):\n",
        "            mat[i,j,:,:] = np.array(bdb(basis,j, i).todense())\n",
        "    return mat\n",
        "\n",
        "#@jit(parallel=True, nopython=True)\n",
        "def rho_1(d, state, rho_1_arrays):\n",
        "    state_expanded = state[np.newaxis, np.newaxis, :, :]\n",
        "    product = state_expanded * rho_1_arrays\n",
        "    mat = np.sum(product, axis=(-2, -1))\n",
        "\n",
        "    return mat\n",
        "\n",
        "\n",
        "# Genera las matrices de rho2\n",
        "def rho_2_gen(basis, mll_basis, t_basis):\n",
        "    size = t_basis.size\n",
        "    s = basis.size\n",
        "    # La entrada i, j contiene C_j^\\dag C_i    i, j \\in t_basis\n",
        "    mat = np.empty((size, size, s, s), dtype=np.float32)\n",
        "    for i, v in enumerate(t_basis.base):\n",
        "        for j, w in enumerate(t_basis.base):\n",
        "            c_i = b_gen(basis, mll_basis, rep_to_exi(v))\n",
        "            cdag_j = bd_gen(mll_basis, basis, rep_to_exi(w))\n",
        "            mat[i, j, :, :] = np.dot(cdag_j, c_i)\n",
        "\n",
        "    return mat\n",
        "\n",
        "def rho_2(size, state, rho_2_arrays):\n",
        "    state_expanded = np.expand_dims(state, axis=1)\n",
        "    state_expanded = np.expand_dims(state_expanded, axis=1)\n",
        "    rho_2_arrays = rho_2_arrays[np.newaxis, :, :, :, :]\n",
        "    print(state_expanded.shape, rho_2_arrays.shape)\n",
        "    product = state_expanded * rho_2_arrays\n",
        "    mat = np.sum(product, axis=(-2, -1))\n",
        "    return mat\n",
        "\n",
        "def rho_2_kkbar_gen(m, rho_2_arrays):\n",
        "    offset = 4*m+1\n",
        "    indices = [-(k-1)*(2*k-offset) for k in range(1,m+1)] # Lo saque de Mathmatica, vos confia\n",
        "    i, j = np.meshgrid(indices, indices, indexing='ij') # Lo usamos para rellenar la mat deseada\n",
        "\n",
        "    rho_2_arrays_kkbar = rho_2_arrays[i, j, :, :]\n",
        "\n",
        "    return rho_2_arrays_kkbar\n",
        "\n",
        "# Devuelve la matriz rho 2 asociada al bloque kkbar\n",
        "def rho_2_kkbar(basis, vect, ml_basis = None, mll_basis = None, t_basis = None):\n",
        "    d = basis.d\n",
        "    # Creo las bases si no están dadas\n",
        "    if ml_basis == None or mll_basis == None or t_basis == None:\n",
        "        ml_basis = fixed_basis(m-1,d)\n",
        "        mll_basis = fixed_basis(m-2,d)\n",
        "        t_basis = fixed_basis(2,d)\n",
        "    diag = []\n",
        "    for v in t_basis.base:\n",
        "        for j in range(0, d, 2):\n",
        "            if v[j] == v[j+1]:\n",
        "                continue\n",
        "            else:\n",
        "                break\n",
        "        else:\n",
        "            diag.append(v)\n",
        "    diag = np.array(diag)\n",
        "    return rho_2_kkbar_aux(diag, vect, basis.base, ml_basis.base, mll_basis.base, t_basis.base)\n",
        "\n",
        "@nb.njit\n",
        "def rho_2_kkbar_lambda(x):\n",
        "    res = 1.0\n",
        "    for o in x:\n",
        "        res *= 1.0 / math.sqrt(factorial(o))\n",
        "    return res\n",
        "\n",
        "#@nb.njit(parallel=True)\n",
        "def rho_2_kkbar_aux(diag, vect, basis, ml_basis, mll_basis, t_basis):\n",
        "    mat = np.zeros((len(diag), len(diag)), dtype=np.float32)\n",
        "    for i in prange(len(diag)):\n",
        "        for j in prange(len(diag)):\n",
        "            v = diag[i]\n",
        "            w = diag[j]\n",
        "            # Creacion de los a\n",
        "            i_set = rep_to_exi(v)\n",
        "            b_m = b_aux(ml_basis, mll_basis, i_set[1]) @ b_aux(basis, ml_basis, i_set[0])\n",
        "            # Creacion de los ad\n",
        "            i_set = rep_to_exi(w)\n",
        "            bd_m = bd_aux(ml_basis, basis, i_set[1]) @ bd_aux(mll_basis, ml_basis, i_set[0])\n",
        "            # v1 = vect @ bd_m @ b_m @ vect Para estados puros\n",
        "            # Mult de b's y filleo de mat\n",
        "            coef = np.trace(vect @ bd_m @ b_m)\n",
        "            mat[i,j] = coef * rho_2_kkbar_lambda(v) * rho_2_kkbar_lambda(w)\n",
        "    return mat\n"
      ]
    },
    {
      "cell_type": "markdown",
      "metadata": {
        "id": "6dga5Xx_5vDf"
      },
      "source": [
        "## Definicion de Hamiltoniano"
      ]
    },
    {
      "cell_type": "markdown",
      "metadata": {
        "id": "myiTq53L5E1U"
      },
      "source": [
        "Cargamos el código de creación y resolución de Hamiltonianos"
      ]
    },
    {
      "cell_type": "code",
      "execution_count": 2,
      "metadata": {
        "colab": {
          "base_uri": "https://localhost:8080/"
        },
        "id": "-h5FXWv849Mq",
        "outputId": "49dd47b5-8c16-4ad4-92e7-e172462229b3"
      },
      "outputs": [],
      "source": [
        "m = 3\n",
        "d = 6\n",
        "# Creo las bases para no tener que recrearlas luego\n",
        "basis = fixed_basis(m, d)\n",
        "basis_m1 = fixed_basis(m-1, d)\n",
        "basis_m2 = fixed_basis(m-2, d)"
      ]
    },
    {
      "cell_type": "code",
      "execution_count": 29,
      "metadata": {
        "id": "PToiSs915TXw"
      },
      "outputs": [],
      "source": [
        "## Usamos este approach si queremos guardar los generadores\n",
        "# Dados 1/2 (d^2+d) elementos, genera una mat de dxd:\n",
        "eps = 0.00001\n",
        "\n",
        "def sym_mat_gen(vect, d):\n",
        "    matrix = fill_matrix(vect, d)\n",
        "    return matrix + matrix.T - np.diag(matrix.diagonal())\n",
        "\n",
        "@jit(nopython=True)\n",
        "def fill_matrix(vect, d):\n",
        "    matrix = np.zeros((d, d))\n",
        "    idx = 0\n",
        "    for i in prange(d):\n",
        "        for j in prange(i, d):\n",
        "            matrix[i, j] = vect[idx]\n",
        "            idx += 1\n",
        "    return matrix\n",
        "\n",
        "# Generamos una matrix aleatoria. Cuidado con la distribución, ver https://stackoverflow.com/questions/56605189/is-there-an-efficient-way-to-generate-a-symmetric-random-matrix\n",
        "def hamil_base_gen(d):\n",
        "    U = np.random.uniform(low=0, high=1.0, size=(d, d))\n",
        "    hamil_base = np.tril(U) + np.tril(U, -1).T\n",
        "    return hamil_base\n",
        "\n",
        "# Dada un a mat dxd simetrica, contruye el hamiltoniano de un cuerpo a_{ij} c^{dag}_i c_j\n",
        "# Alternativamente podemos construirlo a partir de rho_1_gen\n",
        "def base_hamiltonian_aux(mat, size, d, rho_1_gen):\n",
        "    # Construccion de H\n",
        "    rho_1_gen_transposed = rho_1_gen.transpose(1, 0, 2, 3)\n",
        "    mat_expanded = mat[:, :, np.newaxis, np.newaxis]\n",
        "    h = np.sum(mat_expanded * rho_1_gen_transposed[:, :, :, :], axis=(0, 1))\n",
        "    return h.astype(np.float32)\n",
        "\n",
        "def base_hamiltonian(mat, basis, rho_1_gen):\n",
        "    return base_hamiltonian_aux(mat, basis.size, basis.d, rho_1_gen)\n",
        "\n",
        "def two_body_hamiltonian(t_basis_size, m, energy, G, rho_1_arrays, rho_2_arrays):\n",
        "    # Creamos la mat diagonal de d*d con los elementos de energy\n",
        "    # cada uno de estos, se contraen con los elementos de rho_1_arrays\n",
        "    # la mat energy contiene las energias de cada termino c^\\dag_k c_k para k kbar (iguales)\n",
        "    # por ello los elementos se repiten \n",
        "    energy_matrix = np.diagflat(np.kron(energy, np.ones(2))) + eps * np.random.random((2*m,2*m))\n",
        "    \n",
        "    # Construimos la mat de energía\n",
        "    h0 = np.sum(energy_matrix[:, :, np.newaxis, np.newaxis] * rho_1_arrays[:, :, :, :], axis=(0, 1))\n",
        "\n",
        "    # Pasamos ahora a la matrix de interacción con la misma estrategia\n",
        "    # dada G que indica la interacción entre los pares k' k'bar k kbar \n",
        "    # (que son elementos particulares de t_basis)\n",
        "    # transladamos estos coeficientes a una matriz en t_basis\n",
        "    # y multiplicamos por rho_2_arrays\n",
        "    \n",
        "    # Primero determinamos, dada t_basis, cuales son los indices de pares kkbar\n",
        "    offset = 4*m+1\n",
        "    indices = [-(k-1)*(2*k-offset) for k in range(1,m+1)] # Lo saque de Mathmatica, vos confia\n",
        "    i, j = np.meshgrid(indices, indices, indexing='ij') # Lo usamos para rellenar la mat deseada\n",
        "    \n",
        "    # Contruimos la mat que contraeremos con rho_2_arrays\n",
        "    mat = np.zeros((t_basis_size, t_basis_size))\n",
        "    mat[i, j] = G\n",
        "\n",
        "    hi = -np.sum(mat[:, :, np.newaxis, np.newaxis] * rho_2_arrays[:, :, :, :], axis=(0, 1))\n",
        "\n",
        "    return (h0, hi)\n",
        "\n",
        "def solve(h, last_step = None):\n",
        "    sol = linalg.eigsh(h, which='SA',k=19)\n",
        "    eigenspace_tol = 0.0001\n",
        "    if type(last_step) != type(None):\n",
        "        # Seleccionamos todos los autovects que difieren sus autovalores menos que tol (mismo autoespacio)\n",
        "        # y tomamos la proyección en el autoespacio de la solución del paso anterior (last_step)\n",
        "        eig = sol[0].real\n",
        "        eigv = sol[1]\n",
        "        cand = [eigv[:,i].real  for (i, x) in enumerate(eig) if abs(x-min(eig)) < eigenspace_tol]\n",
        "        cand_norm = [x/np.linalg.norm(x) for x in cand]\n",
        "        fund = np.zeros(len(cand[0]))\n",
        "        for x in cand_norm:\n",
        "            fund += np.dot(last_step,x) * x\n",
        "    else:\n",
        "        argmin = np.argmin(sol[0].real)\n",
        "        fund = sol[1][:,argmin]\n",
        "    fund = fund.real / np.linalg.norm(fund)\n",
        "    return fund"
      ]
    },
    {
      "cell_type": "code",
      "execution_count": 4,
      "metadata": {},
      "outputs": [
        {
          "ename": "NameError",
          "evalue": "name 't_basis' is not defined",
          "output_type": "error",
          "traceback": [
            "\u001b[0;31m---------------------------------------------------------------------------\u001b[0m",
            "\u001b[0;31mNameError\u001b[0m                                 Traceback (most recent call last)",
            "\u001b[1;32m/home/agus/Escritorio/UNLP/FermionicML/FermionicML_thermal_2body.ipynb Cell 10\u001b[0m line \u001b[0;36m2\n\u001b[1;32m     <a href='vscode-notebook-cell:/home/agus/Escritorio/UNLP/FermionicML/FermionicML_thermal_2body.ipynb#Y233sZmlsZQ%3D%3D?line=19'>20</a>\u001b[0m     hi \u001b[39m=\u001b[39m \u001b[39m-\u001b[39mtf\u001b[39m.\u001b[39mreduce_sum(tf\u001b[39m.\u001b[39meinsum(\u001b[39m'\u001b[39m\u001b[39mij...,ijk...->...k\u001b[39m\u001b[39m'\u001b[39m, mat, rho_2_arrays), axis\u001b[39m=\u001b[39m\u001b[39m-\u001b[39m\u001b[39m1\u001b[39m)\n\u001b[1;32m     <a href='vscode-notebook-cell:/home/agus/Escritorio/UNLP/FermionicML/FermionicML_thermal_2body.ipynb#Y233sZmlsZQ%3D%3D?line=21'>22</a>\u001b[0m     \u001b[39mreturn\u001b[39;00m h0, hi\n\u001b[0;32m---> <a href='vscode-notebook-cell:/home/agus/Escritorio/UNLP/FermionicML/FermionicML_thermal_2body.ipynb#Y233sZmlsZQ%3D%3D?line=23'>24</a>\u001b[0m (h0, hi) \u001b[39m=\u001b[39m two_body_hamiltonian(t_basis\u001b[39m.\u001b[39msize, basis\u001b[39m.\u001b[39mm, \u001b[39m1.0\u001b[39m\u001b[39m*\u001b[39mnp\u001b[39m.\u001b[39marange(\u001b[39m0\u001b[39m, basis\u001b[39m.\u001b[39mm), \u001b[39m0.5\u001b[39m \u001b[39m*\u001b[39m np\u001b[39m.\u001b[39mones((m,m)), rho_1_arrays_tf, rho_2_arrays_tf)\n\u001b[1;32m     <a href='vscode-notebook-cell:/home/agus/Escritorio/UNLP/FermionicML/FermionicML_thermal_2body.ipynb#Y233sZmlsZQ%3D%3D?line=24'>25</a>\u001b[0m (h02, hi2) \u001b[39m=\u001b[39m two_body_hamiltonian_tf(t_basis\u001b[39m.\u001b[39msize, basis\u001b[39m.\u001b[39mm, tf\u001b[39m.\u001b[39mconstant(\u001b[39m1.0\u001b[39m\u001b[39m*\u001b[39mnp\u001b[39m.\u001b[39marange(\u001b[39m0\u001b[39m, basis\u001b[39m.\u001b[39mm), dtype\u001b[39m=\u001b[39mtf\u001b[39m.\u001b[39mfloat32), tf\u001b[39m.\u001b[39mconstant(\u001b[39m0.5\u001b[39m \u001b[39m*\u001b[39m np\u001b[39m.\u001b[39mones((m,m)), dtype\u001b[39m=\u001b[39mtf\u001b[39m.\u001b[39mfloat32), rho_1_arrays_tf, rho_2_arrays_tf)\n",
            "\u001b[0;31mNameError\u001b[0m: name 't_basis' is not defined"
          ]
        }
      ],
      "source": [
        "def two_body_hamiltonian_tf(t_basis_size, m, energy, G, rho_1_arrays, rho_2_arrays):\n",
        "    eps = 1e-8  # Add a small epsilon to avoid potential numerical issues\n",
        "    \n",
        "    # Convert NumPy arrays to TensorFlow tensors\n",
        "    energy_matrix = tf.linalg.diag(tf.concat([energy, energy], axis=0)) + eps * tf.random.normal((2 * m, 2 * m))\n",
        "\n",
        "    # Construct the energy matrix\n",
        "    h0 = tf.reduce_sum(tf.einsum('ij,jk...->...k', energy_matrix, rho_1_arrays), axis=-1)\n",
        "\n",
        "    # Determine indices of pairs kkbar\n",
        "    offset = 4 * m + 1\n",
        "    indices = [-(k - 1) * (2 * k - offset) for k in range(1, m + 1)]\n",
        "    i, j = tf.meshgrid(indices, indices, indexing='ij')\n",
        "\n",
        "    # Construct the matrix for contraction with rho_2_arrays\n",
        "    updates = tf.reshape(G, [-1])\n",
        "    indices = tf.reshape(tf.stack([i, j], axis=-1), [-1, 2])\n",
        "    mat = tf.tensor_scatter_nd_add(tf.zeros((t_basis_size, t_basis_size)), indices, updates)\n",
        "\n",
        "    hi = -tf.reduce_sum(tf.einsum('ij...,ijk...->...k', mat, rho_2_arrays), axis=-1)\n",
        "\n",
        "    return h0, hi\n",
        "\n",
        "(h0, hi) = two_body_hamiltonian(t_basis.size, basis.m, 1.0*np.arange(0, basis.m), 0.5 * np.ones((m,m)), rho_1_arrays_tf, rho_2_arrays_tf)\n",
        "(h02, hi2) = two_body_hamiltonian_tf(t_basis.size, basis.m, tf.constant(1.0*np.arange(0, basis.m), dtype=tf.float32), tf.constant(0.5 * np.ones((m,m)), dtype=tf.float32), rho_1_arrays_tf, rho_2_arrays_tf)\n"
      ]
    },
    {
      "cell_type": "markdown",
      "metadata": {
        "id": "emVBTg2QD-Fg"
      },
      "source": [
        "## Modelo de ML\n",
        "Basado en matrices densidad de 1 y 2 cuerpos como input, con hamiltoniano como salida"
      ]
    },
    {
      "cell_type": "code",
      "execution_count": 5,
      "metadata": {
        "id": "aF_Ec_mCGX96"
      },
      "outputs": [
        {
          "name": "stderr",
          "output_type": "stream",
          "text": [
            "2023-12-06 20:15:38.997154: I tensorflow/core/util/port.cc:111] oneDNN custom operations are on. You may see slightly different numerical results due to floating-point round-off errors from different computation orders. To turn them off, set the environment variable `TF_ENABLE_ONEDNN_OPTS=0`.\n",
            "2023-12-06 20:15:39.048096: E tensorflow/compiler/xla/stream_executor/cuda/cuda_dnn.cc:9342] Unable to register cuDNN factory: Attempting to register factory for plugin cuDNN when one has already been registered\n",
            "2023-12-06 20:15:39.048133: E tensorflow/compiler/xla/stream_executor/cuda/cuda_fft.cc:609] Unable to register cuFFT factory: Attempting to register factory for plugin cuFFT when one has already been registered\n",
            "2023-12-06 20:15:39.048179: E tensorflow/compiler/xla/stream_executor/cuda/cuda_blas.cc:1518] Unable to register cuBLAS factory: Attempting to register factory for plugin cuBLAS when one has already been registered\n",
            "2023-12-06 20:15:39.057240: I tensorflow/core/platform/cpu_feature_guard.cc:182] This TensorFlow binary is optimized to use available CPU instructions in performance-critical operations.\n",
            "To enable the following instructions: AVX2 AVX512F AVX512_VNNI FMA, in other operations, rebuild TensorFlow with the appropriate compiler flags.\n",
            "2023-12-06 20:15:41.868656: I tensorflow/core/common_runtime/gpu/gpu_device.cc:1886] Created device /device:GPU:0 with 20609 MB memory:  -> device: 0, name: NVIDIA L4, pci bus id: 0000:00:03.0, compute capability: 8.9\n"
          ]
        },
        {
          "data": {
            "text/plain": [
              "'/device:GPU:0'"
            ]
          },
          "execution_count": 5,
          "metadata": {},
          "output_type": "execute_result"
        }
      ],
      "source": [
        "import tensorflow as tf\n",
        "import numpy as np\n",
        "tf.test.gpu_device_name()\n"
      ]
    },
    {
      "cell_type": "code",
      "execution_count": 6,
      "metadata": {
        "colab": {
          "base_uri": "https://localhost:8080/"
        },
        "id": "mJDoa6LUJJ8O",
        "outputId": "73481454-fbcb-469f-d72f-cd0f8d534808"
      },
      "outputs": [
        {
          "name": "stdout",
          "output_type": "stream",
          "text": [
            "15\n",
            "[[1 0 0 0 0 0]\n",
            " [0 1 0 0 0 0]\n",
            " [0 0 1 0 0 0]\n",
            " [0 0 0 1 0 0]\n",
            " [0 0 0 0 1 0]\n",
            " [0 0 0 0 0 1]]\n",
            "6\n",
            "[[1 0 0 0 0 0]\n",
            " [0 1 0 0 0 0]\n",
            " [0 0 1 0 0 0]\n",
            " [0 0 0 1 0 0]\n",
            " [0 0 0 0 1 0]\n",
            " [0 0 0 0 0 1]]\n"
          ]
        }
      ],
      "source": [
        "# Construccion de bases para calculo de rho1 y rho2\n",
        "# rho2\n",
        "m = 2\n",
        "m2_basis = fixed_basis(m, d)\n",
        "print(m2_basis.size)\n",
        "nm2_basis = fixed_basis(basis.m-m, d)\n",
        "print(nm2_basis.base)\n",
        "t_basis = fixed_basis(2, basis.d)\n",
        "# rho1\n",
        "m = 1\n",
        "m1_basis = fixed_basis(m, d)\n",
        "print(m1_basis.size)\n",
        "print(m1_basis.base)\n",
        "nm1_basis = fixed_basis(basis.m-m, d)\n"
      ]
    },
    {
      "cell_type": "markdown",
      "metadata": {
        "id": "oapxWkD16fHg"
      },
      "source": [
        "### Algunos benchmarks y funciones auxiliares"
      ]
    },
    {
      "cell_type": "code",
      "execution_count": 7,
      "metadata": {
        "id": "umCIrxCZKXQd"
      },
      "outputs": [],
      "source": [
        "# Given h calculo en rho2 y rho1 máximo\n",
        "def rho1_rho2(h, beta):\n",
        "    fund = thermal_state(h, beta)\n",
        "    rho2 = np.array(rho_2(basis, m2_basis.size, state, rho_2_arrays))\n",
        "    r = np.sort(linalg_d.eigvals(rho2).real)\n",
        "    rho_2_max = r[0]\n",
        "    rho1 = np.array(rho_1(basis, state, rho_1_arrays))\n",
        "    r = np.sort(linalg_d.eigvals(rho1).real)\n",
        "    rho_1_max = r[0]\n",
        "\n",
        "    return (rho_1_max, rho_2_max)\n",
        "\n",
        "def fill_triangular_np(x):\n",
        "    m = x.shape[0]\n",
        "    n = np.int32(np.sqrt(.25 + 2 * m) - .5)\n",
        "    x_tail = x[(m - (n**2 - m)):]\n",
        "    return np.triu(np.concatenate([x, x_tail[::-1]], 0).reshape(n, n))\n"
      ]
    },
    {
      "cell_type": "code",
      "execution_count": 8,
      "metadata": {
        "id": "QaNnIIc5bZux"
      },
      "outputs": [],
      "source": [
        "# TEST: Las funciones de TF y comunes coinciden\n",
        "\n",
        "# Dado h, \\beta, construyo el estado térmico\n",
        "from scipy.linalg import expm\n",
        "\n",
        "def thermal_state(h, beta):\n",
        "    quotient = expm(-beta*h)\n",
        "    return quotient / np.trace(quotient)\n",
        "\n",
        "## NO usar para mat no hermiticas\n",
        "@nb.jit(nopython=True)\n",
        "def thermal_state_eig(h, beta):\n",
        "    w, v = np.linalg.eigh(-beta*h)\n",
        "    D = np.diag(np.exp(w))\n",
        "    mat = v @ D @ v.T\n",
        "    mat = mat / np.trace(mat)\n",
        "    return mat\n",
        "    \n",
        "def gen_to_h(base, rho_1_arrays):\n",
        "    triag = fill_triangular_np(base)\n",
        "    body_gen = triag + np.transpose(triag)-np.diag(np.diag(triag))\n",
        "    h = np.array(base_hamiltonian(body_gen, basis, rho_1_arrays))  \n",
        "    return h \n",
        "\n",
        "def gen_to_h_1b(hamil_base):\n",
        "    triag = tfp.math.fill_triangular(hamil_base, upper=True)\n",
        "    body_gen = triag + tf.transpose(triag, perm=[0,2,1])-tf.linalg.diag(tf.linalg.diag_part(triag))\n",
        "    return body_gen\n",
        "\n",
        "def gen_to_h_tf(hamil_base, rho_1_arrays):\n",
        "    triag = tfp.math.fill_triangular(hamil_base, upper=True)\n",
        "    body_gen = triag + tf.transpose(triag, perm=[0,2,1])-tf.linalg.diag(tf.linalg.diag_part(triag)) # Simetrizamos y generamos la matriz de h\n",
        "    hamil_expanded = body_gen[:, :, :, np.newaxis, np.newaxis]\n",
        "    rho_1_gen_transposed = tf.transpose(rho_1_arrays, perm=[1, 0, 2, 3])\n",
        "    h_arr = tf.reduce_sum(hamil_expanded * rho_1_gen_transposed[np.newaxis,:,:,:,:], axis=[1,2])\n",
        "    return h_arr\n",
        "\n",
        "def thermal_state_tf(h):\n",
        "    # Assume beta=1\n",
        "    exp_hamiltonian = tf.linalg.expm(-h)\n",
        "    partition_function = tf.linalg.trace(exp_hamiltonian)\n",
        "    partition_function = tf.expand_dims(partition_function, axis=1)\n",
        "    partition_function = tf.expand_dims(partition_function, axis=1)\n",
        "    \n",
        "    rho = exp_hamiltonian / partition_function\n",
        "\n",
        "    return rho\n",
        "\n",
        "def rho_1_tf(state, rho_1_arrays):\n",
        "    state = tf.expand_dims(state, axis=1)  # Shape: (5120, 10, 1, 10)\n",
        "    state_expanded = tf.expand_dims(state, axis=1)\n",
        "    rho_1_arrays_expanded = tf.expand_dims(rho_1_arrays, axis=0)  # Shape: (1, 5, 5, 10, 10)\n",
        "    product = state_expanded * rho_1_arrays_expanded  # Shape: (5120, 10, 5, 10, 10)\n",
        "    mat = tf.reduce_sum(product, axis=[-2, -1])  # Shape: (5120, 5, 5)\n",
        "    \n",
        "    return mat\n",
        "\n",
        "def rho_2_tf(state, rho_2_arrays):\n",
        "    state = tf.expand_dims(state, axis=1)  # Shape: (5120, 10, 1, 10)\n",
        "    state_expanded = tf.expand_dims(state, axis=1)\n",
        "    rho_2_arrays_expanded = tf.expand_dims(rho_2_arrays, axis=0)  # Shape: (1, 5, 5, 10, 10)\n",
        "    product = state_expanded * rho_2_arrays_expanded  # Shape: (5120, 10, 5, 10, 10)\n",
        "    mat = tf.reduce_sum(product, axis=[-2, -1])  # Shape: (5120, 5, 5)\n",
        "    \n",
        "    return mat\n",
        "\n",
        "# NOTA: para calcular el bloque rho2kkbar, utilizar en lugar\n",
        "\n",
        "def rho_1_gc_tf(hamil_base):\n",
        "    e, v = tf.linalg.eigh(gen_to_h_1b(hamil_base))\n",
        "    result = 1 / (1 + tf.exp(e))\n",
        "    result = tf.linalg.diag(result)\n",
        "    res = tf.linalg.matmul(v,result)\n",
        "    res = tf.linalg.matmul(res,v,adjoint_b=True)\n",
        "    \n",
        "    return tf.cast(res, tf.float32)\n",
        "\n",
        "# Aux function\n",
        "def outer_product(vector):\n",
        "    return tf.einsum('i,j->ij', vector, vector)\n",
        "\n",
        "def pure_state(h):\n",
        "    e, v = tf.linalg.eigh(h)\n",
        "    fund = v[:,:,0]\n",
        "    d = tf.map_fn(outer_product, fund)\n",
        "    return d\n",
        "    "
      ]
    },
    {
      "cell_type": "markdown",
      "metadata": {
        "id": "ylpy_BCw6jxF"
      },
      "source": [
        "### Construccion de dataset"
      ]
    },
    {
      "cell_type": "markdown",
      "metadata": {},
      "source": [
        "#### Version sincrónica"
      ]
    },
    {
      "cell_type": "code",
      "execution_count": 43,
      "metadata": {
        "colab": {
          "base_uri": "https://localhost:8080/"
        },
        "id": "2is_Eo_qGpEz",
        "outputId": "9a968190-59f2-4695-ef18-b99ff5b4a212"
      },
      "outputs": [
        {
          "name": "stderr",
          "output_type": "stream",
          "text": [
            "2023-12-06 22:30:33.135435: I tensorflow/core/common_runtime/gpu/gpu_device.cc:1886] Created device /device:GPU:0 with 20609 MB memory:  -> device: 0, name: NVIDIA L4, pci bus id: 0000:00:03.0, compute capability: 8.9\n"
          ]
        },
        {
          "name": "stdout",
          "output_type": "stream",
          "text": [
            "/device:GPU:0\n"
          ]
        },
        {
          "name": "stderr",
          "output_type": "stream",
          "text": [
            "100%|██████████████████████████████████████████████████████████████████████████████████████████████████████████████████████████████████████████████████████████████████████████████| 49/49 [00:01<00:00, 33.16it/s]\n",
            "2023-12-06 22:30:34.633969: I tensorflow/core/common_runtime/gpu/gpu_device.cc:1886] Created device /device:GPU:0 with 20609 MB memory:  -> device: 0, name: NVIDIA L4, pci bus id: 0000:00:03.0, compute capability: 8.9\n"
          ]
        },
        {
          "name": "stdout",
          "output_type": "stream",
          "text": [
            "/device:GPU:0\n"
          ]
        },
        {
          "name": "stderr",
          "output_type": "stream",
          "text": [
            "100%|██████████████████████████████████████████████████████████████████████████████████████████████████████████████████████████████████████████████████████████████████████████████| 49/49 [00:01<00:00, 33.49it/s]\n",
            "2023-12-06 22:30:36.117263: I tensorflow/core/common_runtime/gpu/gpu_device.cc:1886] Created device /device:GPU:0 with 20609 MB memory:  -> device: 0, name: NVIDIA L4, pci bus id: 0000:00:03.0, compute capability: 8.9\n"
          ]
        },
        {
          "name": "stdout",
          "output_type": "stream",
          "text": [
            "/device:GPU:0\n"
          ]
        },
        {
          "name": "stderr",
          "output_type": "stream",
          "text": [
            "100%|██████████████████████████████████████████████████████████████████████████████████████████████████████████████████████████████████████████████████████████████████████████████| 49/49 [00:01<00:00, 33.36it/s]\n",
            "2023-12-06 22:30:37.605790: I tensorflow/core/common_runtime/gpu/gpu_device.cc:1886] Created device /device:GPU:0 with 20609 MB memory:  -> device: 0, name: NVIDIA L4, pci bus id: 0000:00:03.0, compute capability: 8.9\n"
          ]
        },
        {
          "name": "stdout",
          "output_type": "stream",
          "text": [
            "/device:GPU:0\n"
          ]
        },
        {
          "name": "stderr",
          "output_type": "stream",
          "text": [
            "100%|██████████████████████████████████████████████████████████████████████████████████████████████████████████████████████████████████████████████████████████████████████████████| 49/49 [00:01<00:00, 33.15it/s]\n",
            "2023-12-06 22:30:39.104883: I tensorflow/core/common_runtime/gpu/gpu_device.cc:1886] Created device /device:GPU:0 with 20609 MB memory:  -> device: 0, name: NVIDIA L4, pci bus id: 0000:00:03.0, compute capability: 8.9\n"
          ]
        },
        {
          "name": "stdout",
          "output_type": "stream",
          "text": [
            "/device:GPU:0\n"
          ]
        },
        {
          "name": "stderr",
          "output_type": "stream",
          "text": [
            "100%|██████████████████████████████████████████████████████████████████████████████████████████████████████████████████████████████████████████████████████████████████████████████| 49/49 [00:01<00:00, 33.66it/s]\n",
            "2023-12-06 22:30:40.580465: I tensorflow/core/common_runtime/gpu/gpu_device.cc:1886] Created device /device:GPU:0 with 20609 MB memory:  -> device: 0, name: NVIDIA L4, pci bus id: 0000:00:03.0, compute capability: 8.9\n"
          ]
        },
        {
          "name": "stdout",
          "output_type": "stream",
          "text": [
            "/device:GPU:0\n"
          ]
        },
        {
          "name": "stderr",
          "output_type": "stream",
          "text": [
            "100%|██████████████████████████████████████████████████████████████████████████████████████████████████████████████████████████████████████████████████████████████████████████████| 49/49 [00:01<00:00, 33.62it/s]\n",
            "2023-12-06 22:30:42.057508: I tensorflow/core/common_runtime/gpu/gpu_device.cc:1886] Created device /device:GPU:0 with 20609 MB memory:  -> device: 0, name: NVIDIA L4, pci bus id: 0000:00:03.0, compute capability: 8.9\n"
          ]
        },
        {
          "name": "stdout",
          "output_type": "stream",
          "text": [
            "/device:GPU:0\n"
          ]
        },
        {
          "name": "stderr",
          "output_type": "stream",
          "text": [
            "100%|██████████████████████████████████████████████████████████████████████████████████████████████████████████████████████████████████████████████████████████████████████████████| 49/49 [00:01<00:00, 33.64it/s]\n",
            "2023-12-06 22:30:43.533519: I tensorflow/core/common_runtime/gpu/gpu_device.cc:1886] Created device /device:GPU:0 with 20609 MB memory:  -> device: 0, name: NVIDIA L4, pci bus id: 0000:00:03.0, compute capability: 8.9\n"
          ]
        },
        {
          "name": "stdout",
          "output_type": "stream",
          "text": [
            "/device:GPU:0\n"
          ]
        },
        {
          "name": "stderr",
          "output_type": "stream",
          "text": [
            "100%|██████████████████████████████████████████████████████████████████████████████████████████████████████████████████████████████████████████████████████████████████████████████| 49/49 [00:01<00:00, 33.67it/s]\n",
            "2023-12-06 22:30:45.008498: I tensorflow/core/common_runtime/gpu/gpu_device.cc:1886] Created device /device:GPU:0 with 20609 MB memory:  -> device: 0, name: NVIDIA L4, pci bus id: 0000:00:03.0, compute capability: 8.9\n"
          ]
        },
        {
          "name": "stdout",
          "output_type": "stream",
          "text": [
            "/device:GPU:0\n"
          ]
        },
        {
          "name": "stderr",
          "output_type": "stream",
          "text": [
            "100%|██████████████████████████████████████████████████████████████████████████████████████████████████████████████████████████████████████████████████████████████████████████████| 49/49 [00:01<00:00, 33.82it/s]\n",
            "2023-12-06 22:30:46.476833: I tensorflow/core/common_runtime/gpu/gpu_device.cc:1886] Created device /device:GPU:0 with 20609 MB memory:  -> device: 0, name: NVIDIA L4, pci bus id: 0000:00:03.0, compute capability: 8.9\n"
          ]
        },
        {
          "name": "stdout",
          "output_type": "stream",
          "text": [
            "/device:GPU:0\n"
          ]
        },
        {
          "name": "stderr",
          "output_type": "stream",
          "text": [
            "100%|██████████████████████████████████████████████████████████████████████████████████████████████████████████████████████████████████████████████████████████████████████████████| 49/49 [00:01<00:00, 33.31it/s]\n",
            "2023-12-06 22:30:47.967987: I tensorflow/core/common_runtime/gpu/gpu_device.cc:1886] Created device /device:GPU:0 with 20609 MB memory:  -> device: 0, name: NVIDIA L4, pci bus id: 0000:00:03.0, compute capability: 8.9\n"
          ]
        },
        {
          "name": "stdout",
          "output_type": "stream",
          "text": [
            "/device:GPU:0\n"
          ]
        },
        {
          "name": "stderr",
          "output_type": "stream",
          "text": [
            "100%|██████████████████████████████████████████████████████████████████████████████████████████████████████████████████████████████████████████████████████████████████████████████| 49/49 [00:01<00:00, 33.39it/s]\n",
            "2023-12-06 22:30:49.455904: I tensorflow/core/common_runtime/gpu/gpu_device.cc:1886] Created device /device:GPU:0 with 20609 MB memory:  -> device: 0, name: NVIDIA L4, pci bus id: 0000:00:03.0, compute capability: 8.9\n"
          ]
        },
        {
          "name": "stdout",
          "output_type": "stream",
          "text": [
            "/device:GPU:0\n"
          ]
        },
        {
          "name": "stderr",
          "output_type": "stream",
          "text": [
            "100%|██████████████████████████████████████████████████████████████████████████████████████████████████████████████████████████████████████████████████████████████████████████████| 49/49 [00:01<00:00, 33.45it/s]\n",
            "2023-12-06 22:30:50.941005: I tensorflow/core/common_runtime/gpu/gpu_device.cc:1886] Created device /device:GPU:0 with 20609 MB memory:  -> device: 0, name: NVIDIA L4, pci bus id: 0000:00:03.0, compute capability: 8.9\n"
          ]
        },
        {
          "name": "stdout",
          "output_type": "stream",
          "text": [
            "/device:GPU:0\n"
          ]
        },
        {
          "name": "stderr",
          "output_type": "stream",
          "text": [
            "100%|██████████████████████████████████████████████████████████████████████████████████████████████████████████████████████████████████████████████████████████████████████████████| 49/49 [00:01<00:00, 32.75it/s]\n",
            "2023-12-06 22:30:52.457551: I tensorflow/core/common_runtime/gpu/gpu_device.cc:1886] Created device /device:GPU:0 with 20609 MB memory:  -> device: 0, name: NVIDIA L4, pci bus id: 0000:00:03.0, compute capability: 8.9\n"
          ]
        },
        {
          "name": "stdout",
          "output_type": "stream",
          "text": [
            "/device:GPU:0\n"
          ]
        },
        {
          "name": "stderr",
          "output_type": "stream",
          "text": [
            "100%|██████████████████████████████████████████████████████████████████████████████████████████████████████████████████████████████████████████████████████████████████████████████| 49/49 [00:01<00:00, 33.98it/s]\n",
            "2023-12-06 22:30:53.919626: I tensorflow/core/common_runtime/gpu/gpu_device.cc:1886] Created device /device:GPU:0 with 20609 MB memory:  -> device: 0, name: NVIDIA L4, pci bus id: 0000:00:03.0, compute capability: 8.9\n"
          ]
        },
        {
          "name": "stdout",
          "output_type": "stream",
          "text": [
            "/device:GPU:0\n"
          ]
        },
        {
          "name": "stderr",
          "output_type": "stream",
          "text": [
            "100%|██████████████████████████████████████████████████████████████████████████████████████████████████████████████████████████████████████████████████████████████████████████████| 49/49 [00:01<00:00, 33.67it/s]\n",
            "2023-12-06 22:30:55.394941: I tensorflow/core/common_runtime/gpu/gpu_device.cc:1886] Created device /device:GPU:0 with 20609 MB memory:  -> device: 0, name: NVIDIA L4, pci bus id: 0000:00:03.0, compute capability: 8.9\n"
          ]
        },
        {
          "name": "stdout",
          "output_type": "stream",
          "text": [
            "/device:GPU:0\n"
          ]
        },
        {
          "name": "stderr",
          "output_type": "stream",
          "text": [
            "100%|██████████████████████████████████████████████████████████████████████████████████████████████████████████████████████████████████████████████████████████████████████████████| 49/49 [00:01<00:00, 33.16it/s]\n",
            "2023-12-06 22:30:56.893155: I tensorflow/core/common_runtime/gpu/gpu_device.cc:1886] Created device /device:GPU:0 with 20609 MB memory:  -> device: 0, name: NVIDIA L4, pci bus id: 0000:00:03.0, compute capability: 8.9\n"
          ]
        },
        {
          "name": "stdout",
          "output_type": "stream",
          "text": [
            "/device:GPU:0\n"
          ]
        },
        {
          "name": "stderr",
          "output_type": "stream",
          "text": [
            "100%|██████████████████████████████████████████████████████████████████████████████████████████████████████████████████████████████████████████████████████████████████████████████| 49/49 [00:01<00:00, 33.56it/s]\n",
            "2023-12-06 22:30:58.373540: I tensorflow/core/common_runtime/gpu/gpu_device.cc:1886] Created device /device:GPU:0 with 20609 MB memory:  -> device: 0, name: NVIDIA L4, pci bus id: 0000:00:03.0, compute capability: 8.9\n"
          ]
        },
        {
          "name": "stdout",
          "output_type": "stream",
          "text": [
            "/device:GPU:0\n"
          ]
        },
        {
          "name": "stderr",
          "output_type": "stream",
          "text": [
            "100%|██████████████████████████████████████████████████████████████████████████████████████████████████████████████████████████████████████████████████████████████████████████████| 49/49 [00:01<00:00, 33.35it/s]\n",
            "2023-12-06 22:30:59.863207: I tensorflow/core/common_runtime/gpu/gpu_device.cc:1886] Created device /device:GPU:0 with 20609 MB memory:  -> device: 0, name: NVIDIA L4, pci bus id: 0000:00:03.0, compute capability: 8.9\n"
          ]
        },
        {
          "name": "stdout",
          "output_type": "stream",
          "text": [
            "/device:GPU:0\n"
          ]
        },
        {
          "name": "stderr",
          "output_type": "stream",
          "text": [
            "100%|██████████████████████████████████████████████████████████████████████████████████████████████████████████████████████████████████████████████████████████████████████████████| 49/49 [00:01<00:00, 33.42it/s]\n",
            "2023-12-06 22:31:01.349704: I tensorflow/core/common_runtime/gpu/gpu_device.cc:1886] Created device /device:GPU:0 with 20609 MB memory:  -> device: 0, name: NVIDIA L4, pci bus id: 0000:00:03.0, compute capability: 8.9\n"
          ]
        },
        {
          "name": "stdout",
          "output_type": "stream",
          "text": [
            "/device:GPU:0\n"
          ]
        },
        {
          "name": "stderr",
          "output_type": "stream",
          "text": [
            "100%|██████████████████████████████████████████████████████████████████████████████████████████████████████████████████████████████████████████████████████████████████████████████| 49/49 [00:01<00:00, 32.95it/s]\n",
            "2023-12-06 22:31:02.857133: I tensorflow/core/common_runtime/gpu/gpu_device.cc:1886] Created device /device:GPU:0 with 20609 MB memory:  -> device: 0, name: NVIDIA L4, pci bus id: 0000:00:03.0, compute capability: 8.9\n"
          ]
        },
        {
          "name": "stdout",
          "output_type": "stream",
          "text": [
            "/device:GPU:0\n"
          ]
        },
        {
          "name": "stderr",
          "output_type": "stream",
          "text": [
            "100%|██████████████████████████████████████████████████████████████████████████████████████████████████████████████████████████████████████████████████████████████████████████████| 49/49 [00:01<00:00, 33.07it/s]\n",
            "2023-12-06 22:31:04.358655: I tensorflow/core/common_runtime/gpu/gpu_device.cc:1886] Created device /device:GPU:0 with 20609 MB memory:  -> device: 0, name: NVIDIA L4, pci bus id: 0000:00:03.0, compute capability: 8.9\n"
          ]
        },
        {
          "name": "stdout",
          "output_type": "stream",
          "text": [
            "/device:GPU:0\n"
          ]
        },
        {
          "name": "stderr",
          "output_type": "stream",
          "text": [
            "100%|██████████████████████████████████████████████████████████████████████████████████████████████████████████████████████████████████████████████████████████████████████████████| 49/49 [00:01<00:00, 33.53it/s]\n",
            "2023-12-06 22:31:05.839879: I tensorflow/core/common_runtime/gpu/gpu_device.cc:1886] Created device /device:GPU:0 with 20609 MB memory:  -> device: 0, name: NVIDIA L4, pci bus id: 0000:00:03.0, compute capability: 8.9\n"
          ]
        },
        {
          "name": "stdout",
          "output_type": "stream",
          "text": [
            "/device:GPU:0\n"
          ]
        },
        {
          "name": "stderr",
          "output_type": "stream",
          "text": [
            "100%|██████████████████████████████████████████████████████████████████████████████████████████████████████████████████████████████████████████████████████████████████████████████| 49/49 [00:01<00:00, 32.99it/s]\n",
            "2023-12-06 22:31:07.345549: I tensorflow/core/common_runtime/gpu/gpu_device.cc:1886] Created device /device:GPU:0 with 20609 MB memory:  -> device: 0, name: NVIDIA L4, pci bus id: 0000:00:03.0, compute capability: 8.9\n"
          ]
        },
        {
          "name": "stdout",
          "output_type": "stream",
          "text": [
            "/device:GPU:0\n"
          ]
        },
        {
          "name": "stderr",
          "output_type": "stream",
          "text": [
            "100%|██████████████████████████████████████████████████████████████████████████████████████████████████████████████████████████████████████████████████████████████████████████████| 49/49 [00:01<00:00, 33.29it/s]\n",
            "2023-12-06 22:31:08.838318: I tensorflow/core/common_runtime/gpu/gpu_device.cc:1886] Created device /device:GPU:0 with 20609 MB memory:  -> device: 0, name: NVIDIA L4, pci bus id: 0000:00:03.0, compute capability: 8.9\n"
          ]
        },
        {
          "name": "stdout",
          "output_type": "stream",
          "text": [
            "/device:GPU:0\n"
          ]
        },
        {
          "name": "stderr",
          "output_type": "stream",
          "text": [
            "100%|██████████████████████████████████████████████████████████████████████████████████████████████████████████████████████████████████████████████████████████████████████████████| 49/49 [00:01<00:00, 33.35it/s]\n",
            "2023-12-06 22:31:10.328796: I tensorflow/core/common_runtime/gpu/gpu_device.cc:1886] Created device /device:GPU:0 with 20609 MB memory:  -> device: 0, name: NVIDIA L4, pci bus id: 0000:00:03.0, compute capability: 8.9\n"
          ]
        },
        {
          "name": "stdout",
          "output_type": "stream",
          "text": [
            "/device:GPU:0\n"
          ]
        },
        {
          "name": "stderr",
          "output_type": "stream",
          "text": [
            "100%|██████████████████████████████████████████████████████████████████████████████████████████████████████████████████████████████████████████████████████████████████████████████| 49/49 [00:01<00:00, 33.12it/s]\n",
            "2023-12-06 22:31:11.828471: I tensorflow/core/common_runtime/gpu/gpu_device.cc:1886] Created device /device:GPU:0 with 20609 MB memory:  -> device: 0, name: NVIDIA L4, pci bus id: 0000:00:03.0, compute capability: 8.9\n"
          ]
        },
        {
          "name": "stdout",
          "output_type": "stream",
          "text": [
            "/device:GPU:0\n"
          ]
        },
        {
          "name": "stderr",
          "output_type": "stream",
          "text": [
            "100%|██████████████████████████████████████████████████████████████████████████████████████████████████████████████████████████████████████████████████████████████████████████████| 49/49 [00:01<00:00, 32.85it/s]\n",
            "2023-12-06 22:31:13.340235: I tensorflow/core/common_runtime/gpu/gpu_device.cc:1886] Created device /device:GPU:0 with 20609 MB memory:  -> device: 0, name: NVIDIA L4, pci bus id: 0000:00:03.0, compute capability: 8.9\n"
          ]
        },
        {
          "name": "stdout",
          "output_type": "stream",
          "text": [
            "/device:GPU:0\n"
          ]
        },
        {
          "name": "stderr",
          "output_type": "stream",
          "text": [
            "100%|██████████████████████████████████████████████████████████████████████████████████████████████████████████████████████████████████████████████████████████████████████████████| 49/49 [00:01<00:00, 33.22it/s]\n",
            "2023-12-06 22:31:14.835526: I tensorflow/core/common_runtime/gpu/gpu_device.cc:1886] Created device /device:GPU:0 with 20609 MB memory:  -> device: 0, name: NVIDIA L4, pci bus id: 0000:00:03.0, compute capability: 8.9\n"
          ]
        },
        {
          "name": "stdout",
          "output_type": "stream",
          "text": [
            "/device:GPU:0\n"
          ]
        },
        {
          "name": "stderr",
          "output_type": "stream",
          "text": [
            "100%|██████████████████████████████████████████████████████████████████████████████████████████████████████████████████████████████████████████████████████████████████████████████| 49/49 [00:01<00:00, 33.60it/s]\n",
            "2023-12-06 22:31:16.314175: I tensorflow/core/common_runtime/gpu/gpu_device.cc:1886] Created device /device:GPU:0 with 20609 MB memory:  -> device: 0, name: NVIDIA L4, pci bus id: 0000:00:03.0, compute capability: 8.9\n"
          ]
        },
        {
          "name": "stdout",
          "output_type": "stream",
          "text": [
            "/device:GPU:0\n"
          ]
        },
        {
          "name": "stderr",
          "output_type": "stream",
          "text": [
            "100%|██████████████████████████████████████████████████████████████████████████████████████████████████████████████████████████████████████████████████████████████████████████████| 49/49 [00:01<00:00, 33.65it/s]\n",
            "2023-12-06 22:31:17.790770: I tensorflow/core/common_runtime/gpu/gpu_device.cc:1886] Created device /device:GPU:0 with 20609 MB memory:  -> device: 0, name: NVIDIA L4, pci bus id: 0000:00:03.0, compute capability: 8.9\n"
          ]
        },
        {
          "name": "stdout",
          "output_type": "stream",
          "text": [
            "/device:GPU:0\n"
          ]
        },
        {
          "name": "stderr",
          "output_type": "stream",
          "text": [
            "100%|██████████████████████████████████████████████████████████████████████████████████████████████████████████████████████████████████████████████████████████████████████████████| 49/49 [00:01<00:00, 33.71it/s]\n",
            "2023-12-06 22:31:19.265171: I tensorflow/core/common_runtime/gpu/gpu_device.cc:1886] Created device /device:GPU:0 with 20609 MB memory:  -> device: 0, name: NVIDIA L4, pci bus id: 0000:00:03.0, compute capability: 8.9\n"
          ]
        },
        {
          "name": "stdout",
          "output_type": "stream",
          "text": [
            "/device:GPU:0\n"
          ]
        },
        {
          "name": "stderr",
          "output_type": "stream",
          "text": [
            "100%|██████████████████████████████████████████████████████████████████████████████████████████████████████████████████████████████████████████████████████████████████████████████| 49/49 [00:01<00:00, 33.98it/s]\n",
            "2023-12-06 22:31:20.727093: I tensorflow/core/common_runtime/gpu/gpu_device.cc:1886] Created device /device:GPU:0 with 20609 MB memory:  -> device: 0, name: NVIDIA L4, pci bus id: 0000:00:03.0, compute capability: 8.9\n"
          ]
        },
        {
          "name": "stdout",
          "output_type": "stream",
          "text": [
            "/device:GPU:0\n"
          ]
        },
        {
          "name": "stderr",
          "output_type": "stream",
          "text": [
            "100%|██████████████████████████████████████████████████████████████████████████████████████████████████████████████████████████████████████████████████████████████████████████████| 49/49 [00:01<00:00, 34.05it/s]\n",
            "2023-12-06 22:31:22.185613: I tensorflow/core/common_runtime/gpu/gpu_device.cc:1886] Created device /device:GPU:0 with 20609 MB memory:  -> device: 0, name: NVIDIA L4, pci bus id: 0000:00:03.0, compute capability: 8.9\n"
          ]
        },
        {
          "name": "stdout",
          "output_type": "stream",
          "text": [
            "/device:GPU:0\n"
          ]
        },
        {
          "name": "stderr",
          "output_type": "stream",
          "text": [
            "100%|██████████████████████████████████████████████████████████████████████████████████████████████████████████████████████████████████████████████████████████████████████████████| 49/49 [00:01<00:00, 33.85it/s]\n",
            "2023-12-06 22:31:23.652455: I tensorflow/core/common_runtime/gpu/gpu_device.cc:1886] Created device /device:GPU:0 with 20609 MB memory:  -> device: 0, name: NVIDIA L4, pci bus id: 0000:00:03.0, compute capability: 8.9\n"
          ]
        },
        {
          "name": "stdout",
          "output_type": "stream",
          "text": [
            "/device:GPU:0\n"
          ]
        },
        {
          "name": "stderr",
          "output_type": "stream",
          "text": [
            "100%|██████████████████████████████████████████████████████████████████████████████████████████████████████████████████████████████████████████████████████████████████████████████| 49/49 [00:01<00:00, 33.67it/s]\n",
            "2023-12-06 22:31:25.127522: I tensorflow/core/common_runtime/gpu/gpu_device.cc:1886] Created device /device:GPU:0 with 20609 MB memory:  -> device: 0, name: NVIDIA L4, pci bus id: 0000:00:03.0, compute capability: 8.9\n"
          ]
        },
        {
          "name": "stdout",
          "output_type": "stream",
          "text": [
            "/device:GPU:0\n"
          ]
        },
        {
          "name": "stderr",
          "output_type": "stream",
          "text": [
            "100%|██████████████████████████████████████████████████████████████████████████████████████████████████████████████████████████████████████████████████████████████████████████████| 49/49 [00:01<00:00, 34.04it/s]\n",
            "2023-12-06 22:31:26.586687: I tensorflow/core/common_runtime/gpu/gpu_device.cc:1886] Created device /device:GPU:0 with 20609 MB memory:  -> device: 0, name: NVIDIA L4, pci bus id: 0000:00:03.0, compute capability: 8.9\n"
          ]
        },
        {
          "name": "stdout",
          "output_type": "stream",
          "text": [
            "/device:GPU:0\n"
          ]
        },
        {
          "name": "stderr",
          "output_type": "stream",
          "text": [
            "100%|██████████████████████████████████████████████████████████████████████████████████████████████████████████████████████████████████████████████████████████████████████████████| 49/49 [00:01<00:00, 33.40it/s]\n",
            "2023-12-06 22:31:28.074084: I tensorflow/core/common_runtime/gpu/gpu_device.cc:1886] Created device /device:GPU:0 with 20609 MB memory:  -> device: 0, name: NVIDIA L4, pci bus id: 0000:00:03.0, compute capability: 8.9\n"
          ]
        },
        {
          "name": "stdout",
          "output_type": "stream",
          "text": [
            "/device:GPU:0\n"
          ]
        },
        {
          "name": "stderr",
          "output_type": "stream",
          "text": [
            "100%|██████████████████████████████████████████████████████████████████████████████████████████████████████████████████████████████████████████████████████████████████████████████| 49/49 [00:01<00:00, 33.72it/s]\n",
            "2023-12-06 22:31:29.546950: I tensorflow/core/common_runtime/gpu/gpu_device.cc:1886] Created device /device:GPU:0 with 20609 MB memory:  -> device: 0, name: NVIDIA L4, pci bus id: 0000:00:03.0, compute capability: 8.9\n"
          ]
        },
        {
          "name": "stdout",
          "output_type": "stream",
          "text": [
            "/device:GPU:0\n"
          ]
        },
        {
          "name": "stderr",
          "output_type": "stream",
          "text": [
            "100%|██████████████████████████████████████████████████████████████████████████████████████████████████████████████████████████████████████████████████████████████████████████████| 49/49 [00:01<00:00, 33.38it/s]\n",
            "2023-12-06 22:31:31.034358: I tensorflow/core/common_runtime/gpu/gpu_device.cc:1886] Created device /device:GPU:0 with 20609 MB memory:  -> device: 0, name: NVIDIA L4, pci bus id: 0000:00:03.0, compute capability: 8.9\n"
          ]
        },
        {
          "name": "stdout",
          "output_type": "stream",
          "text": [
            "/device:GPU:0\n"
          ]
        },
        {
          "name": "stderr",
          "output_type": "stream",
          "text": [
            "100%|██████████████████████████████████████████████████████████████████████████████████████████████████████████████████████████████████████████████████████████████████████████████| 49/49 [00:01<00:00, 32.69it/s]\n",
            "2023-12-06 22:31:32.553010: I tensorflow/core/common_runtime/gpu/gpu_device.cc:1886] Created device /device:GPU:0 with 20609 MB memory:  -> device: 0, name: NVIDIA L4, pci bus id: 0000:00:03.0, compute capability: 8.9\n"
          ]
        },
        {
          "name": "stdout",
          "output_type": "stream",
          "text": [
            "/device:GPU:0\n"
          ]
        },
        {
          "name": "stderr",
          "output_type": "stream",
          "text": [
            "100%|██████████████████████████████████████████████████████████████████████████████████████████████████████████████████████████████████████████████████████████████████████████████| 49/49 [00:01<00:00, 33.61it/s]\n",
            "2023-12-06 22:31:34.030120: I tensorflow/core/common_runtime/gpu/gpu_device.cc:1886] Created device /device:GPU:0 with 20609 MB memory:  -> device: 0, name: NVIDIA L4, pci bus id: 0000:00:03.0, compute capability: 8.9\n"
          ]
        },
        {
          "name": "stdout",
          "output_type": "stream",
          "text": [
            "/device:GPU:0\n"
          ]
        },
        {
          "name": "stderr",
          "output_type": "stream",
          "text": [
            "100%|██████████████████████████████████████████████████████████████████████████████████████████████████████████████████████████████████████████████████████████████████████████████| 49/49 [00:01<00:00, 33.51it/s]\n",
            "2023-12-06 22:31:35.511243: I tensorflow/core/common_runtime/gpu/gpu_device.cc:1886] Created device /device:GPU:0 with 20609 MB memory:  -> device: 0, name: NVIDIA L4, pci bus id: 0000:00:03.0, compute capability: 8.9\n"
          ]
        },
        {
          "name": "stdout",
          "output_type": "stream",
          "text": [
            "/device:GPU:0\n"
          ]
        },
        {
          "name": "stderr",
          "output_type": "stream",
          "text": [
            "100%|██████████████████████████████████████████████████████████████████████████████████████████████████████████████████████████████████████████████████████████████████████████████| 49/49 [00:01<00:00, 33.59it/s]\n",
            "2023-12-06 22:31:36.989341: I tensorflow/core/common_runtime/gpu/gpu_device.cc:1886] Created device /device:GPU:0 with 20609 MB memory:  -> device: 0, name: NVIDIA L4, pci bus id: 0000:00:03.0, compute capability: 8.9\n"
          ]
        },
        {
          "name": "stdout",
          "output_type": "stream",
          "text": [
            "/device:GPU:0\n"
          ]
        },
        {
          "name": "stderr",
          "output_type": "stream",
          "text": [
            "100%|██████████████████████████████████████████████████████████████████████████████████████████████████████████████████████████████████████████████████████████████████████████████| 49/49 [00:01<00:00, 33.81it/s]\n",
            "2023-12-06 22:31:38.457666: I tensorflow/core/common_runtime/gpu/gpu_device.cc:1886] Created device /device:GPU:0 with 20609 MB memory:  -> device: 0, name: NVIDIA L4, pci bus id: 0000:00:03.0, compute capability: 8.9\n"
          ]
        },
        {
          "name": "stdout",
          "output_type": "stream",
          "text": [
            "/device:GPU:0\n"
          ]
        },
        {
          "name": "stderr",
          "output_type": "stream",
          "text": [
            "100%|██████████████████████████████████████████████████████████████████████████████████████████████████████████████████████████████████████████████████████████████████████████████| 49/49 [00:01<00:00, 34.77it/s]\n",
            "2023-12-06 22:31:39.886146: I tensorflow/core/common_runtime/gpu/gpu_device.cc:1886] Created device /device:GPU:0 with 20609 MB memory:  -> device: 0, name: NVIDIA L4, pci bus id: 0000:00:03.0, compute capability: 8.9\n"
          ]
        },
        {
          "name": "stdout",
          "output_type": "stream",
          "text": [
            "/device:GPU:0\n"
          ]
        },
        {
          "name": "stderr",
          "output_type": "stream",
          "text": [
            "100%|██████████████████████████████████████████████████████████████████████████████████████████████████████████████████████████████████████████████████████████████████████████████| 49/49 [00:01<00:00, 34.99it/s]\n",
            "2023-12-06 22:31:41.305588: I tensorflow/core/common_runtime/gpu/gpu_device.cc:1886] Created device /device:GPU:0 with 20609 MB memory:  -> device: 0, name: NVIDIA L4, pci bus id: 0000:00:03.0, compute capability: 8.9\n"
          ]
        },
        {
          "name": "stdout",
          "output_type": "stream",
          "text": [
            "/device:GPU:0\n"
          ]
        },
        {
          "name": "stderr",
          "output_type": "stream",
          "text": [
            "100%|██████████████████████████████████████████████████████████████████████████████████████████████████████████████████████████████████████████████████████████████████████████████| 49/49 [00:01<00:00, 34.21it/s]\n",
            "2023-12-06 22:31:42.756974: I tensorflow/core/common_runtime/gpu/gpu_device.cc:1886] Created device /device:GPU:0 with 20609 MB memory:  -> device: 0, name: NVIDIA L4, pci bus id: 0000:00:03.0, compute capability: 8.9\n"
          ]
        },
        {
          "name": "stdout",
          "output_type": "stream",
          "text": [
            "/device:GPU:0\n"
          ]
        },
        {
          "name": "stderr",
          "output_type": "stream",
          "text": [
            "100%|██████████████████████████████████████████████████████████████████████████████████████████████████████████████████████████████████████████████████████████████████████████████| 49/49 [00:01<00:00, 34.06it/s]\n",
            "2023-12-06 22:31:44.214597: I tensorflow/core/common_runtime/gpu/gpu_device.cc:1886] Created device /device:GPU:0 with 20609 MB memory:  -> device: 0, name: NVIDIA L4, pci bus id: 0000:00:03.0, compute capability: 8.9\n"
          ]
        },
        {
          "name": "stdout",
          "output_type": "stream",
          "text": [
            "/device:GPU:0\n"
          ]
        },
        {
          "name": "stderr",
          "output_type": "stream",
          "text": [
            "100%|██████████████████████████████████████████████████████████████████████████████████████████████████████████████████████████████████████████████████████████████████████████████| 49/49 [00:01<00:00, 34.44it/s]\n",
            "2023-12-06 22:31:45.656648: I tensorflow/core/common_runtime/gpu/gpu_device.cc:1886] Created device /device:GPU:0 with 20609 MB memory:  -> device: 0, name: NVIDIA L4, pci bus id: 0000:00:03.0, compute capability: 8.9\n"
          ]
        },
        {
          "name": "stdout",
          "output_type": "stream",
          "text": [
            "/device:GPU:0\n"
          ]
        },
        {
          "name": "stderr",
          "output_type": "stream",
          "text": [
            "100%|██████████████████████████████████████████████████████████████████████████████████████████████████████████████████████████████████████████████████████████████████████████████| 49/49 [00:01<00:00, 33.43it/s]\n",
            "2023-12-06 22:31:47.141643: I tensorflow/core/common_runtime/gpu/gpu_device.cc:1886] Created device /device:GPU:0 with 20609 MB memory:  -> device: 0, name: NVIDIA L4, pci bus id: 0000:00:03.0, compute capability: 8.9\n"
          ]
        },
        {
          "name": "stdout",
          "output_type": "stream",
          "text": [
            "/device:GPU:0\n"
          ]
        },
        {
          "name": "stderr",
          "output_type": "stream",
          "text": [
            "100%|██████████████████████████████████████████████████████████████████████████████████████████████████████████████████████████████████████████████████████████████████████████████| 49/49 [00:01<00:00, 34.38it/s]\n",
            "2023-12-06 22:31:48.586508: I tensorflow/core/common_runtime/gpu/gpu_device.cc:1886] Created device /device:GPU:0 with 20609 MB memory:  -> device: 0, name: NVIDIA L4, pci bus id: 0000:00:03.0, compute capability: 8.9\n"
          ]
        },
        {
          "name": "stdout",
          "output_type": "stream",
          "text": [
            "/device:GPU:0\n"
          ]
        },
        {
          "name": "stderr",
          "output_type": "stream",
          "text": [
            "100%|██████████████████████████████████████████████████████████████████████████████████████████████████████████████████████████████████████████████████████████████████████████████| 49/49 [00:01<00:00, 33.48it/s]\n",
            "2023-12-06 22:31:50.070100: I tensorflow/core/common_runtime/gpu/gpu_device.cc:1886] Created device /device:GPU:0 with 20609 MB memory:  -> device: 0, name: NVIDIA L4, pci bus id: 0000:00:03.0, compute capability: 8.9\n"
          ]
        },
        {
          "name": "stdout",
          "output_type": "stream",
          "text": [
            "/device:GPU:0\n"
          ]
        },
        {
          "name": "stderr",
          "output_type": "stream",
          "text": [
            "100%|██████████████████████████████████████████████████████████████████████████████████████████████████████████████████████████████████████████████████████████████████████████████| 49/49 [00:01<00:00, 33.25it/s]\n",
            "2023-12-06 22:31:51.563357: I tensorflow/core/common_runtime/gpu/gpu_device.cc:1886] Created device /device:GPU:0 with 20609 MB memory:  -> device: 0, name: NVIDIA L4, pci bus id: 0000:00:03.0, compute capability: 8.9\n"
          ]
        },
        {
          "name": "stdout",
          "output_type": "stream",
          "text": [
            "/device:GPU:0\n"
          ]
        },
        {
          "name": "stderr",
          "output_type": "stream",
          "text": [
            "100%|██████████████████████████████████████████████████████████████████████████████████████████████████████████████████████████████████████████████████████████████████████████████| 49/49 [00:01<00:00, 33.20it/s]\n",
            "2023-12-06 22:31:53.058594: I tensorflow/core/common_runtime/gpu/gpu_device.cc:1886] Created device /device:GPU:0 with 20609 MB memory:  -> device: 0, name: NVIDIA L4, pci bus id: 0000:00:03.0, compute capability: 8.9\n"
          ]
        },
        {
          "name": "stdout",
          "output_type": "stream",
          "text": [
            "/device:GPU:0\n"
          ]
        },
        {
          "name": "stderr",
          "output_type": "stream",
          "text": [
            "100%|██████████████████████████████████████████████████████████████████████████████████████████████████████████████████████████████████████████████████████████████████████████████| 49/49 [00:01<00:00, 32.82it/s]\n",
            "2023-12-06 22:31:54.570728: I tensorflow/core/common_runtime/gpu/gpu_device.cc:1886] Created device /device:GPU:0 with 20609 MB memory:  -> device: 0, name: NVIDIA L4, pci bus id: 0000:00:03.0, compute capability: 8.9\n"
          ]
        },
        {
          "name": "stdout",
          "output_type": "stream",
          "text": [
            "/device:GPU:0\n"
          ]
        },
        {
          "name": "stderr",
          "output_type": "stream",
          "text": [
            "100%|██████████████████████████████████████████████████████████████████████████████████████████████████████████████████████████████████████████████████████████████████████████████| 49/49 [00:01<00:00, 33.72it/s]\n",
            "2023-12-06 22:31:56.043569: I tensorflow/core/common_runtime/gpu/gpu_device.cc:1886] Created device /device:GPU:0 with 20609 MB memory:  -> device: 0, name: NVIDIA L4, pci bus id: 0000:00:03.0, compute capability: 8.9\n"
          ]
        },
        {
          "name": "stdout",
          "output_type": "stream",
          "text": [
            "/device:GPU:0\n"
          ]
        },
        {
          "name": "stderr",
          "output_type": "stream",
          "text": [
            "100%|██████████████████████████████████████████████████████████████████████████████████████████████████████████████████████████████████████████████████████████████████████████████| 49/49 [00:01<00:00, 33.42it/s]\n",
            "2023-12-06 22:31:57.528990: I tensorflow/core/common_runtime/gpu/gpu_device.cc:1886] Created device /device:GPU:0 with 20609 MB memory:  -> device: 0, name: NVIDIA L4, pci bus id: 0000:00:03.0, compute capability: 8.9\n"
          ]
        },
        {
          "name": "stdout",
          "output_type": "stream",
          "text": [
            "/device:GPU:0\n"
          ]
        },
        {
          "name": "stderr",
          "output_type": "stream",
          "text": [
            "100%|██████████████████████████████████████████████████████████████████████████████████████████████████████████████████████████████████████████████████████████████████████████████| 49/49 [00:01<00:00, 33.65it/s]\n",
            "2023-12-06 22:31:59.004164: I tensorflow/core/common_runtime/gpu/gpu_device.cc:1886] Created device /device:GPU:0 with 20609 MB memory:  -> device: 0, name: NVIDIA L4, pci bus id: 0000:00:03.0, compute capability: 8.9\n"
          ]
        },
        {
          "name": "stdout",
          "output_type": "stream",
          "text": [
            "/device:GPU:0\n"
          ]
        },
        {
          "name": "stderr",
          "output_type": "stream",
          "text": [
            "100%|██████████████████████████████████████████████████████████████████████████████████████████████████████████████████████████████████████████████████████████████████████████████| 49/49 [00:01<00:00, 33.28it/s]\n",
            "2023-12-06 22:32:00.496362: I tensorflow/core/common_runtime/gpu/gpu_device.cc:1886] Created device /device:GPU:0 with 20609 MB memory:  -> device: 0, name: NVIDIA L4, pci bus id: 0000:00:03.0, compute capability: 8.9\n"
          ]
        },
        {
          "name": "stdout",
          "output_type": "stream",
          "text": [
            "/device:GPU:0\n"
          ]
        },
        {
          "name": "stderr",
          "output_type": "stream",
          "text": [
            "100%|██████████████████████████████████████████████████████████████████████████████████████████████████████████████████████████████████████████████████████████████████████████████| 49/49 [00:01<00:00, 33.08it/s]\n",
            "2023-12-06 22:32:01.996841: I tensorflow/core/common_runtime/gpu/gpu_device.cc:1886] Created device /device:GPU:0 with 20609 MB memory:  -> device: 0, name: NVIDIA L4, pci bus id: 0000:00:03.0, compute capability: 8.9\n"
          ]
        },
        {
          "name": "stdout",
          "output_type": "stream",
          "text": [
            "/device:GPU:0\n"
          ]
        },
        {
          "name": "stderr",
          "output_type": "stream",
          "text": [
            "100%|██████████████████████████████████████████████████████████████████████████████████████████████████████████████████████████████████████████████████████████████████████████████| 49/49 [00:01<00:00, 32.85it/s]\n",
            "2023-12-06 22:32:03.507847: I tensorflow/core/common_runtime/gpu/gpu_device.cc:1886] Created device /device:GPU:0 with 20609 MB memory:  -> device: 0, name: NVIDIA L4, pci bus id: 0000:00:03.0, compute capability: 8.9\n"
          ]
        },
        {
          "name": "stdout",
          "output_type": "stream",
          "text": [
            "/device:GPU:0\n"
          ]
        },
        {
          "name": "stderr",
          "output_type": "stream",
          "text": [
            "100%|██████████████████████████████████████████████████████████████████████████████████████████████████████████████████████████████████████████████████████████████████████████████| 49/49 [00:01<00:00, 32.97it/s]\n",
            "2023-12-06 22:32:05.013714: I tensorflow/core/common_runtime/gpu/gpu_device.cc:1886] Created device /device:GPU:0 with 20609 MB memory:  -> device: 0, name: NVIDIA L4, pci bus id: 0000:00:03.0, compute capability: 8.9\n"
          ]
        },
        {
          "name": "stdout",
          "output_type": "stream",
          "text": [
            "/device:GPU:0\n"
          ]
        },
        {
          "name": "stderr",
          "output_type": "stream",
          "text": [
            "100%|██████████████████████████████████████████████████████████████████████████████████████████████████████████████████████████████████████████████████████████████████████████████| 49/49 [00:01<00:00, 33.02it/s]\n",
            "2023-12-06 22:32:06.517536: I tensorflow/core/common_runtime/gpu/gpu_device.cc:1886] Created device /device:GPU:0 with 20609 MB memory:  -> device: 0, name: NVIDIA L4, pci bus id: 0000:00:03.0, compute capability: 8.9\n"
          ]
        },
        {
          "name": "stdout",
          "output_type": "stream",
          "text": [
            "/device:GPU:0\n"
          ]
        },
        {
          "name": "stderr",
          "output_type": "stream",
          "text": [
            "100%|██████████████████████████████████████████████████████████████████████████████████████████████████████████████████████████████████████████████████████████████████████████████| 49/49 [00:01<00:00, 32.78it/s]\n",
            "2023-12-06 22:32:08.032061: I tensorflow/core/common_runtime/gpu/gpu_device.cc:1886] Created device /device:GPU:0 with 20609 MB memory:  -> device: 0, name: NVIDIA L4, pci bus id: 0000:00:03.0, compute capability: 8.9\n"
          ]
        },
        {
          "name": "stdout",
          "output_type": "stream",
          "text": [
            "/device:GPU:0\n"
          ]
        },
        {
          "name": "stderr",
          "output_type": "stream",
          "text": [
            "100%|██████████████████████████████████████████████████████████████████████████████████████████████████████████████████████████████████████████████████████████████████████████████| 49/49 [00:01<00:00, 32.84it/s]\n",
            "2023-12-06 22:32:09.543950: I tensorflow/core/common_runtime/gpu/gpu_device.cc:1886] Created device /device:GPU:0 with 20609 MB memory:  -> device: 0, name: NVIDIA L4, pci bus id: 0000:00:03.0, compute capability: 8.9\n"
          ]
        },
        {
          "name": "stdout",
          "output_type": "stream",
          "text": [
            "/device:GPU:0\n"
          ]
        },
        {
          "name": "stderr",
          "output_type": "stream",
          "text": [
            "100%|██████████████████████████████████████████████████████████████████████████████████████████████████████████████████████████████████████████████████████████████████████████████| 49/49 [00:01<00:00, 32.51it/s]\n",
            "2023-12-06 22:32:11.070530: I tensorflow/core/common_runtime/gpu/gpu_device.cc:1886] Created device /device:GPU:0 with 20609 MB memory:  -> device: 0, name: NVIDIA L4, pci bus id: 0000:00:03.0, compute capability: 8.9\n"
          ]
        },
        {
          "name": "stdout",
          "output_type": "stream",
          "text": [
            "/device:GPU:0\n"
          ]
        },
        {
          "name": "stderr",
          "output_type": "stream",
          "text": [
            "100%|██████████████████████████████████████████████████████████████████████████████████████████████████████████████████████████████████████████████████████████████████████████████| 49/49 [00:01<00:00, 32.97it/s]\n",
            "2023-12-06 22:32:12.576265: I tensorflow/core/common_runtime/gpu/gpu_device.cc:1886] Created device /device:GPU:0 with 20609 MB memory:  -> device: 0, name: NVIDIA L4, pci bus id: 0000:00:03.0, compute capability: 8.9\n"
          ]
        },
        {
          "name": "stdout",
          "output_type": "stream",
          "text": [
            "/device:GPU:0\n"
          ]
        },
        {
          "name": "stderr",
          "output_type": "stream",
          "text": [
            "100%|██████████████████████████████████████████████████████████████████████████████████████████████████████████████████████████████████████████████████████████████████████████████| 49/49 [00:01<00:00, 32.77it/s]\n",
            "2023-12-06 22:32:14.090720: I tensorflow/core/common_runtime/gpu/gpu_device.cc:1886] Created device /device:GPU:0 with 20609 MB memory:  -> device: 0, name: NVIDIA L4, pci bus id: 0000:00:03.0, compute capability: 8.9\n"
          ]
        },
        {
          "name": "stdout",
          "output_type": "stream",
          "text": [
            "/device:GPU:0\n"
          ]
        },
        {
          "name": "stderr",
          "output_type": "stream",
          "text": [
            "100%|██████████████████████████████████████████████████████████████████████████████████████████████████████████████████████████████████████████████████████████████████████████████| 49/49 [00:01<00:00, 33.01it/s]\n",
            "2023-12-06 22:32:15.594624: I tensorflow/core/common_runtime/gpu/gpu_device.cc:1886] Created device /device:GPU:0 with 20609 MB memory:  -> device: 0, name: NVIDIA L4, pci bus id: 0000:00:03.0, compute capability: 8.9\n"
          ]
        },
        {
          "name": "stdout",
          "output_type": "stream",
          "text": [
            "/device:GPU:0\n"
          ]
        },
        {
          "name": "stderr",
          "output_type": "stream",
          "text": [
            "100%|██████████████████████████████████████████████████████████████████████████████████████████████████████████████████████████████████████████████████████████████████████████████| 49/49 [00:01<00:00, 32.41it/s]\n",
            "2023-12-06 22:32:17.125636: I tensorflow/core/common_runtime/gpu/gpu_device.cc:1886] Created device /device:GPU:0 with 20609 MB memory:  -> device: 0, name: NVIDIA L4, pci bus id: 0000:00:03.0, compute capability: 8.9\n"
          ]
        },
        {
          "name": "stdout",
          "output_type": "stream",
          "text": [
            "/device:GPU:0\n"
          ]
        },
        {
          "name": "stderr",
          "output_type": "stream",
          "text": [
            "100%|██████████████████████████████████████████████████████████████████████████████████████████████████████████████████████████████████████████████████████████████████████████████| 49/49 [00:01<00:00, 32.44it/s]\n",
            "2023-12-06 22:32:18.655672: I tensorflow/core/common_runtime/gpu/gpu_device.cc:1886] Created device /device:GPU:0 with 20609 MB memory:  -> device: 0, name: NVIDIA L4, pci bus id: 0000:00:03.0, compute capability: 8.9\n"
          ]
        },
        {
          "name": "stdout",
          "output_type": "stream",
          "text": [
            "/device:GPU:0\n"
          ]
        },
        {
          "name": "stderr",
          "output_type": "stream",
          "text": [
            "100%|██████████████████████████████████████████████████████████████████████████████████████████████████████████████████████████████████████████████████████████████████████████████| 49/49 [00:01<00:00, 32.46it/s]\n",
            "2023-12-06 22:32:20.184652: I tensorflow/core/common_runtime/gpu/gpu_device.cc:1886] Created device /device:GPU:0 with 20609 MB memory:  -> device: 0, name: NVIDIA L4, pci bus id: 0000:00:03.0, compute capability: 8.9\n"
          ]
        },
        {
          "name": "stdout",
          "output_type": "stream",
          "text": [
            "/device:GPU:0\n"
          ]
        },
        {
          "name": "stderr",
          "output_type": "stream",
          "text": [
            "100%|██████████████████████████████████████████████████████████████████████████████████████████████████████████████████████████████████████████████████████████████████████████████| 49/49 [00:01<00:00, 32.49it/s]\n",
            "2023-12-06 22:32:21.712158: I tensorflow/core/common_runtime/gpu/gpu_device.cc:1886] Created device /device:GPU:0 with 20609 MB memory:  -> device: 0, name: NVIDIA L4, pci bus id: 0000:00:03.0, compute capability: 8.9\n"
          ]
        },
        {
          "name": "stdout",
          "output_type": "stream",
          "text": [
            "/device:GPU:0\n"
          ]
        },
        {
          "name": "stderr",
          "output_type": "stream",
          "text": [
            "100%|██████████████████████████████████████████████████████████████████████████████████████████████████████████████████████████████████████████████████████████████████████████████| 49/49 [00:01<00:00, 32.37it/s]\n",
            "2023-12-06 22:32:23.245046: I tensorflow/core/common_runtime/gpu/gpu_device.cc:1886] Created device /device:GPU:0 with 20609 MB memory:  -> device: 0, name: NVIDIA L4, pci bus id: 0000:00:03.0, compute capability: 8.9\n"
          ]
        },
        {
          "name": "stdout",
          "output_type": "stream",
          "text": [
            "/device:GPU:0\n"
          ]
        },
        {
          "name": "stderr",
          "output_type": "stream",
          "text": [
            "100%|██████████████████████████████████████████████████████████████████████████████████████████████████████████████████████████████████████████████████████████████████████████████| 49/49 [00:01<00:00, 32.09it/s]\n",
            "2023-12-06 22:32:24.791110: I tensorflow/core/common_runtime/gpu/gpu_device.cc:1886] Created device /device:GPU:0 with 20609 MB memory:  -> device: 0, name: NVIDIA L4, pci bus id: 0000:00:03.0, compute capability: 8.9\n"
          ]
        },
        {
          "name": "stdout",
          "output_type": "stream",
          "text": [
            "/device:GPU:0\n"
          ]
        },
        {
          "name": "stderr",
          "output_type": "stream",
          "text": [
            "100%|██████████████████████████████████████████████████████████████████████████████████████████████████████████████████████████████████████████████████████████████████████████████| 49/49 [00:01<00:00, 31.98it/s]\n",
            "2023-12-06 22:32:26.343022: I tensorflow/core/common_runtime/gpu/gpu_device.cc:1886] Created device /device:GPU:0 with 20609 MB memory:  -> device: 0, name: NVIDIA L4, pci bus id: 0000:00:03.0, compute capability: 8.9\n"
          ]
        },
        {
          "name": "stdout",
          "output_type": "stream",
          "text": [
            "/device:GPU:0\n"
          ]
        },
        {
          "name": "stderr",
          "output_type": "stream",
          "text": [
            "100%|██████████████████████████████████████████████████████████████████████████████████████████████████████████████████████████████████████████████████████████████████████████████| 49/49 [00:01<00:00, 31.86it/s]\n",
            "2023-12-06 22:32:27.900325: I tensorflow/core/common_runtime/gpu/gpu_device.cc:1886] Created device /device:GPU:0 with 20609 MB memory:  -> device: 0, name: NVIDIA L4, pci bus id: 0000:00:03.0, compute capability: 8.9\n"
          ]
        },
        {
          "name": "stdout",
          "output_type": "stream",
          "text": [
            "/device:GPU:0\n"
          ]
        },
        {
          "name": "stderr",
          "output_type": "stream",
          "text": [
            "100%|██████████████████████████████████████████████████████████████████████████████████████████████████████████████████████████████████████████████████████████████████████████████| 49/49 [00:01<00:00, 31.62it/s]\n",
            "2023-12-06 22:32:29.469296: I tensorflow/core/common_runtime/gpu/gpu_device.cc:1886] Created device /device:GPU:0 with 20609 MB memory:  -> device: 0, name: NVIDIA L4, pci bus id: 0000:00:03.0, compute capability: 8.9\n"
          ]
        },
        {
          "name": "stdout",
          "output_type": "stream",
          "text": [
            "/device:GPU:0\n"
          ]
        },
        {
          "name": "stderr",
          "output_type": "stream",
          "text": [
            "100%|██████████████████████████████████████████████████████████████████████████████████████████████████████████████████████████████████████████████████████████████████████████████| 49/49 [00:01<00:00, 31.34it/s]\n",
            "2023-12-06 22:32:31.051700: I tensorflow/core/common_runtime/gpu/gpu_device.cc:1886] Created device /device:GPU:0 with 20609 MB memory:  -> device: 0, name: NVIDIA L4, pci bus id: 0000:00:03.0, compute capability: 8.9\n"
          ]
        },
        {
          "name": "stdout",
          "output_type": "stream",
          "text": [
            "/device:GPU:0\n"
          ]
        },
        {
          "name": "stderr",
          "output_type": "stream",
          "text": [
            "100%|██████████████████████████████████████████████████████████████████████████████████████████████████████████████████████████████████████████████████████████████████████████████| 49/49 [00:01<00:00, 31.27it/s]\n",
            "2023-12-06 22:32:32.638392: I tensorflow/core/common_runtime/gpu/gpu_device.cc:1886] Created device /device:GPU:0 with 20609 MB memory:  -> device: 0, name: NVIDIA L4, pci bus id: 0000:00:03.0, compute capability: 8.9\n"
          ]
        },
        {
          "name": "stdout",
          "output_type": "stream",
          "text": [
            "/device:GPU:0\n"
          ]
        },
        {
          "name": "stderr",
          "output_type": "stream",
          "text": [
            "100%|██████████████████████████████████████████████████████████████████████████████████████████████████████████████████████████████████████████████████████████████████████████████| 49/49 [00:01<00:00, 31.19it/s]\n",
            "2023-12-06 22:32:34.228819: I tensorflow/core/common_runtime/gpu/gpu_device.cc:1886] Created device /device:GPU:0 with 20609 MB memory:  -> device: 0, name: NVIDIA L4, pci bus id: 0000:00:03.0, compute capability: 8.9\n"
          ]
        },
        {
          "name": "stdout",
          "output_type": "stream",
          "text": [
            "/device:GPU:0\n"
          ]
        },
        {
          "name": "stderr",
          "output_type": "stream",
          "text": [
            "100%|██████████████████████████████████████████████████████████████████████████████████████████████████████████████████████████████████████████████████████████████████████████████| 49/49 [00:01<00:00, 31.51it/s]\n",
            "2023-12-06 22:32:35.802814: I tensorflow/core/common_runtime/gpu/gpu_device.cc:1886] Created device /device:GPU:0 with 20609 MB memory:  -> device: 0, name: NVIDIA L4, pci bus id: 0000:00:03.0, compute capability: 8.9\n"
          ]
        },
        {
          "name": "stdout",
          "output_type": "stream",
          "text": [
            "/device:GPU:0\n"
          ]
        },
        {
          "name": "stderr",
          "output_type": "stream",
          "text": [
            "100%|██████████████████████████████████████████████████████████████████████████████████████████████████████████████████████████████████████████████████████████████████████████████| 49/49 [00:01<00:00, 31.21it/s]\n",
            "2023-12-06 22:32:37.391814: I tensorflow/core/common_runtime/gpu/gpu_device.cc:1886] Created device /device:GPU:0 with 20609 MB memory:  -> device: 0, name: NVIDIA L4, pci bus id: 0000:00:03.0, compute capability: 8.9\n"
          ]
        },
        {
          "name": "stdout",
          "output_type": "stream",
          "text": [
            "/device:GPU:0\n"
          ]
        },
        {
          "name": "stderr",
          "output_type": "stream",
          "text": [
            "100%|██████████████████████████████████████████████████████████████████████████████████████████████████████████████████████████████████████████████████████████████████████████████| 49/49 [00:01<00:00, 31.30it/s]\n",
            "2023-12-06 22:32:38.976481: I tensorflow/core/common_runtime/gpu/gpu_device.cc:1886] Created device /device:GPU:0 with 20609 MB memory:  -> device: 0, name: NVIDIA L4, pci bus id: 0000:00:03.0, compute capability: 8.9\n"
          ]
        },
        {
          "name": "stdout",
          "output_type": "stream",
          "text": [
            "/device:GPU:0\n"
          ]
        },
        {
          "name": "stderr",
          "output_type": "stream",
          "text": [
            "100%|██████████████████████████████████████████████████████████████████████████████████████████████████████████████████████████████████████████████████████████████████████████████| 49/49 [00:01<00:00, 31.48it/s]\n",
            "2023-12-06 22:32:40.552149: I tensorflow/core/common_runtime/gpu/gpu_device.cc:1886] Created device /device:GPU:0 with 20609 MB memory:  -> device: 0, name: NVIDIA L4, pci bus id: 0000:00:03.0, compute capability: 8.9\n"
          ]
        },
        {
          "name": "stdout",
          "output_type": "stream",
          "text": [
            "/device:GPU:0\n"
          ]
        },
        {
          "name": "stderr",
          "output_type": "stream",
          "text": [
            "100%|██████████████████████████████████████████████████████████████████████████████████████████████████████████████████████████████████████████████████████████████████████████████| 49/49 [00:01<00:00, 31.50it/s]\n",
            "2023-12-06 22:32:42.127590: I tensorflow/core/common_runtime/gpu/gpu_device.cc:1886] Created device /device:GPU:0 with 20609 MB memory:  -> device: 0, name: NVIDIA L4, pci bus id: 0000:00:03.0, compute capability: 8.9\n"
          ]
        },
        {
          "name": "stdout",
          "output_type": "stream",
          "text": [
            "/device:GPU:0\n"
          ]
        },
        {
          "name": "stderr",
          "output_type": "stream",
          "text": [
            "100%|██████████████████████████████████████████████████████████████████████████████████████████████████████████████████████████████████████████████████████████████████████████████| 49/49 [00:01<00:00, 31.28it/s]\n",
            "2023-12-06 22:32:43.713751: I tensorflow/core/common_runtime/gpu/gpu_device.cc:1886] Created device /device:GPU:0 with 20609 MB memory:  -> device: 0, name: NVIDIA L4, pci bus id: 0000:00:03.0, compute capability: 8.9\n"
          ]
        },
        {
          "name": "stdout",
          "output_type": "stream",
          "text": [
            "/device:GPU:0\n"
          ]
        },
        {
          "name": "stderr",
          "output_type": "stream",
          "text": [
            "100%|██████████████████████████████████████████████████████████████████████████████████████████████████████████████████████████████████████████████████████████████████████████████| 49/49 [00:01<00:00, 31.04it/s]\n",
            "2023-12-06 22:32:45.311966: I tensorflow/core/common_runtime/gpu/gpu_device.cc:1886] Created device /device:GPU:0 with 20609 MB memory:  -> device: 0, name: NVIDIA L4, pci bus id: 0000:00:03.0, compute capability: 8.9\n"
          ]
        },
        {
          "name": "stdout",
          "output_type": "stream",
          "text": [
            "/device:GPU:0\n"
          ]
        },
        {
          "name": "stderr",
          "output_type": "stream",
          "text": [
            "100%|██████████████████████████████████████████████████████████████████████████████████████████████████████████████████████████████████████████████████████████████████████████████| 49/49 [00:01<00:00, 30.92it/s]\n",
            "2023-12-06 22:32:46.916396: I tensorflow/core/common_runtime/gpu/gpu_device.cc:1886] Created device /device:GPU:0 with 20609 MB memory:  -> device: 0, name: NVIDIA L4, pci bus id: 0000:00:03.0, compute capability: 8.9\n"
          ]
        },
        {
          "name": "stdout",
          "output_type": "stream",
          "text": [
            "/device:GPU:0\n"
          ]
        },
        {
          "name": "stderr",
          "output_type": "stream",
          "text": [
            "100%|██████████████████████████████████████████████████████████████████████████████████████████████████████████████████████████████████████████████████████████████████████████████| 49/49 [00:01<00:00, 30.90it/s]\n",
            "2023-12-06 22:32:48.521334: I tensorflow/core/common_runtime/gpu/gpu_device.cc:1886] Created device /device:GPU:0 with 20609 MB memory:  -> device: 0, name: NVIDIA L4, pci bus id: 0000:00:03.0, compute capability: 8.9\n"
          ]
        },
        {
          "name": "stdout",
          "output_type": "stream",
          "text": [
            "/device:GPU:0\n"
          ]
        },
        {
          "name": "stderr",
          "output_type": "stream",
          "text": [
            "100%|██████████████████████████████████████████████████████████████████████████████████████████████████████████████████████████████████████████████████████████████████████████████| 49/49 [00:01<00:00, 30.07it/s]\n",
            "2023-12-06 22:32:50.170661: I tensorflow/core/common_runtime/gpu/gpu_device.cc:1886] Created device /device:GPU:0 with 20609 MB memory:  -> device: 0, name: NVIDIA L4, pci bus id: 0000:00:03.0, compute capability: 8.9\n"
          ]
        },
        {
          "name": "stdout",
          "output_type": "stream",
          "text": [
            "/device:GPU:0\n"
          ]
        },
        {
          "name": "stderr",
          "output_type": "stream",
          "text": [
            "100%|██████████████████████████████████████████████████████████████████████████████████████████████████████████████████████████████████████████████████████████████████████████████| 49/49 [00:01<00:00, 29.82it/s]\n",
            "2023-12-06 22:32:51.834184: I tensorflow/core/common_runtime/gpu/gpu_device.cc:1886] Created device /device:GPU:0 with 20609 MB memory:  -> device: 0, name: NVIDIA L4, pci bus id: 0000:00:03.0, compute capability: 8.9\n"
          ]
        },
        {
          "name": "stdout",
          "output_type": "stream",
          "text": [
            "/device:GPU:0\n"
          ]
        },
        {
          "name": "stderr",
          "output_type": "stream",
          "text": [
            "100%|██████████████████████████████████████████████████████████████████████████████████████████████████████████████████████████████████████████████████████████████████████████████| 49/49 [00:01<00:00, 30.08it/s]\n",
            "2023-12-06 22:32:53.483036: I tensorflow/core/common_runtime/gpu/gpu_device.cc:1886] Created device /device:GPU:0 with 20609 MB memory:  -> device: 0, name: NVIDIA L4, pci bus id: 0000:00:03.0, compute capability: 8.9\n"
          ]
        },
        {
          "name": "stdout",
          "output_type": "stream",
          "text": [
            "/device:GPU:0\n"
          ]
        },
        {
          "name": "stderr",
          "output_type": "stream",
          "text": [
            "100%|██████████████████████████████████████████████████████████████████████████████████████████████████████████████████████████████████████████████████████████████████████████████| 49/49 [00:01<00:00, 30.88it/s]\n",
            "2023-12-06 22:32:55.089240: I tensorflow/core/common_runtime/gpu/gpu_device.cc:1886] Created device /device:GPU:0 with 20609 MB memory:  -> device: 0, name: NVIDIA L4, pci bus id: 0000:00:03.0, compute capability: 8.9\n"
          ]
        },
        {
          "name": "stdout",
          "output_type": "stream",
          "text": [
            "/device:GPU:0\n"
          ]
        },
        {
          "name": "stderr",
          "output_type": "stream",
          "text": [
            "100%|██████████████████████████████████████████████████████████████████████████████████████████████████████████████████████████████████████████████████████████████████████████████| 49/49 [00:01<00:00, 30.76it/s]\n",
            "2023-12-06 22:32:56.701855: I tensorflow/core/common_runtime/gpu/gpu_device.cc:1886] Created device /device:GPU:0 with 20609 MB memory:  -> device: 0, name: NVIDIA L4, pci bus id: 0000:00:03.0, compute capability: 8.9\n"
          ]
        },
        {
          "name": "stdout",
          "output_type": "stream",
          "text": [
            "/device:GPU:0\n"
          ]
        },
        {
          "name": "stderr",
          "output_type": "stream",
          "text": [
            "100%|██████████████████████████████████████████████████████████████████████████████████████████████████████████████████████████████████████████████████████████████████████████████| 49/49 [00:01<00:00, 30.43it/s]\n",
            "2023-12-06 22:32:58.331644: I tensorflow/core/common_runtime/gpu/gpu_device.cc:1886] Created device /device:GPU:0 with 20609 MB memory:  -> device: 0, name: NVIDIA L4, pci bus id: 0000:00:03.0, compute capability: 8.9\n"
          ]
        },
        {
          "name": "stdout",
          "output_type": "stream",
          "text": [
            "/device:GPU:0\n"
          ]
        },
        {
          "name": "stderr",
          "output_type": "stream",
          "text": [
            "100%|██████████████████████████████████████████████████████████████████████████████████████████████████████████████████████████████████████████████████████████████████████████████| 49/49 [00:01<00:00, 30.75it/s]\n",
            "2023-12-06 22:32:59.944283: I tensorflow/core/common_runtime/gpu/gpu_device.cc:1886] Created device /device:GPU:0 with 20609 MB memory:  -> device: 0, name: NVIDIA L4, pci bus id: 0000:00:03.0, compute capability: 8.9\n"
          ]
        },
        {
          "name": "stdout",
          "output_type": "stream",
          "text": [
            "/device:GPU:0\n"
          ]
        },
        {
          "name": "stderr",
          "output_type": "stream",
          "text": [
            "100%|██████████████████████████████████████████████████████████████████████████████████████████████████████████████████████████████████████████████████████████████████████████████| 49/49 [00:01<00:00, 30.60it/s]\n",
            "2023-12-06 22:33:01.564866: I tensorflow/core/common_runtime/gpu/gpu_device.cc:1886] Created device /device:GPU:0 with 20609 MB memory:  -> device: 0, name: NVIDIA L4, pci bus id: 0000:00:03.0, compute capability: 8.9\n"
          ]
        },
        {
          "name": "stdout",
          "output_type": "stream",
          "text": [
            "/device:GPU:0\n"
          ]
        },
        {
          "name": "stderr",
          "output_type": "stream",
          "text": [
            "100%|██████████████████████████████████████████████████████████████████████████████████████████████████████████████████████████████████████████████████████████████████████████████| 49/49 [00:01<00:00, 29.93it/s]\n",
            "2023-12-06 22:33:03.222627: I tensorflow/core/common_runtime/gpu/gpu_device.cc:1886] Created device /device:GPU:0 with 20609 MB memory:  -> device: 0, name: NVIDIA L4, pci bus id: 0000:00:03.0, compute capability: 8.9\n"
          ]
        },
        {
          "name": "stdout",
          "output_type": "stream",
          "text": [
            "/device:GPU:0\n"
          ]
        },
        {
          "name": "stderr",
          "output_type": "stream",
          "text": [
            "100%|██████████████████████████████████████████████████████████████████████████████████████████████████████████████████████████████████████████████████████████████████████████████| 49/49 [00:01<00:00, 29.96it/s]\n"
          ]
        }
      ],
      "source": [
        "import time\n",
        "from tqdm import tqdm\n",
        "# Config\n",
        "num_samples = 50000\n",
        "use_gpu = True\n",
        "gpu_batch_size = 1024\n",
        "beta = 0.1 \n",
        "\n",
        "# Beta variable\n",
        "betas = np.logspace(-2,2,100)\n",
        "ds_set = {}\n",
        "\n",
        "# Construccion de parametros y matrices auxiliares\n",
        "rho1_size = m1_basis.size\n",
        "rho2_size = m2_basis.size\n",
        "fund_size = basis.size\n",
        "hamil_base_size = basis.d*(basis.d+1)//2\n",
        "rho_1_arrays = rho_1_gen(basis)\n",
        "rho_1_arrays_tf = tf.constant(rho_1_arrays, dtype=tf.float32)\n",
        "rho_2_arrays = rho_2_gen(basis, nm2_basis, m2_basis)\n",
        "rho_2_arrays_tf = tf.constant(rho_2_arrays, dtype=tf.float32)\n",
        "rho_2_arrays_kkbar = rho_2_kkbar_gen(basis.m, rho_2_arrays)\n",
        "rho_2_arrays_kkbar_tf = tf.constant(rho_2_arrays_kkbar, dtype=tf.float32)\n",
        "\n",
        "# Generacion de hamiltoniano\n",
        "(h0, hi) = two_body_hamiltonian(t_basis.size, basis.m, np.arange(0, basis.m), np.ones((basis.m,basis.m)), rho_1_arrays_tf, rho_2_arrays_tf)\n",
        "\n",
        "for beta in betas:\n",
        "    if use_gpu:\n",
        "        print(tf.test.gpu_device_name())\n",
        "        datasets = []\n",
        "        for i in tqdm(range(num_samples//gpu_batch_size+1)):\n",
        "            size = basis.d*(basis.d+1)//2\n",
        "            # En una primera versión vamos a pasar una mat proporcional a range(0,m) para energias\n",
        "            # y como interacción una cte G por ones(m,m)\n",
        "            h_labels = [np.random.rand()*5 for _ in range(0,gpu_batch_size)] # Generamos los generadores\n",
        "            hamil_base = tf.constant(h_labels, dtype=tf.float32)\n",
        "            h_arr = np.zeros((gpu_batch_size, basis.size, basis.size))\n",
        "            for i, g in enumerate(h_labels):\n",
        "                h_arr[i,:,:] = h0 - g * hi\n",
        "            # Estados térmicos\n",
        "            state = thermal_state_tf(h_arr*beta) \n",
        "            state = tf.cast(state, dtype=tf.float32)\n",
        "            # Estados puros\n",
        "            #state = pure_state(h_arr)\n",
        "            #rho_1_input = rho_1_tf(state, rho_1_arrays_tf)\n",
        "            rho_2_input = rho_2_tf(state, rho_2_arrays_kkbar_tf)\n",
        "\n",
        "            datasets.append(tf.data.Dataset.from_tensor_slices(((rho_2_input), h_labels)))\n",
        "            #datasets.append(tf.data.Dataset.from_tensor_slices(((rho_1_input, rho_2_input), h_labels)))\n",
        "            #datasets.append(tf.data.Dataset.from_tensor_slices(((rho_1_input, rho_2_input, state), h_labels)))\n",
        "        ds = tf.data.Dataset.from_tensor_slices(datasets)\n",
        "        dataset = ds.interleave(\n",
        "            lambda x: x,\n",
        "            cycle_length=1,\n",
        "            num_parallel_calls=tf.data.AUTOTUNE,\n",
        "        )\n",
        "        ds_set[beta] = dataset\n",
        "\n",
        "\n",
        "#batch_size = 32\n",
        "#dataset = dataset.shuffle(buffer_size=num_samples).batch(batch_size)"
      ]
    },
    {
      "cell_type": "markdown",
      "metadata": {},
      "source": [
        "#### Filleo de dataset"
      ]
    },
    {
      "cell_type": "code",
      "execution_count": 84,
      "metadata": {},
      "outputs": [],
      "source": [
        "import pickle\n",
        "# Save and load dataset\n",
        "save_dataset = False\n",
        "load_dataset = False\n",
        "path = \"/home/agus/TF\"\n",
        "#num_samples = 5000000\n",
        "if save_dataset:\n",
        "    tf.data.Dataset.save(dataset, path)\n",
        "    with open(\"/home/agus/\"+'/file.pkl', 'wb') as file:\n",
        "        pickle.dump(beta_input, file)\n",
        "if load_dataset:\n",
        "    dataset = tf.data.Dataset.load(path)\n",
        "    with open(\"/home/agus/\"+'file.pkl', 'rb') as file:\n",
        "        beta_input = pickle.load(file)\n"
      ]
    },
    {
      "cell_type": "code",
      "execution_count": 130,
      "metadata": {
        "id": "8moZIlfabZuy"
      },
      "outputs": [],
      "source": [
        "# Dividimos los datasets\n",
        "train_size = int(0.8 * num_samples)\n",
        "\n",
        "train_dataset = dataset.take(train_size)\n",
        "val_dataset = dataset.skip(train_size)\n",
        "\n",
        "\n",
        "batch_size = 256\n",
        "train_dataset = train_dataset.batch(batch_size)\n",
        "val_dataset = val_dataset.batch(batch_size)\n",
        "\n",
        "#beta_val = beta_input[train_size:]"
      ]
    },
    {
      "cell_type": "code",
      "execution_count": 86,
      "metadata": {},
      "outputs": [
        {
          "name": "stdout",
          "output_type": "stream",
          "text": [
            "Validation Dataset Size: -2\n"
          ]
        }
      ],
      "source": [
        "# Cardinality no funciona con los datasets generados por GPU\n",
        "val_size = tf.data.experimental.cardinality(val_dataset).numpy()\n",
        "print(\"Validation Dataset Size:\", val_size)\n"
      ]
    },
    {
      "cell_type": "markdown",
      "metadata": {
        "id": "pYEEjNB-7b8y"
      },
      "source": [
        "### Definición de modelo"
      ]
    },
    {
      "cell_type": "code",
      "execution_count": 87,
      "metadata": {
        "colab": {
          "base_uri": "https://localhost:8080/"
        },
        "id": "A8kkhJr5K0ZQ",
        "outputId": "f1b731f1-6a02-4181-f0b5-5677a2a85784"
      },
      "outputs": [
        {
          "name": "stdout",
          "output_type": "stream",
          "text": [
            "Model: \"model_11\"\n",
            "_________________________________________________________________\n",
            " Layer (type)                Output Shape              Param #   \n",
            "=================================================================\n",
            " rho2 (InputLayer)           [(None, 15, 15, 1)]       0         \n",
            "                                                                 \n",
            " conv2d_4 (Conv2D)           (None, 14, 14, 32)        160       \n",
            "                                                                 \n",
            " batch_normalization_4 (Bat  (None, 14, 14, 32)        128       \n",
            " chNormalization)                                                \n",
            "                                                                 \n",
            " conv2d_5 (Conv2D)           (None, 13, 13, 16)        2064      \n",
            "                                                                 \n",
            " batch_normalization_5 (Bat  (None, 13, 13, 16)        64        \n",
            " chNormalization)                                                \n",
            "                                                                 \n",
            " max_pooling2d_2 (MaxPoolin  (None, 6, 6, 16)          0         \n",
            " g2D)                                                            \n",
            "                                                                 \n",
            " flatten_11 (Flatten)        (None, 576)               0         \n",
            "                                                                 \n",
            " dense_44 (Dense)            (None, 24)                13848     \n",
            "                                                                 \n",
            " dense_45 (Dense)            (None, 2)                 50        \n",
            "                                                                 \n",
            "=================================================================\n",
            "Total params: 16314 (63.73 KB)\n",
            "Trainable params: 16218 (63.35 KB)\n",
            "Non-trainable params: 96 (384.00 Byte)\n",
            "_________________________________________________________________\n"
          ]
        }
      ],
      "source": [
        "# Definicion de layers basado en Conv 2D\n",
        "\n",
        "# Factor de cantidad de filtros\n",
        "lf = 8  \n",
        "conv_limit = (rho2_size - 4) // 4 \n",
        "initial_dense = (lf*2**(conv_limit-1)*((rho2_size-(conv_limit-1))//2)**2) // 8\n",
        "## rho 1\n",
        "rho2_layer =  tf.keras.layers.Input(shape=(rho2_size,rho2_size, 1), name='rho2')\n",
        "\n",
        "# Procesamos el primer input\n",
        "conv_rho2 = tf.keras.layers.Conv2D(lf*2**conv_limit, (2, 2), activation='relu')(rho2_layer)\n",
        "conv_rho2 = tf.keras.layers.BatchNormalization()(conv_rho2)\n",
        "for j in [(2**conv_limit - 2**k) for k in range(1,conv_limit)]:\n",
        "    conv_rho2 = tf.keras.layers.Conv2D(lf*j, (2, 2), activation='relu')(conv_rho2 if 2**j != 1 else rho1_layer)\n",
        "    conv_rho2 = tf.keras.layers.BatchNormalization()(conv_rho2)\n",
        "\n",
        "conv_rho2 = tf.keras.layers.MaxPooling2D((2, 2))(conv_rho2)\n",
        "\n",
        "flatten_rho2 = tf.keras.layers.Flatten()(conv_rho2)\n",
        "#flatten_rho1 = tf.keras.layers.Dense(rho1_size*rho1_size, activation='relu')(flatten_rho1)\n",
        "\n",
        "#local_size = basis.size*basis.size\n",
        "local_size = hamil_base_size\n",
        "\n",
        "#dense1 = tf.keras.layers.Dense(8*8*4*4, activation='relu')(dense1)\n",
        "#dense1 = tf.keras.layers.Dense(512, activation='relu')(flatten_rho1)\n",
        "#dense1 = tf.keras.layers.Dense(128, activation='relu')(flatten_rho1)\n",
        "dense1 = tf.keras.layers.Dense(initial_dense // 4, activation='relu')(flatten_rho2)\n",
        "#dense1 = tf.keras.layers.Dense(initial_dense//2, activation='relu')(dense1)\n",
        "\n",
        "output = tf.keras.layers.Dense(2)(dense1)\n",
        "\n",
        "\n",
        "# Creamos el modelo y compulamos\n",
        "#model = tf.keras.models.Model(inputs=[rho1_layer, rho2_layer, fund_layer], outputs=output)\n",
        "#model = tf.keras.models.Model(inputs=[rho1_layer, rho2_layer], outputs=output)\n",
        "model = tf.keras.models.Model(inputs=[rho2_layer], outputs=output)\n",
        "\n",
        "\n",
        "model.summary()"
      ]
    },
    {
      "cell_type": "code",
      "execution_count": 21,
      "metadata": {
        "colab": {
          "base_uri": "https://localhost:8080/"
        },
        "id": "QZBtonvGbZuz",
        "outputId": "f197277e-a84b-4ffd-c81f-c81581707fb1"
      },
      "outputs": [
        {
          "name": "stdout",
          "output_type": "stream",
          "text": [
            "Model: \"model_1\"\n",
            "_________________________________________________________________\n",
            " Layer (type)                Output Shape              Param #   \n",
            "=================================================================\n",
            " rho1 (InputLayer)           [(None, 3, 3, 1)]         0         \n",
            "                                                                 \n",
            " flatten_1 (Flatten)         (None, 9)                 0         \n",
            "                                                                 \n",
            " concatenate_1 (Concatenate  (None, 9)                 0         \n",
            " )                                                               \n",
            "                                                                 \n",
            " dense_4 (Dense)             (None, 16)                160       \n",
            "                                                                 \n",
            " dense_5 (Dense)             (None, 32)                544       \n",
            "                                                                 \n",
            " dense_6 (Dense)             (None, 64)                2112      \n",
            "                                                                 \n",
            " dense_7 (Dense)             (None, 1)                 65        \n",
            "                                                                 \n",
            "=================================================================\n",
            "Total params: 2881 (11.25 KB)\n",
            "Trainable params: 2881 (11.25 KB)\n",
            "Non-trainable params: 0 (0.00 Byte)\n",
            "_________________________________________________________________\n"
          ]
        }
      ],
      "source": [
        "# Modelo denso + fundamental\n",
        "rho2_layer =  tf.keras.layers.Input(shape=(basis.m,basis.m, 1), name='rho1')\n",
        "flatten_rho2 = tf.keras.layers.Flatten()(rho2_layer)\n",
        "#rho2_layer =  tf.keras.layers.Input(shape=(rho2_size,rho2_size, 1), name='rho2')\n",
        "#flatten_rho2 = tf.keras.layers.Flatten()(rho2_layer)\n",
        "#fund_layer =  tf.keras.layers.Input(shape=(fund_size, fund_size, 1 ), name='fund')\n",
        "#flatten_fund = tf.keras.layers.Flatten()(fund_layer)\n",
        "\n",
        "dense1 = tf.keras.layers.concatenate([flatten_rho2])\n",
        "#dense1 = tf.keras.layers.concatenate([dense1, flatten_fund])\n",
        "#dense1 = tf.keras.layers.Dense(rho1_size*rho1_size, activation='relu')(dense1)\n",
        "\n",
        "local_size = 1\n",
        "l=4\n",
        "layer_s = [128//2**i for i in reversed(range(1,l))]\n",
        "for i in range(0,l-1):\n",
        "    dense1 = tf.keras.layers.Dense(layer_s[i], activation='relu')(dense1)\n",
        "\n",
        "output = tf.keras.layers.Dense(local_size)(dense1)\n",
        "# Creamos el modelo y compulamos\n",
        "model = tf.keras.models.Model(inputs=[rho2_layer], outputs=output)\n",
        "model.summary()\n"
      ]
    },
    {
      "cell_type": "code",
      "execution_count": 36,
      "metadata": {
        "id": "RgoMlCyyfBe-"
      },
      "outputs": [],
      "source": [
        "# LOSS FUNCTIONS\n",
        "r_size = basis.size\n",
        "\n",
        "# Custom loss function based on GS MSE\n",
        "def gs_loss(h_pred, h_true):\n",
        "    h_pred = tf.reshape(h_pred, shape=(-1,r_size,r_size))\n",
        "    e, v = tf.linalg.eigh(h_pred)\n",
        "    gs_pred = v[:, 0]\n",
        "\n",
        "    h_true = tf.reshape(h_true, shape=(-1,r_size,r_size))\n",
        "    e, v = tf.linalg.eigh(h_true)\n",
        "    gs_true = v[:, 0]\n",
        "\n",
        "    gs_diff = tf.norm(gs_true - gs_pred)\n",
        "\n",
        "    return gs_diff + tf.reduce_mean(tf.square(h_true - h_pred)) * 100\n",
        "\n",
        "def distance_to_hermitian(matrix):\n",
        "    hermitian_part = 0.5 * (matrix + tf.linalg.adjoint(matrix))\n",
        "    distance = tf.norm(matrix - hermitian_part, ord='euclidean')\n",
        "    return distance\n",
        "\n",
        "# Custom loss function based on MSE + non-hermitian penalization\n",
        "def herm_loss(h_pred, h_true):\n",
        "    h_pred_arr = tf.reshape(h_pred, shape=(-1,r_size,r_size))\n",
        "    return tf.reduce_mean(tf.square(h_true - h_pred)) + distance_to_hermitian(h_pred_arr)\n",
        "\n",
        "# Custom loss function based on h eigenvalues\n",
        "def eig_loss(h_pred, h_true):\n",
        "    eig_true = tf.sort(tf.math.real(tf.linalg.eigvals(tf.reshape(h_true, (-1, fund_size, fund_size)))))\n",
        "    eig_pred = tf.sort(tf.math.real(tf.linalg.eigvals(tf.reshape(h_pred, (-1, fund_size, fund_size)))))\n",
        "    return tf.reduce_mean(tf.square(eig_true - eig_pred))\n",
        "\n",
        "# MSE with a factor\n",
        "def mse_f(h_pred, h_true):\n",
        "    f = 1000\n",
        "    return tf.reduce_mean(tf.square(h_true - h_pred))*f\n",
        "\n",
        "# Spectral radius loss\n",
        "def spectral_loss(h_pred, h_true):\n",
        "    eig = tf.math.real(tf.linalg.eigvals(tf.reshape(h_true-h_pred, (-1, fund_size, fund_size))))\n",
        "    return tf.math.reduce_max(tf.abs(eig))\n",
        "\n",
        "# Hamiltonian MSE loss (using generators)\n",
        "def base_mse_loss(base_pred, base_true):\n",
        "    h_pred = gen_to_h_tf(base_pred, rho_1_arrays_tf)\n",
        "    h_true = gen_to_h_tf(base_true, rho_1_arrays_tf)\n",
        "    mat = tf.reshape(h_pred-h_true, (-1, fund_size, fund_size))\n",
        "    return tf.norm(mat, ord='fro', axis=[-1, -2])\n",
        "\n",
        "# Custom loss function based on h eigenvalues (using generators)\n",
        "def base_eig_loss(base_pred, base_true):\n",
        "    h_pred = gen_to_h_tf(base_pred, rho_1_arrays_tf)\n",
        "    h_true = gen_to_h_tf(base_true, rho_1_arrays_tf)\n",
        "    eig_true = tf.sort(tf.math.real(tf.linalg.eigvals(tf.reshape(h_true, (-1, fund_size, fund_size)))))\n",
        "    eig_pred = tf.sort(tf.math.real(tf.linalg.eigvals(tf.reshape(h_pred, (-1, fund_size, fund_size)))))\n",
        "    return tf.reduce_mean(tf.square(eig_true - eig_pred))\n",
        "\n",
        "# Custom loss function based on rho1 eigenvals\n",
        "## Auxiliary function\n",
        "def base_to_rho_1_tf(base_pred):\n",
        "    h = gen_to_h_tf(base_pred, rho_1_arrays_tf)\n",
        "    h = tf.reshape(h, (-1, fund_size, fund_size))\n",
        "    state = thermal_state_tf(h)\n",
        "    rho1 = rho_1_tf(state, rho_1_arrays_tf)\n",
        "    return rho1\n",
        "    \n",
        "def rho1_loss(base_pred, base_true):\n",
        "    mat = base_to_rho_1_tf(base_pred) - base_to_rho_1_tf(base_true)\n",
        "    return tf.norm(mat, ord='fro', axis=[-1, -2])\n",
        "\n",
        "# Custom loss function based on rho1 eigenvals (using generators)\n",
        "def base_rho1_loss(base_pred, base_true):\n",
        "    h_pred = gen_to_h_tf(base_pred, rho_1_arrays_tf)\n",
        "    h_true = gen_to_h_tf(base_true, rho_1_arrays_tf)\n",
        "    return tf.reduce_mean(tf.square(rho_1_eig_tf(h_pred) - rho_1_eig_tf(h_true)))*1000\n"
      ]
    },
    {
      "cell_type": "markdown",
      "metadata": {
        "id": "aiWk9piJtNIZ"
      },
      "source": [
        "## Entrenamiento"
      ]
    },
    {
      "cell_type": "code",
      "execution_count": 37,
      "metadata": {
        "colab": {
          "base_uri": "https://localhost:8080/"
        },
        "id": "nhJCHf0fQdRl",
        "outputId": "1821cf27-9ff5-4d67-e9f5-956d20eda5e2"
      },
      "outputs": [
        {
          "name": "stdout",
          "output_type": "stream",
          "text": [
            "Epoch 1/20\n"
          ]
        },
        {
          "name": "stderr",
          "output_type": "stream",
          "text": [
            "2023-12-06 21:49:52.808185: I tensorflow/core/common_runtime/gpu/gpu_device.cc:1886] Created device /device:GPU:0 with 20609 MB memory:  -> device: 0, name: NVIDIA L4, pci bus id: 0000:00:03.0, compute capability: 8.9\n"
          ]
        },
        {
          "name": "stdout",
          "output_type": "stream",
          "text": [
            "    155/Unknown - 2s 3ms/step - loss: 0.0359 - accuracy: 0.0000e+00 - mean_squared_error: 3.5909e-05"
          ]
        },
        {
          "name": "stderr",
          "output_type": "stream",
          "text": [
            "2023-12-06 21:49:54.448588: I tensorflow/core/framework/local_rendezvous.cc:421] Local rendezvous recv item cancelled. Key hash: 12749084622472637211\n",
            "2023-12-06 21:49:54.448655: I tensorflow/core/framework/local_rendezvous.cc:421] Local rendezvous recv item cancelled. Key hash: 10316076964217112533\n"
          ]
        },
        {
          "name": "stdout",
          "output_type": "stream",
          "text": [
            "157/157 [==============================] - 2s 5ms/step - loss: 0.0356 - accuracy: 0.0000e+00 - mean_squared_error: 3.5622e-05 - val_loss: 1.7034e-05 - val_accuracy: 0.0000e+00 - val_mean_squared_error: 1.7034e-08\n",
            "Epoch 2/20\n",
            " 59/157 [==========>...................] - ETA: 0s - loss: 1.5036e-05 - accuracy: 0.0000e+00 - mean_squared_error: 1.5036e-08"
          ]
        },
        {
          "name": "stderr",
          "output_type": "stream",
          "text": [
            "2023-12-06 21:49:54.874292: I tensorflow/core/framework/local_rendezvous.cc:421] Local rendezvous recv item cancelled. Key hash: 12749084622472637211\n",
            "2023-12-06 21:49:54.874345: I tensorflow/core/framework/local_rendezvous.cc:421] Local rendezvous recv item cancelled. Key hash: 10316076964217112533\n"
          ]
        },
        {
          "name": "stdout",
          "output_type": "stream",
          "text": [
            "157/157 [==============================] - 1s 5ms/step - loss: 1.3859e-05 - accuracy: 0.0000e+00 - mean_squared_error: 1.3859e-08 - val_loss: 1.3228e-05 - val_accuracy: 0.0000e+00 - val_mean_squared_error: 1.3228e-08\n",
            "Epoch 3/20\n",
            "157/157 [==============================] - 1s 5ms/step - loss: 1.2043e-05 - accuracy: 0.0000e+00 - mean_squared_error: 1.2043e-08 - val_loss: 1.2387e-05 - val_accuracy: 0.0000e+00 - val_mean_squared_error: 1.2387e-08\n",
            "Epoch 4/20\n",
            "157/157 [==============================] - 1s 5ms/step - loss: 1.1533e-05 - accuracy: 0.0000e+00 - mean_squared_error: 1.1533e-08 - val_loss: 1.1664e-05 - val_accuracy: 0.0000e+00 - val_mean_squared_error: 1.1664e-08\n",
            "Epoch 5/20\n",
            "157/157 [==============================] - 1s 5ms/step - loss: 1.1232e-05 - accuracy: 0.0000e+00 - mean_squared_error: 1.1232e-08 - val_loss: 1.4903e-05 - val_accuracy: 0.0000e+00 - val_mean_squared_error: 1.4903e-08\n",
            "Epoch 6/20\n",
            "157/157 [==============================] - 1s 5ms/step - loss: 1.1129e-05 - accuracy: 0.0000e+00 - mean_squared_error: 1.1129e-08 - val_loss: 1.3898e-05 - val_accuracy: 0.0000e+00 - val_mean_squared_error: 1.3898e-08\n",
            "Epoch 7/20\n",
            "157/157 [==============================] - 1s 5ms/step - loss: 1.1143e-05 - accuracy: 0.0000e+00 - mean_squared_error: 1.1143e-08 - val_loss: 2.2022e-05 - val_accuracy: 0.0000e+00 - val_mean_squared_error: 2.2022e-08\n",
            "Epoch 8/20\n",
            "157/157 [==============================] - 1s 5ms/step - loss: 1.1611e-05 - accuracy: 0.0000e+00 - mean_squared_error: 1.1611e-08 - val_loss: 1.0528e-05 - val_accuracy: 0.0000e+00 - val_mean_squared_error: 1.0528e-08\n",
            "Epoch 9/20\n",
            "157/157 [==============================] - 1s 5ms/step - loss: 1.2083e-05 - accuracy: 0.0000e+00 - mean_squared_error: 1.2083e-08 - val_loss: 1.3817e-05 - val_accuracy: 0.0000e+00 - val_mean_squared_error: 1.3817e-08\n",
            "Epoch 10/20\n",
            "157/157 [==============================] - 1s 5ms/step - loss: 1.3444e-05 - accuracy: 0.0000e+00 - mean_squared_error: 1.3444e-08 - val_loss: 6.7422e-05 - val_accuracy: 0.0000e+00 - val_mean_squared_error: 6.7422e-08\n",
            "Epoch 11/20\n",
            "157/157 [==============================] - 1s 5ms/step - loss: 1.9443e-05 - accuracy: 0.0000e+00 - mean_squared_error: 1.9443e-08 - val_loss: 7.6497e-05 - val_accuracy: 0.0000e+00 - val_mean_squared_error: 7.6497e-08\n",
            "Epoch 12/20\n",
            "157/157 [==============================] - 1s 5ms/step - loss: 2.6646e-05 - accuracy: 0.0000e+00 - mean_squared_error: 2.6646e-08 - val_loss: 2.9756e-04 - val_accuracy: 0.0000e+00 - val_mean_squared_error: 2.9756e-07\n",
            "Epoch 13/20\n",
            "157/157 [==============================] - 1s 5ms/step - loss: 0.0011 - accuracy: 0.0000e+00 - mean_squared_error: 1.0982e-06 - val_loss: 3.7914e-04 - val_accuracy: 0.0000e+00 - val_mean_squared_error: 3.7914e-07\n",
            "Epoch 14/20\n",
            "157/157 [==============================] - 1s 5ms/step - loss: 9.4325e-04 - accuracy: 0.0000e+00 - mean_squared_error: 9.4325e-07 - val_loss: 0.0017 - val_accuracy: 0.0000e+00 - val_mean_squared_error: 1.6647e-06\n",
            "Epoch 15/20\n",
            "157/157 [==============================] - 1s 5ms/step - loss: 0.0021 - accuracy: 0.0000e+00 - mean_squared_error: 2.0715e-06 - val_loss: 2.1892e-05 - val_accuracy: 0.0000e+00 - val_mean_squared_error: 2.1892e-08\n",
            "Epoch 16/20\n",
            "157/157 [==============================] - 1s 5ms/step - loss: 1.8470e-04 - accuracy: 0.0000e+00 - mean_squared_error: 1.8470e-07 - val_loss: 0.0145 - val_accuracy: 0.0000e+00 - val_mean_squared_error: 1.4521e-05\n",
            "Epoch 17/20\n",
            "157/157 [==============================] - 1s 5ms/step - loss: 0.0012 - accuracy: 0.0000e+00 - mean_squared_error: 1.1574e-06 - val_loss: 6.3286e-04 - val_accuracy: 0.0000e+00 - val_mean_squared_error: 6.3286e-07\n",
            "Epoch 18/20\n",
            "157/157 [==============================] - 1s 5ms/step - loss: 7.5384e-04 - accuracy: 0.0000e+00 - mean_squared_error: 7.5384e-07 - val_loss: 0.0105 - val_accuracy: 0.0000e+00 - val_mean_squared_error: 1.0514e-05\n",
            "Epoch 19/20\n",
            "157/157 [==============================] - 1s 5ms/step - loss: 0.0018 - accuracy: 0.0000e+00 - mean_squared_error: 1.7625e-06 - val_loss: 1.3493e-05 - val_accuracy: 0.0000e+00 - val_mean_squared_error: 1.3493e-08\n",
            "Epoch 20/20\n",
            "157/157 [==============================] - 1s 5ms/step - loss: 0.0031 - accuracy: 0.0000e+00 - mean_squared_error: 3.0638e-06 - val_loss: 0.0018 - val_accuracy: 0.0000e+00 - val_mean_squared_error: 1.8282e-06\n"
          ]
        }
      ],
      "source": [
        "from tensorflow.keras.optimizers import RMSprop, Adam, Nadam, Lion\n",
        "\n",
        "# Compile the model\n",
        "model.compile(optimizer=Adam(),\n",
        "              loss=mse_f,  \n",
        "              metrics=['accuracy', 'mean_squared_error'])\n",
        "\n",
        "# Train the model\n",
        "num_epochs = 20\n",
        "device_name = tf.test.gpu_device_name()\n",
        "\n",
        "with tf.device('/gpu:0'):\n",
        "    history = model.fit(train_dataset, epochs=num_epochs, validation_data=val_dataset)"
      ]
    },
    {
      "cell_type": "code",
      "execution_count": 44,
      "metadata": {},
      "outputs": [
        {
          "name": "stdout",
          "output_type": "stream",
          "text": [
            "0.01\n",
            "Epoch 1/20\n"
          ]
        },
        {
          "name": "stderr",
          "output_type": "stream",
          "text": [
            "2023-12-06 22:33:05.167370: I tensorflow/core/common_runtime/gpu/gpu_device.cc:1886] Created device /device:GPU:0 with 20609 MB memory:  -> device: 0, name: NVIDIA L4, pci bus id: 0000:00:03.0, compute capability: 8.9\n"
          ]
        },
        {
          "name": "stdout",
          "output_type": "stream",
          "text": [
            "     31/Unknown - 1s 5ms/step - loss: 2.0532 - accuracy: 0.0000e+00 - mean_squared_error: 2.0532"
          ]
        },
        {
          "name": "stderr",
          "output_type": "stream",
          "text": [
            "2023-12-06 22:33:06.482664: I tensorflow/core/framework/local_rendezvous.cc:425] Local rendezvous send item cancelled. Key hash: 15332740285842878431\n",
            "2023-12-06 22:33:06.482712: I tensorflow/core/framework/local_rendezvous.cc:421] Local rendezvous recv item cancelled. Key hash: 12749084622472637211\n",
            "2023-12-06 22:33:06.482734: I tensorflow/core/framework/local_rendezvous.cc:421] Local rendezvous recv item cancelled. Key hash: 10316076964217112533\n"
          ]
        },
        {
          "name": "stdout",
          "output_type": "stream",
          "text": [
            "40/40 [==============================] - 2s 17ms/step - loss: 2.0384 - accuracy: 0.0000e+00 - mean_squared_error: 2.0384 - val_loss: 2.0320 - val_accuracy: 0.0000e+00 - val_mean_squared_error: 2.0320\n",
            "Epoch 2/20\n",
            "31/40 [======================>.......] - ETA: 0s - loss: 1.9953 - accuracy: 0.0000e+00 - mean_squared_error: 1.9953"
          ]
        },
        {
          "name": "stderr",
          "output_type": "stream",
          "text": [
            "2023-12-06 22:33:06.910159: I tensorflow/core/framework/local_rendezvous.cc:421] Local rendezvous recv item cancelled. Key hash: 12749084622472637211\n",
            "2023-12-06 22:33:06.910220: I tensorflow/core/framework/local_rendezvous.cc:421] Local rendezvous recv item cancelled. Key hash: 10316076964217112533\n"
          ]
        },
        {
          "name": "stdout",
          "output_type": "stream",
          "text": [
            "40/40 [==============================] - 1s 13ms/step - loss: 1.9880 - accuracy: 0.0000e+00 - mean_squared_error: 1.9880 - val_loss: 2.0092 - val_accuracy: 0.0000e+00 - val_mean_squared_error: 2.0092\n",
            "Epoch 3/20\n",
            "40/40 [==============================] - 1s 13ms/step - loss: 1.9632 - accuracy: 0.0000e+00 - mean_squared_error: 1.9632 - val_loss: 1.9811 - val_accuracy: 0.0000e+00 - val_mean_squared_error: 1.9811\n",
            "Epoch 4/20\n",
            "40/40 [==============================] - 1s 13ms/step - loss: 1.9307 - accuracy: 0.0000e+00 - mean_squared_error: 1.9307 - val_loss: 1.9433 - val_accuracy: 0.0000e+00 - val_mean_squared_error: 1.9433\n",
            "Epoch 5/20\n",
            "40/40 [==============================] - 1s 13ms/step - loss: 1.8894 - accuracy: 0.0000e+00 - mean_squared_error: 1.8894 - val_loss: 1.8944 - val_accuracy: 0.0000e+00 - val_mean_squared_error: 1.8944\n",
            "Epoch 6/20\n",
            "40/40 [==============================] - 0s 12ms/step - loss: 1.8391 - accuracy: 0.0000e+00 - mean_squared_error: 1.8391 - val_loss: 1.8369 - val_accuracy: 0.0000e+00 - val_mean_squared_error: 1.8369\n",
            "Epoch 7/20\n",
            "40/40 [==============================] - 1s 13ms/step - loss: 1.7780 - accuracy: 0.0000e+00 - mean_squared_error: 1.7780 - val_loss: 1.7684 - val_accuracy: 0.0000e+00 - val_mean_squared_error: 1.7684\n",
            "Epoch 8/20\n",
            "40/40 [==============================] - 1s 13ms/step - loss: 1.7036 - accuracy: 0.0000e+00 - mean_squared_error: 1.7036 - val_loss: 1.6886 - val_accuracy: 0.0000e+00 - val_mean_squared_error: 1.6886\n",
            "Epoch 9/20\n",
            "40/40 [==============================] - 1s 13ms/step - loss: 1.6132 - accuracy: 0.0000e+00 - mean_squared_error: 1.6132 - val_loss: 1.5890 - val_accuracy: 0.0000e+00 - val_mean_squared_error: 1.5890\n",
            "Epoch 10/20\n",
            "40/40 [==============================] - 1s 13ms/step - loss: 1.5055 - accuracy: 0.0000e+00 - mean_squared_error: 1.5055 - val_loss: 1.4653 - val_accuracy: 0.0000e+00 - val_mean_squared_error: 1.4653\n",
            "Epoch 11/20\n",
            "40/40 [==============================] - 1s 13ms/step - loss: 1.3814 - accuracy: 0.0000e+00 - mean_squared_error: 1.3814 - val_loss: 1.3260 - val_accuracy: 0.0000e+00 - val_mean_squared_error: 1.3260\n",
            "Epoch 12/20\n",
            "40/40 [==============================] - 1s 13ms/step - loss: 1.2403 - accuracy: 0.0000e+00 - mean_squared_error: 1.2403 - val_loss: 1.1746 - val_accuracy: 0.0000e+00 - val_mean_squared_error: 1.1746\n",
            "Epoch 13/20\n",
            "40/40 [==============================] - 1s 13ms/step - loss: 1.0837 - accuracy: 0.0000e+00 - mean_squared_error: 1.0837 - val_loss: 1.0135 - val_accuracy: 0.0000e+00 - val_mean_squared_error: 1.0135\n",
            "Epoch 14/20\n",
            "40/40 [==============================] - 1s 13ms/step - loss: 0.9143 - accuracy: 0.0000e+00 - mean_squared_error: 0.9143 - val_loss: 0.8359 - val_accuracy: 0.0000e+00 - val_mean_squared_error: 0.8359\n",
            "Epoch 15/20\n",
            "40/40 [==============================] - 1s 13ms/step - loss: 0.7384 - accuracy: 0.0000e+00 - mean_squared_error: 0.7384 - val_loss: 0.6571 - val_accuracy: 0.0000e+00 - val_mean_squared_error: 0.6571\n",
            "Epoch 16/20\n",
            "40/40 [==============================] - 1s 13ms/step - loss: 0.5665 - accuracy: 0.0000e+00 - mean_squared_error: 0.5665 - val_loss: 0.4879 - val_accuracy: 0.0000e+00 - val_mean_squared_error: 0.4879\n",
            "Epoch 17/20\n",
            "40/40 [==============================] - 1s 13ms/step - loss: 0.4076 - accuracy: 0.0000e+00 - mean_squared_error: 0.4076 - val_loss: 0.3383 - val_accuracy: 0.0000e+00 - val_mean_squared_error: 0.3383\n",
            "Epoch 18/20\n",
            "40/40 [==============================] - 1s 13ms/step - loss: 0.2726 - accuracy: 0.0000e+00 - mean_squared_error: 0.2726 - val_loss: 0.2144 - val_accuracy: 0.0000e+00 - val_mean_squared_error: 0.2144\n",
            "Epoch 19/20\n",
            "40/40 [==============================] - 1s 14ms/step - loss: 0.1666 - accuracy: 0.0000e+00 - mean_squared_error: 0.1666 - val_loss: 0.1232 - val_accuracy: 0.0000e+00 - val_mean_squared_error: 0.1232\n",
            "Epoch 20/20\n",
            "40/40 [==============================] - 1s 13ms/step - loss: 0.0918 - accuracy: 0.0000e+00 - mean_squared_error: 0.0918 - val_loss: 0.0648 - val_accuracy: 0.0000e+00 - val_mean_squared_error: 0.0648\n",
            "32/32 [==============================] - 0s 1ms/step\n",
            "0.01 0.24935162 2.0569496\n",
            "0.010974987654930561\n",
            "Epoch 1/20\n"
          ]
        },
        {
          "name": "stderr",
          "output_type": "stream",
          "text": [
            "2023-12-06 22:33:17.364500: I tensorflow/core/common_runtime/gpu/gpu_device.cc:1886] Created device /device:GPU:0 with 20609 MB memory:  -> device: 0, name: NVIDIA L4, pci bus id: 0000:00:03.0, compute capability: 8.9\n"
          ]
        },
        {
          "name": "stdout",
          "output_type": "stream",
          "text": [
            "     31/Unknown - 1s 5ms/step - loss: 0.0334 - accuracy: 0.0000e+00 - mean_squared_error: 0.0334"
          ]
        },
        {
          "name": "stderr",
          "output_type": "stream",
          "text": [
            "2023-12-06 22:33:18.667385: I tensorflow/core/framework/local_rendezvous.cc:425] Local rendezvous send item cancelled. Key hash: 15332740285842878431\n",
            "2023-12-06 22:33:18.667440: I tensorflow/core/framework/local_rendezvous.cc:421] Local rendezvous recv item cancelled. Key hash: 12749084622472637211\n",
            "2023-12-06 22:33:18.667470: I tensorflow/core/framework/local_rendezvous.cc:421] Local rendezvous recv item cancelled. Key hash: 10316076964217112533\n"
          ]
        },
        {
          "name": "stdout",
          "output_type": "stream",
          "text": [
            "40/40 [==============================] - 2s 17ms/step - loss: 0.0295 - accuracy: 0.0000e+00 - mean_squared_error: 0.0295 - val_loss: 0.0123 - val_accuracy: 0.0000e+00 - val_mean_squared_error: 0.0123\n",
            "Epoch 2/20\n",
            "31/40 [======================>.......] - ETA: 0s - loss: 0.0085 - accuracy: 0.0000e+00 - mean_squared_error: 0.0085"
          ]
        },
        {
          "name": "stderr",
          "output_type": "stream",
          "text": [
            "2023-12-06 22:33:19.094419: I tensorflow/core/framework/local_rendezvous.cc:421] Local rendezvous recv item cancelled. Key hash: 12749084622472637211\n",
            "2023-12-06 22:33:19.094473: I tensorflow/core/framework/local_rendezvous.cc:421] Local rendezvous recv item cancelled. Key hash: 10316076964217112533\n"
          ]
        },
        {
          "name": "stdout",
          "output_type": "stream",
          "text": [
            "40/40 [==============================] - 1s 13ms/step - loss: 0.0078 - accuracy: 0.0000e+00 - mean_squared_error: 0.0078 - val_loss: 0.0042 - val_accuracy: 0.0000e+00 - val_mean_squared_error: 0.0042\n",
            "Epoch 3/20\n",
            "40/40 [==============================] - 1s 13ms/step - loss: 0.0025 - accuracy: 0.0000e+00 - mean_squared_error: 0.0025 - val_loss: 0.0012 - val_accuracy: 0.0000e+00 - val_mean_squared_error: 0.0012\n",
            "Epoch 4/20\n",
            "40/40 [==============================] - 1s 13ms/step - loss: 6.2817e-04 - accuracy: 0.0000e+00 - mean_squared_error: 6.2817e-04 - val_loss: 2.5656e-04 - val_accuracy: 0.0000e+00 - val_mean_squared_error: 2.5656e-04\n",
            "Epoch 5/20\n",
            "40/40 [==============================] - 1s 13ms/step - loss: 1.5303e-04 - accuracy: 0.0000e+00 - mean_squared_error: 1.5303e-04 - val_loss: 9.3244e-05 - val_accuracy: 0.0000e+00 - val_mean_squared_error: 9.3244e-05\n",
            "Epoch 6/20\n",
            "40/40 [==============================] - 1s 13ms/step - loss: 8.0358e-05 - accuracy: 0.0000e+00 - mean_squared_error: 8.0358e-05 - val_loss: 7.2980e-05 - val_accuracy: 0.0000e+00 - val_mean_squared_error: 7.2980e-05\n",
            "Epoch 7/20\n",
            "40/40 [==============================] - 1s 13ms/step - loss: 7.2513e-05 - accuracy: 0.0000e+00 - mean_squared_error: 7.2513e-05 - val_loss: 7.2159e-05 - val_accuracy: 0.0000e+00 - val_mean_squared_error: 7.2159e-05\n",
            "Epoch 8/20\n",
            "40/40 [==============================] - 0s 12ms/step - loss: 6.9890e-05 - accuracy: 0.0000e+00 - mean_squared_error: 6.9890e-05 - val_loss: 6.9057e-05 - val_accuracy: 0.0000e+00 - val_mean_squared_error: 6.9057e-05\n",
            "Epoch 9/20\n",
            "40/40 [==============================] - 1s 13ms/step - loss: 6.7591e-05 - accuracy: 0.0000e+00 - mean_squared_error: 6.7591e-05 - val_loss: 6.4960e-05 - val_accuracy: 0.0000e+00 - val_mean_squared_error: 6.4960e-05\n",
            "Epoch 10/20\n",
            "40/40 [==============================] - 1s 13ms/step - loss: 6.4699e-05 - accuracy: 0.0000e+00 - mean_squared_error: 6.4699e-05 - val_loss: 6.2142e-05 - val_accuracy: 0.0000e+00 - val_mean_squared_error: 6.2142e-05\n",
            "Epoch 11/20\n",
            "40/40 [==============================] - 1s 13ms/step - loss: 6.2136e-05 - accuracy: 0.0000e+00 - mean_squared_error: 6.2136e-05 - val_loss: 6.0531e-05 - val_accuracy: 0.0000e+00 - val_mean_squared_error: 6.0531e-05\n",
            "Epoch 12/20\n",
            "40/40 [==============================] - 1s 13ms/step - loss: 6.0973e-05 - accuracy: 0.0000e+00 - mean_squared_error: 6.0973e-05 - val_loss: 5.9964e-05 - val_accuracy: 0.0000e+00 - val_mean_squared_error: 5.9964e-05\n",
            "Epoch 13/20\n",
            "40/40 [==============================] - 1s 13ms/step - loss: 6.0163e-05 - accuracy: 0.0000e+00 - mean_squared_error: 6.0163e-05 - val_loss: 5.8681e-05 - val_accuracy: 0.0000e+00 - val_mean_squared_error: 5.8681e-05\n",
            "Epoch 14/20\n",
            "40/40 [==============================] - 1s 13ms/step - loss: 5.9551e-05 - accuracy: 0.0000e+00 - mean_squared_error: 5.9551e-05 - val_loss: 5.8595e-05 - val_accuracy: 0.0000e+00 - val_mean_squared_error: 5.8595e-05\n",
            "Epoch 15/20\n",
            "40/40 [==============================] - 1s 13ms/step - loss: 5.9449e-05 - accuracy: 0.0000e+00 - mean_squared_error: 5.9449e-05 - val_loss: 5.9355e-05 - val_accuracy: 0.0000e+00 - val_mean_squared_error: 5.9355e-05\n",
            "Epoch 16/20\n",
            "40/40 [==============================] - 1s 13ms/step - loss: 5.9582e-05 - accuracy: 0.0000e+00 - mean_squared_error: 5.9582e-05 - val_loss: 5.9716e-05 - val_accuracy: 0.0000e+00 - val_mean_squared_error: 5.9716e-05\n",
            "Epoch 17/20\n",
            "40/40 [==============================] - 1s 13ms/step - loss: 6.0223e-05 - accuracy: 0.0000e+00 - mean_squared_error: 6.0223e-05 - val_loss: 5.9102e-05 - val_accuracy: 0.0000e+00 - val_mean_squared_error: 5.9102e-05\n",
            "Epoch 18/20\n",
            "40/40 [==============================] - 1s 14ms/step - loss: 6.0725e-05 - accuracy: 0.0000e+00 - mean_squared_error: 6.0725e-05 - val_loss: 5.9011e-05 - val_accuracy: 0.0000e+00 - val_mean_squared_error: 5.9011e-05\n",
            "Epoch 19/20\n",
            "40/40 [==============================] - 1s 14ms/step - loss: 6.0115e-05 - accuracy: 0.0000e+00 - mean_squared_error: 6.0115e-05 - val_loss: 5.9308e-05 - val_accuracy: 0.0000e+00 - val_mean_squared_error: 5.9308e-05\n",
            "Epoch 20/20\n",
            "40/40 [==============================] - 1s 13ms/step - loss: 6.0658e-05 - accuracy: 0.0000e+00 - mean_squared_error: 6.0658e-05 - val_loss: 5.8470e-05 - val_accuracy: 0.0000e+00 - val_mean_squared_error: 5.8470e-05\n",
            "32/32 [==============================] - 0s 1ms/step\n",
            "0.010974987654930561 0.0077937515 2.0394976\n",
            "0.012045035402587823\n",
            "Epoch 1/20\n"
          ]
        },
        {
          "name": "stderr",
          "output_type": "stream",
          "text": [
            "2023-12-06 22:33:29.670225: I tensorflow/core/common_runtime/gpu/gpu_device.cc:1886] Created device /device:GPU:0 with 20609 MB memory:  -> device: 0, name: NVIDIA L4, pci bus id: 0000:00:03.0, compute capability: 8.9\n"
          ]
        },
        {
          "name": "stdout",
          "output_type": "stream",
          "text": [
            "     36/Unknown - 1s 6ms/step - loss: 0.0264 - accuracy: 0.0000e+00 - mean_squared_error: 0.0264"
          ]
        },
        {
          "name": "stderr",
          "output_type": "stream",
          "text": [
            "2023-12-06 22:33:31.013460: I tensorflow/core/framework/local_rendezvous.cc:421] Local rendezvous recv item cancelled. Key hash: 12749084622472637211\n",
            "2023-12-06 22:33:31.013517: I tensorflow/core/framework/local_rendezvous.cc:421] Local rendezvous recv item cancelled. Key hash: 10316076964217112533\n"
          ]
        },
        {
          "name": "stdout",
          "output_type": "stream",
          "text": [
            "40/40 [==============================] - 2s 17ms/step - loss: 0.0248 - accuracy: 0.0000e+00 - mean_squared_error: 0.0248 - val_loss: 0.0052 - val_accuracy: 0.0000e+00 - val_mean_squared_error: 0.0052\n",
            "Epoch 2/20\n",
            "31/40 [======================>.......] - ETA: 0s - loss: 0.0013 - accuracy: 0.0000e+00 - mean_squared_error: 0.0013"
          ]
        },
        {
          "name": "stderr",
          "output_type": "stream",
          "text": [
            "2023-12-06 22:33:31.428310: I tensorflow/core/framework/local_rendezvous.cc:421] Local rendezvous recv item cancelled. Key hash: 12749084622472637211\n",
            "2023-12-06 22:33:31.428361: I tensorflow/core/framework/local_rendezvous.cc:421] Local rendezvous recv item cancelled. Key hash: 10316076964217112533\n"
          ]
        },
        {
          "name": "stdout",
          "output_type": "stream",
          "text": [
            "40/40 [==============================] - 1s 13ms/step - loss: 0.0011 - accuracy: 0.0000e+00 - mean_squared_error: 0.0011 - val_loss: 2.6537e-04 - val_accuracy: 0.0000e+00 - val_mean_squared_error: 2.6537e-04\n",
            "Epoch 3/20\n",
            "40/40 [==============================] - 1s 13ms/step - loss: 1.9737e-04 - accuracy: 0.0000e+00 - mean_squared_error: 1.9737e-04 - val_loss: 1.7660e-04 - val_accuracy: 0.0000e+00 - val_mean_squared_error: 1.7660e-04\n",
            "Epoch 4/20\n",
            "40/40 [==============================] - 1s 13ms/step - loss: 1.6235e-04 - accuracy: 0.0000e+00 - mean_squared_error: 1.6235e-04 - val_loss: 1.5422e-04 - val_accuracy: 0.0000e+00 - val_mean_squared_error: 1.5422e-04\n",
            "Epoch 5/20\n",
            "40/40 [==============================] - 1s 13ms/step - loss: 1.4305e-04 - accuracy: 0.0000e+00 - mean_squared_error: 1.4305e-04 - val_loss: 1.3732e-04 - val_accuracy: 0.0000e+00 - val_mean_squared_error: 1.3732e-04\n",
            "Epoch 6/20\n",
            "40/40 [==============================] - 1s 13ms/step - loss: 1.2902e-04 - accuracy: 0.0000e+00 - mean_squared_error: 1.2902e-04 - val_loss: 1.2542e-04 - val_accuracy: 0.0000e+00 - val_mean_squared_error: 1.2542e-04\n",
            "Epoch 7/20\n",
            "40/40 [==============================] - 1s 14ms/step - loss: 1.1739e-04 - accuracy: 0.0000e+00 - mean_squared_error: 1.1739e-04 - val_loss: 1.1515e-04 - val_accuracy: 0.0000e+00 - val_mean_squared_error: 1.1515e-04\n",
            "Epoch 8/20\n",
            "40/40 [==============================] - 1s 13ms/step - loss: 1.0655e-04 - accuracy: 0.0000e+00 - mean_squared_error: 1.0655e-04 - val_loss: 1.0561e-04 - val_accuracy: 0.0000e+00 - val_mean_squared_error: 1.0561e-04\n",
            "Epoch 9/20\n",
            "40/40 [==============================] - 1s 13ms/step - loss: 9.6655e-05 - accuracy: 0.0000e+00 - mean_squared_error: 9.6655e-05 - val_loss: 9.4845e-05 - val_accuracy: 0.0000e+00 - val_mean_squared_error: 9.4845e-05\n",
            "Epoch 10/20\n",
            "40/40 [==============================] - 1s 14ms/step - loss: 8.8259e-05 - accuracy: 0.0000e+00 - mean_squared_error: 8.8259e-05 - val_loss: 8.7046e-05 - val_accuracy: 0.0000e+00 - val_mean_squared_error: 8.7046e-05\n",
            "Epoch 11/20\n",
            "40/40 [==============================] - 1s 13ms/step - loss: 8.1660e-05 - accuracy: 0.0000e+00 - mean_squared_error: 8.1660e-05 - val_loss: 7.8417e-05 - val_accuracy: 0.0000e+00 - val_mean_squared_error: 7.8417e-05\n",
            "Epoch 12/20\n",
            "40/40 [==============================] - 1s 13ms/step - loss: 7.5915e-05 - accuracy: 0.0000e+00 - mean_squared_error: 7.5915e-05 - val_loss: 7.2493e-05 - val_accuracy: 0.0000e+00 - val_mean_squared_error: 7.2493e-05\n",
            "Epoch 13/20\n",
            "40/40 [==============================] - 0s 12ms/step - loss: 7.0413e-05 - accuracy: 0.0000e+00 - mean_squared_error: 7.0413e-05 - val_loss: 6.8724e-05 - val_accuracy: 0.0000e+00 - val_mean_squared_error: 6.8724e-05\n",
            "Epoch 14/20\n",
            "40/40 [==============================] - 1s 13ms/step - loss: 6.7510e-05 - accuracy: 0.0000e+00 - mean_squared_error: 6.7510e-05 - val_loss: 6.5264e-05 - val_accuracy: 0.0000e+00 - val_mean_squared_error: 6.5264e-05\n",
            "Epoch 15/20\n",
            "40/40 [==============================] - 1s 13ms/step - loss: 6.4693e-05 - accuracy: 0.0000e+00 - mean_squared_error: 6.4693e-05 - val_loss: 6.1502e-05 - val_accuracy: 0.0000e+00 - val_mean_squared_error: 6.1502e-05\n",
            "Epoch 16/20\n",
            "40/40 [==============================] - 1s 13ms/step - loss: 6.0808e-05 - accuracy: 0.0000e+00 - mean_squared_error: 6.0808e-05 - val_loss: 6.0153e-05 - val_accuracy: 0.0000e+00 - val_mean_squared_error: 6.0153e-05\n",
            "Epoch 17/20\n",
            "40/40 [==============================] - 1s 13ms/step - loss: 5.8940e-05 - accuracy: 0.0000e+00 - mean_squared_error: 5.8940e-05 - val_loss: 5.7779e-05 - val_accuracy: 0.0000e+00 - val_mean_squared_error: 5.7779e-05\n",
            "Epoch 18/20\n",
            "40/40 [==============================] - 1s 13ms/step - loss: 5.8045e-05 - accuracy: 0.0000e+00 - mean_squared_error: 5.8045e-05 - val_loss: 5.7409e-05 - val_accuracy: 0.0000e+00 - val_mean_squared_error: 5.7409e-05\n",
            "Epoch 19/20\n",
            "40/40 [==============================] - 1s 13ms/step - loss: 5.7314e-05 - accuracy: 0.0000e+00 - mean_squared_error: 5.7314e-05 - val_loss: 5.6248e-05 - val_accuracy: 0.0000e+00 - val_mean_squared_error: 5.6248e-05\n",
            "Epoch 20/20\n",
            "40/40 [==============================] - 1s 13ms/step - loss: 5.6524e-05 - accuracy: 0.0000e+00 - mean_squared_error: 5.6524e-05 - val_loss: 5.6382e-05 - val_accuracy: 0.0000e+00 - val_mean_squared_error: 5.6382e-05\n",
            "32/32 [==============================] - 0s 1ms/step\n",
            "0.012045035402587823 0.0076128105 1.9495535\n",
            "0.013219411484660288\n",
            "Epoch 1/20\n"
          ]
        },
        {
          "name": "stderr",
          "output_type": "stream",
          "text": [
            "2023-12-06 22:33:41.752933: I tensorflow/core/common_runtime/gpu/gpu_device.cc:1886] Created device /device:GPU:0 with 20609 MB memory:  -> device: 0, name: NVIDIA L4, pci bus id: 0000:00:03.0, compute capability: 8.9\n"
          ]
        },
        {
          "name": "stdout",
          "output_type": "stream",
          "text": [
            "40/40 [==============================] - 2s 17ms/step - loss: 0.0217 - accuracy: 0.0000e+00 - mean_squared_error: 0.0217 - val_loss: 0.0039 - val_accuracy: 0.0000e+00 - val_mean_squared_error: 0.0039\n",
            "Epoch 2/20\n",
            "28/40 [====================>.........] - ETA: 0s - loss: 0.0020 - accuracy: 0.0000e+00 - mean_squared_error: 0.0020"
          ]
        },
        {
          "name": "stderr",
          "output_type": "stream",
          "text": [
            "2023-12-06 22:33:43.494438: I tensorflow/core/framework/local_rendezvous.cc:421] Local rendezvous recv item cancelled. Key hash: 12749084622472637211\n"
          ]
        },
        {
          "name": "stdout",
          "output_type": "stream",
          "text": [
            "40/40 [==============================] - 1s 14ms/step - loss: 0.0018 - accuracy: 0.0000e+00 - mean_squared_error: 0.0018 - val_loss: 0.0012 - val_accuracy: 0.0000e+00 - val_mean_squared_error: 0.0012\n",
            "Epoch 3/20\n",
            "40/40 [==============================] - 0s 12ms/step - loss: 0.0012 - accuracy: 0.0000e+00 - mean_squared_error: 0.0012 - val_loss: 0.0012 - val_accuracy: 0.0000e+00 - val_mean_squared_error: 0.0012\n",
            "Epoch 4/20\n",
            "40/40 [==============================] - 1s 13ms/step - loss: 0.0012 - accuracy: 0.0000e+00 - mean_squared_error: 0.0012 - val_loss: 0.0012 - val_accuracy: 0.0000e+00 - val_mean_squared_error: 0.0012\n",
            "Epoch 5/20\n",
            "40/40 [==============================] - 1s 13ms/step - loss: 0.0012 - accuracy: 0.0000e+00 - mean_squared_error: 0.0012 - val_loss: 0.0012 - val_accuracy: 0.0000e+00 - val_mean_squared_error: 0.0012\n",
            "Epoch 6/20\n",
            "40/40 [==============================] - 1s 13ms/step - loss: 0.0012 - accuracy: 0.0000e+00 - mean_squared_error: 0.0012 - val_loss: 0.0012 - val_accuracy: 0.0000e+00 - val_mean_squared_error: 0.0012\n",
            "Epoch 7/20\n",
            "40/40 [==============================] - 1s 13ms/step - loss: 0.0011 - accuracy: 0.0000e+00 - mean_squared_error: 0.0011 - val_loss: 0.0011 - val_accuracy: 0.0000e+00 - val_mean_squared_error: 0.0011\n",
            "Epoch 8/20\n",
            "40/40 [==============================] - 1s 14ms/step - loss: 0.0011 - accuracy: 0.0000e+00 - mean_squared_error: 0.0011 - val_loss: 0.0011 - val_accuracy: 0.0000e+00 - val_mean_squared_error: 0.0011\n",
            "Epoch 9/20\n",
            "40/40 [==============================] - 1s 13ms/step - loss: 0.0011 - accuracy: 0.0000e+00 - mean_squared_error: 0.0011 - val_loss: 0.0011 - val_accuracy: 0.0000e+00 - val_mean_squared_error: 0.0011\n",
            "Epoch 10/20\n",
            "40/40 [==============================] - 1s 13ms/step - loss: 0.0011 - accuracy: 0.0000e+00 - mean_squared_error: 0.0011 - val_loss: 0.0011 - val_accuracy: 0.0000e+00 - val_mean_squared_error: 0.0011\n",
            "Epoch 11/20\n",
            "40/40 [==============================] - 1s 13ms/step - loss: 0.0011 - accuracy: 0.0000e+00 - mean_squared_error: 0.0011 - val_loss: 0.0011 - val_accuracy: 0.0000e+00 - val_mean_squared_error: 0.0011\n",
            "Epoch 12/20\n",
            "40/40 [==============================] - 1s 13ms/step - loss: 0.0010 - accuracy: 0.0000e+00 - mean_squared_error: 0.0010 - val_loss: 0.0010 - val_accuracy: 0.0000e+00 - val_mean_squared_error: 0.0010\n",
            "Epoch 13/20\n",
            "40/40 [==============================] - 1s 13ms/step - loss: 0.0010 - accuracy: 0.0000e+00 - mean_squared_error: 0.0010 - val_loss: 0.0010 - val_accuracy: 0.0000e+00 - val_mean_squared_error: 0.0010\n",
            "Epoch 14/20\n",
            "40/40 [==============================] - 1s 13ms/step - loss: 9.9114e-04 - accuracy: 0.0000e+00 - mean_squared_error: 9.9114e-04 - val_loss: 0.0010 - val_accuracy: 0.0000e+00 - val_mean_squared_error: 0.0010\n",
            "Epoch 15/20\n",
            "40/40 [==============================] - 1s 13ms/step - loss: 9.5612e-04 - accuracy: 0.0000e+00 - mean_squared_error: 9.5612e-04 - val_loss: 9.6011e-04 - val_accuracy: 0.0000e+00 - val_mean_squared_error: 9.6011e-04\n",
            "Epoch 16/20\n",
            "40/40 [==============================] - 0s 13ms/step - loss: 8.9788e-04 - accuracy: 0.0000e+00 - mean_squared_error: 8.9788e-04 - val_loss: 8.7831e-04 - val_accuracy: 0.0000e+00 - val_mean_squared_error: 8.7831e-04\n",
            "Epoch 17/20\n",
            "40/40 [==============================] - 0s 13ms/step - loss: 8.1663e-04 - accuracy: 0.0000e+00 - mean_squared_error: 8.1663e-04 - val_loss: 8.0700e-04 - val_accuracy: 0.0000e+00 - val_mean_squared_error: 8.0700e-04\n",
            "Epoch 18/20\n",
            "40/40 [==============================] - 1s 13ms/step - loss: 7.0110e-04 - accuracy: 0.0000e+00 - mean_squared_error: 7.0110e-04 - val_loss: 6.8068e-04 - val_accuracy: 0.0000e+00 - val_mean_squared_error: 6.8068e-04\n",
            "Epoch 19/20\n",
            "40/40 [==============================] - 1s 13ms/step - loss: 5.3940e-04 - accuracy: 0.0000e+00 - mean_squared_error: 5.3940e-04 - val_loss: 4.6936e-04 - val_accuracy: 0.0000e+00 - val_mean_squared_error: 4.6936e-04\n",
            "Epoch 20/20\n",
            "40/40 [==============================] - 1s 13ms/step - loss: 3.5778e-04 - accuracy: 0.0000e+00 - mean_squared_error: 3.5778e-04 - val_loss: 2.4654e-04 - val_accuracy: 0.0000e+00 - val_mean_squared_error: 2.4654e-04\n",
            "32/32 [==============================] - 0s 1ms/step\n",
            "0.013219411484660288 0.01540465 2.033513\n",
            "0.014508287784959394\n",
            "Epoch 1/20\n"
          ]
        },
        {
          "name": "stderr",
          "output_type": "stream",
          "text": [
            "2023-12-06 22:33:53.861978: I tensorflow/core/common_runtime/gpu/gpu_device.cc:1886] Created device /device:GPU:0 with 20609 MB memory:  -> device: 0, name: NVIDIA L4, pci bus id: 0000:00:03.0, compute capability: 8.9\n"
          ]
        },
        {
          "name": "stdout",
          "output_type": "stream",
          "text": [
            "     31/Unknown - 1s 5ms/step - loss: 0.0251 - accuracy: 0.0000e+00 - mean_squared_error: 0.0251"
          ]
        },
        {
          "name": "stderr",
          "output_type": "stream",
          "text": [
            "2023-12-06 22:33:55.184229: I tensorflow/core/framework/local_rendezvous.cc:425] Local rendezvous send item cancelled. Key hash: 15332740285842878431\n",
            "2023-12-06 22:33:55.184287: I tensorflow/core/framework/local_rendezvous.cc:421] Local rendezvous recv item cancelled. Key hash: 12749084622472637211\n",
            "2023-12-06 22:33:55.184310: I tensorflow/core/framework/local_rendezvous.cc:421] Local rendezvous recv item cancelled. Key hash: 10316076964217112533\n"
          ]
        },
        {
          "name": "stdout",
          "output_type": "stream",
          "text": [
            "40/40 [==============================] - 2s 16ms/step - loss: 0.0208 - accuracy: 0.0000e+00 - mean_squared_error: 0.0208 - val_loss: 0.0031 - val_accuracy: 0.0000e+00 - val_mean_squared_error: 0.0031\n",
            "Epoch 2/20\n",
            "27/40 [===================>..........] - ETA: 0s - loss: 0.0013 - accuracy: 0.0000e+00 - mean_squared_error: 0.0013"
          ]
        },
        {
          "name": "stderr",
          "output_type": "stream",
          "text": [
            "2023-12-06 22:33:55.604909: I tensorflow/core/framework/local_rendezvous.cc:421] Local rendezvous recv item cancelled. Key hash: 12749084622472637211\n",
            "2023-12-06 22:33:55.604963: I tensorflow/core/framework/local_rendezvous.cc:421] Local rendezvous recv item cancelled. Key hash: 10316076964217112533\n"
          ]
        },
        {
          "name": "stdout",
          "output_type": "stream",
          "text": [
            "40/40 [==============================] - 1s 13ms/step - loss: 0.0011 - accuracy: 0.0000e+00 - mean_squared_error: 0.0011 - val_loss: 6.5204e-04 - val_accuracy: 0.0000e+00 - val_mean_squared_error: 6.5204e-04\n",
            "Epoch 3/20\n",
            "40/40 [==============================] - 1s 13ms/step - loss: 6.1786e-04 - accuracy: 0.0000e+00 - mean_squared_error: 6.1786e-04 - val_loss: 5.8964e-04 - val_accuracy: 0.0000e+00 - val_mean_squared_error: 5.8964e-04\n",
            "Epoch 4/20\n",
            "40/40 [==============================] - 1s 13ms/step - loss: 5.3948e-04 - accuracy: 0.0000e+00 - mean_squared_error: 5.3948e-04 - val_loss: 4.5146e-04 - val_accuracy: 0.0000e+00 - val_mean_squared_error: 4.5146e-04\n",
            "Epoch 5/20\n",
            "40/40 [==============================] - 1s 13ms/step - loss: 3.3503e-04 - accuracy: 0.0000e+00 - mean_squared_error: 3.3503e-04 - val_loss: 2.4876e-04 - val_accuracy: 0.0000e+00 - val_mean_squared_error: 2.4876e-04\n",
            "Epoch 6/20\n",
            "40/40 [==============================] - 1s 13ms/step - loss: 2.1985e-04 - accuracy: 0.0000e+00 - mean_squared_error: 2.1985e-04 - val_loss: 2.0000e-04 - val_accuracy: 0.0000e+00 - val_mean_squared_error: 2.0000e-04\n",
            "Epoch 7/20\n",
            "40/40 [==============================] - 1s 13ms/step - loss: 1.9150e-04 - accuracy: 0.0000e+00 - mean_squared_error: 1.9150e-04 - val_loss: 1.8280e-04 - val_accuracy: 0.0000e+00 - val_mean_squared_error: 1.8280e-04\n",
            "Epoch 8/20\n",
            "40/40 [==============================] - 1s 13ms/step - loss: 1.7431e-04 - accuracy: 0.0000e+00 - mean_squared_error: 1.7431e-04 - val_loss: 1.7166e-04 - val_accuracy: 0.0000e+00 - val_mean_squared_error: 1.7166e-04\n",
            "Epoch 9/20\n",
            "40/40 [==============================] - 1s 13ms/step - loss: 1.5746e-04 - accuracy: 0.0000e+00 - mean_squared_error: 1.5746e-04 - val_loss: 1.6134e-04 - val_accuracy: 0.0000e+00 - val_mean_squared_error: 1.6134e-04\n",
            "Epoch 10/20\n",
            "40/40 [==============================] - 1s 13ms/step - loss: 1.4233e-04 - accuracy: 0.0000e+00 - mean_squared_error: 1.4233e-04 - val_loss: 1.5552e-04 - val_accuracy: 0.0000e+00 - val_mean_squared_error: 1.5552e-04\n",
            "Epoch 11/20\n",
            "40/40 [==============================] - 1s 13ms/step - loss: 1.2945e-04 - accuracy: 0.0000e+00 - mean_squared_error: 1.2945e-04 - val_loss: 1.5118e-04 - val_accuracy: 0.0000e+00 - val_mean_squared_error: 1.5118e-04\n",
            "Epoch 12/20\n",
            "40/40 [==============================] - 1s 13ms/step - loss: 1.1500e-04 - accuracy: 0.0000e+00 - mean_squared_error: 1.1500e-04 - val_loss: 1.1743e-04 - val_accuracy: 0.0000e+00 - val_mean_squared_error: 1.1743e-04\n",
            "Epoch 13/20\n",
            "40/40 [==============================] - 1s 13ms/step - loss: 1.0068e-04 - accuracy: 0.0000e+00 - mean_squared_error: 1.0068e-04 - val_loss: 1.0371e-04 - val_accuracy: 0.0000e+00 - val_mean_squared_error: 1.0371e-04\n",
            "Epoch 14/20\n",
            "40/40 [==============================] - 0s 12ms/step - loss: 9.2335e-05 - accuracy: 0.0000e+00 - mean_squared_error: 9.2335e-05 - val_loss: 9.1568e-05 - val_accuracy: 0.0000e+00 - val_mean_squared_error: 9.1568e-05\n",
            "Epoch 15/20\n",
            "40/40 [==============================] - 1s 13ms/step - loss: 8.5930e-05 - accuracy: 0.0000e+00 - mean_squared_error: 8.5930e-05 - val_loss: 8.1783e-05 - val_accuracy: 0.0000e+00 - val_mean_squared_error: 8.1783e-05\n",
            "Epoch 16/20\n",
            "40/40 [==============================] - 1s 13ms/step - loss: 8.0414e-05 - accuracy: 0.0000e+00 - mean_squared_error: 8.0414e-05 - val_loss: 7.8106e-05 - val_accuracy: 0.0000e+00 - val_mean_squared_error: 7.8106e-05\n",
            "Epoch 17/20\n",
            "40/40 [==============================] - 1s 13ms/step - loss: 7.7508e-05 - accuracy: 0.0000e+00 - mean_squared_error: 7.7508e-05 - val_loss: 7.6722e-05 - val_accuracy: 0.0000e+00 - val_mean_squared_error: 7.6722e-05\n",
            "Epoch 18/20\n",
            "40/40 [==============================] - 1s 13ms/step - loss: 7.5594e-05 - accuracy: 0.0000e+00 - mean_squared_error: 7.5594e-05 - val_loss: 7.8832e-05 - val_accuracy: 0.0000e+00 - val_mean_squared_error: 7.8832e-05\n",
            "Epoch 19/20\n",
            "40/40 [==============================] - 1s 13ms/step - loss: 7.4372e-05 - accuracy: 0.0000e+00 - mean_squared_error: 7.4372e-05 - val_loss: 7.6403e-05 - val_accuracy: 0.0000e+00 - val_mean_squared_error: 7.6403e-05\n",
            "Epoch 20/20\n",
            "40/40 [==============================] - 1s 13ms/step - loss: 7.4038e-05 - accuracy: 0.0000e+00 - mean_squared_error: 7.4038e-05 - val_loss: 7.7060e-05 - val_accuracy: 0.0000e+00 - val_mean_squared_error: 7.7060e-05\n",
            "32/32 [==============================] - 0s 1ms/step\n",
            "0.014508287784959394 0.008830239 2.1149971\n",
            "0.015922827933410922\n",
            "Epoch 1/20\n"
          ]
        },
        {
          "name": "stderr",
          "output_type": "stream",
          "text": [
            "2023-12-06 22:34:06.037544: I tensorflow/core/common_runtime/gpu/gpu_device.cc:1886] Created device /device:GPU:0 with 20609 MB memory:  -> device: 0, name: NVIDIA L4, pci bus id: 0000:00:03.0, compute capability: 8.9\n"
          ]
        },
        {
          "name": "stdout",
          "output_type": "stream",
          "text": [
            "40/40 [==============================] - 2s 17ms/step - loss: 0.0163 - accuracy: 0.0000e+00 - mean_squared_error: 0.0163 - val_loss: 0.0019 - val_accuracy: 0.0000e+00 - val_mean_squared_error: 0.0019\n",
            "Epoch 2/20\n",
            "31/40 [======================>.......] - ETA: 0s - loss: 0.0012 - accuracy: 0.0000e+00 - mean_squared_error: 0.0012"
          ]
        },
        {
          "name": "stderr",
          "output_type": "stream",
          "text": [
            "2023-12-06 22:34:07.789691: I tensorflow/core/framework/local_rendezvous.cc:421] Local rendezvous recv item cancelled. Key hash: 12749084622472637211\n",
            "2023-12-06 22:34:07.789759: I tensorflow/core/framework/local_rendezvous.cc:421] Local rendezvous recv item cancelled. Key hash: 10316076964217112533\n"
          ]
        },
        {
          "name": "stdout",
          "output_type": "stream",
          "text": [
            "40/40 [==============================] - 1s 13ms/step - loss: 0.0010 - accuracy: 0.0000e+00 - mean_squared_error: 0.0010 - val_loss: 4.1677e-04 - val_accuracy: 0.0000e+00 - val_mean_squared_error: 4.1677e-04\n",
            "Epoch 3/20\n",
            "40/40 [==============================] - 1s 13ms/step - loss: 2.5347e-04 - accuracy: 0.0000e+00 - mean_squared_error: 2.5347e-04 - val_loss: 1.8040e-04 - val_accuracy: 0.0000e+00 - val_mean_squared_error: 1.8040e-04\n",
            "Epoch 4/20\n",
            "40/40 [==============================] - 1s 13ms/step - loss: 1.6997e-04 - accuracy: 0.0000e+00 - mean_squared_error: 1.6997e-04 - val_loss: 1.6570e-04 - val_accuracy: 0.0000e+00 - val_mean_squared_error: 1.6570e-04\n",
            "Epoch 5/20\n",
            "40/40 [==============================] - 1s 13ms/step - loss: 1.6499e-04 - accuracy: 0.0000e+00 - mean_squared_error: 1.6499e-04 - val_loss: 1.7033e-04 - val_accuracy: 0.0000e+00 - val_mean_squared_error: 1.7033e-04\n",
            "Epoch 6/20\n",
            "40/40 [==============================] - 0s 13ms/step - loss: 1.6551e-04 - accuracy: 0.0000e+00 - mean_squared_error: 1.6551e-04 - val_loss: 1.7334e-04 - val_accuracy: 0.0000e+00 - val_mean_squared_error: 1.7334e-04\n",
            "Epoch 7/20\n",
            "40/40 [==============================] - 1s 13ms/step - loss: 1.6631e-04 - accuracy: 0.0000e+00 - mean_squared_error: 1.6631e-04 - val_loss: 1.7744e-04 - val_accuracy: 0.0000e+00 - val_mean_squared_error: 1.7744e-04\n",
            "Epoch 8/20\n",
            "40/40 [==============================] - 1s 13ms/step - loss: 1.6732e-04 - accuracy: 0.0000e+00 - mean_squared_error: 1.6732e-04 - val_loss: 1.7458e-04 - val_accuracy: 0.0000e+00 - val_mean_squared_error: 1.7458e-04\n",
            "Epoch 9/20\n",
            "40/40 [==============================] - 1s 13ms/step - loss: 1.6714e-04 - accuracy: 0.0000e+00 - mean_squared_error: 1.6714e-04 - val_loss: 1.6759e-04 - val_accuracy: 0.0000e+00 - val_mean_squared_error: 1.6759e-04\n",
            "Epoch 10/20\n",
            "40/40 [==============================] - 1s 13ms/step - loss: 1.6609e-04 - accuracy: 0.0000e+00 - mean_squared_error: 1.6609e-04 - val_loss: 1.6806e-04 - val_accuracy: 0.0000e+00 - val_mean_squared_error: 1.6806e-04\n",
            "Epoch 11/20\n",
            "40/40 [==============================] - 1s 13ms/step - loss: 1.6729e-04 - accuracy: 0.0000e+00 - mean_squared_error: 1.6729e-04 - val_loss: 1.6420e-04 - val_accuracy: 0.0000e+00 - val_mean_squared_error: 1.6420e-04\n",
            "Epoch 12/20\n",
            "40/40 [==============================] - 1s 13ms/step - loss: 1.6615e-04 - accuracy: 0.0000e+00 - mean_squared_error: 1.6615e-04 - val_loss: 1.6403e-04 - val_accuracy: 0.0000e+00 - val_mean_squared_error: 1.6403e-04\n",
            "Epoch 13/20\n",
            "40/40 [==============================] - 1s 13ms/step - loss: 1.6486e-04 - accuracy: 0.0000e+00 - mean_squared_error: 1.6486e-04 - val_loss: 1.6464e-04 - val_accuracy: 0.0000e+00 - val_mean_squared_error: 1.6464e-04\n",
            "Epoch 14/20\n",
            "40/40 [==============================] - 1s 13ms/step - loss: 1.6504e-04 - accuracy: 0.0000e+00 - mean_squared_error: 1.6504e-04 - val_loss: 1.6571e-04 - val_accuracy: 0.0000e+00 - val_mean_squared_error: 1.6571e-04\n",
            "Epoch 15/20\n",
            "40/40 [==============================] - 0s 12ms/step - loss: 1.6539e-04 - accuracy: 0.0000e+00 - mean_squared_error: 1.6539e-04 - val_loss: 1.6501e-04 - val_accuracy: 0.0000e+00 - val_mean_squared_error: 1.6501e-04\n",
            "Epoch 16/20\n",
            "40/40 [==============================] - 1s 15ms/step - loss: 1.6561e-04 - accuracy: 0.0000e+00 - mean_squared_error: 1.6561e-04 - val_loss: 1.6689e-04 - val_accuracy: 0.0000e+00 - val_mean_squared_error: 1.6689e-04\n",
            "Epoch 17/20\n",
            "40/40 [==============================] - 0s 12ms/step - loss: 1.6656e-04 - accuracy: 0.0000e+00 - mean_squared_error: 1.6656e-04 - val_loss: 1.7040e-04 - val_accuracy: 0.0000e+00 - val_mean_squared_error: 1.7040e-04\n",
            "Epoch 18/20\n",
            "40/40 [==============================] - 1s 13ms/step - loss: 1.6653e-04 - accuracy: 0.0000e+00 - mean_squared_error: 1.6653e-04 - val_loss: 1.6598e-04 - val_accuracy: 0.0000e+00 - val_mean_squared_error: 1.6598e-04\n",
            "Epoch 19/20\n",
            "40/40 [==============================] - 1s 13ms/step - loss: 1.6637e-04 - accuracy: 0.0000e+00 - mean_squared_error: 1.6637e-04 - val_loss: 1.6404e-04 - val_accuracy: 0.0000e+00 - val_mean_squared_error: 1.6404e-04\n",
            "Epoch 20/20\n",
            "40/40 [==============================] - 1s 13ms/step - loss: 1.6794e-04 - accuracy: 0.0000e+00 - mean_squared_error: 1.6794e-04 - val_loss: 1.6550e-04 - val_accuracy: 0.0000e+00 - val_mean_squared_error: 1.6550e-04\n",
            "32/32 [==============================] - 0s 1ms/step\n",
            "0.015922827933410922 0.012809936 1.9993923\n",
            "0.01747528400007684\n",
            "Epoch 1/20\n"
          ]
        },
        {
          "name": "stderr",
          "output_type": "stream",
          "text": [
            "2023-12-06 22:34:18.222071: I tensorflow/core/common_runtime/gpu/gpu_device.cc:1886] Created device /device:GPU:0 with 20609 MB memory:  -> device: 0, name: NVIDIA L4, pci bus id: 0000:00:03.0, compute capability: 8.9\n"
          ]
        },
        {
          "name": "stdout",
          "output_type": "stream",
          "text": [
            "     31/Unknown - 1s 5ms/step - loss: 0.0239 - accuracy: 0.0000e+00 - mean_squared_error: 0.0239"
          ]
        },
        {
          "name": "stderr",
          "output_type": "stream",
          "text": [
            "2023-12-06 22:34:19.553706: I tensorflow/core/framework/local_rendezvous.cc:421] Local rendezvous recv item cancelled. Key hash: 12749084622472637211\n",
            "2023-12-06 22:34:19.553770: I tensorflow/core/framework/local_rendezvous.cc:421] Local rendezvous recv item cancelled. Key hash: 10316076964217112533\n"
          ]
        },
        {
          "name": "stdout",
          "output_type": "stream",
          "text": [
            "40/40 [==============================] - 2s 17ms/step - loss: 0.0207 - accuracy: 0.0000e+00 - mean_squared_error: 0.0207 - val_loss: 0.0063 - val_accuracy: 0.0000e+00 - val_mean_squared_error: 0.0063\n",
            "Epoch 2/20\n",
            "30/40 [=====================>........] - ETA: 0s - loss: 0.0032 - accuracy: 0.0000e+00 - mean_squared_error: 0.0032"
          ]
        },
        {
          "name": "stderr",
          "output_type": "stream",
          "text": [
            "2023-12-06 22:34:19.975286: I tensorflow/core/framework/local_rendezvous.cc:421] Local rendezvous recv item cancelled. Key hash: 12749084622472637211\n",
            "2023-12-06 22:34:19.975341: I tensorflow/core/framework/local_rendezvous.cc:421] Local rendezvous recv item cancelled. Key hash: 10316076964217112533\n"
          ]
        },
        {
          "name": "stdout",
          "output_type": "stream",
          "text": [
            "40/40 [==============================] - 1s 13ms/step - loss: 0.0026 - accuracy: 0.0000e+00 - mean_squared_error: 0.0026 - val_loss: 3.1345e-04 - val_accuracy: 0.0000e+00 - val_mean_squared_error: 3.1345e-04\n",
            "Epoch 3/20\n",
            "40/40 [==============================] - 1s 13ms/step - loss: 1.0744e-04 - accuracy: 0.0000e+00 - mean_squared_error: 1.0744e-04 - val_loss: 7.0751e-05 - val_accuracy: 0.0000e+00 - val_mean_squared_error: 7.0751e-05\n",
            "Epoch 4/20\n",
            "40/40 [==============================] - 1s 13ms/step - loss: 6.4403e-05 - accuracy: 0.0000e+00 - mean_squared_error: 6.4403e-05 - val_loss: 6.2921e-05 - val_accuracy: 0.0000e+00 - val_mean_squared_error: 6.2921e-05\n",
            "Epoch 5/20\n",
            "40/40 [==============================] - 1s 13ms/step - loss: 6.3001e-05 - accuracy: 0.0000e+00 - mean_squared_error: 6.3001e-05 - val_loss: 6.2822e-05 - val_accuracy: 0.0000e+00 - val_mean_squared_error: 6.2822e-05\n",
            "Epoch 6/20\n",
            "40/40 [==============================] - 1s 13ms/step - loss: 6.2781e-05 - accuracy: 0.0000e+00 - mean_squared_error: 6.2781e-05 - val_loss: 6.3984e-05 - val_accuracy: 0.0000e+00 - val_mean_squared_error: 6.3984e-05\n",
            "Epoch 7/20\n",
            "40/40 [==============================] - 1s 13ms/step - loss: 6.2520e-05 - accuracy: 0.0000e+00 - mean_squared_error: 6.2520e-05 - val_loss: 6.3538e-05 - val_accuracy: 0.0000e+00 - val_mean_squared_error: 6.3538e-05\n",
            "Epoch 8/20\n",
            "40/40 [==============================] - 1s 13ms/step - loss: 6.2373e-05 - accuracy: 0.0000e+00 - mean_squared_error: 6.2373e-05 - val_loss: 6.2422e-05 - val_accuracy: 0.0000e+00 - val_mean_squared_error: 6.2422e-05\n",
            "Epoch 9/20\n",
            "40/40 [==============================] - 1s 13ms/step - loss: 6.2069e-05 - accuracy: 0.0000e+00 - mean_squared_error: 6.2069e-05 - val_loss: 6.1633e-05 - val_accuracy: 0.0000e+00 - val_mean_squared_error: 6.1633e-05\n",
            "Epoch 10/20\n",
            "40/40 [==============================] - 0s 13ms/step - loss: 6.1874e-05 - accuracy: 0.0000e+00 - mean_squared_error: 6.1874e-05 - val_loss: 6.1658e-05 - val_accuracy: 0.0000e+00 - val_mean_squared_error: 6.1658e-05\n",
            "Epoch 11/20\n",
            "40/40 [==============================] - 1s 13ms/step - loss: 6.1867e-05 - accuracy: 0.0000e+00 - mean_squared_error: 6.1867e-05 - val_loss: 6.2701e-05 - val_accuracy: 0.0000e+00 - val_mean_squared_error: 6.2701e-05\n",
            "Epoch 12/20\n",
            "40/40 [==============================] - 1s 13ms/step - loss: 6.1464e-05 - accuracy: 0.0000e+00 - mean_squared_error: 6.1464e-05 - val_loss: 6.1717e-05 - val_accuracy: 0.0000e+00 - val_mean_squared_error: 6.1717e-05\n",
            "Epoch 13/20\n",
            "40/40 [==============================] - 1s 14ms/step - loss: 6.1070e-05 - accuracy: 0.0000e+00 - mean_squared_error: 6.1070e-05 - val_loss: 6.1364e-05 - val_accuracy: 0.0000e+00 - val_mean_squared_error: 6.1364e-05\n",
            "Epoch 14/20\n",
            "40/40 [==============================] - 0s 12ms/step - loss: 6.0943e-05 - accuracy: 0.0000e+00 - mean_squared_error: 6.0943e-05 - val_loss: 6.1571e-05 - val_accuracy: 0.0000e+00 - val_mean_squared_error: 6.1571e-05\n",
            "Epoch 15/20\n",
            "40/40 [==============================] - 1s 13ms/step - loss: 6.0818e-05 - accuracy: 0.0000e+00 - mean_squared_error: 6.0818e-05 - val_loss: 6.2512e-05 - val_accuracy: 0.0000e+00 - val_mean_squared_error: 6.2512e-05\n",
            "Epoch 16/20\n",
            "40/40 [==============================] - 1s 13ms/step - loss: 6.0848e-05 - accuracy: 0.0000e+00 - mean_squared_error: 6.0848e-05 - val_loss: 6.2918e-05 - val_accuracy: 0.0000e+00 - val_mean_squared_error: 6.2918e-05\n",
            "Epoch 17/20\n",
            "40/40 [==============================] - 1s 13ms/step - loss: 6.1064e-05 - accuracy: 0.0000e+00 - mean_squared_error: 6.1064e-05 - val_loss: 6.1792e-05 - val_accuracy: 0.0000e+00 - val_mean_squared_error: 6.1792e-05\n",
            "Epoch 18/20\n",
            "40/40 [==============================] - 1s 13ms/step - loss: 6.1357e-05 - accuracy: 0.0000e+00 - mean_squared_error: 6.1357e-05 - val_loss: 6.0902e-05 - val_accuracy: 0.0000e+00 - val_mean_squared_error: 6.0902e-05\n",
            "Epoch 19/20\n",
            "40/40 [==============================] - 1s 13ms/step - loss: 6.1335e-05 - accuracy: 0.0000e+00 - mean_squared_error: 6.1335e-05 - val_loss: 6.2994e-05 - val_accuracy: 0.0000e+00 - val_mean_squared_error: 6.2994e-05\n",
            "Epoch 20/20\n",
            "40/40 [==============================] - 1s 13ms/step - loss: 6.2202e-05 - accuracy: 0.0000e+00 - mean_squared_error: 6.2202e-05 - val_loss: 6.2561e-05 - val_accuracy: 0.0000e+00 - val_mean_squared_error: 6.2561e-05\n",
            "32/32 [==============================] - 0s 1ms/step\n",
            "0.01747528400007684 0.007951171 2.0665092\n",
            "0.019179102616724886\n",
            "Epoch 1/20\n"
          ]
        },
        {
          "name": "stderr",
          "output_type": "stream",
          "text": [
            "2023-12-06 22:34:30.457937: I tensorflow/core/common_runtime/gpu/gpu_device.cc:1886] Created device /device:GPU:0 with 20609 MB memory:  -> device: 0, name: NVIDIA L4, pci bus id: 0000:00:03.0, compute capability: 8.9\n"
          ]
        },
        {
          "name": "stdout",
          "output_type": "stream",
          "text": [
            "     31/Unknown - 1s 5ms/step - loss: 0.0172 - accuracy: 0.0000e+00 - mean_squared_error: 0.0172"
          ]
        },
        {
          "name": "stderr",
          "output_type": "stream",
          "text": [
            "2023-12-06 22:34:31.783025: I tensorflow/core/framework/local_rendezvous.cc:421] Local rendezvous recv item cancelled. Key hash: 12749084622472637211\n",
            "2023-12-06 22:34:31.783089: I tensorflow/core/framework/local_rendezvous.cc:421] Local rendezvous recv item cancelled. Key hash: 10316076964217112533\n"
          ]
        },
        {
          "name": "stdout",
          "output_type": "stream",
          "text": [
            "40/40 [==============================] - 2s 17ms/step - loss: 0.0140 - accuracy: 0.0000e+00 - mean_squared_error: 0.0140 - val_loss: 7.6666e-04 - val_accuracy: 0.0000e+00 - val_mean_squared_error: 7.6666e-04\n",
            "Epoch 2/20\n",
            "31/40 [======================>.......] - ETA: 0s - loss: 4.8396e-04 - accuracy: 0.0000e+00 - mean_squared_error: 4.8396e-04"
          ]
        },
        {
          "name": "stderr",
          "output_type": "stream",
          "text": [
            "2023-12-06 22:34:32.236854: I tensorflow/core/framework/local_rendezvous.cc:421] Local rendezvous recv item cancelled. Key hash: 12749084622472637211\n",
            "2023-12-06 22:34:32.236911: I tensorflow/core/framework/local_rendezvous.cc:421] Local rendezvous recv item cancelled. Key hash: 10316076964217112533\n"
          ]
        },
        {
          "name": "stdout",
          "output_type": "stream",
          "text": [
            "40/40 [==============================] - 1s 13ms/step - loss: 4.3928e-04 - accuracy: 0.0000e+00 - mean_squared_error: 4.3928e-04 - val_loss: 2.5663e-04 - val_accuracy: 0.0000e+00 - val_mean_squared_error: 2.5663e-04\n",
            "Epoch 3/20\n",
            "40/40 [==============================] - 1s 14ms/step - loss: 2.4231e-04 - accuracy: 0.0000e+00 - mean_squared_error: 2.4231e-04 - val_loss: 2.2839e-04 - val_accuracy: 0.0000e+00 - val_mean_squared_error: 2.2839e-04\n",
            "Epoch 4/20\n",
            "40/40 [==============================] - 1s 13ms/step - loss: 2.1000e-04 - accuracy: 0.0000e+00 - mean_squared_error: 2.1000e-04 - val_loss: 1.7838e-04 - val_accuracy: 0.0000e+00 - val_mean_squared_error: 1.7838e-04\n",
            "Epoch 5/20\n",
            "40/40 [==============================] - 0s 13ms/step - loss: 1.5301e-04 - accuracy: 0.0000e+00 - mean_squared_error: 1.5301e-04 - val_loss: 1.2208e-04 - val_accuracy: 0.0000e+00 - val_mean_squared_error: 1.2208e-04\n",
            "Epoch 6/20\n",
            "40/40 [==============================] - 1s 13ms/step - loss: 1.0816e-04 - accuracy: 0.0000e+00 - mean_squared_error: 1.0816e-04 - val_loss: 9.2173e-05 - val_accuracy: 0.0000e+00 - val_mean_squared_error: 9.2173e-05\n",
            "Epoch 7/20\n",
            "40/40 [==============================] - 1s 13ms/step - loss: 8.3255e-05 - accuracy: 0.0000e+00 - mean_squared_error: 8.3255e-05 - val_loss: 7.5001e-05 - val_accuracy: 0.0000e+00 - val_mean_squared_error: 7.5001e-05\n",
            "Epoch 8/20\n",
            "40/40 [==============================] - 1s 13ms/step - loss: 7.0367e-05 - accuracy: 0.0000e+00 - mean_squared_error: 7.0367e-05 - val_loss: 6.7346e-05 - val_accuracy: 0.0000e+00 - val_mean_squared_error: 6.7346e-05\n",
            "Epoch 9/20\n",
            "40/40 [==============================] - 1s 13ms/step - loss: 6.3279e-05 - accuracy: 0.0000e+00 - mean_squared_error: 6.3279e-05 - val_loss: 6.1914e-05 - val_accuracy: 0.0000e+00 - val_mean_squared_error: 6.1914e-05\n",
            "Epoch 10/20\n",
            "40/40 [==============================] - 1s 13ms/step - loss: 5.9414e-05 - accuracy: 0.0000e+00 - mean_squared_error: 5.9414e-05 - val_loss: 5.8796e-05 - val_accuracy: 0.0000e+00 - val_mean_squared_error: 5.8796e-05\n",
            "Epoch 11/20\n",
            "40/40 [==============================] - 1s 13ms/step - loss: 5.7308e-05 - accuracy: 0.0000e+00 - mean_squared_error: 5.7308e-05 - val_loss: 5.6310e-05 - val_accuracy: 0.0000e+00 - val_mean_squared_error: 5.6310e-05\n",
            "Epoch 12/20\n",
            "40/40 [==============================] - 0s 12ms/step - loss: 5.5814e-05 - accuracy: 0.0000e+00 - mean_squared_error: 5.5814e-05 - val_loss: 5.6934e-05 - val_accuracy: 0.0000e+00 - val_mean_squared_error: 5.6934e-05\n",
            "Epoch 13/20\n",
            "40/40 [==============================] - 1s 13ms/step - loss: 5.5416e-05 - accuracy: 0.0000e+00 - mean_squared_error: 5.5416e-05 - val_loss: 6.2400e-05 - val_accuracy: 0.0000e+00 - val_mean_squared_error: 6.2400e-05\n",
            "Epoch 14/20\n",
            "40/40 [==============================] - 1s 13ms/step - loss: 5.5406e-05 - accuracy: 0.0000e+00 - mean_squared_error: 5.5406e-05 - val_loss: 6.2986e-05 - val_accuracy: 0.0000e+00 - val_mean_squared_error: 6.2986e-05\n",
            "Epoch 15/20\n",
            "40/40 [==============================] - 1s 13ms/step - loss: 5.4298e-05 - accuracy: 0.0000e+00 - mean_squared_error: 5.4298e-05 - val_loss: 5.9559e-05 - val_accuracy: 0.0000e+00 - val_mean_squared_error: 5.9559e-05\n",
            "Epoch 16/20\n",
            "40/40 [==============================] - 1s 15ms/step - loss: 5.3539e-05 - accuracy: 0.0000e+00 - mean_squared_error: 5.3539e-05 - val_loss: 6.7040e-05 - val_accuracy: 0.0000e+00 - val_mean_squared_error: 6.7040e-05\n",
            "Epoch 17/20\n",
            "40/40 [==============================] - 0s 12ms/step - loss: 5.4010e-05 - accuracy: 0.0000e+00 - mean_squared_error: 5.4010e-05 - val_loss: 6.8427e-05 - val_accuracy: 0.0000e+00 - val_mean_squared_error: 6.8427e-05\n",
            "Epoch 18/20\n",
            "40/40 [==============================] - 1s 13ms/step - loss: 5.2527e-05 - accuracy: 0.0000e+00 - mean_squared_error: 5.2527e-05 - val_loss: 5.9839e-05 - val_accuracy: 0.0000e+00 - val_mean_squared_error: 5.9839e-05\n",
            "Epoch 19/20\n",
            "40/40 [==============================] - 0s 12ms/step - loss: 5.0849e-05 - accuracy: 0.0000e+00 - mean_squared_error: 5.0849e-05 - val_loss: 6.3655e-05 - val_accuracy: 0.0000e+00 - val_mean_squared_error: 6.3655e-05\n",
            "Epoch 20/20\n",
            "40/40 [==============================] - 1s 13ms/step - loss: 5.0934e-05 - accuracy: 0.0000e+00 - mean_squared_error: 5.0934e-05 - val_loss: 6.0597e-05 - val_accuracy: 0.0000e+00 - val_mean_squared_error: 6.0597e-05\n",
            "32/32 [==============================] - 0s 1ms/step\n",
            "0.019179102616724886 0.007909716 2.0561388\n",
            "0.02104904144512021\n",
            "Epoch 1/20\n"
          ]
        },
        {
          "name": "stderr",
          "output_type": "stream",
          "text": [
            "2023-12-06 22:34:42.603656: I tensorflow/core/common_runtime/gpu/gpu_device.cc:1886] Created device /device:GPU:0 with 20609 MB memory:  -> device: 0, name: NVIDIA L4, pci bus id: 0000:00:03.0, compute capability: 8.9\n"
          ]
        },
        {
          "name": "stdout",
          "output_type": "stream",
          "text": [
            "40/40 [==============================] - 2s 16ms/step - loss: 0.0161 - accuracy: 0.0000e+00 - mean_squared_error: 0.0161 - val_loss: 0.0030 - val_accuracy: 0.0000e+00 - val_mean_squared_error: 0.0030\n",
            "Epoch 2/20\n",
            "40/40 [==============================] - 1s 13ms/step - loss: 0.0015 - accuracy: 0.0000e+00 - mean_squared_error: 0.0015 - val_loss: 4.8460e-04 - val_accuracy: 0.0000e+00 - val_mean_squared_error: 4.8460e-04\n",
            "Epoch 3/20\n",
            "40/40 [==============================] - 1s 13ms/step - loss: 3.5389e-04 - accuracy: 0.0000e+00 - mean_squared_error: 3.5389e-04 - val_loss: 3.0127e-04 - val_accuracy: 0.0000e+00 - val_mean_squared_error: 3.0127e-04\n",
            "Epoch 4/20\n",
            "40/40 [==============================] - 1s 13ms/step - loss: 3.0064e-04 - accuracy: 0.0000e+00 - mean_squared_error: 3.0064e-04 - val_loss: 2.9955e-04 - val_accuracy: 0.0000e+00 - val_mean_squared_error: 2.9955e-04\n",
            "Epoch 5/20\n",
            "40/40 [==============================] - 0s 13ms/step - loss: 3.0166e-04 - accuracy: 0.0000e+00 - mean_squared_error: 3.0166e-04 - val_loss: 2.9873e-04 - val_accuracy: 0.0000e+00 - val_mean_squared_error: 2.9873e-04\n",
            "Epoch 6/20\n",
            "40/40 [==============================] - 1s 13ms/step - loss: 3.0419e-04 - accuracy: 0.0000e+00 - mean_squared_error: 3.0419e-04 - val_loss: 3.0068e-04 - val_accuracy: 0.0000e+00 - val_mean_squared_error: 3.0068e-04\n",
            "Epoch 7/20\n",
            "40/40 [==============================] - 1s 13ms/step - loss: 3.0217e-04 - accuracy: 0.0000e+00 - mean_squared_error: 3.0217e-04 - val_loss: 2.9841e-04 - val_accuracy: 0.0000e+00 - val_mean_squared_error: 2.9841e-04\n",
            "Epoch 8/20\n",
            "40/40 [==============================] - 1s 13ms/step - loss: 3.0169e-04 - accuracy: 0.0000e+00 - mean_squared_error: 3.0169e-04 - val_loss: 3.0232e-04 - val_accuracy: 0.0000e+00 - val_mean_squared_error: 3.0232e-04\n",
            "Epoch 9/20\n",
            "40/40 [==============================] - 1s 13ms/step - loss: 3.0250e-04 - accuracy: 0.0000e+00 - mean_squared_error: 3.0250e-04 - val_loss: 3.0636e-04 - val_accuracy: 0.0000e+00 - val_mean_squared_error: 3.0636e-04\n",
            "Epoch 10/20\n",
            "40/40 [==============================] - 0s 13ms/step - loss: 3.0333e-04 - accuracy: 0.0000e+00 - mean_squared_error: 3.0333e-04 - val_loss: 3.0678e-04 - val_accuracy: 0.0000e+00 - val_mean_squared_error: 3.0678e-04\n",
            "Epoch 11/20\n",
            "40/40 [==============================] - 1s 13ms/step - loss: 3.0459e-04 - accuracy: 0.0000e+00 - mean_squared_error: 3.0459e-04 - val_loss: 3.1185e-04 - val_accuracy: 0.0000e+00 - val_mean_squared_error: 3.1185e-04\n",
            "Epoch 12/20\n",
            "40/40 [==============================] - 1s 13ms/step - loss: 3.0700e-04 - accuracy: 0.0000e+00 - mean_squared_error: 3.0700e-04 - val_loss: 3.0231e-04 - val_accuracy: 0.0000e+00 - val_mean_squared_error: 3.0231e-04\n",
            "Epoch 13/20\n",
            "40/40 [==============================] - 1s 13ms/step - loss: 3.0442e-04 - accuracy: 0.0000e+00 - mean_squared_error: 3.0442e-04 - val_loss: 2.9962e-04 - val_accuracy: 0.0000e+00 - val_mean_squared_error: 2.9962e-04\n",
            "Epoch 14/20\n",
            "40/40 [==============================] - 0s 12ms/step - loss: 3.0226e-04 - accuracy: 0.0000e+00 - mean_squared_error: 3.0226e-04 - val_loss: 3.0253e-04 - val_accuracy: 0.0000e+00 - val_mean_squared_error: 3.0253e-04\n",
            "Epoch 15/20\n",
            "40/40 [==============================] - 1s 13ms/step - loss: 3.0311e-04 - accuracy: 0.0000e+00 - mean_squared_error: 3.0311e-04 - val_loss: 3.0387e-04 - val_accuracy: 0.0000e+00 - val_mean_squared_error: 3.0387e-04\n",
            "Epoch 16/20\n",
            "40/40 [==============================] - 1s 13ms/step - loss: 3.0344e-04 - accuracy: 0.0000e+00 - mean_squared_error: 3.0344e-04 - val_loss: 3.0004e-04 - val_accuracy: 0.0000e+00 - val_mean_squared_error: 3.0004e-04\n",
            "Epoch 17/20\n",
            "40/40 [==============================] - 1s 13ms/step - loss: 3.0207e-04 - accuracy: 0.0000e+00 - mean_squared_error: 3.0207e-04 - val_loss: 3.0121e-04 - val_accuracy: 0.0000e+00 - val_mean_squared_error: 3.0121e-04\n",
            "Epoch 18/20\n",
            "40/40 [==============================] - 1s 13ms/step - loss: 3.0238e-04 - accuracy: 0.0000e+00 - mean_squared_error: 3.0238e-04 - val_loss: 3.0464e-04 - val_accuracy: 0.0000e+00 - val_mean_squared_error: 3.0464e-04\n",
            "Epoch 19/20\n",
            "40/40 [==============================] - 1s 13ms/step - loss: 3.0369e-04 - accuracy: 0.0000e+00 - mean_squared_error: 3.0369e-04 - val_loss: 3.0586e-04 - val_accuracy: 0.0000e+00 - val_mean_squared_error: 3.0586e-04\n",
            "Epoch 20/20\n",
            "40/40 [==============================] - 1s 14ms/step - loss: 3.0508e-04 - accuracy: 0.0000e+00 - mean_squared_error: 3.0508e-04 - val_loss: 3.1053e-04 - val_accuracy: 0.0000e+00 - val_mean_squared_error: 3.1053e-04\n",
            "32/32 [==============================] - 0s 1ms/step\n",
            "0.02104904144512021 0.017609086 1.9402242\n",
            "0.023101297000831605\n",
            "Epoch 1/20\n"
          ]
        },
        {
          "name": "stderr",
          "output_type": "stream",
          "text": [
            "2023-12-06 22:34:54.746434: I tensorflow/core/common_runtime/gpu/gpu_device.cc:1886] Created device /device:GPU:0 with 20609 MB memory:  -> device: 0, name: NVIDIA L4, pci bus id: 0000:00:03.0, compute capability: 8.9\n"
          ]
        },
        {
          "name": "stdout",
          "output_type": "stream",
          "text": [
            "     31/Unknown - 1s 5ms/step - loss: 0.0199 - accuracy: 0.0000e+00 - mean_squared_error: 0.0199"
          ]
        },
        {
          "name": "stderr",
          "output_type": "stream",
          "text": [
            "2023-12-06 22:34:56.055190: I tensorflow/core/framework/local_rendezvous.cc:421] Local rendezvous recv item cancelled. Key hash: 12749084622472637211\n",
            "2023-12-06 22:34:56.055251: I tensorflow/core/framework/local_rendezvous.cc:421] Local rendezvous recv item cancelled. Key hash: 10316076964217112533\n"
          ]
        },
        {
          "name": "stdout",
          "output_type": "stream",
          "text": [
            "40/40 [==============================] - 2s 17ms/step - loss: 0.0171 - accuracy: 0.0000e+00 - mean_squared_error: 0.0171 - val_loss: 0.0048 - val_accuracy: 0.0000e+00 - val_mean_squared_error: 0.0048\n",
            "Epoch 2/20\n",
            "31/40 [======================>.......] - ETA: 0s - loss: 0.0028 - accuracy: 0.0000e+00 - mean_squared_error: 0.0028"
          ]
        },
        {
          "name": "stderr",
          "output_type": "stream",
          "text": [
            "2023-12-06 22:34:56.488674: I tensorflow/core/framework/local_rendezvous.cc:421] Local rendezvous recv item cancelled. Key hash: 12749084622472637211\n",
            "2023-12-06 22:34:56.488731: I tensorflow/core/framework/local_rendezvous.cc:421] Local rendezvous recv item cancelled. Key hash: 10316076964217112533\n"
          ]
        },
        {
          "name": "stdout",
          "output_type": "stream",
          "text": [
            "40/40 [==============================] - 1s 13ms/step - loss: 0.0025 - accuracy: 0.0000e+00 - mean_squared_error: 0.0025 - val_loss: 0.0011 - val_accuracy: 0.0000e+00 - val_mean_squared_error: 0.0011\n",
            "Epoch 3/20\n",
            "40/40 [==============================] - 1s 13ms/step - loss: 7.5226e-04 - accuracy: 0.0000e+00 - mean_squared_error: 7.5226e-04 - val_loss: 5.0278e-04 - val_accuracy: 0.0000e+00 - val_mean_squared_error: 5.0278e-04\n",
            "Epoch 4/20\n",
            "40/40 [==============================] - 1s 13ms/step - loss: 4.3052e-04 - accuracy: 0.0000e+00 - mean_squared_error: 4.3052e-04 - val_loss: 4.0814e-04 - val_accuracy: 0.0000e+00 - val_mean_squared_error: 4.0814e-04\n",
            "Epoch 5/20\n",
            "40/40 [==============================] - 1s 13ms/step - loss: 3.7882e-04 - accuracy: 0.0000e+00 - mean_squared_error: 3.7882e-04 - val_loss: 3.8383e-04 - val_accuracy: 0.0000e+00 - val_mean_squared_error: 3.8383e-04\n",
            "Epoch 6/20\n",
            "40/40 [==============================] - 0s 12ms/step - loss: 3.7112e-04 - accuracy: 0.0000e+00 - mean_squared_error: 3.7112e-04 - val_loss: 3.8388e-04 - val_accuracy: 0.0000e+00 - val_mean_squared_error: 3.8388e-04\n",
            "Epoch 7/20\n",
            "40/40 [==============================] - 1s 13ms/step - loss: 3.7004e-04 - accuracy: 0.0000e+00 - mean_squared_error: 3.7004e-04 - val_loss: 3.8395e-04 - val_accuracy: 0.0000e+00 - val_mean_squared_error: 3.8395e-04\n",
            "Epoch 8/20\n",
            "40/40 [==============================] - 1s 13ms/step - loss: 3.7016e-04 - accuracy: 0.0000e+00 - mean_squared_error: 3.7016e-04 - val_loss: 3.8891e-04 - val_accuracy: 0.0000e+00 - val_mean_squared_error: 3.8891e-04\n",
            "Epoch 9/20\n",
            "40/40 [==============================] - 1s 14ms/step - loss: 3.7084e-04 - accuracy: 0.0000e+00 - mean_squared_error: 3.7084e-04 - val_loss: 3.8921e-04 - val_accuracy: 0.0000e+00 - val_mean_squared_error: 3.8921e-04\n",
            "Epoch 10/20\n",
            "40/40 [==============================] - 1s 13ms/step - loss: 3.7227e-04 - accuracy: 0.0000e+00 - mean_squared_error: 3.7227e-04 - val_loss: 3.8183e-04 - val_accuracy: 0.0000e+00 - val_mean_squared_error: 3.8183e-04\n",
            "Epoch 11/20\n",
            "40/40 [==============================] - 1s 13ms/step - loss: 3.7408e-04 - accuracy: 0.0000e+00 - mean_squared_error: 3.7408e-04 - val_loss: 3.7843e-04 - val_accuracy: 0.0000e+00 - val_mean_squared_error: 3.7843e-04\n",
            "Epoch 12/20\n",
            "40/40 [==============================] - 1s 14ms/step - loss: 3.7237e-04 - accuracy: 0.0000e+00 - mean_squared_error: 3.7237e-04 - val_loss: 3.9633e-04 - val_accuracy: 0.0000e+00 - val_mean_squared_error: 3.9633e-04\n",
            "Epoch 13/20\n",
            "40/40 [==============================] - 1s 13ms/step - loss: 3.7166e-04 - accuracy: 0.0000e+00 - mean_squared_error: 3.7166e-04 - val_loss: 4.1797e-04 - val_accuracy: 0.0000e+00 - val_mean_squared_error: 4.1797e-04\n",
            "Epoch 14/20\n",
            "40/40 [==============================] - 0s 12ms/step - loss: 3.7324e-04 - accuracy: 0.0000e+00 - mean_squared_error: 3.7324e-04 - val_loss: 4.3556e-04 - val_accuracy: 0.0000e+00 - val_mean_squared_error: 4.3556e-04\n",
            "Epoch 15/20\n",
            "40/40 [==============================] - 1s 13ms/step - loss: 3.7574e-04 - accuracy: 0.0000e+00 - mean_squared_error: 3.7574e-04 - val_loss: 4.3239e-04 - val_accuracy: 0.0000e+00 - val_mean_squared_error: 4.3239e-04\n",
            "Epoch 16/20\n",
            "40/40 [==============================] - 1s 13ms/step - loss: 3.7660e-04 - accuracy: 0.0000e+00 - mean_squared_error: 3.7660e-04 - val_loss: 4.6489e-04 - val_accuracy: 0.0000e+00 - val_mean_squared_error: 4.6489e-04\n",
            "Epoch 17/20\n",
            "40/40 [==============================] - 1s 13ms/step - loss: 3.8080e-04 - accuracy: 0.0000e+00 - mean_squared_error: 3.8080e-04 - val_loss: 4.9309e-04 - val_accuracy: 0.0000e+00 - val_mean_squared_error: 4.9309e-04\n",
            "Epoch 18/20\n",
            "40/40 [==============================] - 1s 13ms/step - loss: 3.8658e-04 - accuracy: 0.0000e+00 - mean_squared_error: 3.8658e-04 - val_loss: 4.6054e-04 - val_accuracy: 0.0000e+00 - val_mean_squared_error: 4.6054e-04\n",
            "Epoch 19/20\n",
            "40/40 [==============================] - 1s 14ms/step - loss: 3.8597e-04 - accuracy: 0.0000e+00 - mean_squared_error: 3.8597e-04 - val_loss: 4.7840e-04 - val_accuracy: 0.0000e+00 - val_mean_squared_error: 4.7840e-04\n",
            "Epoch 20/20\n",
            "40/40 [==============================] - 1s 13ms/step - loss: 3.8733e-04 - accuracy: 0.0000e+00 - mean_squared_error: 3.8733e-04 - val_loss: 5.2446e-04 - val_accuracy: 0.0000e+00 - val_mean_squared_error: 5.2446e-04\n",
            "32/32 [==============================] - 0s 1ms/step\n",
            "0.023101297000831605 0.022924773 1.9697071\n",
            "0.025353644939701114\n",
            "Epoch 1/20\n"
          ]
        },
        {
          "name": "stderr",
          "output_type": "stream",
          "text": [
            "2023-12-06 22:35:06.979177: I tensorflow/core/common_runtime/gpu/gpu_device.cc:1886] Created device /device:GPU:0 with 20609 MB memory:  -> device: 0, name: NVIDIA L4, pci bus id: 0000:00:03.0, compute capability: 8.9\n"
          ]
        },
        {
          "name": "stdout",
          "output_type": "stream",
          "text": [
            "     31/Unknown - 1s 5ms/step - loss: 0.0189 - accuracy: 0.0000e+00 - mean_squared_error: 0.0189"
          ]
        },
        {
          "name": "stderr",
          "output_type": "stream",
          "text": [
            "2023-12-06 22:35:08.315207: I tensorflow/core/framework/local_rendezvous.cc:421] Local rendezvous recv item cancelled. Key hash: 10316076964217112533\n"
          ]
        },
        {
          "name": "stdout",
          "output_type": "stream",
          "text": [
            "40/40 [==============================] - 2s 17ms/step - loss: 0.0162 - accuracy: 0.0000e+00 - mean_squared_error: 0.0162 - val_loss: 0.0044 - val_accuracy: 0.0000e+00 - val_mean_squared_error: 0.0044\n",
            "Epoch 2/20\n",
            "29/40 [====================>.........] - ETA: 0s - loss: 0.0027 - accuracy: 0.0000e+00 - mean_squared_error: 0.0027"
          ]
        },
        {
          "name": "stderr",
          "output_type": "stream",
          "text": [
            "2023-12-06 22:35:08.736080: I tensorflow/core/framework/local_rendezvous.cc:421] Local rendezvous recv item cancelled. Key hash: 12749084622472637211\n",
            "2023-12-06 22:35:08.736138: I tensorflow/core/framework/local_rendezvous.cc:421] Local rendezvous recv item cancelled. Key hash: 10316076964217112533\n"
          ]
        },
        {
          "name": "stdout",
          "output_type": "stream",
          "text": [
            "40/40 [==============================] - 1s 14ms/step - loss: 0.0024 - accuracy: 0.0000e+00 - mean_squared_error: 0.0024 - val_loss: 0.0011 - val_accuracy: 0.0000e+00 - val_mean_squared_error: 0.0011\n",
            "Epoch 3/20\n",
            "40/40 [==============================] - 1s 13ms/step - loss: 7.7233e-04 - accuracy: 0.0000e+00 - mean_squared_error: 7.7233e-04 - val_loss: 5.5890e-04 - val_accuracy: 0.0000e+00 - val_mean_squared_error: 5.5890e-04\n",
            "Epoch 4/20\n",
            "40/40 [==============================] - 1s 13ms/step - loss: 5.0090e-04 - accuracy: 0.0000e+00 - mean_squared_error: 5.0090e-04 - val_loss: 4.8382e-04 - val_accuracy: 0.0000e+00 - val_mean_squared_error: 4.8382e-04\n",
            "Epoch 5/20\n",
            "40/40 [==============================] - 1s 13ms/step - loss: 4.6183e-04 - accuracy: 0.0000e+00 - mean_squared_error: 4.6183e-04 - val_loss: 4.7678e-04 - val_accuracy: 0.0000e+00 - val_mean_squared_error: 4.7678e-04\n",
            "Epoch 6/20\n",
            "40/40 [==============================] - 1s 13ms/step - loss: 4.5861e-04 - accuracy: 0.0000e+00 - mean_squared_error: 4.5861e-04 - val_loss: 4.6364e-04 - val_accuracy: 0.0000e+00 - val_mean_squared_error: 4.6364e-04\n",
            "Epoch 7/20\n",
            "40/40 [==============================] - 1s 13ms/step - loss: 4.5810e-04 - accuracy: 0.0000e+00 - mean_squared_error: 4.5810e-04 - val_loss: 4.7842e-04 - val_accuracy: 0.0000e+00 - val_mean_squared_error: 4.7842e-04\n",
            "Epoch 8/20\n",
            "40/40 [==============================] - 1s 13ms/step - loss: 4.6565e-04 - accuracy: 0.0000e+00 - mean_squared_error: 4.6565e-04 - val_loss: 4.6889e-04 - val_accuracy: 0.0000e+00 - val_mean_squared_error: 4.6889e-04\n",
            "Epoch 9/20\n",
            "40/40 [==============================] - 1s 13ms/step - loss: 4.6266e-04 - accuracy: 0.0000e+00 - mean_squared_error: 4.6266e-04 - val_loss: 4.5571e-04 - val_accuracy: 0.0000e+00 - val_mean_squared_error: 4.5571e-04\n",
            "Epoch 10/20\n",
            "40/40 [==============================] - 1s 13ms/step - loss: 4.5661e-04 - accuracy: 0.0000e+00 - mean_squared_error: 4.5661e-04 - val_loss: 4.5786e-04 - val_accuracy: 0.0000e+00 - val_mean_squared_error: 4.5786e-04\n",
            "Epoch 11/20\n",
            "40/40 [==============================] - 1s 13ms/step - loss: 4.5831e-04 - accuracy: 0.0000e+00 - mean_squared_error: 4.5831e-04 - val_loss: 4.7927e-04 - val_accuracy: 0.0000e+00 - val_mean_squared_error: 4.7927e-04\n",
            "Epoch 12/20\n",
            "40/40 [==============================] - 1s 13ms/step - loss: 4.5638e-04 - accuracy: 0.0000e+00 - mean_squared_error: 4.5638e-04 - val_loss: 4.8017e-04 - val_accuracy: 0.0000e+00 - val_mean_squared_error: 4.8017e-04\n",
            "Epoch 13/20\n",
            "40/40 [==============================] - 1s 14ms/step - loss: 4.5409e-04 - accuracy: 0.0000e+00 - mean_squared_error: 4.5409e-04 - val_loss: 4.7507e-04 - val_accuracy: 0.0000e+00 - val_mean_squared_error: 4.7507e-04\n",
            "Epoch 14/20\n",
            "40/40 [==============================] - 1s 13ms/step - loss: 4.5524e-04 - accuracy: 0.0000e+00 - mean_squared_error: 4.5524e-04 - val_loss: 4.7039e-04 - val_accuracy: 0.0000e+00 - val_mean_squared_error: 4.7039e-04\n",
            "Epoch 15/20\n",
            "40/40 [==============================] - 1s 13ms/step - loss: 4.5698e-04 - accuracy: 0.0000e+00 - mean_squared_error: 4.5698e-04 - val_loss: 4.8010e-04 - val_accuracy: 0.0000e+00 - val_mean_squared_error: 4.8010e-04\n",
            "Epoch 16/20\n",
            "40/40 [==============================] - 1s 13ms/step - loss: 4.6000e-04 - accuracy: 0.0000e+00 - mean_squared_error: 4.6000e-04 - val_loss: 5.1786e-04 - val_accuracy: 0.0000e+00 - val_mean_squared_error: 5.1786e-04\n",
            "Epoch 17/20\n",
            "40/40 [==============================] - 1s 13ms/step - loss: 4.6702e-04 - accuracy: 0.0000e+00 - mean_squared_error: 4.6702e-04 - val_loss: 5.8005e-04 - val_accuracy: 0.0000e+00 - val_mean_squared_error: 5.8005e-04\n",
            "Epoch 18/20\n",
            "40/40 [==============================] - 1s 13ms/step - loss: 4.7134e-04 - accuracy: 0.0000e+00 - mean_squared_error: 4.7134e-04 - val_loss: 5.6673e-04 - val_accuracy: 0.0000e+00 - val_mean_squared_error: 5.6673e-04\n",
            "Epoch 19/20\n",
            "40/40 [==============================] - 0s 13ms/step - loss: 4.7488e-04 - accuracy: 0.0000e+00 - mean_squared_error: 4.7488e-04 - val_loss: 5.3955e-04 - val_accuracy: 0.0000e+00 - val_mean_squared_error: 5.3955e-04\n",
            "Epoch 20/20\n",
            "40/40 [==============================] - 1s 13ms/step - loss: 4.8503e-04 - accuracy: 0.0000e+00 - mean_squared_error: 4.8503e-04 - val_loss: 5.1704e-04 - val_accuracy: 0.0000e+00 - val_mean_squared_error: 5.1704e-04\n",
            "32/32 [==============================] - 0s 1ms/step\n",
            "0.025353644939701114 0.022703817 2.0675788\n",
            "0.027825594022071243\n",
            "Epoch 1/20\n"
          ]
        },
        {
          "name": "stderr",
          "output_type": "stream",
          "text": [
            "2023-12-06 22:35:19.217619: I tensorflow/core/common_runtime/gpu/gpu_device.cc:1886] Created device /device:GPU:0 with 20609 MB memory:  -> device: 0, name: NVIDIA L4, pci bus id: 0000:00:03.0, compute capability: 8.9\n"
          ]
        },
        {
          "name": "stdout",
          "output_type": "stream",
          "text": [
            "40/40 [==============================] - 2s 16ms/step - loss: 0.0165 - accuracy: 0.0000e+00 - mean_squared_error: 0.0165 - val_loss: 0.0043 - val_accuracy: 0.0000e+00 - val_mean_squared_error: 0.0043\n",
            "Epoch 2/20\n",
            "26/40 [==================>...........] - ETA: 0s - loss: 0.0028 - accuracy: 0.0000e+00 - mean_squared_error: 0.0028"
          ]
        },
        {
          "name": "stderr",
          "output_type": "stream",
          "text": [
            "2023-12-06 22:35:20.946236: I tensorflow/core/framework/local_rendezvous.cc:421] Local rendezvous recv item cancelled. Key hash: 12749084622472637211\n",
            "2023-12-06 22:35:20.946293: I tensorflow/core/framework/local_rendezvous.cc:421] Local rendezvous recv item cancelled. Key hash: 10316076964217112533\n"
          ]
        },
        {
          "name": "stdout",
          "output_type": "stream",
          "text": [
            "40/40 [==============================] - 1s 14ms/step - loss: 0.0024 - accuracy: 0.0000e+00 - mean_squared_error: 0.0024 - val_loss: 0.0012 - val_accuracy: 0.0000e+00 - val_mean_squared_error: 0.0012\n",
            "Epoch 3/20\n",
            "40/40 [==============================] - 1s 13ms/step - loss: 8.5060e-04 - accuracy: 0.0000e+00 - mean_squared_error: 8.5060e-04 - val_loss: 6.6731e-04 - val_accuracy: 0.0000e+00 - val_mean_squared_error: 6.6731e-04\n",
            "Epoch 4/20\n",
            "40/40 [==============================] - 1s 13ms/step - loss: 6.0392e-04 - accuracy: 0.0000e+00 - mean_squared_error: 6.0392e-04 - val_loss: 5.8580e-04 - val_accuracy: 0.0000e+00 - val_mean_squared_error: 5.8580e-04\n",
            "Epoch 5/20\n",
            "40/40 [==============================] - 1s 13ms/step - loss: 5.6608e-04 - accuracy: 0.0000e+00 - mean_squared_error: 5.6608e-04 - val_loss: 5.7911e-04 - val_accuracy: 0.0000e+00 - val_mean_squared_error: 5.7911e-04\n",
            "Epoch 6/20\n",
            "40/40 [==============================] - 1s 13ms/step - loss: 5.6290e-04 - accuracy: 0.0000e+00 - mean_squared_error: 5.6290e-04 - val_loss: 5.8789e-04 - val_accuracy: 0.0000e+00 - val_mean_squared_error: 5.8789e-04\n",
            "Epoch 7/20\n",
            "40/40 [==============================] - 1s 13ms/step - loss: 5.6123e-04 - accuracy: 0.0000e+00 - mean_squared_error: 5.6123e-04 - val_loss: 5.6940e-04 - val_accuracy: 0.0000e+00 - val_mean_squared_error: 5.6940e-04\n",
            "Epoch 8/20\n",
            "40/40 [==============================] - 1s 13ms/step - loss: 5.5779e-04 - accuracy: 0.0000e+00 - mean_squared_error: 5.5779e-04 - val_loss: 5.7066e-04 - val_accuracy: 0.0000e+00 - val_mean_squared_error: 5.7066e-04\n",
            "Epoch 9/20\n",
            "40/40 [==============================] - 1s 13ms/step - loss: 5.5850e-04 - accuracy: 0.0000e+00 - mean_squared_error: 5.5850e-04 - val_loss: 5.7706e-04 - val_accuracy: 0.0000e+00 - val_mean_squared_error: 5.7706e-04\n",
            "Epoch 10/20\n",
            "40/40 [==============================] - 1s 13ms/step - loss: 5.6130e-04 - accuracy: 0.0000e+00 - mean_squared_error: 5.6130e-04 - val_loss: 5.9156e-04 - val_accuracy: 0.0000e+00 - val_mean_squared_error: 5.9156e-04\n",
            "Epoch 11/20\n",
            "40/40 [==============================] - 1s 13ms/step - loss: 5.6674e-04 - accuracy: 0.0000e+00 - mean_squared_error: 5.6674e-04 - val_loss: 6.2567e-04 - val_accuracy: 0.0000e+00 - val_mean_squared_error: 6.2567e-04\n",
            "Epoch 12/20\n",
            "40/40 [==============================] - 1s 13ms/step - loss: 5.7284e-04 - accuracy: 0.0000e+00 - mean_squared_error: 5.7284e-04 - val_loss: 6.2364e-04 - val_accuracy: 0.0000e+00 - val_mean_squared_error: 6.2364e-04\n",
            "Epoch 13/20\n",
            "40/40 [==============================] - 1s 14ms/step - loss: 5.7055e-04 - accuracy: 0.0000e+00 - mean_squared_error: 5.7055e-04 - val_loss: 5.9087e-04 - val_accuracy: 0.0000e+00 - val_mean_squared_error: 5.9087e-04\n",
            "Epoch 14/20\n",
            "40/40 [==============================] - 1s 13ms/step - loss: 5.6552e-04 - accuracy: 0.0000e+00 - mean_squared_error: 5.6552e-04 - val_loss: 5.9964e-04 - val_accuracy: 0.0000e+00 - val_mean_squared_error: 5.9964e-04\n",
            "Epoch 15/20\n",
            "40/40 [==============================] - 1s 13ms/step - loss: 5.7007e-04 - accuracy: 0.0000e+00 - mean_squared_error: 5.7007e-04 - val_loss: 5.9212e-04 - val_accuracy: 0.0000e+00 - val_mean_squared_error: 5.9212e-04\n",
            "Epoch 16/20\n",
            "40/40 [==============================] - 1s 13ms/step - loss: 5.7198e-04 - accuracy: 0.0000e+00 - mean_squared_error: 5.7198e-04 - val_loss: 5.6799e-04 - val_accuracy: 0.0000e+00 - val_mean_squared_error: 5.6799e-04\n",
            "Epoch 17/20\n",
            "40/40 [==============================] - 1s 13ms/step - loss: 5.6591e-04 - accuracy: 0.0000e+00 - mean_squared_error: 5.6591e-04 - val_loss: 5.6778e-04 - val_accuracy: 0.0000e+00 - val_mean_squared_error: 5.6778e-04\n",
            "Epoch 18/20\n",
            "40/40 [==============================] - 1s 13ms/step - loss: 5.6765e-04 - accuracy: 0.0000e+00 - mean_squared_error: 5.6765e-04 - val_loss: 5.8033e-04 - val_accuracy: 0.0000e+00 - val_mean_squared_error: 5.8033e-04\n",
            "Epoch 19/20\n",
            "40/40 [==============================] - 1s 13ms/step - loss: 5.7077e-04 - accuracy: 0.0000e+00 - mean_squared_error: 5.7077e-04 - val_loss: 6.1774e-04 - val_accuracy: 0.0000e+00 - val_mean_squared_error: 6.1774e-04\n",
            "Epoch 20/20\n",
            "40/40 [==============================] - 1s 13ms/step - loss: 5.7041e-04 - accuracy: 0.0000e+00 - mean_squared_error: 5.7041e-04 - val_loss: 6.1520e-04 - val_accuracy: 0.0000e+00 - val_mean_squared_error: 6.1520e-04\n",
            "32/32 [==============================] - 0s 1ms/step\n",
            "0.027825594022071243 0.024400625 2.0636647\n",
            "0.030538555088334154\n",
            "Epoch 1/20\n"
          ]
        },
        {
          "name": "stderr",
          "output_type": "stream",
          "text": [
            "2023-12-06 22:35:31.400973: I tensorflow/core/common_runtime/gpu/gpu_device.cc:1886] Created device /device:GPU:0 with 20609 MB memory:  -> device: 0, name: NVIDIA L4, pci bus id: 0000:00:03.0, compute capability: 8.9\n"
          ]
        },
        {
          "name": "stdout",
          "output_type": "stream",
          "text": [
            "40/40 [==============================] - 2s 16ms/step - loss: 0.0149 - accuracy: 0.0000e+00 - mean_squared_error: 0.0149 - val_loss: 0.0036 - val_accuracy: 0.0000e+00 - val_mean_squared_error: 0.0036\n",
            "Epoch 2/20\n",
            "31/40 [======================>.......] - ETA: 0s - loss: 0.0023 - accuracy: 0.0000e+00 - mean_squared_error: 0.0023"
          ]
        },
        {
          "name": "stderr",
          "output_type": "stream",
          "text": [
            "2023-12-06 22:35:33.135617: I tensorflow/core/framework/local_rendezvous.cc:421] Local rendezvous recv item cancelled. Key hash: 10316076964217112533\n"
          ]
        },
        {
          "name": "stdout",
          "output_type": "stream",
          "text": [
            "40/40 [==============================] - 1s 13ms/step - loss: 0.0021 - accuracy: 0.0000e+00 - mean_squared_error: 0.0021 - val_loss: 0.0011 - val_accuracy: 0.0000e+00 - val_mean_squared_error: 0.0011\n",
            "Epoch 3/20\n",
            "40/40 [==============================] - 1s 13ms/step - loss: 8.9178e-04 - accuracy: 0.0000e+00 - mean_squared_error: 8.9178e-04 - val_loss: 7.6376e-04 - val_accuracy: 0.0000e+00 - val_mean_squared_error: 7.6376e-04\n",
            "Epoch 4/20\n",
            "40/40 [==============================] - 0s 13ms/step - loss: 7.1578e-04 - accuracy: 0.0000e+00 - mean_squared_error: 7.1578e-04 - val_loss: 6.9913e-04 - val_accuracy: 0.0000e+00 - val_mean_squared_error: 6.9913e-04\n",
            "Epoch 5/20\n",
            "40/40 [==============================] - 1s 13ms/step - loss: 6.8524e-04 - accuracy: 0.0000e+00 - mean_squared_error: 6.8524e-04 - val_loss: 6.9559e-04 - val_accuracy: 0.0000e+00 - val_mean_squared_error: 6.9559e-04\n",
            "Epoch 6/20\n",
            "40/40 [==============================] - 1s 13ms/step - loss: 6.8249e-04 - accuracy: 0.0000e+00 - mean_squared_error: 6.8249e-04 - val_loss: 7.0089e-04 - val_accuracy: 0.0000e+00 - val_mean_squared_error: 7.0089e-04\n",
            "Epoch 7/20\n",
            "40/40 [==============================] - 0s 13ms/step - loss: 6.8561e-04 - accuracy: 0.0000e+00 - mean_squared_error: 6.8561e-04 - val_loss: 7.0916e-04 - val_accuracy: 0.0000e+00 - val_mean_squared_error: 7.0916e-04\n",
            "Epoch 8/20\n",
            "40/40 [==============================] - 1s 13ms/step - loss: 6.8910e-04 - accuracy: 0.0000e+00 - mean_squared_error: 6.8910e-04 - val_loss: 6.8813e-04 - val_accuracy: 0.0000e+00 - val_mean_squared_error: 6.8813e-04\n",
            "Epoch 9/20\n",
            "40/40 [==============================] - 1s 13ms/step - loss: 6.8742e-04 - accuracy: 0.0000e+00 - mean_squared_error: 6.8742e-04 - val_loss: 6.8529e-04 - val_accuracy: 0.0000e+00 - val_mean_squared_error: 6.8529e-04\n",
            "Epoch 10/20\n",
            "40/40 [==============================] - 1s 13ms/step - loss: 6.8761e-04 - accuracy: 0.0000e+00 - mean_squared_error: 6.8761e-04 - val_loss: 6.8341e-04 - val_accuracy: 0.0000e+00 - val_mean_squared_error: 6.8341e-04\n",
            "Epoch 11/20\n",
            "40/40 [==============================] - 0s 13ms/step - loss: 6.9135e-04 - accuracy: 0.0000e+00 - mean_squared_error: 6.9135e-04 - val_loss: 6.8598e-04 - val_accuracy: 0.0000e+00 - val_mean_squared_error: 6.8598e-04\n",
            "Epoch 12/20\n",
            "40/40 [==============================] - 1s 13ms/step - loss: 6.8702e-04 - accuracy: 0.0000e+00 - mean_squared_error: 6.8702e-04 - val_loss: 6.8487e-04 - val_accuracy: 0.0000e+00 - val_mean_squared_error: 6.8487e-04\n",
            "Epoch 13/20\n",
            "40/40 [==============================] - 1s 14ms/step - loss: 6.8941e-04 - accuracy: 0.0000e+00 - mean_squared_error: 6.8941e-04 - val_loss: 6.9403e-04 - val_accuracy: 0.0000e+00 - val_mean_squared_error: 6.9403e-04\n",
            "Epoch 14/20\n",
            "40/40 [==============================] - 0s 13ms/step - loss: 6.9377e-04 - accuracy: 0.0000e+00 - mean_squared_error: 6.9377e-04 - val_loss: 6.8694e-04 - val_accuracy: 0.0000e+00 - val_mean_squared_error: 6.8694e-04\n",
            "Epoch 15/20\n",
            "40/40 [==============================] - 1s 13ms/step - loss: 6.9008e-04 - accuracy: 0.0000e+00 - mean_squared_error: 6.9008e-04 - val_loss: 6.8344e-04 - val_accuracy: 0.0000e+00 - val_mean_squared_error: 6.8344e-04\n",
            "Epoch 16/20\n",
            "40/40 [==============================] - 0s 12ms/step - loss: 6.8542e-04 - accuracy: 0.0000e+00 - mean_squared_error: 6.8542e-04 - val_loss: 6.8374e-04 - val_accuracy: 0.0000e+00 - val_mean_squared_error: 6.8374e-04\n",
            "Epoch 17/20\n",
            "40/40 [==============================] - 1s 13ms/step - loss: 6.8719e-04 - accuracy: 0.0000e+00 - mean_squared_error: 6.8719e-04 - val_loss: 6.8380e-04 - val_accuracy: 0.0000e+00 - val_mean_squared_error: 6.8380e-04\n",
            "Epoch 18/20\n",
            "40/40 [==============================] - 0s 12ms/step - loss: 6.8944e-04 - accuracy: 0.0000e+00 - mean_squared_error: 6.8944e-04 - val_loss: 6.8439e-04 - val_accuracy: 0.0000e+00 - val_mean_squared_error: 6.8439e-04\n",
            "Epoch 19/20\n",
            "40/40 [==============================] - 1s 13ms/step - loss: 6.9108e-04 - accuracy: 0.0000e+00 - mean_squared_error: 6.9108e-04 - val_loss: 6.8418e-04 - val_accuracy: 0.0000e+00 - val_mean_squared_error: 6.8418e-04\n",
            "Epoch 20/20\n",
            "40/40 [==============================] - 1s 13ms/step - loss: 6.9585e-04 - accuracy: 0.0000e+00 - mean_squared_error: 6.9585e-04 - val_loss: 6.8579e-04 - val_accuracy: 0.0000e+00 - val_mean_squared_error: 6.8579e-04\n",
            "32/32 [==============================] - 0s 1ms/step\n",
            "0.030538555088334154 0.025417455 2.0087464\n",
            "0.033516026509388425\n",
            "Epoch 1/20\n"
          ]
        },
        {
          "name": "stderr",
          "output_type": "stream",
          "text": [
            "2023-12-06 22:35:43.508682: I tensorflow/core/common_runtime/gpu/gpu_device.cc:1886] Created device /device:GPU:0 with 20609 MB memory:  -> device: 0, name: NVIDIA L4, pci bus id: 0000:00:03.0, compute capability: 8.9\n"
          ]
        },
        {
          "name": "stdout",
          "output_type": "stream",
          "text": [
            "     31/Unknown - 1s 5ms/step - loss: 0.0182 - accuracy: 0.0000e+00 - mean_squared_error: 0.0182"
          ]
        },
        {
          "name": "stderr",
          "output_type": "stream",
          "text": [
            "2023-12-06 22:35:44.820196: I tensorflow/core/framework/local_rendezvous.cc:421] Local rendezvous recv item cancelled. Key hash: 12749084622472637211\n",
            "2023-12-06 22:35:44.820261: I tensorflow/core/framework/local_rendezvous.cc:421] Local rendezvous recv item cancelled. Key hash: 10316076964217112533\n"
          ]
        },
        {
          "name": "stdout",
          "output_type": "stream",
          "text": [
            "40/40 [==============================] - 2s 17ms/step - loss: 0.0155 - accuracy: 0.0000e+00 - mean_squared_error: 0.0155 - val_loss: 0.0038 - val_accuracy: 0.0000e+00 - val_mean_squared_error: 0.0038\n",
            "Epoch 2/20\n",
            "31/40 [======================>.......] - ETA: 0s - loss: 0.0023 - accuracy: 0.0000e+00 - mean_squared_error: 0.0023"
          ]
        },
        {
          "name": "stderr",
          "output_type": "stream",
          "text": [
            "2023-12-06 22:35:45.256570: I tensorflow/core/framework/local_rendezvous.cc:421] Local rendezvous recv item cancelled. Key hash: 12749084622472637211\n",
            "2023-12-06 22:35:45.256626: I tensorflow/core/framework/local_rendezvous.cc:421] Local rendezvous recv item cancelled. Key hash: 10316076964217112533\n"
          ]
        },
        {
          "name": "stdout",
          "output_type": "stream",
          "text": [
            "40/40 [==============================] - 1s 13ms/step - loss: 0.0021 - accuracy: 0.0000e+00 - mean_squared_error: 0.0021 - val_loss: 0.0013 - val_accuracy: 0.0000e+00 - val_mean_squared_error: 0.0013\n",
            "Epoch 3/20\n",
            "40/40 [==============================] - 1s 13ms/step - loss: 0.0010 - accuracy: 0.0000e+00 - mean_squared_error: 0.0010 - val_loss: 9.2734e-04 - val_accuracy: 0.0000e+00 - val_mean_squared_error: 9.2734e-04\n",
            "Epoch 4/20\n",
            "40/40 [==============================] - 0s 12ms/step - loss: 8.8541e-04 - accuracy: 0.0000e+00 - mean_squared_error: 8.8541e-04 - val_loss: 8.7238e-04 - val_accuracy: 0.0000e+00 - val_mean_squared_error: 8.7238e-04\n",
            "Epoch 5/20\n",
            "40/40 [==============================] - 1s 13ms/step - loss: 8.5397e-04 - accuracy: 0.0000e+00 - mean_squared_error: 8.5397e-04 - val_loss: 8.5212e-04 - val_accuracy: 0.0000e+00 - val_mean_squared_error: 8.5212e-04\n",
            "Epoch 6/20\n",
            "40/40 [==============================] - 1s 13ms/step - loss: 8.4617e-04 - accuracy: 0.0000e+00 - mean_squared_error: 8.4617e-04 - val_loss: 8.5414e-04 - val_accuracy: 0.0000e+00 - val_mean_squared_error: 8.5414e-04\n",
            "Epoch 7/20\n",
            "40/40 [==============================] - 1s 13ms/step - loss: 8.4588e-04 - accuracy: 0.0000e+00 - mean_squared_error: 8.4588e-04 - val_loss: 8.5093e-04 - val_accuracy: 0.0000e+00 - val_mean_squared_error: 8.5093e-04\n",
            "Epoch 8/20\n",
            "40/40 [==============================] - 1s 13ms/step - loss: 8.4517e-04 - accuracy: 0.0000e+00 - mean_squared_error: 8.4517e-04 - val_loss: 8.5875e-04 - val_accuracy: 0.0000e+00 - val_mean_squared_error: 8.5875e-04\n",
            "Epoch 9/20\n",
            "40/40 [==============================] - 1s 13ms/step - loss: 8.4672e-04 - accuracy: 0.0000e+00 - mean_squared_error: 8.4672e-04 - val_loss: 8.5737e-04 - val_accuracy: 0.0000e+00 - val_mean_squared_error: 8.5737e-04\n",
            "Epoch 10/20\n",
            "40/40 [==============================] - 1s 13ms/step - loss: 8.4712e-04 - accuracy: 0.0000e+00 - mean_squared_error: 8.4712e-04 - val_loss: 8.5626e-04 - val_accuracy: 0.0000e+00 - val_mean_squared_error: 8.5626e-04\n",
            "Epoch 11/20\n",
            "40/40 [==============================] - 1s 13ms/step - loss: 8.4769e-04 - accuracy: 0.0000e+00 - mean_squared_error: 8.4769e-04 - val_loss: 8.6693e-04 - val_accuracy: 0.0000e+00 - val_mean_squared_error: 8.6693e-04\n",
            "Epoch 12/20\n",
            "40/40 [==============================] - 1s 13ms/step - loss: 8.5051e-04 - accuracy: 0.0000e+00 - mean_squared_error: 8.5051e-04 - val_loss: 8.6069e-04 - val_accuracy: 0.0000e+00 - val_mean_squared_error: 8.6069e-04\n",
            "Epoch 13/20\n",
            "40/40 [==============================] - 1s 13ms/step - loss: 8.4897e-04 - accuracy: 0.0000e+00 - mean_squared_error: 8.4897e-04 - val_loss: 8.4861e-04 - val_accuracy: 0.0000e+00 - val_mean_squared_error: 8.4861e-04\n",
            "Epoch 14/20\n",
            "40/40 [==============================] - 0s 12ms/step - loss: 8.4567e-04 - accuracy: 0.0000e+00 - mean_squared_error: 8.4567e-04 - val_loss: 8.5150e-04 - val_accuracy: 0.0000e+00 - val_mean_squared_error: 8.5150e-04\n",
            "Epoch 15/20\n",
            "40/40 [==============================] - 1s 13ms/step - loss: 8.4604e-04 - accuracy: 0.0000e+00 - mean_squared_error: 8.4604e-04 - val_loss: 8.5576e-04 - val_accuracy: 0.0000e+00 - val_mean_squared_error: 8.5576e-04\n",
            "Epoch 16/20\n",
            "40/40 [==============================] - 1s 13ms/step - loss: 8.4663e-04 - accuracy: 0.0000e+00 - mean_squared_error: 8.4663e-04 - val_loss: 8.5107e-04 - val_accuracy: 0.0000e+00 - val_mean_squared_error: 8.5107e-04\n",
            "Epoch 17/20\n",
            "40/40 [==============================] - 1s 13ms/step - loss: 8.4587e-04 - accuracy: 0.0000e+00 - mean_squared_error: 8.4587e-04 - val_loss: 8.4795e-04 - val_accuracy: 0.0000e+00 - val_mean_squared_error: 8.4795e-04\n",
            "Epoch 18/20\n",
            "40/40 [==============================] - 1s 13ms/step - loss: 8.4593e-04 - accuracy: 0.0000e+00 - mean_squared_error: 8.4593e-04 - val_loss: 8.4901e-04 - val_accuracy: 0.0000e+00 - val_mean_squared_error: 8.4901e-04\n",
            "Epoch 19/20\n",
            "40/40 [==============================] - 1s 13ms/step - loss: 8.4607e-04 - accuracy: 0.0000e+00 - mean_squared_error: 8.4607e-04 - val_loss: 8.5646e-04 - val_accuracy: 0.0000e+00 - val_mean_squared_error: 8.5646e-04\n",
            "Epoch 20/20\n",
            "40/40 [==============================] - 1s 13ms/step - loss: 8.4655e-04 - accuracy: 0.0000e+00 - mean_squared_error: 8.4655e-04 - val_loss: 8.6124e-04 - val_accuracy: 0.0000e+00 - val_mean_squared_error: 8.6124e-04\n",
            "32/32 [==============================] - 0s 1ms/step\n",
            "0.033516026509388425 0.029171387 2.0279264\n",
            "0.03678379771828634\n",
            "Epoch 1/20\n"
          ]
        },
        {
          "name": "stderr",
          "output_type": "stream",
          "text": [
            "2023-12-06 22:35:55.586828: I tensorflow/core/common_runtime/gpu/gpu_device.cc:1886] Created device /device:GPU:0 with 20609 MB memory:  -> device: 0, name: NVIDIA L4, pci bus id: 0000:00:03.0, compute capability: 8.9\n"
          ]
        },
        {
          "name": "stdout",
          "output_type": "stream",
          "text": [
            "     31/Unknown - 1s 5ms/step - loss: 0.0184 - accuracy: 0.0000e+00 - mean_squared_error: 0.0184"
          ]
        },
        {
          "name": "stderr",
          "output_type": "stream",
          "text": [
            "2023-12-06 22:35:56.907781: I tensorflow/core/framework/local_rendezvous.cc:421] Local rendezvous recv item cancelled. Key hash: 10316076964217112533\n"
          ]
        },
        {
          "name": "stdout",
          "output_type": "stream",
          "text": [
            "40/40 [==============================] - 2s 17ms/step - loss: 0.0156 - accuracy: 0.0000e+00 - mean_squared_error: 0.0156 - val_loss: 0.0044 - val_accuracy: 0.0000e+00 - val_mean_squared_error: 0.0044\n",
            "Epoch 2/20\n",
            "31/40 [======================>.......] - ETA: 0s - loss: 0.0024 - accuracy: 0.0000e+00 - mean_squared_error: 0.0024"
          ]
        },
        {
          "name": "stderr",
          "output_type": "stream",
          "text": [
            "2023-12-06 22:35:57.332603: I tensorflow/core/framework/local_rendezvous.cc:421] Local rendezvous recv item cancelled. Key hash: 12749084622472637211\n"
          ]
        },
        {
          "name": "stdout",
          "output_type": "stream",
          "text": [
            "40/40 [==============================] - 1s 13ms/step - loss: 0.0023 - accuracy: 0.0000e+00 - mean_squared_error: 0.0023 - val_loss: 0.0014 - val_accuracy: 0.0000e+00 - val_mean_squared_error: 0.0014\n",
            "Epoch 3/20\n",
            "40/40 [==============================] - 1s 13ms/step - loss: 0.0012 - accuracy: 0.0000e+00 - mean_squared_error: 0.0012 - val_loss: 0.0011 - val_accuracy: 0.0000e+00 - val_mean_squared_error: 0.0011\n",
            "Epoch 4/20\n",
            "40/40 [==============================] - 1s 13ms/step - loss: 0.0011 - accuracy: 0.0000e+00 - mean_squared_error: 0.0011 - val_loss: 0.0011 - val_accuracy: 0.0000e+00 - val_mean_squared_error: 0.0011\n",
            "Epoch 5/20\n",
            "40/40 [==============================] - 0s 12ms/step - loss: 0.0010 - accuracy: 0.0000e+00 - mean_squared_error: 0.0010 - val_loss: 0.0011 - val_accuracy: 0.0000e+00 - val_mean_squared_error: 0.0011\n",
            "Epoch 6/20\n",
            "40/40 [==============================] - 0s 12ms/step - loss: 0.0010 - accuracy: 0.0000e+00 - mean_squared_error: 0.0010 - val_loss: 0.0011 - val_accuracy: 0.0000e+00 - val_mean_squared_error: 0.0011\n",
            "Epoch 7/20\n",
            "40/40 [==============================] - 1s 13ms/step - loss: 0.0010 - accuracy: 0.0000e+00 - mean_squared_error: 0.0010 - val_loss: 0.0011 - val_accuracy: 0.0000e+00 - val_mean_squared_error: 0.0011\n",
            "Epoch 8/20\n",
            "40/40 [==============================] - 1s 13ms/step - loss: 0.0010 - accuracy: 0.0000e+00 - mean_squared_error: 0.0010 - val_loss: 0.0010 - val_accuracy: 0.0000e+00 - val_mean_squared_error: 0.0010\n",
            "Epoch 9/20\n",
            "40/40 [==============================] - 1s 13ms/step - loss: 0.0010 - accuracy: 0.0000e+00 - mean_squared_error: 0.0010 - val_loss: 0.0011 - val_accuracy: 0.0000e+00 - val_mean_squared_error: 0.0011\n",
            "Epoch 10/20\n",
            "40/40 [==============================] - 1s 13ms/step - loss: 0.0010 - accuracy: 0.0000e+00 - mean_squared_error: 0.0010 - val_loss: 0.0011 - val_accuracy: 0.0000e+00 - val_mean_squared_error: 0.0011\n",
            "Epoch 11/20\n",
            "40/40 [==============================] - 1s 13ms/step - loss: 0.0010 - accuracy: 0.0000e+00 - mean_squared_error: 0.0010 - val_loss: 0.0011 - val_accuracy: 0.0000e+00 - val_mean_squared_error: 0.0011\n",
            "Epoch 12/20\n",
            "40/40 [==============================] - 1s 13ms/step - loss: 0.0011 - accuracy: 0.0000e+00 - mean_squared_error: 0.0011 - val_loss: 0.0011 - val_accuracy: 0.0000e+00 - val_mean_squared_error: 0.0011\n",
            "Epoch 13/20\n",
            "40/40 [==============================] - 1s 13ms/step - loss: 0.0011 - accuracy: 0.0000e+00 - mean_squared_error: 0.0011 - val_loss: 0.0012 - val_accuracy: 0.0000e+00 - val_mean_squared_error: 0.0012\n",
            "Epoch 14/20\n",
            "40/40 [==============================] - 1s 13ms/step - loss: 0.0011 - accuracy: 0.0000e+00 - mean_squared_error: 0.0011 - val_loss: 0.0011 - val_accuracy: 0.0000e+00 - val_mean_squared_error: 0.0011\n",
            "Epoch 15/20\n",
            "40/40 [==============================] - 1s 13ms/step - loss: 0.0011 - accuracy: 0.0000e+00 - mean_squared_error: 0.0011 - val_loss: 0.0011 - val_accuracy: 0.0000e+00 - val_mean_squared_error: 0.0011\n",
            "Epoch 16/20\n",
            "40/40 [==============================] - 1s 13ms/step - loss: 0.0011 - accuracy: 0.0000e+00 - mean_squared_error: 0.0011 - val_loss: 0.0011 - val_accuracy: 0.0000e+00 - val_mean_squared_error: 0.0011\n",
            "Epoch 17/20\n",
            "40/40 [==============================] - 1s 13ms/step - loss: 0.0011 - accuracy: 0.0000e+00 - mean_squared_error: 0.0011 - val_loss: 0.0010 - val_accuracy: 0.0000e+00 - val_mean_squared_error: 0.0010\n",
            "Epoch 18/20\n",
            "40/40 [==============================] - 1s 13ms/step - loss: 0.0011 - accuracy: 0.0000e+00 - mean_squared_error: 0.0011 - val_loss: 0.0010 - val_accuracy: 0.0000e+00 - val_mean_squared_error: 0.0010\n",
            "Epoch 19/20\n",
            "40/40 [==============================] - 1s 13ms/step - loss: 0.0011 - accuracy: 0.0000e+00 - mean_squared_error: 0.0011 - val_loss: 0.0010 - val_accuracy: 0.0000e+00 - val_mean_squared_error: 0.0010\n",
            "Epoch 20/20\n",
            "40/40 [==============================] - 1s 13ms/step - loss: 0.0010 - accuracy: 0.0000e+00 - mean_squared_error: 0.0010 - val_loss: 0.0011 - val_accuracy: 0.0000e+00 - val_mean_squared_error: 0.0011\n",
            "32/32 [==============================] - 0s 1ms/step\n",
            "0.03678379771828634 0.032349505 2.0447717\n",
            "0.040370172585965536\n",
            "Epoch 1/20\n"
          ]
        },
        {
          "name": "stderr",
          "output_type": "stream",
          "text": [
            "2023-12-06 22:36:07.729884: I tensorflow/core/common_runtime/gpu/gpu_device.cc:1886] Created device /device:GPU:0 with 20609 MB memory:  -> device: 0, name: NVIDIA L4, pci bus id: 0000:00:03.0, compute capability: 8.9\n"
          ]
        },
        {
          "name": "stdout",
          "output_type": "stream",
          "text": [
            "40/40 [==============================] - 2s 17ms/step - loss: 0.0151 - accuracy: 0.0000e+00 - mean_squared_error: 0.0151 - val_loss: 0.0042 - val_accuracy: 0.0000e+00 - val_mean_squared_error: 0.0042\n",
            "Epoch 2/20\n",
            "31/40 [======================>.......] - ETA: 0s - loss: 0.0024 - accuracy: 0.0000e+00 - mean_squared_error: 0.0024"
          ]
        },
        {
          "name": "stderr",
          "output_type": "stream",
          "text": [
            "2023-12-06 22:36:09.495033: I tensorflow/core/framework/local_rendezvous.cc:421] Local rendezvous recv item cancelled. Key hash: 12749084622472637211\n",
            "2023-12-06 22:36:09.495094: I tensorflow/core/framework/local_rendezvous.cc:421] Local rendezvous recv item cancelled. Key hash: 10316076964217112533\n"
          ]
        },
        {
          "name": "stdout",
          "output_type": "stream",
          "text": [
            "40/40 [==============================] - 1s 13ms/step - loss: 0.0023 - accuracy: 0.0000e+00 - mean_squared_error: 0.0023 - val_loss: 0.0015 - val_accuracy: 0.0000e+00 - val_mean_squared_error: 0.0015\n",
            "Epoch 3/20\n",
            "40/40 [==============================] - 1s 14ms/step - loss: 0.0013 - accuracy: 0.0000e+00 - mean_squared_error: 0.0013 - val_loss: 0.0011 - val_accuracy: 0.0000e+00 - val_mean_squared_error: 0.0011\n",
            "Epoch 4/20\n",
            "40/40 [==============================] - 1s 13ms/step - loss: 0.0010 - accuracy: 0.0000e+00 - mean_squared_error: 0.0010 - val_loss: 0.0010 - val_accuracy: 0.0000e+00 - val_mean_squared_error: 0.0010\n",
            "Epoch 5/20\n",
            "40/40 [==============================] - 1s 13ms/step - loss: 9.9641e-04 - accuracy: 0.0000e+00 - mean_squared_error: 9.9641e-04 - val_loss: 9.9281e-04 - val_accuracy: 0.0000e+00 - val_mean_squared_error: 9.9281e-04\n",
            "Epoch 6/20\n",
            "40/40 [==============================] - 1s 13ms/step - loss: 9.8382e-04 - accuracy: 0.0000e+00 - mean_squared_error: 9.8382e-04 - val_loss: 9.9588e-04 - val_accuracy: 0.0000e+00 - val_mean_squared_error: 9.9588e-04\n",
            "Epoch 7/20\n",
            "40/40 [==============================] - 1s 13ms/step - loss: 9.7756e-04 - accuracy: 0.0000e+00 - mean_squared_error: 9.7756e-04 - val_loss: 9.8112e-04 - val_accuracy: 0.0000e+00 - val_mean_squared_error: 9.8112e-04\n",
            "Epoch 8/20\n",
            "40/40 [==============================] - 1s 13ms/step - loss: 9.6703e-04 - accuracy: 0.0000e+00 - mean_squared_error: 9.6703e-04 - val_loss: 9.6553e-04 - val_accuracy: 0.0000e+00 - val_mean_squared_error: 9.6553e-04\n",
            "Epoch 9/20\n",
            "40/40 [==============================] - 1s 13ms/step - loss: 9.5715e-04 - accuracy: 0.0000e+00 - mean_squared_error: 9.5715e-04 - val_loss: 9.5434e-04 - val_accuracy: 0.0000e+00 - val_mean_squared_error: 9.5434e-04\n",
            "Epoch 10/20\n",
            "40/40 [==============================] - 1s 13ms/step - loss: 9.4818e-04 - accuracy: 0.0000e+00 - mean_squared_error: 9.4818e-04 - val_loss: 9.4091e-04 - val_accuracy: 0.0000e+00 - val_mean_squared_error: 9.4091e-04\n",
            "Epoch 11/20\n",
            "40/40 [==============================] - 1s 13ms/step - loss: 9.3807e-04 - accuracy: 0.0000e+00 - mean_squared_error: 9.3807e-04 - val_loss: 9.3017e-04 - val_accuracy: 0.0000e+00 - val_mean_squared_error: 9.3017e-04\n",
            "Epoch 12/20\n",
            "40/40 [==============================] - 1s 13ms/step - loss: 9.2920e-04 - accuracy: 0.0000e+00 - mean_squared_error: 9.2920e-04 - val_loss: 9.2602e-04 - val_accuracy: 0.0000e+00 - val_mean_squared_error: 9.2602e-04\n",
            "Epoch 13/20\n",
            "40/40 [==============================] - 1s 13ms/step - loss: 9.1992e-04 - accuracy: 0.0000e+00 - mean_squared_error: 9.1992e-04 - val_loss: 9.4068e-04 - val_accuracy: 0.0000e+00 - val_mean_squared_error: 9.4068e-04\n",
            "Epoch 14/20\n",
            "40/40 [==============================] - 1s 13ms/step - loss: 9.0790e-04 - accuracy: 0.0000e+00 - mean_squared_error: 9.0790e-04 - val_loss: 9.3329e-04 - val_accuracy: 0.0000e+00 - val_mean_squared_error: 9.3329e-04\n",
            "Epoch 15/20\n",
            "40/40 [==============================] - 1s 13ms/step - loss: 8.9951e-04 - accuracy: 0.0000e+00 - mean_squared_error: 8.9951e-04 - val_loss: 9.1292e-04 - val_accuracy: 0.0000e+00 - val_mean_squared_error: 9.1292e-04\n",
            "Epoch 16/20\n",
            "40/40 [==============================] - 1s 13ms/step - loss: 8.9634e-04 - accuracy: 0.0000e+00 - mean_squared_error: 8.9634e-04 - val_loss: 8.7483e-04 - val_accuracy: 0.0000e+00 - val_mean_squared_error: 8.7483e-04\n",
            "Epoch 17/20\n",
            "40/40 [==============================] - 1s 13ms/step - loss: 8.9206e-04 - accuracy: 0.0000e+00 - mean_squared_error: 8.9206e-04 - val_loss: 8.4013e-04 - val_accuracy: 0.0000e+00 - val_mean_squared_error: 8.4013e-04\n",
            "Epoch 18/20\n",
            "40/40 [==============================] - 1s 13ms/step - loss: 8.6670e-04 - accuracy: 0.0000e+00 - mean_squared_error: 8.6670e-04 - val_loss: 8.2700e-04 - val_accuracy: 0.0000e+00 - val_mean_squared_error: 8.2700e-04\n",
            "Epoch 19/20\n",
            "40/40 [==============================] - 1s 13ms/step - loss: 8.3351e-04 - accuracy: 0.0000e+00 - mean_squared_error: 8.3351e-04 - val_loss: 8.0295e-04 - val_accuracy: 0.0000e+00 - val_mean_squared_error: 8.0295e-04\n",
            "Epoch 20/20\n",
            "40/40 [==============================] - 1s 13ms/step - loss: 8.1881e-04 - accuracy: 0.0000e+00 - mean_squared_error: 8.1881e-04 - val_loss: 7.9590e-04 - val_accuracy: 0.0000e+00 - val_mean_squared_error: 7.9590e-04\n",
            "32/32 [==============================] - 0s 1ms/step\n",
            "0.040370172585965536 0.027715052 1.9986238\n",
            "0.044306214575838825\n",
            "Epoch 1/20\n"
          ]
        },
        {
          "name": "stderr",
          "output_type": "stream",
          "text": [
            "2023-12-06 22:36:19.966846: I tensorflow/core/common_runtime/gpu/gpu_device.cc:1886] Created device /device:GPU:0 with 20609 MB memory:  -> device: 0, name: NVIDIA L4, pci bus id: 0000:00:03.0, compute capability: 8.9\n"
          ]
        },
        {
          "name": "stdout",
          "output_type": "stream",
          "text": [
            "     31/Unknown - 1s 5ms/step - loss: 0.0152 - accuracy: 0.0000e+00 - mean_squared_error: 0.0152"
          ]
        },
        {
          "name": "stderr",
          "output_type": "stream",
          "text": [
            "2023-12-06 22:36:21.273328: I tensorflow/core/framework/local_rendezvous.cc:421] Local rendezvous recv item cancelled. Key hash: 12749084622472637211\n"
          ]
        },
        {
          "name": "stdout",
          "output_type": "stream",
          "text": [
            "40/40 [==============================] - 2s 16ms/step - loss: 0.0128 - accuracy: 0.0000e+00 - mean_squared_error: 0.0128 - val_loss: 0.0033 - val_accuracy: 0.0000e+00 - val_mean_squared_error: 0.0033\n",
            "Epoch 2/20\n",
            "31/40 [======================>.......] - ETA: 0s - loss: 0.0021 - accuracy: 0.0000e+00 - mean_squared_error: 0.0021"
          ]
        },
        {
          "name": "stderr",
          "output_type": "stream",
          "text": [
            "2023-12-06 22:36:21.688212: I tensorflow/core/framework/local_rendezvous.cc:421] Local rendezvous recv item cancelled. Key hash: 12749084622472637211\n",
            "2023-12-06 22:36:21.688270: I tensorflow/core/framework/local_rendezvous.cc:421] Local rendezvous recv item cancelled. Key hash: 10316076964217112533\n"
          ]
        },
        {
          "name": "stdout",
          "output_type": "stream",
          "text": [
            "40/40 [==============================] - 1s 13ms/step - loss: 0.0020 - accuracy: 0.0000e+00 - mean_squared_error: 0.0020 - val_loss: 0.0014 - val_accuracy: 0.0000e+00 - val_mean_squared_error: 0.0014\n",
            "Epoch 3/20\n",
            "40/40 [==============================] - 0s 13ms/step - loss: 0.0011 - accuracy: 0.0000e+00 - mean_squared_error: 0.0011 - val_loss: 9.6756e-04 - val_accuracy: 0.0000e+00 - val_mean_squared_error: 9.6756e-04\n",
            "Epoch 4/20\n",
            "40/40 [==============================] - 1s 13ms/step - loss: 9.4130e-04 - accuracy: 0.0000e+00 - mean_squared_error: 9.4130e-04 - val_loss: 8.9527e-04 - val_accuracy: 0.0000e+00 - val_mean_squared_error: 8.9527e-04\n",
            "Epoch 5/20\n",
            "40/40 [==============================] - 1s 13ms/step - loss: 9.0556e-04 - accuracy: 0.0000e+00 - mean_squared_error: 9.0556e-04 - val_loss: 8.7480e-04 - val_accuracy: 0.0000e+00 - val_mean_squared_error: 8.7480e-04\n",
            "Epoch 6/20\n",
            "40/40 [==============================] - 1s 13ms/step - loss: 8.8765e-04 - accuracy: 0.0000e+00 - mean_squared_error: 8.8765e-04 - val_loss: 8.5456e-04 - val_accuracy: 0.0000e+00 - val_mean_squared_error: 8.5456e-04\n",
            "Epoch 7/20\n",
            "40/40 [==============================] - 1s 13ms/step - loss: 8.6920e-04 - accuracy: 0.0000e+00 - mean_squared_error: 8.6920e-04 - val_loss: 8.4805e-04 - val_accuracy: 0.0000e+00 - val_mean_squared_error: 8.4805e-04\n",
            "Epoch 8/20\n",
            "40/40 [==============================] - 1s 13ms/step - loss: 8.4327e-04 - accuracy: 0.0000e+00 - mean_squared_error: 8.4327e-04 - val_loss: 8.2739e-04 - val_accuracy: 0.0000e+00 - val_mean_squared_error: 8.2739e-04\n",
            "Epoch 9/20\n",
            "40/40 [==============================] - 1s 13ms/step - loss: 8.2178e-04 - accuracy: 0.0000e+00 - mean_squared_error: 8.2178e-04 - val_loss: 7.9854e-04 - val_accuracy: 0.0000e+00 - val_mean_squared_error: 7.9854e-04\n",
            "Epoch 10/20\n",
            "40/40 [==============================] - 1s 13ms/step - loss: 7.9906e-04 - accuracy: 0.0000e+00 - mean_squared_error: 7.9906e-04 - val_loss: 7.6847e-04 - val_accuracy: 0.0000e+00 - val_mean_squared_error: 7.6847e-04\n",
            "Epoch 11/20\n",
            "40/40 [==============================] - 1s 13ms/step - loss: 7.7519e-04 - accuracy: 0.0000e+00 - mean_squared_error: 7.7519e-04 - val_loss: 7.4295e-04 - val_accuracy: 0.0000e+00 - val_mean_squared_error: 7.4295e-04\n",
            "Epoch 12/20\n",
            "40/40 [==============================] - 1s 13ms/step - loss: 7.5297e-04 - accuracy: 0.0000e+00 - mean_squared_error: 7.5297e-04 - val_loss: 7.1660e-04 - val_accuracy: 0.0000e+00 - val_mean_squared_error: 7.1660e-04\n",
            "Epoch 13/20\n",
            "40/40 [==============================] - 1s 13ms/step - loss: 7.2903e-04 - accuracy: 0.0000e+00 - mean_squared_error: 7.2903e-04 - val_loss: 6.9182e-04 - val_accuracy: 0.0000e+00 - val_mean_squared_error: 6.9182e-04\n",
            "Epoch 14/20\n",
            "40/40 [==============================] - 1s 15ms/step - loss: 6.9957e-04 - accuracy: 0.0000e+00 - mean_squared_error: 6.9957e-04 - val_loss: 6.6008e-04 - val_accuracy: 0.0000e+00 - val_mean_squared_error: 6.6008e-04\n",
            "Epoch 15/20\n",
            "40/40 [==============================] - 1s 13ms/step - loss: 6.7655e-04 - accuracy: 0.0000e+00 - mean_squared_error: 6.7655e-04 - val_loss: 6.4564e-04 - val_accuracy: 0.0000e+00 - val_mean_squared_error: 6.4564e-04\n",
            "Epoch 16/20\n",
            "40/40 [==============================] - 1s 13ms/step - loss: 6.5439e-04 - accuracy: 0.0000e+00 - mean_squared_error: 6.5439e-04 - val_loss: 6.5726e-04 - val_accuracy: 0.0000e+00 - val_mean_squared_error: 6.5726e-04\n",
            "Epoch 17/20\n",
            "40/40 [==============================] - 1s 13ms/step - loss: 6.2236e-04 - accuracy: 0.0000e+00 - mean_squared_error: 6.2236e-04 - val_loss: 6.1543e-04 - val_accuracy: 0.0000e+00 - val_mean_squared_error: 6.1543e-04\n",
            "Epoch 18/20\n",
            "40/40 [==============================] - 1s 13ms/step - loss: 5.8540e-04 - accuracy: 0.0000e+00 - mean_squared_error: 5.8540e-04 - val_loss: 5.5458e-04 - val_accuracy: 0.0000e+00 - val_mean_squared_error: 5.5458e-04\n",
            "Epoch 19/20\n",
            "40/40 [==============================] - 1s 13ms/step - loss: 5.5870e-04 - accuracy: 0.0000e+00 - mean_squared_error: 5.5870e-04 - val_loss: 5.1030e-04 - val_accuracy: 0.0000e+00 - val_mean_squared_error: 5.1030e-04\n",
            "Epoch 20/20\n",
            "40/40 [==============================] - 1s 13ms/step - loss: 5.3870e-04 - accuracy: 0.0000e+00 - mean_squared_error: 5.3870e-04 - val_loss: 4.8117e-04 - val_accuracy: 0.0000e+00 - val_mean_squared_error: 4.8117e-04\n",
            "32/32 [==============================] - 0s 1ms/step\n",
            "0.044306214575838825 0.022166029 2.0154903\n",
            "0.04862601580065353\n",
            "Epoch 1/20\n"
          ]
        },
        {
          "name": "stderr",
          "output_type": "stream",
          "text": [
            "2023-12-06 22:36:32.134674: I tensorflow/core/common_runtime/gpu/gpu_device.cc:1886] Created device /device:GPU:0 with 20609 MB memory:  -> device: 0, name: NVIDIA L4, pci bus id: 0000:00:03.0, compute capability: 8.9\n"
          ]
        },
        {
          "name": "stdout",
          "output_type": "stream",
          "text": [
            "     31/Unknown - 1s 5ms/step - loss: 0.0142 - accuracy: 0.0000e+00 - mean_squared_error: 0.0142"
          ]
        },
        {
          "name": "stderr",
          "output_type": "stream",
          "text": [
            "2023-12-06 22:36:33.459706: I tensorflow/core/framework/local_rendezvous.cc:425] Local rendezvous send item cancelled. Key hash: 3632331790298042566\n",
            "2023-12-06 22:36:33.459769: I tensorflow/core/framework/local_rendezvous.cc:421] Local rendezvous recv item cancelled. Key hash: 12749084622472637211\n",
            "2023-12-06 22:36:33.459795: I tensorflow/core/framework/local_rendezvous.cc:421] Local rendezvous recv item cancelled. Key hash: 10316076964217112533\n"
          ]
        },
        {
          "name": "stdout",
          "output_type": "stream",
          "text": [
            "40/40 [==============================] - 2s 16ms/step - loss: 0.0118 - accuracy: 0.0000e+00 - mean_squared_error: 0.0118 - val_loss: 0.0025 - val_accuracy: 0.0000e+00 - val_mean_squared_error: 0.0025\n",
            "Epoch 2/20\n",
            "31/40 [======================>.......] - ETA: 0s - loss: 0.0018 - accuracy: 0.0000e+00 - mean_squared_error: 0.0018"
          ]
        },
        {
          "name": "stderr",
          "output_type": "stream",
          "text": [
            "2023-12-06 22:36:33.878329: I tensorflow/core/framework/local_rendezvous.cc:421] Local rendezvous recv item cancelled. Key hash: 12749084622472637211\n",
            "2023-12-06 22:36:33.878382: I tensorflow/core/framework/local_rendezvous.cc:421] Local rendezvous recv item cancelled. Key hash: 10316076964217112533\n"
          ]
        },
        {
          "name": "stdout",
          "output_type": "stream",
          "text": [
            "40/40 [==============================] - 1s 13ms/step - loss: 0.0016 - accuracy: 0.0000e+00 - mean_squared_error: 0.0016 - val_loss: 0.0011 - val_accuracy: 0.0000e+00 - val_mean_squared_error: 0.0011\n",
            "Epoch 3/20\n",
            "40/40 [==============================] - 1s 14ms/step - loss: 8.6415e-04 - accuracy: 0.0000e+00 - mean_squared_error: 8.6415e-04 - val_loss: 7.1169e-04 - val_accuracy: 0.0000e+00 - val_mean_squared_error: 7.1169e-04\n",
            "Epoch 4/20\n",
            "40/40 [==============================] - 1s 14ms/step - loss: 6.2557e-04 - accuracy: 0.0000e+00 - mean_squared_error: 6.2557e-04 - val_loss: 5.8967e-04 - val_accuracy: 0.0000e+00 - val_mean_squared_error: 5.8967e-04\n",
            "Epoch 5/20\n",
            "40/40 [==============================] - 1s 13ms/step - loss: 5.5433e-04 - accuracy: 0.0000e+00 - mean_squared_error: 5.5433e-04 - val_loss: 5.5458e-04 - val_accuracy: 0.0000e+00 - val_mean_squared_error: 5.5458e-04\n",
            "Epoch 6/20\n",
            "40/40 [==============================] - 0s 12ms/step - loss: 5.2839e-04 - accuracy: 0.0000e+00 - mean_squared_error: 5.2839e-04 - val_loss: 5.3555e-04 - val_accuracy: 0.0000e+00 - val_mean_squared_error: 5.3555e-04\n",
            "Epoch 7/20\n",
            "40/40 [==============================] - 1s 13ms/step - loss: 5.1124e-04 - accuracy: 0.0000e+00 - mean_squared_error: 5.1124e-04 - val_loss: 5.1787e-04 - val_accuracy: 0.0000e+00 - val_mean_squared_error: 5.1787e-04\n",
            "Epoch 8/20\n",
            "40/40 [==============================] - 0s 12ms/step - loss: 4.9446e-04 - accuracy: 0.0000e+00 - mean_squared_error: 4.9446e-04 - val_loss: 4.9907e-04 - val_accuracy: 0.0000e+00 - val_mean_squared_error: 4.9907e-04\n",
            "Epoch 9/20\n",
            "40/40 [==============================] - 1s 13ms/step - loss: 4.7710e-04 - accuracy: 0.0000e+00 - mean_squared_error: 4.7710e-04 - val_loss: 4.8252e-04 - val_accuracy: 0.0000e+00 - val_mean_squared_error: 4.8252e-04\n",
            "Epoch 10/20\n",
            "40/40 [==============================] - 1s 13ms/step - loss: 4.5940e-04 - accuracy: 0.0000e+00 - mean_squared_error: 4.5940e-04 - val_loss: 4.6777e-04 - val_accuracy: 0.0000e+00 - val_mean_squared_error: 4.6777e-04\n",
            "Epoch 11/20\n",
            "40/40 [==============================] - 1s 14ms/step - loss: 4.4153e-04 - accuracy: 0.0000e+00 - mean_squared_error: 4.4153e-04 - val_loss: 4.5053e-04 - val_accuracy: 0.0000e+00 - val_mean_squared_error: 4.5053e-04\n",
            "Epoch 12/20\n",
            "40/40 [==============================] - 1s 13ms/step - loss: 4.2357e-04 - accuracy: 0.0000e+00 - mean_squared_error: 4.2357e-04 - val_loss: 4.3658e-04 - val_accuracy: 0.0000e+00 - val_mean_squared_error: 4.3658e-04\n",
            "Epoch 13/20\n",
            "40/40 [==============================] - 1s 13ms/step - loss: 4.0583e-04 - accuracy: 0.0000e+00 - mean_squared_error: 4.0583e-04 - val_loss: 4.2083e-04 - val_accuracy: 0.0000e+00 - val_mean_squared_error: 4.2083e-04\n",
            "Epoch 14/20\n",
            "40/40 [==============================] - 0s 13ms/step - loss: 3.8751e-04 - accuracy: 0.0000e+00 - mean_squared_error: 3.8751e-04 - val_loss: 3.9292e-04 - val_accuracy: 0.0000e+00 - val_mean_squared_error: 3.9292e-04\n",
            "Epoch 15/20\n",
            "40/40 [==============================] - 1s 13ms/step - loss: 3.6953e-04 - accuracy: 0.0000e+00 - mean_squared_error: 3.6953e-04 - val_loss: 3.6974e-04 - val_accuracy: 0.0000e+00 - val_mean_squared_error: 3.6974e-04\n",
            "Epoch 16/20\n",
            "40/40 [==============================] - 1s 14ms/step - loss: 3.5354e-04 - accuracy: 0.0000e+00 - mean_squared_error: 3.5354e-04 - val_loss: 3.4604e-04 - val_accuracy: 0.0000e+00 - val_mean_squared_error: 3.4604e-04\n",
            "Epoch 17/20\n",
            "40/40 [==============================] - 1s 14ms/step - loss: 3.3816e-04 - accuracy: 0.0000e+00 - mean_squared_error: 3.3816e-04 - val_loss: 3.2882e-04 - val_accuracy: 0.0000e+00 - val_mean_squared_error: 3.2882e-04\n",
            "Epoch 18/20\n",
            "40/40 [==============================] - 1s 13ms/step - loss: 3.1770e-04 - accuracy: 0.0000e+00 - mean_squared_error: 3.1770e-04 - val_loss: 3.1181e-04 - val_accuracy: 0.0000e+00 - val_mean_squared_error: 3.1181e-04\n",
            "Epoch 19/20\n",
            "40/40 [==============================] - 1s 13ms/step - loss: 2.9829e-04 - accuracy: 0.0000e+00 - mean_squared_error: 2.9829e-04 - val_loss: 2.9175e-04 - val_accuracy: 0.0000e+00 - val_mean_squared_error: 2.9175e-04\n",
            "Epoch 20/20\n",
            "40/40 [==============================] - 1s 13ms/step - loss: 2.8337e-04 - accuracy: 0.0000e+00 - mean_squared_error: 2.8337e-04 - val_loss: 2.7964e-04 - val_accuracy: 0.0000e+00 - val_mean_squared_error: 2.7964e-04\n",
            "32/32 [==============================] - 0s 1ms/step\n",
            "0.04862601580065353 0.016826663 1.9802176\n",
            "0.0533669923120631\n",
            "Epoch 1/20\n"
          ]
        },
        {
          "name": "stderr",
          "output_type": "stream",
          "text": [
            "2023-12-06 22:36:44.367750: I tensorflow/core/common_runtime/gpu/gpu_device.cc:1886] Created device /device:GPU:0 with 20609 MB memory:  -> device: 0, name: NVIDIA L4, pci bus id: 0000:00:03.0, compute capability: 8.9\n"
          ]
        },
        {
          "name": "stdout",
          "output_type": "stream",
          "text": [
            "     31/Unknown - 1s 5ms/step - loss: 0.0136 - accuracy: 0.0000e+00 - mean_squared_error: 0.0136"
          ]
        },
        {
          "name": "stderr",
          "output_type": "stream",
          "text": [
            "2023-12-06 22:36:45.671654: I tensorflow/core/framework/local_rendezvous.cc:421] Local rendezvous recv item cancelled. Key hash: 12749084622472637211\n",
            "2023-12-06 22:36:45.671715: I tensorflow/core/framework/local_rendezvous.cc:421] Local rendezvous recv item cancelled. Key hash: 10316076964217112533\n"
          ]
        },
        {
          "name": "stdout",
          "output_type": "stream",
          "text": [
            "40/40 [==============================] - 2s 16ms/step - loss: 0.0113 - accuracy: 0.0000e+00 - mean_squared_error: 0.0113 - val_loss: 0.0017 - val_accuracy: 0.0000e+00 - val_mean_squared_error: 0.0017\n",
            "Epoch 2/20\n",
            "31/40 [======================>.......] - ETA: 0s - loss: 0.0014 - accuracy: 0.0000e+00 - mean_squared_error: 0.0014"
          ]
        },
        {
          "name": "stderr",
          "output_type": "stream",
          "text": [
            "2023-12-06 22:36:46.094160: I tensorflow/core/framework/local_rendezvous.cc:421] Local rendezvous recv item cancelled. Key hash: 12749084622472637211\n",
            "2023-12-06 22:36:46.094214: I tensorflow/core/framework/local_rendezvous.cc:421] Local rendezvous recv item cancelled. Key hash: 10316076964217112533\n"
          ]
        },
        {
          "name": "stdout",
          "output_type": "stream",
          "text": [
            "40/40 [==============================] - 1s 13ms/step - loss: 0.0013 - accuracy: 0.0000e+00 - mean_squared_error: 0.0013 - val_loss: 8.8015e-04 - val_accuracy: 0.0000e+00 - val_mean_squared_error: 8.8015e-04\n",
            "Epoch 3/20\n",
            "40/40 [==============================] - 1s 13ms/step - loss: 6.9038e-04 - accuracy: 0.0000e+00 - mean_squared_error: 6.9038e-04 - val_loss: 5.3787e-04 - val_accuracy: 0.0000e+00 - val_mean_squared_error: 5.3787e-04\n",
            "Epoch 4/20\n",
            "40/40 [==============================] - 1s 13ms/step - loss: 4.5708e-04 - accuracy: 0.0000e+00 - mean_squared_error: 4.5708e-04 - val_loss: 3.9295e-04 - val_accuracy: 0.0000e+00 - val_mean_squared_error: 3.9295e-04\n",
            "Epoch 5/20\n",
            "40/40 [==============================] - 1s 13ms/step - loss: 3.6128e-04 - accuracy: 0.0000e+00 - mean_squared_error: 3.6128e-04 - val_loss: 3.3404e-04 - val_accuracy: 0.0000e+00 - val_mean_squared_error: 3.3404e-04\n",
            "Epoch 6/20\n",
            "40/40 [==============================] - 1s 13ms/step - loss: 3.2165e-04 - accuracy: 0.0000e+00 - mean_squared_error: 3.2165e-04 - val_loss: 3.1146e-04 - val_accuracy: 0.0000e+00 - val_mean_squared_error: 3.1146e-04\n",
            "Epoch 7/20\n",
            "40/40 [==============================] - 1s 13ms/step - loss: 3.0375e-04 - accuracy: 0.0000e+00 - mean_squared_error: 3.0375e-04 - val_loss: 2.9873e-04 - val_accuracy: 0.0000e+00 - val_mean_squared_error: 2.9873e-04\n",
            "Epoch 8/20\n",
            "40/40 [==============================] - 0s 12ms/step - loss: 2.9320e-04 - accuracy: 0.0000e+00 - mean_squared_error: 2.9320e-04 - val_loss: 2.8886e-04 - val_accuracy: 0.0000e+00 - val_mean_squared_error: 2.8886e-04\n",
            "Epoch 9/20\n",
            "40/40 [==============================] - 1s 13ms/step - loss: 2.8460e-04 - accuracy: 0.0000e+00 - mean_squared_error: 2.8460e-04 - val_loss: 2.8312e-04 - val_accuracy: 0.0000e+00 - val_mean_squared_error: 2.8312e-04\n",
            "Epoch 10/20\n",
            "40/40 [==============================] - 0s 12ms/step - loss: 2.7699e-04 - accuracy: 0.0000e+00 - mean_squared_error: 2.7699e-04 - val_loss: 2.7564e-04 - val_accuracy: 0.0000e+00 - val_mean_squared_error: 2.7564e-04\n",
            "Epoch 11/20\n",
            "40/40 [==============================] - 1s 13ms/step - loss: 2.6942e-04 - accuracy: 0.0000e+00 - mean_squared_error: 2.6942e-04 - val_loss: 2.6166e-04 - val_accuracy: 0.0000e+00 - val_mean_squared_error: 2.6166e-04\n",
            "Epoch 12/20\n",
            "40/40 [==============================] - 1s 13ms/step - loss: 2.5977e-04 - accuracy: 0.0000e+00 - mean_squared_error: 2.5977e-04 - val_loss: 2.5229e-04 - val_accuracy: 0.0000e+00 - val_mean_squared_error: 2.5229e-04\n",
            "Epoch 13/20\n",
            "40/40 [==============================] - 1s 13ms/step - loss: 2.4982e-04 - accuracy: 0.0000e+00 - mean_squared_error: 2.4982e-04 - val_loss: 2.4400e-04 - val_accuracy: 0.0000e+00 - val_mean_squared_error: 2.4400e-04\n",
            "Epoch 14/20\n",
            "40/40 [==============================] - 1s 13ms/step - loss: 2.4148e-04 - accuracy: 0.0000e+00 - mean_squared_error: 2.4148e-04 - val_loss: 2.3612e-04 - val_accuracy: 0.0000e+00 - val_mean_squared_error: 2.3612e-04\n",
            "Epoch 15/20\n",
            "40/40 [==============================] - 1s 13ms/step - loss: 2.3364e-04 - accuracy: 0.0000e+00 - mean_squared_error: 2.3364e-04 - val_loss: 2.2850e-04 - val_accuracy: 0.0000e+00 - val_mean_squared_error: 2.2850e-04\n",
            "Epoch 16/20\n",
            "40/40 [==============================] - 1s 13ms/step - loss: 2.2606e-04 - accuracy: 0.0000e+00 - mean_squared_error: 2.2606e-04 - val_loss: 2.2091e-04 - val_accuracy: 0.0000e+00 - val_mean_squared_error: 2.2091e-04\n",
            "Epoch 17/20\n",
            "40/40 [==============================] - 1s 13ms/step - loss: 2.1902e-04 - accuracy: 0.0000e+00 - mean_squared_error: 2.1902e-04 - val_loss: 2.1397e-04 - val_accuracy: 0.0000e+00 - val_mean_squared_error: 2.1397e-04\n",
            "Epoch 18/20\n",
            "40/40 [==============================] - 1s 13ms/step - loss: 2.1259e-04 - accuracy: 0.0000e+00 - mean_squared_error: 2.1259e-04 - val_loss: 2.0806e-04 - val_accuracy: 0.0000e+00 - val_mean_squared_error: 2.0806e-04\n",
            "Epoch 19/20\n",
            "40/40 [==============================] - 1s 15ms/step - loss: 2.0659e-04 - accuracy: 0.0000e+00 - mean_squared_error: 2.0659e-04 - val_loss: 2.0310e-04 - val_accuracy: 0.0000e+00 - val_mean_squared_error: 2.0310e-04\n",
            "Epoch 20/20\n",
            "40/40 [==============================] - 1s 13ms/step - loss: 2.0118e-04 - accuracy: 0.0000e+00 - mean_squared_error: 2.0118e-04 - val_loss: 1.9686e-04 - val_accuracy: 0.0000e+00 - val_mean_squared_error: 1.9686e-04\n",
            "32/32 [==============================] - 0s 1ms/step\n",
            "0.0533669923120631 0.013799788 2.0607357\n",
            "0.05857020818056667\n",
            "Epoch 1/20\n"
          ]
        },
        {
          "name": "stderr",
          "output_type": "stream",
          "text": [
            "2023-12-06 22:36:56.521505: I tensorflow/core/common_runtime/gpu/gpu_device.cc:1886] Created device /device:GPU:0 with 20609 MB memory:  -> device: 0, name: NVIDIA L4, pci bus id: 0000:00:03.0, compute capability: 8.9\n"
          ]
        },
        {
          "name": "stdout",
          "output_type": "stream",
          "text": [
            "     31/Unknown - 1s 5ms/step - loss: 0.0124 - accuracy: 0.0000e+00 - mean_squared_error: 0.0124"
          ]
        },
        {
          "name": "stderr",
          "output_type": "stream",
          "text": [
            "2023-12-06 22:36:57.836995: I tensorflow/core/framework/local_rendezvous.cc:421] Local rendezvous recv item cancelled. Key hash: 10316076964217112533\n"
          ]
        },
        {
          "name": "stdout",
          "output_type": "stream",
          "text": [
            "40/40 [==============================] - 2s 16ms/step - loss: 0.0102 - accuracy: 0.0000e+00 - mean_squared_error: 0.0102 - val_loss: 0.0014 - val_accuracy: 0.0000e+00 - val_mean_squared_error: 0.0014\n",
            "Epoch 2/20\n",
            "31/40 [======================>.......] - ETA: 0s - loss: 0.0011 - accuracy: 0.0000e+00 - mean_squared_error: 0.0011"
          ]
        },
        {
          "name": "stderr",
          "output_type": "stream",
          "text": [
            "2023-12-06 22:36:58.259176: I tensorflow/core/framework/local_rendezvous.cc:421] Local rendezvous recv item cancelled. Key hash: 12749084622472637211\n"
          ]
        },
        {
          "name": "stdout",
          "output_type": "stream",
          "text": [
            "40/40 [==============================] - 1s 13ms/step - loss: 0.0011 - accuracy: 0.0000e+00 - mean_squared_error: 0.0011 - val_loss: 7.3740e-04 - val_accuracy: 0.0000e+00 - val_mean_squared_error: 7.3740e-04\n",
            "Epoch 3/20\n",
            "40/40 [==============================] - 1s 13ms/step - loss: 5.8630e-04 - accuracy: 0.0000e+00 - mean_squared_error: 5.8630e-04 - val_loss: 4.6539e-04 - val_accuracy: 0.0000e+00 - val_mean_squared_error: 4.6539e-04\n",
            "Epoch 4/20\n",
            "40/40 [==============================] - 1s 13ms/step - loss: 3.9197e-04 - accuracy: 0.0000e+00 - mean_squared_error: 3.9197e-04 - val_loss: 3.3273e-04 - val_accuracy: 0.0000e+00 - val_mean_squared_error: 3.3273e-04\n",
            "Epoch 5/20\n",
            "40/40 [==============================] - 1s 13ms/step - loss: 3.0246e-04 - accuracy: 0.0000e+00 - mean_squared_error: 3.0246e-04 - val_loss: 2.7365e-04 - val_accuracy: 0.0000e+00 - val_mean_squared_error: 2.7365e-04\n",
            "Epoch 6/20\n",
            "40/40 [==============================] - 1s 13ms/step - loss: 2.6077e-04 - accuracy: 0.0000e+00 - mean_squared_error: 2.6077e-04 - val_loss: 2.4786e-04 - val_accuracy: 0.0000e+00 - val_mean_squared_error: 2.4786e-04\n",
            "Epoch 7/20\n",
            "40/40 [==============================] - 1s 13ms/step - loss: 2.4259e-04 - accuracy: 0.0000e+00 - mean_squared_error: 2.4259e-04 - val_loss: 2.3659e-04 - val_accuracy: 0.0000e+00 - val_mean_squared_error: 2.3659e-04\n",
            "Epoch 8/20\n",
            "40/40 [==============================] - 1s 13ms/step - loss: 2.3422e-04 - accuracy: 0.0000e+00 - mean_squared_error: 2.3422e-04 - val_loss: 2.2982e-04 - val_accuracy: 0.0000e+00 - val_mean_squared_error: 2.2982e-04\n",
            "Epoch 9/20\n",
            "40/40 [==============================] - 1s 13ms/step - loss: 2.2988e-04 - accuracy: 0.0000e+00 - mean_squared_error: 2.2988e-04 - val_loss: 2.2555e-04 - val_accuracy: 0.0000e+00 - val_mean_squared_error: 2.2555e-04\n",
            "Epoch 10/20\n",
            "40/40 [==============================] - 1s 13ms/step - loss: 2.2730e-04 - accuracy: 0.0000e+00 - mean_squared_error: 2.2730e-04 - val_loss: 2.2415e-04 - val_accuracy: 0.0000e+00 - val_mean_squared_error: 2.2415e-04\n",
            "Epoch 11/20\n",
            "40/40 [==============================] - 1s 13ms/step - loss: 2.2505e-04 - accuracy: 0.0000e+00 - mean_squared_error: 2.2505e-04 - val_loss: 2.2649e-04 - val_accuracy: 0.0000e+00 - val_mean_squared_error: 2.2649e-04\n",
            "Epoch 12/20\n",
            "40/40 [==============================] - 1s 13ms/step - loss: 2.2109e-04 - accuracy: 0.0000e+00 - mean_squared_error: 2.2109e-04 - val_loss: 2.1981e-04 - val_accuracy: 0.0000e+00 - val_mean_squared_error: 2.1981e-04\n",
            "Epoch 13/20\n",
            "40/40 [==============================] - 1s 13ms/step - loss: 2.1711e-04 - accuracy: 0.0000e+00 - mean_squared_error: 2.1711e-04 - val_loss: 2.1578e-04 - val_accuracy: 0.0000e+00 - val_mean_squared_error: 2.1578e-04\n",
            "Epoch 14/20\n",
            "40/40 [==============================] - 1s 13ms/step - loss: 2.1442e-04 - accuracy: 0.0000e+00 - mean_squared_error: 2.1442e-04 - val_loss: 2.1327e-04 - val_accuracy: 0.0000e+00 - val_mean_squared_error: 2.1327e-04\n",
            "Epoch 15/20\n",
            "40/40 [==============================] - 1s 13ms/step - loss: 2.1212e-04 - accuracy: 0.0000e+00 - mean_squared_error: 2.1212e-04 - val_loss: 2.1260e-04 - val_accuracy: 0.0000e+00 - val_mean_squared_error: 2.1260e-04\n",
            "Epoch 16/20\n",
            "40/40 [==============================] - 1s 14ms/step - loss: 2.1037e-04 - accuracy: 0.0000e+00 - mean_squared_error: 2.1037e-04 - val_loss: 2.1288e-04 - val_accuracy: 0.0000e+00 - val_mean_squared_error: 2.1288e-04\n",
            "Epoch 17/20\n",
            "40/40 [==============================] - 1s 13ms/step - loss: 2.0946e-04 - accuracy: 0.0000e+00 - mean_squared_error: 2.0946e-04 - val_loss: 2.1449e-04 - val_accuracy: 0.0000e+00 - val_mean_squared_error: 2.1449e-04\n",
            "Epoch 18/20\n",
            "40/40 [==============================] - 1s 13ms/step - loss: 2.0934e-04 - accuracy: 0.0000e+00 - mean_squared_error: 2.0934e-04 - val_loss: 2.1201e-04 - val_accuracy: 0.0000e+00 - val_mean_squared_error: 2.1201e-04\n",
            "Epoch 19/20\n",
            "40/40 [==============================] - 0s 12ms/step - loss: 2.0851e-04 - accuracy: 0.0000e+00 - mean_squared_error: 2.0851e-04 - val_loss: 2.0271e-04 - val_accuracy: 0.0000e+00 - val_mean_squared_error: 2.0271e-04\n",
            "Epoch 20/20\n",
            "40/40 [==============================] - 1s 13ms/step - loss: 2.0513e-04 - accuracy: 0.0000e+00 - mean_squared_error: 2.0513e-04 - val_loss: 2.0033e-04 - val_accuracy: 0.0000e+00 - val_mean_squared_error: 2.0033e-04\n",
            "32/32 [==============================] - 1s 1ms/step\n",
            "0.05857020818056667 0.014528613 2.0520298\n",
            "0.06428073117284322\n",
            "Epoch 1/20\n"
          ]
        },
        {
          "name": "stderr",
          "output_type": "stream",
          "text": [
            "2023-12-06 22:37:10.040326: I tensorflow/core/common_runtime/gpu/gpu_device.cc:1886] Created device /device:GPU:0 with 20609 MB memory:  -> device: 0, name: NVIDIA L4, pci bus id: 0000:00:03.0, compute capability: 8.9\n"
          ]
        },
        {
          "name": "stdout",
          "output_type": "stream",
          "text": [
            "40/40 [==============================] - 2s 17ms/step - loss: 0.0092 - accuracy: 0.0000e+00 - mean_squared_error: 0.0092 - val_loss: 0.0014 - val_accuracy: 0.0000e+00 - val_mean_squared_error: 0.0014\n",
            "Epoch 2/20\n",
            "29/40 [====================>.........] - ETA: 0s - loss: 0.0010 - accuracy: 0.0000e+00 - mean_squared_error: 0.0010"
          ]
        },
        {
          "name": "stderr",
          "output_type": "stream",
          "text": [
            "2023-12-06 22:37:11.790925: I tensorflow/core/framework/local_rendezvous.cc:421] Local rendezvous recv item cancelled. Key hash: 12749084622472637211\n",
            "2023-12-06 22:37:11.790984: I tensorflow/core/framework/local_rendezvous.cc:421] Local rendezvous recv item cancelled. Key hash: 10316076964217112533\n"
          ]
        },
        {
          "name": "stdout",
          "output_type": "stream",
          "text": [
            "40/40 [==============================] - 1s 13ms/step - loss: 9.4569e-04 - accuracy: 0.0000e+00 - mean_squared_error: 9.4569e-04 - val_loss: 7.0061e-04 - val_accuracy: 0.0000e+00 - val_mean_squared_error: 7.0061e-04\n",
            "Epoch 3/20\n",
            "40/40 [==============================] - 0s 13ms/step - loss: 5.5907e-04 - accuracy: 0.0000e+00 - mean_squared_error: 5.5907e-04 - val_loss: 4.3994e-04 - val_accuracy: 0.0000e+00 - val_mean_squared_error: 4.3994e-04\n",
            "Epoch 4/20\n",
            "40/40 [==============================] - 0s 12ms/step - loss: 3.8668e-04 - accuracy: 0.0000e+00 - mean_squared_error: 3.8668e-04 - val_loss: 3.3309e-04 - val_accuracy: 0.0000e+00 - val_mean_squared_error: 3.3309e-04\n",
            "Epoch 5/20\n",
            "40/40 [==============================] - 1s 13ms/step - loss: 3.0934e-04 - accuracy: 0.0000e+00 - mean_squared_error: 3.0934e-04 - val_loss: 2.8117e-04 - val_accuracy: 0.0000e+00 - val_mean_squared_error: 2.8117e-04\n",
            "Epoch 6/20\n",
            "40/40 [==============================] - 0s 13ms/step - loss: 2.7222e-04 - accuracy: 0.0000e+00 - mean_squared_error: 2.7222e-04 - val_loss: 2.6023e-04 - val_accuracy: 0.0000e+00 - val_mean_squared_error: 2.6023e-04\n",
            "Epoch 7/20\n",
            "40/40 [==============================] - 1s 13ms/step - loss: 2.5819e-04 - accuracy: 0.0000e+00 - mean_squared_error: 2.5819e-04 - val_loss: 2.5112e-04 - val_accuracy: 0.0000e+00 - val_mean_squared_error: 2.5112e-04\n",
            "Epoch 8/20\n",
            "40/40 [==============================] - 1s 13ms/step - loss: 2.5191e-04 - accuracy: 0.0000e+00 - mean_squared_error: 2.5191e-04 - val_loss: 2.4742e-04 - val_accuracy: 0.0000e+00 - val_mean_squared_error: 2.4742e-04\n",
            "Epoch 9/20\n",
            "40/40 [==============================] - 1s 13ms/step - loss: 2.4896e-04 - accuracy: 0.0000e+00 - mean_squared_error: 2.4896e-04 - val_loss: 2.4539e-04 - val_accuracy: 0.0000e+00 - val_mean_squared_error: 2.4539e-04\n",
            "Epoch 10/20\n",
            "40/40 [==============================] - 1s 13ms/step - loss: 2.4828e-04 - accuracy: 0.0000e+00 - mean_squared_error: 2.4828e-04 - val_loss: 2.4525e-04 - val_accuracy: 0.0000e+00 - val_mean_squared_error: 2.4525e-04\n",
            "Epoch 11/20\n",
            "40/40 [==============================] - 1s 13ms/step - loss: 2.4730e-04 - accuracy: 0.0000e+00 - mean_squared_error: 2.4730e-04 - val_loss: 2.4590e-04 - val_accuracy: 0.0000e+00 - val_mean_squared_error: 2.4590e-04\n",
            "Epoch 12/20\n",
            "40/40 [==============================] - 1s 14ms/step - loss: 2.4651e-04 - accuracy: 0.0000e+00 - mean_squared_error: 2.4651e-04 - val_loss: 2.4354e-04 - val_accuracy: 0.0000e+00 - val_mean_squared_error: 2.4354e-04\n",
            "Epoch 13/20\n",
            "40/40 [==============================] - 1s 13ms/step - loss: 2.4705e-04 - accuracy: 0.0000e+00 - mean_squared_error: 2.4705e-04 - val_loss: 2.4221e-04 - val_accuracy: 0.0000e+00 - val_mean_squared_error: 2.4221e-04\n",
            "Epoch 14/20\n",
            "40/40 [==============================] - 1s 13ms/step - loss: 2.4763e-04 - accuracy: 0.0000e+00 - mean_squared_error: 2.4763e-04 - val_loss: 2.4442e-04 - val_accuracy: 0.0000e+00 - val_mean_squared_error: 2.4442e-04\n",
            "Epoch 15/20\n",
            "40/40 [==============================] - 1s 14ms/step - loss: 2.4604e-04 - accuracy: 0.0000e+00 - mean_squared_error: 2.4604e-04 - val_loss: 2.4157e-04 - val_accuracy: 0.0000e+00 - val_mean_squared_error: 2.4157e-04\n",
            "Epoch 16/20\n",
            "40/40 [==============================] - 1s 13ms/step - loss: 2.4434e-04 - accuracy: 0.0000e+00 - mean_squared_error: 2.4434e-04 - val_loss: 2.4049e-04 - val_accuracy: 0.0000e+00 - val_mean_squared_error: 2.4049e-04\n",
            "Epoch 17/20\n",
            "40/40 [==============================] - 1s 13ms/step - loss: 2.4470e-04 - accuracy: 0.0000e+00 - mean_squared_error: 2.4470e-04 - val_loss: 2.4066e-04 - val_accuracy: 0.0000e+00 - val_mean_squared_error: 2.4066e-04\n",
            "Epoch 18/20\n",
            "40/40 [==============================] - 1s 13ms/step - loss: 2.4488e-04 - accuracy: 0.0000e+00 - mean_squared_error: 2.4488e-04 - val_loss: 2.4428e-04 - val_accuracy: 0.0000e+00 - val_mean_squared_error: 2.4428e-04\n",
            "Epoch 19/20\n",
            "40/40 [==============================] - 1s 13ms/step - loss: 2.4340e-04 - accuracy: 0.0000e+00 - mean_squared_error: 2.4340e-04 - val_loss: 2.4317e-04 - val_accuracy: 0.0000e+00 - val_mean_squared_error: 2.4317e-04\n",
            "Epoch 20/20\n",
            "40/40 [==============================] - 1s 13ms/step - loss: 2.4266e-04 - accuracy: 0.0000e+00 - mean_squared_error: 2.4266e-04 - val_loss: 2.4069e-04 - val_accuracy: 0.0000e+00 - val_mean_squared_error: 2.4069e-04\n",
            "32/32 [==============================] - 0s 1ms/step\n",
            "0.06428073117284322 0.01553067 2.0304625\n",
            "0.07054802310718646\n",
            "Epoch 1/20\n"
          ]
        },
        {
          "name": "stderr",
          "output_type": "stream",
          "text": [
            "2023-12-06 22:37:22.290743: I tensorflow/core/common_runtime/gpu/gpu_device.cc:1886] Created device /device:GPU:0 with 20609 MB memory:  -> device: 0, name: NVIDIA L4, pci bus id: 0000:00:03.0, compute capability: 8.9\n"
          ]
        },
        {
          "name": "stdout",
          "output_type": "stream",
          "text": [
            "     31/Unknown - 1s 5ms/step - loss: 0.0119 - accuracy: 0.0000e+00 - mean_squared_error: 0.0119"
          ]
        },
        {
          "name": "stderr",
          "output_type": "stream",
          "text": [
            "2023-12-06 22:37:23.601988: I tensorflow/core/framework/local_rendezvous.cc:421] Local rendezvous recv item cancelled. Key hash: 12749084622472637211\n"
          ]
        },
        {
          "name": "stdout",
          "output_type": "stream",
          "text": [
            "40/40 [==============================] - 2s 17ms/step - loss: 0.0098 - accuracy: 0.0000e+00 - mean_squared_error: 0.0098 - val_loss: 0.0015 - val_accuracy: 0.0000e+00 - val_mean_squared_error: 0.0015\n",
            "Epoch 2/20\n",
            "32/40 [=======================>......] - ETA: 0s - loss: 0.0010 - accuracy: 0.0000e+00 - mean_squared_error: 0.0010"
          ]
        },
        {
          "name": "stderr",
          "output_type": "stream",
          "text": [
            "2023-12-06 22:37:24.035973: I tensorflow/core/framework/local_rendezvous.cc:421] Local rendezvous recv item cancelled. Key hash: 12749084622472637211\n"
          ]
        },
        {
          "name": "stdout",
          "output_type": "stream",
          "text": [
            "40/40 [==============================] - 0s 12ms/step - loss: 9.7715e-04 - accuracy: 0.0000e+00 - mean_squared_error: 9.7715e-04 - val_loss: 7.1289e-04 - val_accuracy: 0.0000e+00 - val_mean_squared_error: 7.1289e-04\n",
            "Epoch 3/20\n",
            "40/40 [==============================] - 1s 13ms/step - loss: 5.9688e-04 - accuracy: 0.0000e+00 - mean_squared_error: 5.9688e-04 - val_loss: 5.0468e-04 - val_accuracy: 0.0000e+00 - val_mean_squared_error: 5.0468e-04\n",
            "Epoch 4/20\n",
            "40/40 [==============================] - 0s 12ms/step - loss: 4.4463e-04 - accuracy: 0.0000e+00 - mean_squared_error: 4.4463e-04 - val_loss: 3.9254e-04 - val_accuracy: 0.0000e+00 - val_mean_squared_error: 3.9254e-04\n",
            "Epoch 5/20\n",
            "40/40 [==============================] - 1s 13ms/step - loss: 3.6624e-04 - accuracy: 0.0000e+00 - mean_squared_error: 3.6624e-04 - val_loss: 3.5056e-04 - val_accuracy: 0.0000e+00 - val_mean_squared_error: 3.5056e-04\n",
            "Epoch 6/20\n",
            "40/40 [==============================] - 1s 13ms/step - loss: 3.3159e-04 - accuracy: 0.0000e+00 - mean_squared_error: 3.3159e-04 - val_loss: 3.3158e-04 - val_accuracy: 0.0000e+00 - val_mean_squared_error: 3.3158e-04\n",
            "Epoch 7/20\n",
            "40/40 [==============================] - 1s 13ms/step - loss: 3.1366e-04 - accuracy: 0.0000e+00 - mean_squared_error: 3.1366e-04 - val_loss: 3.1616e-04 - val_accuracy: 0.0000e+00 - val_mean_squared_error: 3.1616e-04\n",
            "Epoch 8/20\n",
            "40/40 [==============================] - 1s 13ms/step - loss: 3.0673e-04 - accuracy: 0.0000e+00 - mean_squared_error: 3.0673e-04 - val_loss: 3.1461e-04 - val_accuracy: 0.0000e+00 - val_mean_squared_error: 3.1461e-04\n",
            "Epoch 9/20\n",
            "40/40 [==============================] - 1s 13ms/step - loss: 3.0465e-04 - accuracy: 0.0000e+00 - mean_squared_error: 3.0465e-04 - val_loss: 3.1906e-04 - val_accuracy: 0.0000e+00 - val_mean_squared_error: 3.1906e-04\n",
            "Epoch 10/20\n",
            "40/40 [==============================] - 1s 13ms/step - loss: 3.0514e-04 - accuracy: 0.0000e+00 - mean_squared_error: 3.0514e-04 - val_loss: 3.2834e-04 - val_accuracy: 0.0000e+00 - val_mean_squared_error: 3.2834e-04\n",
            "Epoch 11/20\n",
            "40/40 [==============================] - 1s 13ms/step - loss: 3.0703e-04 - accuracy: 0.0000e+00 - mean_squared_error: 3.0703e-04 - val_loss: 3.4727e-04 - val_accuracy: 0.0000e+00 - val_mean_squared_error: 3.4727e-04\n",
            "Epoch 12/20\n",
            "40/40 [==============================] - 0s 12ms/step - loss: 3.0998e-04 - accuracy: 0.0000e+00 - mean_squared_error: 3.0998e-04 - val_loss: 3.4856e-04 - val_accuracy: 0.0000e+00 - val_mean_squared_error: 3.4856e-04\n",
            "Epoch 13/20\n",
            "40/40 [==============================] - 1s 13ms/step - loss: 3.1021e-04 - accuracy: 0.0000e+00 - mean_squared_error: 3.1021e-04 - val_loss: 3.3055e-04 - val_accuracy: 0.0000e+00 - val_mean_squared_error: 3.3055e-04\n",
            "Epoch 14/20\n",
            "40/40 [==============================] - 1s 13ms/step - loss: 3.0732e-04 - accuracy: 0.0000e+00 - mean_squared_error: 3.0732e-04 - val_loss: 3.4069e-04 - val_accuracy: 0.0000e+00 - val_mean_squared_error: 3.4069e-04\n",
            "Epoch 15/20\n",
            "40/40 [==============================] - 1s 13ms/step - loss: 3.0905e-04 - accuracy: 0.0000e+00 - mean_squared_error: 3.0905e-04 - val_loss: 3.6199e-04 - val_accuracy: 0.0000e+00 - val_mean_squared_error: 3.6199e-04\n",
            "Epoch 16/20\n",
            "40/40 [==============================] - 1s 13ms/step - loss: 3.1244e-04 - accuracy: 0.0000e+00 - mean_squared_error: 3.1244e-04 - val_loss: 3.6669e-04 - val_accuracy: 0.0000e+00 - val_mean_squared_error: 3.6669e-04\n",
            "Epoch 17/20\n",
            "40/40 [==============================] - 1s 13ms/step - loss: 3.1363e-04 - accuracy: 0.0000e+00 - mean_squared_error: 3.1363e-04 - val_loss: 3.4288e-04 - val_accuracy: 0.0000e+00 - val_mean_squared_error: 3.4288e-04\n",
            "Epoch 18/20\n",
            "40/40 [==============================] - 1s 13ms/step - loss: 3.1041e-04 - accuracy: 0.0000e+00 - mean_squared_error: 3.1041e-04 - val_loss: 3.4726e-04 - val_accuracy: 0.0000e+00 - val_mean_squared_error: 3.4726e-04\n",
            "Epoch 19/20\n",
            "40/40 [==============================] - 1s 13ms/step - loss: 3.1129e-04 - accuracy: 0.0000e+00 - mean_squared_error: 3.1129e-04 - val_loss: 3.6860e-04 - val_accuracy: 0.0000e+00 - val_mean_squared_error: 3.6860e-04\n",
            "Epoch 20/20\n",
            "40/40 [==============================] - 1s 14ms/step - loss: 3.1615e-04 - accuracy: 0.0000e+00 - mean_squared_error: 3.1615e-04 - val_loss: 3.8063e-04 - val_accuracy: 0.0000e+00 - val_mean_squared_error: 3.8063e-04\n",
            "32/32 [==============================] - 0s 1ms/step\n",
            "0.07054802310718646 0.019673575 2.0128043\n",
            "0.0774263682681127\n",
            "Epoch 1/20\n"
          ]
        },
        {
          "name": "stderr",
          "output_type": "stream",
          "text": [
            "2023-12-06 22:37:34.398169: I tensorflow/core/common_runtime/gpu/gpu_device.cc:1886] Created device /device:GPU:0 with 20609 MB memory:  -> device: 0, name: NVIDIA L4, pci bus id: 0000:00:03.0, compute capability: 8.9\n"
          ]
        },
        {
          "name": "stdout",
          "output_type": "stream",
          "text": [
            "     31/Unknown - 1s 5ms/step - loss: 0.0122 - accuracy: 0.0000e+00 - mean_squared_error: 0.0122"
          ]
        },
        {
          "name": "stderr",
          "output_type": "stream",
          "text": [
            "2023-12-06 22:37:35.715919: I tensorflow/core/framework/local_rendezvous.cc:421] Local rendezvous recv item cancelled. Key hash: 12749084622472637211\n",
            "2023-12-06 22:37:35.715980: I tensorflow/core/framework/local_rendezvous.cc:421] Local rendezvous recv item cancelled. Key hash: 10316076964217112533\n"
          ]
        },
        {
          "name": "stdout",
          "output_type": "stream",
          "text": [
            "40/40 [==============================] - 2s 16ms/step - loss: 0.0100 - accuracy: 0.0000e+00 - mean_squared_error: 0.0100 - val_loss: 0.0019 - val_accuracy: 0.0000e+00 - val_mean_squared_error: 0.0019\n",
            "Epoch 2/20\n",
            "29/40 [====================>.........] - ETA: 0s - loss: 0.0011 - accuracy: 0.0000e+00 - mean_squared_error: 0.0011"
          ]
        },
        {
          "name": "stderr",
          "output_type": "stream",
          "text": [
            "2023-12-06 22:37:36.130352: I tensorflow/core/framework/local_rendezvous.cc:421] Local rendezvous recv item cancelled. Key hash: 12749084622472637211\n",
            "2023-12-06 22:37:36.130416: I tensorflow/core/framework/local_rendezvous.cc:421] Local rendezvous recv item cancelled. Key hash: 10316076964217112533\n"
          ]
        },
        {
          "name": "stdout",
          "output_type": "stream",
          "text": [
            "40/40 [==============================] - 1s 13ms/step - loss: 0.0010 - accuracy: 0.0000e+00 - mean_squared_error: 0.0010 - val_loss: 7.4595e-04 - val_accuracy: 0.0000e+00 - val_mean_squared_error: 7.4595e-04\n",
            "Epoch 3/20\n",
            "40/40 [==============================] - 1s 13ms/step - loss: 6.5256e-04 - accuracy: 0.0000e+00 - mean_squared_error: 6.5256e-04 - val_loss: 5.7336e-04 - val_accuracy: 0.0000e+00 - val_mean_squared_error: 5.7336e-04\n",
            "Epoch 4/20\n",
            "40/40 [==============================] - 1s 13ms/step - loss: 5.1092e-04 - accuracy: 0.0000e+00 - mean_squared_error: 5.1092e-04 - val_loss: 4.6687e-04 - val_accuracy: 0.0000e+00 - val_mean_squared_error: 4.6687e-04\n",
            "Epoch 5/20\n",
            "40/40 [==============================] - 1s 13ms/step - loss: 4.3324e-04 - accuracy: 0.0000e+00 - mean_squared_error: 4.3324e-04 - val_loss: 4.1427e-04 - val_accuracy: 0.0000e+00 - val_mean_squared_error: 4.1427e-04\n",
            "Epoch 6/20\n",
            "40/40 [==============================] - 1s 13ms/step - loss: 3.9706e-04 - accuracy: 0.0000e+00 - mean_squared_error: 3.9706e-04 - val_loss: 3.9104e-04 - val_accuracy: 0.0000e+00 - val_mean_squared_error: 3.9104e-04\n",
            "Epoch 7/20\n",
            "40/40 [==============================] - 1s 13ms/step - loss: 3.8153e-04 - accuracy: 0.0000e+00 - mean_squared_error: 3.8153e-04 - val_loss: 3.7911e-04 - val_accuracy: 0.0000e+00 - val_mean_squared_error: 3.7911e-04\n",
            "Epoch 8/20\n",
            "40/40 [==============================] - 1s 13ms/step - loss: 3.7542e-04 - accuracy: 0.0000e+00 - mean_squared_error: 3.7542e-04 - val_loss: 3.7393e-04 - val_accuracy: 0.0000e+00 - val_mean_squared_error: 3.7393e-04\n",
            "Epoch 9/20\n",
            "40/40 [==============================] - 1s 13ms/step - loss: 3.7349e-04 - accuracy: 0.0000e+00 - mean_squared_error: 3.7349e-04 - val_loss: 3.7316e-04 - val_accuracy: 0.0000e+00 - val_mean_squared_error: 3.7316e-04\n",
            "Epoch 10/20\n",
            "40/40 [==============================] - 1s 13ms/step - loss: 3.7216e-04 - accuracy: 0.0000e+00 - mean_squared_error: 3.7216e-04 - val_loss: 3.7237e-04 - val_accuracy: 0.0000e+00 - val_mean_squared_error: 3.7237e-04\n",
            "Epoch 11/20\n",
            "40/40 [==============================] - 1s 13ms/step - loss: 3.7121e-04 - accuracy: 0.0000e+00 - mean_squared_error: 3.7121e-04 - val_loss: 3.7254e-04 - val_accuracy: 0.0000e+00 - val_mean_squared_error: 3.7254e-04\n",
            "Epoch 12/20\n",
            "40/40 [==============================] - 1s 13ms/step - loss: 3.7121e-04 - accuracy: 0.0000e+00 - mean_squared_error: 3.7121e-04 - val_loss: 3.7288e-04 - val_accuracy: 0.0000e+00 - val_mean_squared_error: 3.7288e-04\n",
            "Epoch 13/20\n",
            "40/40 [==============================] - 1s 13ms/step - loss: 3.7162e-04 - accuracy: 0.0000e+00 - mean_squared_error: 3.7162e-04 - val_loss: 3.7290e-04 - val_accuracy: 0.0000e+00 - val_mean_squared_error: 3.7290e-04\n",
            "Epoch 14/20\n",
            "40/40 [==============================] - 1s 13ms/step - loss: 3.7239e-04 - accuracy: 0.0000e+00 - mean_squared_error: 3.7239e-04 - val_loss: 3.7319e-04 - val_accuracy: 0.0000e+00 - val_mean_squared_error: 3.7319e-04\n",
            "Epoch 15/20\n",
            "40/40 [==============================] - 1s 13ms/step - loss: 3.7367e-04 - accuracy: 0.0000e+00 - mean_squared_error: 3.7367e-04 - val_loss: 3.7611e-04 - val_accuracy: 0.0000e+00 - val_mean_squared_error: 3.7611e-04\n",
            "Epoch 16/20\n",
            "40/40 [==============================] - 1s 13ms/step - loss: 3.7609e-04 - accuracy: 0.0000e+00 - mean_squared_error: 3.7609e-04 - val_loss: 3.8538e-04 - val_accuracy: 0.0000e+00 - val_mean_squared_error: 3.8538e-04\n",
            "Epoch 17/20\n",
            "40/40 [==============================] - 1s 13ms/step - loss: 3.7855e-04 - accuracy: 0.0000e+00 - mean_squared_error: 3.7855e-04 - val_loss: 3.9675e-04 - val_accuracy: 0.0000e+00 - val_mean_squared_error: 3.9675e-04\n",
            "Epoch 18/20\n",
            "40/40 [==============================] - 1s 13ms/step - loss: 3.7794e-04 - accuracy: 0.0000e+00 - mean_squared_error: 3.7794e-04 - val_loss: 3.8744e-04 - val_accuracy: 0.0000e+00 - val_mean_squared_error: 3.8744e-04\n",
            "Epoch 19/20\n",
            "40/40 [==============================] - 1s 13ms/step - loss: 3.7496e-04 - accuracy: 0.0000e+00 - mean_squared_error: 3.7496e-04 - val_loss: 3.7773e-04 - val_accuracy: 0.0000e+00 - val_mean_squared_error: 3.7773e-04\n",
            "Epoch 20/20\n",
            "40/40 [==============================] - 1s 14ms/step - loss: 3.7433e-04 - accuracy: 0.0000e+00 - mean_squared_error: 3.7433e-04 - val_loss: 3.7378e-04 - val_accuracy: 0.0000e+00 - val_mean_squared_error: 3.7378e-04\n",
            "32/32 [==============================] - 0s 1ms/step\n",
            "0.0774263682681127 0.019082736 2.069107\n",
            "0.08497534359086446\n",
            "Epoch 1/20\n"
          ]
        },
        {
          "name": "stderr",
          "output_type": "stream",
          "text": [
            "2023-12-06 22:37:46.640863: I tensorflow/core/common_runtime/gpu/gpu_device.cc:1886] Created device /device:GPU:0 with 20609 MB memory:  -> device: 0, name: NVIDIA L4, pci bus id: 0000:00:03.0, compute capability: 8.9\n"
          ]
        },
        {
          "name": "stdout",
          "output_type": "stream",
          "text": [
            "40/40 [==============================] - 2s 16ms/step - loss: 0.0094 - accuracy: 0.0000e+00 - mean_squared_error: 0.0094 - val_loss: 0.0016 - val_accuracy: 0.0000e+00 - val_mean_squared_error: 0.0016\n",
            "Epoch 2/20\n",
            "31/40 [======================>.......] - ETA: 0s - loss: 0.0010 - accuracy: 0.0000e+00 - mean_squared_error: 0.0010"
          ]
        },
        {
          "name": "stderr",
          "output_type": "stream",
          "text": [
            "2023-12-06 22:37:48.377805: I tensorflow/core/framework/local_rendezvous.cc:421] Local rendezvous recv item cancelled. Key hash: 12749084622472637211\n"
          ]
        },
        {
          "name": "stdout",
          "output_type": "stream",
          "text": [
            "40/40 [==============================] - 0s 13ms/step - loss: 0.0010 - accuracy: 0.0000e+00 - mean_squared_error: 0.0010 - val_loss: 7.9856e-04 - val_accuracy: 0.0000e+00 - val_mean_squared_error: 7.9856e-04\n",
            "Epoch 3/20\n",
            "40/40 [==============================] - 1s 13ms/step - loss: 7.0762e-04 - accuracy: 0.0000e+00 - mean_squared_error: 7.0762e-04 - val_loss: 6.2090e-04 - val_accuracy: 0.0000e+00 - val_mean_squared_error: 6.2090e-04\n",
            "Epoch 4/20\n",
            "40/40 [==============================] - 0s 12ms/step - loss: 5.7962e-04 - accuracy: 0.0000e+00 - mean_squared_error: 5.7962e-04 - val_loss: 5.3310e-04 - val_accuracy: 0.0000e+00 - val_mean_squared_error: 5.3310e-04\n",
            "Epoch 5/20\n",
            "40/40 [==============================] - 1s 13ms/step - loss: 5.1572e-04 - accuracy: 0.0000e+00 - mean_squared_error: 5.1572e-04 - val_loss: 4.9289e-04 - val_accuracy: 0.0000e+00 - val_mean_squared_error: 4.9289e-04\n",
            "Epoch 6/20\n",
            "40/40 [==============================] - 0s 13ms/step - loss: 4.8789e-04 - accuracy: 0.0000e+00 - mean_squared_error: 4.8789e-04 - val_loss: 4.7343e-04 - val_accuracy: 0.0000e+00 - val_mean_squared_error: 4.7343e-04\n",
            "Epoch 7/20\n",
            "40/40 [==============================] - 1s 13ms/step - loss: 4.7649e-04 - accuracy: 0.0000e+00 - mean_squared_error: 4.7649e-04 - val_loss: 4.6710e-04 - val_accuracy: 0.0000e+00 - val_mean_squared_error: 4.6710e-04\n",
            "Epoch 8/20\n",
            "40/40 [==============================] - 0s 13ms/step - loss: 4.7335e-04 - accuracy: 0.0000e+00 - mean_squared_error: 4.7335e-04 - val_loss: 4.6547e-04 - val_accuracy: 0.0000e+00 - val_mean_squared_error: 4.6547e-04\n",
            "Epoch 9/20\n",
            "40/40 [==============================] - 1s 13ms/step - loss: 4.7261e-04 - accuracy: 0.0000e+00 - mean_squared_error: 4.7261e-04 - val_loss: 4.6590e-04 - val_accuracy: 0.0000e+00 - val_mean_squared_error: 4.6590e-04\n",
            "Epoch 10/20\n",
            "40/40 [==============================] - 1s 13ms/step - loss: 4.7102e-04 - accuracy: 0.0000e+00 - mean_squared_error: 4.7102e-04 - val_loss: 4.6360e-04 - val_accuracy: 0.0000e+00 - val_mean_squared_error: 4.6360e-04\n",
            "Epoch 11/20\n",
            "40/40 [==============================] - 1s 13ms/step - loss: 4.7000e-04 - accuracy: 0.0000e+00 - mean_squared_error: 4.7000e-04 - val_loss: 4.6393e-04 - val_accuracy: 0.0000e+00 - val_mean_squared_error: 4.6393e-04\n",
            "Epoch 12/20\n",
            "40/40 [==============================] - 1s 13ms/step - loss: 4.7009e-04 - accuracy: 0.0000e+00 - mean_squared_error: 4.7009e-04 - val_loss: 4.6445e-04 - val_accuracy: 0.0000e+00 - val_mean_squared_error: 4.6445e-04\n",
            "Epoch 13/20\n",
            "40/40 [==============================] - 1s 13ms/step - loss: 4.7005e-04 - accuracy: 0.0000e+00 - mean_squared_error: 4.7005e-04 - val_loss: 4.6315e-04 - val_accuracy: 0.0000e+00 - val_mean_squared_error: 4.6315e-04\n",
            "Epoch 14/20\n",
            "40/40 [==============================] - 1s 13ms/step - loss: 4.6937e-04 - accuracy: 0.0000e+00 - mean_squared_error: 4.6937e-04 - val_loss: 4.6285e-04 - val_accuracy: 0.0000e+00 - val_mean_squared_error: 4.6285e-04\n",
            "Epoch 15/20\n",
            "40/40 [==============================] - 1s 13ms/step - loss: 4.6881e-04 - accuracy: 0.0000e+00 - mean_squared_error: 4.6881e-04 - val_loss: 4.6275e-04 - val_accuracy: 0.0000e+00 - val_mean_squared_error: 4.6275e-04\n",
            "Epoch 16/20\n",
            "40/40 [==============================] - 1s 13ms/step - loss: 4.6877e-04 - accuracy: 0.0000e+00 - mean_squared_error: 4.6877e-04 - val_loss: 4.6268e-04 - val_accuracy: 0.0000e+00 - val_mean_squared_error: 4.6268e-04\n",
            "Epoch 17/20\n",
            "40/40 [==============================] - 0s 13ms/step - loss: 4.6893e-04 - accuracy: 0.0000e+00 - mean_squared_error: 4.6893e-04 - val_loss: 4.6257e-04 - val_accuracy: 0.0000e+00 - val_mean_squared_error: 4.6257e-04\n",
            "Epoch 18/20\n",
            "40/40 [==============================] - 1s 13ms/step - loss: 4.6931e-04 - accuracy: 0.0000e+00 - mean_squared_error: 4.6931e-04 - val_loss: 4.6248e-04 - val_accuracy: 0.0000e+00 - val_mean_squared_error: 4.6248e-04\n",
            "Epoch 19/20\n",
            "40/40 [==============================] - 1s 13ms/step - loss: 4.7000e-04 - accuracy: 0.0000e+00 - mean_squared_error: 4.7000e-04 - val_loss: 4.6248e-04 - val_accuracy: 0.0000e+00 - val_mean_squared_error: 4.6248e-04\n",
            "Epoch 20/20\n",
            "40/40 [==============================] - 1s 13ms/step - loss: 4.7135e-04 - accuracy: 0.0000e+00 - mean_squared_error: 4.7135e-04 - val_loss: 4.6230e-04 - val_accuracy: 0.0000e+00 - val_mean_squared_error: 4.6230e-04\n",
            "32/32 [==============================] - 0s 1ms/step\n",
            "0.08497534359086446 0.021879014 2.0720787\n",
            "0.093260334688322\n",
            "Epoch 1/20\n"
          ]
        },
        {
          "name": "stderr",
          "output_type": "stream",
          "text": [
            "2023-12-06 22:37:58.774032: I tensorflow/core/common_runtime/gpu/gpu_device.cc:1886] Created device /device:GPU:0 with 20609 MB memory:  -> device: 0, name: NVIDIA L4, pci bus id: 0000:00:03.0, compute capability: 8.9\n"
          ]
        },
        {
          "name": "stdout",
          "output_type": "stream",
          "text": [
            "40/40 [==============================] - 2s 17ms/step - loss: 0.0091 - accuracy: 0.0000e+00 - mean_squared_error: 0.0091 - val_loss: 0.0018 - val_accuracy: 0.0000e+00 - val_mean_squared_error: 0.0018\n",
            "Epoch 2/20\n",
            "28/40 [====================>.........] - ETA: 0s - loss: 0.0012 - accuracy: 0.0000e+00 - mean_squared_error: 0.0012"
          ]
        },
        {
          "name": "stderr",
          "output_type": "stream",
          "text": [
            "2023-12-06 22:38:00.541791: I tensorflow/core/framework/local_rendezvous.cc:421] Local rendezvous recv item cancelled. Key hash: 12749084622472637211\n",
            "2023-12-06 22:38:00.541847: I tensorflow/core/framework/local_rendezvous.cc:421] Local rendezvous recv item cancelled. Key hash: 10316076964217112533\n"
          ]
        },
        {
          "name": "stdout",
          "output_type": "stream",
          "text": [
            "40/40 [==============================] - 1s 14ms/step - loss: 0.0011 - accuracy: 0.0000e+00 - mean_squared_error: 0.0011 - val_loss: 9.0732e-04 - val_accuracy: 0.0000e+00 - val_mean_squared_error: 9.0732e-04\n",
            "Epoch 3/20\n",
            "40/40 [==============================] - 1s 13ms/step - loss: 8.0210e-04 - accuracy: 0.0000e+00 - mean_squared_error: 8.0210e-04 - val_loss: 7.4834e-04 - val_accuracy: 0.0000e+00 - val_mean_squared_error: 7.4834e-04\n",
            "Epoch 4/20\n",
            "40/40 [==============================] - 1s 13ms/step - loss: 6.8402e-04 - accuracy: 0.0000e+00 - mean_squared_error: 6.8402e-04 - val_loss: 6.4306e-04 - val_accuracy: 0.0000e+00 - val_mean_squared_error: 6.4306e-04\n",
            "Epoch 5/20\n",
            "40/40 [==============================] - 1s 13ms/step - loss: 6.2160e-04 - accuracy: 0.0000e+00 - mean_squared_error: 6.2160e-04 - val_loss: 6.0629e-04 - val_accuracy: 0.0000e+00 - val_mean_squared_error: 6.0629e-04\n",
            "Epoch 6/20\n",
            "40/40 [==============================] - 1s 13ms/step - loss: 6.0210e-04 - accuracy: 0.0000e+00 - mean_squared_error: 6.0210e-04 - val_loss: 6.0006e-04 - val_accuracy: 0.0000e+00 - val_mean_squared_error: 6.0006e-04\n",
            "Epoch 7/20\n",
            "40/40 [==============================] - 1s 13ms/step - loss: 5.9253e-04 - accuracy: 0.0000e+00 - mean_squared_error: 5.9253e-04 - val_loss: 6.0106e-04 - val_accuracy: 0.0000e+00 - val_mean_squared_error: 6.0106e-04\n",
            "Epoch 8/20\n",
            "40/40 [==============================] - 1s 13ms/step - loss: 5.8937e-04 - accuracy: 0.0000e+00 - mean_squared_error: 5.8937e-04 - val_loss: 5.9744e-04 - val_accuracy: 0.0000e+00 - val_mean_squared_error: 5.9744e-04\n",
            "Epoch 9/20\n",
            "40/40 [==============================] - 1s 13ms/step - loss: 5.8906e-04 - accuracy: 0.0000e+00 - mean_squared_error: 5.8906e-04 - val_loss: 5.9167e-04 - val_accuracy: 0.0000e+00 - val_mean_squared_error: 5.9167e-04\n",
            "Epoch 10/20\n",
            "40/40 [==============================] - 1s 13ms/step - loss: 5.8857e-04 - accuracy: 0.0000e+00 - mean_squared_error: 5.8857e-04 - val_loss: 5.9207e-04 - val_accuracy: 0.0000e+00 - val_mean_squared_error: 5.9207e-04\n",
            "Epoch 11/20\n",
            "40/40 [==============================] - 1s 13ms/step - loss: 5.8791e-04 - accuracy: 0.0000e+00 - mean_squared_error: 5.8791e-04 - val_loss: 6.0004e-04 - val_accuracy: 0.0000e+00 - val_mean_squared_error: 6.0004e-04\n",
            "Epoch 12/20\n",
            "40/40 [==============================] - 1s 13ms/step - loss: 5.8927e-04 - accuracy: 0.0000e+00 - mean_squared_error: 5.8927e-04 - val_loss: 6.1112e-04 - val_accuracy: 0.0000e+00 - val_mean_squared_error: 6.1112e-04\n",
            "Epoch 13/20\n",
            "40/40 [==============================] - 1s 13ms/step - loss: 5.9040e-04 - accuracy: 0.0000e+00 - mean_squared_error: 5.9040e-04 - val_loss: 6.0826e-04 - val_accuracy: 0.0000e+00 - val_mean_squared_error: 6.0826e-04\n",
            "Epoch 14/20\n",
            "40/40 [==============================] - 0s 12ms/step - loss: 5.8941e-04 - accuracy: 0.0000e+00 - mean_squared_error: 5.8941e-04 - val_loss: 5.9571e-04 - val_accuracy: 0.0000e+00 - val_mean_squared_error: 5.9571e-04\n",
            "Epoch 15/20\n",
            "40/40 [==============================] - 0s 12ms/step - loss: 5.8730e-04 - accuracy: 0.0000e+00 - mean_squared_error: 5.8730e-04 - val_loss: 5.9624e-04 - val_accuracy: 0.0000e+00 - val_mean_squared_error: 5.9624e-04\n",
            "Epoch 16/20\n",
            "40/40 [==============================] - 1s 14ms/step - loss: 5.8753e-04 - accuracy: 0.0000e+00 - mean_squared_error: 5.8753e-04 - val_loss: 5.9658e-04 - val_accuracy: 0.0000e+00 - val_mean_squared_error: 5.9658e-04\n",
            "Epoch 17/20\n",
            "40/40 [==============================] - 1s 13ms/step - loss: 5.8854e-04 - accuracy: 0.0000e+00 - mean_squared_error: 5.8854e-04 - val_loss: 5.8971e-04 - val_accuracy: 0.0000e+00 - val_mean_squared_error: 5.8971e-04\n",
            "Epoch 18/20\n",
            "40/40 [==============================] - 1s 13ms/step - loss: 5.8801e-04 - accuracy: 0.0000e+00 - mean_squared_error: 5.8801e-04 - val_loss: 5.8364e-04 - val_accuracy: 0.0000e+00 - val_mean_squared_error: 5.8364e-04\n",
            "Epoch 19/20\n",
            "40/40 [==============================] - 0s 12ms/step - loss: 5.8572e-04 - accuracy: 0.0000e+00 - mean_squared_error: 5.8572e-04 - val_loss: 5.8324e-04 - val_accuracy: 0.0000e+00 - val_mean_squared_error: 5.8324e-04\n",
            "Epoch 20/20\n",
            "40/40 [==============================] - 0s 12ms/step - loss: 5.8469e-04 - accuracy: 0.0000e+00 - mean_squared_error: 5.8469e-04 - val_loss: 5.8326e-04 - val_accuracy: 0.0000e+00 - val_mean_squared_error: 5.8326e-04\n",
            "32/32 [==============================] - 0s 1ms/step\n",
            "0.093260334688322 0.024208965 2.0460768\n",
            "0.10235310218990264\n",
            "Epoch 1/20\n"
          ]
        },
        {
          "name": "stderr",
          "output_type": "stream",
          "text": [
            "2023-12-06 22:38:10.998998: I tensorflow/core/common_runtime/gpu/gpu_device.cc:1886] Created device /device:GPU:0 with 20609 MB memory:  -> device: 0, name: NVIDIA L4, pci bus id: 0000:00:03.0, compute capability: 8.9\n"
          ]
        },
        {
          "name": "stdout",
          "output_type": "stream",
          "text": [
            "     40/Unknown - 1s 5ms/step - loss: 0.0085 - accuracy: 0.0000e+00 - mean_squared_error: 0.0085"
          ]
        },
        {
          "name": "stderr",
          "output_type": "stream",
          "text": [
            "2023-12-06 22:38:12.329156: I tensorflow/core/framework/local_rendezvous.cc:425] Local rendezvous send item cancelled. Key hash: 3632331790298042566\n",
            "2023-12-06 22:38:12.329216: I tensorflow/core/framework/local_rendezvous.cc:425] Local rendezvous send item cancelled. Key hash: 15332740285842878431\n",
            "2023-12-06 22:38:12.329245: I tensorflow/core/framework/local_rendezvous.cc:421] Local rendezvous recv item cancelled. Key hash: 12749084622472637211\n",
            "2023-12-06 22:38:12.329252: I tensorflow/core/framework/local_rendezvous.cc:421] Local rendezvous recv item cancelled. Key hash: 10316076964217112533\n"
          ]
        },
        {
          "name": "stdout",
          "output_type": "stream",
          "text": [
            "40/40 [==============================] - 2s 17ms/step - loss: 0.0085 - accuracy: 0.0000e+00 - mean_squared_error: 0.0085 - val_loss: 0.0016 - val_accuracy: 0.0000e+00 - val_mean_squared_error: 0.0016\n",
            "Epoch 2/20\n",
            "25/40 [=================>............] - ETA: 0s - loss: 0.0012 - accuracy: 0.0000e+00 - mean_squared_error: 0.0012"
          ]
        },
        {
          "name": "stderr",
          "output_type": "stream",
          "text": [
            "2023-12-06 22:38:12.749728: I tensorflow/core/framework/local_rendezvous.cc:421] Local rendezvous recv item cancelled. Key hash: 12749084622472637211\n"
          ]
        },
        {
          "name": "stdout",
          "output_type": "stream",
          "text": [
            "40/40 [==============================] - 1s 14ms/step - loss: 0.0012 - accuracy: 0.0000e+00 - mean_squared_error: 0.0012 - val_loss: 0.0011 - val_accuracy: 0.0000e+00 - val_mean_squared_error: 0.0011\n",
            "Epoch 3/20\n",
            "40/40 [==============================] - 1s 13ms/step - loss: 9.1864e-04 - accuracy: 0.0000e+00 - mean_squared_error: 9.1864e-04 - val_loss: 8.8708e-04 - val_accuracy: 0.0000e+00 - val_mean_squared_error: 8.8708e-04\n",
            "Epoch 4/20\n",
            "40/40 [==============================] - 1s 14ms/step - loss: 8.1227e-04 - accuracy: 0.0000e+00 - mean_squared_error: 8.1227e-04 - val_loss: 7.9313e-04 - val_accuracy: 0.0000e+00 - val_mean_squared_error: 7.9313e-04\n",
            "Epoch 5/20\n",
            "40/40 [==============================] - 1s 13ms/step - loss: 7.6624e-04 - accuracy: 0.0000e+00 - mean_squared_error: 7.6624e-04 - val_loss: 7.8122e-04 - val_accuracy: 0.0000e+00 - val_mean_squared_error: 7.8122e-04\n",
            "Epoch 6/20\n",
            "40/40 [==============================] - 0s 13ms/step - loss: 7.5169e-04 - accuracy: 0.0000e+00 - mean_squared_error: 7.5169e-04 - val_loss: 7.8038e-04 - val_accuracy: 0.0000e+00 - val_mean_squared_error: 7.8038e-04\n",
            "Epoch 7/20\n",
            "40/40 [==============================] - 1s 13ms/step - loss: 7.4638e-04 - accuracy: 0.0000e+00 - mean_squared_error: 7.4638e-04 - val_loss: 7.6756e-04 - val_accuracy: 0.0000e+00 - val_mean_squared_error: 7.6756e-04\n",
            "Epoch 8/20\n",
            "40/40 [==============================] - 1s 13ms/step - loss: 7.4677e-04 - accuracy: 0.0000e+00 - mean_squared_error: 7.4677e-04 - val_loss: 7.5632e-04 - val_accuracy: 0.0000e+00 - val_mean_squared_error: 7.5632e-04\n",
            "Epoch 9/20\n",
            "40/40 [==============================] - 1s 13ms/step - loss: 7.4746e-04 - accuracy: 0.0000e+00 - mean_squared_error: 7.4746e-04 - val_loss: 7.4928e-04 - val_accuracy: 0.0000e+00 - val_mean_squared_error: 7.4928e-04\n",
            "Epoch 10/20\n",
            "40/40 [==============================] - 1s 13ms/step - loss: 7.4416e-04 - accuracy: 0.0000e+00 - mean_squared_error: 7.4416e-04 - val_loss: 7.5022e-04 - val_accuracy: 0.0000e+00 - val_mean_squared_error: 7.5022e-04\n",
            "Epoch 11/20\n",
            "40/40 [==============================] - 1s 13ms/step - loss: 7.4376e-04 - accuracy: 0.0000e+00 - mean_squared_error: 7.4376e-04 - val_loss: 7.5085e-04 - val_accuracy: 0.0000e+00 - val_mean_squared_error: 7.5085e-04\n",
            "Epoch 12/20\n",
            "40/40 [==============================] - 1s 13ms/step - loss: 7.4558e-04 - accuracy: 0.0000e+00 - mean_squared_error: 7.4558e-04 - val_loss: 7.4830e-04 - val_accuracy: 0.0000e+00 - val_mean_squared_error: 7.4830e-04\n",
            "Epoch 13/20\n",
            "40/40 [==============================] - 1s 13ms/step - loss: 7.4521e-04 - accuracy: 0.0000e+00 - mean_squared_error: 7.4521e-04 - val_loss: 7.4762e-04 - val_accuracy: 0.0000e+00 - val_mean_squared_error: 7.4762e-04\n",
            "Epoch 14/20\n",
            "40/40 [==============================] - 1s 13ms/step - loss: 7.4162e-04 - accuracy: 0.0000e+00 - mean_squared_error: 7.4162e-04 - val_loss: 7.5474e-04 - val_accuracy: 0.0000e+00 - val_mean_squared_error: 7.5474e-04\n",
            "Epoch 15/20\n",
            "40/40 [==============================] - 1s 13ms/step - loss: 7.4131e-04 - accuracy: 0.0000e+00 - mean_squared_error: 7.4131e-04 - val_loss: 7.5968e-04 - val_accuracy: 0.0000e+00 - val_mean_squared_error: 7.5968e-04\n",
            "Epoch 16/20\n",
            "40/40 [==============================] - 1s 14ms/step - loss: 7.4230e-04 - accuracy: 0.0000e+00 - mean_squared_error: 7.4230e-04 - val_loss: 7.5917e-04 - val_accuracy: 0.0000e+00 - val_mean_squared_error: 7.5917e-04\n",
            "Epoch 17/20\n",
            "40/40 [==============================] - 1s 13ms/step - loss: 7.4303e-04 - accuracy: 0.0000e+00 - mean_squared_error: 7.4303e-04 - val_loss: 7.4967e-04 - val_accuracy: 0.0000e+00 - val_mean_squared_error: 7.4967e-04\n",
            "Epoch 18/20\n",
            "40/40 [==============================] - 1s 13ms/step - loss: 7.4238e-04 - accuracy: 0.0000e+00 - mean_squared_error: 7.4238e-04 - val_loss: 7.4583e-04 - val_accuracy: 0.0000e+00 - val_mean_squared_error: 7.4583e-04\n",
            "Epoch 19/20\n",
            "40/40 [==============================] - 1s 13ms/step - loss: 7.4149e-04 - accuracy: 0.0000e+00 - mean_squared_error: 7.4149e-04 - val_loss: 7.4594e-04 - val_accuracy: 0.0000e+00 - val_mean_squared_error: 7.4594e-04\n",
            "Epoch 20/20\n",
            "40/40 [==============================] - 1s 13ms/step - loss: 7.4234e-04 - accuracy: 0.0000e+00 - mean_squared_error: 7.4234e-04 - val_loss: 7.4537e-04 - val_accuracy: 0.0000e+00 - val_mean_squared_error: 7.4537e-04\n",
            "32/32 [==============================] - 0s 1ms/step\n",
            "0.10235310218990264 0.027109401 2.0326397\n",
            "0.11233240329780277\n",
            "Epoch 1/20\n"
          ]
        },
        {
          "name": "stderr",
          "output_type": "stream",
          "text": [
            "2023-12-06 22:38:23.303841: I tensorflow/core/common_runtime/gpu/gpu_device.cc:1886] Created device /device:GPU:0 with 20609 MB memory:  -> device: 0, name: NVIDIA L4, pci bus id: 0000:00:03.0, compute capability: 8.9\n"
          ]
        },
        {
          "name": "stdout",
          "output_type": "stream",
          "text": [
            "40/40 [==============================] - 2s 17ms/step - loss: 0.0085 - accuracy: 0.0000e+00 - mean_squared_error: 0.0085 - val_loss: 0.0018 - val_accuracy: 0.0000e+00 - val_mean_squared_error: 0.0018\n",
            "Epoch 2/20\n",
            "28/40 [====================>.........] - ETA: 0s - loss: 0.0014 - accuracy: 0.0000e+00 - mean_squared_error: 0.0014"
          ]
        },
        {
          "name": "stderr",
          "output_type": "stream",
          "text": [
            "2023-12-06 22:38:25.071407: I tensorflow/core/framework/local_rendezvous.cc:421] Local rendezvous recv item cancelled. Key hash: 12749084622472637211\n"
          ]
        },
        {
          "name": "stdout",
          "output_type": "stream",
          "text": [
            "40/40 [==============================] - 1s 13ms/step - loss: 0.0013 - accuracy: 0.0000e+00 - mean_squared_error: 0.0013 - val_loss: 0.0012 - val_accuracy: 0.0000e+00 - val_mean_squared_error: 0.0012\n",
            "Epoch 3/20\n",
            "40/40 [==============================] - 1s 13ms/step - loss: 0.0011 - accuracy: 0.0000e+00 - mean_squared_error: 0.0011 - val_loss: 0.0010 - val_accuracy: 0.0000e+00 - val_mean_squared_error: 0.0010\n",
            "Epoch 4/20\n",
            "40/40 [==============================] - 1s 13ms/step - loss: 9.7721e-04 - accuracy: 0.0000e+00 - mean_squared_error: 9.7721e-04 - val_loss: 9.5666e-04 - val_accuracy: 0.0000e+00 - val_mean_squared_error: 9.5666e-04\n",
            "Epoch 5/20\n",
            "40/40 [==============================] - 1s 14ms/step - loss: 9.4460e-04 - accuracy: 0.0000e+00 - mean_squared_error: 9.4460e-04 - val_loss: 9.4858e-04 - val_accuracy: 0.0000e+00 - val_mean_squared_error: 9.4858e-04\n",
            "Epoch 6/20\n",
            "40/40 [==============================] - 1s 13ms/step - loss: 9.3598e-04 - accuracy: 0.0000e+00 - mean_squared_error: 9.3598e-04 - val_loss: 9.6127e-04 - val_accuracy: 0.0000e+00 - val_mean_squared_error: 9.6127e-04\n",
            "Epoch 7/20\n",
            "40/40 [==============================] - 0s 13ms/step - loss: 9.3512e-04 - accuracy: 0.0000e+00 - mean_squared_error: 9.3512e-04 - val_loss: 9.6815e-04 - val_accuracy: 0.0000e+00 - val_mean_squared_error: 9.6815e-04\n",
            "Epoch 8/20\n",
            "40/40 [==============================] - 0s 13ms/step - loss: 9.3588e-04 - accuracy: 0.0000e+00 - mean_squared_error: 9.3588e-04 - val_loss: 0.0010 - val_accuracy: 0.0000e+00 - val_mean_squared_error: 0.0010\n",
            "Epoch 9/20\n",
            "40/40 [==============================] - 1s 14ms/step - loss: 9.3744e-04 - accuracy: 0.0000e+00 - mean_squared_error: 9.3744e-04 - val_loss: 0.0010 - val_accuracy: 0.0000e+00 - val_mean_squared_error: 0.0010\n",
            "Epoch 10/20\n",
            "40/40 [==============================] - 1s 13ms/step - loss: 9.3435e-04 - accuracy: 0.0000e+00 - mean_squared_error: 9.3435e-04 - val_loss: 9.7268e-04 - val_accuracy: 0.0000e+00 - val_mean_squared_error: 9.7268e-04\n",
            "Epoch 11/20\n",
            "40/40 [==============================] - 1s 13ms/step - loss: 9.3151e-04 - accuracy: 0.0000e+00 - mean_squared_error: 9.3151e-04 - val_loss: 9.7177e-04 - val_accuracy: 0.0000e+00 - val_mean_squared_error: 9.7177e-04\n",
            "Epoch 12/20\n",
            "40/40 [==============================] - 1s 13ms/step - loss: 9.3479e-04 - accuracy: 0.0000e+00 - mean_squared_error: 9.3479e-04 - val_loss: 9.5568e-04 - val_accuracy: 0.0000e+00 - val_mean_squared_error: 9.5568e-04\n",
            "Epoch 13/20\n",
            "40/40 [==============================] - 1s 13ms/step - loss: 9.3806e-04 - accuracy: 0.0000e+00 - mean_squared_error: 9.3806e-04 - val_loss: 9.3164e-04 - val_accuracy: 0.0000e+00 - val_mean_squared_error: 9.3164e-04\n",
            "Epoch 14/20\n",
            "40/40 [==============================] - 1s 13ms/step - loss: 9.3355e-04 - accuracy: 0.0000e+00 - mean_squared_error: 9.3355e-04 - val_loss: 9.2999e-04 - val_accuracy: 0.0000e+00 - val_mean_squared_error: 9.2999e-04\n",
            "Epoch 15/20\n",
            "40/40 [==============================] - 1s 13ms/step - loss: 9.2936e-04 - accuracy: 0.0000e+00 - mean_squared_error: 9.2936e-04 - val_loss: 9.4362e-04 - val_accuracy: 0.0000e+00 - val_mean_squared_error: 9.4362e-04\n",
            "Epoch 16/20\n",
            "40/40 [==============================] - 0s 13ms/step - loss: 9.3206e-04 - accuracy: 0.0000e+00 - mean_squared_error: 9.3206e-04 - val_loss: 9.6730e-04 - val_accuracy: 0.0000e+00 - val_mean_squared_error: 9.6730e-04\n",
            "Epoch 17/20\n",
            "40/40 [==============================] - 0s 12ms/step - loss: 9.3678e-04 - accuracy: 0.0000e+00 - mean_squared_error: 9.3678e-04 - val_loss: 9.8106e-04 - val_accuracy: 0.0000e+00 - val_mean_squared_error: 9.8106e-04\n",
            "Epoch 18/20\n",
            "40/40 [==============================] - 1s 14ms/step - loss: 9.3987e-04 - accuracy: 0.0000e+00 - mean_squared_error: 9.3987e-04 - val_loss: 9.6055e-04 - val_accuracy: 0.0000e+00 - val_mean_squared_error: 9.6055e-04\n",
            "Epoch 19/20\n",
            "40/40 [==============================] - 1s 13ms/step - loss: 9.3708e-04 - accuracy: 0.0000e+00 - mean_squared_error: 9.3708e-04 - val_loss: 9.5369e-04 - val_accuracy: 0.0000e+00 - val_mean_squared_error: 9.5369e-04\n",
            "Epoch 20/20\n",
            "40/40 [==============================] - 1s 14ms/step - loss: 9.3648e-04 - accuracy: 0.0000e+00 - mean_squared_error: 9.3648e-04 - val_loss: 9.7456e-04 - val_accuracy: 0.0000e+00 - val_mean_squared_error: 9.7456e-04\n",
            "32/32 [==============================] - 0s 1ms/step\n",
            "0.11233240329780277 0.030674849 2.096009\n",
            "0.12328467394420665\n",
            "Epoch 1/20\n"
          ]
        },
        {
          "name": "stderr",
          "output_type": "stream",
          "text": [
            "2023-12-06 22:38:35.556172: I tensorflow/core/common_runtime/gpu/gpu_device.cc:1886] Created device /device:GPU:0 with 20609 MB memory:  -> device: 0, name: NVIDIA L4, pci bus id: 0000:00:03.0, compute capability: 8.9\n"
          ]
        },
        {
          "name": "stdout",
          "output_type": "stream",
          "text": [
            "40/40 [==============================] - 2s 16ms/step - loss: 0.0079 - accuracy: 0.0000e+00 - mean_squared_error: 0.0079 - val_loss: 0.0019 - val_accuracy: 0.0000e+00 - val_mean_squared_error: 0.0019\n",
            "Epoch 2/20\n",
            "31/40 [======================>.......] - ETA: 0s - loss: 0.0013 - accuracy: 0.0000e+00 - mean_squared_error: 0.0013"
          ]
        },
        {
          "name": "stderr",
          "output_type": "stream",
          "text": [
            "2023-12-06 22:38:37.285979: I tensorflow/core/framework/local_rendezvous.cc:421] Local rendezvous recv item cancelled. Key hash: 12749084622472637211\n",
            "2023-12-06 22:38:37.286041: I tensorflow/core/framework/local_rendezvous.cc:421] Local rendezvous recv item cancelled. Key hash: 10316076964217112533\n"
          ]
        },
        {
          "name": "stdout",
          "output_type": "stream",
          "text": [
            "40/40 [==============================] - 1s 13ms/step - loss: 0.0013 - accuracy: 0.0000e+00 - mean_squared_error: 0.0013 - val_loss: 9.3892e-04 - val_accuracy: 0.0000e+00 - val_mean_squared_error: 9.3892e-04\n",
            "Epoch 3/20\n",
            "40/40 [==============================] - 1s 13ms/step - loss: 9.0885e-04 - accuracy: 0.0000e+00 - mean_squared_error: 9.0885e-04 - val_loss: 8.3345e-04 - val_accuracy: 0.0000e+00 - val_mean_squared_error: 8.3345e-04\n",
            "Epoch 4/20\n",
            "40/40 [==============================] - 1s 13ms/step - loss: 8.3939e-04 - accuracy: 0.0000e+00 - mean_squared_error: 8.3939e-04 - val_loss: 7.8445e-04 - val_accuracy: 0.0000e+00 - val_mean_squared_error: 7.8445e-04\n",
            "Epoch 5/20\n",
            "40/40 [==============================] - 1s 13ms/step - loss: 7.9864e-04 - accuracy: 0.0000e+00 - mean_squared_error: 7.9864e-04 - val_loss: 7.6820e-04 - val_accuracy: 0.0000e+00 - val_mean_squared_error: 7.6820e-04\n",
            "Epoch 6/20\n",
            "40/40 [==============================] - 1s 13ms/step - loss: 7.6812e-04 - accuracy: 0.0000e+00 - mean_squared_error: 7.6812e-04 - val_loss: 7.4320e-04 - val_accuracy: 0.0000e+00 - val_mean_squared_error: 7.4320e-04\n",
            "Epoch 7/20\n",
            "40/40 [==============================] - 1s 13ms/step - loss: 7.4288e-04 - accuracy: 0.0000e+00 - mean_squared_error: 7.4288e-04 - val_loss: 7.1826e-04 - val_accuracy: 0.0000e+00 - val_mean_squared_error: 7.1826e-04\n",
            "Epoch 8/20\n",
            "40/40 [==============================] - 0s 13ms/step - loss: 7.2068e-04 - accuracy: 0.0000e+00 - mean_squared_error: 7.2068e-04 - val_loss: 6.8760e-04 - val_accuracy: 0.0000e+00 - val_mean_squared_error: 6.8760e-04\n",
            "Epoch 9/20\n",
            "40/40 [==============================] - 1s 13ms/step - loss: 6.9663e-04 - accuracy: 0.0000e+00 - mean_squared_error: 6.9663e-04 - val_loss: 6.6380e-04 - val_accuracy: 0.0000e+00 - val_mean_squared_error: 6.6380e-04\n",
            "Epoch 10/20\n",
            "40/40 [==============================] - 1s 13ms/step - loss: 6.6816e-04 - accuracy: 0.0000e+00 - mean_squared_error: 6.6816e-04 - val_loss: 6.4224e-04 - val_accuracy: 0.0000e+00 - val_mean_squared_error: 6.4224e-04\n",
            "Epoch 11/20\n",
            "40/40 [==============================] - 1s 13ms/step - loss: 6.4293e-04 - accuracy: 0.0000e+00 - mean_squared_error: 6.4293e-04 - val_loss: 6.1920e-04 - val_accuracy: 0.0000e+00 - val_mean_squared_error: 6.1920e-04\n",
            "Epoch 12/20\n",
            "40/40 [==============================] - 1s 13ms/step - loss: 6.1824e-04 - accuracy: 0.0000e+00 - mean_squared_error: 6.1824e-04 - val_loss: 5.9617e-04 - val_accuracy: 0.0000e+00 - val_mean_squared_error: 5.9617e-04\n",
            "Epoch 13/20\n",
            "40/40 [==============================] - 1s 13ms/step - loss: 5.9415e-04 - accuracy: 0.0000e+00 - mean_squared_error: 5.9415e-04 - val_loss: 5.7257e-04 - val_accuracy: 0.0000e+00 - val_mean_squared_error: 5.7257e-04\n",
            "Epoch 14/20\n",
            "40/40 [==============================] - 1s 13ms/step - loss: 5.7050e-04 - accuracy: 0.0000e+00 - mean_squared_error: 5.7050e-04 - val_loss: 5.4981e-04 - val_accuracy: 0.0000e+00 - val_mean_squared_error: 5.4981e-04\n",
            "Epoch 15/20\n",
            "40/40 [==============================] - 1s 13ms/step - loss: 5.4772e-04 - accuracy: 0.0000e+00 - mean_squared_error: 5.4772e-04 - val_loss: 5.2607e-04 - val_accuracy: 0.0000e+00 - val_mean_squared_error: 5.2607e-04\n",
            "Epoch 16/20\n",
            "40/40 [==============================] - 1s 13ms/step - loss: 5.2396e-04 - accuracy: 0.0000e+00 - mean_squared_error: 5.2396e-04 - val_loss: 5.0584e-04 - val_accuracy: 0.0000e+00 - val_mean_squared_error: 5.0584e-04\n",
            "Epoch 17/20\n",
            "40/40 [==============================] - 1s 13ms/step - loss: 4.9944e-04 - accuracy: 0.0000e+00 - mean_squared_error: 4.9944e-04 - val_loss: 4.8861e-04 - val_accuracy: 0.0000e+00 - val_mean_squared_error: 4.8861e-04\n",
            "Epoch 18/20\n",
            "40/40 [==============================] - 1s 13ms/step - loss: 4.7667e-04 - accuracy: 0.0000e+00 - mean_squared_error: 4.7667e-04 - val_loss: 4.6747e-04 - val_accuracy: 0.0000e+00 - val_mean_squared_error: 4.6747e-04\n",
            "Epoch 19/20\n",
            "40/40 [==============================] - 1s 13ms/step - loss: 4.5666e-04 - accuracy: 0.0000e+00 - mean_squared_error: 4.5666e-04 - val_loss: 4.4733e-04 - val_accuracy: 0.0000e+00 - val_mean_squared_error: 4.4733e-04\n",
            "Epoch 20/20\n",
            "40/40 [==============================] - 1s 13ms/step - loss: 4.3910e-04 - accuracy: 0.0000e+00 - mean_squared_error: 4.3910e-04 - val_loss: 4.2729e-04 - val_accuracy: 0.0000e+00 - val_mean_squared_error: 4.2729e-04\n",
            "32/32 [==============================] - 0s 1ms/step\n",
            "0.12328467394420665 0.020896962 2.017745\n",
            "0.13530477745798075\n",
            "Epoch 1/20\n"
          ]
        },
        {
          "name": "stderr",
          "output_type": "stream",
          "text": [
            "2023-12-06 22:38:47.654221: I tensorflow/core/common_runtime/gpu/gpu_device.cc:1886] Created device /device:GPU:0 with 20609 MB memory:  -> device: 0, name: NVIDIA L4, pci bus id: 0000:00:03.0, compute capability: 8.9\n"
          ]
        },
        {
          "name": "stdout",
          "output_type": "stream",
          "text": [
            "40/40 [==============================] - 2s 17ms/step - loss: 0.0077 - accuracy: 0.0000e+00 - mean_squared_error: 0.0077 - val_loss: 8.9267e-04 - val_accuracy: 0.0000e+00 - val_mean_squared_error: 8.9267e-04\n",
            "Epoch 2/20\n",
            "31/40 [======================>.......] - ETA: 0s - loss: 7.8491e-04 - accuracy: 0.0000e+00 - mean_squared_error: 7.8491e-04"
          ]
        },
        {
          "name": "stderr",
          "output_type": "stream",
          "text": [
            "2023-12-06 22:38:49.401477: I tensorflow/core/framework/local_rendezvous.cc:421] Local rendezvous recv item cancelled. Key hash: 12749084622472637211\n",
            "2023-12-06 22:38:49.401535: I tensorflow/core/framework/local_rendezvous.cc:421] Local rendezvous recv item cancelled. Key hash: 10316076964217112533\n"
          ]
        },
        {
          "name": "stdout",
          "output_type": "stream",
          "text": [
            "40/40 [==============================] - 1s 13ms/step - loss: 7.5811e-04 - accuracy: 0.0000e+00 - mean_squared_error: 7.5811e-04 - val_loss: 6.4320e-04 - val_accuracy: 0.0000e+00 - val_mean_squared_error: 6.4320e-04\n",
            "Epoch 3/20\n",
            "40/40 [==============================] - 0s 13ms/step - loss: 6.1078e-04 - accuracy: 0.0000e+00 - mean_squared_error: 6.1078e-04 - val_loss: 6.0006e-04 - val_accuracy: 0.0000e+00 - val_mean_squared_error: 6.0006e-04\n",
            "Epoch 4/20\n",
            "40/40 [==============================] - 1s 13ms/step - loss: 5.6037e-04 - accuracy: 0.0000e+00 - mean_squared_error: 5.6037e-04 - val_loss: 5.6905e-04 - val_accuracy: 0.0000e+00 - val_mean_squared_error: 5.6905e-04\n",
            "Epoch 5/20\n",
            "40/40 [==============================] - 1s 13ms/step - loss: 5.2401e-04 - accuracy: 0.0000e+00 - mean_squared_error: 5.2401e-04 - val_loss: 5.2655e-04 - val_accuracy: 0.0000e+00 - val_mean_squared_error: 5.2655e-04\n",
            "Epoch 6/20\n",
            "40/40 [==============================] - 1s 13ms/step - loss: 5.0224e-04 - accuracy: 0.0000e+00 - mean_squared_error: 5.0224e-04 - val_loss: 5.0901e-04 - val_accuracy: 0.0000e+00 - val_mean_squared_error: 5.0901e-04\n",
            "Epoch 7/20\n",
            "40/40 [==============================] - 1s 13ms/step - loss: 4.9073e-04 - accuracy: 0.0000e+00 - mean_squared_error: 4.9073e-04 - val_loss: 4.8044e-04 - val_accuracy: 0.0000e+00 - val_mean_squared_error: 4.8044e-04\n",
            "Epoch 8/20\n",
            "40/40 [==============================] - 1s 13ms/step - loss: 4.7927e-04 - accuracy: 0.0000e+00 - mean_squared_error: 4.7927e-04 - val_loss: 4.7465e-04 - val_accuracy: 0.0000e+00 - val_mean_squared_error: 4.7465e-04\n",
            "Epoch 9/20\n",
            "40/40 [==============================] - 1s 13ms/step - loss: 4.7483e-04 - accuracy: 0.0000e+00 - mean_squared_error: 4.7483e-04 - val_loss: 4.9708e-04 - val_accuracy: 0.0000e+00 - val_mean_squared_error: 4.9708e-04\n",
            "Epoch 10/20\n",
            "40/40 [==============================] - 1s 13ms/step - loss: 4.7063e-04 - accuracy: 0.0000e+00 - mean_squared_error: 4.7063e-04 - val_loss: 5.4426e-04 - val_accuracy: 0.0000e+00 - val_mean_squared_error: 5.4426e-04\n",
            "Epoch 11/20\n",
            "40/40 [==============================] - 1s 13ms/step - loss: 4.6231e-04 - accuracy: 0.0000e+00 - mean_squared_error: 4.6231e-04 - val_loss: 5.2860e-04 - val_accuracy: 0.0000e+00 - val_mean_squared_error: 5.2860e-04\n",
            "Epoch 12/20\n",
            "40/40 [==============================] - 1s 13ms/step - loss: 4.5177e-04 - accuracy: 0.0000e+00 - mean_squared_error: 4.5177e-04 - val_loss: 5.2575e-04 - val_accuracy: 0.0000e+00 - val_mean_squared_error: 5.2575e-04\n",
            "Epoch 13/20\n",
            "40/40 [==============================] - 1s 13ms/step - loss: 4.4694e-04 - accuracy: 0.0000e+00 - mean_squared_error: 4.4694e-04 - val_loss: 5.3594e-04 - val_accuracy: 0.0000e+00 - val_mean_squared_error: 5.3594e-04\n",
            "Epoch 14/20\n",
            "40/40 [==============================] - 1s 14ms/step - loss: 4.4479e-04 - accuracy: 0.0000e+00 - mean_squared_error: 4.4479e-04 - val_loss: 5.1446e-04 - val_accuracy: 0.0000e+00 - val_mean_squared_error: 5.1446e-04\n",
            "Epoch 15/20\n",
            "40/40 [==============================] - 1s 13ms/step - loss: 4.3788e-04 - accuracy: 0.0000e+00 - mean_squared_error: 4.3788e-04 - val_loss: 4.5816e-04 - val_accuracy: 0.0000e+00 - val_mean_squared_error: 4.5816e-04\n",
            "Epoch 16/20\n",
            "40/40 [==============================] - 1s 13ms/step - loss: 4.2298e-04 - accuracy: 0.0000e+00 - mean_squared_error: 4.2298e-04 - val_loss: 4.3759e-04 - val_accuracy: 0.0000e+00 - val_mean_squared_error: 4.3759e-04\n",
            "Epoch 17/20\n",
            "40/40 [==============================] - 1s 13ms/step - loss: 4.1264e-04 - accuracy: 0.0000e+00 - mean_squared_error: 4.1264e-04 - val_loss: 4.4146e-04 - val_accuracy: 0.0000e+00 - val_mean_squared_error: 4.4146e-04\n",
            "Epoch 18/20\n",
            "40/40 [==============================] - 1s 13ms/step - loss: 4.0689e-04 - accuracy: 0.0000e+00 - mean_squared_error: 4.0689e-04 - val_loss: 4.6099e-04 - val_accuracy: 0.0000e+00 - val_mean_squared_error: 4.6099e-04\n",
            "Epoch 19/20\n",
            "40/40 [==============================] - 1s 13ms/step - loss: 4.0206e-04 - accuracy: 0.0000e+00 - mean_squared_error: 4.0206e-04 - val_loss: 4.7928e-04 - val_accuracy: 0.0000e+00 - val_mean_squared_error: 4.7928e-04\n",
            "Epoch 20/20\n",
            "40/40 [==============================] - 1s 13ms/step - loss: 3.9515e-04 - accuracy: 0.0000e+00 - mean_squared_error: 3.9515e-04 - val_loss: 4.6036e-04 - val_accuracy: 0.0000e+00 - val_mean_squared_error: 4.6036e-04\n",
            "32/32 [==============================] - 0s 1ms/step\n",
            "0.13530477745798075 0.021341931 2.009447\n",
            "0.1484968262254465\n",
            "Epoch 1/20\n"
          ]
        },
        {
          "name": "stderr",
          "output_type": "stream",
          "text": [
            "2023-12-06 22:38:59.823216: I tensorflow/core/common_runtime/gpu/gpu_device.cc:1886] Created device /device:GPU:0 with 20609 MB memory:  -> device: 0, name: NVIDIA L4, pci bus id: 0000:00:03.0, compute capability: 8.9\n"
          ]
        },
        {
          "name": "stdout",
          "output_type": "stream",
          "text": [
            "     31/Unknown - 1s 5ms/step - loss: 0.0084 - accuracy: 0.0000e+00 - mean_squared_error: 0.0084"
          ]
        },
        {
          "name": "stderr",
          "output_type": "stream",
          "text": [
            "2023-12-06 22:39:01.150939: I tensorflow/core/framework/local_rendezvous.cc:421] Local rendezvous recv item cancelled. Key hash: 12749084622472637211\n",
            "2023-12-06 22:39:01.151001: I tensorflow/core/framework/local_rendezvous.cc:421] Local rendezvous recv item cancelled. Key hash: 10316076964217112533\n"
          ]
        },
        {
          "name": "stdout",
          "output_type": "stream",
          "text": [
            "40/40 [==============================] - 2s 17ms/step - loss: 0.0068 - accuracy: 0.0000e+00 - mean_squared_error: 0.0068 - val_loss: 0.0011 - val_accuracy: 0.0000e+00 - val_mean_squared_error: 0.0011\n",
            "Epoch 2/20\n",
            "31/40 [======================>.......] - ETA: 0s - loss: 7.7688e-04 - accuracy: 0.0000e+00 - mean_squared_error: 7.7688e-04"
          ]
        },
        {
          "name": "stderr",
          "output_type": "stream",
          "text": [
            "2023-12-06 22:39:01.597766: I tensorflow/core/framework/local_rendezvous.cc:421] Local rendezvous recv item cancelled. Key hash: 12749084622472637211\n"
          ]
        },
        {
          "name": "stdout",
          "output_type": "stream",
          "text": [
            "40/40 [==============================] - 1s 13ms/step - loss: 7.4675e-04 - accuracy: 0.0000e+00 - mean_squared_error: 7.4675e-04 - val_loss: 6.1422e-04 - val_accuracy: 0.0000e+00 - val_mean_squared_error: 6.1422e-04\n",
            "Epoch 3/20\n",
            "40/40 [==============================] - 1s 13ms/step - loss: 5.8499e-04 - accuracy: 0.0000e+00 - mean_squared_error: 5.8499e-04 - val_loss: 5.5162e-04 - val_accuracy: 0.0000e+00 - val_mean_squared_error: 5.5162e-04\n",
            "Epoch 4/20\n",
            "40/40 [==============================] - 1s 13ms/step - loss: 5.3278e-04 - accuracy: 0.0000e+00 - mean_squared_error: 5.3278e-04 - val_loss: 5.1456e-04 - val_accuracy: 0.0000e+00 - val_mean_squared_error: 5.1456e-04\n",
            "Epoch 5/20\n",
            "40/40 [==============================] - 1s 13ms/step - loss: 5.0298e-04 - accuracy: 0.0000e+00 - mean_squared_error: 5.0298e-04 - val_loss: 4.9697e-04 - val_accuracy: 0.0000e+00 - val_mean_squared_error: 4.9697e-04\n",
            "Epoch 6/20\n",
            "40/40 [==============================] - 1s 13ms/step - loss: 4.9045e-04 - accuracy: 0.0000e+00 - mean_squared_error: 4.9045e-04 - val_loss: 4.9073e-04 - val_accuracy: 0.0000e+00 - val_mean_squared_error: 4.9073e-04\n",
            "Epoch 7/20\n",
            "40/40 [==============================] - 1s 13ms/step - loss: 4.7922e-04 - accuracy: 0.0000e+00 - mean_squared_error: 4.7922e-04 - val_loss: 4.8611e-04 - val_accuracy: 0.0000e+00 - val_mean_squared_error: 4.8611e-04\n",
            "Epoch 8/20\n",
            "40/40 [==============================] - 1s 13ms/step - loss: 4.7133e-04 - accuracy: 0.0000e+00 - mean_squared_error: 4.7133e-04 - val_loss: 4.7724e-04 - val_accuracy: 0.0000e+00 - val_mean_squared_error: 4.7724e-04\n",
            "Epoch 9/20\n",
            "40/40 [==============================] - 1s 14ms/step - loss: 4.6581e-04 - accuracy: 0.0000e+00 - mean_squared_error: 4.6581e-04 - val_loss: 4.7043e-04 - val_accuracy: 0.0000e+00 - val_mean_squared_error: 4.7043e-04\n",
            "Epoch 10/20\n",
            "40/40 [==============================] - 1s 14ms/step - loss: 4.5951e-04 - accuracy: 0.0000e+00 - mean_squared_error: 4.5951e-04 - val_loss: 4.6496e-04 - val_accuracy: 0.0000e+00 - val_mean_squared_error: 4.6496e-04\n",
            "Epoch 11/20\n",
            "40/40 [==============================] - 1s 13ms/step - loss: 4.5255e-04 - accuracy: 0.0000e+00 - mean_squared_error: 4.5255e-04 - val_loss: 4.6024e-04 - val_accuracy: 0.0000e+00 - val_mean_squared_error: 4.6024e-04\n",
            "Epoch 12/20\n",
            "40/40 [==============================] - 1s 13ms/step - loss: 4.4659e-04 - accuracy: 0.0000e+00 - mean_squared_error: 4.4659e-04 - val_loss: 4.5537e-04 - val_accuracy: 0.0000e+00 - val_mean_squared_error: 4.5537e-04\n",
            "Epoch 13/20\n",
            "40/40 [==============================] - 1s 13ms/step - loss: 4.4096e-04 - accuracy: 0.0000e+00 - mean_squared_error: 4.4096e-04 - val_loss: 4.4993e-04 - val_accuracy: 0.0000e+00 - val_mean_squared_error: 4.4993e-04\n",
            "Epoch 14/20\n",
            "40/40 [==============================] - 1s 14ms/step - loss: 4.3561e-04 - accuracy: 0.0000e+00 - mean_squared_error: 4.3561e-04 - val_loss: 4.4447e-04 - val_accuracy: 0.0000e+00 - val_mean_squared_error: 4.4447e-04\n",
            "Epoch 15/20\n",
            "40/40 [==============================] - 1s 13ms/step - loss: 4.3052e-04 - accuracy: 0.0000e+00 - mean_squared_error: 4.3052e-04 - val_loss: 4.3984e-04 - val_accuracy: 0.0000e+00 - val_mean_squared_error: 4.3984e-04\n",
            "Epoch 16/20\n",
            "40/40 [==============================] - 1s 13ms/step - loss: 4.2574e-04 - accuracy: 0.0000e+00 - mean_squared_error: 4.2574e-04 - val_loss: 4.3530e-04 - val_accuracy: 0.0000e+00 - val_mean_squared_error: 4.3530e-04\n",
            "Epoch 17/20\n",
            "40/40 [==============================] - 1s 13ms/step - loss: 4.2127e-04 - accuracy: 0.0000e+00 - mean_squared_error: 4.2127e-04 - val_loss: 4.2998e-04 - val_accuracy: 0.0000e+00 - val_mean_squared_error: 4.2998e-04\n",
            "Epoch 18/20\n",
            "40/40 [==============================] - 1s 13ms/step - loss: 4.1694e-04 - accuracy: 0.0000e+00 - mean_squared_error: 4.1694e-04 - val_loss: 4.2518e-04 - val_accuracy: 0.0000e+00 - val_mean_squared_error: 4.2518e-04\n",
            "Epoch 19/20\n",
            "40/40 [==============================] - 1s 13ms/step - loss: 4.1273e-04 - accuracy: 0.0000e+00 - mean_squared_error: 4.1273e-04 - val_loss: 4.2227e-04 - val_accuracy: 0.0000e+00 - val_mean_squared_error: 4.2227e-04\n",
            "Epoch 20/20\n",
            "40/40 [==============================] - 1s 13ms/step - loss: 4.0871e-04 - accuracy: 0.0000e+00 - mean_squared_error: 4.0871e-04 - val_loss: 4.2265e-04 - val_accuracy: 0.0000e+00 - val_mean_squared_error: 4.2265e-04\n",
            "32/32 [==============================] - 0s 1ms/step\n",
            "0.1484968262254465 0.021241248 2.0201697\n",
            "0.16297508346206444\n",
            "Epoch 1/20\n"
          ]
        },
        {
          "name": "stderr",
          "output_type": "stream",
          "text": [
            "2023-12-06 22:39:12.092504: I tensorflow/core/common_runtime/gpu/gpu_device.cc:1886] Created device /device:GPU:0 with 20609 MB memory:  -> device: 0, name: NVIDIA L4, pci bus id: 0000:00:03.0, compute capability: 8.9\n"
          ]
        },
        {
          "name": "stdout",
          "output_type": "stream",
          "text": [
            "     31/Unknown - 1s 5ms/step - loss: 0.0085 - accuracy: 0.0000e+00 - mean_squared_error: 0.0085"
          ]
        },
        {
          "name": "stderr",
          "output_type": "stream",
          "text": [
            "2023-12-06 22:39:13.418368: I tensorflow/core/framework/local_rendezvous.cc:421] Local rendezvous recv item cancelled. Key hash: 12749084622472637211\n",
            "2023-12-06 22:39:13.418427: I tensorflow/core/framework/local_rendezvous.cc:421] Local rendezvous recv item cancelled. Key hash: 10316076964217112533\n"
          ]
        },
        {
          "name": "stdout",
          "output_type": "stream",
          "text": [
            "40/40 [==============================] - 2s 16ms/step - loss: 0.0070 - accuracy: 0.0000e+00 - mean_squared_error: 0.0070 - val_loss: 0.0011 - val_accuracy: 0.0000e+00 - val_mean_squared_error: 0.0011\n",
            "Epoch 2/20\n",
            "30/40 [=====================>........] - ETA: 0s - loss: 8.3969e-04 - accuracy: 0.0000e+00 - mean_squared_error: 8.3969e-04"
          ]
        },
        {
          "name": "stderr",
          "output_type": "stream",
          "text": [
            "2023-12-06 22:39:13.836923: I tensorflow/core/framework/local_rendezvous.cc:421] Local rendezvous recv item cancelled. Key hash: 12749084622472637211\n",
            "2023-12-06 22:39:13.836981: I tensorflow/core/framework/local_rendezvous.cc:421] Local rendezvous recv item cancelled. Key hash: 10316076964217112533\n"
          ]
        },
        {
          "name": "stdout",
          "output_type": "stream",
          "text": [
            "40/40 [==============================] - 1s 13ms/step - loss: 8.0277e-04 - accuracy: 0.0000e+00 - mean_squared_error: 8.0277e-04 - val_loss: 6.7322e-04 - val_accuracy: 0.0000e+00 - val_mean_squared_error: 6.7322e-04\n",
            "Epoch 3/20\n",
            "40/40 [==============================] - 1s 13ms/step - loss: 6.2343e-04 - accuracy: 0.0000e+00 - mean_squared_error: 6.2343e-04 - val_loss: 5.9754e-04 - val_accuracy: 0.0000e+00 - val_mean_squared_error: 5.9754e-04\n",
            "Epoch 4/20\n",
            "40/40 [==============================] - 1s 13ms/step - loss: 5.7748e-04 - accuracy: 0.0000e+00 - mean_squared_error: 5.7748e-04 - val_loss: 5.6886e-04 - val_accuracy: 0.0000e+00 - val_mean_squared_error: 5.6886e-04\n",
            "Epoch 5/20\n",
            "40/40 [==============================] - 1s 13ms/step - loss: 5.5402e-04 - accuracy: 0.0000e+00 - mean_squared_error: 5.5402e-04 - val_loss: 5.4753e-04 - val_accuracy: 0.0000e+00 - val_mean_squared_error: 5.4753e-04\n",
            "Epoch 6/20\n",
            "40/40 [==============================] - 1s 13ms/step - loss: 5.4122e-04 - accuracy: 0.0000e+00 - mean_squared_error: 5.4122e-04 - val_loss: 5.3927e-04 - val_accuracy: 0.0000e+00 - val_mean_squared_error: 5.3927e-04\n",
            "Epoch 7/20\n",
            "40/40 [==============================] - 1s 13ms/step - loss: 5.3284e-04 - accuracy: 0.0000e+00 - mean_squared_error: 5.3284e-04 - val_loss: 5.3287e-04 - val_accuracy: 0.0000e+00 - val_mean_squared_error: 5.3287e-04\n",
            "Epoch 8/20\n",
            "40/40 [==============================] - 1s 13ms/step - loss: 5.2623e-04 - accuracy: 0.0000e+00 - mean_squared_error: 5.2623e-04 - val_loss: 5.2843e-04 - val_accuracy: 0.0000e+00 - val_mean_squared_error: 5.2843e-04\n",
            "Epoch 9/20\n",
            "40/40 [==============================] - 1s 13ms/step - loss: 5.2069e-04 - accuracy: 0.0000e+00 - mean_squared_error: 5.2069e-04 - val_loss: 5.2757e-04 - val_accuracy: 0.0000e+00 - val_mean_squared_error: 5.2757e-04\n",
            "Epoch 10/20\n",
            "40/40 [==============================] - 1s 13ms/step - loss: 5.1575e-04 - accuracy: 0.0000e+00 - mean_squared_error: 5.1575e-04 - val_loss: 5.2063e-04 - val_accuracy: 0.0000e+00 - val_mean_squared_error: 5.2063e-04\n",
            "Epoch 11/20\n",
            "40/40 [==============================] - 1s 13ms/step - loss: 5.1011e-04 - accuracy: 0.0000e+00 - mean_squared_error: 5.1011e-04 - val_loss: 5.0771e-04 - val_accuracy: 0.0000e+00 - val_mean_squared_error: 5.0771e-04\n",
            "Epoch 12/20\n",
            "40/40 [==============================] - 0s 13ms/step - loss: 5.0486e-04 - accuracy: 0.0000e+00 - mean_squared_error: 5.0486e-04 - val_loss: 5.0079e-04 - val_accuracy: 0.0000e+00 - val_mean_squared_error: 5.0079e-04\n",
            "Epoch 13/20\n",
            "40/40 [==============================] - 1s 13ms/step - loss: 5.0123e-04 - accuracy: 0.0000e+00 - mean_squared_error: 5.0123e-04 - val_loss: 4.9419e-04 - val_accuracy: 0.0000e+00 - val_mean_squared_error: 4.9419e-04\n",
            "Epoch 14/20\n",
            "40/40 [==============================] - 1s 13ms/step - loss: 4.9823e-04 - accuracy: 0.0000e+00 - mean_squared_error: 4.9823e-04 - val_loss: 4.8946e-04 - val_accuracy: 0.0000e+00 - val_mean_squared_error: 4.8946e-04\n",
            "Epoch 15/20\n",
            "40/40 [==============================] - 1s 13ms/step - loss: 4.9441e-04 - accuracy: 0.0000e+00 - mean_squared_error: 4.9441e-04 - val_loss: 4.8551e-04 - val_accuracy: 0.0000e+00 - val_mean_squared_error: 4.8551e-04\n",
            "Epoch 16/20\n",
            "40/40 [==============================] - 1s 13ms/step - loss: 4.9089e-04 - accuracy: 0.0000e+00 - mean_squared_error: 4.9089e-04 - val_loss: 4.8397e-04 - val_accuracy: 0.0000e+00 - val_mean_squared_error: 4.8397e-04\n",
            "Epoch 17/20\n",
            "40/40 [==============================] - 1s 13ms/step - loss: 4.8955e-04 - accuracy: 0.0000e+00 - mean_squared_error: 4.8955e-04 - val_loss: 4.8748e-04 - val_accuracy: 0.0000e+00 - val_mean_squared_error: 4.8748e-04\n",
            "Epoch 18/20\n",
            "40/40 [==============================] - 1s 13ms/step - loss: 4.8907e-04 - accuracy: 0.0000e+00 - mean_squared_error: 4.8907e-04 - val_loss: 4.9855e-04 - val_accuracy: 0.0000e+00 - val_mean_squared_error: 4.9855e-04\n",
            "Epoch 19/20\n",
            "40/40 [==============================] - 1s 14ms/step - loss: 4.8831e-04 - accuracy: 0.0000e+00 - mean_squared_error: 4.8831e-04 - val_loss: 5.0060e-04 - val_accuracy: 0.0000e+00 - val_mean_squared_error: 5.0060e-04\n",
            "Epoch 20/20\n",
            "40/40 [==============================] - 1s 14ms/step - loss: 4.8538e-04 - accuracy: 0.0000e+00 - mean_squared_error: 4.8538e-04 - val_loss: 4.8775e-04 - val_accuracy: 0.0000e+00 - val_mean_squared_error: 4.8775e-04\n",
            "32/32 [==============================] - 0s 1ms/step\n",
            "0.16297508346206444 0.021799624 2.0892074\n",
            "0.1788649529057435\n",
            "Epoch 1/20\n"
          ]
        },
        {
          "name": "stderr",
          "output_type": "stream",
          "text": [
            "2023-12-06 22:39:24.309141: I tensorflow/core/common_runtime/gpu/gpu_device.cc:1886] Created device /device:GPU:0 with 20609 MB memory:  -> device: 0, name: NVIDIA L4, pci bus id: 0000:00:03.0, compute capability: 8.9\n"
          ]
        },
        {
          "name": "stdout",
          "output_type": "stream",
          "text": [
            "     33/Unknown - 1s 5ms/step - loss: 0.0080 - accuracy: 0.0000e+00 - mean_squared_error: 0.0080"
          ]
        },
        {
          "name": "stderr",
          "output_type": "stream",
          "text": [
            "2023-12-06 22:39:25.598586: I tensorflow/core/framework/local_rendezvous.cc:421] Local rendezvous recv item cancelled. Key hash: 12749084622472637211\n"
          ]
        },
        {
          "name": "stdout",
          "output_type": "stream",
          "text": [
            "40/40 [==============================] - 2s 16ms/step - loss: 0.0069 - accuracy: 0.0000e+00 - mean_squared_error: 0.0069 - val_loss: 0.0011 - val_accuracy: 0.0000e+00 - val_mean_squared_error: 0.0011\n",
            "Epoch 2/20\n",
            "31/40 [======================>.......] - ETA: 0s - loss: 8.7672e-04 - accuracy: 0.0000e+00 - mean_squared_error: 8.7672e-04"
          ]
        },
        {
          "name": "stderr",
          "output_type": "stream",
          "text": [
            "2023-12-06 22:39:26.022890: I tensorflow/core/framework/local_rendezvous.cc:421] Local rendezvous recv item cancelled. Key hash: 12749084622472637211\n",
            "2023-12-06 22:39:26.022943: I tensorflow/core/framework/local_rendezvous.cc:421] Local rendezvous recv item cancelled. Key hash: 10316076964217112533\n"
          ]
        },
        {
          "name": "stdout",
          "output_type": "stream",
          "text": [
            "40/40 [==============================] - 1s 13ms/step - loss: 8.5288e-04 - accuracy: 0.0000e+00 - mean_squared_error: 8.5288e-04 - val_loss: 7.4612e-04 - val_accuracy: 0.0000e+00 - val_mean_squared_error: 7.4612e-04\n",
            "Epoch 3/20\n",
            "40/40 [==============================] - 1s 13ms/step - loss: 7.0912e-04 - accuracy: 0.0000e+00 - mean_squared_error: 7.0912e-04 - val_loss: 6.8945e-04 - val_accuracy: 0.0000e+00 - val_mean_squared_error: 6.8945e-04\n",
            "Epoch 4/20\n",
            "40/40 [==============================] - 1s 13ms/step - loss: 6.6872e-04 - accuracy: 0.0000e+00 - mean_squared_error: 6.6872e-04 - val_loss: 6.6429e-04 - val_accuracy: 0.0000e+00 - val_mean_squared_error: 6.6429e-04\n",
            "Epoch 5/20\n",
            "40/40 [==============================] - 1s 14ms/step - loss: 6.5001e-04 - accuracy: 0.0000e+00 - mean_squared_error: 6.5001e-04 - val_loss: 6.5428e-04 - val_accuracy: 0.0000e+00 - val_mean_squared_error: 6.5428e-04\n",
            "Epoch 6/20\n",
            "40/40 [==============================] - 1s 13ms/step - loss: 6.3939e-04 - accuracy: 0.0000e+00 - mean_squared_error: 6.3939e-04 - val_loss: 6.4686e-04 - val_accuracy: 0.0000e+00 - val_mean_squared_error: 6.4686e-04\n",
            "Epoch 7/20\n",
            "40/40 [==============================] - 1s 13ms/step - loss: 6.3107e-04 - accuracy: 0.0000e+00 - mean_squared_error: 6.3107e-04 - val_loss: 6.3349e-04 - val_accuracy: 0.0000e+00 - val_mean_squared_error: 6.3349e-04\n",
            "Epoch 8/20\n",
            "40/40 [==============================] - 1s 13ms/step - loss: 6.2263e-04 - accuracy: 0.0000e+00 - mean_squared_error: 6.2263e-04 - val_loss: 6.2615e-04 - val_accuracy: 0.0000e+00 - val_mean_squared_error: 6.2615e-04\n",
            "Epoch 9/20\n",
            "40/40 [==============================] - 1s 13ms/step - loss: 6.1665e-04 - accuracy: 0.0000e+00 - mean_squared_error: 6.1665e-04 - val_loss: 6.2329e-04 - val_accuracy: 0.0000e+00 - val_mean_squared_error: 6.2329e-04\n",
            "Epoch 10/20\n",
            "40/40 [==============================] - 1s 13ms/step - loss: 6.1308e-04 - accuracy: 0.0000e+00 - mean_squared_error: 6.1308e-04 - val_loss: 6.1947e-04 - val_accuracy: 0.0000e+00 - val_mean_squared_error: 6.1947e-04\n",
            "Epoch 11/20\n",
            "40/40 [==============================] - 1s 13ms/step - loss: 6.0986e-04 - accuracy: 0.0000e+00 - mean_squared_error: 6.0986e-04 - val_loss: 6.1027e-04 - val_accuracy: 0.0000e+00 - val_mean_squared_error: 6.1027e-04\n",
            "Epoch 12/20\n",
            "40/40 [==============================] - 1s 13ms/step - loss: 6.0572e-04 - accuracy: 0.0000e+00 - mean_squared_error: 6.0572e-04 - val_loss: 6.0555e-04 - val_accuracy: 0.0000e+00 - val_mean_squared_error: 6.0555e-04\n",
            "Epoch 13/20\n",
            "40/40 [==============================] - 1s 13ms/step - loss: 6.0528e-04 - accuracy: 0.0000e+00 - mean_squared_error: 6.0528e-04 - val_loss: 6.0693e-04 - val_accuracy: 0.0000e+00 - val_mean_squared_error: 6.0693e-04\n",
            "Epoch 14/20\n",
            "40/40 [==============================] - 1s 14ms/step - loss: 6.0726e-04 - accuracy: 0.0000e+00 - mean_squared_error: 6.0726e-04 - val_loss: 6.2591e-04 - val_accuracy: 0.0000e+00 - val_mean_squared_error: 6.2591e-04\n",
            "Epoch 15/20\n",
            "40/40 [==============================] - 1s 13ms/step - loss: 6.0793e-04 - accuracy: 0.0000e+00 - mean_squared_error: 6.0793e-04 - val_loss: 6.5109e-04 - val_accuracy: 0.0000e+00 - val_mean_squared_error: 6.5109e-04\n",
            "Epoch 16/20\n",
            "40/40 [==============================] - 1s 13ms/step - loss: 6.0155e-04 - accuracy: 0.0000e+00 - mean_squared_error: 6.0155e-04 - val_loss: 6.3435e-04 - val_accuracy: 0.0000e+00 - val_mean_squared_error: 6.3435e-04\n",
            "Epoch 17/20\n",
            "40/40 [==============================] - 1s 13ms/step - loss: 5.9316e-04 - accuracy: 0.0000e+00 - mean_squared_error: 5.9316e-04 - val_loss: 6.1775e-04 - val_accuracy: 0.0000e+00 - val_mean_squared_error: 6.1775e-04\n",
            "Epoch 18/20\n",
            "40/40 [==============================] - 1s 13ms/step - loss: 5.9007e-04 - accuracy: 0.0000e+00 - mean_squared_error: 5.9007e-04 - val_loss: 6.1187e-04 - val_accuracy: 0.0000e+00 - val_mean_squared_error: 6.1187e-04\n",
            "Epoch 19/20\n",
            "40/40 [==============================] - 1s 13ms/step - loss: 5.8856e-04 - accuracy: 0.0000e+00 - mean_squared_error: 5.8856e-04 - val_loss: 6.1809e-04 - val_accuracy: 0.0000e+00 - val_mean_squared_error: 6.1809e-04\n",
            "Epoch 20/20\n",
            "40/40 [==============================] - 1s 13ms/step - loss: 5.8713e-04 - accuracy: 0.0000e+00 - mean_squared_error: 5.8713e-04 - val_loss: 6.4273e-04 - val_accuracy: 0.0000e+00 - val_mean_squared_error: 6.4273e-04\n",
            "32/32 [==============================] - 0s 1ms/step\n",
            "0.1788649529057435 0.024341602 2.1212006\n",
            "0.19630406500402714\n",
            "Epoch 1/20\n"
          ]
        },
        {
          "name": "stderr",
          "output_type": "stream",
          "text": [
            "2023-12-06 22:39:36.463460: I tensorflow/core/common_runtime/gpu/gpu_device.cc:1886] Created device /device:GPU:0 with 20609 MB memory:  -> device: 0, name: NVIDIA L4, pci bus id: 0000:00:03.0, compute capability: 8.9\n"
          ]
        },
        {
          "name": "stdout",
          "output_type": "stream",
          "text": [
            "40/40 [==============================] - 2s 17ms/step - loss: 0.0065 - accuracy: 0.0000e+00 - mean_squared_error: 0.0065 - val_loss: 0.0012 - val_accuracy: 0.0000e+00 - val_mean_squared_error: 0.0012\n",
            "Epoch 2/20\n",
            "31/40 [======================>.......] - ETA: 0s - loss: 9.8973e-04 - accuracy: 0.0000e+00 - mean_squared_error: 9.8973e-04"
          ]
        },
        {
          "name": "stderr",
          "output_type": "stream",
          "text": [
            "2023-12-06 22:39:38.218830: I tensorflow/core/framework/local_rendezvous.cc:421] Local rendezvous recv item cancelled. Key hash: 12749084622472637211\n",
            "2023-12-06 22:39:38.218889: I tensorflow/core/framework/local_rendezvous.cc:421] Local rendezvous recv item cancelled. Key hash: 10316076964217112533\n"
          ]
        },
        {
          "name": "stdout",
          "output_type": "stream",
          "text": [
            "40/40 [==============================] - 1s 13ms/step - loss: 9.5288e-04 - accuracy: 0.0000e+00 - mean_squared_error: 9.5288e-04 - val_loss: 7.5644e-04 - val_accuracy: 0.0000e+00 - val_mean_squared_error: 7.5644e-04\n",
            "Epoch 3/20\n",
            "40/40 [==============================] - 1s 13ms/step - loss: 6.8724e-04 - accuracy: 0.0000e+00 - mean_squared_error: 6.8724e-04 - val_loss: 6.3785e-04 - val_accuracy: 0.0000e+00 - val_mean_squared_error: 6.3785e-04\n",
            "Epoch 4/20\n",
            "40/40 [==============================] - 1s 13ms/step - loss: 6.3099e-04 - accuracy: 0.0000e+00 - mean_squared_error: 6.3099e-04 - val_loss: 5.9819e-04 - val_accuracy: 0.0000e+00 - val_mean_squared_error: 5.9819e-04\n",
            "Epoch 5/20\n",
            "40/40 [==============================] - 1s 13ms/step - loss: 6.0071e-04 - accuracy: 0.0000e+00 - mean_squared_error: 6.0071e-04 - val_loss: 5.7367e-04 - val_accuracy: 0.0000e+00 - val_mean_squared_error: 5.7367e-04\n",
            "Epoch 6/20\n",
            "40/40 [==============================] - 1s 13ms/step - loss: 5.8173e-04 - accuracy: 0.0000e+00 - mean_squared_error: 5.8173e-04 - val_loss: 5.6083e-04 - val_accuracy: 0.0000e+00 - val_mean_squared_error: 5.6083e-04\n",
            "Epoch 7/20\n",
            "40/40 [==============================] - 1s 14ms/step - loss: 5.6606e-04 - accuracy: 0.0000e+00 - mean_squared_error: 5.6606e-04 - val_loss: 5.4630e-04 - val_accuracy: 0.0000e+00 - val_mean_squared_error: 5.4630e-04\n",
            "Epoch 8/20\n",
            "40/40 [==============================] - 1s 13ms/step - loss: 5.5217e-04 - accuracy: 0.0000e+00 - mean_squared_error: 5.5217e-04 - val_loss: 5.3341e-04 - val_accuracy: 0.0000e+00 - val_mean_squared_error: 5.3341e-04\n",
            "Epoch 9/20\n",
            "40/40 [==============================] - 1s 13ms/step - loss: 5.4091e-04 - accuracy: 0.0000e+00 - mean_squared_error: 5.4091e-04 - val_loss: 5.2276e-04 - val_accuracy: 0.0000e+00 - val_mean_squared_error: 5.2276e-04\n",
            "Epoch 10/20\n",
            "40/40 [==============================] - 1s 13ms/step - loss: 5.3068e-04 - accuracy: 0.0000e+00 - mean_squared_error: 5.3068e-04 - val_loss: 5.1081e-04 - val_accuracy: 0.0000e+00 - val_mean_squared_error: 5.1081e-04\n",
            "Epoch 11/20\n",
            "40/40 [==============================] - 1s 14ms/step - loss: 5.2057e-04 - accuracy: 0.0000e+00 - mean_squared_error: 5.2057e-04 - val_loss: 5.0018e-04 - val_accuracy: 0.0000e+00 - val_mean_squared_error: 5.0018e-04\n",
            "Epoch 12/20\n",
            "40/40 [==============================] - 1s 13ms/step - loss: 5.1082e-04 - accuracy: 0.0000e+00 - mean_squared_error: 5.1082e-04 - val_loss: 4.9105e-04 - val_accuracy: 0.0000e+00 - val_mean_squared_error: 4.9105e-04\n",
            "Epoch 13/20\n",
            "40/40 [==============================] - 1s 13ms/step - loss: 5.0154e-04 - accuracy: 0.0000e+00 - mean_squared_error: 5.0154e-04 - val_loss: 4.8285e-04 - val_accuracy: 0.0000e+00 - val_mean_squared_error: 4.8285e-04\n",
            "Epoch 14/20\n",
            "40/40 [==============================] - 1s 13ms/step - loss: 4.9246e-04 - accuracy: 0.0000e+00 - mean_squared_error: 4.9246e-04 - val_loss: 4.7469e-04 - val_accuracy: 0.0000e+00 - val_mean_squared_error: 4.7469e-04\n",
            "Epoch 15/20\n",
            "40/40 [==============================] - 1s 14ms/step - loss: 4.8379e-04 - accuracy: 0.0000e+00 - mean_squared_error: 4.8379e-04 - val_loss: 4.6652e-04 - val_accuracy: 0.0000e+00 - val_mean_squared_error: 4.6652e-04\n",
            "Epoch 16/20\n",
            "40/40 [==============================] - 1s 13ms/step - loss: 4.7544e-04 - accuracy: 0.0000e+00 - mean_squared_error: 4.7544e-04 - val_loss: 4.6127e-04 - val_accuracy: 0.0000e+00 - val_mean_squared_error: 4.6127e-04\n",
            "Epoch 17/20\n",
            "40/40 [==============================] - 1s 13ms/step - loss: 4.6810e-04 - accuracy: 0.0000e+00 - mean_squared_error: 4.6810e-04 - val_loss: 4.5301e-04 - val_accuracy: 0.0000e+00 - val_mean_squared_error: 4.5301e-04\n",
            "Epoch 18/20\n",
            "40/40 [==============================] - 1s 13ms/step - loss: 4.5882e-04 - accuracy: 0.0000e+00 - mean_squared_error: 4.5882e-04 - val_loss: 4.3728e-04 - val_accuracy: 0.0000e+00 - val_mean_squared_error: 4.3728e-04\n",
            "Epoch 19/20\n",
            "40/40 [==============================] - 1s 13ms/step - loss: 4.4668e-04 - accuracy: 0.0000e+00 - mean_squared_error: 4.4668e-04 - val_loss: 4.2067e-04 - val_accuracy: 0.0000e+00 - val_mean_squared_error: 4.2067e-04\n",
            "Epoch 20/20\n",
            "40/40 [==============================] - 1s 13ms/step - loss: 4.3278e-04 - accuracy: 0.0000e+00 - mean_squared_error: 4.3278e-04 - val_loss: 4.1132e-04 - val_accuracy: 0.0000e+00 - val_mean_squared_error: 4.1132e-04\n",
            "32/32 [==============================] - 0s 1ms/step\n",
            "0.19630406500402714 0.019310644 2.0242345\n",
            "0.21544346900318845\n",
            "Epoch 1/20\n"
          ]
        },
        {
          "name": "stderr",
          "output_type": "stream",
          "text": [
            "2023-12-06 22:39:48.719016: I tensorflow/core/common_runtime/gpu/gpu_device.cc:1886] Created device /device:GPU:0 with 20609 MB memory:  -> device: 0, name: NVIDIA L4, pci bus id: 0000:00:03.0, compute capability: 8.9\n"
          ]
        },
        {
          "name": "stdout",
          "output_type": "stream",
          "text": [
            "40/40 [==============================] - 2s 16ms/step - loss: 0.0063 - accuracy: 0.0000e+00 - mean_squared_error: 0.0063 - val_loss: 7.4227e-04 - val_accuracy: 0.0000e+00 - val_mean_squared_error: 7.4227e-04\n",
            "Epoch 2/20\n",
            "40/40 [==============================] - 1s 13ms/step - loss: 6.4130e-04 - accuracy: 0.0000e+00 - mean_squared_error: 6.4130e-04 - val_loss: 5.8544e-04 - val_accuracy: 0.0000e+00 - val_mean_squared_error: 5.8544e-04\n",
            "Epoch 3/20\n",
            "40/40 [==============================] - 1s 13ms/step - loss: 5.4566e-04 - accuracy: 0.0000e+00 - mean_squared_error: 5.4566e-04 - val_loss: 5.4710e-04 - val_accuracy: 0.0000e+00 - val_mean_squared_error: 5.4710e-04\n",
            "Epoch 4/20\n",
            "40/40 [==============================] - 1s 13ms/step - loss: 5.2238e-04 - accuracy: 0.0000e+00 - mean_squared_error: 5.2238e-04 - val_loss: 5.2681e-04 - val_accuracy: 0.0000e+00 - val_mean_squared_error: 5.2681e-04\n",
            "Epoch 5/20\n",
            "40/40 [==============================] - 1s 13ms/step - loss: 5.1023e-04 - accuracy: 0.0000e+00 - mean_squared_error: 5.1023e-04 - val_loss: 5.1468e-04 - val_accuracy: 0.0000e+00 - val_mean_squared_error: 5.1468e-04\n",
            "Epoch 6/20\n",
            "40/40 [==============================] - 0s 13ms/step - loss: 5.0495e-04 - accuracy: 0.0000e+00 - mean_squared_error: 5.0495e-04 - val_loss: 5.1376e-04 - val_accuracy: 0.0000e+00 - val_mean_squared_error: 5.1376e-04\n",
            "Epoch 7/20\n",
            "40/40 [==============================] - 1s 13ms/step - loss: 5.0350e-04 - accuracy: 0.0000e+00 - mean_squared_error: 5.0350e-04 - val_loss: 5.0913e-04 - val_accuracy: 0.0000e+00 - val_mean_squared_error: 5.0913e-04\n",
            "Epoch 8/20\n",
            "40/40 [==============================] - 1s 14ms/step - loss: 4.9519e-04 - accuracy: 0.0000e+00 - mean_squared_error: 4.9519e-04 - val_loss: 4.9446e-04 - val_accuracy: 0.0000e+00 - val_mean_squared_error: 4.9446e-04\n",
            "Epoch 9/20\n",
            "40/40 [==============================] - 1s 14ms/step - loss: 4.8757e-04 - accuracy: 0.0000e+00 - mean_squared_error: 4.8757e-04 - val_loss: 4.8906e-04 - val_accuracy: 0.0000e+00 - val_mean_squared_error: 4.8906e-04\n",
            "Epoch 10/20\n",
            "40/40 [==============================] - 1s 13ms/step - loss: 4.8389e-04 - accuracy: 0.0000e+00 - mean_squared_error: 4.8389e-04 - val_loss: 4.8358e-04 - val_accuracy: 0.0000e+00 - val_mean_squared_error: 4.8358e-04\n",
            "Epoch 11/20\n",
            "40/40 [==============================] - 1s 13ms/step - loss: 4.7917e-04 - accuracy: 0.0000e+00 - mean_squared_error: 4.7917e-04 - val_loss: 4.8498e-04 - val_accuracy: 0.0000e+00 - val_mean_squared_error: 4.8498e-04\n",
            "Epoch 12/20\n",
            "40/40 [==============================] - 1s 13ms/step - loss: 4.7272e-04 - accuracy: 0.0000e+00 - mean_squared_error: 4.7272e-04 - val_loss: 4.8149e-04 - val_accuracy: 0.0000e+00 - val_mean_squared_error: 4.8149e-04\n",
            "Epoch 13/20\n",
            "40/40 [==============================] - 1s 13ms/step - loss: 4.6712e-04 - accuracy: 0.0000e+00 - mean_squared_error: 4.6712e-04 - val_loss: 4.7902e-04 - val_accuracy: 0.0000e+00 - val_mean_squared_error: 4.7902e-04\n",
            "Epoch 14/20\n",
            "40/40 [==============================] - 1s 13ms/step - loss: 4.6359e-04 - accuracy: 0.0000e+00 - mean_squared_error: 4.6359e-04 - val_loss: 4.8193e-04 - val_accuracy: 0.0000e+00 - val_mean_squared_error: 4.8193e-04\n",
            "Epoch 15/20\n",
            "40/40 [==============================] - 1s 14ms/step - loss: 4.5937e-04 - accuracy: 0.0000e+00 - mean_squared_error: 4.5937e-04 - val_loss: 4.7887e-04 - val_accuracy: 0.0000e+00 - val_mean_squared_error: 4.7887e-04\n",
            "Epoch 16/20\n",
            "40/40 [==============================] - 1s 13ms/step - loss: 4.5223e-04 - accuracy: 0.0000e+00 - mean_squared_error: 4.5223e-04 - val_loss: 4.5986e-04 - val_accuracy: 0.0000e+00 - val_mean_squared_error: 4.5986e-04\n",
            "Epoch 17/20\n",
            "40/40 [==============================] - 1s 13ms/step - loss: 4.4430e-04 - accuracy: 0.0000e+00 - mean_squared_error: 4.4430e-04 - val_loss: 4.4576e-04 - val_accuracy: 0.0000e+00 - val_mean_squared_error: 4.4576e-04\n",
            "Epoch 18/20\n",
            "40/40 [==============================] - 1s 13ms/step - loss: 4.3827e-04 - accuracy: 0.0000e+00 - mean_squared_error: 4.3827e-04 - val_loss: 4.3565e-04 - val_accuracy: 0.0000e+00 - val_mean_squared_error: 4.3565e-04\n",
            "Epoch 19/20\n",
            "40/40 [==============================] - 0s 12ms/step - loss: 4.3266e-04 - accuracy: 0.0000e+00 - mean_squared_error: 4.3266e-04 - val_loss: 4.2824e-04 - val_accuracy: 0.0000e+00 - val_mean_squared_error: 4.2824e-04\n",
            "Epoch 20/20\n",
            "40/40 [==============================] - 1s 13ms/step - loss: 4.2734e-04 - accuracy: 0.0000e+00 - mean_squared_error: 4.2734e-04 - val_loss: 4.2170e-04 - val_accuracy: 0.0000e+00 - val_mean_squared_error: 4.2170e-04\n",
            "32/32 [==============================] - 0s 1ms/step\n",
            "0.21544346900318845 0.020888627 2.0772045\n",
            "0.23644894126454083\n",
            "Epoch 1/20\n"
          ]
        },
        {
          "name": "stderr",
          "output_type": "stream",
          "text": [
            "2023-12-06 22:40:00.857886: I tensorflow/core/common_runtime/gpu/gpu_device.cc:1886] Created device /device:GPU:0 with 20609 MB memory:  -> device: 0, name: NVIDIA L4, pci bus id: 0000:00:03.0, compute capability: 8.9\n"
          ]
        },
        {
          "name": "stdout",
          "output_type": "stream",
          "text": [
            "     37/Unknown - 1s 6ms/step - loss: 0.0060 - accuracy: 0.0000e+00 - mean_squared_error: 0.0060"
          ]
        },
        {
          "name": "stderr",
          "output_type": "stream",
          "text": [
            "2023-12-06 22:40:02.206404: I tensorflow/core/framework/local_rendezvous.cc:421] Local rendezvous recv item cancelled. Key hash: 10316076964217112533\n"
          ]
        },
        {
          "name": "stdout",
          "output_type": "stream",
          "text": [
            "40/40 [==============================] - 2s 17ms/step - loss: 0.0058 - accuracy: 0.0000e+00 - mean_squared_error: 0.0058 - val_loss: 7.2689e-04 - val_accuracy: 0.0000e+00 - val_mean_squared_error: 7.2689e-04\n",
            "Epoch 2/20\n",
            "25/40 [=================>............] - ETA: 0s - loss: 7.0141e-04 - accuracy: 0.0000e+00 - mean_squared_error: 7.0141e-04"
          ]
        },
        {
          "name": "stderr",
          "output_type": "stream",
          "text": [
            "2023-12-06 22:40:02.629161: I tensorflow/core/framework/local_rendezvous.cc:421] Local rendezvous recv item cancelled. Key hash: 12749084622472637211\n",
            "2023-12-06 22:40:02.629223: I tensorflow/core/framework/local_rendezvous.cc:421] Local rendezvous recv item cancelled. Key hash: 10316076964217112533\n"
          ]
        },
        {
          "name": "stdout",
          "output_type": "stream",
          "text": [
            "40/40 [==============================] - 1s 14ms/step - loss: 6.2611e-04 - accuracy: 0.0000e+00 - mean_squared_error: 6.2611e-04 - val_loss: 4.8064e-04 - val_accuracy: 0.0000e+00 - val_mean_squared_error: 4.8064e-04\n",
            "Epoch 3/20\n",
            "40/40 [==============================] - 1s 13ms/step - loss: 4.3984e-04 - accuracy: 0.0000e+00 - mean_squared_error: 4.3984e-04 - val_loss: 4.3066e-04 - val_accuracy: 0.0000e+00 - val_mean_squared_error: 4.3066e-04\n",
            "Epoch 4/20\n",
            "40/40 [==============================] - 1s 13ms/step - loss: 4.1596e-04 - accuracy: 0.0000e+00 - mean_squared_error: 4.1596e-04 - val_loss: 4.0913e-04 - val_accuracy: 0.0000e+00 - val_mean_squared_error: 4.0913e-04\n",
            "Epoch 5/20\n",
            "40/40 [==============================] - 1s 13ms/step - loss: 4.0035e-04 - accuracy: 0.0000e+00 - mean_squared_error: 4.0035e-04 - val_loss: 3.9109e-04 - val_accuracy: 0.0000e+00 - val_mean_squared_error: 3.9109e-04\n",
            "Epoch 6/20\n",
            "40/40 [==============================] - 1s 13ms/step - loss: 3.9012e-04 - accuracy: 0.0000e+00 - mean_squared_error: 3.9012e-04 - val_loss: 3.8123e-04 - val_accuracy: 0.0000e+00 - val_mean_squared_error: 3.8123e-04\n",
            "Epoch 7/20\n",
            "40/40 [==============================] - 1s 13ms/step - loss: 3.8154e-04 - accuracy: 0.0000e+00 - mean_squared_error: 3.8154e-04 - val_loss: 3.7495e-04 - val_accuracy: 0.0000e+00 - val_mean_squared_error: 3.7495e-04\n",
            "Epoch 8/20\n",
            "40/40 [==============================] - 1s 13ms/step - loss: 3.7290e-04 - accuracy: 0.0000e+00 - mean_squared_error: 3.7290e-04 - val_loss: 3.6806e-04 - val_accuracy: 0.0000e+00 - val_mean_squared_error: 3.6806e-04\n",
            "Epoch 9/20\n",
            "40/40 [==============================] - 0s 13ms/step - loss: 3.6184e-04 - accuracy: 0.0000e+00 - mean_squared_error: 3.6184e-04 - val_loss: 3.6049e-04 - val_accuracy: 0.0000e+00 - val_mean_squared_error: 3.6049e-04\n",
            "Epoch 10/20\n",
            "40/40 [==============================] - 1s 13ms/step - loss: 3.4685e-04 - accuracy: 0.0000e+00 - mean_squared_error: 3.4685e-04 - val_loss: 3.4350e-04 - val_accuracy: 0.0000e+00 - val_mean_squared_error: 3.4350e-04\n",
            "Epoch 11/20\n",
            "40/40 [==============================] - 0s 12ms/step - loss: 3.2837e-04 - accuracy: 0.0000e+00 - mean_squared_error: 3.2837e-04 - val_loss: 3.2252e-04 - val_accuracy: 0.0000e+00 - val_mean_squared_error: 3.2252e-04\n",
            "Epoch 12/20\n",
            "40/40 [==============================] - 1s 13ms/step - loss: 3.0990e-04 - accuracy: 0.0000e+00 - mean_squared_error: 3.0990e-04 - val_loss: 3.0982e-04 - val_accuracy: 0.0000e+00 - val_mean_squared_error: 3.0982e-04\n",
            "Epoch 13/20\n",
            "40/40 [==============================] - 1s 13ms/step - loss: 2.9473e-04 - accuracy: 0.0000e+00 - mean_squared_error: 2.9473e-04 - val_loss: 3.0307e-04 - val_accuracy: 0.0000e+00 - val_mean_squared_error: 3.0307e-04\n",
            "Epoch 14/20\n",
            "40/40 [==============================] - 0s 13ms/step - loss: 2.8209e-04 - accuracy: 0.0000e+00 - mean_squared_error: 2.8209e-04 - val_loss: 2.8601e-04 - val_accuracy: 0.0000e+00 - val_mean_squared_error: 2.8601e-04\n",
            "Epoch 15/20\n",
            "40/40 [==============================] - 1s 14ms/step - loss: 2.6934e-04 - accuracy: 0.0000e+00 - mean_squared_error: 2.6934e-04 - val_loss: 2.6091e-04 - val_accuracy: 0.0000e+00 - val_mean_squared_error: 2.6091e-04\n",
            "Epoch 16/20\n",
            "40/40 [==============================] - 1s 13ms/step - loss: 2.5628e-04 - accuracy: 0.0000e+00 - mean_squared_error: 2.5628e-04 - val_loss: 2.4994e-04 - val_accuracy: 0.0000e+00 - val_mean_squared_error: 2.4994e-04\n",
            "Epoch 17/20\n",
            "40/40 [==============================] - 1s 13ms/step - loss: 2.4725e-04 - accuracy: 0.0000e+00 - mean_squared_error: 2.4725e-04 - val_loss: 2.4734e-04 - val_accuracy: 0.0000e+00 - val_mean_squared_error: 2.4734e-04\n",
            "Epoch 18/20\n",
            "40/40 [==============================] - 1s 13ms/step - loss: 2.4106e-04 - accuracy: 0.0000e+00 - mean_squared_error: 2.4106e-04 - val_loss: 2.5044e-04 - val_accuracy: 0.0000e+00 - val_mean_squared_error: 2.5044e-04\n",
            "Epoch 19/20\n",
            "40/40 [==============================] - 1s 13ms/step - loss: 2.3533e-04 - accuracy: 0.0000e+00 - mean_squared_error: 2.3533e-04 - val_loss: 2.4303e-04 - val_accuracy: 0.0000e+00 - val_mean_squared_error: 2.4303e-04\n",
            "Epoch 20/20\n",
            "40/40 [==============================] - 1s 13ms/step - loss: 2.2709e-04 - accuracy: 0.0000e+00 - mean_squared_error: 2.2709e-04 - val_loss: 2.2110e-04 - val_accuracy: 0.0000e+00 - val_mean_squared_error: 2.2110e-04\n",
            "32/32 [==============================] - 0s 1ms/step\n",
            "0.23644894126454083 0.014723854 2.114785\n",
            "0.25950242113997374\n",
            "Epoch 1/20\n"
          ]
        },
        {
          "name": "stderr",
          "output_type": "stream",
          "text": [
            "2023-12-06 22:40:13.104972: I tensorflow/core/common_runtime/gpu/gpu_device.cc:1886] Created device /device:GPU:0 with 20609 MB memory:  -> device: 0, name: NVIDIA L4, pci bus id: 0000:00:03.0, compute capability: 8.9\n"
          ]
        },
        {
          "name": "stdout",
          "output_type": "stream",
          "text": [
            "     39/Unknown - 1s 6ms/step - loss: 0.0056 - accuracy: 0.0000e+00 - mean_squared_error: 0.0056"
          ]
        },
        {
          "name": "stderr",
          "output_type": "stream",
          "text": [
            "2023-12-06 22:40:14.444611: I tensorflow/core/framework/local_rendezvous.cc:425] Local rendezvous send item cancelled. Key hash: 3632331790298042566\n",
            "2023-12-06 22:40:14.444670: I tensorflow/core/framework/local_rendezvous.cc:421] Local rendezvous recv item cancelled. Key hash: 12749084622472637211\n",
            "2023-12-06 22:40:14.444695: I tensorflow/core/framework/local_rendezvous.cc:421] Local rendezvous recv item cancelled. Key hash: 10316076964217112533\n"
          ]
        },
        {
          "name": "stdout",
          "output_type": "stream",
          "text": [
            "40/40 [==============================] - 2s 17ms/step - loss: 0.0056 - accuracy: 0.0000e+00 - mean_squared_error: 0.0056 - val_loss: 3.1413e-04 - val_accuracy: 0.0000e+00 - val_mean_squared_error: 3.1413e-04\n",
            "Epoch 2/20\n",
            "31/40 [======================>.......] - ETA: 0s - loss: 3.5352e-04 - accuracy: 0.0000e+00 - mean_squared_error: 3.5352e-04"
          ]
        },
        {
          "name": "stderr",
          "output_type": "stream",
          "text": [
            "2023-12-06 22:40:14.860934: I tensorflow/core/framework/local_rendezvous.cc:421] Local rendezvous recv item cancelled. Key hash: 12749084622472637211\n",
            "2023-12-06 22:40:14.860985: I tensorflow/core/framework/local_rendezvous.cc:421] Local rendezvous recv item cancelled. Key hash: 10316076964217112533\n"
          ]
        },
        {
          "name": "stdout",
          "output_type": "stream",
          "text": [
            "40/40 [==============================] - 1s 13ms/step - loss: 3.3503e-04 - accuracy: 0.0000e+00 - mean_squared_error: 3.3503e-04 - val_loss: 2.5988e-04 - val_accuracy: 0.0000e+00 - val_mean_squared_error: 2.5988e-04\n",
            "Epoch 3/20\n",
            "40/40 [==============================] - 1s 13ms/step - loss: 2.5408e-04 - accuracy: 0.0000e+00 - mean_squared_error: 2.5408e-04 - val_loss: 2.4393e-04 - val_accuracy: 0.0000e+00 - val_mean_squared_error: 2.4393e-04\n",
            "Epoch 4/20\n",
            "40/40 [==============================] - 1s 13ms/step - loss: 2.4049e-04 - accuracy: 0.0000e+00 - mean_squared_error: 2.4049e-04 - val_loss: 2.3531e-04 - val_accuracy: 0.0000e+00 - val_mean_squared_error: 2.3531e-04\n",
            "Epoch 5/20\n",
            "40/40 [==============================] - 1s 13ms/step - loss: 2.3565e-04 - accuracy: 0.0000e+00 - mean_squared_error: 2.3565e-04 - val_loss: 2.3044e-04 - val_accuracy: 0.0000e+00 - val_mean_squared_error: 2.3044e-04\n",
            "Epoch 6/20\n",
            "40/40 [==============================] - 1s 13ms/step - loss: 2.3179e-04 - accuracy: 0.0000e+00 - mean_squared_error: 2.3179e-04 - val_loss: 2.2692e-04 - val_accuracy: 0.0000e+00 - val_mean_squared_error: 2.2692e-04\n",
            "Epoch 7/20\n",
            "40/40 [==============================] - 1s 13ms/step - loss: 2.2958e-04 - accuracy: 0.0000e+00 - mean_squared_error: 2.2958e-04 - val_loss: 2.2747e-04 - val_accuracy: 0.0000e+00 - val_mean_squared_error: 2.2747e-04\n",
            "Epoch 8/20\n",
            "40/40 [==============================] - 1s 13ms/step - loss: 2.2719e-04 - accuracy: 0.0000e+00 - mean_squared_error: 2.2719e-04 - val_loss: 2.2698e-04 - val_accuracy: 0.0000e+00 - val_mean_squared_error: 2.2698e-04\n",
            "Epoch 9/20\n",
            "40/40 [==============================] - 1s 13ms/step - loss: 2.2392e-04 - accuracy: 0.0000e+00 - mean_squared_error: 2.2392e-04 - val_loss: 2.2312e-04 - val_accuracy: 0.0000e+00 - val_mean_squared_error: 2.2312e-04\n",
            "Epoch 10/20\n",
            "40/40 [==============================] - 1s 13ms/step - loss: 2.2163e-04 - accuracy: 0.0000e+00 - mean_squared_error: 2.2163e-04 - val_loss: 2.2424e-04 - val_accuracy: 0.0000e+00 - val_mean_squared_error: 2.2424e-04\n",
            "Epoch 11/20\n",
            "40/40 [==============================] - 1s 14ms/step - loss: 2.2015e-04 - accuracy: 0.0000e+00 - mean_squared_error: 2.2015e-04 - val_loss: 2.2776e-04 - val_accuracy: 0.0000e+00 - val_mean_squared_error: 2.2776e-04\n",
            "Epoch 12/20\n",
            "40/40 [==============================] - 0s 12ms/step - loss: 2.1882e-04 - accuracy: 0.0000e+00 - mean_squared_error: 2.1882e-04 - val_loss: 2.2397e-04 - val_accuracy: 0.0000e+00 - val_mean_squared_error: 2.2397e-04\n",
            "Epoch 13/20\n",
            "40/40 [==============================] - 1s 13ms/step - loss: 2.1703e-04 - accuracy: 0.0000e+00 - mean_squared_error: 2.1703e-04 - val_loss: 2.2326e-04 - val_accuracy: 0.0000e+00 - val_mean_squared_error: 2.2326e-04\n",
            "Epoch 14/20\n",
            "40/40 [==============================] - 1s 15ms/step - loss: 2.1688e-04 - accuracy: 0.0000e+00 - mean_squared_error: 2.1688e-04 - val_loss: 2.3310e-04 - val_accuracy: 0.0000e+00 - val_mean_squared_error: 2.3310e-04\n",
            "Epoch 15/20\n",
            "40/40 [==============================] - 1s 13ms/step - loss: 2.1798e-04 - accuracy: 0.0000e+00 - mean_squared_error: 2.1798e-04 - val_loss: 2.5055e-04 - val_accuracy: 0.0000e+00 - val_mean_squared_error: 2.5055e-04\n",
            "Epoch 16/20\n",
            "40/40 [==============================] - 0s 12ms/step - loss: 2.1708e-04 - accuracy: 0.0000e+00 - mean_squared_error: 2.1708e-04 - val_loss: 2.4685e-04 - val_accuracy: 0.0000e+00 - val_mean_squared_error: 2.4685e-04\n",
            "Epoch 17/20\n",
            "40/40 [==============================] - 1s 13ms/step - loss: 2.1111e-04 - accuracy: 0.0000e+00 - mean_squared_error: 2.1111e-04 - val_loss: 2.2398e-04 - val_accuracy: 0.0000e+00 - val_mean_squared_error: 2.2398e-04\n",
            "Epoch 18/20\n",
            "40/40 [==============================] - 1s 13ms/step - loss: 2.0459e-04 - accuracy: 0.0000e+00 - mean_squared_error: 2.0459e-04 - val_loss: 2.1654e-04 - val_accuracy: 0.0000e+00 - val_mean_squared_error: 2.1654e-04\n",
            "Epoch 19/20\n",
            "40/40 [==============================] - 1s 13ms/step - loss: 2.0140e-04 - accuracy: 0.0000e+00 - mean_squared_error: 2.0140e-04 - val_loss: 2.1619e-04 - val_accuracy: 0.0000e+00 - val_mean_squared_error: 2.1619e-04\n",
            "Epoch 20/20\n",
            "40/40 [==============================] - 1s 13ms/step - loss: 1.9900e-04 - accuracy: 0.0000e+00 - mean_squared_error: 1.9900e-04 - val_loss: 2.2057e-04 - val_accuracy: 0.0000e+00 - val_mean_squared_error: 2.2057e-04\n",
            "32/32 [==============================] - 0s 1ms/step\n",
            "0.25950242113997374 0.014764071 2.0173037\n",
            "0.2848035868435802\n",
            "Epoch 1/20\n"
          ]
        },
        {
          "name": "stderr",
          "output_type": "stream",
          "text": [
            "2023-12-06 22:40:25.330751: I tensorflow/core/common_runtime/gpu/gpu_device.cc:1886] Created device /device:GPU:0 with 20609 MB memory:  -> device: 0, name: NVIDIA L4, pci bus id: 0000:00:03.0, compute capability: 8.9\n"
          ]
        },
        {
          "name": "stdout",
          "output_type": "stream",
          "text": [
            "     40/Unknown - 1s 5ms/step - loss: 0.0054 - accuracy: 0.0000e+00 - mean_squared_error: 0.0054"
          ]
        },
        {
          "name": "stderr",
          "output_type": "stream",
          "text": [
            "2023-12-06 22:40:26.652128: I tensorflow/core/framework/local_rendezvous.cc:421] Local rendezvous recv item cancelled. Key hash: 10316076964217112533\n"
          ]
        },
        {
          "name": "stdout",
          "output_type": "stream",
          "text": [
            "40/40 [==============================] - 2s 17ms/step - loss: 0.0054 - accuracy: 0.0000e+00 - mean_squared_error: 0.0054 - val_loss: 4.2065e-04 - val_accuracy: 0.0000e+00 - val_mean_squared_error: 4.2065e-04\n",
            "Epoch 2/20\n",
            "31/40 [======================>.......] - ETA: 0s - loss: 3.6686e-04 - accuracy: 0.0000e+00 - mean_squared_error: 3.6686e-04"
          ]
        },
        {
          "name": "stderr",
          "output_type": "stream",
          "text": [
            "2023-12-06 22:40:27.096958: I tensorflow/core/framework/local_rendezvous.cc:421] Local rendezvous recv item cancelled. Key hash: 12749084622472637211\n"
          ]
        },
        {
          "name": "stdout",
          "output_type": "stream",
          "text": [
            "40/40 [==============================] - 1s 13ms/step - loss: 3.5066e-04 - accuracy: 0.0000e+00 - mean_squared_error: 3.5066e-04 - val_loss: 2.8383e-04 - val_accuracy: 0.0000e+00 - val_mean_squared_error: 2.8383e-04\n",
            "Epoch 3/20\n",
            "40/40 [==============================] - 1s 13ms/step - loss: 2.7110e-04 - accuracy: 0.0000e+00 - mean_squared_error: 2.7110e-04 - val_loss: 2.6488e-04 - val_accuracy: 0.0000e+00 - val_mean_squared_error: 2.6488e-04\n",
            "Epoch 4/20\n",
            "40/40 [==============================] - 1s 13ms/step - loss: 2.5639e-04 - accuracy: 0.0000e+00 - mean_squared_error: 2.5639e-04 - val_loss: 2.5294e-04 - val_accuracy: 0.0000e+00 - val_mean_squared_error: 2.5294e-04\n",
            "Epoch 5/20\n",
            "40/40 [==============================] - 1s 13ms/step - loss: 2.4476e-04 - accuracy: 0.0000e+00 - mean_squared_error: 2.4476e-04 - val_loss: 2.4043e-04 - val_accuracy: 0.0000e+00 - val_mean_squared_error: 2.4043e-04\n",
            "Epoch 6/20\n",
            "40/40 [==============================] - 1s 13ms/step - loss: 2.3297e-04 - accuracy: 0.0000e+00 - mean_squared_error: 2.3297e-04 - val_loss: 2.3189e-04 - val_accuracy: 0.0000e+00 - val_mean_squared_error: 2.3189e-04\n",
            "Epoch 7/20\n",
            "40/40 [==============================] - 1s 13ms/step - loss: 2.2127e-04 - accuracy: 0.0000e+00 - mean_squared_error: 2.2127e-04 - val_loss: 2.2218e-04 - val_accuracy: 0.0000e+00 - val_mean_squared_error: 2.2218e-04\n",
            "Epoch 8/20\n",
            "40/40 [==============================] - 0s 13ms/step - loss: 2.0815e-04 - accuracy: 0.0000e+00 - mean_squared_error: 2.0815e-04 - val_loss: 2.0090e-04 - val_accuracy: 0.0000e+00 - val_mean_squared_error: 2.0090e-04\n",
            "Epoch 9/20\n",
            "40/40 [==============================] - 1s 13ms/step - loss: 1.9468e-04 - accuracy: 0.0000e+00 - mean_squared_error: 1.9468e-04 - val_loss: 1.8733e-04 - val_accuracy: 0.0000e+00 - val_mean_squared_error: 1.8733e-04\n",
            "Epoch 10/20\n",
            "40/40 [==============================] - 1s 13ms/step - loss: 1.8474e-04 - accuracy: 0.0000e+00 - mean_squared_error: 1.8474e-04 - val_loss: 1.7764e-04 - val_accuracy: 0.0000e+00 - val_mean_squared_error: 1.7764e-04\n",
            "Epoch 11/20\n",
            "40/40 [==============================] - 1s 14ms/step - loss: 1.7656e-04 - accuracy: 0.0000e+00 - mean_squared_error: 1.7656e-04 - val_loss: 1.7118e-04 - val_accuracy: 0.0000e+00 - val_mean_squared_error: 1.7118e-04\n",
            "Epoch 12/20\n",
            "40/40 [==============================] - 1s 13ms/step - loss: 1.6950e-04 - accuracy: 0.0000e+00 - mean_squared_error: 1.6950e-04 - val_loss: 1.6719e-04 - val_accuracy: 0.0000e+00 - val_mean_squared_error: 1.6719e-04\n",
            "Epoch 13/20\n",
            "40/40 [==============================] - 0s 12ms/step - loss: 1.6342e-04 - accuracy: 0.0000e+00 - mean_squared_error: 1.6342e-04 - val_loss: 1.6305e-04 - val_accuracy: 0.0000e+00 - val_mean_squared_error: 1.6305e-04\n",
            "Epoch 14/20\n",
            "40/40 [==============================] - 1s 13ms/step - loss: 1.5816e-04 - accuracy: 0.0000e+00 - mean_squared_error: 1.5816e-04 - val_loss: 1.6078e-04 - val_accuracy: 0.0000e+00 - val_mean_squared_error: 1.6078e-04\n",
            "Epoch 15/20\n",
            "40/40 [==============================] - 1s 13ms/step - loss: 1.5343e-04 - accuracy: 0.0000e+00 - mean_squared_error: 1.5343e-04 - val_loss: 1.5862e-04 - val_accuracy: 0.0000e+00 - val_mean_squared_error: 1.5862e-04\n",
            "Epoch 16/20\n",
            "40/40 [==============================] - 1s 13ms/step - loss: 1.4885e-04 - accuracy: 0.0000e+00 - mean_squared_error: 1.4885e-04 - val_loss: 1.5294e-04 - val_accuracy: 0.0000e+00 - val_mean_squared_error: 1.5294e-04\n",
            "Epoch 17/20\n",
            "40/40 [==============================] - 1s 14ms/step - loss: 1.4438e-04 - accuracy: 0.0000e+00 - mean_squared_error: 1.4438e-04 - val_loss: 1.4672e-04 - val_accuracy: 0.0000e+00 - val_mean_squared_error: 1.4672e-04\n",
            "Epoch 18/20\n",
            "40/40 [==============================] - 0s 12ms/step - loss: 1.4032e-04 - accuracy: 0.0000e+00 - mean_squared_error: 1.4032e-04 - val_loss: 1.4286e-04 - val_accuracy: 0.0000e+00 - val_mean_squared_error: 1.4286e-04\n",
            "Epoch 19/20\n",
            "40/40 [==============================] - 0s 13ms/step - loss: 1.3673e-04 - accuracy: 0.0000e+00 - mean_squared_error: 1.3673e-04 - val_loss: 1.3894e-04 - val_accuracy: 0.0000e+00 - val_mean_squared_error: 1.3894e-04\n",
            "Epoch 20/20\n",
            "40/40 [==============================] - 1s 13ms/step - loss: 1.3355e-04 - accuracy: 0.0000e+00 - mean_squared_error: 1.3355e-04 - val_loss: 1.3352e-04 - val_accuracy: 0.0000e+00 - val_mean_squared_error: 1.3352e-04\n",
            "32/32 [==============================] - 0s 1ms/step\n",
            "0.2848035868435802 0.011769659 2.0131102\n",
            "0.3125715849688237\n",
            "Epoch 1/20\n"
          ]
        },
        {
          "name": "stderr",
          "output_type": "stream",
          "text": [
            "2023-12-06 22:40:37.521565: I tensorflow/core/common_runtime/gpu/gpu_device.cc:1886] Created device /device:GPU:0 with 20609 MB memory:  -> device: 0, name: NVIDIA L4, pci bus id: 0000:00:03.0, compute capability: 8.9\n"
          ]
        },
        {
          "name": "stdout",
          "output_type": "stream",
          "text": [
            "     31/Unknown - 1s 5ms/step - loss: 0.0059 - accuracy: 0.0000e+00 - mean_squared_error: 0.0059"
          ]
        },
        {
          "name": "stderr",
          "output_type": "stream",
          "text": [
            "2023-12-06 22:40:38.831214: I tensorflow/core/framework/local_rendezvous.cc:421] Local rendezvous recv item cancelled. Key hash: 10316076964217112533\n"
          ]
        },
        {
          "name": "stdout",
          "output_type": "stream",
          "text": [
            "40/40 [==============================] - 2s 17ms/step - loss: 0.0048 - accuracy: 0.0000e+00 - mean_squared_error: 0.0048 - val_loss: 3.2924e-04 - val_accuracy: 0.0000e+00 - val_mean_squared_error: 3.2924e-04\n",
            "Epoch 2/20\n",
            "40/40 [==============================] - 1s 13ms/step - loss: 2.7273e-04 - accuracy: 0.0000e+00 - mean_squared_error: 2.7273e-04 - val_loss: 2.0481e-04 - val_accuracy: 0.0000e+00 - val_mean_squared_error: 2.0481e-04\n",
            "Epoch 3/20\n",
            "40/40 [==============================] - 1s 13ms/step - loss: 1.8933e-04 - accuracy: 0.0000e+00 - mean_squared_error: 1.8933e-04 - val_loss: 1.8822e-04 - val_accuracy: 0.0000e+00 - val_mean_squared_error: 1.8822e-04\n",
            "Epoch 4/20\n",
            "40/40 [==============================] - 1s 13ms/step - loss: 1.7864e-04 - accuracy: 0.0000e+00 - mean_squared_error: 1.7864e-04 - val_loss: 1.7856e-04 - val_accuracy: 0.0000e+00 - val_mean_squared_error: 1.7856e-04\n",
            "Epoch 5/20\n",
            "40/40 [==============================] - 1s 13ms/step - loss: 1.6970e-04 - accuracy: 0.0000e+00 - mean_squared_error: 1.6970e-04 - val_loss: 1.7113e-04 - val_accuracy: 0.0000e+00 - val_mean_squared_error: 1.7113e-04\n",
            "Epoch 6/20\n",
            "40/40 [==============================] - 1s 13ms/step - loss: 1.6224e-04 - accuracy: 0.0000e+00 - mean_squared_error: 1.6224e-04 - val_loss: 1.6327e-04 - val_accuracy: 0.0000e+00 - val_mean_squared_error: 1.6327e-04\n",
            "Epoch 7/20\n",
            "40/40 [==============================] - 1s 13ms/step - loss: 1.5593e-04 - accuracy: 0.0000e+00 - mean_squared_error: 1.5593e-04 - val_loss: 1.5621e-04 - val_accuracy: 0.0000e+00 - val_mean_squared_error: 1.5621e-04\n",
            "Epoch 8/20\n",
            "40/40 [==============================] - 1s 13ms/step - loss: 1.4985e-04 - accuracy: 0.0000e+00 - mean_squared_error: 1.4985e-04 - val_loss: 1.5136e-04 - val_accuracy: 0.0000e+00 - val_mean_squared_error: 1.5136e-04\n",
            "Epoch 9/20\n",
            "40/40 [==============================] - 1s 13ms/step - loss: 1.4490e-04 - accuracy: 0.0000e+00 - mean_squared_error: 1.4490e-04 - val_loss: 1.4818e-04 - val_accuracy: 0.0000e+00 - val_mean_squared_error: 1.4818e-04\n",
            "Epoch 10/20\n",
            "40/40 [==============================] - 1s 13ms/step - loss: 1.4137e-04 - accuracy: 0.0000e+00 - mean_squared_error: 1.4137e-04 - val_loss: 1.4500e-04 - val_accuracy: 0.0000e+00 - val_mean_squared_error: 1.4500e-04\n",
            "Epoch 11/20\n",
            "40/40 [==============================] - 1s 13ms/step - loss: 1.3835e-04 - accuracy: 0.0000e+00 - mean_squared_error: 1.3835e-04 - val_loss: 1.4001e-04 - val_accuracy: 0.0000e+00 - val_mean_squared_error: 1.4001e-04\n",
            "Epoch 12/20\n",
            "40/40 [==============================] - 1s 13ms/step - loss: 1.3523e-04 - accuracy: 0.0000e+00 - mean_squared_error: 1.3523e-04 - val_loss: 1.3694e-04 - val_accuracy: 0.0000e+00 - val_mean_squared_error: 1.3694e-04\n",
            "Epoch 13/20\n",
            "40/40 [==============================] - 1s 13ms/step - loss: 1.3271e-04 - accuracy: 0.0000e+00 - mean_squared_error: 1.3271e-04 - val_loss: 1.3527e-04 - val_accuracy: 0.0000e+00 - val_mean_squared_error: 1.3527e-04\n",
            "Epoch 14/20\n",
            "40/40 [==============================] - 1s 13ms/step - loss: 1.3115e-04 - accuracy: 0.0000e+00 - mean_squared_error: 1.3115e-04 - val_loss: 1.3348e-04 - val_accuracy: 0.0000e+00 - val_mean_squared_error: 1.3348e-04\n",
            "Epoch 15/20\n",
            "40/40 [==============================] - 1s 13ms/step - loss: 1.2988e-04 - accuracy: 0.0000e+00 - mean_squared_error: 1.2988e-04 - val_loss: 1.3023e-04 - val_accuracy: 0.0000e+00 - val_mean_squared_error: 1.3023e-04\n",
            "Epoch 16/20\n",
            "40/40 [==============================] - 1s 13ms/step - loss: 1.2802e-04 - accuracy: 0.0000e+00 - mean_squared_error: 1.2802e-04 - val_loss: 1.2737e-04 - val_accuracy: 0.0000e+00 - val_mean_squared_error: 1.2737e-04\n",
            "Epoch 17/20\n",
            "40/40 [==============================] - 1s 13ms/step - loss: 1.2578e-04 - accuracy: 0.0000e+00 - mean_squared_error: 1.2578e-04 - val_loss: 1.2578e-04 - val_accuracy: 0.0000e+00 - val_mean_squared_error: 1.2578e-04\n",
            "Epoch 18/20\n",
            "40/40 [==============================] - 0s 12ms/step - loss: 1.2453e-04 - accuracy: 0.0000e+00 - mean_squared_error: 1.2453e-04 - val_loss: 1.2496e-04 - val_accuracy: 0.0000e+00 - val_mean_squared_error: 1.2496e-04\n",
            "Epoch 19/20\n",
            "40/40 [==============================] - 1s 13ms/step - loss: 1.2342e-04 - accuracy: 0.0000e+00 - mean_squared_error: 1.2342e-04 - val_loss: 1.2644e-04 - val_accuracy: 0.0000e+00 - val_mean_squared_error: 1.2644e-04\n",
            "Epoch 20/20\n",
            "40/40 [==============================] - 1s 14ms/step - loss: 1.2238e-04 - accuracy: 0.0000e+00 - mean_squared_error: 1.2238e-04 - val_loss: 1.2969e-04 - val_accuracy: 0.0000e+00 - val_mean_squared_error: 1.2969e-04\n",
            "32/32 [==============================] - 0s 1ms/step\n",
            "0.3125715849688237 0.011554929 1.983441\n",
            "0.34304692863149194\n",
            "Epoch 1/20\n"
          ]
        },
        {
          "name": "stderr",
          "output_type": "stream",
          "text": [
            "2023-12-06 22:40:49.746748: I tensorflow/core/common_runtime/gpu/gpu_device.cc:1886] Created device /device:GPU:0 with 20609 MB memory:  -> device: 0, name: NVIDIA L4, pci bus id: 0000:00:03.0, compute capability: 8.9\n"
          ]
        },
        {
          "name": "stdout",
          "output_type": "stream",
          "text": [
            "     31/Unknown - 1s 5ms/step - loss: 0.0056 - accuracy: 0.0000e+00 - mean_squared_error: 0.0056"
          ]
        },
        {
          "name": "stderr",
          "output_type": "stream",
          "text": [
            "2023-12-06 22:40:51.053294: I tensorflow/core/framework/local_rendezvous.cc:421] Local rendezvous recv item cancelled. Key hash: 12749084622472637211\n"
          ]
        },
        {
          "name": "stdout",
          "output_type": "stream",
          "text": [
            "40/40 [==============================] - 2s 17ms/step - loss: 0.0046 - accuracy: 0.0000e+00 - mean_squared_error: 0.0046 - val_loss: 3.7360e-04 - val_accuracy: 0.0000e+00 - val_mean_squared_error: 3.7360e-04\n",
            "Epoch 2/20\n",
            "31/40 [======================>.......] - ETA: 0s - loss: 3.0501e-04 - accuracy: 0.0000e+00 - mean_squared_error: 3.0501e-04"
          ]
        },
        {
          "name": "stderr",
          "output_type": "stream",
          "text": [
            "2023-12-06 22:40:51.482223: I tensorflow/core/framework/local_rendezvous.cc:421] Local rendezvous recv item cancelled. Key hash: 12749084622472637211\n"
          ]
        },
        {
          "name": "stdout",
          "output_type": "stream",
          "text": [
            "40/40 [==============================] - 1s 13ms/step - loss: 2.9218e-04 - accuracy: 0.0000e+00 - mean_squared_error: 2.9218e-04 - val_loss: 2.3226e-04 - val_accuracy: 0.0000e+00 - val_mean_squared_error: 2.3226e-04\n",
            "Epoch 3/20\n",
            "40/40 [==============================] - 0s 13ms/step - loss: 2.2205e-04 - accuracy: 0.0000e+00 - mean_squared_error: 2.2205e-04 - val_loss: 2.1612e-04 - val_accuracy: 0.0000e+00 - val_mean_squared_error: 2.1612e-04\n",
            "Epoch 4/20\n",
            "40/40 [==============================] - 1s 13ms/step - loss: 2.0835e-04 - accuracy: 0.0000e+00 - mean_squared_error: 2.0835e-04 - val_loss: 2.0225e-04 - val_accuracy: 0.0000e+00 - val_mean_squared_error: 2.0225e-04\n",
            "Epoch 5/20\n",
            "40/40 [==============================] - 1s 13ms/step - loss: 1.9538e-04 - accuracy: 0.0000e+00 - mean_squared_error: 1.9538e-04 - val_loss: 1.9078e-04 - val_accuracy: 0.0000e+00 - val_mean_squared_error: 1.9078e-04\n",
            "Epoch 6/20\n",
            "40/40 [==============================] - 1s 13ms/step - loss: 1.8399e-04 - accuracy: 0.0000e+00 - mean_squared_error: 1.8399e-04 - val_loss: 1.8028e-04 - val_accuracy: 0.0000e+00 - val_mean_squared_error: 1.8028e-04\n",
            "Epoch 7/20\n",
            "40/40 [==============================] - 0s 12ms/step - loss: 1.7524e-04 - accuracy: 0.0000e+00 - mean_squared_error: 1.7524e-04 - val_loss: 1.7169e-04 - val_accuracy: 0.0000e+00 - val_mean_squared_error: 1.7169e-04\n",
            "Epoch 8/20\n",
            "40/40 [==============================] - 0s 12ms/step - loss: 1.6869e-04 - accuracy: 0.0000e+00 - mean_squared_error: 1.6869e-04 - val_loss: 1.6535e-04 - val_accuracy: 0.0000e+00 - val_mean_squared_error: 1.6535e-04\n",
            "Epoch 9/20\n",
            "40/40 [==============================] - 1s 13ms/step - loss: 1.6400e-04 - accuracy: 0.0000e+00 - mean_squared_error: 1.6400e-04 - val_loss: 1.6330e-04 - val_accuracy: 0.0000e+00 - val_mean_squared_error: 1.6330e-04\n",
            "Epoch 10/20\n",
            "40/40 [==============================] - 0s 12ms/step - loss: 1.6080e-04 - accuracy: 0.0000e+00 - mean_squared_error: 1.6080e-04 - val_loss: 1.6787e-04 - val_accuracy: 0.0000e+00 - val_mean_squared_error: 1.6787e-04\n",
            "Epoch 11/20\n",
            "40/40 [==============================] - 1s 13ms/step - loss: 1.5655e-04 - accuracy: 0.0000e+00 - mean_squared_error: 1.5655e-04 - val_loss: 1.6055e-04 - val_accuracy: 0.0000e+00 - val_mean_squared_error: 1.6055e-04\n",
            "Epoch 12/20\n",
            "40/40 [==============================] - 1s 13ms/step - loss: 1.5083e-04 - accuracy: 0.0000e+00 - mean_squared_error: 1.5083e-04 - val_loss: 1.5173e-04 - val_accuracy: 0.0000e+00 - val_mean_squared_error: 1.5173e-04\n",
            "Epoch 13/20\n",
            "40/40 [==============================] - 1s 14ms/step - loss: 1.4712e-04 - accuracy: 0.0000e+00 - mean_squared_error: 1.4712e-04 - val_loss: 1.4818e-04 - val_accuracy: 0.0000e+00 - val_mean_squared_error: 1.4818e-04\n",
            "Epoch 14/20\n",
            "40/40 [==============================] - 1s 13ms/step - loss: 1.4457e-04 - accuracy: 0.0000e+00 - mean_squared_error: 1.4457e-04 - val_loss: 1.4558e-04 - val_accuracy: 0.0000e+00 - val_mean_squared_error: 1.4558e-04\n",
            "Epoch 15/20\n",
            "40/40 [==============================] - 1s 13ms/step - loss: 1.4248e-04 - accuracy: 0.0000e+00 - mean_squared_error: 1.4248e-04 - val_loss: 1.4346e-04 - val_accuracy: 0.0000e+00 - val_mean_squared_error: 1.4346e-04\n",
            "Epoch 16/20\n",
            "40/40 [==============================] - 1s 13ms/step - loss: 1.4070e-04 - accuracy: 0.0000e+00 - mean_squared_error: 1.4070e-04 - val_loss: 1.4203e-04 - val_accuracy: 0.0000e+00 - val_mean_squared_error: 1.4203e-04\n",
            "Epoch 17/20\n",
            "40/40 [==============================] - 1s 13ms/step - loss: 1.3924e-04 - accuracy: 0.0000e+00 - mean_squared_error: 1.3924e-04 - val_loss: 1.4088e-04 - val_accuracy: 0.0000e+00 - val_mean_squared_error: 1.4088e-04\n",
            "Epoch 18/20\n",
            "40/40 [==============================] - 1s 13ms/step - loss: 1.3802e-04 - accuracy: 0.0000e+00 - mean_squared_error: 1.3802e-04 - val_loss: 1.3977e-04 - val_accuracy: 0.0000e+00 - val_mean_squared_error: 1.3977e-04\n",
            "Epoch 19/20\n",
            "40/40 [==============================] - 1s 13ms/step - loss: 1.3691e-04 - accuracy: 0.0000e+00 - mean_squared_error: 1.3691e-04 - val_loss: 1.3858e-04 - val_accuracy: 0.0000e+00 - val_mean_squared_error: 1.3858e-04\n",
            "Epoch 20/20\n",
            "40/40 [==============================] - 0s 12ms/step - loss: 1.3571e-04 - accuracy: 0.0000e+00 - mean_squared_error: 1.3571e-04 - val_loss: 1.3759e-04 - val_accuracy: 0.0000e+00 - val_mean_squared_error: 1.3759e-04\n",
            "32/32 [==============================] - 0s 1ms/step\n",
            "0.34304692863149194 0.011841515 2.024635\n",
            "0.37649358067924693\n",
            "Epoch 1/20\n"
          ]
        },
        {
          "name": "stderr",
          "output_type": "stream",
          "text": [
            "2023-12-06 22:41:01.769314: I tensorflow/core/common_runtime/gpu/gpu_device.cc:1886] Created device /device:GPU:0 with 20609 MB memory:  -> device: 0, name: NVIDIA L4, pci bus id: 0000:00:03.0, compute capability: 8.9\n"
          ]
        },
        {
          "name": "stdout",
          "output_type": "stream",
          "text": [
            "     31/Unknown - 1s 5ms/step - loss: 0.0055 - accuracy: 0.0000e+00 - mean_squared_error: 0.0055"
          ]
        },
        {
          "name": "stderr",
          "output_type": "stream",
          "text": [
            "2023-12-06 22:41:03.114516: I tensorflow/core/framework/local_rendezvous.cc:421] Local rendezvous recv item cancelled. Key hash: 12749084622472637211\n"
          ]
        },
        {
          "name": "stdout",
          "output_type": "stream",
          "text": [
            "40/40 [==============================] - 2s 16ms/step - loss: 0.0045 - accuracy: 0.0000e+00 - mean_squared_error: 0.0045 - val_loss: 3.8529e-04 - val_accuracy: 0.0000e+00 - val_mean_squared_error: 3.8529e-04\n",
            "Epoch 2/20\n",
            "31/40 [======================>.......] - ETA: 0s - loss: 3.5822e-04 - accuracy: 0.0000e+00 - mean_squared_error: 3.5822e-04"
          ]
        },
        {
          "name": "stderr",
          "output_type": "stream",
          "text": [
            "2023-12-06 22:41:03.528887: I tensorflow/core/framework/local_rendezvous.cc:421] Local rendezvous recv item cancelled. Key hash: 12749084622472637211\n"
          ]
        },
        {
          "name": "stdout",
          "output_type": "stream",
          "text": [
            "40/40 [==============================] - 1s 13ms/step - loss: 3.4552e-04 - accuracy: 0.0000e+00 - mean_squared_error: 3.4552e-04 - val_loss: 2.9217e-04 - val_accuracy: 0.0000e+00 - val_mean_squared_error: 2.9217e-04\n",
            "Epoch 3/20\n",
            "40/40 [==============================] - 0s 12ms/step - loss: 2.8499e-04 - accuracy: 0.0000e+00 - mean_squared_error: 2.8499e-04 - val_loss: 2.6983e-04 - val_accuracy: 0.0000e+00 - val_mean_squared_error: 2.6983e-04\n",
            "Epoch 4/20\n",
            "40/40 [==============================] - 1s 13ms/step - loss: 2.6379e-04 - accuracy: 0.0000e+00 - mean_squared_error: 2.6379e-04 - val_loss: 2.5008e-04 - val_accuracy: 0.0000e+00 - val_mean_squared_error: 2.5008e-04\n",
            "Epoch 5/20\n",
            "40/40 [==============================] - 1s 13ms/step - loss: 2.4654e-04 - accuracy: 0.0000e+00 - mean_squared_error: 2.4654e-04 - val_loss: 2.3441e-04 - val_accuracy: 0.0000e+00 - val_mean_squared_error: 2.3441e-04\n",
            "Epoch 6/20\n",
            "40/40 [==============================] - 1s 13ms/step - loss: 2.3216e-04 - accuracy: 0.0000e+00 - mean_squared_error: 2.3216e-04 - val_loss: 2.2121e-04 - val_accuracy: 0.0000e+00 - val_mean_squared_error: 2.2121e-04\n",
            "Epoch 7/20\n",
            "40/40 [==============================] - 1s 13ms/step - loss: 2.1999e-04 - accuracy: 0.0000e+00 - mean_squared_error: 2.1999e-04 - val_loss: 2.0984e-04 - val_accuracy: 0.0000e+00 - val_mean_squared_error: 2.0984e-04\n",
            "Epoch 8/20\n",
            "40/40 [==============================] - 1s 13ms/step - loss: 2.1002e-04 - accuracy: 0.0000e+00 - mean_squared_error: 2.1002e-04 - val_loss: 2.0116e-04 - val_accuracy: 0.0000e+00 - val_mean_squared_error: 2.0116e-04\n",
            "Epoch 9/20\n",
            "40/40 [==============================] - 1s 14ms/step - loss: 2.0224e-04 - accuracy: 0.0000e+00 - mean_squared_error: 2.0224e-04 - val_loss: 1.9402e-04 - val_accuracy: 0.0000e+00 - val_mean_squared_error: 1.9402e-04\n",
            "Epoch 10/20\n",
            "40/40 [==============================] - 1s 13ms/step - loss: 1.9587e-04 - accuracy: 0.0000e+00 - mean_squared_error: 1.9587e-04 - val_loss: 1.8794e-04 - val_accuracy: 0.0000e+00 - val_mean_squared_error: 1.8794e-04\n",
            "Epoch 11/20\n",
            "40/40 [==============================] - 1s 13ms/step - loss: 1.9056e-04 - accuracy: 0.0000e+00 - mean_squared_error: 1.9056e-04 - val_loss: 1.8314e-04 - val_accuracy: 0.0000e+00 - val_mean_squared_error: 1.8314e-04\n",
            "Epoch 12/20\n",
            "40/40 [==============================] - 1s 13ms/step - loss: 1.8594e-04 - accuracy: 0.0000e+00 - mean_squared_error: 1.8594e-04 - val_loss: 1.8097e-04 - val_accuracy: 0.0000e+00 - val_mean_squared_error: 1.8097e-04\n",
            "Epoch 13/20\n",
            "40/40 [==============================] - 0s 13ms/step - loss: 1.8298e-04 - accuracy: 0.0000e+00 - mean_squared_error: 1.8298e-04 - val_loss: 1.8308e-04 - val_accuracy: 0.0000e+00 - val_mean_squared_error: 1.8308e-04\n",
            "Epoch 14/20\n",
            "40/40 [==============================] - 1s 13ms/step - loss: 1.8130e-04 - accuracy: 0.0000e+00 - mean_squared_error: 1.8130e-04 - val_loss: 1.8531e-04 - val_accuracy: 0.0000e+00 - val_mean_squared_error: 1.8531e-04\n",
            "Epoch 15/20\n",
            "40/40 [==============================] - 1s 13ms/step - loss: 1.7957e-04 - accuracy: 0.0000e+00 - mean_squared_error: 1.7957e-04 - val_loss: 1.7724e-04 - val_accuracy: 0.0000e+00 - val_mean_squared_error: 1.7724e-04\n",
            "Epoch 16/20\n",
            "40/40 [==============================] - 1s 13ms/step - loss: 1.7592e-04 - accuracy: 0.0000e+00 - mean_squared_error: 1.7592e-04 - val_loss: 1.7235e-04 - val_accuracy: 0.0000e+00 - val_mean_squared_error: 1.7235e-04\n",
            "Epoch 17/20\n",
            "40/40 [==============================] - 1s 13ms/step - loss: 1.7294e-04 - accuracy: 0.0000e+00 - mean_squared_error: 1.7294e-04 - val_loss: 1.7098e-04 - val_accuracy: 0.0000e+00 - val_mean_squared_error: 1.7098e-04\n",
            "Epoch 18/20\n",
            "40/40 [==============================] - 1s 14ms/step - loss: 1.7170e-04 - accuracy: 0.0000e+00 - mean_squared_error: 1.7170e-04 - val_loss: 1.6865e-04 - val_accuracy: 0.0000e+00 - val_mean_squared_error: 1.6865e-04\n",
            "Epoch 19/20\n",
            "40/40 [==============================] - 1s 14ms/step - loss: 1.7048e-04 - accuracy: 0.0000e+00 - mean_squared_error: 1.7048e-04 - val_loss: 1.6210e-04 - val_accuracy: 0.0000e+00 - val_mean_squared_error: 1.6210e-04\n",
            "Epoch 20/20\n",
            "40/40 [==============================] - 1s 13ms/step - loss: 1.6694e-04 - accuracy: 0.0000e+00 - mean_squared_error: 1.6694e-04 - val_loss: 1.6012e-04 - val_accuracy: 0.0000e+00 - val_mean_squared_error: 1.6012e-04\n",
            "32/32 [==============================] - 0s 1ms/step\n",
            "0.37649358067924693 0.0124846585 2.047455\n",
            "0.41320124001153385\n",
            "Epoch 1/20\n"
          ]
        },
        {
          "name": "stderr",
          "output_type": "stream",
          "text": [
            "2023-12-06 22:41:13.938561: I tensorflow/core/common_runtime/gpu/gpu_device.cc:1886] Created device /device:GPU:0 with 20609 MB memory:  -> device: 0, name: NVIDIA L4, pci bus id: 0000:00:03.0, compute capability: 8.9\n"
          ]
        },
        {
          "name": "stdout",
          "output_type": "stream",
          "text": [
            "40/40 [==============================] - 2s 17ms/step - loss: 0.0040 - accuracy: 0.0000e+00 - mean_squared_error: 0.0040 - val_loss: 6.6642e-04 - val_accuracy: 0.0000e+00 - val_mean_squared_error: 6.6642e-04\n",
            "Epoch 2/20\n",
            "31/40 [======================>.......] - ETA: 0s - loss: 4.6620e-04 - accuracy: 0.0000e+00 - mean_squared_error: 4.6620e-04"
          ]
        },
        {
          "name": "stderr",
          "output_type": "stream",
          "text": [
            "2023-12-06 22:41:15.699785: I tensorflow/core/framework/local_rendezvous.cc:421] Local rendezvous recv item cancelled. Key hash: 12749084622472637211\n",
            "2023-12-06 22:41:15.699840: I tensorflow/core/framework/local_rendezvous.cc:421] Local rendezvous recv item cancelled. Key hash: 10316076964217112533\n"
          ]
        },
        {
          "name": "stdout",
          "output_type": "stream",
          "text": [
            "40/40 [==============================] - 1s 13ms/step - loss: 4.4439e-04 - accuracy: 0.0000e+00 - mean_squared_error: 4.4439e-04 - val_loss: 3.8901e-04 - val_accuracy: 0.0000e+00 - val_mean_squared_error: 3.8901e-04\n",
            "Epoch 3/20\n",
            "40/40 [==============================] - 1s 14ms/step - loss: 3.4579e-04 - accuracy: 0.0000e+00 - mean_squared_error: 3.4579e-04 - val_loss: 3.4423e-04 - val_accuracy: 0.0000e+00 - val_mean_squared_error: 3.4423e-04\n",
            "Epoch 4/20\n",
            "40/40 [==============================] - 1s 14ms/step - loss: 3.1840e-04 - accuracy: 0.0000e+00 - mean_squared_error: 3.1840e-04 - val_loss: 3.1470e-04 - val_accuracy: 0.0000e+00 - val_mean_squared_error: 3.1470e-04\n",
            "Epoch 5/20\n",
            "40/40 [==============================] - 1s 13ms/step - loss: 2.9651e-04 - accuracy: 0.0000e+00 - mean_squared_error: 2.9651e-04 - val_loss: 2.9452e-04 - val_accuracy: 0.0000e+00 - val_mean_squared_error: 2.9452e-04\n",
            "Epoch 6/20\n",
            "40/40 [==============================] - 1s 13ms/step - loss: 2.7938e-04 - accuracy: 0.0000e+00 - mean_squared_error: 2.7938e-04 - val_loss: 2.8106e-04 - val_accuracy: 0.0000e+00 - val_mean_squared_error: 2.8106e-04\n",
            "Epoch 7/20\n",
            "40/40 [==============================] - 1s 14ms/step - loss: 2.6587e-04 - accuracy: 0.0000e+00 - mean_squared_error: 2.6587e-04 - val_loss: 2.6875e-04 - val_accuracy: 0.0000e+00 - val_mean_squared_error: 2.6875e-04\n",
            "Epoch 8/20\n",
            "40/40 [==============================] - 1s 13ms/step - loss: 2.5508e-04 - accuracy: 0.0000e+00 - mean_squared_error: 2.5508e-04 - val_loss: 2.6001e-04 - val_accuracy: 0.0000e+00 - val_mean_squared_error: 2.6001e-04\n",
            "Epoch 9/20\n",
            "40/40 [==============================] - 1s 13ms/step - loss: 2.4640e-04 - accuracy: 0.0000e+00 - mean_squared_error: 2.4640e-04 - val_loss: 2.4294e-04 - val_accuracy: 0.0000e+00 - val_mean_squared_error: 2.4294e-04\n",
            "Epoch 10/20\n",
            "40/40 [==============================] - 1s 13ms/step - loss: 2.3756e-04 - accuracy: 0.0000e+00 - mean_squared_error: 2.3756e-04 - val_loss: 2.2750e-04 - val_accuracy: 0.0000e+00 - val_mean_squared_error: 2.2750e-04\n",
            "Epoch 11/20\n",
            "40/40 [==============================] - 1s 13ms/step - loss: 2.2743e-04 - accuracy: 0.0000e+00 - mean_squared_error: 2.2743e-04 - val_loss: 2.2076e-04 - val_accuracy: 0.0000e+00 - val_mean_squared_error: 2.2076e-04\n",
            "Epoch 12/20\n",
            "40/40 [==============================] - 1s 13ms/step - loss: 2.2102e-04 - accuracy: 0.0000e+00 - mean_squared_error: 2.2102e-04 - val_loss: 2.1686e-04 - val_accuracy: 0.0000e+00 - val_mean_squared_error: 2.1686e-04\n",
            "Epoch 13/20\n",
            "40/40 [==============================] - 1s 13ms/step - loss: 2.1643e-04 - accuracy: 0.0000e+00 - mean_squared_error: 2.1643e-04 - val_loss: 2.1298e-04 - val_accuracy: 0.0000e+00 - val_mean_squared_error: 2.1298e-04\n",
            "Epoch 14/20\n",
            "40/40 [==============================] - 1s 15ms/step - loss: 2.1199e-04 - accuracy: 0.0000e+00 - mean_squared_error: 2.1199e-04 - val_loss: 2.0435e-04 - val_accuracy: 0.0000e+00 - val_mean_squared_error: 2.0435e-04\n",
            "Epoch 15/20\n",
            "40/40 [==============================] - 1s 13ms/step - loss: 2.0751e-04 - accuracy: 0.0000e+00 - mean_squared_error: 2.0751e-04 - val_loss: 1.9826e-04 - val_accuracy: 0.0000e+00 - val_mean_squared_error: 1.9826e-04\n",
            "Epoch 16/20\n",
            "40/40 [==============================] - 1s 14ms/step - loss: 2.0488e-04 - accuracy: 0.0000e+00 - mean_squared_error: 2.0488e-04 - val_loss: 1.9375e-04 - val_accuracy: 0.0000e+00 - val_mean_squared_error: 1.9375e-04\n",
            "Epoch 17/20\n",
            "40/40 [==============================] - 1s 13ms/step - loss: 2.0327e-04 - accuracy: 0.0000e+00 - mean_squared_error: 2.0327e-04 - val_loss: 1.9121e-04 - val_accuracy: 0.0000e+00 - val_mean_squared_error: 1.9121e-04\n",
            "Epoch 18/20\n",
            "40/40 [==============================] - 1s 13ms/step - loss: 2.0042e-04 - accuracy: 0.0000e+00 - mean_squared_error: 2.0042e-04 - val_loss: 1.8777e-04 - val_accuracy: 0.0000e+00 - val_mean_squared_error: 1.8777e-04\n",
            "Epoch 19/20\n",
            "40/40 [==============================] - 0s 13ms/step - loss: 1.9501e-04 - accuracy: 0.0000e+00 - mean_squared_error: 1.9501e-04 - val_loss: 1.8176e-04 - val_accuracy: 0.0000e+00 - val_mean_squared_error: 1.8176e-04\n",
            "Epoch 20/20\n",
            "40/40 [==============================] - 1s 13ms/step - loss: 1.9063e-04 - accuracy: 0.0000e+00 - mean_squared_error: 1.9063e-04 - val_loss: 1.8041e-04 - val_accuracy: 0.0000e+00 - val_mean_squared_error: 1.8041e-04\n",
            "32/32 [==============================] - 0s 1ms/step\n",
            "0.41320124001153385 0.014130449 1.9468212\n",
            "0.4534878508128584\n",
            "Epoch 1/20\n"
          ]
        },
        {
          "name": "stderr",
          "output_type": "stream",
          "text": [
            "2023-12-06 22:41:26.335412: I tensorflow/core/common_runtime/gpu/gpu_device.cc:1886] Created device /device:GPU:0 with 20609 MB memory:  -> device: 0, name: NVIDIA L4, pci bus id: 0000:00:03.0, compute capability: 8.9\n"
          ]
        },
        {
          "name": "stdout",
          "output_type": "stream",
          "text": [
            "     31/Unknown - 1s 5ms/step - loss: 0.0043 - accuracy: 0.0000e+00 - mean_squared_error: 0.0043"
          ]
        },
        {
          "name": "stderr",
          "output_type": "stream",
          "text": [
            "2023-12-06 22:41:27.640739: I tensorflow/core/framework/local_rendezvous.cc:421] Local rendezvous recv item cancelled. Key hash: 12749084622472637211\n",
            "2023-12-06 22:41:27.640797: I tensorflow/core/framework/local_rendezvous.cc:421] Local rendezvous recv item cancelled. Key hash: 10316076964217112533\n"
          ]
        },
        {
          "name": "stdout",
          "output_type": "stream",
          "text": [
            "40/40 [==============================] - 2s 16ms/step - loss: 0.0036 - accuracy: 0.0000e+00 - mean_squared_error: 0.0036 - val_loss: 6.8867e-04 - val_accuracy: 0.0000e+00 - val_mean_squared_error: 6.8867e-04\n",
            "Epoch 2/20\n",
            "30/40 [=====================>........] - ETA: 0s - loss: 4.8824e-04 - accuracy: 0.0000e+00 - mean_squared_error: 4.8824e-04"
          ]
        },
        {
          "name": "stderr",
          "output_type": "stream",
          "text": [
            "2023-12-06 22:41:28.050723: I tensorflow/core/framework/local_rendezvous.cc:421] Local rendezvous recv item cancelled. Key hash: 12749084622472637211\n",
            "2023-12-06 22:41:28.050775: I tensorflow/core/framework/local_rendezvous.cc:421] Local rendezvous recv item cancelled. Key hash: 10316076964217112533\n"
          ]
        },
        {
          "name": "stdout",
          "output_type": "stream",
          "text": [
            "40/40 [==============================] - 1s 13ms/step - loss: 4.7196e-04 - accuracy: 0.0000e+00 - mean_squared_error: 4.7196e-04 - val_loss: 4.4825e-04 - val_accuracy: 0.0000e+00 - val_mean_squared_error: 4.4825e-04\n",
            "Epoch 3/20\n",
            "40/40 [==============================] - 1s 13ms/step - loss: 4.0745e-04 - accuracy: 0.0000e+00 - mean_squared_error: 4.0745e-04 - val_loss: 4.1170e-04 - val_accuracy: 0.0000e+00 - val_mean_squared_error: 4.1170e-04\n",
            "Epoch 4/20\n",
            "40/40 [==============================] - 1s 13ms/step - loss: 3.7881e-04 - accuracy: 0.0000e+00 - mean_squared_error: 3.7881e-04 - val_loss: 3.8332e-04 - val_accuracy: 0.0000e+00 - val_mean_squared_error: 3.8332e-04\n",
            "Epoch 5/20\n",
            "40/40 [==============================] - 1s 13ms/step - loss: 3.5460e-04 - accuracy: 0.0000e+00 - mean_squared_error: 3.5460e-04 - val_loss: 3.6281e-04 - val_accuracy: 0.0000e+00 - val_mean_squared_error: 3.6281e-04\n",
            "Epoch 6/20\n",
            "40/40 [==============================] - 1s 13ms/step - loss: 3.3407e-04 - accuracy: 0.0000e+00 - mean_squared_error: 3.3407e-04 - val_loss: 3.3603e-04 - val_accuracy: 0.0000e+00 - val_mean_squared_error: 3.3603e-04\n",
            "Epoch 7/20\n",
            "40/40 [==============================] - 1s 13ms/step - loss: 3.1478e-04 - accuracy: 0.0000e+00 - mean_squared_error: 3.1478e-04 - val_loss: 3.1898e-04 - val_accuracy: 0.0000e+00 - val_mean_squared_error: 3.1898e-04\n",
            "Epoch 8/20\n",
            "40/40 [==============================] - 0s 13ms/step - loss: 2.9939e-04 - accuracy: 0.0000e+00 - mean_squared_error: 2.9939e-04 - val_loss: 3.0474e-04 - val_accuracy: 0.0000e+00 - val_mean_squared_error: 3.0474e-04\n",
            "Epoch 9/20\n",
            "40/40 [==============================] - 1s 13ms/step - loss: 2.8641e-04 - accuracy: 0.0000e+00 - mean_squared_error: 2.8641e-04 - val_loss: 2.9252e-04 - val_accuracy: 0.0000e+00 - val_mean_squared_error: 2.9252e-04\n",
            "Epoch 10/20\n",
            "40/40 [==============================] - 1s 14ms/step - loss: 2.7602e-04 - accuracy: 0.0000e+00 - mean_squared_error: 2.7602e-04 - val_loss: 2.8291e-04 - val_accuracy: 0.0000e+00 - val_mean_squared_error: 2.8291e-04\n",
            "Epoch 11/20\n",
            "40/40 [==============================] - 1s 13ms/step - loss: 2.6804e-04 - accuracy: 0.0000e+00 - mean_squared_error: 2.6804e-04 - val_loss: 2.7549e-04 - val_accuracy: 0.0000e+00 - val_mean_squared_error: 2.7549e-04\n",
            "Epoch 12/20\n",
            "40/40 [==============================] - 1s 13ms/step - loss: 2.6142e-04 - accuracy: 0.0000e+00 - mean_squared_error: 2.6142e-04 - val_loss: 2.7466e-04 - val_accuracy: 0.0000e+00 - val_mean_squared_error: 2.7466e-04\n",
            "Epoch 13/20\n",
            "40/40 [==============================] - 1s 13ms/step - loss: 2.5720e-04 - accuracy: 0.0000e+00 - mean_squared_error: 2.5720e-04 - val_loss: 2.7549e-04 - val_accuracy: 0.0000e+00 - val_mean_squared_error: 2.7549e-04\n",
            "Epoch 14/20\n",
            "40/40 [==============================] - 1s 13ms/step - loss: 2.5488e-04 - accuracy: 0.0000e+00 - mean_squared_error: 2.5488e-04 - val_loss: 2.8051e-04 - val_accuracy: 0.0000e+00 - val_mean_squared_error: 2.8051e-04\n",
            "Epoch 15/20\n",
            "40/40 [==============================] - 1s 13ms/step - loss: 2.5418e-04 - accuracy: 0.0000e+00 - mean_squared_error: 2.5418e-04 - val_loss: 2.7834e-04 - val_accuracy: 0.0000e+00 - val_mean_squared_error: 2.7834e-04\n",
            "Epoch 16/20\n",
            "40/40 [==============================] - 1s 13ms/step - loss: 2.5094e-04 - accuracy: 0.0000e+00 - mean_squared_error: 2.5094e-04 - val_loss: 2.6001e-04 - val_accuracy: 0.0000e+00 - val_mean_squared_error: 2.6001e-04\n",
            "Epoch 17/20\n",
            "40/40 [==============================] - 1s 13ms/step - loss: 2.4331e-04 - accuracy: 0.0000e+00 - mean_squared_error: 2.4331e-04 - val_loss: 2.5046e-04 - val_accuracy: 0.0000e+00 - val_mean_squared_error: 2.5046e-04\n",
            "Epoch 18/20\n",
            "40/40 [==============================] - 1s 13ms/step - loss: 2.3879e-04 - accuracy: 0.0000e+00 - mean_squared_error: 2.3879e-04 - val_loss: 2.4538e-04 - val_accuracy: 0.0000e+00 - val_mean_squared_error: 2.4538e-04\n",
            "Epoch 19/20\n",
            "40/40 [==============================] - 1s 13ms/step - loss: 2.3488e-04 - accuracy: 0.0000e+00 - mean_squared_error: 2.3488e-04 - val_loss: 2.4401e-04 - val_accuracy: 0.0000e+00 - val_mean_squared_error: 2.4401e-04\n",
            "Epoch 20/20\n",
            "40/40 [==============================] - 1s 13ms/step - loss: 2.3193e-04 - accuracy: 0.0000e+00 - mean_squared_error: 2.3193e-04 - val_loss: 2.4461e-04 - val_accuracy: 0.0000e+00 - val_mean_squared_error: 2.4461e-04\n",
            "32/32 [==============================] - 0s 1ms/step\n",
            "0.4534878508128584 0.01550719 2.058598\n",
            "0.49770235643321115\n",
            "Epoch 1/20\n"
          ]
        },
        {
          "name": "stderr",
          "output_type": "stream",
          "text": [
            "2023-12-06 22:41:38.491248: I tensorflow/core/common_runtime/gpu/gpu_device.cc:1886] Created device /device:GPU:0 with 20609 MB memory:  -> device: 0, name: NVIDIA L4, pci bus id: 0000:00:03.0, compute capability: 8.9\n"
          ]
        },
        {
          "name": "stdout",
          "output_type": "stream",
          "text": [
            "     31/Unknown - 1s 5ms/step - loss: 0.0044 - accuracy: 0.0000e+00 - mean_squared_error: 0.0044"
          ]
        },
        {
          "name": "stderr",
          "output_type": "stream",
          "text": [
            "2023-12-06 22:41:39.792778: I tensorflow/core/framework/local_rendezvous.cc:425] Local rendezvous send item cancelled. Key hash: 3632331790298042566\n",
            "2023-12-06 22:41:39.792838: I tensorflow/core/framework/local_rendezvous.cc:425] Local rendezvous send item cancelled. Key hash: 15332740285842878431\n",
            "2023-12-06 22:41:39.792865: I tensorflow/core/framework/local_rendezvous.cc:421] Local rendezvous recv item cancelled. Key hash: 12749084622472637211\n",
            "2023-12-06 22:41:39.792872: I tensorflow/core/framework/local_rendezvous.cc:421] Local rendezvous recv item cancelled. Key hash: 10316076964217112533\n"
          ]
        },
        {
          "name": "stdout",
          "output_type": "stream",
          "text": [
            "40/40 [==============================] - 2s 16ms/step - loss: 0.0037 - accuracy: 0.0000e+00 - mean_squared_error: 0.0037 - val_loss: 8.4872e-04 - val_accuracy: 0.0000e+00 - val_mean_squared_error: 8.4872e-04\n",
            "Epoch 2/20\n",
            "31/40 [======================>.......] - ETA: 0s - loss: 5.6233e-04 - accuracy: 0.0000e+00 - mean_squared_error: 5.6233e-04"
          ]
        },
        {
          "name": "stderr",
          "output_type": "stream",
          "text": [
            "2023-12-06 22:41:40.217010: I tensorflow/core/framework/local_rendezvous.cc:421] Local rendezvous recv item cancelled. Key hash: 12749084622472637211\n",
            "2023-12-06 22:41:40.217064: I tensorflow/core/framework/local_rendezvous.cc:421] Local rendezvous recv item cancelled. Key hash: 10316076964217112533\n"
          ]
        },
        {
          "name": "stdout",
          "output_type": "stream",
          "text": [
            "40/40 [==============================] - 0s 12ms/step - loss: 5.4634e-04 - accuracy: 0.0000e+00 - mean_squared_error: 5.4634e-04 - val_loss: 4.8007e-04 - val_accuracy: 0.0000e+00 - val_mean_squared_error: 4.8007e-04\n",
            "Epoch 3/20\n",
            "40/40 [==============================] - 0s 12ms/step - loss: 4.7279e-04 - accuracy: 0.0000e+00 - mean_squared_error: 4.7279e-04 - val_loss: 4.5207e-04 - val_accuracy: 0.0000e+00 - val_mean_squared_error: 4.5207e-04\n",
            "Epoch 4/20\n",
            "40/40 [==============================] - 1s 13ms/step - loss: 4.4415e-04 - accuracy: 0.0000e+00 - mean_squared_error: 4.4415e-04 - val_loss: 4.3590e-04 - val_accuracy: 0.0000e+00 - val_mean_squared_error: 4.3590e-04\n",
            "Epoch 5/20\n",
            "40/40 [==============================] - 1s 14ms/step - loss: 4.1961e-04 - accuracy: 0.0000e+00 - mean_squared_error: 4.1961e-04 - val_loss: 4.1492e-04 - val_accuracy: 0.0000e+00 - val_mean_squared_error: 4.1492e-04\n",
            "Epoch 6/20\n",
            "40/40 [==============================] - 1s 13ms/step - loss: 3.9832e-04 - accuracy: 0.0000e+00 - mean_squared_error: 3.9832e-04 - val_loss: 3.8818e-04 - val_accuracy: 0.0000e+00 - val_mean_squared_error: 3.8818e-04\n",
            "Epoch 7/20\n",
            "40/40 [==============================] - 1s 14ms/step - loss: 3.8001e-04 - accuracy: 0.0000e+00 - mean_squared_error: 3.8001e-04 - val_loss: 3.6913e-04 - val_accuracy: 0.0000e+00 - val_mean_squared_error: 3.6913e-04\n",
            "Epoch 8/20\n",
            "40/40 [==============================] - 1s 13ms/step - loss: 3.6553e-04 - accuracy: 0.0000e+00 - mean_squared_error: 3.6553e-04 - val_loss: 3.5254e-04 - val_accuracy: 0.0000e+00 - val_mean_squared_error: 3.5254e-04\n",
            "Epoch 9/20\n",
            "40/40 [==============================] - 1s 13ms/step - loss: 3.5230e-04 - accuracy: 0.0000e+00 - mean_squared_error: 3.5230e-04 - val_loss: 3.4168e-04 - val_accuracy: 0.0000e+00 - val_mean_squared_error: 3.4168e-04\n",
            "Epoch 10/20\n",
            "40/40 [==============================] - 0s 13ms/step - loss: 3.4230e-04 - accuracy: 0.0000e+00 - mean_squared_error: 3.4230e-04 - val_loss: 3.4822e-04 - val_accuracy: 0.0000e+00 - val_mean_squared_error: 3.4822e-04\n",
            "Epoch 11/20\n",
            "40/40 [==============================] - 1s 13ms/step - loss: 3.3779e-04 - accuracy: 0.0000e+00 - mean_squared_error: 3.3779e-04 - val_loss: 3.6570e-04 - val_accuracy: 0.0000e+00 - val_mean_squared_error: 3.6570e-04\n",
            "Epoch 12/20\n",
            "40/40 [==============================] - 1s 13ms/step - loss: 3.3222e-04 - accuracy: 0.0000e+00 - mean_squared_error: 3.3222e-04 - val_loss: 3.8357e-04 - val_accuracy: 0.0000e+00 - val_mean_squared_error: 3.8357e-04\n",
            "Epoch 13/20\n",
            "40/40 [==============================] - 1s 13ms/step - loss: 3.2447e-04 - accuracy: 0.0000e+00 - mean_squared_error: 3.2447e-04 - val_loss: 3.5370e-04 - val_accuracy: 0.0000e+00 - val_mean_squared_error: 3.5370e-04\n",
            "Epoch 14/20\n",
            "40/40 [==============================] - 1s 13ms/step - loss: 3.1589e-04 - accuracy: 0.0000e+00 - mean_squared_error: 3.1589e-04 - val_loss: 3.5374e-04 - val_accuracy: 0.0000e+00 - val_mean_squared_error: 3.5374e-04\n",
            "Epoch 15/20\n",
            "40/40 [==============================] - 1s 13ms/step - loss: 3.1433e-04 - accuracy: 0.0000e+00 - mean_squared_error: 3.1433e-04 - val_loss: 3.5332e-04 - val_accuracy: 0.0000e+00 - val_mean_squared_error: 3.5332e-04\n",
            "Epoch 16/20\n",
            "40/40 [==============================] - 1s 13ms/step - loss: 3.1627e-04 - accuracy: 0.0000e+00 - mean_squared_error: 3.1627e-04 - val_loss: 3.2132e-04 - val_accuracy: 0.0000e+00 - val_mean_squared_error: 3.2132e-04\n",
            "Epoch 17/20\n",
            "40/40 [==============================] - 1s 13ms/step - loss: 3.1004e-04 - accuracy: 0.0000e+00 - mean_squared_error: 3.1004e-04 - val_loss: 2.8955e-04 - val_accuracy: 0.0000e+00 - val_mean_squared_error: 2.8955e-04\n",
            "Epoch 18/20\n",
            "40/40 [==============================] - 1s 13ms/step - loss: 2.9555e-04 - accuracy: 0.0000e+00 - mean_squared_error: 2.9555e-04 - val_loss: 2.8426e-04 - val_accuracy: 0.0000e+00 - val_mean_squared_error: 2.8426e-04\n",
            "Epoch 19/20\n",
            "40/40 [==============================] - 1s 13ms/step - loss: 2.8724e-04 - accuracy: 0.0000e+00 - mean_squared_error: 2.8724e-04 - val_loss: 2.8395e-04 - val_accuracy: 0.0000e+00 - val_mean_squared_error: 2.8395e-04\n",
            "Epoch 20/20\n",
            "40/40 [==============================] - 1s 14ms/step - loss: 2.8330e-04 - accuracy: 0.0000e+00 - mean_squared_error: 2.8330e-04 - val_loss: 2.8012e-04 - val_accuracy: 0.0000e+00 - val_mean_squared_error: 2.8012e-04\n",
            "32/32 [==============================] - 0s 1ms/step\n",
            "0.49770235643321115 0.016082397 2.0292132\n",
            "0.5462277217684343\n",
            "Epoch 1/20\n"
          ]
        },
        {
          "name": "stderr",
          "output_type": "stream",
          "text": [
            "2023-12-06 22:41:50.651089: I tensorflow/core/common_runtime/gpu/gpu_device.cc:1886] Created device /device:GPU:0 with 20609 MB memory:  -> device: 0, name: NVIDIA L4, pci bus id: 0000:00:03.0, compute capability: 8.9\n"
          ]
        },
        {
          "name": "stdout",
          "output_type": "stream",
          "text": [
            "40/40 [==============================] - 2s 17ms/step - loss: 0.0033 - accuracy: 0.0000e+00 - mean_squared_error: 0.0033 - val_loss: 5.7380e-04 - val_accuracy: 0.0000e+00 - val_mean_squared_error: 5.7380e-04\n",
            "Epoch 2/20\n",
            "32/40 [=======================>......] - ETA: 0s - loss: 6.3709e-04 - accuracy: 0.0000e+00 - mean_squared_error: 6.3709e-04"
          ]
        },
        {
          "name": "stderr",
          "output_type": "stream",
          "text": [
            "2023-12-06 22:41:52.426822: I tensorflow/core/framework/local_rendezvous.cc:421] Local rendezvous recv item cancelled. Key hash: 12749084622472637211\n",
            "2023-12-06 22:41:52.426880: I tensorflow/core/framework/local_rendezvous.cc:421] Local rendezvous recv item cancelled. Key hash: 10316076964217112533\n"
          ]
        },
        {
          "name": "stdout",
          "output_type": "stream",
          "text": [
            "40/40 [==============================] - 1s 13ms/step - loss: 6.2452e-04 - accuracy: 0.0000e+00 - mean_squared_error: 6.2452e-04 - val_loss: 5.2227e-04 - val_accuracy: 0.0000e+00 - val_mean_squared_error: 5.2227e-04\n",
            "Epoch 3/20\n",
            "40/40 [==============================] - 1s 14ms/step - loss: 5.3645e-04 - accuracy: 0.0000e+00 - mean_squared_error: 5.3645e-04 - val_loss: 5.3625e-04 - val_accuracy: 0.0000e+00 - val_mean_squared_error: 5.3625e-04\n",
            "Epoch 4/20\n",
            "40/40 [==============================] - 1s 13ms/step - loss: 5.0920e-04 - accuracy: 0.0000e+00 - mean_squared_error: 5.0920e-04 - val_loss: 5.0082e-04 - val_accuracy: 0.0000e+00 - val_mean_squared_error: 5.0082e-04\n",
            "Epoch 5/20\n",
            "40/40 [==============================] - 1s 13ms/step - loss: 4.8375e-04 - accuracy: 0.0000e+00 - mean_squared_error: 4.8375e-04 - val_loss: 4.7257e-04 - val_accuracy: 0.0000e+00 - val_mean_squared_error: 4.7257e-04\n",
            "Epoch 6/20\n",
            "40/40 [==============================] - 1s 13ms/step - loss: 4.6101e-04 - accuracy: 0.0000e+00 - mean_squared_error: 4.6101e-04 - val_loss: 4.6427e-04 - val_accuracy: 0.0000e+00 - val_mean_squared_error: 4.6427e-04\n",
            "Epoch 7/20\n",
            "40/40 [==============================] - 1s 13ms/step - loss: 4.4444e-04 - accuracy: 0.0000e+00 - mean_squared_error: 4.4444e-04 - val_loss: 4.9762e-04 - val_accuracy: 0.0000e+00 - val_mean_squared_error: 4.9762e-04\n",
            "Epoch 8/20\n",
            "40/40 [==============================] - 1s 13ms/step - loss: 4.3028e-04 - accuracy: 0.0000e+00 - mean_squared_error: 4.3028e-04 - val_loss: 4.7327e-04 - val_accuracy: 0.0000e+00 - val_mean_squared_error: 4.7327e-04\n",
            "Epoch 9/20\n",
            "40/40 [==============================] - 1s 13ms/step - loss: 4.1286e-04 - accuracy: 0.0000e+00 - mean_squared_error: 4.1286e-04 - val_loss: 4.6031e-04 - val_accuracy: 0.0000e+00 - val_mean_squared_error: 4.6031e-04\n",
            "Epoch 10/20\n",
            "40/40 [==============================] - 1s 13ms/step - loss: 4.0175e-04 - accuracy: 0.0000e+00 - mean_squared_error: 4.0175e-04 - val_loss: 4.6622e-04 - val_accuracy: 0.0000e+00 - val_mean_squared_error: 4.6622e-04\n",
            "Epoch 11/20\n",
            "40/40 [==============================] - 1s 13ms/step - loss: 3.9468e-04 - accuracy: 0.0000e+00 - mean_squared_error: 3.9468e-04 - val_loss: 4.1231e-04 - val_accuracy: 0.0000e+00 - val_mean_squared_error: 4.1231e-04\n",
            "Epoch 12/20\n",
            "40/40 [==============================] - 1s 13ms/step - loss: 3.7597e-04 - accuracy: 0.0000e+00 - mean_squared_error: 3.7597e-04 - val_loss: 3.8760e-04 - val_accuracy: 0.0000e+00 - val_mean_squared_error: 3.8760e-04\n",
            "Epoch 13/20\n",
            "40/40 [==============================] - 1s 13ms/step - loss: 3.6276e-04 - accuracy: 0.0000e+00 - mean_squared_error: 3.6276e-04 - val_loss: 3.7275e-04 - val_accuracy: 0.0000e+00 - val_mean_squared_error: 3.7275e-04\n",
            "Epoch 14/20\n",
            "40/40 [==============================] - 1s 13ms/step - loss: 3.5409e-04 - accuracy: 0.0000e+00 - mean_squared_error: 3.5409e-04 - val_loss: 3.6359e-04 - val_accuracy: 0.0000e+00 - val_mean_squared_error: 3.6359e-04\n",
            "Epoch 15/20\n",
            "40/40 [==============================] - 0s 13ms/step - loss: 3.4707e-04 - accuracy: 0.0000e+00 - mean_squared_error: 3.4707e-04 - val_loss: 3.5306e-04 - val_accuracy: 0.0000e+00 - val_mean_squared_error: 3.5306e-04\n",
            "Epoch 16/20\n",
            "40/40 [==============================] - 1s 13ms/step - loss: 3.3764e-04 - accuracy: 0.0000e+00 - mean_squared_error: 3.3764e-04 - val_loss: 3.5700e-04 - val_accuracy: 0.0000e+00 - val_mean_squared_error: 3.5700e-04\n",
            "Epoch 17/20\n",
            "40/40 [==============================] - 1s 13ms/step - loss: 3.3125e-04 - accuracy: 0.0000e+00 - mean_squared_error: 3.3125e-04 - val_loss: 3.7169e-04 - val_accuracy: 0.0000e+00 - val_mean_squared_error: 3.7169e-04\n",
            "Epoch 18/20\n",
            "40/40 [==============================] - 1s 13ms/step - loss: 3.2599e-04 - accuracy: 0.0000e+00 - mean_squared_error: 3.2599e-04 - val_loss: 3.9220e-04 - val_accuracy: 0.0000e+00 - val_mean_squared_error: 3.9220e-04\n",
            "Epoch 19/20\n",
            "40/40 [==============================] - 1s 13ms/step - loss: 3.2215e-04 - accuracy: 0.0000e+00 - mean_squared_error: 3.2215e-04 - val_loss: 3.7936e-04 - val_accuracy: 0.0000e+00 - val_mean_squared_error: 3.7936e-04\n",
            "Epoch 20/20\n",
            "40/40 [==============================] - 0s 13ms/step - loss: 3.1540e-04 - accuracy: 0.0000e+00 - mean_squared_error: 3.1540e-04 - val_loss: 3.7131e-04 - val_accuracy: 0.0000e+00 - val_mean_squared_error: 3.7131e-04\n",
            "32/32 [==============================] - 0s 1ms/step\n",
            "0.5462277217684343 0.02040839 2.0539122\n",
            "0.5994842503189411\n",
            "Epoch 1/20\n"
          ]
        },
        {
          "name": "stderr",
          "output_type": "stream",
          "text": [
            "2023-12-06 22:42:02.854013: I tensorflow/core/common_runtime/gpu/gpu_device.cc:1886] Created device /device:GPU:0 with 20609 MB memory:  -> device: 0, name: NVIDIA L4, pci bus id: 0000:00:03.0, compute capability: 8.9\n"
          ]
        },
        {
          "name": "stdout",
          "output_type": "stream",
          "text": [
            "     31/Unknown - 1s 5ms/step - loss: 0.0032 - accuracy: 0.0000e+00 - mean_squared_error: 0.0032"
          ]
        },
        {
          "name": "stderr",
          "output_type": "stream",
          "text": [
            "2023-12-06 22:42:04.165614: I tensorflow/core/framework/local_rendezvous.cc:421] Local rendezvous recv item cancelled. Key hash: 12749084622472637211\n",
            "2023-12-06 22:42:04.165673: I tensorflow/core/framework/local_rendezvous.cc:421] Local rendezvous recv item cancelled. Key hash: 10316076964217112533\n"
          ]
        },
        {
          "name": "stdout",
          "output_type": "stream",
          "text": [
            "40/40 [==============================] - 2s 16ms/step - loss: 0.0027 - accuracy: 0.0000e+00 - mean_squared_error: 0.0027 - val_loss: 6.8364e-04 - val_accuracy: 0.0000e+00 - val_mean_squared_error: 6.8364e-04\n",
            "Epoch 2/20\n",
            "29/40 [====================>.........] - ETA: 0s - loss: 6.1400e-04 - accuracy: 0.0000e+00 - mean_squared_error: 6.1400e-04"
          ]
        },
        {
          "name": "stderr",
          "output_type": "stream",
          "text": [
            "2023-12-06 22:42:04.582202: I tensorflow/core/framework/local_rendezvous.cc:421] Local rendezvous recv item cancelled. Key hash: 12749084622472637211\n",
            "2023-12-06 22:42:04.582255: I tensorflow/core/framework/local_rendezvous.cc:421] Local rendezvous recv item cancelled. Key hash: 10316076964217112533\n"
          ]
        },
        {
          "name": "stdout",
          "output_type": "stream",
          "text": [
            "40/40 [==============================] - 1s 13ms/step - loss: 6.0305e-04 - accuracy: 0.0000e+00 - mean_squared_error: 6.0305e-04 - val_loss: 5.3411e-04 - val_accuracy: 0.0000e+00 - val_mean_squared_error: 5.3411e-04\n",
            "Epoch 3/20\n",
            "40/40 [==============================] - 1s 13ms/step - loss: 5.3681e-04 - accuracy: 0.0000e+00 - mean_squared_error: 5.3681e-04 - val_loss: 5.0609e-04 - val_accuracy: 0.0000e+00 - val_mean_squared_error: 5.0609e-04\n",
            "Epoch 4/20\n",
            "40/40 [==============================] - 1s 14ms/step - loss: 5.0449e-04 - accuracy: 0.0000e+00 - mean_squared_error: 5.0449e-04 - val_loss: 4.8792e-04 - val_accuracy: 0.0000e+00 - val_mean_squared_error: 4.8792e-04\n",
            "Epoch 5/20\n",
            "40/40 [==============================] - 1s 13ms/step - loss: 4.8199e-04 - accuracy: 0.0000e+00 - mean_squared_error: 4.8199e-04 - val_loss: 4.7400e-04 - val_accuracy: 0.0000e+00 - val_mean_squared_error: 4.7400e-04\n",
            "Epoch 6/20\n",
            "40/40 [==============================] - 1s 13ms/step - loss: 4.6247e-04 - accuracy: 0.0000e+00 - mean_squared_error: 4.6247e-04 - val_loss: 4.6199e-04 - val_accuracy: 0.0000e+00 - val_mean_squared_error: 4.6199e-04\n",
            "Epoch 7/20\n",
            "40/40 [==============================] - 1s 13ms/step - loss: 4.5000e-04 - accuracy: 0.0000e+00 - mean_squared_error: 4.5000e-04 - val_loss: 4.4393e-04 - val_accuracy: 0.0000e+00 - val_mean_squared_error: 4.4393e-04\n",
            "Epoch 8/20\n",
            "40/40 [==============================] - 1s 13ms/step - loss: 4.3984e-04 - accuracy: 0.0000e+00 - mean_squared_error: 4.3984e-04 - val_loss: 4.1473e-04 - val_accuracy: 0.0000e+00 - val_mean_squared_error: 4.1473e-04\n",
            "Epoch 9/20\n",
            "40/40 [==============================] - 1s 13ms/step - loss: 4.2202e-04 - accuracy: 0.0000e+00 - mean_squared_error: 4.2202e-04 - val_loss: 4.2990e-04 - val_accuracy: 0.0000e+00 - val_mean_squared_error: 4.2990e-04\n",
            "Epoch 10/20\n",
            "40/40 [==============================] - 1s 13ms/step - loss: 4.1616e-04 - accuracy: 0.0000e+00 - mean_squared_error: 4.1616e-04 - val_loss: 4.5778e-04 - val_accuracy: 0.0000e+00 - val_mean_squared_error: 4.5778e-04\n",
            "Epoch 11/20\n",
            "40/40 [==============================] - 1s 13ms/step - loss: 4.1796e-04 - accuracy: 0.0000e+00 - mean_squared_error: 4.1796e-04 - val_loss: 5.0115e-04 - val_accuracy: 0.0000e+00 - val_mean_squared_error: 5.0115e-04\n",
            "Epoch 12/20\n",
            "40/40 [==============================] - 1s 13ms/step - loss: 4.1831e-04 - accuracy: 0.0000e+00 - mean_squared_error: 4.1831e-04 - val_loss: 4.4170e-04 - val_accuracy: 0.0000e+00 - val_mean_squared_error: 4.4170e-04\n",
            "Epoch 13/20\n",
            "40/40 [==============================] - 1s 13ms/step - loss: 3.9502e-04 - accuracy: 0.0000e+00 - mean_squared_error: 3.9502e-04 - val_loss: 3.9656e-04 - val_accuracy: 0.0000e+00 - val_mean_squared_error: 3.9656e-04\n",
            "Epoch 14/20\n",
            "40/40 [==============================] - 1s 13ms/step - loss: 3.7821e-04 - accuracy: 0.0000e+00 - mean_squared_error: 3.7821e-04 - val_loss: 3.9757e-04 - val_accuracy: 0.0000e+00 - val_mean_squared_error: 3.9757e-04\n",
            "Epoch 15/20\n",
            "40/40 [==============================] - 1s 14ms/step - loss: 3.7064e-04 - accuracy: 0.0000e+00 - mean_squared_error: 3.7064e-04 - val_loss: 4.1295e-04 - val_accuracy: 0.0000e+00 - val_mean_squared_error: 4.1295e-04\n",
            "Epoch 16/20\n",
            "40/40 [==============================] - 1s 13ms/step - loss: 3.6428e-04 - accuracy: 0.0000e+00 - mean_squared_error: 3.6428e-04 - val_loss: 4.0804e-04 - val_accuracy: 0.0000e+00 - val_mean_squared_error: 4.0804e-04\n",
            "Epoch 17/20\n",
            "40/40 [==============================] - 1s 13ms/step - loss: 3.6036e-04 - accuracy: 0.0000e+00 - mean_squared_error: 3.6036e-04 - val_loss: 4.1226e-04 - val_accuracy: 0.0000e+00 - val_mean_squared_error: 4.1226e-04\n",
            "Epoch 18/20\n",
            "40/40 [==============================] - 1s 13ms/step - loss: 3.6139e-04 - accuracy: 0.0000e+00 - mean_squared_error: 3.6139e-04 - val_loss: 4.5472e-04 - val_accuracy: 0.0000e+00 - val_mean_squared_error: 4.5472e-04\n",
            "Epoch 19/20\n",
            "40/40 [==============================] - 1s 13ms/step - loss: 3.6839e-04 - accuracy: 0.0000e+00 - mean_squared_error: 3.6839e-04 - val_loss: 4.6925e-04 - val_accuracy: 0.0000e+00 - val_mean_squared_error: 4.6925e-04\n",
            "Epoch 20/20\n",
            "40/40 [==============================] - 1s 14ms/step - loss: 3.6814e-04 - accuracy: 0.0000e+00 - mean_squared_error: 3.6814e-04 - val_loss: 4.2771e-04 - val_accuracy: 0.0000e+00 - val_mean_squared_error: 4.2771e-04\n",
            "32/32 [==============================] - 0s 1ms/step\n",
            "0.5994842503189411 0.01927303 2.0258715\n",
            "0.6579332246575682\n",
            "Epoch 1/20\n"
          ]
        },
        {
          "name": "stderr",
          "output_type": "stream",
          "text": [
            "2023-12-06 22:42:15.076252: I tensorflow/core/common_runtime/gpu/gpu_device.cc:1886] Created device /device:GPU:0 with 20609 MB memory:  -> device: 0, name: NVIDIA L4, pci bus id: 0000:00:03.0, compute capability: 8.9\n"
          ]
        },
        {
          "name": "stdout",
          "output_type": "stream",
          "text": [
            "     31/Unknown - 1s 5ms/step - loss: 0.0029 - accuracy: 0.0000e+00 - mean_squared_error: 0.0029"
          ]
        },
        {
          "name": "stderr",
          "output_type": "stream",
          "text": [
            "2023-12-06 22:42:16.387866: I tensorflow/core/framework/local_rendezvous.cc:421] Local rendezvous recv item cancelled. Key hash: 12749084622472637211\n",
            "2023-12-06 22:42:16.387924: I tensorflow/core/framework/local_rendezvous.cc:421] Local rendezvous recv item cancelled. Key hash: 10316076964217112533\n"
          ]
        },
        {
          "name": "stdout",
          "output_type": "stream",
          "text": [
            "40/40 [==============================] - 2s 16ms/step - loss: 0.0025 - accuracy: 0.0000e+00 - mean_squared_error: 0.0025 - val_loss: 6.2868e-04 - val_accuracy: 0.0000e+00 - val_mean_squared_error: 6.2868e-04\n",
            "Epoch 2/20\n",
            "31/40 [======================>.......] - ETA: 0s - loss: 5.5059e-04 - accuracy: 0.0000e+00 - mean_squared_error: 5.5059e-04"
          ]
        },
        {
          "name": "stderr",
          "output_type": "stream",
          "text": [
            "2023-12-06 22:42:16.800271: I tensorflow/core/framework/local_rendezvous.cc:421] Local rendezvous recv item cancelled. Key hash: 12749084622472637211\n",
            "2023-12-06 22:42:16.800326: I tensorflow/core/framework/local_rendezvous.cc:421] Local rendezvous recv item cancelled. Key hash: 10316076964217112533\n"
          ]
        },
        {
          "name": "stdout",
          "output_type": "stream",
          "text": [
            "40/40 [==============================] - 1s 14ms/step - loss: 5.4383e-04 - accuracy: 0.0000e+00 - mean_squared_error: 5.4383e-04 - val_loss: 5.2126e-04 - val_accuracy: 0.0000e+00 - val_mean_squared_error: 5.2126e-04\n",
            "Epoch 3/20\n",
            "40/40 [==============================] - 0s 13ms/step - loss: 5.0828e-04 - accuracy: 0.0000e+00 - mean_squared_error: 5.0828e-04 - val_loss: 5.3613e-04 - val_accuracy: 0.0000e+00 - val_mean_squared_error: 5.3613e-04\n",
            "Epoch 4/20\n",
            "40/40 [==============================] - 1s 14ms/step - loss: 4.9023e-04 - accuracy: 0.0000e+00 - mean_squared_error: 4.9023e-04 - val_loss: 4.9244e-04 - val_accuracy: 0.0000e+00 - val_mean_squared_error: 4.9244e-04\n",
            "Epoch 5/20\n",
            "40/40 [==============================] - 1s 13ms/step - loss: 4.8556e-04 - accuracy: 0.0000e+00 - mean_squared_error: 4.8556e-04 - val_loss: 4.6607e-04 - val_accuracy: 0.0000e+00 - val_mean_squared_error: 4.6607e-04\n",
            "Epoch 6/20\n",
            "40/40 [==============================] - 1s 13ms/step - loss: 4.6355e-04 - accuracy: 0.0000e+00 - mean_squared_error: 4.6355e-04 - val_loss: 4.4959e-04 - val_accuracy: 0.0000e+00 - val_mean_squared_error: 4.4959e-04\n",
            "Epoch 7/20\n",
            "40/40 [==============================] - 1s 13ms/step - loss: 4.4527e-04 - accuracy: 0.0000e+00 - mean_squared_error: 4.4527e-04 - val_loss: 4.3669e-04 - val_accuracy: 0.0000e+00 - val_mean_squared_error: 4.3669e-04\n",
            "Epoch 8/20\n",
            "40/40 [==============================] - 1s 13ms/step - loss: 4.3488e-04 - accuracy: 0.0000e+00 - mean_squared_error: 4.3488e-04 - val_loss: 4.3025e-04 - val_accuracy: 0.0000e+00 - val_mean_squared_error: 4.3025e-04\n",
            "Epoch 9/20\n",
            "40/40 [==============================] - 1s 13ms/step - loss: 4.2396e-04 - accuracy: 0.0000e+00 - mean_squared_error: 4.2396e-04 - val_loss: 4.4502e-04 - val_accuracy: 0.0000e+00 - val_mean_squared_error: 4.4502e-04\n",
            "Epoch 10/20\n",
            "40/40 [==============================] - 1s 13ms/step - loss: 4.1758e-04 - accuracy: 0.0000e+00 - mean_squared_error: 4.1758e-04 - val_loss: 4.5357e-04 - val_accuracy: 0.0000e+00 - val_mean_squared_error: 4.5357e-04\n",
            "Epoch 11/20\n",
            "40/40 [==============================] - 1s 13ms/step - loss: 4.0985e-04 - accuracy: 0.0000e+00 - mean_squared_error: 4.0985e-04 - val_loss: 4.2079e-04 - val_accuracy: 0.0000e+00 - val_mean_squared_error: 4.2079e-04\n",
            "Epoch 12/20\n",
            "40/40 [==============================] - 1s 13ms/step - loss: 4.0109e-04 - accuracy: 0.0000e+00 - mean_squared_error: 4.0109e-04 - val_loss: 4.1361e-04 - val_accuracy: 0.0000e+00 - val_mean_squared_error: 4.1361e-04\n",
            "Epoch 13/20\n",
            "40/40 [==============================] - 0s 12ms/step - loss: 3.9705e-04 - accuracy: 0.0000e+00 - mean_squared_error: 3.9705e-04 - val_loss: 3.9091e-04 - val_accuracy: 0.0000e+00 - val_mean_squared_error: 3.9091e-04\n",
            "Epoch 14/20\n",
            "40/40 [==============================] - 1s 13ms/step - loss: 3.9079e-04 - accuracy: 0.0000e+00 - mean_squared_error: 3.9079e-04 - val_loss: 3.8058e-04 - val_accuracy: 0.0000e+00 - val_mean_squared_error: 3.8058e-04\n",
            "Epoch 15/20\n",
            "40/40 [==============================] - 1s 13ms/step - loss: 3.8727e-04 - accuracy: 0.0000e+00 - mean_squared_error: 3.8727e-04 - val_loss: 3.7477e-04 - val_accuracy: 0.0000e+00 - val_mean_squared_error: 3.7477e-04\n",
            "Epoch 16/20\n",
            "40/40 [==============================] - 1s 13ms/step - loss: 3.9218e-04 - accuracy: 0.0000e+00 - mean_squared_error: 3.9218e-04 - val_loss: 3.8904e-04 - val_accuracy: 0.0000e+00 - val_mean_squared_error: 3.8904e-04\n",
            "Epoch 17/20\n",
            "40/40 [==============================] - 1s 13ms/step - loss: 3.9306e-04 - accuracy: 0.0000e+00 - mean_squared_error: 3.9306e-04 - val_loss: 4.2885e-04 - val_accuracy: 0.0000e+00 - val_mean_squared_error: 4.2885e-04\n",
            "Epoch 18/20\n",
            "40/40 [==============================] - 1s 14ms/step - loss: 3.8245e-04 - accuracy: 0.0000e+00 - mean_squared_error: 3.8245e-04 - val_loss: 4.2814e-04 - val_accuracy: 0.0000e+00 - val_mean_squared_error: 4.2814e-04\n",
            "Epoch 19/20\n",
            "40/40 [==============================] - 1s 14ms/step - loss: 3.6624e-04 - accuracy: 0.0000e+00 - mean_squared_error: 3.6624e-04 - val_loss: 3.7828e-04 - val_accuracy: 0.0000e+00 - val_mean_squared_error: 3.7828e-04\n",
            "Epoch 20/20\n",
            "40/40 [==============================] - 1s 13ms/step - loss: 3.5489e-04 - accuracy: 0.0000e+00 - mean_squared_error: 3.5489e-04 - val_loss: 3.6024e-04 - val_accuracy: 0.0000e+00 - val_mean_squared_error: 3.6024e-04\n",
            "32/32 [==============================] - 0s 1ms/step\n",
            "0.6579332246575682 0.01844984 2.0461001\n",
            "0.7220809018385468\n",
            "Epoch 1/20\n"
          ]
        },
        {
          "name": "stderr",
          "output_type": "stream",
          "text": [
            "2023-12-06 22:42:27.392299: I tensorflow/core/common_runtime/gpu/gpu_device.cc:1886] Created device /device:GPU:0 with 20609 MB memory:  -> device: 0, name: NVIDIA L4, pci bus id: 0000:00:03.0, compute capability: 8.9\n"
          ]
        },
        {
          "name": "stdout",
          "output_type": "stream",
          "text": [
            "     31/Unknown - 1s 5ms/step - loss: 0.0031 - accuracy: 0.0000e+00 - mean_squared_error: 0.0031"
          ]
        },
        {
          "name": "stderr",
          "output_type": "stream",
          "text": [
            "2023-12-06 22:42:28.719443: I tensorflow/core/framework/local_rendezvous.cc:421] Local rendezvous recv item cancelled. Key hash: 12749084622472637211\n"
          ]
        },
        {
          "name": "stdout",
          "output_type": "stream",
          "text": [
            "40/40 [==============================] - 2s 16ms/step - loss: 0.0026 - accuracy: 0.0000e+00 - mean_squared_error: 0.0026 - val_loss: 5.3611e-04 - val_accuracy: 0.0000e+00 - val_mean_squared_error: 5.3611e-04\n",
            "Epoch 2/20\n",
            "31/40 [======================>.......] - ETA: 0s - loss: 5.3352e-04 - accuracy: 0.0000e+00 - mean_squared_error: 5.3352e-04"
          ]
        },
        {
          "name": "stderr",
          "output_type": "stream",
          "text": [
            "2023-12-06 22:42:29.138426: I tensorflow/core/framework/local_rendezvous.cc:421] Local rendezvous recv item cancelled. Key hash: 12749084622472637211\n",
            "2023-12-06 22:42:29.138485: I tensorflow/core/framework/local_rendezvous.cc:421] Local rendezvous recv item cancelled. Key hash: 10316076964217112533\n"
          ]
        },
        {
          "name": "stdout",
          "output_type": "stream",
          "text": [
            "40/40 [==============================] - 1s 13ms/step - loss: 5.2709e-04 - accuracy: 0.0000e+00 - mean_squared_error: 5.2709e-04 - val_loss: 5.0071e-04 - val_accuracy: 0.0000e+00 - val_mean_squared_error: 5.0071e-04\n",
            "Epoch 3/20\n",
            "40/40 [==============================] - 1s 14ms/step - loss: 5.0159e-04 - accuracy: 0.0000e+00 - mean_squared_error: 5.0159e-04 - val_loss: 4.7773e-04 - val_accuracy: 0.0000e+00 - val_mean_squared_error: 4.7773e-04\n",
            "Epoch 4/20\n",
            "40/40 [==============================] - 1s 13ms/step - loss: 4.8806e-04 - accuracy: 0.0000e+00 - mean_squared_error: 4.8806e-04 - val_loss: 4.7890e-04 - val_accuracy: 0.0000e+00 - val_mean_squared_error: 4.7890e-04\n",
            "Epoch 5/20\n",
            "40/40 [==============================] - 1s 13ms/step - loss: 4.7826e-04 - accuracy: 0.0000e+00 - mean_squared_error: 4.7826e-04 - val_loss: 4.9560e-04 - val_accuracy: 0.0000e+00 - val_mean_squared_error: 4.9560e-04\n",
            "Epoch 6/20\n",
            "40/40 [==============================] - 1s 13ms/step - loss: 4.6603e-04 - accuracy: 0.0000e+00 - mean_squared_error: 4.6603e-04 - val_loss: 4.7555e-04 - val_accuracy: 0.0000e+00 - val_mean_squared_error: 4.7555e-04\n",
            "Epoch 7/20\n",
            "40/40 [==============================] - 1s 13ms/step - loss: 4.5318e-04 - accuracy: 0.0000e+00 - mean_squared_error: 4.5318e-04 - val_loss: 4.4488e-04 - val_accuracy: 0.0000e+00 - val_mean_squared_error: 4.4488e-04\n",
            "Epoch 8/20\n",
            "40/40 [==============================] - 1s 13ms/step - loss: 4.4387e-04 - accuracy: 0.0000e+00 - mean_squared_error: 4.4387e-04 - val_loss: 4.2685e-04 - val_accuracy: 0.0000e+00 - val_mean_squared_error: 4.2685e-04\n",
            "Epoch 9/20\n",
            "40/40 [==============================] - 1s 13ms/step - loss: 4.3215e-04 - accuracy: 0.0000e+00 - mean_squared_error: 4.3215e-04 - val_loss: 4.2421e-04 - val_accuracy: 0.0000e+00 - val_mean_squared_error: 4.2421e-04\n",
            "Epoch 10/20\n",
            "40/40 [==============================] - 0s 13ms/step - loss: 4.2390e-04 - accuracy: 0.0000e+00 - mean_squared_error: 4.2390e-04 - val_loss: 4.1385e-04 - val_accuracy: 0.0000e+00 - val_mean_squared_error: 4.1385e-04\n",
            "Epoch 11/20\n",
            "40/40 [==============================] - 1s 13ms/step - loss: 4.1708e-04 - accuracy: 0.0000e+00 - mean_squared_error: 4.1708e-04 - val_loss: 4.0807e-04 - val_accuracy: 0.0000e+00 - val_mean_squared_error: 4.0807e-04\n",
            "Epoch 12/20\n",
            "40/40 [==============================] - 1s 13ms/step - loss: 4.1139e-04 - accuracy: 0.0000e+00 - mean_squared_error: 4.1139e-04 - val_loss: 4.0266e-04 - val_accuracy: 0.0000e+00 - val_mean_squared_error: 4.0266e-04\n",
            "Epoch 13/20\n",
            "40/40 [==============================] - 1s 13ms/step - loss: 4.0606e-04 - accuracy: 0.0000e+00 - mean_squared_error: 4.0606e-04 - val_loss: 3.9058e-04 - val_accuracy: 0.0000e+00 - val_mean_squared_error: 3.9058e-04\n",
            "Epoch 14/20\n",
            "40/40 [==============================] - 1s 13ms/step - loss: 4.0081e-04 - accuracy: 0.0000e+00 - mean_squared_error: 4.0081e-04 - val_loss: 3.8595e-04 - val_accuracy: 0.0000e+00 - val_mean_squared_error: 3.8595e-04\n",
            "Epoch 15/20\n",
            "40/40 [==============================] - 1s 13ms/step - loss: 3.9255e-04 - accuracy: 0.0000e+00 - mean_squared_error: 3.9255e-04 - val_loss: 3.8098e-04 - val_accuracy: 0.0000e+00 - val_mean_squared_error: 3.8098e-04\n",
            "Epoch 16/20\n",
            "40/40 [==============================] - 1s 13ms/step - loss: 3.8820e-04 - accuracy: 0.0000e+00 - mean_squared_error: 3.8820e-04 - val_loss: 3.7671e-04 - val_accuracy: 0.0000e+00 - val_mean_squared_error: 3.7671e-04\n",
            "Epoch 17/20\n",
            "40/40 [==============================] - 1s 13ms/step - loss: 3.8391e-04 - accuracy: 0.0000e+00 - mean_squared_error: 3.8391e-04 - val_loss: 3.9056e-04 - val_accuracy: 0.0000e+00 - val_mean_squared_error: 3.9056e-04\n",
            "Epoch 18/20\n",
            "40/40 [==============================] - 1s 13ms/step - loss: 3.8366e-04 - accuracy: 0.0000e+00 - mean_squared_error: 3.8366e-04 - val_loss: 4.5794e-04 - val_accuracy: 0.0000e+00 - val_mean_squared_error: 4.5794e-04\n",
            "Epoch 19/20\n",
            "40/40 [==============================] - 1s 13ms/step - loss: 3.9512e-04 - accuracy: 0.0000e+00 - mean_squared_error: 3.9512e-04 - val_loss: 5.1480e-04 - val_accuracy: 0.0000e+00 - val_mean_squared_error: 5.1480e-04\n",
            "Epoch 20/20\n",
            "40/40 [==============================] - 1s 13ms/step - loss: 4.0906e-04 - accuracy: 0.0000e+00 - mean_squared_error: 4.0906e-04 - val_loss: 5.8176e-04 - val_accuracy: 0.0000e+00 - val_mean_squared_error: 5.8176e-04\n",
            "32/32 [==============================] - 0s 1ms/step\n",
            "0.7220809018385468 0.02470192 2.1024923\n",
            "0.7924828983539177\n",
            "Epoch 1/20\n"
          ]
        },
        {
          "name": "stderr",
          "output_type": "stream",
          "text": [
            "2023-12-06 22:42:39.579404: I tensorflow/core/common_runtime/gpu/gpu_device.cc:1886] Created device /device:GPU:0 with 20609 MB memory:  -> device: 0, name: NVIDIA L4, pci bus id: 0000:00:03.0, compute capability: 8.9\n"
          ]
        },
        {
          "name": "stdout",
          "output_type": "stream",
          "text": [
            "     31/Unknown - 1s 5ms/step - loss: 0.0029 - accuracy: 0.0000e+00 - mean_squared_error: 0.0029"
          ]
        },
        {
          "name": "stderr",
          "output_type": "stream",
          "text": [
            "2023-12-06 22:42:40.884698: I tensorflow/core/framework/local_rendezvous.cc:421] Local rendezvous recv item cancelled. Key hash: 10316076964217112533\n"
          ]
        },
        {
          "name": "stdout",
          "output_type": "stream",
          "text": [
            "40/40 [==============================] - 2s 16ms/step - loss: 0.0025 - accuracy: 0.0000e+00 - mean_squared_error: 0.0025 - val_loss: 6.1219e-04 - val_accuracy: 0.0000e+00 - val_mean_squared_error: 6.1219e-04\n",
            "Epoch 2/20\n",
            "31/40 [======================>.......] - ETA: 0s - loss: 4.8649e-04 - accuracy: 0.0000e+00 - mean_squared_error: 4.8649e-04"
          ]
        },
        {
          "name": "stderr",
          "output_type": "stream",
          "text": [
            "2023-12-06 22:42:41.303823: I tensorflow/core/framework/local_rendezvous.cc:421] Local rendezvous recv item cancelled. Key hash: 12749084622472637211\n",
            "2023-12-06 22:42:41.303875: I tensorflow/core/framework/local_rendezvous.cc:421] Local rendezvous recv item cancelled. Key hash: 10316076964217112533\n"
          ]
        },
        {
          "name": "stdout",
          "output_type": "stream",
          "text": [
            "40/40 [==============================] - 0s 12ms/step - loss: 4.8381e-04 - accuracy: 0.0000e+00 - mean_squared_error: 4.8381e-04 - val_loss: 5.1793e-04 - val_accuracy: 0.0000e+00 - val_mean_squared_error: 5.1793e-04\n",
            "Epoch 3/20\n",
            "40/40 [==============================] - 1s 13ms/step - loss: 4.6303e-04 - accuracy: 0.0000e+00 - mean_squared_error: 4.6303e-04 - val_loss: 4.8165e-04 - val_accuracy: 0.0000e+00 - val_mean_squared_error: 4.8165e-04\n",
            "Epoch 4/20\n",
            "40/40 [==============================] - 1s 13ms/step - loss: 4.5037e-04 - accuracy: 0.0000e+00 - mean_squared_error: 4.5037e-04 - val_loss: 4.6442e-04 - val_accuracy: 0.0000e+00 - val_mean_squared_error: 4.6442e-04\n",
            "Epoch 5/20\n",
            "40/40 [==============================] - 1s 13ms/step - loss: 4.4424e-04 - accuracy: 0.0000e+00 - mean_squared_error: 4.4424e-04 - val_loss: 4.7575e-04 - val_accuracy: 0.0000e+00 - val_mean_squared_error: 4.7575e-04\n",
            "Epoch 6/20\n",
            "40/40 [==============================] - 1s 13ms/step - loss: 4.4013e-04 - accuracy: 0.0000e+00 - mean_squared_error: 4.4013e-04 - val_loss: 4.6819e-04 - val_accuracy: 0.0000e+00 - val_mean_squared_error: 4.6819e-04\n",
            "Epoch 7/20\n",
            "40/40 [==============================] - 0s 13ms/step - loss: 4.3768e-04 - accuracy: 0.0000e+00 - mean_squared_error: 4.3768e-04 - val_loss: 4.8900e-04 - val_accuracy: 0.0000e+00 - val_mean_squared_error: 4.8900e-04\n",
            "Epoch 8/20\n",
            "40/40 [==============================] - 1s 13ms/step - loss: 4.3369e-04 - accuracy: 0.0000e+00 - mean_squared_error: 4.3369e-04 - val_loss: 4.5060e-04 - val_accuracy: 0.0000e+00 - val_mean_squared_error: 4.5060e-04\n",
            "Epoch 9/20\n",
            "40/40 [==============================] - 1s 13ms/step - loss: 4.4275e-04 - accuracy: 0.0000e+00 - mean_squared_error: 4.4275e-04 - val_loss: 4.2751e-04 - val_accuracy: 0.0000e+00 - val_mean_squared_error: 4.2751e-04\n",
            "Epoch 10/20\n",
            "40/40 [==============================] - 1s 14ms/step - loss: 4.4754e-04 - accuracy: 0.0000e+00 - mean_squared_error: 4.4754e-04 - val_loss: 4.3902e-04 - val_accuracy: 0.0000e+00 - val_mean_squared_error: 4.3902e-04\n",
            "Epoch 11/20\n",
            "40/40 [==============================] - 1s 14ms/step - loss: 4.2530e-04 - accuracy: 0.0000e+00 - mean_squared_error: 4.2530e-04 - val_loss: 4.2995e-04 - val_accuracy: 0.0000e+00 - val_mean_squared_error: 4.2995e-04\n",
            "Epoch 12/20\n",
            "40/40 [==============================] - 1s 13ms/step - loss: 4.1376e-04 - accuracy: 0.0000e+00 - mean_squared_error: 4.1376e-04 - val_loss: 4.4018e-04 - val_accuracy: 0.0000e+00 - val_mean_squared_error: 4.4018e-04\n",
            "Epoch 13/20\n",
            "40/40 [==============================] - 1s 13ms/step - loss: 4.1005e-04 - accuracy: 0.0000e+00 - mean_squared_error: 4.1005e-04 - val_loss: 4.9194e-04 - val_accuracy: 0.0000e+00 - val_mean_squared_error: 4.9194e-04\n",
            "Epoch 14/20\n",
            "40/40 [==============================] - 1s 13ms/step - loss: 4.0739e-04 - accuracy: 0.0000e+00 - mean_squared_error: 4.0739e-04 - val_loss: 4.6987e-04 - val_accuracy: 0.0000e+00 - val_mean_squared_error: 4.6987e-04\n",
            "Epoch 15/20\n",
            "40/40 [==============================] - 1s 13ms/step - loss: 3.9543e-04 - accuracy: 0.0000e+00 - mean_squared_error: 3.9543e-04 - val_loss: 4.5044e-04 - val_accuracy: 0.0000e+00 - val_mean_squared_error: 4.5044e-04\n",
            "Epoch 16/20\n",
            "40/40 [==============================] - 1s 13ms/step - loss: 3.8859e-04 - accuracy: 0.0000e+00 - mean_squared_error: 3.8859e-04 - val_loss: 4.5968e-04 - val_accuracy: 0.0000e+00 - val_mean_squared_error: 4.5968e-04\n",
            "Epoch 17/20\n",
            "40/40 [==============================] - 1s 13ms/step - loss: 3.9021e-04 - accuracy: 0.0000e+00 - mean_squared_error: 3.9021e-04 - val_loss: 4.5153e-04 - val_accuracy: 0.0000e+00 - val_mean_squared_error: 4.5153e-04\n",
            "Epoch 18/20\n",
            "40/40 [==============================] - 1s 13ms/step - loss: 3.9501e-04 - accuracy: 0.0000e+00 - mean_squared_error: 3.9501e-04 - val_loss: 4.1802e-04 - val_accuracy: 0.0000e+00 - val_mean_squared_error: 4.1802e-04\n",
            "Epoch 19/20\n",
            "40/40 [==============================] - 1s 13ms/step - loss: 3.9395e-04 - accuracy: 0.0000e+00 - mean_squared_error: 3.9395e-04 - val_loss: 4.2084e-04 - val_accuracy: 0.0000e+00 - val_mean_squared_error: 4.2084e-04\n",
            "Epoch 20/20\n",
            "40/40 [==============================] - 0s 13ms/step - loss: 3.9701e-04 - accuracy: 0.0000e+00 - mean_squared_error: 3.9701e-04 - val_loss: 4.4184e-04 - val_accuracy: 0.0000e+00 - val_mean_squared_error: 4.4184e-04\n",
            "32/32 [==============================] - 0s 1ms/step\n",
            "0.7924828983539177 0.02073179 2.0492744\n",
            "0.8697490026177834\n",
            "Epoch 1/20\n"
          ]
        },
        {
          "name": "stderr",
          "output_type": "stream",
          "text": [
            "2023-12-06 22:42:51.696886: I tensorflow/core/common_runtime/gpu/gpu_device.cc:1886] Created device /device:GPU:0 with 20609 MB memory:  -> device: 0, name: NVIDIA L4, pci bus id: 0000:00:03.0, compute capability: 8.9\n"
          ]
        },
        {
          "name": "stdout",
          "output_type": "stream",
          "text": [
            "     31/Unknown - 1s 5ms/step - loss: 0.0029 - accuracy: 0.0000e+00 - mean_squared_error: 0.0029"
          ]
        },
        {
          "name": "stderr",
          "output_type": "stream",
          "text": [
            "2023-12-06 22:42:53.011085: I tensorflow/core/framework/local_rendezvous.cc:421] Local rendezvous recv item cancelled. Key hash: 12749084622472637211\n",
            "2023-12-06 22:42:53.011155: I tensorflow/core/framework/local_rendezvous.cc:421] Local rendezvous recv item cancelled. Key hash: 10316076964217112533\n"
          ]
        },
        {
          "name": "stdout",
          "output_type": "stream",
          "text": [
            "40/40 [==============================] - 2s 16ms/step - loss: 0.0025 - accuracy: 0.0000e+00 - mean_squared_error: 0.0025 - val_loss: 5.8220e-04 - val_accuracy: 0.0000e+00 - val_mean_squared_error: 5.8220e-04\n",
            "Epoch 2/20\n",
            "30/40 [=====================>........] - ETA: 0s - loss: 4.8358e-04 - accuracy: 0.0000e+00 - mean_squared_error: 4.8358e-04"
          ]
        },
        {
          "name": "stderr",
          "output_type": "stream",
          "text": [
            "2023-12-06 22:42:53.434150: I tensorflow/core/framework/local_rendezvous.cc:421] Local rendezvous recv item cancelled. Key hash: 12749084622472637211\n",
            "2023-12-06 22:42:53.434203: I tensorflow/core/framework/local_rendezvous.cc:421] Local rendezvous recv item cancelled. Key hash: 10316076964217112533\n"
          ]
        },
        {
          "name": "stdout",
          "output_type": "stream",
          "text": [
            "40/40 [==============================] - 1s 13ms/step - loss: 4.7312e-04 - accuracy: 0.0000e+00 - mean_squared_error: 4.7312e-04 - val_loss: 4.3796e-04 - val_accuracy: 0.0000e+00 - val_mean_squared_error: 4.3796e-04\n",
            "Epoch 3/20\n",
            "40/40 [==============================] - 1s 13ms/step - loss: 4.4316e-04 - accuracy: 0.0000e+00 - mean_squared_error: 4.4316e-04 - val_loss: 4.3472e-04 - val_accuracy: 0.0000e+00 - val_mean_squared_error: 4.3472e-04\n",
            "Epoch 4/20\n",
            "40/40 [==============================] - 1s 14ms/step - loss: 4.4207e-04 - accuracy: 0.0000e+00 - mean_squared_error: 4.4207e-04 - val_loss: 4.6169e-04 - val_accuracy: 0.0000e+00 - val_mean_squared_error: 4.6169e-04\n",
            "Epoch 5/20\n",
            "40/40 [==============================] - 1s 13ms/step - loss: 4.4568e-04 - accuracy: 0.0000e+00 - mean_squared_error: 4.4568e-04 - val_loss: 4.6003e-04 - val_accuracy: 0.0000e+00 - val_mean_squared_error: 4.6003e-04\n",
            "Epoch 6/20\n",
            "40/40 [==============================] - 1s 13ms/step - loss: 4.3078e-04 - accuracy: 0.0000e+00 - mean_squared_error: 4.3078e-04 - val_loss: 4.2973e-04 - val_accuracy: 0.0000e+00 - val_mean_squared_error: 4.2973e-04\n",
            "Epoch 7/20\n",
            "40/40 [==============================] - 1s 13ms/step - loss: 4.2303e-04 - accuracy: 0.0000e+00 - mean_squared_error: 4.2303e-04 - val_loss: 4.2839e-04 - val_accuracy: 0.0000e+00 - val_mean_squared_error: 4.2839e-04\n",
            "Epoch 8/20\n",
            "40/40 [==============================] - 1s 13ms/step - loss: 4.1979e-04 - accuracy: 0.0000e+00 - mean_squared_error: 4.1979e-04 - val_loss: 4.1127e-04 - val_accuracy: 0.0000e+00 - val_mean_squared_error: 4.1127e-04\n",
            "Epoch 9/20\n",
            "40/40 [==============================] - 0s 12ms/step - loss: 4.1739e-04 - accuracy: 0.0000e+00 - mean_squared_error: 4.1739e-04 - val_loss: 4.4416e-04 - val_accuracy: 0.0000e+00 - val_mean_squared_error: 4.4416e-04\n",
            "Epoch 10/20\n",
            "40/40 [==============================] - 1s 13ms/step - loss: 4.2226e-04 - accuracy: 0.0000e+00 - mean_squared_error: 4.2226e-04 - val_loss: 4.4116e-04 - val_accuracy: 0.0000e+00 - val_mean_squared_error: 4.4116e-04\n",
            "Epoch 11/20\n",
            "40/40 [==============================] - 1s 13ms/step - loss: 4.1106e-04 - accuracy: 0.0000e+00 - mean_squared_error: 4.1106e-04 - val_loss: 3.9639e-04 - val_accuracy: 0.0000e+00 - val_mean_squared_error: 3.9639e-04\n",
            "Epoch 12/20\n",
            "40/40 [==============================] - 1s 13ms/step - loss: 4.0169e-04 - accuracy: 0.0000e+00 - mean_squared_error: 4.0169e-04 - val_loss: 3.9555e-04 - val_accuracy: 0.0000e+00 - val_mean_squared_error: 3.9555e-04\n",
            "Epoch 13/20\n",
            "40/40 [==============================] - 1s 14ms/step - loss: 3.9988e-04 - accuracy: 0.0000e+00 - mean_squared_error: 3.9988e-04 - val_loss: 4.3345e-04 - val_accuracy: 0.0000e+00 - val_mean_squared_error: 4.3345e-04\n",
            "Epoch 14/20\n",
            "40/40 [==============================] - 1s 13ms/step - loss: 4.0176e-04 - accuracy: 0.0000e+00 - mean_squared_error: 4.0176e-04 - val_loss: 4.6015e-04 - val_accuracy: 0.0000e+00 - val_mean_squared_error: 4.6015e-04\n",
            "Epoch 15/20\n",
            "40/40 [==============================] - 1s 13ms/step - loss: 4.0657e-04 - accuracy: 0.0000e+00 - mean_squared_error: 4.0657e-04 - val_loss: 4.9309e-04 - val_accuracy: 0.0000e+00 - val_mean_squared_error: 4.9309e-04\n",
            "Epoch 16/20\n",
            "40/40 [==============================] - 1s 13ms/step - loss: 4.1815e-04 - accuracy: 0.0000e+00 - mean_squared_error: 4.1815e-04 - val_loss: 5.7768e-04 - val_accuracy: 0.0000e+00 - val_mean_squared_error: 5.7768e-04\n",
            "Epoch 17/20\n",
            "40/40 [==============================] - 1s 13ms/step - loss: 4.2932e-04 - accuracy: 0.0000e+00 - mean_squared_error: 4.2932e-04 - val_loss: 6.3834e-04 - val_accuracy: 0.0000e+00 - val_mean_squared_error: 6.3834e-04\n",
            "Epoch 18/20\n",
            "40/40 [==============================] - 1s 13ms/step - loss: 4.3224e-04 - accuracy: 0.0000e+00 - mean_squared_error: 4.3224e-04 - val_loss: 6.6811e-04 - val_accuracy: 0.0000e+00 - val_mean_squared_error: 6.6811e-04\n",
            "Epoch 19/20\n",
            "40/40 [==============================] - 1s 13ms/step - loss: 4.3180e-04 - accuracy: 0.0000e+00 - mean_squared_error: 4.3180e-04 - val_loss: 6.5426e-04 - val_accuracy: 0.0000e+00 - val_mean_squared_error: 6.5426e-04\n",
            "Epoch 20/20\n",
            "40/40 [==============================] - 1s 14ms/step - loss: 4.2160e-04 - accuracy: 0.0000e+00 - mean_squared_error: 4.2160e-04 - val_loss: 6.1078e-04 - val_accuracy: 0.0000e+00 - val_mean_squared_error: 6.1078e-04\n",
            "32/32 [==============================] - 0s 1ms/step\n",
            "0.8697490026177834 0.023526898 2.0820384\n",
            "0.9545484566618342\n",
            "Epoch 1/20\n"
          ]
        },
        {
          "name": "stderr",
          "output_type": "stream",
          "text": [
            "2023-12-06 22:43:03.935483: I tensorflow/core/common_runtime/gpu/gpu_device.cc:1886] Created device /device:GPU:0 with 20609 MB memory:  -> device: 0, name: NVIDIA L4, pci bus id: 0000:00:03.0, compute capability: 8.9\n"
          ]
        },
        {
          "name": "stdout",
          "output_type": "stream",
          "text": [
            "     31/Unknown - 1s 5ms/step - loss: 0.0033 - accuracy: 0.0000e+00 - mean_squared_error: 0.0033"
          ]
        },
        {
          "name": "stderr",
          "output_type": "stream",
          "text": [
            "2023-12-06 22:43:05.260259: I tensorflow/core/framework/local_rendezvous.cc:421] Local rendezvous recv item cancelled. Key hash: 12749084622472637211\n"
          ]
        },
        {
          "name": "stdout",
          "output_type": "stream",
          "text": [
            "40/40 [==============================] - 2s 17ms/step - loss: 0.0027 - accuracy: 0.0000e+00 - mean_squared_error: 0.0027 - val_loss: 5.6326e-04 - val_accuracy: 0.0000e+00 - val_mean_squared_error: 5.6326e-04\n",
            "Epoch 2/20\n",
            "24/40 [=================>............] - ETA: 0s - loss: 4.6454e-04 - accuracy: 0.0000e+00 - mean_squared_error: 4.6454e-04"
          ]
        },
        {
          "name": "stderr",
          "output_type": "stream",
          "text": [
            "2023-12-06 22:43:05.699086: I tensorflow/core/framework/local_rendezvous.cc:421] Local rendezvous recv item cancelled. Key hash: 12749084622472637211\n"
          ]
        },
        {
          "name": "stdout",
          "output_type": "stream",
          "text": [
            "40/40 [==============================] - 1s 14ms/step - loss: 4.4584e-04 - accuracy: 0.0000e+00 - mean_squared_error: 4.4584e-04 - val_loss: 4.2655e-04 - val_accuracy: 0.0000e+00 - val_mean_squared_error: 4.2655e-04\n",
            "Epoch 3/20\n",
            "40/40 [==============================] - 0s 13ms/step - loss: 4.0797e-04 - accuracy: 0.0000e+00 - mean_squared_error: 4.0797e-04 - val_loss: 4.2088e-04 - val_accuracy: 0.0000e+00 - val_mean_squared_error: 4.2088e-04\n",
            "Epoch 4/20\n",
            "40/40 [==============================] - 1s 13ms/step - loss: 4.0242e-04 - accuracy: 0.0000e+00 - mean_squared_error: 4.0242e-04 - val_loss: 4.1587e-04 - val_accuracy: 0.0000e+00 - val_mean_squared_error: 4.1587e-04\n",
            "Epoch 5/20\n",
            "40/40 [==============================] - 1s 13ms/step - loss: 3.9869e-04 - accuracy: 0.0000e+00 - mean_squared_error: 3.9869e-04 - val_loss: 4.1441e-04 - val_accuracy: 0.0000e+00 - val_mean_squared_error: 4.1441e-04\n",
            "Epoch 6/20\n",
            "40/40 [==============================] - 1s 13ms/step - loss: 3.9759e-04 - accuracy: 0.0000e+00 - mean_squared_error: 3.9759e-04 - val_loss: 4.1021e-04 - val_accuracy: 0.0000e+00 - val_mean_squared_error: 4.1021e-04\n",
            "Epoch 7/20\n",
            "40/40 [==============================] - 1s 13ms/step - loss: 3.9546e-04 - accuracy: 0.0000e+00 - mean_squared_error: 3.9546e-04 - val_loss: 4.0931e-04 - val_accuracy: 0.0000e+00 - val_mean_squared_error: 4.0931e-04\n",
            "Epoch 8/20\n",
            "40/40 [==============================] - 1s 13ms/step - loss: 3.9731e-04 - accuracy: 0.0000e+00 - mean_squared_error: 3.9731e-04 - val_loss: 3.9295e-04 - val_accuracy: 0.0000e+00 - val_mean_squared_error: 3.9295e-04\n",
            "Epoch 9/20\n",
            "40/40 [==============================] - 0s 12ms/step - loss: 3.9699e-04 - accuracy: 0.0000e+00 - mean_squared_error: 3.9699e-04 - val_loss: 3.9120e-04 - val_accuracy: 0.0000e+00 - val_mean_squared_error: 3.9120e-04\n",
            "Epoch 10/20\n",
            "40/40 [==============================] - 1s 14ms/step - loss: 4.0238e-04 - accuracy: 0.0000e+00 - mean_squared_error: 4.0238e-04 - val_loss: 3.8238e-04 - val_accuracy: 0.0000e+00 - val_mean_squared_error: 3.8238e-04\n",
            "Epoch 11/20\n",
            "40/40 [==============================] - 1s 13ms/step - loss: 4.0071e-04 - accuracy: 0.0000e+00 - mean_squared_error: 4.0071e-04 - val_loss: 4.1137e-04 - val_accuracy: 0.0000e+00 - val_mean_squared_error: 4.1137e-04\n",
            "Epoch 12/20\n",
            "40/40 [==============================] - 1s 13ms/step - loss: 3.8365e-04 - accuracy: 0.0000e+00 - mean_squared_error: 3.8365e-04 - val_loss: 4.0907e-04 - val_accuracy: 0.0000e+00 - val_mean_squared_error: 4.0907e-04\n",
            "Epoch 13/20\n",
            "40/40 [==============================] - 1s 14ms/step - loss: 3.7625e-04 - accuracy: 0.0000e+00 - mean_squared_error: 3.7625e-04 - val_loss: 3.8719e-04 - val_accuracy: 0.0000e+00 - val_mean_squared_error: 3.8719e-04\n",
            "Epoch 14/20\n",
            "40/40 [==============================] - 1s 13ms/step - loss: 3.7276e-04 - accuracy: 0.0000e+00 - mean_squared_error: 3.7276e-04 - val_loss: 3.6659e-04 - val_accuracy: 0.0000e+00 - val_mean_squared_error: 3.6659e-04\n",
            "Epoch 15/20\n",
            "40/40 [==============================] - 1s 13ms/step - loss: 3.6691e-04 - accuracy: 0.0000e+00 - mean_squared_error: 3.6691e-04 - val_loss: 3.6250e-04 - val_accuracy: 0.0000e+00 - val_mean_squared_error: 3.6250e-04\n",
            "Epoch 16/20\n",
            "40/40 [==============================] - 1s 13ms/step - loss: 3.6031e-04 - accuracy: 0.0000e+00 - mean_squared_error: 3.6031e-04 - val_loss: 3.5925e-04 - val_accuracy: 0.0000e+00 - val_mean_squared_error: 3.5925e-04\n",
            "Epoch 17/20\n",
            "40/40 [==============================] - 0s 12ms/step - loss: 3.5792e-04 - accuracy: 0.0000e+00 - mean_squared_error: 3.5792e-04 - val_loss: 3.5371e-04 - val_accuracy: 0.0000e+00 - val_mean_squared_error: 3.5371e-04\n",
            "Epoch 18/20\n",
            "40/40 [==============================] - 1s 13ms/step - loss: 3.5410e-04 - accuracy: 0.0000e+00 - mean_squared_error: 3.5410e-04 - val_loss: 3.5485e-04 - val_accuracy: 0.0000e+00 - val_mean_squared_error: 3.5485e-04\n",
            "Epoch 19/20\n",
            "40/40 [==============================] - 0s 13ms/step - loss: 3.5058e-04 - accuracy: 0.0000e+00 - mean_squared_error: 3.5058e-04 - val_loss: 3.5593e-04 - val_accuracy: 0.0000e+00 - val_mean_squared_error: 3.5593e-04\n",
            "Epoch 20/20\n",
            "40/40 [==============================] - 1s 13ms/step - loss: 3.5052e-04 - accuracy: 0.0000e+00 - mean_squared_error: 3.5052e-04 - val_loss: 3.7593e-04 - val_accuracy: 0.0000e+00 - val_mean_squared_error: 3.7593e-04\n",
            "32/32 [==============================] - 0s 1ms/step\n",
            "0.9545484566618342 0.019671652 2.0556185\n",
            "1.0476157527896652\n",
            "Epoch 1/20\n"
          ]
        },
        {
          "name": "stderr",
          "output_type": "stream",
          "text": [
            "2023-12-06 22:43:16.145950: I tensorflow/core/common_runtime/gpu/gpu_device.cc:1886] Created device /device:GPU:0 with 20609 MB memory:  -> device: 0, name: NVIDIA L4, pci bus id: 0000:00:03.0, compute capability: 8.9\n"
          ]
        },
        {
          "name": "stdout",
          "output_type": "stream",
          "text": [
            "     31/Unknown - 1s 5ms/step - loss: 0.0035 - accuracy: 0.0000e+00 - mean_squared_error: 0.0035"
          ]
        },
        {
          "name": "stderr",
          "output_type": "stream",
          "text": [
            "2023-12-06 22:43:17.469402: I tensorflow/core/framework/local_rendezvous.cc:421] Local rendezvous recv item cancelled. Key hash: 10316076964217112533\n"
          ]
        },
        {
          "name": "stdout",
          "output_type": "stream",
          "text": [
            "40/40 [==============================] - 2s 17ms/step - loss: 0.0029 - accuracy: 0.0000e+00 - mean_squared_error: 0.0029 - val_loss: 4.5357e-04 - val_accuracy: 0.0000e+00 - val_mean_squared_error: 4.5357e-04\n",
            "Epoch 2/20\n",
            "31/40 [======================>.......] - ETA: 0s - loss: 4.4247e-04 - accuracy: 0.0000e+00 - mean_squared_error: 4.4247e-04"
          ]
        },
        {
          "name": "stderr",
          "output_type": "stream",
          "text": [
            "2023-12-06 22:43:17.901872: I tensorflow/core/framework/local_rendezvous.cc:421] Local rendezvous recv item cancelled. Key hash: 12749084622472637211\n",
            "2023-12-06 22:43:17.901918: I tensorflow/core/framework/local_rendezvous.cc:421] Local rendezvous recv item cancelled. Key hash: 10316076964217112533\n"
          ]
        },
        {
          "name": "stdout",
          "output_type": "stream",
          "text": [
            "40/40 [==============================] - 1s 13ms/step - loss: 4.3627e-04 - accuracy: 0.0000e+00 - mean_squared_error: 4.3627e-04 - val_loss: 4.1091e-04 - val_accuracy: 0.0000e+00 - val_mean_squared_error: 4.1091e-04\n",
            "Epoch 3/20\n",
            "40/40 [==============================] - 1s 13ms/step - loss: 3.9887e-04 - accuracy: 0.0000e+00 - mean_squared_error: 3.9887e-04 - val_loss: 4.0833e-04 - val_accuracy: 0.0000e+00 - val_mean_squared_error: 4.0833e-04\n",
            "Epoch 4/20\n",
            "40/40 [==============================] - 1s 13ms/step - loss: 3.9637e-04 - accuracy: 0.0000e+00 - mean_squared_error: 3.9637e-04 - val_loss: 4.2400e-04 - val_accuracy: 0.0000e+00 - val_mean_squared_error: 4.2400e-04\n",
            "Epoch 5/20\n",
            "40/40 [==============================] - 1s 13ms/step - loss: 4.0314e-04 - accuracy: 0.0000e+00 - mean_squared_error: 4.0314e-04 - val_loss: 4.5758e-04 - val_accuracy: 0.0000e+00 - val_mean_squared_error: 4.5758e-04\n",
            "Epoch 6/20\n",
            "40/40 [==============================] - 1s 13ms/step - loss: 4.0012e-04 - accuracy: 0.0000e+00 - mean_squared_error: 4.0012e-04 - val_loss: 4.0422e-04 - val_accuracy: 0.0000e+00 - val_mean_squared_error: 4.0422e-04\n",
            "Epoch 7/20\n",
            "40/40 [==============================] - 1s 14ms/step - loss: 3.8571e-04 - accuracy: 0.0000e+00 - mean_squared_error: 3.8571e-04 - val_loss: 4.1284e-04 - val_accuracy: 0.0000e+00 - val_mean_squared_error: 4.1284e-04\n",
            "Epoch 8/20\n",
            "40/40 [==============================] - 1s 13ms/step - loss: 3.8402e-04 - accuracy: 0.0000e+00 - mean_squared_error: 3.8402e-04 - val_loss: 4.4102e-04 - val_accuracy: 0.0000e+00 - val_mean_squared_error: 4.4102e-04\n",
            "Epoch 9/20\n",
            "40/40 [==============================] - 0s 12ms/step - loss: 3.8354e-04 - accuracy: 0.0000e+00 - mean_squared_error: 3.8354e-04 - val_loss: 4.2835e-04 - val_accuracy: 0.0000e+00 - val_mean_squared_error: 4.2835e-04\n",
            "Epoch 10/20\n",
            "40/40 [==============================] - 1s 13ms/step - loss: 3.8801e-04 - accuracy: 0.0000e+00 - mean_squared_error: 3.8801e-04 - val_loss: 3.9330e-04 - val_accuracy: 0.0000e+00 - val_mean_squared_error: 3.9330e-04\n",
            "Epoch 11/20\n",
            "40/40 [==============================] - 1s 13ms/step - loss: 3.8718e-04 - accuracy: 0.0000e+00 - mean_squared_error: 3.8718e-04 - val_loss: 3.7300e-04 - val_accuracy: 0.0000e+00 - val_mean_squared_error: 3.7300e-04\n",
            "Epoch 12/20\n",
            "40/40 [==============================] - 1s 14ms/step - loss: 3.7840e-04 - accuracy: 0.0000e+00 - mean_squared_error: 3.7840e-04 - val_loss: 3.7353e-04 - val_accuracy: 0.0000e+00 - val_mean_squared_error: 3.7353e-04\n",
            "Epoch 13/20\n",
            "40/40 [==============================] - 1s 14ms/step - loss: 3.6651e-04 - accuracy: 0.0000e+00 - mean_squared_error: 3.6651e-04 - val_loss: 3.7928e-04 - val_accuracy: 0.0000e+00 - val_mean_squared_error: 3.7928e-04\n",
            "Epoch 14/20\n",
            "40/40 [==============================] - 1s 13ms/step - loss: 3.6527e-04 - accuracy: 0.0000e+00 - mean_squared_error: 3.6527e-04 - val_loss: 3.8741e-04 - val_accuracy: 0.0000e+00 - val_mean_squared_error: 3.8741e-04\n",
            "Epoch 15/20\n",
            "40/40 [==============================] - 1s 13ms/step - loss: 3.6217e-04 - accuracy: 0.0000e+00 - mean_squared_error: 3.6217e-04 - val_loss: 3.6655e-04 - val_accuracy: 0.0000e+00 - val_mean_squared_error: 3.6655e-04\n",
            "Epoch 16/20\n",
            "40/40 [==============================] - 1s 13ms/step - loss: 3.5138e-04 - accuracy: 0.0000e+00 - mean_squared_error: 3.5138e-04 - val_loss: 3.6122e-04 - val_accuracy: 0.0000e+00 - val_mean_squared_error: 3.6122e-04\n",
            "Epoch 17/20\n",
            "40/40 [==============================] - 1s 13ms/step - loss: 3.5078e-04 - accuracy: 0.0000e+00 - mean_squared_error: 3.5078e-04 - val_loss: 3.8141e-04 - val_accuracy: 0.0000e+00 - val_mean_squared_error: 3.8141e-04\n",
            "Epoch 18/20\n",
            "40/40 [==============================] - 0s 13ms/step - loss: 3.5448e-04 - accuracy: 0.0000e+00 - mean_squared_error: 3.5448e-04 - val_loss: 4.0959e-04 - val_accuracy: 0.0000e+00 - val_mean_squared_error: 4.0959e-04\n",
            "Epoch 19/20\n",
            "40/40 [==============================] - 0s 13ms/step - loss: 3.5281e-04 - accuracy: 0.0000e+00 - mean_squared_error: 3.5281e-04 - val_loss: 3.7971e-04 - val_accuracy: 0.0000e+00 - val_mean_squared_error: 3.7971e-04\n",
            "Epoch 20/20\n",
            "40/40 [==============================] - 1s 13ms/step - loss: 3.4572e-04 - accuracy: 0.0000e+00 - mean_squared_error: 3.4572e-04 - val_loss: 3.5002e-04 - val_accuracy: 0.0000e+00 - val_mean_squared_error: 3.5002e-04\n",
            "32/32 [==============================] - 0s 1ms/step\n",
            "1.0476157527896652 0.017992122 2.0359201\n",
            "1.149756995397737\n",
            "Epoch 1/20\n"
          ]
        },
        {
          "name": "stderr",
          "output_type": "stream",
          "text": [
            "2023-12-06 22:43:28.341685: I tensorflow/core/common_runtime/gpu/gpu_device.cc:1886] Created device /device:GPU:0 with 20609 MB memory:  -> device: 0, name: NVIDIA L4, pci bus id: 0000:00:03.0, compute capability: 8.9\n"
          ]
        },
        {
          "name": "stdout",
          "output_type": "stream",
          "text": [
            "     39/Unknown - 1s 6ms/step - loss: 0.0029 - accuracy: 0.0000e+00 - mean_squared_error: 0.0029"
          ]
        },
        {
          "name": "stderr",
          "output_type": "stream",
          "text": [
            "2023-12-06 22:43:29.670370: I tensorflow/core/framework/local_rendezvous.cc:421] Local rendezvous recv item cancelled. Key hash: 12749084622472637211\n",
            "2023-12-06 22:43:29.670433: I tensorflow/core/framework/local_rendezvous.cc:421] Local rendezvous recv item cancelled. Key hash: 10316076964217112533\n"
          ]
        },
        {
          "name": "stdout",
          "output_type": "stream",
          "text": [
            "40/40 [==============================] - 2s 17ms/step - loss: 0.0029 - accuracy: 0.0000e+00 - mean_squared_error: 0.0029 - val_loss: 4.0642e-04 - val_accuracy: 0.0000e+00 - val_mean_squared_error: 4.0642e-04\n",
            "Epoch 2/20\n",
            "31/40 [======================>.......] - ETA: 0s - loss: 4.2474e-04 - accuracy: 0.0000e+00 - mean_squared_error: 4.2474e-04"
          ]
        },
        {
          "name": "stderr",
          "output_type": "stream",
          "text": [
            "2023-12-06 22:43:30.100413: I tensorflow/core/framework/local_rendezvous.cc:421] Local rendezvous recv item cancelled. Key hash: 12749084622472637211\n",
            "2023-12-06 22:43:30.100466: I tensorflow/core/framework/local_rendezvous.cc:421] Local rendezvous recv item cancelled. Key hash: 10316076964217112533\n"
          ]
        },
        {
          "name": "stdout",
          "output_type": "stream",
          "text": [
            "40/40 [==============================] - 1s 13ms/step - loss: 4.1420e-04 - accuracy: 0.0000e+00 - mean_squared_error: 4.1420e-04 - val_loss: 3.5384e-04 - val_accuracy: 0.0000e+00 - val_mean_squared_error: 3.5384e-04\n",
            "Epoch 3/20\n",
            "40/40 [==============================] - 1s 13ms/step - loss: 3.6203e-04 - accuracy: 0.0000e+00 - mean_squared_error: 3.6203e-04 - val_loss: 3.6270e-04 - val_accuracy: 0.0000e+00 - val_mean_squared_error: 3.6270e-04\n",
            "Epoch 4/20\n",
            "40/40 [==============================] - 1s 13ms/step - loss: 3.6135e-04 - accuracy: 0.0000e+00 - mean_squared_error: 3.6135e-04 - val_loss: 3.4609e-04 - val_accuracy: 0.0000e+00 - val_mean_squared_error: 3.4609e-04\n",
            "Epoch 5/20\n",
            "40/40 [==============================] - 1s 13ms/step - loss: 3.5599e-04 - accuracy: 0.0000e+00 - mean_squared_error: 3.5599e-04 - val_loss: 3.4885e-04 - val_accuracy: 0.0000e+00 - val_mean_squared_error: 3.4885e-04\n",
            "Epoch 6/20\n",
            "40/40 [==============================] - 1s 13ms/step - loss: 3.5429e-04 - accuracy: 0.0000e+00 - mean_squared_error: 3.5429e-04 - val_loss: 3.6278e-04 - val_accuracy: 0.0000e+00 - val_mean_squared_error: 3.6278e-04\n",
            "Epoch 7/20\n",
            "40/40 [==============================] - 1s 13ms/step - loss: 3.5499e-04 - accuracy: 0.0000e+00 - mean_squared_error: 3.5499e-04 - val_loss: 3.6996e-04 - val_accuracy: 0.0000e+00 - val_mean_squared_error: 3.6996e-04\n",
            "Epoch 8/20\n",
            "40/40 [==============================] - 1s 13ms/step - loss: 3.5884e-04 - accuracy: 0.0000e+00 - mean_squared_error: 3.5884e-04 - val_loss: 3.6599e-04 - val_accuracy: 0.0000e+00 - val_mean_squared_error: 3.6599e-04\n",
            "Epoch 9/20\n",
            "40/40 [==============================] - 1s 13ms/step - loss: 3.6573e-04 - accuracy: 0.0000e+00 - mean_squared_error: 3.6573e-04 - val_loss: 4.0083e-04 - val_accuracy: 0.0000e+00 - val_mean_squared_error: 4.0083e-04\n",
            "Epoch 10/20\n",
            "40/40 [==============================] - 1s 13ms/step - loss: 3.8148e-04 - accuracy: 0.0000e+00 - mean_squared_error: 3.8148e-04 - val_loss: 3.9947e-04 - val_accuracy: 0.0000e+00 - val_mean_squared_error: 3.9947e-04\n",
            "Epoch 11/20\n",
            "40/40 [==============================] - 1s 13ms/step - loss: 3.9146e-04 - accuracy: 0.0000e+00 - mean_squared_error: 3.9146e-04 - val_loss: 3.3340e-04 - val_accuracy: 0.0000e+00 - val_mean_squared_error: 3.3340e-04\n",
            "Epoch 12/20\n",
            "40/40 [==============================] - 1s 13ms/step - loss: 3.7241e-04 - accuracy: 0.0000e+00 - mean_squared_error: 3.7241e-04 - val_loss: 3.2427e-04 - val_accuracy: 0.0000e+00 - val_mean_squared_error: 3.2427e-04\n",
            "Epoch 13/20\n",
            "40/40 [==============================] - 1s 13ms/step - loss: 3.5134e-04 - accuracy: 0.0000e+00 - mean_squared_error: 3.5134e-04 - val_loss: 3.2313e-04 - val_accuracy: 0.0000e+00 - val_mean_squared_error: 3.2313e-04\n",
            "Epoch 14/20\n",
            "40/40 [==============================] - 1s 13ms/step - loss: 3.4897e-04 - accuracy: 0.0000e+00 - mean_squared_error: 3.4897e-04 - val_loss: 3.3777e-04 - val_accuracy: 0.0000e+00 - val_mean_squared_error: 3.3777e-04\n",
            "Epoch 15/20\n",
            "40/40 [==============================] - 1s 13ms/step - loss: 3.4713e-04 - accuracy: 0.0000e+00 - mean_squared_error: 3.4713e-04 - val_loss: 3.4159e-04 - val_accuracy: 0.0000e+00 - val_mean_squared_error: 3.4159e-04\n",
            "Epoch 16/20\n",
            "40/40 [==============================] - 0s 12ms/step - loss: 3.3542e-04 - accuracy: 0.0000e+00 - mean_squared_error: 3.3542e-04 - val_loss: 3.1371e-04 - val_accuracy: 0.0000e+00 - val_mean_squared_error: 3.1371e-04\n",
            "Epoch 17/20\n",
            "40/40 [==============================] - 1s 13ms/step - loss: 3.2637e-04 - accuracy: 0.0000e+00 - mean_squared_error: 3.2637e-04 - val_loss: 3.0588e-04 - val_accuracy: 0.0000e+00 - val_mean_squared_error: 3.0588e-04\n",
            "Epoch 18/20\n",
            "40/40 [==============================] - 1s 13ms/step - loss: 3.2370e-04 - accuracy: 0.0000e+00 - mean_squared_error: 3.2370e-04 - val_loss: 3.0223e-04 - val_accuracy: 0.0000e+00 - val_mean_squared_error: 3.0223e-04\n",
            "Epoch 19/20\n",
            "40/40 [==============================] - 0s 13ms/step - loss: 3.2352e-04 - accuracy: 0.0000e+00 - mean_squared_error: 3.2352e-04 - val_loss: 3.0154e-04 - val_accuracy: 0.0000e+00 - val_mean_squared_error: 3.0154e-04\n",
            "Epoch 20/20\n",
            "40/40 [==============================] - 1s 13ms/step - loss: 3.2567e-04 - accuracy: 0.0000e+00 - mean_squared_error: 3.2567e-04 - val_loss: 3.1177e-04 - val_accuracy: 0.0000e+00 - val_mean_squared_error: 3.1177e-04\n",
            "32/32 [==============================] - 0s 1ms/step\n",
            "1.149756995397737 0.01720745 2.0731528\n",
            "1.261856883066021\n",
            "Epoch 1/20\n"
          ]
        },
        {
          "name": "stderr",
          "output_type": "stream",
          "text": [
            "2023-12-06 22:43:40.455371: I tensorflow/core/common_runtime/gpu/gpu_device.cc:1886] Created device /device:GPU:0 with 20609 MB memory:  -> device: 0, name: NVIDIA L4, pci bus id: 0000:00:03.0, compute capability: 8.9\n"
          ]
        },
        {
          "name": "stdout",
          "output_type": "stream",
          "text": [
            "     37/Unknown - 1s 6ms/step - loss: 0.0030 - accuracy: 0.0000e+00 - mean_squared_error: 0.0030"
          ]
        },
        {
          "name": "stderr",
          "output_type": "stream",
          "text": [
            "2023-12-06 22:43:41.793795: I tensorflow/core/framework/local_rendezvous.cc:421] Local rendezvous recv item cancelled. Key hash: 12749084622472637211\n",
            "2023-12-06 22:43:41.793859: I tensorflow/core/framework/local_rendezvous.cc:421] Local rendezvous recv item cancelled. Key hash: 10316076964217112533\n"
          ]
        },
        {
          "name": "stdout",
          "output_type": "stream",
          "text": [
            "40/40 [==============================] - 2s 17ms/step - loss: 0.0029 - accuracy: 0.0000e+00 - mean_squared_error: 0.0029 - val_loss: 4.4629e-04 - val_accuracy: 0.0000e+00 - val_mean_squared_error: 4.4629e-04\n",
            "Epoch 2/20\n",
            "28/40 [====================>.........] - ETA: 0s - loss: 3.9461e-04 - accuracy: 0.0000e+00 - mean_squared_error: 3.9461e-04"
          ]
        },
        {
          "name": "stderr",
          "output_type": "stream",
          "text": [
            "2023-12-06 22:43:42.215472: I tensorflow/core/framework/local_rendezvous.cc:421] Local rendezvous recv item cancelled. Key hash: 10316076964217112533\n"
          ]
        },
        {
          "name": "stdout",
          "output_type": "stream",
          "text": [
            "40/40 [==============================] - 1s 13ms/step - loss: 3.8251e-04 - accuracy: 0.0000e+00 - mean_squared_error: 3.8251e-04 - val_loss: 3.6163e-04 - val_accuracy: 0.0000e+00 - val_mean_squared_error: 3.6163e-04\n",
            "Epoch 3/20\n",
            "40/40 [==============================] - 1s 13ms/step - loss: 3.4212e-04 - accuracy: 0.0000e+00 - mean_squared_error: 3.4212e-04 - val_loss: 3.4690e-04 - val_accuracy: 0.0000e+00 - val_mean_squared_error: 3.4690e-04\n",
            "Epoch 4/20\n",
            "40/40 [==============================] - 1s 13ms/step - loss: 3.3604e-04 - accuracy: 0.0000e+00 - mean_squared_error: 3.3604e-04 - val_loss: 3.4385e-04 - val_accuracy: 0.0000e+00 - val_mean_squared_error: 3.4385e-04\n",
            "Epoch 5/20\n",
            "40/40 [==============================] - 1s 13ms/step - loss: 3.3443e-04 - accuracy: 0.0000e+00 - mean_squared_error: 3.3443e-04 - val_loss: 3.4029e-04 - val_accuracy: 0.0000e+00 - val_mean_squared_error: 3.4029e-04\n",
            "Epoch 6/20\n",
            "40/40 [==============================] - 0s 12ms/step - loss: 3.3196e-04 - accuracy: 0.0000e+00 - mean_squared_error: 3.3196e-04 - val_loss: 3.3842e-04 - val_accuracy: 0.0000e+00 - val_mean_squared_error: 3.3842e-04\n",
            "Epoch 7/20\n",
            "40/40 [==============================] - 1s 13ms/step - loss: 3.2981e-04 - accuracy: 0.0000e+00 - mean_squared_error: 3.2981e-04 - val_loss: 3.4917e-04 - val_accuracy: 0.0000e+00 - val_mean_squared_error: 3.4917e-04\n",
            "Epoch 8/20\n",
            "40/40 [==============================] - 1s 15ms/step - loss: 3.2960e-04 - accuracy: 0.0000e+00 - mean_squared_error: 3.2960e-04 - val_loss: 3.4723e-04 - val_accuracy: 0.0000e+00 - val_mean_squared_error: 3.4723e-04\n",
            "Epoch 9/20\n",
            "40/40 [==============================] - 1s 13ms/step - loss: 3.2769e-04 - accuracy: 0.0000e+00 - mean_squared_error: 3.2769e-04 - val_loss: 3.6064e-04 - val_accuracy: 0.0000e+00 - val_mean_squared_error: 3.6064e-04\n",
            "Epoch 10/20\n",
            "40/40 [==============================] - 1s 13ms/step - loss: 3.2736e-04 - accuracy: 0.0000e+00 - mean_squared_error: 3.2736e-04 - val_loss: 3.9274e-04 - val_accuracy: 0.0000e+00 - val_mean_squared_error: 3.9274e-04\n",
            "Epoch 11/20\n",
            "40/40 [==============================] - 1s 13ms/step - loss: 3.2763e-04 - accuracy: 0.0000e+00 - mean_squared_error: 3.2763e-04 - val_loss: 3.7556e-04 - val_accuracy: 0.0000e+00 - val_mean_squared_error: 3.7556e-04\n",
            "Epoch 12/20\n",
            "40/40 [==============================] - 1s 13ms/step - loss: 3.2755e-04 - accuracy: 0.0000e+00 - mean_squared_error: 3.2755e-04 - val_loss: 3.9059e-04 - val_accuracy: 0.0000e+00 - val_mean_squared_error: 3.9059e-04\n",
            "Epoch 13/20\n",
            "40/40 [==============================] - 1s 13ms/step - loss: 3.3270e-04 - accuracy: 0.0000e+00 - mean_squared_error: 3.3270e-04 - val_loss: 3.6293e-04 - val_accuracy: 0.0000e+00 - val_mean_squared_error: 3.6293e-04\n",
            "Epoch 14/20\n",
            "40/40 [==============================] - 1s 13ms/step - loss: 3.3299e-04 - accuracy: 0.0000e+00 - mean_squared_error: 3.3299e-04 - val_loss: 3.1830e-04 - val_accuracy: 0.0000e+00 - val_mean_squared_error: 3.1830e-04\n",
            "Epoch 15/20\n",
            "40/40 [==============================] - 1s 14ms/step - loss: 3.2008e-04 - accuracy: 0.0000e+00 - mean_squared_error: 3.2008e-04 - val_loss: 3.1298e-04 - val_accuracy: 0.0000e+00 - val_mean_squared_error: 3.1298e-04\n",
            "Epoch 16/20\n",
            "40/40 [==============================] - 1s 13ms/step - loss: 3.1677e-04 - accuracy: 0.0000e+00 - mean_squared_error: 3.1677e-04 - val_loss: 3.0440e-04 - val_accuracy: 0.0000e+00 - val_mean_squared_error: 3.0440e-04\n",
            "Epoch 17/20\n",
            "40/40 [==============================] - 1s 13ms/step - loss: 3.1864e-04 - accuracy: 0.0000e+00 - mean_squared_error: 3.1864e-04 - val_loss: 3.0196e-04 - val_accuracy: 0.0000e+00 - val_mean_squared_error: 3.0196e-04\n",
            "Epoch 18/20\n",
            "40/40 [==============================] - 1s 15ms/step - loss: 3.1224e-04 - accuracy: 0.0000e+00 - mean_squared_error: 3.1224e-04 - val_loss: 2.9738e-04 - val_accuracy: 0.0000e+00 - val_mean_squared_error: 2.9738e-04\n",
            "Epoch 19/20\n",
            "40/40 [==============================] - 1s 13ms/step - loss: 3.0382e-04 - accuracy: 0.0000e+00 - mean_squared_error: 3.0382e-04 - val_loss: 3.0001e-04 - val_accuracy: 0.0000e+00 - val_mean_squared_error: 3.0001e-04\n",
            "Epoch 20/20\n",
            "40/40 [==============================] - 1s 13ms/step - loss: 3.0477e-04 - accuracy: 0.0000e+00 - mean_squared_error: 3.0477e-04 - val_loss: 3.1172e-04 - val_accuracy: 0.0000e+00 - val_mean_squared_error: 3.1172e-04\n",
            "32/32 [==============================] - 0s 1ms/step\n",
            "1.261856883066021 0.017813709 2.0575755\n",
            "1.384886371393873\n",
            "Epoch 1/20\n"
          ]
        },
        {
          "name": "stderr",
          "output_type": "stream",
          "text": [
            "2023-12-06 22:43:52.729786: I tensorflow/core/common_runtime/gpu/gpu_device.cc:1886] Created device /device:GPU:0 with 20609 MB memory:  -> device: 0, name: NVIDIA L4, pci bus id: 0000:00:03.0, compute capability: 8.9\n"
          ]
        },
        {
          "name": "stdout",
          "output_type": "stream",
          "text": [
            "     31/Unknown - 1s 5ms/step - loss: 0.0039 - accuracy: 0.0000e+00 - mean_squared_error: 0.0039"
          ]
        },
        {
          "name": "stderr",
          "output_type": "stream",
          "text": [
            "2023-12-06 22:43:54.043412: I tensorflow/core/framework/local_rendezvous.cc:421] Local rendezvous recv item cancelled. Key hash: 12749084622472637211\n",
            "2023-12-06 22:43:54.043473: I tensorflow/core/framework/local_rendezvous.cc:421] Local rendezvous recv item cancelled. Key hash: 10316076964217112533\n"
          ]
        },
        {
          "name": "stdout",
          "output_type": "stream",
          "text": [
            "40/40 [==============================] - 2s 16ms/step - loss: 0.0032 - accuracy: 0.0000e+00 - mean_squared_error: 0.0032 - val_loss: 4.0564e-04 - val_accuracy: 0.0000e+00 - val_mean_squared_error: 4.0564e-04\n",
            "Epoch 2/20\n",
            "31/40 [======================>.......] - ETA: 0s - loss: 4.0484e-04 - accuracy: 0.0000e+00 - mean_squared_error: 4.0484e-04"
          ]
        },
        {
          "name": "stderr",
          "output_type": "stream",
          "text": [
            "2023-12-06 22:43:54.454270: I tensorflow/core/framework/local_rendezvous.cc:421] Local rendezvous recv item cancelled. Key hash: 12749084622472637211\n"
          ]
        },
        {
          "name": "stdout",
          "output_type": "stream",
          "text": [
            "40/40 [==============================] - 1s 13ms/step - loss: 3.8962e-04 - accuracy: 0.0000e+00 - mean_squared_error: 3.8962e-04 - val_loss: 3.4813e-04 - val_accuracy: 0.0000e+00 - val_mean_squared_error: 3.4813e-04\n",
            "Epoch 3/20\n",
            "40/40 [==============================] - 0s 12ms/step - loss: 3.3439e-04 - accuracy: 0.0000e+00 - mean_squared_error: 3.3439e-04 - val_loss: 3.2387e-04 - val_accuracy: 0.0000e+00 - val_mean_squared_error: 3.2387e-04\n",
            "Epoch 4/20\n",
            "40/40 [==============================] - 1s 13ms/step - loss: 3.2587e-04 - accuracy: 0.0000e+00 - mean_squared_error: 3.2587e-04 - val_loss: 3.4488e-04 - val_accuracy: 0.0000e+00 - val_mean_squared_error: 3.4488e-04\n",
            "Epoch 5/20\n",
            "40/40 [==============================] - 1s 14ms/step - loss: 3.2435e-04 - accuracy: 0.0000e+00 - mean_squared_error: 3.2435e-04 - val_loss: 3.7221e-04 - val_accuracy: 0.0000e+00 - val_mean_squared_error: 3.7221e-04\n",
            "Epoch 6/20\n",
            "40/40 [==============================] - 1s 13ms/step - loss: 3.2918e-04 - accuracy: 0.0000e+00 - mean_squared_error: 3.2918e-04 - val_loss: 3.6284e-04 - val_accuracy: 0.0000e+00 - val_mean_squared_error: 3.6284e-04\n",
            "Epoch 7/20\n",
            "40/40 [==============================] - 1s 13ms/step - loss: 3.1762e-04 - accuracy: 0.0000e+00 - mean_squared_error: 3.1762e-04 - val_loss: 3.5084e-04 - val_accuracy: 0.0000e+00 - val_mean_squared_error: 3.5084e-04\n",
            "Epoch 8/20\n",
            "40/40 [==============================] - 1s 13ms/step - loss: 3.1434e-04 - accuracy: 0.0000e+00 - mean_squared_error: 3.1434e-04 - val_loss: 4.0037e-04 - val_accuracy: 0.0000e+00 - val_mean_squared_error: 4.0037e-04\n",
            "Epoch 9/20\n",
            "40/40 [==============================] - 1s 13ms/step - loss: 3.1542e-04 - accuracy: 0.0000e+00 - mean_squared_error: 3.1542e-04 - val_loss: 4.2770e-04 - val_accuracy: 0.0000e+00 - val_mean_squared_error: 4.2770e-04\n",
            "Epoch 10/20\n",
            "40/40 [==============================] - 1s 13ms/step - loss: 3.1882e-04 - accuracy: 0.0000e+00 - mean_squared_error: 3.1882e-04 - val_loss: 5.0471e-04 - val_accuracy: 0.0000e+00 - val_mean_squared_error: 5.0471e-04\n",
            "Epoch 11/20\n",
            "40/40 [==============================] - 1s 13ms/step - loss: 3.2675e-04 - accuracy: 0.0000e+00 - mean_squared_error: 3.2675e-04 - val_loss: 5.3956e-04 - val_accuracy: 0.0000e+00 - val_mean_squared_error: 5.3956e-04\n",
            "Epoch 12/20\n",
            "40/40 [==============================] - 1s 13ms/step - loss: 3.2448e-04 - accuracy: 0.0000e+00 - mean_squared_error: 3.2448e-04 - val_loss: 4.2908e-04 - val_accuracy: 0.0000e+00 - val_mean_squared_error: 4.2908e-04\n",
            "Epoch 13/20\n",
            "40/40 [==============================] - 0s 13ms/step - loss: 3.0945e-04 - accuracy: 0.0000e+00 - mean_squared_error: 3.0945e-04 - val_loss: 4.1958e-04 - val_accuracy: 0.0000e+00 - val_mean_squared_error: 4.1958e-04\n",
            "Epoch 14/20\n",
            "40/40 [==============================] - 1s 13ms/step - loss: 3.0671e-04 - accuracy: 0.0000e+00 - mean_squared_error: 3.0671e-04 - val_loss: 4.0465e-04 - val_accuracy: 0.0000e+00 - val_mean_squared_error: 4.0465e-04\n",
            "Epoch 15/20\n",
            "40/40 [==============================] - 1s 13ms/step - loss: 3.0747e-04 - accuracy: 0.0000e+00 - mean_squared_error: 3.0747e-04 - val_loss: 3.6862e-04 - val_accuracy: 0.0000e+00 - val_mean_squared_error: 3.6862e-04\n",
            "Epoch 16/20\n",
            "40/40 [==============================] - 1s 13ms/step - loss: 3.0351e-04 - accuracy: 0.0000e+00 - mean_squared_error: 3.0351e-04 - val_loss: 4.1165e-04 - val_accuracy: 0.0000e+00 - val_mean_squared_error: 4.1165e-04\n",
            "Epoch 17/20\n",
            "40/40 [==============================] - 1s 13ms/step - loss: 3.0551e-04 - accuracy: 0.0000e+00 - mean_squared_error: 3.0551e-04 - val_loss: 4.8506e-04 - val_accuracy: 0.0000e+00 - val_mean_squared_error: 4.8506e-04\n",
            "Epoch 18/20\n",
            "40/40 [==============================] - 1s 13ms/step - loss: 3.1745e-04 - accuracy: 0.0000e+00 - mean_squared_error: 3.1745e-04 - val_loss: 5.1767e-04 - val_accuracy: 0.0000e+00 - val_mean_squared_error: 5.1767e-04\n",
            "Epoch 19/20\n",
            "40/40 [==============================] - 1s 13ms/step - loss: 3.2565e-04 - accuracy: 0.0000e+00 - mean_squared_error: 3.2565e-04 - val_loss: 4.7737e-04 - val_accuracy: 0.0000e+00 - val_mean_squared_error: 4.7737e-04\n",
            "Epoch 20/20\n",
            "40/40 [==============================] - 1s 13ms/step - loss: 3.2181e-04 - accuracy: 0.0000e+00 - mean_squared_error: 3.2181e-04 - val_loss: 4.3558e-04 - val_accuracy: 0.0000e+00 - val_mean_squared_error: 4.3558e-04\n",
            "32/32 [==============================] - 0s 1ms/step\n",
            "1.384886371393873 0.02126965 2.0599482\n",
            "1.5199110829529348\n",
            "Epoch 1/20\n"
          ]
        },
        {
          "name": "stderr",
          "output_type": "stream",
          "text": [
            "2023-12-06 22:44:04.863494: I tensorflow/core/common_runtime/gpu/gpu_device.cc:1886] Created device /device:GPU:0 with 20609 MB memory:  -> device: 0, name: NVIDIA L4, pci bus id: 0000:00:03.0, compute capability: 8.9\n"
          ]
        },
        {
          "name": "stdout",
          "output_type": "stream",
          "text": [
            "40/40 [==============================] - 2s 17ms/step - loss: 0.0043 - accuracy: 0.0000e+00 - mean_squared_error: 0.0043 - val_loss: 5.2998e-04 - val_accuracy: 0.0000e+00 - val_mean_squared_error: 5.2998e-04\n",
            "Epoch 2/20\n",
            "31/40 [======================>.......] - ETA: 0s - loss: 3.9551e-04 - accuracy: 0.0000e+00 - mean_squared_error: 3.9551e-04"
          ]
        },
        {
          "name": "stderr",
          "output_type": "stream",
          "text": [
            "2023-12-06 22:44:06.618811: I tensorflow/core/framework/local_rendezvous.cc:421] Local rendezvous recv item cancelled. Key hash: 12749084622472637211\n",
            "2023-12-06 22:44:06.618869: I tensorflow/core/framework/local_rendezvous.cc:421] Local rendezvous recv item cancelled. Key hash: 10316076964217112533\n"
          ]
        },
        {
          "name": "stdout",
          "output_type": "stream",
          "text": [
            "40/40 [==============================] - 0s 12ms/step - loss: 3.8104e-04 - accuracy: 0.0000e+00 - mean_squared_error: 3.8104e-04 - val_loss: 3.0731e-04 - val_accuracy: 0.0000e+00 - val_mean_squared_error: 3.0731e-04\n",
            "Epoch 3/20\n",
            "40/40 [==============================] - 1s 13ms/step - loss: 3.0984e-04 - accuracy: 0.0000e+00 - mean_squared_error: 3.0984e-04 - val_loss: 3.1193e-04 - val_accuracy: 0.0000e+00 - val_mean_squared_error: 3.1193e-04\n",
            "Epoch 4/20\n",
            "40/40 [==============================] - 1s 13ms/step - loss: 3.0515e-04 - accuracy: 0.0000e+00 - mean_squared_error: 3.0515e-04 - val_loss: 3.1658e-04 - val_accuracy: 0.0000e+00 - val_mean_squared_error: 3.1658e-04\n",
            "Epoch 5/20\n",
            "40/40 [==============================] - 1s 13ms/step - loss: 3.0164e-04 - accuracy: 0.0000e+00 - mean_squared_error: 3.0164e-04 - val_loss: 3.1723e-04 - val_accuracy: 0.0000e+00 - val_mean_squared_error: 3.1723e-04\n",
            "Epoch 6/20\n",
            "40/40 [==============================] - 1s 13ms/step - loss: 2.9867e-04 - accuracy: 0.0000e+00 - mean_squared_error: 2.9867e-04 - val_loss: 3.1423e-04 - val_accuracy: 0.0000e+00 - val_mean_squared_error: 3.1423e-04\n",
            "Epoch 7/20\n",
            "40/40 [==============================] - 1s 13ms/step - loss: 2.9642e-04 - accuracy: 0.0000e+00 - mean_squared_error: 2.9642e-04 - val_loss: 3.0314e-04 - val_accuracy: 0.0000e+00 - val_mean_squared_error: 3.0314e-04\n",
            "Epoch 8/20\n",
            "40/40 [==============================] - 1s 13ms/step - loss: 2.9345e-04 - accuracy: 0.0000e+00 - mean_squared_error: 2.9345e-04 - val_loss: 3.0228e-04 - val_accuracy: 0.0000e+00 - val_mean_squared_error: 3.0228e-04\n",
            "Epoch 9/20\n",
            "40/40 [==============================] - 0s 12ms/step - loss: 2.9159e-04 - accuracy: 0.0000e+00 - mean_squared_error: 2.9159e-04 - val_loss: 2.9912e-04 - val_accuracy: 0.0000e+00 - val_mean_squared_error: 2.9912e-04\n",
            "Epoch 10/20\n",
            "40/40 [==============================] - 1s 13ms/step - loss: 2.9172e-04 - accuracy: 0.0000e+00 - mean_squared_error: 2.9172e-04 - val_loss: 2.9042e-04 - val_accuracy: 0.0000e+00 - val_mean_squared_error: 2.9042e-04\n",
            "Epoch 11/20\n",
            "40/40 [==============================] - 0s 12ms/step - loss: 2.8904e-04 - accuracy: 0.0000e+00 - mean_squared_error: 2.8904e-04 - val_loss: 2.9459e-04 - val_accuracy: 0.0000e+00 - val_mean_squared_error: 2.9459e-04\n",
            "Epoch 12/20\n",
            "40/40 [==============================] - 1s 13ms/step - loss: 2.8728e-04 - accuracy: 0.0000e+00 - mean_squared_error: 2.8728e-04 - val_loss: 3.0631e-04 - val_accuracy: 0.0000e+00 - val_mean_squared_error: 3.0631e-04\n",
            "Epoch 13/20\n",
            "40/40 [==============================] - 1s 13ms/step - loss: 2.9036e-04 - accuracy: 0.0000e+00 - mean_squared_error: 2.9036e-04 - val_loss: 3.0423e-04 - val_accuracy: 0.0000e+00 - val_mean_squared_error: 3.0423e-04\n",
            "Epoch 14/20\n",
            "40/40 [==============================] - 1s 13ms/step - loss: 2.9051e-04 - accuracy: 0.0000e+00 - mean_squared_error: 2.9051e-04 - val_loss: 2.9118e-04 - val_accuracy: 0.0000e+00 - val_mean_squared_error: 2.9118e-04\n",
            "Epoch 15/20\n",
            "40/40 [==============================] - 1s 14ms/step - loss: 2.8227e-04 - accuracy: 0.0000e+00 - mean_squared_error: 2.8227e-04 - val_loss: 2.9177e-04 - val_accuracy: 0.0000e+00 - val_mean_squared_error: 2.9177e-04\n",
            "Epoch 16/20\n",
            "40/40 [==============================] - 0s 12ms/step - loss: 2.7918e-04 - accuracy: 0.0000e+00 - mean_squared_error: 2.7918e-04 - val_loss: 3.1406e-04 - val_accuracy: 0.0000e+00 - val_mean_squared_error: 3.1406e-04\n",
            "Epoch 17/20\n",
            "40/40 [==============================] - 1s 13ms/step - loss: 2.8127e-04 - accuracy: 0.0000e+00 - mean_squared_error: 2.8127e-04 - val_loss: 3.5082e-04 - val_accuracy: 0.0000e+00 - val_mean_squared_error: 3.5082e-04\n",
            "Epoch 18/20\n",
            "40/40 [==============================] - 1s 13ms/step - loss: 2.8183e-04 - accuracy: 0.0000e+00 - mean_squared_error: 2.8183e-04 - val_loss: 3.3387e-04 - val_accuracy: 0.0000e+00 - val_mean_squared_error: 3.3387e-04\n",
            "Epoch 19/20\n",
            "40/40 [==============================] - 1s 14ms/step - loss: 2.7352e-04 - accuracy: 0.0000e+00 - mean_squared_error: 2.7352e-04 - val_loss: 3.0528e-04 - val_accuracy: 0.0000e+00 - val_mean_squared_error: 3.0528e-04\n",
            "Epoch 20/20\n",
            "40/40 [==============================] - 0s 12ms/step - loss: 2.6500e-04 - accuracy: 0.0000e+00 - mean_squared_error: 2.6500e-04 - val_loss: 3.0561e-04 - val_accuracy: 0.0000e+00 - val_mean_squared_error: 3.0561e-04\n",
            "32/32 [==============================] - 0s 1ms/step\n",
            "1.5199110829529348 0.01814732 2.054517\n",
            "1.6681005372000592\n",
            "Epoch 1/20\n"
          ]
        },
        {
          "name": "stderr",
          "output_type": "stream",
          "text": [
            "2023-12-06 22:44:16.953076: I tensorflow/core/common_runtime/gpu/gpu_device.cc:1886] Created device /device:GPU:0 with 20609 MB memory:  -> device: 0, name: NVIDIA L4, pci bus id: 0000:00:03.0, compute capability: 8.9\n"
          ]
        },
        {
          "name": "stdout",
          "output_type": "stream",
          "text": [
            "40/40 [==============================] - 2s 17ms/step - loss: 0.0040 - accuracy: 0.0000e+00 - mean_squared_error: 0.0040 - val_loss: 5.3501e-04 - val_accuracy: 0.0000e+00 - val_mean_squared_error: 5.3501e-04\n",
            "Epoch 2/20\n",
            "31/40 [======================>.......] - ETA: 0s - loss: 3.3802e-04 - accuracy: 0.0000e+00 - mean_squared_error: 3.3802e-04"
          ]
        },
        {
          "name": "stderr",
          "output_type": "stream",
          "text": [
            "2023-12-06 22:44:18.690812: I tensorflow/core/framework/local_rendezvous.cc:421] Local rendezvous recv item cancelled. Key hash: 12749084622472637211\n"
          ]
        },
        {
          "name": "stdout",
          "output_type": "stream",
          "text": [
            "40/40 [==============================] - 1s 13ms/step - loss: 3.2855e-04 - accuracy: 0.0000e+00 - mean_squared_error: 3.2855e-04 - val_loss: 2.7716e-04 - val_accuracy: 0.0000e+00 - val_mean_squared_error: 2.7716e-04\n",
            "Epoch 3/20\n",
            "40/40 [==============================] - 1s 13ms/step - loss: 2.8380e-04 - accuracy: 0.0000e+00 - mean_squared_error: 2.8380e-04 - val_loss: 2.7656e-04 - val_accuracy: 0.0000e+00 - val_mean_squared_error: 2.7656e-04\n",
            "Epoch 4/20\n",
            "40/40 [==============================] - 1s 13ms/step - loss: 2.7998e-04 - accuracy: 0.0000e+00 - mean_squared_error: 2.7998e-04 - val_loss: 2.6938e-04 - val_accuracy: 0.0000e+00 - val_mean_squared_error: 2.6938e-04\n",
            "Epoch 5/20\n",
            "40/40 [==============================] - 1s 13ms/step - loss: 2.7717e-04 - accuracy: 0.0000e+00 - mean_squared_error: 2.7717e-04 - val_loss: 2.6500e-04 - val_accuracy: 0.0000e+00 - val_mean_squared_error: 2.6500e-04\n",
            "Epoch 6/20\n",
            "40/40 [==============================] - 1s 14ms/step - loss: 2.7665e-04 - accuracy: 0.0000e+00 - mean_squared_error: 2.7665e-04 - val_loss: 2.6252e-04 - val_accuracy: 0.0000e+00 - val_mean_squared_error: 2.6252e-04\n",
            "Epoch 7/20\n",
            "40/40 [==============================] - 1s 13ms/step - loss: 2.7301e-04 - accuracy: 0.0000e+00 - mean_squared_error: 2.7301e-04 - val_loss: 2.6349e-04 - val_accuracy: 0.0000e+00 - val_mean_squared_error: 2.6349e-04\n",
            "Epoch 8/20\n",
            "40/40 [==============================] - 1s 13ms/step - loss: 2.7265e-04 - accuracy: 0.0000e+00 - mean_squared_error: 2.7265e-04 - val_loss: 2.7131e-04 - val_accuracy: 0.0000e+00 - val_mean_squared_error: 2.7131e-04\n",
            "Epoch 9/20\n",
            "40/40 [==============================] - 1s 13ms/step - loss: 2.7021e-04 - accuracy: 0.0000e+00 - mean_squared_error: 2.7021e-04 - val_loss: 2.5954e-04 - val_accuracy: 0.0000e+00 - val_mean_squared_error: 2.5954e-04\n",
            "Epoch 10/20\n",
            "40/40 [==============================] - 1s 13ms/step - loss: 2.6519e-04 - accuracy: 0.0000e+00 - mean_squared_error: 2.6519e-04 - val_loss: 2.5512e-04 - val_accuracy: 0.0000e+00 - val_mean_squared_error: 2.5512e-04\n",
            "Epoch 11/20\n",
            "40/40 [==============================] - 1s 13ms/step - loss: 2.6280e-04 - accuracy: 0.0000e+00 - mean_squared_error: 2.6280e-04 - val_loss: 2.5548e-04 - val_accuracy: 0.0000e+00 - val_mean_squared_error: 2.5548e-04\n",
            "Epoch 12/20\n",
            "40/40 [==============================] - 1s 13ms/step - loss: 2.6105e-04 - accuracy: 0.0000e+00 - mean_squared_error: 2.6105e-04 - val_loss: 2.5286e-04 - val_accuracy: 0.0000e+00 - val_mean_squared_error: 2.5286e-04\n",
            "Epoch 13/20\n",
            "40/40 [==============================] - 1s 13ms/step - loss: 2.5977e-04 - accuracy: 0.0000e+00 - mean_squared_error: 2.5977e-04 - val_loss: 2.4728e-04 - val_accuracy: 0.0000e+00 - val_mean_squared_error: 2.4728e-04\n",
            "Epoch 14/20\n",
            "40/40 [==============================] - 1s 13ms/step - loss: 2.6055e-04 - accuracy: 0.0000e+00 - mean_squared_error: 2.6055e-04 - val_loss: 2.4654e-04 - val_accuracy: 0.0000e+00 - val_mean_squared_error: 2.4654e-04\n",
            "Epoch 15/20\n",
            "40/40 [==============================] - 1s 13ms/step - loss: 2.6255e-04 - accuracy: 0.0000e+00 - mean_squared_error: 2.6255e-04 - val_loss: 2.5910e-04 - val_accuracy: 0.0000e+00 - val_mean_squared_error: 2.5910e-04\n",
            "Epoch 16/20\n",
            "40/40 [==============================] - 1s 13ms/step - loss: 2.6083e-04 - accuracy: 0.0000e+00 - mean_squared_error: 2.6083e-04 - val_loss: 2.5118e-04 - val_accuracy: 0.0000e+00 - val_mean_squared_error: 2.5118e-04\n",
            "Epoch 17/20\n",
            "40/40 [==============================] - 1s 13ms/step - loss: 2.5757e-04 - accuracy: 0.0000e+00 - mean_squared_error: 2.5757e-04 - val_loss: 2.5343e-04 - val_accuracy: 0.0000e+00 - val_mean_squared_error: 2.5343e-04\n",
            "Epoch 18/20\n",
            "40/40 [==============================] - 1s 13ms/step - loss: 2.6044e-04 - accuracy: 0.0000e+00 - mean_squared_error: 2.6044e-04 - val_loss: 2.5784e-04 - val_accuracy: 0.0000e+00 - val_mean_squared_error: 2.5784e-04\n",
            "Epoch 19/20\n",
            "40/40 [==============================] - 1s 13ms/step - loss: 2.5942e-04 - accuracy: 0.0000e+00 - mean_squared_error: 2.5942e-04 - val_loss: 2.4877e-04 - val_accuracy: 0.0000e+00 - val_mean_squared_error: 2.4877e-04\n",
            "Epoch 20/20\n",
            "40/40 [==============================] - 0s 12ms/step - loss: 2.5304e-04 - accuracy: 0.0000e+00 - mean_squared_error: 2.5304e-04 - val_loss: 2.3267e-04 - val_accuracy: 0.0000e+00 - val_mean_squared_error: 2.3267e-04\n",
            "32/32 [==============================] - 0s 1ms/step\n",
            "1.6681005372000592 0.015472157 2.0331314\n",
            "1.8307382802953698\n",
            "Epoch 1/20\n"
          ]
        },
        {
          "name": "stderr",
          "output_type": "stream",
          "text": [
            "2023-12-06 22:44:29.097074: I tensorflow/core/common_runtime/gpu/gpu_device.cc:1886] Created device /device:GPU:0 with 20609 MB memory:  -> device: 0, name: NVIDIA L4, pci bus id: 0000:00:03.0, compute capability: 8.9\n"
          ]
        },
        {
          "name": "stdout",
          "output_type": "stream",
          "text": [
            "     31/Unknown - 1s 5ms/step - loss: 0.0062 - accuracy: 0.0000e+00 - mean_squared_error: 0.0062"
          ]
        },
        {
          "name": "stderr",
          "output_type": "stream",
          "text": [
            "2023-12-06 22:44:30.412892: I tensorflow/core/framework/local_rendezvous.cc:425] Local rendezvous send item cancelled. Key hash: 15332740285842878431\n",
            "2023-12-06 22:44:30.412943: I tensorflow/core/framework/local_rendezvous.cc:421] Local rendezvous recv item cancelled. Key hash: 12749084622472637211\n",
            "2023-12-06 22:44:30.412959: I tensorflow/core/framework/local_rendezvous.cc:425] Local rendezvous send item cancelled. Key hash: 3632331790298042566\n",
            "2023-12-06 22:44:30.413001: I tensorflow/core/framework/local_rendezvous.cc:421] Local rendezvous recv item cancelled. Key hash: 10316076964217112533\n"
          ]
        },
        {
          "name": "stdout",
          "output_type": "stream",
          "text": [
            "40/40 [==============================] - 2s 16ms/step - loss: 0.0051 - accuracy: 0.0000e+00 - mean_squared_error: 0.0051 - val_loss: 4.7392e-04 - val_accuracy: 0.0000e+00 - val_mean_squared_error: 4.7392e-04\n",
            "Epoch 2/20\n",
            "29/40 [====================>.........] - ETA: 0s - loss: 3.6141e-04 - accuracy: 0.0000e+00 - mean_squared_error: 3.6141e-04"
          ]
        },
        {
          "name": "stderr",
          "output_type": "stream",
          "text": [
            "2023-12-06 22:44:30.822468: I tensorflow/core/framework/local_rendezvous.cc:421] Local rendezvous recv item cancelled. Key hash: 12749084622472637211\n",
            "2023-12-06 22:44:30.822524: I tensorflow/core/framework/local_rendezvous.cc:421] Local rendezvous recv item cancelled. Key hash: 10316076964217112533\n"
          ]
        },
        {
          "name": "stdout",
          "output_type": "stream",
          "text": [
            "40/40 [==============================] - 1s 13ms/step - loss: 3.4074e-04 - accuracy: 0.0000e+00 - mean_squared_error: 3.4074e-04 - val_loss: 2.8121e-04 - val_accuracy: 0.0000e+00 - val_mean_squared_error: 2.8121e-04\n",
            "Epoch 3/20\n",
            "40/40 [==============================] - 1s 13ms/step - loss: 2.6852e-04 - accuracy: 0.0000e+00 - mean_squared_error: 2.6852e-04 - val_loss: 2.6688e-04 - val_accuracy: 0.0000e+00 - val_mean_squared_error: 2.6688e-04\n",
            "Epoch 4/20\n",
            "40/40 [==============================] - 1s 13ms/step - loss: 2.6037e-04 - accuracy: 0.0000e+00 - mean_squared_error: 2.6037e-04 - val_loss: 2.6266e-04 - val_accuracy: 0.0000e+00 - val_mean_squared_error: 2.6266e-04\n",
            "Epoch 5/20\n",
            "40/40 [==============================] - 1s 13ms/step - loss: 2.5682e-04 - accuracy: 0.0000e+00 - mean_squared_error: 2.5682e-04 - val_loss: 2.6535e-04 - val_accuracy: 0.0000e+00 - val_mean_squared_error: 2.6535e-04\n",
            "Epoch 6/20\n",
            "40/40 [==============================] - 1s 13ms/step - loss: 2.5448e-04 - accuracy: 0.0000e+00 - mean_squared_error: 2.5448e-04 - val_loss: 2.6112e-04 - val_accuracy: 0.0000e+00 - val_mean_squared_error: 2.6112e-04\n",
            "Epoch 7/20\n",
            "40/40 [==============================] - 1s 13ms/step - loss: 2.5300e-04 - accuracy: 0.0000e+00 - mean_squared_error: 2.5300e-04 - val_loss: 2.6918e-04 - val_accuracy: 0.0000e+00 - val_mean_squared_error: 2.6918e-04\n",
            "Epoch 8/20\n",
            "40/40 [==============================] - 1s 13ms/step - loss: 2.5098e-04 - accuracy: 0.0000e+00 - mean_squared_error: 2.5098e-04 - val_loss: 2.7122e-04 - val_accuracy: 0.0000e+00 - val_mean_squared_error: 2.7122e-04\n",
            "Epoch 9/20\n",
            "40/40 [==============================] - 1s 13ms/step - loss: 2.4929e-04 - accuracy: 0.0000e+00 - mean_squared_error: 2.4929e-04 - val_loss: 2.6210e-04 - val_accuracy: 0.0000e+00 - val_mean_squared_error: 2.6210e-04\n",
            "Epoch 10/20\n",
            "40/40 [==============================] - 0s 12ms/step - loss: 2.4909e-04 - accuracy: 0.0000e+00 - mean_squared_error: 2.4909e-04 - val_loss: 2.5178e-04 - val_accuracy: 0.0000e+00 - val_mean_squared_error: 2.5178e-04\n",
            "Epoch 11/20\n",
            "40/40 [==============================] - 1s 13ms/step - loss: 2.4716e-04 - accuracy: 0.0000e+00 - mean_squared_error: 2.4716e-04 - val_loss: 2.5064e-04 - val_accuracy: 0.0000e+00 - val_mean_squared_error: 2.5064e-04\n",
            "Epoch 12/20\n",
            "40/40 [==============================] - 0s 12ms/step - loss: 2.4413e-04 - accuracy: 0.0000e+00 - mean_squared_error: 2.4413e-04 - val_loss: 2.6403e-04 - val_accuracy: 0.0000e+00 - val_mean_squared_error: 2.6403e-04\n",
            "Epoch 13/20\n",
            "40/40 [==============================] - 1s 13ms/step - loss: 2.4479e-04 - accuracy: 0.0000e+00 - mean_squared_error: 2.4479e-04 - val_loss: 2.8876e-04 - val_accuracy: 0.0000e+00 - val_mean_squared_error: 2.8876e-04\n",
            "Epoch 14/20\n",
            "40/40 [==============================] - 1s 13ms/step - loss: 2.4677e-04 - accuracy: 0.0000e+00 - mean_squared_error: 2.4677e-04 - val_loss: 2.9833e-04 - val_accuracy: 0.0000e+00 - val_mean_squared_error: 2.9833e-04\n",
            "Epoch 15/20\n",
            "40/40 [==============================] - 1s 13ms/step - loss: 2.4737e-04 - accuracy: 0.0000e+00 - mean_squared_error: 2.4737e-04 - val_loss: 2.8266e-04 - val_accuracy: 0.0000e+00 - val_mean_squared_error: 2.8266e-04\n",
            "Epoch 16/20\n",
            "40/40 [==============================] - 1s 13ms/step - loss: 2.4434e-04 - accuracy: 0.0000e+00 - mean_squared_error: 2.4434e-04 - val_loss: 2.9882e-04 - val_accuracy: 0.0000e+00 - val_mean_squared_error: 2.9882e-04\n",
            "Epoch 17/20\n",
            "40/40 [==============================] - 1s 13ms/step - loss: 2.4665e-04 - accuracy: 0.0000e+00 - mean_squared_error: 2.4665e-04 - val_loss: 3.3643e-04 - val_accuracy: 0.0000e+00 - val_mean_squared_error: 3.3643e-04\n",
            "Epoch 18/20\n",
            "40/40 [==============================] - 1s 13ms/step - loss: 2.5068e-04 - accuracy: 0.0000e+00 - mean_squared_error: 2.5068e-04 - val_loss: 3.5601e-04 - val_accuracy: 0.0000e+00 - val_mean_squared_error: 3.5601e-04\n",
            "Epoch 19/20\n",
            "40/40 [==============================] - 1s 13ms/step - loss: 2.5054e-04 - accuracy: 0.0000e+00 - mean_squared_error: 2.5054e-04 - val_loss: 3.0796e-04 - val_accuracy: 0.0000e+00 - val_mean_squared_error: 3.0796e-04\n",
            "Epoch 20/20\n",
            "40/40 [==============================] - 1s 13ms/step - loss: 2.4078e-04 - accuracy: 0.0000e+00 - mean_squared_error: 2.4078e-04 - val_loss: 2.8972e-04 - val_accuracy: 0.0000e+00 - val_mean_squared_error: 2.8972e-04\n",
            "32/32 [==============================] - 0s 1ms/step\n",
            "1.8307382802953698 0.016279614 1.9816649\n",
            "2.0092330025650478\n",
            "Epoch 1/20\n"
          ]
        },
        {
          "name": "stderr",
          "output_type": "stream",
          "text": [
            "2023-12-06 22:44:41.178714: I tensorflow/core/common_runtime/gpu/gpu_device.cc:1886] Created device /device:GPU:0 with 20609 MB memory:  -> device: 0, name: NVIDIA L4, pci bus id: 0000:00:03.0, compute capability: 8.9\n"
          ]
        },
        {
          "name": "stdout",
          "output_type": "stream",
          "text": [
            "     31/Unknown - 1s 5ms/step - loss: 0.0074 - accuracy: 0.0000e+00 - mean_squared_error: 0.0074"
          ]
        },
        {
          "name": "stderr",
          "output_type": "stream",
          "text": [
            "2023-12-06 22:44:42.495183: I tensorflow/core/framework/local_rendezvous.cc:425] Local rendezvous send item cancelled. Key hash: 3632331790298042566\n",
            "2023-12-06 22:44:42.495244: I tensorflow/core/framework/local_rendezvous.cc:421] Local rendezvous recv item cancelled. Key hash: 12749084622472637211\n",
            "2023-12-06 22:44:42.495270: I tensorflow/core/framework/local_rendezvous.cc:421] Local rendezvous recv item cancelled. Key hash: 10316076964217112533\n"
          ]
        },
        {
          "name": "stdout",
          "output_type": "stream",
          "text": [
            "40/40 [==============================] - 2s 16ms/step - loss: 0.0060 - accuracy: 0.0000e+00 - mean_squared_error: 0.0060 - val_loss: 7.5779e-04 - val_accuracy: 0.0000e+00 - val_mean_squared_error: 7.5779e-04\n",
            "Epoch 2/20\n",
            "29/40 [====================>.........] - ETA: 0s - loss: 3.8967e-04 - accuracy: 0.0000e+00 - mean_squared_error: 3.8967e-04"
          ]
        },
        {
          "name": "stderr",
          "output_type": "stream",
          "text": [
            "2023-12-06 22:44:42.912917: I tensorflow/core/framework/local_rendezvous.cc:421] Local rendezvous recv item cancelled. Key hash: 12749084622472637211\n",
            "2023-12-06 22:44:42.912970: I tensorflow/core/framework/local_rendezvous.cc:421] Local rendezvous recv item cancelled. Key hash: 10316076964217112533\n"
          ]
        },
        {
          "name": "stdout",
          "output_type": "stream",
          "text": [
            "40/40 [==============================] - 1s 13ms/step - loss: 3.6207e-04 - accuracy: 0.0000e+00 - mean_squared_error: 3.6207e-04 - val_loss: 2.7285e-04 - val_accuracy: 0.0000e+00 - val_mean_squared_error: 2.7285e-04\n",
            "Epoch 3/20\n",
            "40/40 [==============================] - 1s 13ms/step - loss: 2.6411e-04 - accuracy: 0.0000e+00 - mean_squared_error: 2.6411e-04 - val_loss: 2.6132e-04 - val_accuracy: 0.0000e+00 - val_mean_squared_error: 2.6132e-04\n",
            "Epoch 4/20\n",
            "40/40 [==============================] - 0s 12ms/step - loss: 2.6408e-04 - accuracy: 0.0000e+00 - mean_squared_error: 2.6408e-04 - val_loss: 2.6278e-04 - val_accuracy: 0.0000e+00 - val_mean_squared_error: 2.6278e-04\n",
            "Epoch 5/20\n",
            "40/40 [==============================] - 1s 13ms/step - loss: 2.6594e-04 - accuracy: 0.0000e+00 - mean_squared_error: 2.6594e-04 - val_loss: 2.9634e-04 - val_accuracy: 0.0000e+00 - val_mean_squared_error: 2.9634e-04\n",
            "Epoch 6/20\n",
            "40/40 [==============================] - 1s 13ms/step - loss: 2.6233e-04 - accuracy: 0.0000e+00 - mean_squared_error: 2.6233e-04 - val_loss: 2.6462e-04 - val_accuracy: 0.0000e+00 - val_mean_squared_error: 2.6462e-04\n",
            "Epoch 7/20\n",
            "40/40 [==============================] - 0s 12ms/step - loss: 2.5068e-04 - accuracy: 0.0000e+00 - mean_squared_error: 2.5068e-04 - val_loss: 2.5137e-04 - val_accuracy: 0.0000e+00 - val_mean_squared_error: 2.5137e-04\n",
            "Epoch 8/20\n",
            "40/40 [==============================] - 1s 13ms/step - loss: 2.4814e-04 - accuracy: 0.0000e+00 - mean_squared_error: 2.4814e-04 - val_loss: 2.4362e-04 - val_accuracy: 0.0000e+00 - val_mean_squared_error: 2.4362e-04\n",
            "Epoch 9/20\n",
            "40/40 [==============================] - 0s 13ms/step - loss: 2.4609e-04 - accuracy: 0.0000e+00 - mean_squared_error: 2.4609e-04 - val_loss: 2.4096e-04 - val_accuracy: 0.0000e+00 - val_mean_squared_error: 2.4096e-04\n",
            "Epoch 10/20\n",
            "40/40 [==============================] - 1s 13ms/step - loss: 2.4489e-04 - accuracy: 0.0000e+00 - mean_squared_error: 2.4489e-04 - val_loss: 2.4225e-04 - val_accuracy: 0.0000e+00 - val_mean_squared_error: 2.4225e-04\n",
            "Epoch 11/20\n",
            "40/40 [==============================] - 1s 14ms/step - loss: 2.4566e-04 - accuracy: 0.0000e+00 - mean_squared_error: 2.4566e-04 - val_loss: 2.5075e-04 - val_accuracy: 0.0000e+00 - val_mean_squared_error: 2.5075e-04\n",
            "Epoch 12/20\n",
            "40/40 [==============================] - 1s 13ms/step - loss: 2.4747e-04 - accuracy: 0.0000e+00 - mean_squared_error: 2.4747e-04 - val_loss: 2.6043e-04 - val_accuracy: 0.0000e+00 - val_mean_squared_error: 2.6043e-04\n",
            "Epoch 13/20\n",
            "40/40 [==============================] - 1s 13ms/step - loss: 2.4847e-04 - accuracy: 0.0000e+00 - mean_squared_error: 2.4847e-04 - val_loss: 2.5157e-04 - val_accuracy: 0.0000e+00 - val_mean_squared_error: 2.5157e-04\n",
            "Epoch 14/20\n",
            "40/40 [==============================] - 1s 13ms/step - loss: 2.4906e-04 - accuracy: 0.0000e+00 - mean_squared_error: 2.4906e-04 - val_loss: 2.6212e-04 - val_accuracy: 0.0000e+00 - val_mean_squared_error: 2.6212e-04\n",
            "Epoch 15/20\n",
            "40/40 [==============================] - 1s 13ms/step - loss: 2.5637e-04 - accuracy: 0.0000e+00 - mean_squared_error: 2.5637e-04 - val_loss: 3.0150e-04 - val_accuracy: 0.0000e+00 - val_mean_squared_error: 3.0150e-04\n",
            "Epoch 16/20\n",
            "40/40 [==============================] - 1s 13ms/step - loss: 2.6359e-04 - accuracy: 0.0000e+00 - mean_squared_error: 2.6359e-04 - val_loss: 3.3960e-04 - val_accuracy: 0.0000e+00 - val_mean_squared_error: 3.3960e-04\n",
            "Epoch 17/20\n",
            "40/40 [==============================] - 1s 13ms/step - loss: 2.5670e-04 - accuracy: 0.0000e+00 - mean_squared_error: 2.5670e-04 - val_loss: 3.0751e-04 - val_accuracy: 0.0000e+00 - val_mean_squared_error: 3.0751e-04\n",
            "Epoch 18/20\n",
            "40/40 [==============================] - 1s 13ms/step - loss: 2.4175e-04 - accuracy: 0.0000e+00 - mean_squared_error: 2.4175e-04 - val_loss: 2.7870e-04 - val_accuracy: 0.0000e+00 - val_mean_squared_error: 2.7870e-04\n",
            "Epoch 19/20\n",
            "40/40 [==============================] - 1s 14ms/step - loss: 2.3526e-04 - accuracy: 0.0000e+00 - mean_squared_error: 2.3526e-04 - val_loss: 2.8335e-04 - val_accuracy: 0.0000e+00 - val_mean_squared_error: 2.8335e-04\n",
            "Epoch 20/20\n",
            "40/40 [==============================] - 1s 13ms/step - loss: 2.3481e-04 - accuracy: 0.0000e+00 - mean_squared_error: 2.3481e-04 - val_loss: 3.0225e-04 - val_accuracy: 0.0000e+00 - val_mean_squared_error: 3.0225e-04\n",
            "32/32 [==============================] - 0s 1ms/step\n",
            "2.0092330025650478 0.017282184 2.0587118\n",
            "2.2051307399030455\n",
            "Epoch 1/20\n"
          ]
        },
        {
          "name": "stderr",
          "output_type": "stream",
          "text": [
            "2023-12-06 22:44:53.347186: I tensorflow/core/common_runtime/gpu/gpu_device.cc:1886] Created device /device:GPU:0 with 20609 MB memory:  -> device: 0, name: NVIDIA L4, pci bus id: 0000:00:03.0, compute capability: 8.9\n"
          ]
        },
        {
          "name": "stdout",
          "output_type": "stream",
          "text": [
            "40/40 [==============================] - 2s 16ms/step - loss: 0.0073 - accuracy: 0.0000e+00 - mean_squared_error: 0.0073 - val_loss: 4.8262e-04 - val_accuracy: 0.0000e+00 - val_mean_squared_error: 4.8262e-04\n",
            "Epoch 2/20\n",
            "31/40 [======================>.......] - ETA: 0s - loss: 3.9191e-04 - accuracy: 0.0000e+00 - mean_squared_error: 3.9191e-04"
          ]
        },
        {
          "name": "stderr",
          "output_type": "stream",
          "text": [
            "2023-12-06 22:44:55.072017: I tensorflow/core/framework/local_rendezvous.cc:421] Local rendezvous recv item cancelled. Key hash: 12749084622472637211\n",
            "2023-12-06 22:44:55.072076: I tensorflow/core/framework/local_rendezvous.cc:421] Local rendezvous recv item cancelled. Key hash: 10316076964217112533\n"
          ]
        },
        {
          "name": "stdout",
          "output_type": "stream",
          "text": [
            "40/40 [==============================] - 1s 13ms/step - loss: 3.6684e-04 - accuracy: 0.0000e+00 - mean_squared_error: 3.6684e-04 - val_loss: 2.7911e-04 - val_accuracy: 0.0000e+00 - val_mean_squared_error: 2.7911e-04\n",
            "Epoch 3/20\n",
            "40/40 [==============================] - 1s 13ms/step - loss: 2.5254e-04 - accuracy: 0.0000e+00 - mean_squared_error: 2.5254e-04 - val_loss: 2.5692e-04 - val_accuracy: 0.0000e+00 - val_mean_squared_error: 2.5692e-04\n",
            "Epoch 4/20\n",
            "40/40 [==============================] - 1s 13ms/step - loss: 2.4500e-04 - accuracy: 0.0000e+00 - mean_squared_error: 2.4500e-04 - val_loss: 2.5058e-04 - val_accuracy: 0.0000e+00 - val_mean_squared_error: 2.5058e-04\n",
            "Epoch 5/20\n",
            "40/40 [==============================] - 1s 13ms/step - loss: 2.4004e-04 - accuracy: 0.0000e+00 - mean_squared_error: 2.4004e-04 - val_loss: 2.4399e-04 - val_accuracy: 0.0000e+00 - val_mean_squared_error: 2.4399e-04\n",
            "Epoch 6/20\n",
            "40/40 [==============================] - 1s 13ms/step - loss: 2.3753e-04 - accuracy: 0.0000e+00 - mean_squared_error: 2.3753e-04 - val_loss: 2.4168e-04 - val_accuracy: 0.0000e+00 - val_mean_squared_error: 2.4168e-04\n",
            "Epoch 7/20\n",
            "40/40 [==============================] - 1s 13ms/step - loss: 2.3642e-04 - accuracy: 0.0000e+00 - mean_squared_error: 2.3642e-04 - val_loss: 2.3830e-04 - val_accuracy: 0.0000e+00 - val_mean_squared_error: 2.3830e-04\n",
            "Epoch 8/20\n",
            "40/40 [==============================] - 1s 13ms/step - loss: 2.3558e-04 - accuracy: 0.0000e+00 - mean_squared_error: 2.3558e-04 - val_loss: 2.3578e-04 - val_accuracy: 0.0000e+00 - val_mean_squared_error: 2.3578e-04\n",
            "Epoch 9/20\n",
            "40/40 [==============================] - 1s 13ms/step - loss: 2.3592e-04 - accuracy: 0.0000e+00 - mean_squared_error: 2.3592e-04 - val_loss: 2.3457e-04 - val_accuracy: 0.0000e+00 - val_mean_squared_error: 2.3457e-04\n",
            "Epoch 10/20\n",
            "40/40 [==============================] - 0s 13ms/step - loss: 2.3467e-04 - accuracy: 0.0000e+00 - mean_squared_error: 2.3467e-04 - val_loss: 2.4177e-04 - val_accuracy: 0.0000e+00 - val_mean_squared_error: 2.4177e-04\n",
            "Epoch 11/20\n",
            "40/40 [==============================] - 1s 13ms/step - loss: 2.3272e-04 - accuracy: 0.0000e+00 - mean_squared_error: 2.3272e-04 - val_loss: 2.4917e-04 - val_accuracy: 0.0000e+00 - val_mean_squared_error: 2.4917e-04\n",
            "Epoch 12/20\n",
            "40/40 [==============================] - 1s 13ms/step - loss: 2.3241e-04 - accuracy: 0.0000e+00 - mean_squared_error: 2.3241e-04 - val_loss: 2.5045e-04 - val_accuracy: 0.0000e+00 - val_mean_squared_error: 2.5045e-04\n",
            "Epoch 13/20\n",
            "40/40 [==============================] - 0s 13ms/step - loss: 2.3233e-04 - accuracy: 0.0000e+00 - mean_squared_error: 2.3233e-04 - val_loss: 2.7818e-04 - val_accuracy: 0.0000e+00 - val_mean_squared_error: 2.7818e-04\n",
            "Epoch 14/20\n",
            "40/40 [==============================] - 1s 13ms/step - loss: 2.3255e-04 - accuracy: 0.0000e+00 - mean_squared_error: 2.3255e-04 - val_loss: 2.9729e-04 - val_accuracy: 0.0000e+00 - val_mean_squared_error: 2.9729e-04\n",
            "Epoch 15/20\n",
            "40/40 [==============================] - 1s 13ms/step - loss: 2.2788e-04 - accuracy: 0.0000e+00 - mean_squared_error: 2.2788e-04 - val_loss: 2.7020e-04 - val_accuracy: 0.0000e+00 - val_mean_squared_error: 2.7020e-04\n",
            "Epoch 16/20\n",
            "40/40 [==============================] - 1s 13ms/step - loss: 2.2195e-04 - accuracy: 0.0000e+00 - mean_squared_error: 2.2195e-04 - val_loss: 2.6465e-04 - val_accuracy: 0.0000e+00 - val_mean_squared_error: 2.6465e-04\n",
            "Epoch 17/20\n",
            "40/40 [==============================] - 1s 13ms/step - loss: 2.1994e-04 - accuracy: 0.0000e+00 - mean_squared_error: 2.1994e-04 - val_loss: 2.6752e-04 - val_accuracy: 0.0000e+00 - val_mean_squared_error: 2.6752e-04\n",
            "Epoch 18/20\n",
            "40/40 [==============================] - 1s 13ms/step - loss: 2.1863e-04 - accuracy: 0.0000e+00 - mean_squared_error: 2.1863e-04 - val_loss: 2.7402e-04 - val_accuracy: 0.0000e+00 - val_mean_squared_error: 2.7402e-04\n",
            "Epoch 19/20\n",
            "40/40 [==============================] - 1s 14ms/step - loss: 2.1697e-04 - accuracy: 0.0000e+00 - mean_squared_error: 2.1697e-04 - val_loss: 2.5875e-04 - val_accuracy: 0.0000e+00 - val_mean_squared_error: 2.5875e-04\n",
            "Epoch 20/20\n",
            "40/40 [==============================] - 0s 13ms/step - loss: 2.1360e-04 - accuracy: 0.0000e+00 - mean_squared_error: 2.1360e-04 - val_loss: 2.4175e-04 - val_accuracy: 0.0000e+00 - val_mean_squared_error: 2.4175e-04\n",
            "32/32 [==============================] - 0s 1ms/step\n",
            "2.2051307399030455 0.015410561 2.0164604\n",
            "2.4201282647943834\n",
            "Epoch 1/20\n"
          ]
        },
        {
          "name": "stderr",
          "output_type": "stream",
          "text": [
            "2023-12-06 22:45:05.441227: I tensorflow/core/common_runtime/gpu/gpu_device.cc:1886] Created device /device:GPU:0 with 20609 MB memory:  -> device: 0, name: NVIDIA L4, pci bus id: 0000:00:03.0, compute capability: 8.9\n"
          ]
        },
        {
          "name": "stdout",
          "output_type": "stream",
          "text": [
            "     39/Unknown - 1s 6ms/step - loss: 0.0073 - accuracy: 0.0000e+00 - mean_squared_error: 0.0073"
          ]
        },
        {
          "name": "stderr",
          "output_type": "stream",
          "text": [
            "2023-12-06 22:45:06.781860: I tensorflow/core/framework/local_rendezvous.cc:421] Local rendezvous recv item cancelled. Key hash: 12749084622472637211\n",
            "2023-12-06 22:45:06.781922: I tensorflow/core/framework/local_rendezvous.cc:421] Local rendezvous recv item cancelled. Key hash: 10316076964217112533\n"
          ]
        },
        {
          "name": "stdout",
          "output_type": "stream",
          "text": [
            "40/40 [==============================] - 2s 18ms/step - loss: 0.0073 - accuracy: 0.0000e+00 - mean_squared_error: 0.0073 - val_loss: 5.3396e-04 - val_accuracy: 0.0000e+00 - val_mean_squared_error: 5.3396e-04\n",
            "Epoch 2/20\n",
            "31/40 [======================>.......] - ETA: 0s - loss: 3.7396e-04 - accuracy: 0.0000e+00 - mean_squared_error: 3.7396e-04"
          ]
        },
        {
          "name": "stderr",
          "output_type": "stream",
          "text": [
            "2023-12-06 22:45:07.243738: I tensorflow/core/framework/local_rendezvous.cc:421] Local rendezvous recv item cancelled. Key hash: 12749084622472637211\n",
            "2023-12-06 22:45:07.243796: I tensorflow/core/framework/local_rendezvous.cc:421] Local rendezvous recv item cancelled. Key hash: 10316076964217112533\n"
          ]
        },
        {
          "name": "stdout",
          "output_type": "stream",
          "text": [
            "40/40 [==============================] - 1s 13ms/step - loss: 3.4848e-04 - accuracy: 0.0000e+00 - mean_squared_error: 3.4848e-04 - val_loss: 2.4452e-04 - val_accuracy: 0.0000e+00 - val_mean_squared_error: 2.4452e-04\n",
            "Epoch 3/20\n",
            "40/40 [==============================] - 0s 12ms/step - loss: 2.4023e-04 - accuracy: 0.0000e+00 - mean_squared_error: 2.4023e-04 - val_loss: 2.3241e-04 - val_accuracy: 0.0000e+00 - val_mean_squared_error: 2.3241e-04\n",
            "Epoch 4/20\n",
            "40/40 [==============================] - 1s 13ms/step - loss: 2.3325e-04 - accuracy: 0.0000e+00 - mean_squared_error: 2.3325e-04 - val_loss: 2.2878e-04 - val_accuracy: 0.0000e+00 - val_mean_squared_error: 2.2878e-04\n",
            "Epoch 5/20\n",
            "40/40 [==============================] - 1s 13ms/step - loss: 2.2921e-04 - accuracy: 0.0000e+00 - mean_squared_error: 2.2921e-04 - val_loss: 2.2536e-04 - val_accuracy: 0.0000e+00 - val_mean_squared_error: 2.2536e-04\n",
            "Epoch 6/20\n",
            "40/40 [==============================] - 0s 12ms/step - loss: 2.2760e-04 - accuracy: 0.0000e+00 - mean_squared_error: 2.2760e-04 - val_loss: 2.3231e-04 - val_accuracy: 0.0000e+00 - val_mean_squared_error: 2.3231e-04\n",
            "Epoch 7/20\n",
            "40/40 [==============================] - 1s 13ms/step - loss: 2.2462e-04 - accuracy: 0.0000e+00 - mean_squared_error: 2.2462e-04 - val_loss: 2.3264e-04 - val_accuracy: 0.0000e+00 - val_mean_squared_error: 2.3264e-04\n",
            "Epoch 8/20\n",
            "40/40 [==============================] - 1s 13ms/step - loss: 2.2353e-04 - accuracy: 0.0000e+00 - mean_squared_error: 2.2353e-04 - val_loss: 2.2484e-04 - val_accuracy: 0.0000e+00 - val_mean_squared_error: 2.2484e-04\n",
            "Epoch 9/20\n",
            "40/40 [==============================] - 1s 13ms/step - loss: 2.2332e-04 - accuracy: 0.0000e+00 - mean_squared_error: 2.2332e-04 - val_loss: 2.1613e-04 - val_accuracy: 0.0000e+00 - val_mean_squared_error: 2.1613e-04\n",
            "Epoch 10/20\n",
            "40/40 [==============================] - 1s 13ms/step - loss: 2.2127e-04 - accuracy: 0.0000e+00 - mean_squared_error: 2.2127e-04 - val_loss: 2.1399e-04 - val_accuracy: 0.0000e+00 - val_mean_squared_error: 2.1399e-04\n",
            "Epoch 11/20\n",
            "40/40 [==============================] - 1s 13ms/step - loss: 2.1781e-04 - accuracy: 0.0000e+00 - mean_squared_error: 2.1781e-04 - val_loss: 2.1534e-04 - val_accuracy: 0.0000e+00 - val_mean_squared_error: 2.1534e-04\n",
            "Epoch 12/20\n",
            "40/40 [==============================] - 1s 13ms/step - loss: 2.1675e-04 - accuracy: 0.0000e+00 - mean_squared_error: 2.1675e-04 - val_loss: 2.1699e-04 - val_accuracy: 0.0000e+00 - val_mean_squared_error: 2.1699e-04\n",
            "Epoch 13/20\n",
            "40/40 [==============================] - 1s 13ms/step - loss: 2.1647e-04 - accuracy: 0.0000e+00 - mean_squared_error: 2.1647e-04 - val_loss: 2.1544e-04 - val_accuracy: 0.0000e+00 - val_mean_squared_error: 2.1544e-04\n",
            "Epoch 14/20\n",
            "40/40 [==============================] - 1s 13ms/step - loss: 2.1636e-04 - accuracy: 0.0000e+00 - mean_squared_error: 2.1636e-04 - val_loss: 2.0997e-04 - val_accuracy: 0.0000e+00 - val_mean_squared_error: 2.0997e-04\n",
            "Epoch 15/20\n",
            "40/40 [==============================] - 1s 13ms/step - loss: 2.1546e-04 - accuracy: 0.0000e+00 - mean_squared_error: 2.1546e-04 - val_loss: 2.0823e-04 - val_accuracy: 0.0000e+00 - val_mean_squared_error: 2.0823e-04\n",
            "Epoch 16/20\n",
            "40/40 [==============================] - 1s 13ms/step - loss: 2.1627e-04 - accuracy: 0.0000e+00 - mean_squared_error: 2.1627e-04 - val_loss: 2.1260e-04 - val_accuracy: 0.0000e+00 - val_mean_squared_error: 2.1260e-04\n",
            "Epoch 17/20\n",
            "40/40 [==============================] - 1s 13ms/step - loss: 2.1866e-04 - accuracy: 0.0000e+00 - mean_squared_error: 2.1866e-04 - val_loss: 2.3148e-04 - val_accuracy: 0.0000e+00 - val_mean_squared_error: 2.3148e-04\n",
            "Epoch 18/20\n",
            "40/40 [==============================] - 0s 12ms/step - loss: 2.1867e-04 - accuracy: 0.0000e+00 - mean_squared_error: 2.1867e-04 - val_loss: 2.5652e-04 - val_accuracy: 0.0000e+00 - val_mean_squared_error: 2.5652e-04\n",
            "Epoch 19/20\n",
            "40/40 [==============================] - 1s 13ms/step - loss: 2.1422e-04 - accuracy: 0.0000e+00 - mean_squared_error: 2.1422e-04 - val_loss: 2.4560e-04 - val_accuracy: 0.0000e+00 - val_mean_squared_error: 2.4560e-04\n",
            "Epoch 20/20\n",
            "40/40 [==============================] - 1s 13ms/step - loss: 2.1167e-04 - accuracy: 0.0000e+00 - mean_squared_error: 2.1167e-04 - val_loss: 2.3140e-04 - val_accuracy: 0.0000e+00 - val_mean_squared_error: 2.3140e-04\n",
            "32/32 [==============================] - 0s 1ms/step\n",
            "2.4201282647943834 0.015255536 2.0314224\n",
            "2.656087782946687\n",
            "Epoch 1/20\n"
          ]
        },
        {
          "name": "stderr",
          "output_type": "stream",
          "text": [
            "2023-12-06 22:45:17.636601: I tensorflow/core/common_runtime/gpu/gpu_device.cc:1886] Created device /device:GPU:0 with 20609 MB memory:  -> device: 0, name: NVIDIA L4, pci bus id: 0000:00:03.0, compute capability: 8.9\n"
          ]
        },
        {
          "name": "stdout",
          "output_type": "stream",
          "text": [
            "     31/Unknown - 1s 5ms/step - loss: 0.0101 - accuracy: 0.0000e+00 - mean_squared_error: 0.0101"
          ]
        },
        {
          "name": "stderr",
          "output_type": "stream",
          "text": [
            "2023-12-06 22:45:18.950894: I tensorflow/core/framework/local_rendezvous.cc:421] Local rendezvous recv item cancelled. Key hash: 10316076964217112533\n"
          ]
        },
        {
          "name": "stdout",
          "output_type": "stream",
          "text": [
            "40/40 [==============================] - 2s 16ms/step - loss: 0.0083 - accuracy: 0.0000e+00 - mean_squared_error: 0.0083 - val_loss: 4.2320e-04 - val_accuracy: 0.0000e+00 - val_mean_squared_error: 4.2320e-04\n",
            "Epoch 2/20\n",
            "31/40 [======================>.......] - ETA: 0s - loss: 3.5444e-04 - accuracy: 0.0000e+00 - mean_squared_error: 3.5444e-04"
          ]
        },
        {
          "name": "stderr",
          "output_type": "stream",
          "text": [
            "2023-12-06 22:45:19.370715: I tensorflow/core/framework/local_rendezvous.cc:421] Local rendezvous recv item cancelled. Key hash: 10316076964217112533\n"
          ]
        },
        {
          "name": "stdout",
          "output_type": "stream",
          "text": [
            "40/40 [==============================] - 1s 13ms/step - loss: 3.2986e-04 - accuracy: 0.0000e+00 - mean_squared_error: 3.2986e-04 - val_loss: 2.3831e-04 - val_accuracy: 0.0000e+00 - val_mean_squared_error: 2.3831e-04\n",
            "Epoch 3/20\n",
            "40/40 [==============================] - 1s 14ms/step - loss: 2.2290e-04 - accuracy: 0.0000e+00 - mean_squared_error: 2.2290e-04 - val_loss: 2.2562e-04 - val_accuracy: 0.0000e+00 - val_mean_squared_error: 2.2562e-04\n",
            "Epoch 4/20\n",
            "40/40 [==============================] - 1s 13ms/step - loss: 2.1568e-04 - accuracy: 0.0000e+00 - mean_squared_error: 2.1568e-04 - val_loss: 2.2332e-04 - val_accuracy: 0.0000e+00 - val_mean_squared_error: 2.2332e-04\n",
            "Epoch 5/20\n",
            "40/40 [==============================] - 1s 13ms/step - loss: 2.1313e-04 - accuracy: 0.0000e+00 - mean_squared_error: 2.1313e-04 - val_loss: 2.1780e-04 - val_accuracy: 0.0000e+00 - val_mean_squared_error: 2.1780e-04\n",
            "Epoch 6/20\n",
            "40/40 [==============================] - 1s 13ms/step - loss: 2.1297e-04 - accuracy: 0.0000e+00 - mean_squared_error: 2.1297e-04 - val_loss: 2.1564e-04 - val_accuracy: 0.0000e+00 - val_mean_squared_error: 2.1564e-04\n",
            "Epoch 7/20\n",
            "40/40 [==============================] - 1s 14ms/step - loss: 2.1368e-04 - accuracy: 0.0000e+00 - mean_squared_error: 2.1368e-04 - val_loss: 2.2315e-04 - val_accuracy: 0.0000e+00 - val_mean_squared_error: 2.2315e-04\n",
            "Epoch 8/20\n",
            "40/40 [==============================] - 0s 13ms/step - loss: 2.1576e-04 - accuracy: 0.0000e+00 - mean_squared_error: 2.1576e-04 - val_loss: 2.2368e-04 - val_accuracy: 0.0000e+00 - val_mean_squared_error: 2.2368e-04\n",
            "Epoch 9/20\n",
            "40/40 [==============================] - 1s 13ms/step - loss: 2.1958e-04 - accuracy: 0.0000e+00 - mean_squared_error: 2.1958e-04 - val_loss: 2.4454e-04 - val_accuracy: 0.0000e+00 - val_mean_squared_error: 2.4454e-04\n",
            "Epoch 10/20\n",
            "40/40 [==============================] - 1s 13ms/step - loss: 2.2661e-04 - accuracy: 0.0000e+00 - mean_squared_error: 2.2661e-04 - val_loss: 2.7027e-04 - val_accuracy: 0.0000e+00 - val_mean_squared_error: 2.7027e-04\n",
            "Epoch 11/20\n",
            "40/40 [==============================] - 1s 13ms/step - loss: 2.2443e-04 - accuracy: 0.0000e+00 - mean_squared_error: 2.2443e-04 - val_loss: 2.3916e-04 - val_accuracy: 0.0000e+00 - val_mean_squared_error: 2.3916e-04\n",
            "Epoch 12/20\n",
            "40/40 [==============================] - 1s 13ms/step - loss: 2.1079e-04 - accuracy: 0.0000e+00 - mean_squared_error: 2.1079e-04 - val_loss: 2.1425e-04 - val_accuracy: 0.0000e+00 - val_mean_squared_error: 2.1425e-04\n",
            "Epoch 13/20\n",
            "40/40 [==============================] - 0s 12ms/step - loss: 2.0460e-04 - accuracy: 0.0000e+00 - mean_squared_error: 2.0460e-04 - val_loss: 2.0828e-04 - val_accuracy: 0.0000e+00 - val_mean_squared_error: 2.0828e-04\n",
            "Epoch 14/20\n",
            "40/40 [==============================] - 1s 13ms/step - loss: 2.0220e-04 - accuracy: 0.0000e+00 - mean_squared_error: 2.0220e-04 - val_loss: 2.0754e-04 - val_accuracy: 0.0000e+00 - val_mean_squared_error: 2.0754e-04\n",
            "Epoch 15/20\n",
            "40/40 [==============================] - 1s 13ms/step - loss: 2.0066e-04 - accuracy: 0.0000e+00 - mean_squared_error: 2.0066e-04 - val_loss: 2.1185e-04 - val_accuracy: 0.0000e+00 - val_mean_squared_error: 2.1185e-04\n",
            "Epoch 16/20\n",
            "40/40 [==============================] - 1s 13ms/step - loss: 1.9924e-04 - accuracy: 0.0000e+00 - mean_squared_error: 1.9924e-04 - val_loss: 2.1340e-04 - val_accuracy: 0.0000e+00 - val_mean_squared_error: 2.1340e-04\n",
            "Epoch 17/20\n",
            "40/40 [==============================] - 0s 13ms/step - loss: 1.9791e-04 - accuracy: 0.0000e+00 - mean_squared_error: 1.9791e-04 - val_loss: 2.1152e-04 - val_accuracy: 0.0000e+00 - val_mean_squared_error: 2.1152e-04\n",
            "Epoch 18/20\n",
            "40/40 [==============================] - 1s 13ms/step - loss: 1.9729e-04 - accuracy: 0.0000e+00 - mean_squared_error: 1.9729e-04 - val_loss: 2.1435e-04 - val_accuracy: 0.0000e+00 - val_mean_squared_error: 2.1435e-04\n",
            "Epoch 19/20\n",
            "40/40 [==============================] - 1s 13ms/step - loss: 1.9730e-04 - accuracy: 0.0000e+00 - mean_squared_error: 1.9730e-04 - val_loss: 2.2298e-04 - val_accuracy: 0.0000e+00 - val_mean_squared_error: 2.2298e-04\n",
            "Epoch 20/20\n",
            "40/40 [==============================] - 1s 13ms/step - loss: 1.9650e-04 - accuracy: 0.0000e+00 - mean_squared_error: 1.9650e-04 - val_loss: 2.2824e-04 - val_accuracy: 0.0000e+00 - val_mean_squared_error: 2.2824e-04\n",
            "32/32 [==============================] - 0s 1ms/step\n",
            "2.656087782946687 0.015142082 2.057258\n",
            "2.9150530628251787\n",
            "Epoch 1/20\n"
          ]
        },
        {
          "name": "stderr",
          "output_type": "stream",
          "text": [
            "2023-12-06 22:45:29.817109: I tensorflow/core/common_runtime/gpu/gpu_device.cc:1886] Created device /device:GPU:0 with 20609 MB memory:  -> device: 0, name: NVIDIA L4, pci bus id: 0000:00:03.0, compute capability: 8.9\n"
          ]
        },
        {
          "name": "stdout",
          "output_type": "stream",
          "text": [
            "40/40 [==============================] - 2s 16ms/step - loss: 0.0091 - accuracy: 0.0000e+00 - mean_squared_error: 0.0091 - val_loss: 5.1713e-04 - val_accuracy: 0.0000e+00 - val_mean_squared_error: 5.1713e-04\n",
            "Epoch 2/20\n",
            "31/40 [======================>.......] - ETA: 0s - loss: 3.9506e-04 - accuracy: 0.0000e+00 - mean_squared_error: 3.9506e-04"
          ]
        },
        {
          "name": "stderr",
          "output_type": "stream",
          "text": [
            "2023-12-06 22:45:31.560834: I tensorflow/core/framework/local_rendezvous.cc:421] Local rendezvous recv item cancelled. Key hash: 12749084622472637211\n",
            "2023-12-06 22:45:31.560893: I tensorflow/core/framework/local_rendezvous.cc:421] Local rendezvous recv item cancelled. Key hash: 10316076964217112533\n"
          ]
        },
        {
          "name": "stdout",
          "output_type": "stream",
          "text": [
            "40/40 [==============================] - 1s 13ms/step - loss: 3.6585e-04 - accuracy: 0.0000e+00 - mean_squared_error: 3.6585e-04 - val_loss: 2.4945e-04 - val_accuracy: 0.0000e+00 - val_mean_squared_error: 2.4945e-04\n",
            "Epoch 3/20\n",
            "40/40 [==============================] - 1s 13ms/step - loss: 2.3280e-04 - accuracy: 0.0000e+00 - mean_squared_error: 2.3280e-04 - val_loss: 2.2279e-04 - val_accuracy: 0.0000e+00 - val_mean_squared_error: 2.2279e-04\n",
            "Epoch 4/20\n",
            "40/40 [==============================] - 1s 13ms/step - loss: 2.1747e-04 - accuracy: 0.0000e+00 - mean_squared_error: 2.1747e-04 - val_loss: 2.1298e-04 - val_accuracy: 0.0000e+00 - val_mean_squared_error: 2.1298e-04\n",
            "Epoch 5/20\n",
            "40/40 [==============================] - 0s 12ms/step - loss: 2.0885e-04 - accuracy: 0.0000e+00 - mean_squared_error: 2.0885e-04 - val_loss: 2.0656e-04 - val_accuracy: 0.0000e+00 - val_mean_squared_error: 2.0656e-04\n",
            "Epoch 6/20\n",
            "40/40 [==============================] - 1s 13ms/step - loss: 2.0323e-04 - accuracy: 0.0000e+00 - mean_squared_error: 2.0323e-04 - val_loss: 2.0397e-04 - val_accuracy: 0.0000e+00 - val_mean_squared_error: 2.0397e-04\n",
            "Epoch 7/20\n",
            "40/40 [==============================] - 1s 13ms/step - loss: 1.9956e-04 - accuracy: 0.0000e+00 - mean_squared_error: 1.9956e-04 - val_loss: 2.0209e-04 - val_accuracy: 0.0000e+00 - val_mean_squared_error: 2.0209e-04\n",
            "Epoch 8/20\n",
            "40/40 [==============================] - 1s 13ms/step - loss: 1.9704e-04 - accuracy: 0.0000e+00 - mean_squared_error: 1.9704e-04 - val_loss: 1.9918e-04 - val_accuracy: 0.0000e+00 - val_mean_squared_error: 1.9918e-04\n",
            "Epoch 9/20\n",
            "40/40 [==============================] - 1s 13ms/step - loss: 1.9521e-04 - accuracy: 0.0000e+00 - mean_squared_error: 1.9521e-04 - val_loss: 1.9658e-04 - val_accuracy: 0.0000e+00 - val_mean_squared_error: 1.9658e-04\n",
            "Epoch 10/20\n",
            "40/40 [==============================] - 1s 13ms/step - loss: 1.9389e-04 - accuracy: 0.0000e+00 - mean_squared_error: 1.9389e-04 - val_loss: 1.9273e-04 - val_accuracy: 0.0000e+00 - val_mean_squared_error: 1.9273e-04\n",
            "Epoch 11/20\n",
            "40/40 [==============================] - 1s 13ms/step - loss: 1.9275e-04 - accuracy: 0.0000e+00 - mean_squared_error: 1.9275e-04 - val_loss: 1.9034e-04 - val_accuracy: 0.0000e+00 - val_mean_squared_error: 1.9034e-04\n",
            "Epoch 12/20\n",
            "40/40 [==============================] - 1s 14ms/step - loss: 1.9169e-04 - accuracy: 0.0000e+00 - mean_squared_error: 1.9169e-04 - val_loss: 1.8926e-04 - val_accuracy: 0.0000e+00 - val_mean_squared_error: 1.8926e-04\n",
            "Epoch 13/20\n",
            "40/40 [==============================] - 1s 13ms/step - loss: 1.9105e-04 - accuracy: 0.0000e+00 - mean_squared_error: 1.9105e-04 - val_loss: 1.8848e-04 - val_accuracy: 0.0000e+00 - val_mean_squared_error: 1.8848e-04\n",
            "Epoch 14/20\n",
            "40/40 [==============================] - 1s 13ms/step - loss: 1.9139e-04 - accuracy: 0.0000e+00 - mean_squared_error: 1.9139e-04 - val_loss: 1.9111e-04 - val_accuracy: 0.0000e+00 - val_mean_squared_error: 1.9111e-04\n",
            "Epoch 15/20\n",
            "40/40 [==============================] - 1s 13ms/step - loss: 1.9111e-04 - accuracy: 0.0000e+00 - mean_squared_error: 1.9111e-04 - val_loss: 1.9771e-04 - val_accuracy: 0.0000e+00 - val_mean_squared_error: 1.9771e-04\n",
            "Epoch 16/20\n",
            "40/40 [==============================] - 1s 14ms/step - loss: 1.8862e-04 - accuracy: 0.0000e+00 - mean_squared_error: 1.8862e-04 - val_loss: 1.9341e-04 - val_accuracy: 0.0000e+00 - val_mean_squared_error: 1.9341e-04\n",
            "Epoch 17/20\n",
            "40/40 [==============================] - 0s 12ms/step - loss: 1.8588e-04 - accuracy: 0.0000e+00 - mean_squared_error: 1.8588e-04 - val_loss: 1.8920e-04 - val_accuracy: 0.0000e+00 - val_mean_squared_error: 1.8920e-04\n",
            "Epoch 18/20\n",
            "40/40 [==============================] - 1s 13ms/step - loss: 1.8432e-04 - accuracy: 0.0000e+00 - mean_squared_error: 1.8432e-04 - val_loss: 1.8590e-04 - val_accuracy: 0.0000e+00 - val_mean_squared_error: 1.8590e-04\n",
            "Epoch 19/20\n",
            "40/40 [==============================] - 1s 13ms/step - loss: 1.8314e-04 - accuracy: 0.0000e+00 - mean_squared_error: 1.8314e-04 - val_loss: 1.8262e-04 - val_accuracy: 0.0000e+00 - val_mean_squared_error: 1.8262e-04\n",
            "Epoch 20/20\n",
            "40/40 [==============================] - 1s 13ms/step - loss: 1.8240e-04 - accuracy: 0.0000e+00 - mean_squared_error: 1.8240e-04 - val_loss: 1.7924e-04 - val_accuracy: 0.0000e+00 - val_mean_squared_error: 1.7924e-04\n",
            "32/32 [==============================] - 0s 1ms/step\n",
            "2.9150530628251787 0.013034081 2.0799775\n",
            "3.1992671377973845\n",
            "Epoch 1/20\n"
          ]
        },
        {
          "name": "stderr",
          "output_type": "stream",
          "text": [
            "2023-12-06 22:45:41.985564: I tensorflow/core/common_runtime/gpu/gpu_device.cc:1886] Created device /device:GPU:0 with 20609 MB memory:  -> device: 0, name: NVIDIA L4, pci bus id: 0000:00:03.0, compute capability: 8.9\n"
          ]
        },
        {
          "name": "stdout",
          "output_type": "stream",
          "text": [
            "40/40 [==============================] - 2s 17ms/step - loss: 0.0103 - accuracy: 0.0000e+00 - mean_squared_error: 0.0103 - val_loss: 5.3605e-04 - val_accuracy: 0.0000e+00 - val_mean_squared_error: 5.3605e-04\n",
            "Epoch 2/20\n",
            "28/40 [====================>.........] - ETA: 0s - loss: 4.0114e-04 - accuracy: 0.0000e+00 - mean_squared_error: 4.0114e-04"
          ]
        },
        {
          "name": "stderr",
          "output_type": "stream",
          "text": [
            "2023-12-06 22:45:43.745643: I tensorflow/core/framework/local_rendezvous.cc:421] Local rendezvous recv item cancelled. Key hash: 12749084622472637211\n",
            "2023-12-06 22:45:43.745706: I tensorflow/core/framework/local_rendezvous.cc:421] Local rendezvous recv item cancelled. Key hash: 10316076964217112533\n"
          ]
        },
        {
          "name": "stdout",
          "output_type": "stream",
          "text": [
            "40/40 [==============================] - 1s 14ms/step - loss: 3.5054e-04 - accuracy: 0.0000e+00 - mean_squared_error: 3.5054e-04 - val_loss: 2.1385e-04 - val_accuracy: 0.0000e+00 - val_mean_squared_error: 2.1385e-04\n",
            "Epoch 3/20\n",
            "40/40 [==============================] - 1s 13ms/step - loss: 1.9945e-04 - accuracy: 0.0000e+00 - mean_squared_error: 1.9945e-04 - val_loss: 1.9089e-04 - val_accuracy: 0.0000e+00 - val_mean_squared_error: 1.9089e-04\n",
            "Epoch 4/20\n",
            "40/40 [==============================] - 1s 13ms/step - loss: 1.8739e-04 - accuracy: 0.0000e+00 - mean_squared_error: 1.8739e-04 - val_loss: 1.8411e-04 - val_accuracy: 0.0000e+00 - val_mean_squared_error: 1.8411e-04\n",
            "Epoch 5/20\n",
            "40/40 [==============================] - 1s 13ms/step - loss: 1.8269e-04 - accuracy: 0.0000e+00 - mean_squared_error: 1.8269e-04 - val_loss: 1.8021e-04 - val_accuracy: 0.0000e+00 - val_mean_squared_error: 1.8021e-04\n",
            "Epoch 6/20\n",
            "40/40 [==============================] - 1s 13ms/step - loss: 1.7990e-04 - accuracy: 0.0000e+00 - mean_squared_error: 1.7990e-04 - val_loss: 1.7859e-04 - val_accuracy: 0.0000e+00 - val_mean_squared_error: 1.7859e-04\n",
            "Epoch 7/20\n",
            "40/40 [==============================] - 1s 13ms/step - loss: 1.7847e-04 - accuracy: 0.0000e+00 - mean_squared_error: 1.7847e-04 - val_loss: 1.7955e-04 - val_accuracy: 0.0000e+00 - val_mean_squared_error: 1.7955e-04\n",
            "Epoch 8/20\n",
            "40/40 [==============================] - 1s 13ms/step - loss: 1.7757e-04 - accuracy: 0.0000e+00 - mean_squared_error: 1.7757e-04 - val_loss: 1.7763e-04 - val_accuracy: 0.0000e+00 - val_mean_squared_error: 1.7763e-04\n",
            "Epoch 9/20\n",
            "40/40 [==============================] - 1s 13ms/step - loss: 1.7642e-04 - accuracy: 0.0000e+00 - mean_squared_error: 1.7642e-04 - val_loss: 1.7614e-04 - val_accuracy: 0.0000e+00 - val_mean_squared_error: 1.7614e-04\n",
            "Epoch 10/20\n",
            "40/40 [==============================] - 1s 13ms/step - loss: 1.7585e-04 - accuracy: 0.0000e+00 - mean_squared_error: 1.7585e-04 - val_loss: 1.7840e-04 - val_accuracy: 0.0000e+00 - val_mean_squared_error: 1.7840e-04\n",
            "Epoch 11/20\n",
            "40/40 [==============================] - 1s 13ms/step - loss: 1.7624e-04 - accuracy: 0.0000e+00 - mean_squared_error: 1.7624e-04 - val_loss: 1.8053e-04 - val_accuracy: 0.0000e+00 - val_mean_squared_error: 1.8053e-04\n",
            "Epoch 12/20\n",
            "40/40 [==============================] - 1s 13ms/step - loss: 1.7567e-04 - accuracy: 0.0000e+00 - mean_squared_error: 1.7567e-04 - val_loss: 1.7469e-04 - val_accuracy: 0.0000e+00 - val_mean_squared_error: 1.7469e-04\n",
            "Epoch 13/20\n",
            "40/40 [==============================] - 1s 13ms/step - loss: 1.7314e-04 - accuracy: 0.0000e+00 - mean_squared_error: 1.7314e-04 - val_loss: 1.7045e-04 - val_accuracy: 0.0000e+00 - val_mean_squared_error: 1.7045e-04\n",
            "Epoch 14/20\n",
            "40/40 [==============================] - 1s 13ms/step - loss: 1.7130e-04 - accuracy: 0.0000e+00 - mean_squared_error: 1.7130e-04 - val_loss: 1.6949e-04 - val_accuracy: 0.0000e+00 - val_mean_squared_error: 1.6949e-04\n",
            "Epoch 15/20\n",
            "40/40 [==============================] - 1s 13ms/step - loss: 1.7036e-04 - accuracy: 0.0000e+00 - mean_squared_error: 1.7036e-04 - val_loss: 1.6911e-04 - val_accuracy: 0.0000e+00 - val_mean_squared_error: 1.6911e-04\n",
            "Epoch 16/20\n",
            "40/40 [==============================] - 1s 13ms/step - loss: 1.6973e-04 - accuracy: 0.0000e+00 - mean_squared_error: 1.6973e-04 - val_loss: 1.6875e-04 - val_accuracy: 0.0000e+00 - val_mean_squared_error: 1.6875e-04\n",
            "Epoch 17/20\n",
            "40/40 [==============================] - 1s 13ms/step - loss: 1.6881e-04 - accuracy: 0.0000e+00 - mean_squared_error: 1.6881e-04 - val_loss: 1.6740e-04 - val_accuracy: 0.0000e+00 - val_mean_squared_error: 1.6740e-04\n",
            "Epoch 18/20\n",
            "40/40 [==============================] - 1s 13ms/step - loss: 1.6766e-04 - accuracy: 0.0000e+00 - mean_squared_error: 1.6766e-04 - val_loss: 1.6609e-04 - val_accuracy: 0.0000e+00 - val_mean_squared_error: 1.6609e-04\n",
            "Epoch 19/20\n",
            "40/40 [==============================] - 1s 13ms/step - loss: 1.6665e-04 - accuracy: 0.0000e+00 - mean_squared_error: 1.6665e-04 - val_loss: 1.6494e-04 - val_accuracy: 0.0000e+00 - val_mean_squared_error: 1.6494e-04\n",
            "Epoch 20/20\n",
            "40/40 [==============================] - 1s 14ms/step - loss: 1.6576e-04 - accuracy: 0.0000e+00 - mean_squared_error: 1.6576e-04 - val_loss: 1.6411e-04 - val_accuracy: 0.0000e+00 - val_mean_squared_error: 1.6411e-04\n",
            "32/32 [==============================] - 0s 1ms/step\n",
            "3.1992671377973845 0.012982101 2.0219138\n",
            "3.5111917342151346\n",
            "Epoch 1/20\n"
          ]
        },
        {
          "name": "stderr",
          "output_type": "stream",
          "text": [
            "2023-12-06 22:45:54.273420: I tensorflow/core/common_runtime/gpu/gpu_device.cc:1886] Created device /device:GPU:0 with 20609 MB memory:  -> device: 0, name: NVIDIA L4, pci bus id: 0000:00:03.0, compute capability: 8.9\n"
          ]
        },
        {
          "name": "stdout",
          "output_type": "stream",
          "text": [
            "     31/Unknown - 1s 5ms/step - loss: 0.0133 - accuracy: 0.0000e+00 - mean_squared_error: 0.0133"
          ]
        },
        {
          "name": "stderr",
          "output_type": "stream",
          "text": [
            "2023-12-06 22:45:55.594931: I tensorflow/core/framework/local_rendezvous.cc:421] Local rendezvous recv item cancelled. Key hash: 12749084622472637211\n"
          ]
        },
        {
          "name": "stdout",
          "output_type": "stream",
          "text": [
            "40/40 [==============================] - 2s 16ms/step - loss: 0.0108 - accuracy: 0.0000e+00 - mean_squared_error: 0.0108 - val_loss: 5.4433e-04 - val_accuracy: 0.0000e+00 - val_mean_squared_error: 5.4433e-04\n",
            "Epoch 2/20\n",
            "31/40 [======================>.......] - ETA: 0s - loss: 3.8165e-04 - accuracy: 0.0000e+00 - mean_squared_error: 3.8165e-04"
          ]
        },
        {
          "name": "stderr",
          "output_type": "stream",
          "text": [
            "2023-12-06 22:45:56.010429: I tensorflow/core/framework/local_rendezvous.cc:421] Local rendezvous recv item cancelled. Key hash: 12749084622472637211\n",
            "2023-12-06 22:45:56.010482: I tensorflow/core/framework/local_rendezvous.cc:421] Local rendezvous recv item cancelled. Key hash: 10316076964217112533\n"
          ]
        },
        {
          "name": "stdout",
          "output_type": "stream",
          "text": [
            "40/40 [==============================] - 1s 13ms/step - loss: 3.4776e-04 - accuracy: 0.0000e+00 - mean_squared_error: 3.4776e-04 - val_loss: 1.9491e-04 - val_accuracy: 0.0000e+00 - val_mean_squared_error: 1.9491e-04\n",
            "Epoch 3/20\n",
            "40/40 [==============================] - 1s 13ms/step - loss: 1.8419e-04 - accuracy: 0.0000e+00 - mean_squared_error: 1.8419e-04 - val_loss: 1.7685e-04 - val_accuracy: 0.0000e+00 - val_mean_squared_error: 1.7685e-04\n",
            "Epoch 4/20\n",
            "40/40 [==============================] - 1s 13ms/step - loss: 1.6972e-04 - accuracy: 0.0000e+00 - mean_squared_error: 1.6972e-04 - val_loss: 1.7421e-04 - val_accuracy: 0.0000e+00 - val_mean_squared_error: 1.7421e-04\n",
            "Epoch 5/20\n",
            "40/40 [==============================] - 1s 13ms/step - loss: 1.6505e-04 - accuracy: 0.0000e+00 - mean_squared_error: 1.6505e-04 - val_loss: 1.7763e-04 - val_accuracy: 0.0000e+00 - val_mean_squared_error: 1.7763e-04\n",
            "Epoch 6/20\n",
            "40/40 [==============================] - 1s 13ms/step - loss: 1.6322e-04 - accuracy: 0.0000e+00 - mean_squared_error: 1.6322e-04 - val_loss: 1.7631e-04 - val_accuracy: 0.0000e+00 - val_mean_squared_error: 1.7631e-04\n",
            "Epoch 7/20\n",
            "40/40 [==============================] - 1s 14ms/step - loss: 1.6284e-04 - accuracy: 0.0000e+00 - mean_squared_error: 1.6284e-04 - val_loss: 1.8699e-04 - val_accuracy: 0.0000e+00 - val_mean_squared_error: 1.8699e-04\n",
            "Epoch 8/20\n",
            "40/40 [==============================] - 1s 13ms/step - loss: 1.6410e-04 - accuracy: 0.0000e+00 - mean_squared_error: 1.6410e-04 - val_loss: 1.8279e-04 - val_accuracy: 0.0000e+00 - val_mean_squared_error: 1.8279e-04\n",
            "Epoch 9/20\n",
            "40/40 [==============================] - 1s 13ms/step - loss: 1.6220e-04 - accuracy: 0.0000e+00 - mean_squared_error: 1.6220e-04 - val_loss: 1.6853e-04 - val_accuracy: 0.0000e+00 - val_mean_squared_error: 1.6853e-04\n",
            "Epoch 10/20\n",
            "40/40 [==============================] - 0s 12ms/step - loss: 1.5854e-04 - accuracy: 0.0000e+00 - mean_squared_error: 1.5854e-04 - val_loss: 1.6878e-04 - val_accuracy: 0.0000e+00 - val_mean_squared_error: 1.6878e-04\n",
            "Epoch 11/20\n",
            "40/40 [==============================] - 1s 13ms/step - loss: 1.5751e-04 - accuracy: 0.0000e+00 - mean_squared_error: 1.5751e-04 - val_loss: 1.7144e-04 - val_accuracy: 0.0000e+00 - val_mean_squared_error: 1.7144e-04\n",
            "Epoch 12/20\n",
            "40/40 [==============================] - 0s 13ms/step - loss: 1.5710e-04 - accuracy: 0.0000e+00 - mean_squared_error: 1.5710e-04 - val_loss: 1.7073e-04 - val_accuracy: 0.0000e+00 - val_mean_squared_error: 1.7073e-04\n",
            "Epoch 13/20\n",
            "40/40 [==============================] - 1s 13ms/step - loss: 1.5618e-04 - accuracy: 0.0000e+00 - mean_squared_error: 1.5618e-04 - val_loss: 1.6394e-04 - val_accuracy: 0.0000e+00 - val_mean_squared_error: 1.6394e-04\n",
            "Epoch 14/20\n",
            "40/40 [==============================] - 1s 14ms/step - loss: 1.5470e-04 - accuracy: 0.0000e+00 - mean_squared_error: 1.5470e-04 - val_loss: 1.6245e-04 - val_accuracy: 0.0000e+00 - val_mean_squared_error: 1.6245e-04\n",
            "Epoch 15/20\n",
            "40/40 [==============================] - 1s 13ms/step - loss: 1.5401e-04 - accuracy: 0.0000e+00 - mean_squared_error: 1.5401e-04 - val_loss: 1.6431e-04 - val_accuracy: 0.0000e+00 - val_mean_squared_error: 1.6431e-04\n",
            "Epoch 16/20\n",
            "40/40 [==============================] - 1s 13ms/step - loss: 1.5390e-04 - accuracy: 0.0000e+00 - mean_squared_error: 1.5390e-04 - val_loss: 1.6570e-04 - val_accuracy: 0.0000e+00 - val_mean_squared_error: 1.6570e-04\n",
            "Epoch 17/20\n",
            "40/40 [==============================] - 1s 13ms/step - loss: 1.5375e-04 - accuracy: 0.0000e+00 - mean_squared_error: 1.5375e-04 - val_loss: 1.6120e-04 - val_accuracy: 0.0000e+00 - val_mean_squared_error: 1.6120e-04\n",
            "Epoch 18/20\n",
            "40/40 [==============================] - 1s 13ms/step - loss: 1.5261e-04 - accuracy: 0.0000e+00 - mean_squared_error: 1.5261e-04 - val_loss: 1.5112e-04 - val_accuracy: 0.0000e+00 - val_mean_squared_error: 1.5112e-04\n",
            "Epoch 19/20\n",
            "40/40 [==============================] - 1s 13ms/step - loss: 1.4989e-04 - accuracy: 0.0000e+00 - mean_squared_error: 1.4989e-04 - val_loss: 1.4986e-04 - val_accuracy: 0.0000e+00 - val_mean_squared_error: 1.4986e-04\n",
            "Epoch 20/20\n",
            "40/40 [==============================] - 1s 13ms/step - loss: 1.4893e-04 - accuracy: 0.0000e+00 - mean_squared_error: 1.4893e-04 - val_loss: 1.4905e-04 - val_accuracy: 0.0000e+00 - val_mean_squared_error: 1.4905e-04\n",
            "32/32 [==============================] - 0s 1ms/step\n",
            "3.5111917342151346 0.011735607 2.0155766\n",
            "3.8535285937105312\n",
            "Epoch 1/20\n"
          ]
        },
        {
          "name": "stderr",
          "output_type": "stream",
          "text": [
            "2023-12-06 22:46:06.472290: I tensorflow/core/common_runtime/gpu/gpu_device.cc:1886] Created device /device:GPU:0 with 20609 MB memory:  -> device: 0, name: NVIDIA L4, pci bus id: 0000:00:03.0, compute capability: 8.9\n"
          ]
        },
        {
          "name": "stdout",
          "output_type": "stream",
          "text": [
            "     39/Unknown - 1s 6ms/step - loss: 0.0107 - accuracy: 0.0000e+00 - mean_squared_error: 0.0107"
          ]
        },
        {
          "name": "stderr",
          "output_type": "stream",
          "text": [
            "2023-12-06 22:46:07.812223: I tensorflow/core/framework/local_rendezvous.cc:425] Local rendezvous send item cancelled. Key hash: 15332740285842878431\n",
            "2023-12-06 22:46:07.812273: I tensorflow/core/framework/local_rendezvous.cc:421] Local rendezvous recv item cancelled. Key hash: 12749084622472637211\n",
            "2023-12-06 22:46:07.812295: I tensorflow/core/framework/local_rendezvous.cc:421] Local rendezvous recv item cancelled. Key hash: 10316076964217112533\n"
          ]
        },
        {
          "name": "stdout",
          "output_type": "stream",
          "text": [
            "40/40 [==============================] - 2s 17ms/step - loss: 0.0107 - accuracy: 0.0000e+00 - mean_squared_error: 0.0107 - val_loss: 6.8040e-04 - val_accuracy: 0.0000e+00 - val_mean_squared_error: 6.8040e-04\n",
            "Epoch 2/20\n",
            "28/40 [====================>.........] - ETA: 0s - loss: 3.7321e-04 - accuracy: 0.0000e+00 - mean_squared_error: 3.7321e-04"
          ]
        },
        {
          "name": "stderr",
          "output_type": "stream",
          "text": [
            "2023-12-06 22:46:08.230928: I tensorflow/core/framework/local_rendezvous.cc:421] Local rendezvous recv item cancelled. Key hash: 12749084622472637211\n",
            "2023-12-06 22:46:08.230989: I tensorflow/core/framework/local_rendezvous.cc:421] Local rendezvous recv item cancelled. Key hash: 10316076964217112533\n"
          ]
        },
        {
          "name": "stdout",
          "output_type": "stream",
          "text": [
            "40/40 [==============================] - 1s 14ms/step - loss: 3.2035e-04 - accuracy: 0.0000e+00 - mean_squared_error: 3.2035e-04 - val_loss: 1.7900e-04 - val_accuracy: 0.0000e+00 - val_mean_squared_error: 1.7900e-04\n",
            "Epoch 3/20\n",
            "40/40 [==============================] - 1s 13ms/step - loss: 1.5888e-04 - accuracy: 0.0000e+00 - mean_squared_error: 1.5888e-04 - val_loss: 1.4919e-04 - val_accuracy: 0.0000e+00 - val_mean_squared_error: 1.4919e-04\n",
            "Epoch 4/20\n",
            "40/40 [==============================] - 1s 13ms/step - loss: 1.4693e-04 - accuracy: 0.0000e+00 - mean_squared_error: 1.4693e-04 - val_loss: 1.4332e-04 - val_accuracy: 0.0000e+00 - val_mean_squared_error: 1.4332e-04\n",
            "Epoch 5/20\n",
            "40/40 [==============================] - 1s 14ms/step - loss: 1.4226e-04 - accuracy: 0.0000e+00 - mean_squared_error: 1.4226e-04 - val_loss: 1.3928e-04 - val_accuracy: 0.0000e+00 - val_mean_squared_error: 1.3928e-04\n",
            "Epoch 6/20\n",
            "40/40 [==============================] - 1s 13ms/step - loss: 1.3931e-04 - accuracy: 0.0000e+00 - mean_squared_error: 1.3931e-04 - val_loss: 1.3652e-04 - val_accuracy: 0.0000e+00 - val_mean_squared_error: 1.3652e-04\n",
            "Epoch 7/20\n",
            "40/40 [==============================] - 1s 13ms/step - loss: 1.3741e-04 - accuracy: 0.0000e+00 - mean_squared_error: 1.3741e-04 - val_loss: 1.3488e-04 - val_accuracy: 0.0000e+00 - val_mean_squared_error: 1.3488e-04\n",
            "Epoch 8/20\n",
            "40/40 [==============================] - 1s 13ms/step - loss: 1.3586e-04 - accuracy: 0.0000e+00 - mean_squared_error: 1.3586e-04 - val_loss: 1.3380e-04 - val_accuracy: 0.0000e+00 - val_mean_squared_error: 1.3380e-04\n",
            "Epoch 9/20\n",
            "40/40 [==============================] - 1s 13ms/step - loss: 1.3426e-04 - accuracy: 0.0000e+00 - mean_squared_error: 1.3426e-04 - val_loss: 1.3202e-04 - val_accuracy: 0.0000e+00 - val_mean_squared_error: 1.3202e-04\n",
            "Epoch 10/20\n",
            "40/40 [==============================] - 1s 13ms/step - loss: 1.3305e-04 - accuracy: 0.0000e+00 - mean_squared_error: 1.3305e-04 - val_loss: 1.3083e-04 - val_accuracy: 0.0000e+00 - val_mean_squared_error: 1.3083e-04\n",
            "Epoch 11/20\n",
            "40/40 [==============================] - 1s 13ms/step - loss: 1.3207e-04 - accuracy: 0.0000e+00 - mean_squared_error: 1.3207e-04 - val_loss: 1.3006e-04 - val_accuracy: 0.0000e+00 - val_mean_squared_error: 1.3006e-04\n",
            "Epoch 12/20\n",
            "40/40 [==============================] - 1s 13ms/step - loss: 1.3127e-04 - accuracy: 0.0000e+00 - mean_squared_error: 1.3127e-04 - val_loss: 1.2924e-04 - val_accuracy: 0.0000e+00 - val_mean_squared_error: 1.2924e-04\n",
            "Epoch 13/20\n",
            "40/40 [==============================] - 1s 13ms/step - loss: 1.3047e-04 - accuracy: 0.0000e+00 - mean_squared_error: 1.3047e-04 - val_loss: 1.2826e-04 - val_accuracy: 0.0000e+00 - val_mean_squared_error: 1.2826e-04\n",
            "Epoch 14/20\n",
            "40/40 [==============================] - 1s 13ms/step - loss: 1.2972e-04 - accuracy: 0.0000e+00 - mean_squared_error: 1.2972e-04 - val_loss: 1.2782e-04 - val_accuracy: 0.0000e+00 - val_mean_squared_error: 1.2782e-04\n",
            "Epoch 15/20\n",
            "40/40 [==============================] - 1s 13ms/step - loss: 1.2918e-04 - accuracy: 0.0000e+00 - mean_squared_error: 1.2918e-04 - val_loss: 1.2811e-04 - val_accuracy: 0.0000e+00 - val_mean_squared_error: 1.2811e-04\n",
            "Epoch 16/20\n",
            "40/40 [==============================] - 1s 14ms/step - loss: 1.2877e-04 - accuracy: 0.0000e+00 - mean_squared_error: 1.2877e-04 - val_loss: 1.2814e-04 - val_accuracy: 0.0000e+00 - val_mean_squared_error: 1.2814e-04\n",
            "Epoch 17/20\n",
            "40/40 [==============================] - 0s 12ms/step - loss: 1.2807e-04 - accuracy: 0.0000e+00 - mean_squared_error: 1.2807e-04 - val_loss: 1.2570e-04 - val_accuracy: 0.0000e+00 - val_mean_squared_error: 1.2570e-04\n",
            "Epoch 18/20\n",
            "40/40 [==============================] - 1s 13ms/step - loss: 1.2651e-04 - accuracy: 0.0000e+00 - mean_squared_error: 1.2651e-04 - val_loss: 1.2347e-04 - val_accuracy: 0.0000e+00 - val_mean_squared_error: 1.2347e-04\n",
            "Epoch 19/20\n",
            "40/40 [==============================] - 1s 13ms/step - loss: 1.2520e-04 - accuracy: 0.0000e+00 - mean_squared_error: 1.2520e-04 - val_loss: 1.2239e-04 - val_accuracy: 0.0000e+00 - val_mean_squared_error: 1.2239e-04\n",
            "Epoch 20/20\n",
            "40/40 [==============================] - 1s 13ms/step - loss: 1.2431e-04 - accuracy: 0.0000e+00 - mean_squared_error: 1.2431e-04 - val_loss: 1.2169e-04 - val_accuracy: 0.0000e+00 - val_mean_squared_error: 1.2169e-04\n",
            "32/32 [==============================] - 0s 1ms/step\n",
            "3.8535285937105312 0.011340191 2.1105485\n",
            "4.229242874389499\n",
            "Epoch 1/20\n"
          ]
        },
        {
          "name": "stderr",
          "output_type": "stream",
          "text": [
            "2023-12-06 22:46:18.663050: I tensorflow/core/common_runtime/gpu/gpu_device.cc:1886] Created device /device:GPU:0 with 20609 MB memory:  -> device: 0, name: NVIDIA L4, pci bus id: 0000:00:03.0, compute capability: 8.9\n"
          ]
        },
        {
          "name": "stdout",
          "output_type": "stream",
          "text": [
            "40/40 [==============================] - 2s 16ms/step - loss: 0.0114 - accuracy: 0.0000e+00 - mean_squared_error: 0.0114 - val_loss: 4.4098e-04 - val_accuracy: 0.0000e+00 - val_mean_squared_error: 4.4098e-04\n",
            "Epoch 2/20\n",
            "28/40 [====================>.........] - ETA: 0s - loss: 3.4157e-04 - accuracy: 0.0000e+00 - mean_squared_error: 3.4157e-04"
          ]
        },
        {
          "name": "stderr",
          "output_type": "stream",
          "text": [
            "2023-12-06 22:46:20.411350: I tensorflow/core/framework/local_rendezvous.cc:421] Local rendezvous recv item cancelled. Key hash: 12749084622472637211\n",
            "2023-12-06 22:46:20.411409: I tensorflow/core/framework/local_rendezvous.cc:421] Local rendezvous recv item cancelled. Key hash: 10316076964217112533\n"
          ]
        },
        {
          "name": "stdout",
          "output_type": "stream",
          "text": [
            "40/40 [==============================] - 1s 13ms/step - loss: 2.9306e-04 - accuracy: 0.0000e+00 - mean_squared_error: 2.9306e-04 - val_loss: 1.5762e-04 - val_accuracy: 0.0000e+00 - val_mean_squared_error: 1.5762e-04\n",
            "Epoch 3/20\n",
            "40/40 [==============================] - 1s 13ms/step - loss: 1.4007e-04 - accuracy: 0.0000e+00 - mean_squared_error: 1.4007e-04 - val_loss: 1.3813e-04 - val_accuracy: 0.0000e+00 - val_mean_squared_error: 1.3813e-04\n",
            "Epoch 4/20\n",
            "40/40 [==============================] - 1s 13ms/step - loss: 1.2830e-04 - accuracy: 0.0000e+00 - mean_squared_error: 1.2830e-04 - val_loss: 1.3804e-04 - val_accuracy: 0.0000e+00 - val_mean_squared_error: 1.3804e-04\n",
            "Epoch 5/20\n",
            "40/40 [==============================] - 1s 13ms/step - loss: 1.2471e-04 - accuracy: 0.0000e+00 - mean_squared_error: 1.2471e-04 - val_loss: 1.3140e-04 - val_accuracy: 0.0000e+00 - val_mean_squared_error: 1.3140e-04\n",
            "Epoch 6/20\n",
            "40/40 [==============================] - 1s 13ms/step - loss: 1.2135e-04 - accuracy: 0.0000e+00 - mean_squared_error: 1.2135e-04 - val_loss: 1.2265e-04 - val_accuracy: 0.0000e+00 - val_mean_squared_error: 1.2265e-04\n",
            "Epoch 7/20\n",
            "40/40 [==============================] - 0s 13ms/step - loss: 1.1843e-04 - accuracy: 0.0000e+00 - mean_squared_error: 1.1843e-04 - val_loss: 1.2114e-04 - val_accuracy: 0.0000e+00 - val_mean_squared_error: 1.2114e-04\n",
            "Epoch 8/20\n",
            "40/40 [==============================] - 0s 12ms/step - loss: 1.1735e-04 - accuracy: 0.0000e+00 - mean_squared_error: 1.1735e-04 - val_loss: 1.2231e-04 - val_accuracy: 0.0000e+00 - val_mean_squared_error: 1.2231e-04\n",
            "Epoch 9/20\n",
            "40/40 [==============================] - 1s 13ms/step - loss: 1.1680e-04 - accuracy: 0.0000e+00 - mean_squared_error: 1.1680e-04 - val_loss: 1.2518e-04 - val_accuracy: 0.0000e+00 - val_mean_squared_error: 1.2518e-04\n",
            "Epoch 10/20\n",
            "40/40 [==============================] - 1s 13ms/step - loss: 1.1629e-04 - accuracy: 0.0000e+00 - mean_squared_error: 1.1629e-04 - val_loss: 1.2427e-04 - val_accuracy: 0.0000e+00 - val_mean_squared_error: 1.2427e-04\n",
            "Epoch 11/20\n",
            "40/40 [==============================] - 1s 13ms/step - loss: 1.1561e-04 - accuracy: 0.0000e+00 - mean_squared_error: 1.1561e-04 - val_loss: 1.2454e-04 - val_accuracy: 0.0000e+00 - val_mean_squared_error: 1.2454e-04\n",
            "Epoch 12/20\n",
            "40/40 [==============================] - 1s 13ms/step - loss: 1.1550e-04 - accuracy: 0.0000e+00 - mean_squared_error: 1.1550e-04 - val_loss: 1.2914e-04 - val_accuracy: 0.0000e+00 - val_mean_squared_error: 1.2914e-04\n",
            "Epoch 13/20\n",
            "40/40 [==============================] - 1s 13ms/step - loss: 1.1564e-04 - accuracy: 0.0000e+00 - mean_squared_error: 1.1564e-04 - val_loss: 1.3724e-04 - val_accuracy: 0.0000e+00 - val_mean_squared_error: 1.3724e-04\n",
            "Epoch 14/20\n",
            "40/40 [==============================] - 1s 13ms/step - loss: 1.1567e-04 - accuracy: 0.0000e+00 - mean_squared_error: 1.1567e-04 - val_loss: 1.3794e-04 - val_accuracy: 0.0000e+00 - val_mean_squared_error: 1.3794e-04\n",
            "Epoch 15/20\n",
            "40/40 [==============================] - 1s 13ms/step - loss: 1.1514e-04 - accuracy: 0.0000e+00 - mean_squared_error: 1.1514e-04 - val_loss: 1.4300e-04 - val_accuracy: 0.0000e+00 - val_mean_squared_error: 1.4300e-04\n",
            "Epoch 16/20\n",
            "40/40 [==============================] - 1s 13ms/step - loss: 1.1620e-04 - accuracy: 0.0000e+00 - mean_squared_error: 1.1620e-04 - val_loss: 1.4767e-04 - val_accuracy: 0.0000e+00 - val_mean_squared_error: 1.4767e-04\n",
            "Epoch 17/20\n",
            "40/40 [==============================] - 1s 13ms/step - loss: 1.1756e-04 - accuracy: 0.0000e+00 - mean_squared_error: 1.1756e-04 - val_loss: 1.5799e-04 - val_accuracy: 0.0000e+00 - val_mean_squared_error: 1.5799e-04\n",
            "Epoch 18/20\n",
            "40/40 [==============================] - 1s 13ms/step - loss: 1.1906e-04 - accuracy: 0.0000e+00 - mean_squared_error: 1.1906e-04 - val_loss: 1.6028e-04 - val_accuracy: 0.0000e+00 - val_mean_squared_error: 1.6028e-04\n",
            "Epoch 19/20\n",
            "40/40 [==============================] - 1s 13ms/step - loss: 1.1812e-04 - accuracy: 0.0000e+00 - mean_squared_error: 1.1812e-04 - val_loss: 1.4275e-04 - val_accuracy: 0.0000e+00 - val_mean_squared_error: 1.4275e-04\n",
            "Epoch 20/20\n",
            "40/40 [==============================] - 1s 13ms/step - loss: 1.1436e-04 - accuracy: 0.0000e+00 - mean_squared_error: 1.1436e-04 - val_loss: 1.2467e-04 - val_accuracy: 0.0000e+00 - val_mean_squared_error: 1.2467e-04\n",
            "32/32 [==============================] - 0s 1ms/step\n",
            "4.229242874389499 0.011533032 2.0103056\n",
            "4.641588833612782\n",
            "Epoch 1/20\n"
          ]
        },
        {
          "name": "stderr",
          "output_type": "stream",
          "text": [
            "2023-12-06 22:46:30.773494: I tensorflow/core/common_runtime/gpu/gpu_device.cc:1886] Created device /device:GPU:0 with 20609 MB memory:  -> device: 0, name: NVIDIA L4, pci bus id: 0000:00:03.0, compute capability: 8.9\n"
          ]
        },
        {
          "name": "stdout",
          "output_type": "stream",
          "text": [
            "     31/Unknown - 1s 5ms/step - loss: 0.0138 - accuracy: 0.0000e+00 - mean_squared_error: 0.0138"
          ]
        },
        {
          "name": "stderr",
          "output_type": "stream",
          "text": [
            "2023-12-06 22:46:32.096045: I tensorflow/core/framework/local_rendezvous.cc:421] Local rendezvous recv item cancelled. Key hash: 12749084622472637211\n",
            "2023-12-06 22:46:32.096106: I tensorflow/core/framework/local_rendezvous.cc:421] Local rendezvous recv item cancelled. Key hash: 10316076964217112533\n"
          ]
        },
        {
          "name": "stdout",
          "output_type": "stream",
          "text": [
            "40/40 [==============================] - 2s 17ms/step - loss: 0.0112 - accuracy: 0.0000e+00 - mean_squared_error: 0.0112 - val_loss: 5.5457e-04 - val_accuracy: 0.0000e+00 - val_mean_squared_error: 5.5457e-04\n",
            "Epoch 2/20\n",
            "31/40 [======================>.......] - ETA: 0s - loss: 3.4410e-04 - accuracy: 0.0000e+00 - mean_squared_error: 3.4410e-04"
          ]
        },
        {
          "name": "stderr",
          "output_type": "stream",
          "text": [
            "2023-12-06 22:46:32.521706: I tensorflow/core/framework/local_rendezvous.cc:421] Local rendezvous recv item cancelled. Key hash: 12749084622472637211\n",
            "2023-12-06 22:46:32.521760: I tensorflow/core/framework/local_rendezvous.cc:421] Local rendezvous recv item cancelled. Key hash: 10316076964217112533\n"
          ]
        },
        {
          "name": "stdout",
          "output_type": "stream",
          "text": [
            "40/40 [==============================] - 0s 13ms/step - loss: 3.0421e-04 - accuracy: 0.0000e+00 - mean_squared_error: 3.0421e-04 - val_loss: 1.4358e-04 - val_accuracy: 0.0000e+00 - val_mean_squared_error: 1.4358e-04\n",
            "Epoch 3/20\n",
            "40/40 [==============================] - 1s 13ms/step - loss: 1.2586e-04 - accuracy: 0.0000e+00 - mean_squared_error: 1.2586e-04 - val_loss: 1.1545e-04 - val_accuracy: 0.0000e+00 - val_mean_squared_error: 1.1545e-04\n",
            "Epoch 4/20\n",
            "40/40 [==============================] - 1s 13ms/step - loss: 1.1486e-04 - accuracy: 0.0000e+00 - mean_squared_error: 1.1486e-04 - val_loss: 1.1066e-04 - val_accuracy: 0.0000e+00 - val_mean_squared_error: 1.1066e-04\n",
            "Epoch 5/20\n",
            "40/40 [==============================] - 1s 13ms/step - loss: 1.1104e-04 - accuracy: 0.0000e+00 - mean_squared_error: 1.1104e-04 - val_loss: 1.0660e-04 - val_accuracy: 0.0000e+00 - val_mean_squared_error: 1.0660e-04\n",
            "Epoch 6/20\n",
            "40/40 [==============================] - 1s 13ms/step - loss: 1.0773e-04 - accuracy: 0.0000e+00 - mean_squared_error: 1.0773e-04 - val_loss: 1.0435e-04 - val_accuracy: 0.0000e+00 - val_mean_squared_error: 1.0435e-04\n",
            "Epoch 7/20\n",
            "40/40 [==============================] - 1s 13ms/step - loss: 1.0548e-04 - accuracy: 0.0000e+00 - mean_squared_error: 1.0548e-04 - val_loss: 1.0297e-04 - val_accuracy: 0.0000e+00 - val_mean_squared_error: 1.0297e-04\n",
            "Epoch 8/20\n",
            "40/40 [==============================] - 1s 14ms/step - loss: 1.0403e-04 - accuracy: 0.0000e+00 - mean_squared_error: 1.0403e-04 - val_loss: 1.0240e-04 - val_accuracy: 0.0000e+00 - val_mean_squared_error: 1.0240e-04\n",
            "Epoch 9/20\n",
            "40/40 [==============================] - 1s 13ms/step - loss: 1.0272e-04 - accuracy: 0.0000e+00 - mean_squared_error: 1.0272e-04 - val_loss: 1.0137e-04 - val_accuracy: 0.0000e+00 - val_mean_squared_error: 1.0137e-04\n",
            "Epoch 10/20\n",
            "40/40 [==============================] - 1s 15ms/step - loss: 1.0146e-04 - accuracy: 0.0000e+00 - mean_squared_error: 1.0146e-04 - val_loss: 9.9939e-05 - val_accuracy: 0.0000e+00 - val_mean_squared_error: 9.9939e-05\n",
            "Epoch 11/20\n",
            "40/40 [==============================] - 1s 13ms/step - loss: 1.0042e-04 - accuracy: 0.0000e+00 - mean_squared_error: 1.0042e-04 - val_loss: 9.8881e-05 - val_accuracy: 0.0000e+00 - val_mean_squared_error: 9.8881e-05\n",
            "Epoch 12/20\n",
            "40/40 [==============================] - 1s 13ms/step - loss: 9.9483e-05 - accuracy: 0.0000e+00 - mean_squared_error: 9.9483e-05 - val_loss: 9.8038e-05 - val_accuracy: 0.0000e+00 - val_mean_squared_error: 9.8038e-05\n",
            "Epoch 13/20\n",
            "40/40 [==============================] - 0s 13ms/step - loss: 9.8665e-05 - accuracy: 0.0000e+00 - mean_squared_error: 9.8665e-05 - val_loss: 9.7607e-05 - val_accuracy: 0.0000e+00 - val_mean_squared_error: 9.7607e-05\n",
            "Epoch 14/20\n",
            "40/40 [==============================] - 1s 13ms/step - loss: 9.7783e-05 - accuracy: 0.0000e+00 - mean_squared_error: 9.7783e-05 - val_loss: 9.7341e-05 - val_accuracy: 0.0000e+00 - val_mean_squared_error: 9.7341e-05\n",
            "Epoch 15/20\n",
            "40/40 [==============================] - 1s 13ms/step - loss: 9.6972e-05 - accuracy: 0.0000e+00 - mean_squared_error: 9.6972e-05 - val_loss: 9.6754e-05 - val_accuracy: 0.0000e+00 - val_mean_squared_error: 9.6754e-05\n",
            "Epoch 16/20\n",
            "40/40 [==============================] - 1s 14ms/step - loss: 9.6189e-05 - accuracy: 0.0000e+00 - mean_squared_error: 9.6189e-05 - val_loss: 9.5590e-05 - val_accuracy: 0.0000e+00 - val_mean_squared_error: 9.5590e-05\n",
            "Epoch 17/20\n",
            "40/40 [==============================] - 1s 13ms/step - loss: 9.5344e-05 - accuracy: 0.0000e+00 - mean_squared_error: 9.5344e-05 - val_loss: 9.4093e-05 - val_accuracy: 0.0000e+00 - val_mean_squared_error: 9.4093e-05\n",
            "Epoch 18/20\n",
            "40/40 [==============================] - 1s 14ms/step - loss: 9.4507e-05 - accuracy: 0.0000e+00 - mean_squared_error: 9.4507e-05 - val_loss: 9.2782e-05 - val_accuracy: 0.0000e+00 - val_mean_squared_error: 9.2782e-05\n",
            "Epoch 19/20\n",
            "40/40 [==============================] - 1s 13ms/step - loss: 9.3769e-05 - accuracy: 0.0000e+00 - mean_squared_error: 9.3769e-05 - val_loss: 9.1854e-05 - val_accuracy: 0.0000e+00 - val_mean_squared_error: 9.1854e-05\n",
            "Epoch 20/20\n",
            "40/40 [==============================] - 0s 13ms/step - loss: 9.3236e-05 - accuracy: 0.0000e+00 - mean_squared_error: 9.3236e-05 - val_loss: 9.1023e-05 - val_accuracy: 0.0000e+00 - val_mean_squared_error: 9.1023e-05\n",
            "32/32 [==============================] - 0s 1ms/step\n",
            "4.641588833612782 0.009551036 2.0235286\n",
            "5.09413801481638\n",
            "Epoch 1/20\n"
          ]
        },
        {
          "name": "stderr",
          "output_type": "stream",
          "text": [
            "2023-12-06 22:46:43.110591: I tensorflow/core/common_runtime/gpu/gpu_device.cc:1886] Created device /device:GPU:0 with 20609 MB memory:  -> device: 0, name: NVIDIA L4, pci bus id: 0000:00:03.0, compute capability: 8.9\n"
          ]
        },
        {
          "name": "stdout",
          "output_type": "stream",
          "text": [
            "40/40 [==============================] - 2s 16ms/step - loss: 0.0111 - accuracy: 0.0000e+00 - mean_squared_error: 0.0111 - val_loss: 4.9816e-04 - val_accuracy: 0.0000e+00 - val_mean_squared_error: 4.9816e-04\n",
            "Epoch 2/20\n",
            "31/40 [======================>.......] - ETA: 0s - loss: 3.0949e-04 - accuracy: 0.0000e+00 - mean_squared_error: 3.0949e-04"
          ]
        },
        {
          "name": "stderr",
          "output_type": "stream",
          "text": [
            "2023-12-06 22:46:44.848925: I tensorflow/core/framework/local_rendezvous.cc:421] Local rendezvous recv item cancelled. Key hash: 12749084622472637211\n",
            "2023-12-06 22:46:44.848980: I tensorflow/core/framework/local_rendezvous.cc:421] Local rendezvous recv item cancelled. Key hash: 10316076964217112533\n"
          ]
        },
        {
          "name": "stdout",
          "output_type": "stream",
          "text": [
            "40/40 [==============================] - 1s 13ms/step - loss: 2.7222e-04 - accuracy: 0.0000e+00 - mean_squared_error: 2.7222e-04 - val_loss: 1.2713e-04 - val_accuracy: 0.0000e+00 - val_mean_squared_error: 1.2713e-04\n",
            "Epoch 3/20\n",
            "40/40 [==============================] - 1s 13ms/step - loss: 1.1009e-04 - accuracy: 0.0000e+00 - mean_squared_error: 1.1009e-04 - val_loss: 1.0472e-04 - val_accuracy: 0.0000e+00 - val_mean_squared_error: 1.0472e-04\n",
            "Epoch 4/20\n",
            "40/40 [==============================] - 1s 14ms/step - loss: 1.0033e-04 - accuracy: 0.0000e+00 - mean_squared_error: 1.0033e-04 - val_loss: 9.9149e-05 - val_accuracy: 0.0000e+00 - val_mean_squared_error: 9.9149e-05\n",
            "Epoch 5/20\n",
            "40/40 [==============================] - 1s 13ms/step - loss: 9.5411e-05 - accuracy: 0.0000e+00 - mean_squared_error: 9.5411e-05 - val_loss: 9.6081e-05 - val_accuracy: 0.0000e+00 - val_mean_squared_error: 9.6081e-05\n",
            "Epoch 6/20\n",
            "40/40 [==============================] - 1s 13ms/step - loss: 9.1627e-05 - accuracy: 0.0000e+00 - mean_squared_error: 9.1627e-05 - val_loss: 9.2276e-05 - val_accuracy: 0.0000e+00 - val_mean_squared_error: 9.2276e-05\n",
            "Epoch 7/20\n",
            "40/40 [==============================] - 1s 13ms/step - loss: 8.9185e-05 - accuracy: 0.0000e+00 - mean_squared_error: 8.9185e-05 - val_loss: 9.0030e-05 - val_accuracy: 0.0000e+00 - val_mean_squared_error: 9.0030e-05\n",
            "Epoch 8/20\n",
            "40/40 [==============================] - 1s 13ms/step - loss: 8.7527e-05 - accuracy: 0.0000e+00 - mean_squared_error: 8.7527e-05 - val_loss: 8.8439e-05 - val_accuracy: 0.0000e+00 - val_mean_squared_error: 8.8439e-05\n",
            "Epoch 9/20\n",
            "40/40 [==============================] - 1s 13ms/step - loss: 8.6277e-05 - accuracy: 0.0000e+00 - mean_squared_error: 8.6277e-05 - val_loss: 8.7296e-05 - val_accuracy: 0.0000e+00 - val_mean_squared_error: 8.7296e-05\n",
            "Epoch 10/20\n",
            "40/40 [==============================] - 1s 13ms/step - loss: 8.5296e-05 - accuracy: 0.0000e+00 - mean_squared_error: 8.5296e-05 - val_loss: 8.6165e-05 - val_accuracy: 0.0000e+00 - val_mean_squared_error: 8.6165e-05\n",
            "Epoch 11/20\n",
            "40/40 [==============================] - 1s 13ms/step - loss: 8.4439e-05 - accuracy: 0.0000e+00 - mean_squared_error: 8.4439e-05 - val_loss: 8.5164e-05 - val_accuracy: 0.0000e+00 - val_mean_squared_error: 8.5164e-05\n",
            "Epoch 12/20\n",
            "40/40 [==============================] - 1s 13ms/step - loss: 8.3711e-05 - accuracy: 0.0000e+00 - mean_squared_error: 8.3711e-05 - val_loss: 8.4219e-05 - val_accuracy: 0.0000e+00 - val_mean_squared_error: 8.4219e-05\n",
            "Epoch 13/20\n",
            "40/40 [==============================] - 1s 13ms/step - loss: 8.3049e-05 - accuracy: 0.0000e+00 - mean_squared_error: 8.3049e-05 - val_loss: 8.3415e-05 - val_accuracy: 0.0000e+00 - val_mean_squared_error: 8.3415e-05\n",
            "Epoch 14/20\n",
            "40/40 [==============================] - 0s 13ms/step - loss: 8.2580e-05 - accuracy: 0.0000e+00 - mean_squared_error: 8.2580e-05 - val_loss: 8.2735e-05 - val_accuracy: 0.0000e+00 - val_mean_squared_error: 8.2735e-05\n",
            "Epoch 15/20\n",
            "40/40 [==============================] - 1s 14ms/step - loss: 8.2322e-05 - accuracy: 0.0000e+00 - mean_squared_error: 8.2322e-05 - val_loss: 8.2810e-05 - val_accuracy: 0.0000e+00 - val_mean_squared_error: 8.2810e-05\n",
            "Epoch 16/20\n",
            "40/40 [==============================] - 1s 13ms/step - loss: 8.2242e-05 - accuracy: 0.0000e+00 - mean_squared_error: 8.2242e-05 - val_loss: 8.5513e-05 - val_accuracy: 0.0000e+00 - val_mean_squared_error: 8.5513e-05\n",
            "Epoch 17/20\n",
            "40/40 [==============================] - 1s 14ms/step - loss: 8.1581e-05 - accuracy: 0.0000e+00 - mean_squared_error: 8.1581e-05 - val_loss: 8.8243e-05 - val_accuracy: 0.0000e+00 - val_mean_squared_error: 8.8243e-05\n",
            "Epoch 18/20\n",
            "40/40 [==============================] - 1s 13ms/step - loss: 7.9825e-05 - accuracy: 0.0000e+00 - mean_squared_error: 7.9825e-05 - val_loss: 8.5913e-05 - val_accuracy: 0.0000e+00 - val_mean_squared_error: 8.5913e-05\n",
            "Epoch 19/20\n",
            "40/40 [==============================] - 1s 14ms/step - loss: 7.8110e-05 - accuracy: 0.0000e+00 - mean_squared_error: 7.8110e-05 - val_loss: 8.3830e-05 - val_accuracy: 0.0000e+00 - val_mean_squared_error: 8.3830e-05\n",
            "Epoch 20/20\n",
            "40/40 [==============================] - 0s 13ms/step - loss: 7.7028e-05 - accuracy: 0.0000e+00 - mean_squared_error: 7.7028e-05 - val_loss: 8.3183e-05 - val_accuracy: 0.0000e+00 - val_mean_squared_error: 8.3183e-05\n",
            "32/32 [==============================] - 0s 1ms/step\n",
            "5.09413801481638 0.008758148 1.9956294\n",
            "5.590810182512229\n",
            "Epoch 1/20\n"
          ]
        },
        {
          "name": "stderr",
          "output_type": "stream",
          "text": [
            "2023-12-06 22:46:55.289244: I tensorflow/core/common_runtime/gpu/gpu_device.cc:1886] Created device /device:GPU:0 with 20609 MB memory:  -> device: 0, name: NVIDIA L4, pci bus id: 0000:00:03.0, compute capability: 8.9\n"
          ]
        },
        {
          "name": "stdout",
          "output_type": "stream",
          "text": [
            "     31/Unknown - 1s 5ms/step - loss: 0.0041 - accuracy: 0.0000e+00 - mean_squared_error: 0.0041"
          ]
        },
        {
          "name": "stderr",
          "output_type": "stream",
          "text": [
            "2023-12-06 22:46:56.609894: I tensorflow/core/framework/local_rendezvous.cc:421] Local rendezvous recv item cancelled. Key hash: 12749084622472637211\n",
            "2023-12-06 22:46:56.609962: I tensorflow/core/framework/local_rendezvous.cc:421] Local rendezvous recv item cancelled. Key hash: 10316076964217112533\n"
          ]
        },
        {
          "name": "stdout",
          "output_type": "stream",
          "text": [
            "40/40 [==============================] - 2s 17ms/step - loss: 0.0033 - accuracy: 0.0000e+00 - mean_squared_error: 0.0033 - val_loss: 2.0309e-04 - val_accuracy: 0.0000e+00 - val_mean_squared_error: 2.0309e-04\n",
            "Epoch 2/20\n",
            "30/40 [=====================>........] - ETA: 0s - loss: 1.3691e-04 - accuracy: 0.0000e+00 - mean_squared_error: 1.3691e-04"
          ]
        },
        {
          "name": "stderr",
          "output_type": "stream",
          "text": [
            "2023-12-06 22:46:57.039523: I tensorflow/core/framework/local_rendezvous.cc:421] Local rendezvous recv item cancelled. Key hash: 12749084622472637211\n",
            "2023-12-06 22:46:57.039580: I tensorflow/core/framework/local_rendezvous.cc:421] Local rendezvous recv item cancelled. Key hash: 10316076964217112533\n"
          ]
        },
        {
          "name": "stdout",
          "output_type": "stream",
          "text": [
            "40/40 [==============================] - 1s 13ms/step - loss: 1.2244e-04 - accuracy: 0.0000e+00 - mean_squared_error: 1.2244e-04 - val_loss: 6.7133e-05 - val_accuracy: 0.0000e+00 - val_mean_squared_error: 6.7133e-05\n",
            "Epoch 3/20\n",
            "40/40 [==============================] - 1s 13ms/step - loss: 5.2310e-05 - accuracy: 0.0000e+00 - mean_squared_error: 5.2310e-05 - val_loss: 4.2518e-05 - val_accuracy: 0.0000e+00 - val_mean_squared_error: 4.2518e-05\n",
            "Epoch 4/20\n",
            "40/40 [==============================] - 1s 13ms/step - loss: 4.1043e-05 - accuracy: 0.0000e+00 - mean_squared_error: 4.1043e-05 - val_loss: 3.9257e-05 - val_accuracy: 0.0000e+00 - val_mean_squared_error: 3.9257e-05\n",
            "Epoch 5/20\n",
            "40/40 [==============================] - 1s 13ms/step - loss: 3.8899e-05 - accuracy: 0.0000e+00 - mean_squared_error: 3.8899e-05 - val_loss: 3.7432e-05 - val_accuracy: 0.0000e+00 - val_mean_squared_error: 3.7432e-05\n",
            "Epoch 6/20\n",
            "40/40 [==============================] - 1s 13ms/step - loss: 3.7302e-05 - accuracy: 0.0000e+00 - mean_squared_error: 3.7302e-05 - val_loss: 3.5968e-05 - val_accuracy: 0.0000e+00 - val_mean_squared_error: 3.5968e-05\n",
            "Epoch 7/20\n",
            "40/40 [==============================] - 1s 14ms/step - loss: 3.6084e-05 - accuracy: 0.0000e+00 - mean_squared_error: 3.6084e-05 - val_loss: 3.5023e-05 - val_accuracy: 0.0000e+00 - val_mean_squared_error: 3.5023e-05\n",
            "Epoch 8/20\n",
            "40/40 [==============================] - 1s 13ms/step - loss: 3.5051e-05 - accuracy: 0.0000e+00 - mean_squared_error: 3.5051e-05 - val_loss: 3.4055e-05 - val_accuracy: 0.0000e+00 - val_mean_squared_error: 3.4055e-05\n",
            "Epoch 9/20\n",
            "40/40 [==============================] - 1s 13ms/step - loss: 3.4102e-05 - accuracy: 0.0000e+00 - mean_squared_error: 3.4102e-05 - val_loss: 3.3165e-05 - val_accuracy: 0.0000e+00 - val_mean_squared_error: 3.3165e-05\n",
            "Epoch 10/20\n",
            "40/40 [==============================] - 0s 12ms/step - loss: 3.3273e-05 - accuracy: 0.0000e+00 - mean_squared_error: 3.3273e-05 - val_loss: 3.2428e-05 - val_accuracy: 0.0000e+00 - val_mean_squared_error: 3.2428e-05\n",
            "Epoch 11/20\n",
            "40/40 [==============================] - 1s 13ms/step - loss: 3.2647e-05 - accuracy: 0.0000e+00 - mean_squared_error: 3.2647e-05 - val_loss: 3.1573e-05 - val_accuracy: 0.0000e+00 - val_mean_squared_error: 3.1573e-05\n",
            "Epoch 12/20\n",
            "40/40 [==============================] - 1s 13ms/step - loss: 3.1898e-05 - accuracy: 0.0000e+00 - mean_squared_error: 3.1898e-05 - val_loss: 3.1103e-05 - val_accuracy: 0.0000e+00 - val_mean_squared_error: 3.1103e-05\n",
            "Epoch 13/20\n",
            "40/40 [==============================] - 1s 13ms/step - loss: 3.1160e-05 - accuracy: 0.0000e+00 - mean_squared_error: 3.1160e-05 - val_loss: 3.0960e-05 - val_accuracy: 0.0000e+00 - val_mean_squared_error: 3.0960e-05\n",
            "Epoch 14/20\n",
            "40/40 [==============================] - 1s 13ms/step - loss: 3.0644e-05 - accuracy: 0.0000e+00 - mean_squared_error: 3.0644e-05 - val_loss: 3.0124e-05 - val_accuracy: 0.0000e+00 - val_mean_squared_error: 3.0124e-05\n",
            "Epoch 15/20\n",
            "40/40 [==============================] - 1s 14ms/step - loss: 3.0291e-05 - accuracy: 0.0000e+00 - mean_squared_error: 3.0291e-05 - val_loss: 3.0163e-05 - val_accuracy: 0.0000e+00 - val_mean_squared_error: 3.0163e-05\n",
            "Epoch 16/20\n",
            "40/40 [==============================] - 1s 13ms/step - loss: 2.9910e-05 - accuracy: 0.0000e+00 - mean_squared_error: 2.9910e-05 - val_loss: 3.0030e-05 - val_accuracy: 0.0000e+00 - val_mean_squared_error: 3.0030e-05\n",
            "Epoch 17/20\n",
            "40/40 [==============================] - 1s 13ms/step - loss: 2.9803e-05 - accuracy: 0.0000e+00 - mean_squared_error: 2.9803e-05 - val_loss: 2.9186e-05 - val_accuracy: 0.0000e+00 - val_mean_squared_error: 2.9186e-05\n",
            "Epoch 18/20\n",
            "40/40 [==============================] - 1s 13ms/step - loss: 2.9494e-05 - accuracy: 0.0000e+00 - mean_squared_error: 2.9494e-05 - val_loss: 2.9495e-05 - val_accuracy: 0.0000e+00 - val_mean_squared_error: 2.9495e-05\n",
            "Epoch 19/20\n",
            "40/40 [==============================] - 1s 13ms/step - loss: 2.9171e-05 - accuracy: 0.0000e+00 - mean_squared_error: 2.9171e-05 - val_loss: 3.2131e-05 - val_accuracy: 0.0000e+00 - val_mean_squared_error: 3.2131e-05\n",
            "Epoch 20/20\n",
            "40/40 [==============================] - 1s 14ms/step - loss: 2.9047e-05 - accuracy: 0.0000e+00 - mean_squared_error: 2.9047e-05 - val_loss: 3.3136e-05 - val_accuracy: 0.0000e+00 - val_mean_squared_error: 3.3136e-05\n",
            "32/32 [==============================] - 0s 1ms/step\n",
            "5.590810182512229 0.0057538413 1.9752575\n",
            "6.135907273413176\n",
            "Epoch 1/20\n"
          ]
        },
        {
          "name": "stderr",
          "output_type": "stream",
          "text": [
            "2023-12-06 22:47:07.575958: I tensorflow/core/common_runtime/gpu/gpu_device.cc:1886] Created device /device:GPU:0 with 20609 MB memory:  -> device: 0, name: NVIDIA L4, pci bus id: 0000:00:03.0, compute capability: 8.9\n"
          ]
        },
        {
          "name": "stdout",
          "output_type": "stream",
          "text": [
            "     31/Unknown - 1s 5ms/step - loss: 0.0039 - accuracy: 0.0000e+00 - mean_squared_error: 0.0039"
          ]
        },
        {
          "name": "stderr",
          "output_type": "stream",
          "text": [
            "2023-12-06 22:47:08.891047: I tensorflow/core/framework/local_rendezvous.cc:421] Local rendezvous recv item cancelled. Key hash: 12749084622472637211\n"
          ]
        },
        {
          "name": "stdout",
          "output_type": "stream",
          "text": [
            "40/40 [==============================] - 2s 17ms/step - loss: 0.0032 - accuracy: 0.0000e+00 - mean_squared_error: 0.0032 - val_loss: 2.6990e-04 - val_accuracy: 0.0000e+00 - val_mean_squared_error: 2.6990e-04\n",
            "Epoch 2/20\n",
            "31/40 [======================>.......] - ETA: 0s - loss: 1.8343e-04 - accuracy: 0.0000e+00 - mean_squared_error: 1.8343e-04"
          ]
        },
        {
          "name": "stderr",
          "output_type": "stream",
          "text": [
            "2023-12-06 22:47:09.321191: I tensorflow/core/framework/local_rendezvous.cc:421] Local rendezvous recv item cancelled. Key hash: 12749084622472637211\n",
            "2023-12-06 22:47:09.321247: I tensorflow/core/framework/local_rendezvous.cc:421] Local rendezvous recv item cancelled. Key hash: 10316076964217112533\n"
          ]
        },
        {
          "name": "stdout",
          "output_type": "stream",
          "text": [
            "40/40 [==============================] - 1s 13ms/step - loss: 1.6700e-04 - accuracy: 0.0000e+00 - mean_squared_error: 1.6700e-04 - val_loss: 1.0386e-04 - val_accuracy: 0.0000e+00 - val_mean_squared_error: 1.0386e-04\n",
            "Epoch 3/20\n",
            "40/40 [==============================] - 1s 13ms/step - loss: 7.5924e-05 - accuracy: 0.0000e+00 - mean_squared_error: 7.5924e-05 - val_loss: 5.9592e-05 - val_accuracy: 0.0000e+00 - val_mean_squared_error: 5.9592e-05\n",
            "Epoch 4/20\n",
            "40/40 [==============================] - 1s 13ms/step - loss: 4.7863e-05 - accuracy: 0.0000e+00 - mean_squared_error: 4.7863e-05 - val_loss: 4.2159e-05 - val_accuracy: 0.0000e+00 - val_mean_squared_error: 4.2159e-05\n",
            "Epoch 5/20\n",
            "40/40 [==============================] - 1s 13ms/step - loss: 3.6396e-05 - accuracy: 0.0000e+00 - mean_squared_error: 3.6396e-05 - val_loss: 3.3995e-05 - val_accuracy: 0.0000e+00 - val_mean_squared_error: 3.3995e-05\n",
            "Epoch 6/20\n",
            "40/40 [==============================] - 1s 13ms/step - loss: 3.1124e-05 - accuracy: 0.0000e+00 - mean_squared_error: 3.1124e-05 - val_loss: 3.0065e-05 - val_accuracy: 0.0000e+00 - val_mean_squared_error: 3.0065e-05\n",
            "Epoch 7/20\n",
            "40/40 [==============================] - 1s 13ms/step - loss: 2.8938e-05 - accuracy: 0.0000e+00 - mean_squared_error: 2.8938e-05 - val_loss: 2.8440e-05 - val_accuracy: 0.0000e+00 - val_mean_squared_error: 2.8440e-05\n",
            "Epoch 8/20\n",
            "40/40 [==============================] - 1s 13ms/step - loss: 2.7787e-05 - accuracy: 0.0000e+00 - mean_squared_error: 2.7787e-05 - val_loss: 2.7760e-05 - val_accuracy: 0.0000e+00 - val_mean_squared_error: 2.7760e-05\n",
            "Epoch 9/20\n",
            "40/40 [==============================] - 0s 12ms/step - loss: 2.7435e-05 - accuracy: 0.0000e+00 - mean_squared_error: 2.7435e-05 - val_loss: 2.7601e-05 - val_accuracy: 0.0000e+00 - val_mean_squared_error: 2.7601e-05\n",
            "Epoch 10/20\n",
            "40/40 [==============================] - 1s 13ms/step - loss: 2.7175e-05 - accuracy: 0.0000e+00 - mean_squared_error: 2.7175e-05 - val_loss: 2.7324e-05 - val_accuracy: 0.0000e+00 - val_mean_squared_error: 2.7324e-05\n",
            "Epoch 11/20\n",
            "40/40 [==============================] - 1s 13ms/step - loss: 2.6939e-05 - accuracy: 0.0000e+00 - mean_squared_error: 2.6939e-05 - val_loss: 2.7080e-05 - val_accuracy: 0.0000e+00 - val_mean_squared_error: 2.7080e-05\n",
            "Epoch 12/20\n",
            "40/40 [==============================] - 1s 13ms/step - loss: 2.6815e-05 - accuracy: 0.0000e+00 - mean_squared_error: 2.6815e-05 - val_loss: 2.6974e-05 - val_accuracy: 0.0000e+00 - val_mean_squared_error: 2.6974e-05\n",
            "Epoch 13/20\n",
            "40/40 [==============================] - 1s 13ms/step - loss: 2.6664e-05 - accuracy: 0.0000e+00 - mean_squared_error: 2.6664e-05 - val_loss: 2.6929e-05 - val_accuracy: 0.0000e+00 - val_mean_squared_error: 2.6929e-05\n",
            "Epoch 14/20\n",
            "40/40 [==============================] - 0s 12ms/step - loss: 2.6509e-05 - accuracy: 0.0000e+00 - mean_squared_error: 2.6509e-05 - val_loss: 2.6847e-05 - val_accuracy: 0.0000e+00 - val_mean_squared_error: 2.6847e-05\n",
            "Epoch 15/20\n",
            "40/40 [==============================] - 1s 14ms/step - loss: 2.6348e-05 - accuracy: 0.0000e+00 - mean_squared_error: 2.6348e-05 - val_loss: 2.6648e-05 - val_accuracy: 0.0000e+00 - val_mean_squared_error: 2.6648e-05\n",
            "Epoch 16/20\n",
            "40/40 [==============================] - 1s 13ms/step - loss: 2.6181e-05 - accuracy: 0.0000e+00 - mean_squared_error: 2.6181e-05 - val_loss: 2.6329e-05 - val_accuracy: 0.0000e+00 - val_mean_squared_error: 2.6329e-05\n",
            "Epoch 17/20\n",
            "40/40 [==============================] - 1s 13ms/step - loss: 2.6005e-05 - accuracy: 0.0000e+00 - mean_squared_error: 2.6005e-05 - val_loss: 2.6169e-05 - val_accuracy: 0.0000e+00 - val_mean_squared_error: 2.6169e-05\n",
            "Epoch 18/20\n",
            "40/40 [==============================] - 1s 13ms/step - loss: 2.5880e-05 - accuracy: 0.0000e+00 - mean_squared_error: 2.5880e-05 - val_loss: 2.6065e-05 - val_accuracy: 0.0000e+00 - val_mean_squared_error: 2.6065e-05\n",
            "Epoch 19/20\n",
            "40/40 [==============================] - 1s 13ms/step - loss: 2.5774e-05 - accuracy: 0.0000e+00 - mean_squared_error: 2.5774e-05 - val_loss: 2.5990e-05 - val_accuracy: 0.0000e+00 - val_mean_squared_error: 2.5990e-05\n",
            "Epoch 20/20\n",
            "40/40 [==============================] - 1s 14ms/step - loss: 2.5717e-05 - accuracy: 0.0000e+00 - mean_squared_error: 2.5717e-05 - val_loss: 2.5845e-05 - val_accuracy: 0.0000e+00 - val_mean_squared_error: 2.5845e-05\n",
            "32/32 [==============================] - 0s 1ms/step\n",
            "6.135907273413176 0.005126032 2.0284626\n",
            "6.7341506577508286\n",
            "Epoch 1/20\n"
          ]
        },
        {
          "name": "stderr",
          "output_type": "stream",
          "text": [
            "2023-12-06 22:47:19.763053: I tensorflow/core/common_runtime/gpu/gpu_device.cc:1886] Created device /device:GPU:0 with 20609 MB memory:  -> device: 0, name: NVIDIA L4, pci bus id: 0000:00:03.0, compute capability: 8.9\n"
          ]
        },
        {
          "name": "stdout",
          "output_type": "stream",
          "text": [
            "40/40 [==============================] - 2s 17ms/step - loss: 0.0018 - accuracy: 0.0000e+00 - mean_squared_error: 0.0018 - val_loss: 2.4174e-04 - val_accuracy: 0.0000e+00 - val_mean_squared_error: 2.4174e-04\n",
            "Epoch 2/20\n",
            "31/40 [======================>.......] - ETA: 0s - loss: 1.1629e-04 - accuracy: 0.0000e+00 - mean_squared_error: 1.1629e-04"
          ]
        },
        {
          "name": "stderr",
          "output_type": "stream",
          "text": [
            "2023-12-06 22:47:21.526614: I tensorflow/core/framework/local_rendezvous.cc:421] Local rendezvous recv item cancelled. Key hash: 12749084622472637211\n"
          ]
        },
        {
          "name": "stdout",
          "output_type": "stream",
          "text": [
            "40/40 [==============================] - 1s 13ms/step - loss: 1.0805e-04 - accuracy: 0.0000e+00 - mean_squared_error: 1.0805e-04 - val_loss: 6.8002e-05 - val_accuracy: 0.0000e+00 - val_mean_squared_error: 6.8002e-05\n",
            "Epoch 3/20\n",
            "40/40 [==============================] - 1s 13ms/step - loss: 5.8717e-05 - accuracy: 0.0000e+00 - mean_squared_error: 5.8717e-05 - val_loss: 4.9036e-05 - val_accuracy: 0.0000e+00 - val_mean_squared_error: 4.9036e-05\n",
            "Epoch 4/20\n",
            "40/40 [==============================] - 1s 13ms/step - loss: 4.3255e-05 - accuracy: 0.0000e+00 - mean_squared_error: 4.3255e-05 - val_loss: 3.7880e-05 - val_accuracy: 0.0000e+00 - val_mean_squared_error: 3.7880e-05\n",
            "Epoch 5/20\n",
            "40/40 [==============================] - 1s 13ms/step - loss: 3.4375e-05 - accuracy: 0.0000e+00 - mean_squared_error: 3.4375e-05 - val_loss: 3.0079e-05 - val_accuracy: 0.0000e+00 - val_mean_squared_error: 3.0079e-05\n",
            "Epoch 6/20\n",
            "40/40 [==============================] - 1s 13ms/step - loss: 2.9562e-05 - accuracy: 0.0000e+00 - mean_squared_error: 2.9562e-05 - val_loss: 2.7279e-05 - val_accuracy: 0.0000e+00 - val_mean_squared_error: 2.7279e-05\n",
            "Epoch 7/20\n",
            "40/40 [==============================] - 1s 13ms/step - loss: 2.7199e-05 - accuracy: 0.0000e+00 - mean_squared_error: 2.7199e-05 - val_loss: 3.2234e-05 - val_accuracy: 0.0000e+00 - val_mean_squared_error: 3.2234e-05\n",
            "Epoch 8/20\n",
            "40/40 [==============================] - 1s 14ms/step - loss: 2.7744e-05 - accuracy: 0.0000e+00 - mean_squared_error: 2.7744e-05 - val_loss: 3.7046e-05 - val_accuracy: 0.0000e+00 - val_mean_squared_error: 3.7046e-05\n",
            "Epoch 9/20\n",
            "40/40 [==============================] - 1s 13ms/step - loss: 2.8898e-05 - accuracy: 0.0000e+00 - mean_squared_error: 2.8898e-05 - val_loss: 2.7109e-05 - val_accuracy: 0.0000e+00 - val_mean_squared_error: 2.7109e-05\n",
            "Epoch 10/20\n",
            "40/40 [==============================] - 1s 13ms/step - loss: 2.5980e-05 - accuracy: 0.0000e+00 - mean_squared_error: 2.5980e-05 - val_loss: 2.9141e-05 - val_accuracy: 0.0000e+00 - val_mean_squared_error: 2.9141e-05\n",
            "Epoch 11/20\n",
            "40/40 [==============================] - 1s 13ms/step - loss: 2.5709e-05 - accuracy: 0.0000e+00 - mean_squared_error: 2.5709e-05 - val_loss: 3.1560e-05 - val_accuracy: 0.0000e+00 - val_mean_squared_error: 3.1560e-05\n",
            "Epoch 12/20\n",
            "40/40 [==============================] - 1s 13ms/step - loss: 2.5960e-05 - accuracy: 0.0000e+00 - mean_squared_error: 2.5960e-05 - val_loss: 3.6510e-05 - val_accuracy: 0.0000e+00 - val_mean_squared_error: 3.6510e-05\n",
            "Epoch 13/20\n",
            "40/40 [==============================] - 1s 13ms/step - loss: 2.7225e-05 - accuracy: 0.0000e+00 - mean_squared_error: 2.7225e-05 - val_loss: 3.9404e-05 - val_accuracy: 0.0000e+00 - val_mean_squared_error: 3.9404e-05\n",
            "Epoch 14/20\n",
            "40/40 [==============================] - 1s 13ms/step - loss: 2.8530e-05 - accuracy: 0.0000e+00 - mean_squared_error: 2.8530e-05 - val_loss: 4.8718e-05 - val_accuracy: 0.0000e+00 - val_mean_squared_error: 4.8718e-05\n",
            "Epoch 15/20\n",
            "40/40 [==============================] - 1s 14ms/step - loss: 3.1814e-05 - accuracy: 0.0000e+00 - mean_squared_error: 3.1814e-05 - val_loss: 3.4151e-05 - val_accuracy: 0.0000e+00 - val_mean_squared_error: 3.4151e-05\n",
            "Epoch 16/20\n",
            "40/40 [==============================] - 1s 13ms/step - loss: 2.8460e-05 - accuracy: 0.0000e+00 - mean_squared_error: 2.8460e-05 - val_loss: 4.2707e-05 - val_accuracy: 0.0000e+00 - val_mean_squared_error: 4.2707e-05\n",
            "Epoch 17/20\n",
            "40/40 [==============================] - 1s 14ms/step - loss: 3.1288e-05 - accuracy: 0.0000e+00 - mean_squared_error: 3.1288e-05 - val_loss: 2.7905e-05 - val_accuracy: 0.0000e+00 - val_mean_squared_error: 2.7905e-05\n",
            "Epoch 18/20\n",
            "40/40 [==============================] - 1s 13ms/step - loss: 2.6484e-05 - accuracy: 0.0000e+00 - mean_squared_error: 2.6484e-05 - val_loss: 4.4682e-05 - val_accuracy: 0.0000e+00 - val_mean_squared_error: 4.4682e-05\n",
            "Epoch 19/20\n",
            "40/40 [==============================] - 1s 13ms/step - loss: 2.6593e-05 - accuracy: 0.0000e+00 - mean_squared_error: 2.6593e-05 - val_loss: 4.9318e-05 - val_accuracy: 0.0000e+00 - val_mean_squared_error: 4.9318e-05\n",
            "Epoch 20/20\n",
            "40/40 [==============================] - 1s 13ms/step - loss: 3.4673e-05 - accuracy: 0.0000e+00 - mean_squared_error: 3.4673e-05 - val_loss: 3.9267e-05 - val_accuracy: 0.0000e+00 - val_mean_squared_error: 3.9267e-05\n",
            "32/32 [==============================] - 0s 1ms/step\n",
            "6.7341506577508286 0.0062341294 2.0809362\n",
            "7.390722033525782\n",
            "Epoch 1/20\n"
          ]
        },
        {
          "name": "stderr",
          "output_type": "stream",
          "text": [
            "2023-12-06 22:47:32.082409: I tensorflow/core/common_runtime/gpu/gpu_device.cc:1886] Created device /device:GPU:0 with 20609 MB memory:  -> device: 0, name: NVIDIA L4, pci bus id: 0000:00:03.0, compute capability: 8.9\n"
          ]
        },
        {
          "name": "stdout",
          "output_type": "stream",
          "text": [
            "     37/Unknown - 1s 6ms/step - loss: 0.0014 - accuracy: 0.0000e+00 - mean_squared_error: 0.0014"
          ]
        },
        {
          "name": "stderr",
          "output_type": "stream",
          "text": [
            "2023-12-06 22:47:33.407748: I tensorflow/core/framework/local_rendezvous.cc:421] Local rendezvous recv item cancelled. Key hash: 12749084622472637211\n",
            "2023-12-06 22:47:33.407806: I tensorflow/core/framework/local_rendezvous.cc:421] Local rendezvous recv item cancelled. Key hash: 10316076964217112533\n"
          ]
        },
        {
          "name": "stdout",
          "output_type": "stream",
          "text": [
            "40/40 [==============================] - 2s 17ms/step - loss: 0.0014 - accuracy: 0.0000e+00 - mean_squared_error: 0.0014 - val_loss: 1.6516e-04 - val_accuracy: 0.0000e+00 - val_mean_squared_error: 1.6516e-04\n",
            "Epoch 2/20\n",
            "27/40 [===================>..........] - ETA: 0s - loss: 7.9744e-05 - accuracy: 0.0000e+00 - mean_squared_error: 7.9744e-05"
          ]
        },
        {
          "name": "stderr",
          "output_type": "stream",
          "text": [
            "2023-12-06 22:47:33.826140: I tensorflow/core/framework/local_rendezvous.cc:421] Local rendezvous recv item cancelled. Key hash: 12749084622472637211\n",
            "2023-12-06 22:47:33.826194: I tensorflow/core/framework/local_rendezvous.cc:421] Local rendezvous recv item cancelled. Key hash: 10316076964217112533\n"
          ]
        },
        {
          "name": "stdout",
          "output_type": "stream",
          "text": [
            "40/40 [==============================] - 1s 14ms/step - loss: 7.1730e-05 - accuracy: 0.0000e+00 - mean_squared_error: 7.1730e-05 - val_loss: 5.0557e-05 - val_accuracy: 0.0000e+00 - val_mean_squared_error: 5.0557e-05\n",
            "Epoch 3/20\n",
            "40/40 [==============================] - 1s 14ms/step - loss: 4.3700e-05 - accuracy: 0.0000e+00 - mean_squared_error: 4.3700e-05 - val_loss: 4.8283e-05 - val_accuracy: 0.0000e+00 - val_mean_squared_error: 4.8283e-05\n",
            "Epoch 4/20\n",
            "40/40 [==============================] - 1s 13ms/step - loss: 3.6263e-05 - accuracy: 0.0000e+00 - mean_squared_error: 3.6263e-05 - val_loss: 3.8937e-05 - val_accuracy: 0.0000e+00 - val_mean_squared_error: 3.8937e-05\n",
            "Epoch 5/20\n",
            "40/40 [==============================] - 1s 13ms/step - loss: 2.9799e-05 - accuracy: 0.0000e+00 - mean_squared_error: 2.9799e-05 - val_loss: 3.1418e-05 - val_accuracy: 0.0000e+00 - val_mean_squared_error: 3.1418e-05\n",
            "Epoch 6/20\n",
            "40/40 [==============================] - 1s 13ms/step - loss: 2.7164e-05 - accuracy: 0.0000e+00 - mean_squared_error: 2.7164e-05 - val_loss: 3.0047e-05 - val_accuracy: 0.0000e+00 - val_mean_squared_error: 3.0047e-05\n",
            "Epoch 7/20\n",
            "40/40 [==============================] - 1s 13ms/step - loss: 2.6249e-05 - accuracy: 0.0000e+00 - mean_squared_error: 2.6249e-05 - val_loss: 3.0414e-05 - val_accuracy: 0.0000e+00 - val_mean_squared_error: 3.0414e-05\n",
            "Epoch 8/20\n",
            "40/40 [==============================] - 1s 13ms/step - loss: 2.7020e-05 - accuracy: 0.0000e+00 - mean_squared_error: 2.7020e-05 - val_loss: 2.4795e-05 - val_accuracy: 0.0000e+00 - val_mean_squared_error: 2.4795e-05\n",
            "Epoch 9/20\n",
            "40/40 [==============================] - 0s 12ms/step - loss: 2.6389e-05 - accuracy: 0.0000e+00 - mean_squared_error: 2.6389e-05 - val_loss: 2.6967e-05 - val_accuracy: 0.0000e+00 - val_mean_squared_error: 2.6967e-05\n",
            "Epoch 10/20\n",
            "40/40 [==============================] - 0s 12ms/step - loss: 2.9502e-05 - accuracy: 0.0000e+00 - mean_squared_error: 2.9502e-05 - val_loss: 2.4638e-05 - val_accuracy: 0.0000e+00 - val_mean_squared_error: 2.4638e-05\n",
            "Epoch 11/20\n",
            "40/40 [==============================] - 1s 13ms/step - loss: 3.3578e-05 - accuracy: 0.0000e+00 - mean_squared_error: 3.3578e-05 - val_loss: 2.3687e-05 - val_accuracy: 0.0000e+00 - val_mean_squared_error: 2.3687e-05\n",
            "Epoch 12/20\n",
            "40/40 [==============================] - 1s 13ms/step - loss: 3.7594e-05 - accuracy: 0.0000e+00 - mean_squared_error: 3.7594e-05 - val_loss: 3.8175e-05 - val_accuracy: 0.0000e+00 - val_mean_squared_error: 3.8175e-05\n",
            "Epoch 13/20\n",
            "40/40 [==============================] - 1s 13ms/step - loss: 4.8820e-05 - accuracy: 0.0000e+00 - mean_squared_error: 4.8820e-05 - val_loss: 2.4004e-05 - val_accuracy: 0.0000e+00 - val_mean_squared_error: 2.4004e-05\n",
            "Epoch 14/20\n",
            "40/40 [==============================] - 1s 13ms/step - loss: 3.8734e-05 - accuracy: 0.0000e+00 - mean_squared_error: 3.8734e-05 - val_loss: 2.4057e-05 - val_accuracy: 0.0000e+00 - val_mean_squared_error: 2.4057e-05\n",
            "Epoch 15/20\n",
            "40/40 [==============================] - 1s 13ms/step - loss: 4.3267e-05 - accuracy: 0.0000e+00 - mean_squared_error: 4.3267e-05 - val_loss: 3.2159e-05 - val_accuracy: 0.0000e+00 - val_mean_squared_error: 3.2159e-05\n",
            "Epoch 16/20\n",
            "40/40 [==============================] - 1s 13ms/step - loss: 4.6756e-05 - accuracy: 0.0000e+00 - mean_squared_error: 4.6756e-05 - val_loss: 2.5146e-05 - val_accuracy: 0.0000e+00 - val_mean_squared_error: 2.5146e-05\n",
            "Epoch 17/20\n",
            "40/40 [==============================] - 1s 13ms/step - loss: 3.8114e-05 - accuracy: 0.0000e+00 - mean_squared_error: 3.8114e-05 - val_loss: 2.8850e-05 - val_accuracy: 0.0000e+00 - val_mean_squared_error: 2.8850e-05\n",
            "Epoch 18/20\n",
            "40/40 [==============================] - 1s 13ms/step - loss: 4.7112e-05 - accuracy: 0.0000e+00 - mean_squared_error: 4.7112e-05 - val_loss: 2.7226e-05 - val_accuracy: 0.0000e+00 - val_mean_squared_error: 2.7226e-05\n",
            "Epoch 19/20\n",
            "40/40 [==============================] - 1s 13ms/step - loss: 4.3394e-05 - accuracy: 0.0000e+00 - mean_squared_error: 4.3394e-05 - val_loss: 2.2661e-05 - val_accuracy: 0.0000e+00 - val_mean_squared_error: 2.2661e-05\n",
            "Epoch 20/20\n",
            "40/40 [==============================] - 1s 13ms/step - loss: 4.0908e-05 - accuracy: 0.0000e+00 - mean_squared_error: 4.0908e-05 - val_loss: 3.4210e-05 - val_accuracy: 0.0000e+00 - val_mean_squared_error: 3.4210e-05\n",
            "32/32 [==============================] - 0s 1ms/step\n",
            "7.390722033525782 0.005910448 2.0621216\n",
            "8.111308307896872\n",
            "Epoch 1/20\n"
          ]
        },
        {
          "name": "stderr",
          "output_type": "stream",
          "text": [
            "2023-12-06 22:47:44.270438: I tensorflow/core/common_runtime/gpu/gpu_device.cc:1886] Created device /device:GPU:0 with 20609 MB memory:  -> device: 0, name: NVIDIA L4, pci bus id: 0000:00:03.0, compute capability: 8.9\n"
          ]
        },
        {
          "name": "stdout",
          "output_type": "stream",
          "text": [
            "40/40 [==============================] - 2s 17ms/step - loss: 0.0026 - accuracy: 0.0000e+00 - mean_squared_error: 0.0026 - val_loss: 6.5148e-05 - val_accuracy: 0.0000e+00 - val_mean_squared_error: 6.5148e-05\n",
            "Epoch 2/20\n",
            "31/40 [======================>.......] - ETA: 0s - loss: 8.4149e-05 - accuracy: 0.0000e+00 - mean_squared_error: 8.4149e-05"
          ]
        },
        {
          "name": "stderr",
          "output_type": "stream",
          "text": [
            "2023-12-06 22:47:46.018811: I tensorflow/core/framework/local_rendezvous.cc:421] Local rendezvous recv item cancelled. Key hash: 12749084622472637211\n",
            "2023-12-06 22:47:46.018872: I tensorflow/core/framework/local_rendezvous.cc:421] Local rendezvous recv item cancelled. Key hash: 10316076964217112533\n"
          ]
        },
        {
          "name": "stdout",
          "output_type": "stream",
          "text": [
            "40/40 [==============================] - 1s 13ms/step - loss: 7.6431e-05 - accuracy: 0.0000e+00 - mean_squared_error: 7.6431e-05 - val_loss: 4.8799e-05 - val_accuracy: 0.0000e+00 - val_mean_squared_error: 4.8799e-05\n",
            "Epoch 3/20\n",
            "40/40 [==============================] - 0s 13ms/step - loss: 3.9106e-05 - accuracy: 0.0000e+00 - mean_squared_error: 3.9106e-05 - val_loss: 3.6744e-05 - val_accuracy: 0.0000e+00 - val_mean_squared_error: 3.6744e-05\n",
            "Epoch 4/20\n",
            "40/40 [==============================] - 1s 13ms/step - loss: 3.4490e-05 - accuracy: 0.0000e+00 - mean_squared_error: 3.4490e-05 - val_loss: 3.5692e-05 - val_accuracy: 0.0000e+00 - val_mean_squared_error: 3.5692e-05\n",
            "Epoch 5/20\n",
            "40/40 [==============================] - 1s 13ms/step - loss: 3.1908e-05 - accuracy: 0.0000e+00 - mean_squared_error: 3.1908e-05 - val_loss: 3.2534e-05 - val_accuracy: 0.0000e+00 - val_mean_squared_error: 3.2534e-05\n",
            "Epoch 6/20\n",
            "40/40 [==============================] - 1s 13ms/step - loss: 2.9218e-05 - accuracy: 0.0000e+00 - mean_squared_error: 2.9218e-05 - val_loss: 2.8662e-05 - val_accuracy: 0.0000e+00 - val_mean_squared_error: 2.8662e-05\n",
            "Epoch 7/20\n",
            "40/40 [==============================] - 1s 13ms/step - loss: 2.7435e-05 - accuracy: 0.0000e+00 - mean_squared_error: 2.7435e-05 - val_loss: 2.6606e-05 - val_accuracy: 0.0000e+00 - val_mean_squared_error: 2.6606e-05\n",
            "Epoch 8/20\n",
            "40/40 [==============================] - 0s 13ms/step - loss: 2.6220e-05 - accuracy: 0.0000e+00 - mean_squared_error: 2.6220e-05 - val_loss: 2.5000e-05 - val_accuracy: 0.0000e+00 - val_mean_squared_error: 2.5000e-05\n",
            "Epoch 9/20\n",
            "40/40 [==============================] - 1s 13ms/step - loss: 2.5489e-05 - accuracy: 0.0000e+00 - mean_squared_error: 2.5489e-05 - val_loss: 2.4241e-05 - val_accuracy: 0.0000e+00 - val_mean_squared_error: 2.4241e-05\n",
            "Epoch 10/20\n",
            "40/40 [==============================] - 0s 13ms/step - loss: 2.5108e-05 - accuracy: 0.0000e+00 - mean_squared_error: 2.5108e-05 - val_loss: 2.4605e-05 - val_accuracy: 0.0000e+00 - val_mean_squared_error: 2.4605e-05\n",
            "Epoch 11/20\n",
            "40/40 [==============================] - 1s 14ms/step - loss: 2.4709e-05 - accuracy: 0.0000e+00 - mean_squared_error: 2.4709e-05 - val_loss: 2.5204e-05 - val_accuracy: 0.0000e+00 - val_mean_squared_error: 2.5204e-05\n",
            "Epoch 12/20\n",
            "40/40 [==============================] - 1s 13ms/step - loss: 2.4540e-05 - accuracy: 0.0000e+00 - mean_squared_error: 2.4540e-05 - val_loss: 2.5063e-05 - val_accuracy: 0.0000e+00 - val_mean_squared_error: 2.5063e-05\n",
            "Epoch 13/20\n",
            "40/40 [==============================] - 1s 13ms/step - loss: 2.4489e-05 - accuracy: 0.0000e+00 - mean_squared_error: 2.4489e-05 - val_loss: 2.4334e-05 - val_accuracy: 0.0000e+00 - val_mean_squared_error: 2.4334e-05\n",
            "Epoch 14/20\n",
            "40/40 [==============================] - 1s 13ms/step - loss: 2.4389e-05 - accuracy: 0.0000e+00 - mean_squared_error: 2.4389e-05 - val_loss: 2.3345e-05 - val_accuracy: 0.0000e+00 - val_mean_squared_error: 2.3345e-05\n",
            "Epoch 15/20\n",
            "40/40 [==============================] - 1s 14ms/step - loss: 2.4029e-05 - accuracy: 0.0000e+00 - mean_squared_error: 2.4029e-05 - val_loss: 2.3466e-05 - val_accuracy: 0.0000e+00 - val_mean_squared_error: 2.3466e-05\n",
            "Epoch 16/20\n",
            "40/40 [==============================] - 1s 14ms/step - loss: 2.3882e-05 - accuracy: 0.0000e+00 - mean_squared_error: 2.3882e-05 - val_loss: 2.3706e-05 - val_accuracy: 0.0000e+00 - val_mean_squared_error: 2.3706e-05\n",
            "Epoch 17/20\n",
            "40/40 [==============================] - 1s 13ms/step - loss: 2.3840e-05 - accuracy: 0.0000e+00 - mean_squared_error: 2.3840e-05 - val_loss: 2.3203e-05 - val_accuracy: 0.0000e+00 - val_mean_squared_error: 2.3203e-05\n",
            "Epoch 18/20\n",
            "40/40 [==============================] - 0s 12ms/step - loss: 2.3692e-05 - accuracy: 0.0000e+00 - mean_squared_error: 2.3692e-05 - val_loss: 2.2858e-05 - val_accuracy: 0.0000e+00 - val_mean_squared_error: 2.2858e-05\n",
            "Epoch 19/20\n",
            "40/40 [==============================] - 1s 13ms/step - loss: 2.3604e-05 - accuracy: 0.0000e+00 - mean_squared_error: 2.3604e-05 - val_loss: 2.2896e-05 - val_accuracy: 0.0000e+00 - val_mean_squared_error: 2.2896e-05\n",
            "Epoch 20/20\n",
            "40/40 [==============================] - 1s 13ms/step - loss: 2.3769e-05 - accuracy: 0.0000e+00 - mean_squared_error: 2.3769e-05 - val_loss: 2.3025e-05 - val_accuracy: 0.0000e+00 - val_mean_squared_error: 2.3025e-05\n",
            "32/32 [==============================] - 0s 1ms/step\n",
            "8.111308307896872 0.0047769938 2.0681531\n",
            "8.902150854450392\n",
            "Epoch 1/20\n"
          ]
        },
        {
          "name": "stderr",
          "output_type": "stream",
          "text": [
            "2023-12-06 22:47:56.456967: I tensorflow/core/common_runtime/gpu/gpu_device.cc:1886] Created device /device:GPU:0 with 20609 MB memory:  -> device: 0, name: NVIDIA L4, pci bus id: 0000:00:03.0, compute capability: 8.9\n"
          ]
        },
        {
          "name": "stdout",
          "output_type": "stream",
          "text": [
            "     35/Unknown - 1s 6ms/step - loss: 0.0028 - accuracy: 0.0000e+00 - mean_squared_error: 0.0028"
          ]
        },
        {
          "name": "stderr",
          "output_type": "stream",
          "text": [
            "2023-12-06 22:47:57.820847: I tensorflow/core/framework/local_rendezvous.cc:421] Local rendezvous recv item cancelled. Key hash: 12749084622472637211\n",
            "2023-12-06 22:47:57.820907: I tensorflow/core/framework/local_rendezvous.cc:421] Local rendezvous recv item cancelled. Key hash: 10316076964217112533\n"
          ]
        },
        {
          "name": "stdout",
          "output_type": "stream",
          "text": [
            "40/40 [==============================] - 2s 17ms/step - loss: 0.0025 - accuracy: 0.0000e+00 - mean_squared_error: 0.0025 - val_loss: 1.6331e-04 - val_accuracy: 0.0000e+00 - val_mean_squared_error: 1.6331e-04\n",
            "Epoch 2/20\n",
            "28/40 [====================>.........] - ETA: 0s - loss: 7.7770e-05 - accuracy: 0.0000e+00 - mean_squared_error: 7.7770e-05"
          ]
        },
        {
          "name": "stderr",
          "output_type": "stream",
          "text": [
            "2023-12-06 22:47:58.243322: I tensorflow/core/framework/local_rendezvous.cc:421] Local rendezvous recv item cancelled. Key hash: 12749084622472637211\n",
            "2023-12-06 22:47:58.243381: I tensorflow/core/framework/local_rendezvous.cc:421] Local rendezvous recv item cancelled. Key hash: 10316076964217112533\n"
          ]
        },
        {
          "name": "stdout",
          "output_type": "stream",
          "text": [
            "40/40 [==============================] - 1s 14ms/step - loss: 6.5466e-05 - accuracy: 0.0000e+00 - mean_squared_error: 6.5466e-05 - val_loss: 2.8986e-05 - val_accuracy: 0.0000e+00 - val_mean_squared_error: 2.8986e-05\n",
            "Epoch 3/20\n",
            "40/40 [==============================] - 0s 12ms/step - loss: 2.7407e-05 - accuracy: 0.0000e+00 - mean_squared_error: 2.7407e-05 - val_loss: 2.5957e-05 - val_accuracy: 0.0000e+00 - val_mean_squared_error: 2.5957e-05\n",
            "Epoch 4/20\n",
            "40/40 [==============================] - 1s 13ms/step - loss: 2.5433e-05 - accuracy: 0.0000e+00 - mean_squared_error: 2.5433e-05 - val_loss: 2.5034e-05 - val_accuracy: 0.0000e+00 - val_mean_squared_error: 2.5034e-05\n",
            "Epoch 5/20\n",
            "40/40 [==============================] - 1s 13ms/step - loss: 2.4905e-05 - accuracy: 0.0000e+00 - mean_squared_error: 2.4905e-05 - val_loss: 2.5176e-05 - val_accuracy: 0.0000e+00 - val_mean_squared_error: 2.5176e-05\n",
            "Epoch 6/20\n",
            "40/40 [==============================] - 1s 13ms/step - loss: 2.4632e-05 - accuracy: 0.0000e+00 - mean_squared_error: 2.4632e-05 - val_loss: 2.4911e-05 - val_accuracy: 0.0000e+00 - val_mean_squared_error: 2.4911e-05\n",
            "Epoch 7/20\n",
            "40/40 [==============================] - 0s 13ms/step - loss: 2.4325e-05 - accuracy: 0.0000e+00 - mean_squared_error: 2.4325e-05 - val_loss: 2.4479e-05 - val_accuracy: 0.0000e+00 - val_mean_squared_error: 2.4479e-05\n",
            "Epoch 8/20\n",
            "40/40 [==============================] - 1s 13ms/step - loss: 2.4115e-05 - accuracy: 0.0000e+00 - mean_squared_error: 2.4115e-05 - val_loss: 2.4155e-05 - val_accuracy: 0.0000e+00 - val_mean_squared_error: 2.4155e-05\n",
            "Epoch 9/20\n",
            "40/40 [==============================] - 1s 13ms/step - loss: 2.4003e-05 - accuracy: 0.0000e+00 - mean_squared_error: 2.4003e-05 - val_loss: 2.4008e-05 - val_accuracy: 0.0000e+00 - val_mean_squared_error: 2.4008e-05\n",
            "Epoch 10/20\n",
            "40/40 [==============================] - 1s 15ms/step - loss: 2.3927e-05 - accuracy: 0.0000e+00 - mean_squared_error: 2.3927e-05 - val_loss: 2.3855e-05 - val_accuracy: 0.0000e+00 - val_mean_squared_error: 2.3855e-05\n",
            "Epoch 11/20\n",
            "40/40 [==============================] - 1s 13ms/step - loss: 2.3851e-05 - accuracy: 0.0000e+00 - mean_squared_error: 2.3851e-05 - val_loss: 2.3631e-05 - val_accuracy: 0.0000e+00 - val_mean_squared_error: 2.3631e-05\n",
            "Epoch 12/20\n",
            "40/40 [==============================] - 1s 13ms/step - loss: 2.3725e-05 - accuracy: 0.0000e+00 - mean_squared_error: 2.3725e-05 - val_loss: 2.3406e-05 - val_accuracy: 0.0000e+00 - val_mean_squared_error: 2.3406e-05\n",
            "Epoch 13/20\n",
            "40/40 [==============================] - 1s 13ms/step - loss: 2.3688e-05 - accuracy: 0.0000e+00 - mean_squared_error: 2.3688e-05 - val_loss: 2.3245e-05 - val_accuracy: 0.0000e+00 - val_mean_squared_error: 2.3245e-05\n",
            "Epoch 14/20\n",
            "40/40 [==============================] - 1s 13ms/step - loss: 2.3729e-05 - accuracy: 0.0000e+00 - mean_squared_error: 2.3729e-05 - val_loss: 2.3152e-05 - val_accuracy: 0.0000e+00 - val_mean_squared_error: 2.3152e-05\n",
            "Epoch 15/20\n",
            "40/40 [==============================] - 1s 13ms/step - loss: 2.3645e-05 - accuracy: 0.0000e+00 - mean_squared_error: 2.3645e-05 - val_loss: 2.3242e-05 - val_accuracy: 0.0000e+00 - val_mean_squared_error: 2.3242e-05\n",
            "Epoch 16/20\n",
            "40/40 [==============================] - 0s 12ms/step - loss: 2.3534e-05 - accuracy: 0.0000e+00 - mean_squared_error: 2.3534e-05 - val_loss: 2.3553e-05 - val_accuracy: 0.0000e+00 - val_mean_squared_error: 2.3553e-05\n",
            "Epoch 17/20\n",
            "40/40 [==============================] - 1s 13ms/step - loss: 2.3554e-05 - accuracy: 0.0000e+00 - mean_squared_error: 2.3554e-05 - val_loss: 2.3572e-05 - val_accuracy: 0.0000e+00 - val_mean_squared_error: 2.3572e-05\n",
            "Epoch 18/20\n",
            "40/40 [==============================] - 0s 13ms/step - loss: 2.3516e-05 - accuracy: 0.0000e+00 - mean_squared_error: 2.3516e-05 - val_loss: 2.2828e-05 - val_accuracy: 0.0000e+00 - val_mean_squared_error: 2.2828e-05\n",
            "Epoch 19/20\n",
            "40/40 [==============================] - 1s 13ms/step - loss: 2.3457e-05 - accuracy: 0.0000e+00 - mean_squared_error: 2.3457e-05 - val_loss: 2.2659e-05 - val_accuracy: 0.0000e+00 - val_mean_squared_error: 2.2659e-05\n",
            "Epoch 20/20\n",
            "40/40 [==============================] - 1s 13ms/step - loss: 2.3536e-05 - accuracy: 0.0000e+00 - mean_squared_error: 2.3536e-05 - val_loss: 2.2755e-05 - val_accuracy: 0.0000e+00 - val_mean_squared_error: 2.2755e-05\n",
            "32/32 [==============================] - 0s 1ms/step\n",
            "8.902150854450392 0.004825602 2.0227911\n",
            "9.770099572992256\n",
            "Epoch 1/20\n"
          ]
        },
        {
          "name": "stderr",
          "output_type": "stream",
          "text": [
            "2023-12-06 22:48:08.693303: I tensorflow/core/common_runtime/gpu/gpu_device.cc:1886] Created device /device:GPU:0 with 20609 MB memory:  -> device: 0, name: NVIDIA L4, pci bus id: 0000:00:03.0, compute capability: 8.9\n"
          ]
        },
        {
          "name": "stdout",
          "output_type": "stream",
          "text": [
            "40/40 [==============================] - 2s 17ms/step - loss: 0.0027 - accuracy: 0.0000e+00 - mean_squared_error: 0.0027 - val_loss: 2.7484e-04 - val_accuracy: 0.0000e+00 - val_mean_squared_error: 2.7484e-04\n",
            "Epoch 2/20\n",
            "40/40 [==============================] - 1s 13ms/step - loss: 7.1634e-05 - accuracy: 0.0000e+00 - mean_squared_error: 7.1634e-05 - val_loss: 3.6578e-05 - val_accuracy: 0.0000e+00 - val_mean_squared_error: 3.6578e-05\n",
            "Epoch 3/20\n",
            "40/40 [==============================] - 0s 13ms/step - loss: 2.8712e-05 - accuracy: 0.0000e+00 - mean_squared_error: 2.8712e-05 - val_loss: 2.7387e-05 - val_accuracy: 0.0000e+00 - val_mean_squared_error: 2.7387e-05\n",
            "Epoch 4/20\n",
            "40/40 [==============================] - 1s 13ms/step - loss: 2.5817e-05 - accuracy: 0.0000e+00 - mean_squared_error: 2.5817e-05 - val_loss: 2.6860e-05 - val_accuracy: 0.0000e+00 - val_mean_squared_error: 2.6860e-05\n",
            "Epoch 5/20\n",
            "40/40 [==============================] - 1s 14ms/step - loss: 2.5417e-05 - accuracy: 0.0000e+00 - mean_squared_error: 2.5417e-05 - val_loss: 2.6605e-05 - val_accuracy: 0.0000e+00 - val_mean_squared_error: 2.6605e-05\n",
            "Epoch 6/20\n",
            "40/40 [==============================] - 1s 13ms/step - loss: 2.4980e-05 - accuracy: 0.0000e+00 - mean_squared_error: 2.4980e-05 - val_loss: 2.5589e-05 - val_accuracy: 0.0000e+00 - val_mean_squared_error: 2.5589e-05\n",
            "Epoch 7/20\n",
            "40/40 [==============================] - 1s 13ms/step - loss: 2.4615e-05 - accuracy: 0.0000e+00 - mean_squared_error: 2.4615e-05 - val_loss: 2.5169e-05 - val_accuracy: 0.0000e+00 - val_mean_squared_error: 2.5169e-05\n",
            "Epoch 8/20\n",
            "40/40 [==============================] - 1s 14ms/step - loss: 2.4452e-05 - accuracy: 0.0000e+00 - mean_squared_error: 2.4452e-05 - val_loss: 2.4872e-05 - val_accuracy: 0.0000e+00 - val_mean_squared_error: 2.4872e-05\n",
            "Epoch 9/20\n",
            "40/40 [==============================] - 1s 13ms/step - loss: 2.4293e-05 - accuracy: 0.0000e+00 - mean_squared_error: 2.4293e-05 - val_loss: 2.4796e-05 - val_accuracy: 0.0000e+00 - val_mean_squared_error: 2.4796e-05\n",
            "Epoch 10/20\n",
            "40/40 [==============================] - 0s 13ms/step - loss: 2.4239e-05 - accuracy: 0.0000e+00 - mean_squared_error: 2.4239e-05 - val_loss: 2.4685e-05 - val_accuracy: 0.0000e+00 - val_mean_squared_error: 2.4685e-05\n",
            "Epoch 11/20\n",
            "40/40 [==============================] - 1s 14ms/step - loss: 2.4188e-05 - accuracy: 0.0000e+00 - mean_squared_error: 2.4188e-05 - val_loss: 2.4570e-05 - val_accuracy: 0.0000e+00 - val_mean_squared_error: 2.4570e-05\n",
            "Epoch 12/20\n",
            "40/40 [==============================] - 1s 13ms/step - loss: 2.4104e-05 - accuracy: 0.0000e+00 - mean_squared_error: 2.4104e-05 - val_loss: 2.4514e-05 - val_accuracy: 0.0000e+00 - val_mean_squared_error: 2.4514e-05\n",
            "Epoch 13/20\n",
            "40/40 [==============================] - 1s 13ms/step - loss: 2.3986e-05 - accuracy: 0.0000e+00 - mean_squared_error: 2.3986e-05 - val_loss: 2.4407e-05 - val_accuracy: 0.0000e+00 - val_mean_squared_error: 2.4407e-05\n",
            "Epoch 14/20\n",
            "40/40 [==============================] - 1s 13ms/step - loss: 2.3997e-05 - accuracy: 0.0000e+00 - mean_squared_error: 2.3997e-05 - val_loss: 2.4273e-05 - val_accuracy: 0.0000e+00 - val_mean_squared_error: 2.4273e-05\n",
            "Epoch 15/20\n",
            "40/40 [==============================] - 1s 13ms/step - loss: 2.4036e-05 - accuracy: 0.0000e+00 - mean_squared_error: 2.4036e-05 - val_loss: 2.4340e-05 - val_accuracy: 0.0000e+00 - val_mean_squared_error: 2.4340e-05\n",
            "Epoch 16/20\n",
            "40/40 [==============================] - 0s 12ms/step - loss: 2.3959e-05 - accuracy: 0.0000e+00 - mean_squared_error: 2.3959e-05 - val_loss: 2.4199e-05 - val_accuracy: 0.0000e+00 - val_mean_squared_error: 2.4199e-05\n",
            "Epoch 17/20\n",
            "40/40 [==============================] - 0s 12ms/step - loss: 2.3946e-05 - accuracy: 0.0000e+00 - mean_squared_error: 2.3946e-05 - val_loss: 2.4202e-05 - val_accuracy: 0.0000e+00 - val_mean_squared_error: 2.4202e-05\n",
            "Epoch 18/20\n",
            "40/40 [==============================] - 1s 14ms/step - loss: 2.4047e-05 - accuracy: 0.0000e+00 - mean_squared_error: 2.4047e-05 - val_loss: 2.4196e-05 - val_accuracy: 0.0000e+00 - val_mean_squared_error: 2.4196e-05\n",
            "Epoch 19/20\n",
            "40/40 [==============================] - 1s 13ms/step - loss: 2.3996e-05 - accuracy: 0.0000e+00 - mean_squared_error: 2.3996e-05 - val_loss: 2.4019e-05 - val_accuracy: 0.0000e+00 - val_mean_squared_error: 2.4019e-05\n",
            "Epoch 20/20\n",
            "40/40 [==============================] - 1s 13ms/step - loss: 2.3894e-05 - accuracy: 0.0000e+00 - mean_squared_error: 2.3894e-05 - val_loss: 2.4401e-05 - val_accuracy: 0.0000e+00 - val_mean_squared_error: 2.4401e-05\n",
            "32/32 [==============================] - 0s 1ms/step\n",
            "9.770099572992256 0.004918286 2.0769732\n",
            "10.722672220103243\n",
            "Epoch 1/20\n"
          ]
        },
        {
          "name": "stderr",
          "output_type": "stream",
          "text": [
            "2023-12-06 22:48:20.910039: I tensorflow/core/common_runtime/gpu/gpu_device.cc:1886] Created device /device:GPU:0 with 20609 MB memory:  -> device: 0, name: NVIDIA L4, pci bus id: 0000:00:03.0, compute capability: 8.9\n"
          ]
        },
        {
          "name": "stdout",
          "output_type": "stream",
          "text": [
            "     37/Unknown - 1s 6ms/step - loss: 0.0027 - accuracy: 0.0000e+00 - mean_squared_error: 0.0027"
          ]
        },
        {
          "name": "stderr",
          "output_type": "stream",
          "text": [
            "2023-12-06 22:48:22.245902: I tensorflow/core/framework/local_rendezvous.cc:421] Local rendezvous recv item cancelled. Key hash: 12749084622472637211\n"
          ]
        },
        {
          "name": "stdout",
          "output_type": "stream",
          "text": [
            "40/40 [==============================] - 2s 17ms/step - loss: 0.0025 - accuracy: 0.0000e+00 - mean_squared_error: 0.0025 - val_loss: 2.0921e-04 - val_accuracy: 0.0000e+00 - val_mean_squared_error: 2.0921e-04\n",
            "Epoch 2/20\n",
            "22/40 [===============>..............] - ETA: 0s - loss: 9.8338e-05 - accuracy: 0.0000e+00 - mean_squared_error: 9.8338e-05"
          ]
        },
        {
          "name": "stderr",
          "output_type": "stream",
          "text": [
            "2023-12-06 22:48:22.687484: I tensorflow/core/framework/local_rendezvous.cc:421] Local rendezvous recv item cancelled. Key hash: 12749084622472637211\n",
            "2023-12-06 22:48:22.687539: I tensorflow/core/framework/local_rendezvous.cc:421] Local rendezvous recv item cancelled. Key hash: 10316076964217112533\n"
          ]
        },
        {
          "name": "stdout",
          "output_type": "stream",
          "text": [
            "40/40 [==============================] - 1s 14ms/step - loss: 7.2892e-05 - accuracy: 0.0000e+00 - mean_squared_error: 7.2892e-05 - val_loss: 3.0913e-05 - val_accuracy: 0.0000e+00 - val_mean_squared_error: 3.0913e-05\n",
            "Epoch 3/20\n",
            "40/40 [==============================] - 1s 13ms/step - loss: 2.8084e-05 - accuracy: 0.0000e+00 - mean_squared_error: 2.8084e-05 - val_loss: 2.6504e-05 - val_accuracy: 0.0000e+00 - val_mean_squared_error: 2.6504e-05\n",
            "Epoch 4/20\n",
            "40/40 [==============================] - 1s 13ms/step - loss: 2.5869e-05 - accuracy: 0.0000e+00 - mean_squared_error: 2.5869e-05 - val_loss: 2.6879e-05 - val_accuracy: 0.0000e+00 - val_mean_squared_error: 2.6879e-05\n",
            "Epoch 5/20\n",
            "40/40 [==============================] - 1s 13ms/step - loss: 2.5667e-05 - accuracy: 0.0000e+00 - mean_squared_error: 2.5667e-05 - val_loss: 2.7624e-05 - val_accuracy: 0.0000e+00 - val_mean_squared_error: 2.7624e-05\n",
            "Epoch 6/20\n",
            "40/40 [==============================] - 0s 13ms/step - loss: 2.5442e-05 - accuracy: 0.0000e+00 - mean_squared_error: 2.5442e-05 - val_loss: 2.6831e-05 - val_accuracy: 0.0000e+00 - val_mean_squared_error: 2.6831e-05\n",
            "Epoch 7/20\n",
            "40/40 [==============================] - 1s 14ms/step - loss: 2.5349e-05 - accuracy: 0.0000e+00 - mean_squared_error: 2.5349e-05 - val_loss: 2.6785e-05 - val_accuracy: 0.0000e+00 - val_mean_squared_error: 2.6785e-05\n",
            "Epoch 8/20\n",
            "40/40 [==============================] - 1s 13ms/step - loss: 2.5403e-05 - accuracy: 0.0000e+00 - mean_squared_error: 2.5403e-05 - val_loss: 2.5852e-05 - val_accuracy: 0.0000e+00 - val_mean_squared_error: 2.5852e-05\n",
            "Epoch 9/20\n",
            "40/40 [==============================] - 0s 13ms/step - loss: 2.5225e-05 - accuracy: 0.0000e+00 - mean_squared_error: 2.5225e-05 - val_loss: 2.6454e-05 - val_accuracy: 0.0000e+00 - val_mean_squared_error: 2.6454e-05\n",
            "Epoch 10/20\n",
            "40/40 [==============================] - 1s 14ms/step - loss: 2.5338e-05 - accuracy: 0.0000e+00 - mean_squared_error: 2.5338e-05 - val_loss: 2.8513e-05 - val_accuracy: 0.0000e+00 - val_mean_squared_error: 2.8513e-05\n",
            "Epoch 11/20\n",
            "40/40 [==============================] - 0s 12ms/step - loss: 2.5500e-05 - accuracy: 0.0000e+00 - mean_squared_error: 2.5500e-05 - val_loss: 3.0255e-05 - val_accuracy: 0.0000e+00 - val_mean_squared_error: 3.0255e-05\n",
            "Epoch 12/20\n",
            "40/40 [==============================] - 1s 13ms/step - loss: 2.5467e-05 - accuracy: 0.0000e+00 - mean_squared_error: 2.5467e-05 - val_loss: 3.0300e-05 - val_accuracy: 0.0000e+00 - val_mean_squared_error: 3.0300e-05\n",
            "Epoch 13/20\n",
            "40/40 [==============================] - 1s 13ms/step - loss: 2.5485e-05 - accuracy: 0.0000e+00 - mean_squared_error: 2.5485e-05 - val_loss: 3.2430e-05 - val_accuracy: 0.0000e+00 - val_mean_squared_error: 3.2430e-05\n",
            "Epoch 14/20\n",
            "40/40 [==============================] - 1s 13ms/step - loss: 2.5729e-05 - accuracy: 0.0000e+00 - mean_squared_error: 2.5729e-05 - val_loss: 3.4990e-05 - val_accuracy: 0.0000e+00 - val_mean_squared_error: 3.4990e-05\n",
            "Epoch 15/20\n",
            "40/40 [==============================] - 0s 12ms/step - loss: 2.5741e-05 - accuracy: 0.0000e+00 - mean_squared_error: 2.5741e-05 - val_loss: 3.2498e-05 - val_accuracy: 0.0000e+00 - val_mean_squared_error: 3.2498e-05\n",
            "Epoch 16/20\n",
            "40/40 [==============================] - 1s 13ms/step - loss: 2.5357e-05 - accuracy: 0.0000e+00 - mean_squared_error: 2.5357e-05 - val_loss: 3.1880e-05 - val_accuracy: 0.0000e+00 - val_mean_squared_error: 3.1880e-05\n",
            "Epoch 17/20\n",
            "40/40 [==============================] - 1s 13ms/step - loss: 2.5303e-05 - accuracy: 0.0000e+00 - mean_squared_error: 2.5303e-05 - val_loss: 3.2163e-05 - val_accuracy: 0.0000e+00 - val_mean_squared_error: 3.2163e-05\n",
            "Epoch 18/20\n",
            "40/40 [==============================] - 1s 13ms/step - loss: 2.5538e-05 - accuracy: 0.0000e+00 - mean_squared_error: 2.5538e-05 - val_loss: 3.0634e-05 - val_accuracy: 0.0000e+00 - val_mean_squared_error: 3.0634e-05\n",
            "Epoch 19/20\n",
            "40/40 [==============================] - 1s 13ms/step - loss: 2.5638e-05 - accuracy: 0.0000e+00 - mean_squared_error: 2.5638e-05 - val_loss: 3.0012e-05 - val_accuracy: 0.0000e+00 - val_mean_squared_error: 3.0012e-05\n",
            "Epoch 20/20\n",
            "40/40 [==============================] - 0s 12ms/step - loss: 2.5466e-05 - accuracy: 0.0000e+00 - mean_squared_error: 2.5466e-05 - val_loss: 3.3859e-05 - val_accuracy: 0.0000e+00 - val_mean_squared_error: 3.3859e-05\n",
            "32/32 [==============================] - 0s 1ms/step\n",
            "10.722672220103243 0.00590167 2.0938346\n",
            "11.768119524349991\n",
            "Epoch 1/20\n"
          ]
        },
        {
          "name": "stderr",
          "output_type": "stream",
          "text": [
            "2023-12-06 22:48:33.093730: I tensorflow/core/common_runtime/gpu/gpu_device.cc:1886] Created device /device:GPU:0 with 20609 MB memory:  -> device: 0, name: NVIDIA L4, pci bus id: 0000:00:03.0, compute capability: 8.9\n"
          ]
        },
        {
          "name": "stdout",
          "output_type": "stream",
          "text": [
            "     31/Unknown - 1s 5ms/step - loss: 0.0031 - accuracy: 0.0000e+00 - mean_squared_error: 0.0031"
          ]
        },
        {
          "name": "stderr",
          "output_type": "stream",
          "text": [
            "2023-12-06 22:48:34.390775: I tensorflow/core/framework/local_rendezvous.cc:421] Local rendezvous recv item cancelled. Key hash: 12749084622472637211\n",
            "2023-12-06 22:48:34.390840: I tensorflow/core/framework/local_rendezvous.cc:421] Local rendezvous recv item cancelled. Key hash: 10316076964217112533\n"
          ]
        },
        {
          "name": "stdout",
          "output_type": "stream",
          "text": [
            "40/40 [==============================] - 2s 16ms/step - loss: 0.0025 - accuracy: 0.0000e+00 - mean_squared_error: 0.0025 - val_loss: 2.1496e-04 - val_accuracy: 0.0000e+00 - val_mean_squared_error: 2.1496e-04\n",
            "Epoch 2/20\n",
            "31/40 [======================>.......] - ETA: 0s - loss: 7.5633e-05 - accuracy: 0.0000e+00 - mean_squared_error: 7.5633e-05"
          ]
        },
        {
          "name": "stderr",
          "output_type": "stream",
          "text": [
            "2023-12-06 22:48:34.820442: I tensorflow/core/framework/local_rendezvous.cc:421] Local rendezvous recv item cancelled. Key hash: 12749084622472637211\n",
            "2023-12-06 22:48:34.820494: I tensorflow/core/framework/local_rendezvous.cc:421] Local rendezvous recv item cancelled. Key hash: 10316076964217112533\n"
          ]
        },
        {
          "name": "stdout",
          "output_type": "stream",
          "text": [
            "40/40 [==============================] - 1s 13ms/step - loss: 6.6406e-05 - accuracy: 0.0000e+00 - mean_squared_error: 6.6406e-05 - val_loss: 2.7142e-05 - val_accuracy: 0.0000e+00 - val_mean_squared_error: 2.7142e-05\n",
            "Epoch 3/20\n",
            "40/40 [==============================] - 1s 13ms/step - loss: 2.6932e-05 - accuracy: 0.0000e+00 - mean_squared_error: 2.6932e-05 - val_loss: 2.5784e-05 - val_accuracy: 0.0000e+00 - val_mean_squared_error: 2.5784e-05\n",
            "Epoch 4/20\n",
            "40/40 [==============================] - 1s 13ms/step - loss: 2.5320e-05 - accuracy: 0.0000e+00 - mean_squared_error: 2.5320e-05 - val_loss: 2.5107e-05 - val_accuracy: 0.0000e+00 - val_mean_squared_error: 2.5107e-05\n",
            "Epoch 5/20\n",
            "40/40 [==============================] - 1s 13ms/step - loss: 2.5009e-05 - accuracy: 0.0000e+00 - mean_squared_error: 2.5009e-05 - val_loss: 2.4858e-05 - val_accuracy: 0.0000e+00 - val_mean_squared_error: 2.4858e-05\n",
            "Epoch 6/20\n",
            "40/40 [==============================] - 0s 13ms/step - loss: 2.4883e-05 - accuracy: 0.0000e+00 - mean_squared_error: 2.4883e-05 - val_loss: 2.4791e-05 - val_accuracy: 0.0000e+00 - val_mean_squared_error: 2.4791e-05\n",
            "Epoch 7/20\n",
            "40/40 [==============================] - 1s 13ms/step - loss: 2.4844e-05 - accuracy: 0.0000e+00 - mean_squared_error: 2.4844e-05 - val_loss: 2.5095e-05 - val_accuracy: 0.0000e+00 - val_mean_squared_error: 2.5095e-05\n",
            "Epoch 8/20\n",
            "40/40 [==============================] - 1s 13ms/step - loss: 2.4850e-05 - accuracy: 0.0000e+00 - mean_squared_error: 2.4850e-05 - val_loss: 2.5064e-05 - val_accuracy: 0.0000e+00 - val_mean_squared_error: 2.5064e-05\n",
            "Epoch 9/20\n",
            "40/40 [==============================] - 1s 13ms/step - loss: 2.4828e-05 - accuracy: 0.0000e+00 - mean_squared_error: 2.4828e-05 - val_loss: 2.5347e-05 - val_accuracy: 0.0000e+00 - val_mean_squared_error: 2.5347e-05\n",
            "Epoch 10/20\n",
            "40/40 [==============================] - 1s 13ms/step - loss: 2.4845e-05 - accuracy: 0.0000e+00 - mean_squared_error: 2.4845e-05 - val_loss: 2.5881e-05 - val_accuracy: 0.0000e+00 - val_mean_squared_error: 2.5881e-05\n",
            "Epoch 11/20\n",
            "40/40 [==============================] - 1s 13ms/step - loss: 2.4790e-05 - accuracy: 0.0000e+00 - mean_squared_error: 2.4790e-05 - val_loss: 2.5429e-05 - val_accuracy: 0.0000e+00 - val_mean_squared_error: 2.5429e-05\n",
            "Epoch 12/20\n",
            "40/40 [==============================] - 1s 13ms/step - loss: 2.4618e-05 - accuracy: 0.0000e+00 - mean_squared_error: 2.4618e-05 - val_loss: 2.5211e-05 - val_accuracy: 0.0000e+00 - val_mean_squared_error: 2.5211e-05\n",
            "Epoch 13/20\n",
            "40/40 [==============================] - 1s 13ms/step - loss: 2.4559e-05 - accuracy: 0.0000e+00 - mean_squared_error: 2.4559e-05 - val_loss: 2.5267e-05 - val_accuracy: 0.0000e+00 - val_mean_squared_error: 2.5267e-05\n",
            "Epoch 14/20\n",
            "40/40 [==============================] - 1s 13ms/step - loss: 2.4582e-05 - accuracy: 0.0000e+00 - mean_squared_error: 2.4582e-05 - val_loss: 2.4934e-05 - val_accuracy: 0.0000e+00 - val_mean_squared_error: 2.4934e-05\n",
            "Epoch 15/20\n",
            "40/40 [==============================] - 1s 13ms/step - loss: 2.4490e-05 - accuracy: 0.0000e+00 - mean_squared_error: 2.4490e-05 - val_loss: 2.4665e-05 - val_accuracy: 0.0000e+00 - val_mean_squared_error: 2.4665e-05\n",
            "Epoch 16/20\n",
            "40/40 [==============================] - 1s 13ms/step - loss: 2.4353e-05 - accuracy: 0.0000e+00 - mean_squared_error: 2.4353e-05 - val_loss: 2.4804e-05 - val_accuracy: 0.0000e+00 - val_mean_squared_error: 2.4804e-05\n",
            "Epoch 17/20\n",
            "40/40 [==============================] - 1s 13ms/step - loss: 2.4314e-05 - accuracy: 0.0000e+00 - mean_squared_error: 2.4314e-05 - val_loss: 2.4985e-05 - val_accuracy: 0.0000e+00 - val_mean_squared_error: 2.4985e-05\n",
            "Epoch 18/20\n",
            "40/40 [==============================] - 1s 13ms/step - loss: 2.4276e-05 - accuracy: 0.0000e+00 - mean_squared_error: 2.4276e-05 - val_loss: 2.5183e-05 - val_accuracy: 0.0000e+00 - val_mean_squared_error: 2.5183e-05\n",
            "Epoch 19/20\n",
            "40/40 [==============================] - 1s 13ms/step - loss: 2.4228e-05 - accuracy: 0.0000e+00 - mean_squared_error: 2.4228e-05 - val_loss: 2.5077e-05 - val_accuracy: 0.0000e+00 - val_mean_squared_error: 2.5077e-05\n",
            "Epoch 20/20\n",
            "40/40 [==============================] - 1s 13ms/step - loss: 2.4202e-05 - accuracy: 0.0000e+00 - mean_squared_error: 2.4202e-05 - val_loss: 2.4988e-05 - val_accuracy: 0.0000e+00 - val_mean_squared_error: 2.4988e-05\n",
            "32/32 [==============================] - 0s 1ms/step\n",
            "11.768119524349991 0.004951363 2.0459256\n",
            "12.91549665014884\n",
            "Epoch 1/20\n"
          ]
        },
        {
          "name": "stderr",
          "output_type": "stream",
          "text": [
            "2023-12-06 22:48:45.292746: I tensorflow/core/common_runtime/gpu/gpu_device.cc:1886] Created device /device:GPU:0 with 20609 MB memory:  -> device: 0, name: NVIDIA L4, pci bus id: 0000:00:03.0, compute capability: 8.9\n"
          ]
        },
        {
          "name": "stdout",
          "output_type": "stream",
          "text": [
            "     31/Unknown - 1s 5ms/step - loss: 0.0029 - accuracy: 0.0000e+00 - mean_squared_error: 0.0029"
          ]
        },
        {
          "name": "stderr",
          "output_type": "stream",
          "text": [
            "2023-12-06 22:48:46.605986: I tensorflow/core/framework/local_rendezvous.cc:421] Local rendezvous recv item cancelled. Key hash: 12749084622472637211\n",
            "2023-12-06 22:48:46.606052: I tensorflow/core/framework/local_rendezvous.cc:421] Local rendezvous recv item cancelled. Key hash: 10316076964217112533\n"
          ]
        },
        {
          "name": "stdout",
          "output_type": "stream",
          "text": [
            "40/40 [==============================] - 2s 17ms/step - loss: 0.0024 - accuracy: 0.0000e+00 - mean_squared_error: 0.0024 - val_loss: 2.3364e-04 - val_accuracy: 0.0000e+00 - val_mean_squared_error: 2.3364e-04\n",
            "Epoch 2/20\n",
            "30/40 [=====================>........] - ETA: 0s - loss: 7.8676e-05 - accuracy: 0.0000e+00 - mean_squared_error: 7.8676e-05"
          ]
        },
        {
          "name": "stderr",
          "output_type": "stream",
          "text": [
            "2023-12-06 22:48:47.031719: I tensorflow/core/framework/local_rendezvous.cc:421] Local rendezvous recv item cancelled. Key hash: 12749084622472637211\n",
            "2023-12-06 22:48:47.031784: I tensorflow/core/framework/local_rendezvous.cc:421] Local rendezvous recv item cancelled. Key hash: 10316076964217112533\n"
          ]
        },
        {
          "name": "stdout",
          "output_type": "stream",
          "text": [
            "40/40 [==============================] - 1s 13ms/step - loss: 6.8622e-05 - accuracy: 0.0000e+00 - mean_squared_error: 6.8622e-05 - val_loss: 2.8123e-05 - val_accuracy: 0.0000e+00 - val_mean_squared_error: 2.8123e-05\n",
            "Epoch 3/20\n",
            "40/40 [==============================] - 0s 12ms/step - loss: 2.7622e-05 - accuracy: 0.0000e+00 - mean_squared_error: 2.7622e-05 - val_loss: 2.6907e-05 - val_accuracy: 0.0000e+00 - val_mean_squared_error: 2.6907e-05\n",
            "Epoch 4/20\n",
            "40/40 [==============================] - 1s 13ms/step - loss: 2.6003e-05 - accuracy: 0.0000e+00 - mean_squared_error: 2.6003e-05 - val_loss: 2.6085e-05 - val_accuracy: 0.0000e+00 - val_mean_squared_error: 2.6085e-05\n",
            "Epoch 5/20\n",
            "40/40 [==============================] - 0s 12ms/step - loss: 2.5537e-05 - accuracy: 0.0000e+00 - mean_squared_error: 2.5537e-05 - val_loss: 2.5531e-05 - val_accuracy: 0.0000e+00 - val_mean_squared_error: 2.5531e-05\n",
            "Epoch 6/20\n",
            "40/40 [==============================] - 1s 13ms/step - loss: 2.5186e-05 - accuracy: 0.0000e+00 - mean_squared_error: 2.5186e-05 - val_loss: 2.5317e-05 - val_accuracy: 0.0000e+00 - val_mean_squared_error: 2.5317e-05\n",
            "Epoch 7/20\n",
            "40/40 [==============================] - 1s 13ms/step - loss: 2.4951e-05 - accuracy: 0.0000e+00 - mean_squared_error: 2.4951e-05 - val_loss: 2.5239e-05 - val_accuracy: 0.0000e+00 - val_mean_squared_error: 2.5239e-05\n",
            "Epoch 8/20\n",
            "40/40 [==============================] - 1s 13ms/step - loss: 2.4789e-05 - accuracy: 0.0000e+00 - mean_squared_error: 2.4789e-05 - val_loss: 2.5169e-05 - val_accuracy: 0.0000e+00 - val_mean_squared_error: 2.5169e-05\n",
            "Epoch 9/20\n",
            "40/40 [==============================] - 1s 13ms/step - loss: 2.4687e-05 - accuracy: 0.0000e+00 - mean_squared_error: 2.4687e-05 - val_loss: 2.5090e-05 - val_accuracy: 0.0000e+00 - val_mean_squared_error: 2.5090e-05\n",
            "Epoch 10/20\n",
            "40/40 [==============================] - 1s 15ms/step - loss: 2.4629e-05 - accuracy: 0.0000e+00 - mean_squared_error: 2.4629e-05 - val_loss: 2.4963e-05 - val_accuracy: 0.0000e+00 - val_mean_squared_error: 2.4963e-05\n",
            "Epoch 11/20\n",
            "40/40 [==============================] - 0s 13ms/step - loss: 2.4619e-05 - accuracy: 0.0000e+00 - mean_squared_error: 2.4619e-05 - val_loss: 2.4765e-05 - val_accuracy: 0.0000e+00 - val_mean_squared_error: 2.4765e-05\n",
            "Epoch 12/20\n",
            "40/40 [==============================] - 1s 13ms/step - loss: 2.4663e-05 - accuracy: 0.0000e+00 - mean_squared_error: 2.4663e-05 - val_loss: 2.4793e-05 - val_accuracy: 0.0000e+00 - val_mean_squared_error: 2.4793e-05\n",
            "Epoch 13/20\n",
            "40/40 [==============================] - 1s 13ms/step - loss: 2.4839e-05 - accuracy: 0.0000e+00 - mean_squared_error: 2.4839e-05 - val_loss: 2.4664e-05 - val_accuracy: 0.0000e+00 - val_mean_squared_error: 2.4664e-05\n",
            "Epoch 14/20\n",
            "40/40 [==============================] - 1s 13ms/step - loss: 2.5154e-05 - accuracy: 0.0000e+00 - mean_squared_error: 2.5154e-05 - val_loss: 2.5079e-05 - val_accuracy: 0.0000e+00 - val_mean_squared_error: 2.5079e-05\n",
            "Epoch 15/20\n",
            "40/40 [==============================] - 1s 13ms/step - loss: 2.5030e-05 - accuracy: 0.0000e+00 - mean_squared_error: 2.5030e-05 - val_loss: 2.6598e-05 - val_accuracy: 0.0000e+00 - val_mean_squared_error: 2.6598e-05\n",
            "Epoch 16/20\n",
            "40/40 [==============================] - 1s 13ms/step - loss: 2.4742e-05 - accuracy: 0.0000e+00 - mean_squared_error: 2.4742e-05 - val_loss: 2.6528e-05 - val_accuracy: 0.0000e+00 - val_mean_squared_error: 2.6528e-05\n",
            "Epoch 17/20\n",
            "40/40 [==============================] - 1s 13ms/step - loss: 2.4748e-05 - accuracy: 0.0000e+00 - mean_squared_error: 2.4748e-05 - val_loss: 2.6454e-05 - val_accuracy: 0.0000e+00 - val_mean_squared_error: 2.6454e-05\n",
            "Epoch 18/20\n",
            "40/40 [==============================] - 1s 13ms/step - loss: 2.4761e-05 - accuracy: 0.0000e+00 - mean_squared_error: 2.4761e-05 - val_loss: 2.5142e-05 - val_accuracy: 0.0000e+00 - val_mean_squared_error: 2.5142e-05\n",
            "Epoch 19/20\n",
            "40/40 [==============================] - 1s 13ms/step - loss: 2.4645e-05 - accuracy: 0.0000e+00 - mean_squared_error: 2.4645e-05 - val_loss: 2.4371e-05 - val_accuracy: 0.0000e+00 - val_mean_squared_error: 2.4371e-05\n",
            "Epoch 20/20\n",
            "40/40 [==============================] - 1s 13ms/step - loss: 2.4683e-05 - accuracy: 0.0000e+00 - mean_squared_error: 2.4683e-05 - val_loss: 2.4301e-05 - val_accuracy: 0.0000e+00 - val_mean_squared_error: 2.4301e-05\n",
            "32/32 [==============================] - 0s 1ms/step\n",
            "12.91549665014884 0.004921709 2.0479438\n",
            "14.174741629268063\n",
            "Epoch 1/20\n"
          ]
        },
        {
          "name": "stderr",
          "output_type": "stream",
          "text": [
            "2023-12-06 22:48:57.409936: I tensorflow/core/common_runtime/gpu/gpu_device.cc:1886] Created device /device:GPU:0 with 20609 MB memory:  -> device: 0, name: NVIDIA L4, pci bus id: 0000:00:03.0, compute capability: 8.9\n"
          ]
        },
        {
          "name": "stdout",
          "output_type": "stream",
          "text": [
            "     35/Unknown - 1s 6ms/step - loss: 0.0030 - accuracy: 0.0000e+00 - mean_squared_error: 0.0030"
          ]
        },
        {
          "name": "stderr",
          "output_type": "stream",
          "text": [
            "2023-12-06 22:48:58.757602: I tensorflow/core/framework/local_rendezvous.cc:421] Local rendezvous recv item cancelled. Key hash: 12749084622472637211\n"
          ]
        },
        {
          "name": "stdout",
          "output_type": "stream",
          "text": [
            "40/40 [==============================] - 2s 18ms/step - loss: 0.0027 - accuracy: 0.0000e+00 - mean_squared_error: 0.0027 - val_loss: 2.8128e-04 - val_accuracy: 0.0000e+00 - val_mean_squared_error: 2.8128e-04\n",
            "Epoch 2/20\n",
            "31/40 [======================>.......] - ETA: 0s - loss: 8.4714e-05 - accuracy: 0.0000e+00 - mean_squared_error: 8.4714e-05"
          ]
        },
        {
          "name": "stderr",
          "output_type": "stream",
          "text": [
            "2023-12-06 22:48:59.185078: I tensorflow/core/framework/local_rendezvous.cc:421] Local rendezvous recv item cancelled. Key hash: 12749084622472637211\n",
            "2023-12-06 22:48:59.185133: I tensorflow/core/framework/local_rendezvous.cc:421] Local rendezvous recv item cancelled. Key hash: 10316076964217112533\n"
          ]
        },
        {
          "name": "stdout",
          "output_type": "stream",
          "text": [
            "40/40 [==============================] - 1s 13ms/step - loss: 7.4239e-05 - accuracy: 0.0000e+00 - mean_squared_error: 7.4239e-05 - val_loss: 3.3055e-05 - val_accuracy: 0.0000e+00 - val_mean_squared_error: 3.3055e-05\n",
            "Epoch 3/20\n",
            "40/40 [==============================] - 1s 13ms/step - loss: 2.9639e-05 - accuracy: 0.0000e+00 - mean_squared_error: 2.9639e-05 - val_loss: 2.7829e-05 - val_accuracy: 0.0000e+00 - val_mean_squared_error: 2.7829e-05\n",
            "Epoch 4/20\n",
            "40/40 [==============================] - 1s 13ms/step - loss: 2.7484e-05 - accuracy: 0.0000e+00 - mean_squared_error: 2.7484e-05 - val_loss: 2.6746e-05 - val_accuracy: 0.0000e+00 - val_mean_squared_error: 2.6746e-05\n",
            "Epoch 5/20\n",
            "40/40 [==============================] - 1s 13ms/step - loss: 2.6631e-05 - accuracy: 0.0000e+00 - mean_squared_error: 2.6631e-05 - val_loss: 2.6490e-05 - val_accuracy: 0.0000e+00 - val_mean_squared_error: 2.6490e-05\n",
            "Epoch 6/20\n",
            "40/40 [==============================] - 1s 13ms/step - loss: 2.6061e-05 - accuracy: 0.0000e+00 - mean_squared_error: 2.6061e-05 - val_loss: 2.5907e-05 - val_accuracy: 0.0000e+00 - val_mean_squared_error: 2.5907e-05\n",
            "Epoch 7/20\n",
            "40/40 [==============================] - 1s 13ms/step - loss: 2.5641e-05 - accuracy: 0.0000e+00 - mean_squared_error: 2.5641e-05 - val_loss: 2.5352e-05 - val_accuracy: 0.0000e+00 - val_mean_squared_error: 2.5352e-05\n",
            "Epoch 8/20\n",
            "40/40 [==============================] - 1s 13ms/step - loss: 2.5391e-05 - accuracy: 0.0000e+00 - mean_squared_error: 2.5391e-05 - val_loss: 2.4863e-05 - val_accuracy: 0.0000e+00 - val_mean_squared_error: 2.4863e-05\n",
            "Epoch 9/20\n",
            "40/40 [==============================] - 1s 13ms/step - loss: 2.5234e-05 - accuracy: 0.0000e+00 - mean_squared_error: 2.5234e-05 - val_loss: 2.4787e-05 - val_accuracy: 0.0000e+00 - val_mean_squared_error: 2.4787e-05\n",
            "Epoch 10/20\n",
            "40/40 [==============================] - 1s 13ms/step - loss: 2.5164e-05 - accuracy: 0.0000e+00 - mean_squared_error: 2.5164e-05 - val_loss: 2.5084e-05 - val_accuracy: 0.0000e+00 - val_mean_squared_error: 2.5084e-05\n",
            "Epoch 11/20\n",
            "40/40 [==============================] - 1s 13ms/step - loss: 2.5358e-05 - accuracy: 0.0000e+00 - mean_squared_error: 2.5358e-05 - val_loss: 2.4784e-05 - val_accuracy: 0.0000e+00 - val_mean_squared_error: 2.4784e-05\n",
            "Epoch 12/20\n",
            "40/40 [==============================] - 1s 13ms/step - loss: 2.5473e-05 - accuracy: 0.0000e+00 - mean_squared_error: 2.5473e-05 - val_loss: 2.4191e-05 - val_accuracy: 0.0000e+00 - val_mean_squared_error: 2.4191e-05\n",
            "Epoch 13/20\n",
            "40/40 [==============================] - 1s 13ms/step - loss: 2.4960e-05 - accuracy: 0.0000e+00 - mean_squared_error: 2.4960e-05 - val_loss: 2.4182e-05 - val_accuracy: 0.0000e+00 - val_mean_squared_error: 2.4182e-05\n",
            "Epoch 14/20\n",
            "40/40 [==============================] - 1s 13ms/step - loss: 2.4657e-05 - accuracy: 0.0000e+00 - mean_squared_error: 2.4657e-05 - val_loss: 2.3889e-05 - val_accuracy: 0.0000e+00 - val_mean_squared_error: 2.3889e-05\n",
            "Epoch 15/20\n",
            "40/40 [==============================] - 0s 12ms/step - loss: 2.4629e-05 - accuracy: 0.0000e+00 - mean_squared_error: 2.4629e-05 - val_loss: 2.3953e-05 - val_accuracy: 0.0000e+00 - val_mean_squared_error: 2.3953e-05\n",
            "Epoch 16/20\n",
            "40/40 [==============================] - 1s 13ms/step - loss: 2.4632e-05 - accuracy: 0.0000e+00 - mean_squared_error: 2.4632e-05 - val_loss: 2.4049e-05 - val_accuracy: 0.0000e+00 - val_mean_squared_error: 2.4049e-05\n",
            "Epoch 17/20\n",
            "40/40 [==============================] - 1s 13ms/step - loss: 2.4513e-05 - accuracy: 0.0000e+00 - mean_squared_error: 2.4513e-05 - val_loss: 2.3714e-05 - val_accuracy: 0.0000e+00 - val_mean_squared_error: 2.3714e-05\n",
            "Epoch 18/20\n",
            "40/40 [==============================] - 1s 13ms/step - loss: 2.4354e-05 - accuracy: 0.0000e+00 - mean_squared_error: 2.4354e-05 - val_loss: 2.3744e-05 - val_accuracy: 0.0000e+00 - val_mean_squared_error: 2.3744e-05\n",
            "Epoch 19/20\n",
            "40/40 [==============================] - 1s 13ms/step - loss: 2.4355e-05 - accuracy: 0.0000e+00 - mean_squared_error: 2.4355e-05 - val_loss: 2.4052e-05 - val_accuracy: 0.0000e+00 - val_mean_squared_error: 2.4052e-05\n",
            "Epoch 20/20\n",
            "40/40 [==============================] - 1s 13ms/step - loss: 2.4369e-05 - accuracy: 0.0000e+00 - mean_squared_error: 2.4369e-05 - val_loss: 2.4292e-05 - val_accuracy: 0.0000e+00 - val_mean_squared_error: 2.4292e-05\n",
            "32/32 [==============================] - 0s 1ms/step\n",
            "14.174741629268063 0.00486547 2.040343\n",
            "15.556761439304722\n",
            "Epoch 1/20\n"
          ]
        },
        {
          "name": "stderr",
          "output_type": "stream",
          "text": [
            "2023-12-06 22:49:09.513068: I tensorflow/core/common_runtime/gpu/gpu_device.cc:1886] Created device /device:GPU:0 with 20609 MB memory:  -> device: 0, name: NVIDIA L4, pci bus id: 0000:00:03.0, compute capability: 8.9\n"
          ]
        },
        {
          "name": "stdout",
          "output_type": "stream",
          "text": [
            "40/40 [==============================] - 2s 17ms/step - loss: 0.0028 - accuracy: 0.0000e+00 - mean_squared_error: 0.0028 - val_loss: 2.3286e-04 - val_accuracy: 0.0000e+00 - val_mean_squared_error: 2.3286e-04\n",
            "Epoch 2/20\n",
            "31/40 [======================>.......] - ETA: 0s - loss: 1.0133e-04 - accuracy: 0.0000e+00 - mean_squared_error: 1.0133e-04"
          ]
        },
        {
          "name": "stderr",
          "output_type": "stream",
          "text": [
            "2023-12-06 22:49:11.260919: I tensorflow/core/framework/local_rendezvous.cc:421] Local rendezvous recv item cancelled. Key hash: 12749084622472637211\n",
            "2023-12-06 22:49:11.260973: I tensorflow/core/framework/local_rendezvous.cc:421] Local rendezvous recv item cancelled. Key hash: 10316076964217112533\n"
          ]
        },
        {
          "name": "stdout",
          "output_type": "stream",
          "text": [
            "40/40 [==============================] - 1s 13ms/step - loss: 8.8362e-05 - accuracy: 0.0000e+00 - mean_squared_error: 8.8362e-05 - val_loss: 3.2494e-05 - val_accuracy: 0.0000e+00 - val_mean_squared_error: 3.2494e-05\n",
            "Epoch 3/20\n",
            "40/40 [==============================] - 1s 13ms/step - loss: 3.1944e-05 - accuracy: 0.0000e+00 - mean_squared_error: 3.1944e-05 - val_loss: 2.9921e-05 - val_accuracy: 0.0000e+00 - val_mean_squared_error: 2.9921e-05\n",
            "Epoch 4/20\n",
            "40/40 [==============================] - 1s 14ms/step - loss: 2.9244e-05 - accuracy: 0.0000e+00 - mean_squared_error: 2.9244e-05 - val_loss: 2.8399e-05 - val_accuracy: 0.0000e+00 - val_mean_squared_error: 2.8399e-05\n",
            "Epoch 5/20\n",
            "40/40 [==============================] - 1s 13ms/step - loss: 2.8124e-05 - accuracy: 0.0000e+00 - mean_squared_error: 2.8124e-05 - val_loss: 2.8248e-05 - val_accuracy: 0.0000e+00 - val_mean_squared_error: 2.8248e-05\n",
            "Epoch 6/20\n",
            "40/40 [==============================] - 1s 13ms/step - loss: 2.7269e-05 - accuracy: 0.0000e+00 - mean_squared_error: 2.7269e-05 - val_loss: 2.8696e-05 - val_accuracy: 0.0000e+00 - val_mean_squared_error: 2.8696e-05\n",
            "Epoch 7/20\n",
            "40/40 [==============================] - 1s 13ms/step - loss: 2.6338e-05 - accuracy: 0.0000e+00 - mean_squared_error: 2.6338e-05 - val_loss: 2.7577e-05 - val_accuracy: 0.0000e+00 - val_mean_squared_error: 2.7577e-05\n",
            "Epoch 8/20\n",
            "40/40 [==============================] - 1s 13ms/step - loss: 2.5791e-05 - accuracy: 0.0000e+00 - mean_squared_error: 2.5791e-05 - val_loss: 2.7515e-05 - val_accuracy: 0.0000e+00 - val_mean_squared_error: 2.7515e-05\n",
            "Epoch 9/20\n",
            "40/40 [==============================] - 1s 13ms/step - loss: 2.5417e-05 - accuracy: 0.0000e+00 - mean_squared_error: 2.5417e-05 - val_loss: 2.6421e-05 - val_accuracy: 0.0000e+00 - val_mean_squared_error: 2.6421e-05\n",
            "Epoch 10/20\n",
            "40/40 [==============================] - 1s 13ms/step - loss: 2.5006e-05 - accuracy: 0.0000e+00 - mean_squared_error: 2.5006e-05 - val_loss: 2.5596e-05 - val_accuracy: 0.0000e+00 - val_mean_squared_error: 2.5596e-05\n",
            "Epoch 11/20\n",
            "40/40 [==============================] - 1s 14ms/step - loss: 2.4735e-05 - accuracy: 0.0000e+00 - mean_squared_error: 2.4735e-05 - val_loss: 2.5252e-05 - val_accuracy: 0.0000e+00 - val_mean_squared_error: 2.5252e-05\n",
            "Epoch 12/20\n",
            "40/40 [==============================] - 1s 13ms/step - loss: 2.4535e-05 - accuracy: 0.0000e+00 - mean_squared_error: 2.4535e-05 - val_loss: 2.5058e-05 - val_accuracy: 0.0000e+00 - val_mean_squared_error: 2.5058e-05\n",
            "Epoch 13/20\n",
            "40/40 [==============================] - 0s 12ms/step - loss: 2.4381e-05 - accuracy: 0.0000e+00 - mean_squared_error: 2.4381e-05 - val_loss: 2.5031e-05 - val_accuracy: 0.0000e+00 - val_mean_squared_error: 2.5031e-05\n",
            "Epoch 14/20\n",
            "40/40 [==============================] - 1s 13ms/step - loss: 2.4277e-05 - accuracy: 0.0000e+00 - mean_squared_error: 2.4277e-05 - val_loss: 2.5119e-05 - val_accuracy: 0.0000e+00 - val_mean_squared_error: 2.5119e-05\n",
            "Epoch 15/20\n",
            "40/40 [==============================] - 0s 12ms/step - loss: 2.4221e-05 - accuracy: 0.0000e+00 - mean_squared_error: 2.4221e-05 - val_loss: 2.5495e-05 - val_accuracy: 0.0000e+00 - val_mean_squared_error: 2.5495e-05\n",
            "Epoch 16/20\n",
            "40/40 [==============================] - 1s 13ms/step - loss: 2.4186e-05 - accuracy: 0.0000e+00 - mean_squared_error: 2.4186e-05 - val_loss: 2.5867e-05 - val_accuracy: 0.0000e+00 - val_mean_squared_error: 2.5867e-05\n",
            "Epoch 17/20\n",
            "40/40 [==============================] - 1s 13ms/step - loss: 2.4083e-05 - accuracy: 0.0000e+00 - mean_squared_error: 2.4083e-05 - val_loss: 2.5612e-05 - val_accuracy: 0.0000e+00 - val_mean_squared_error: 2.5612e-05\n",
            "Epoch 18/20\n",
            "40/40 [==============================] - 1s 13ms/step - loss: 2.3959e-05 - accuracy: 0.0000e+00 - mean_squared_error: 2.3959e-05 - val_loss: 2.5289e-05 - val_accuracy: 0.0000e+00 - val_mean_squared_error: 2.5289e-05\n",
            "Epoch 19/20\n",
            "40/40 [==============================] - 1s 13ms/step - loss: 2.3887e-05 - accuracy: 0.0000e+00 - mean_squared_error: 2.3887e-05 - val_loss: 2.5116e-05 - val_accuracy: 0.0000e+00 - val_mean_squared_error: 2.5116e-05\n",
            "Epoch 20/20\n",
            "40/40 [==============================] - 0s 13ms/step - loss: 2.3857e-05 - accuracy: 0.0000e+00 - mean_squared_error: 2.3857e-05 - val_loss: 2.4647e-05 - val_accuracy: 0.0000e+00 - val_mean_squared_error: 2.4647e-05\n",
            "32/32 [==============================] - 0s 1ms/step\n",
            "15.556761439304722 0.0049293204 1.9970394\n",
            "17.07352647470692\n",
            "Epoch 1/20\n"
          ]
        },
        {
          "name": "stderr",
          "output_type": "stream",
          "text": [
            "2023-12-06 22:49:21.730129: I tensorflow/core/common_runtime/gpu/gpu_device.cc:1886] Created device /device:GPU:0 with 20609 MB memory:  -> device: 0, name: NVIDIA L4, pci bus id: 0000:00:03.0, compute capability: 8.9\n"
          ]
        },
        {
          "name": "stdout",
          "output_type": "stream",
          "text": [
            "     31/Unknown - 1s 5ms/step - loss: 0.0037 - accuracy: 0.0000e+00 - mean_squared_error: 0.0037   "
          ]
        },
        {
          "name": "stderr",
          "output_type": "stream",
          "text": [
            "2023-12-06 22:49:23.048593: I tensorflow/core/framework/local_rendezvous.cc:421] Local rendezvous recv item cancelled. Key hash: 12749084622472637211\n"
          ]
        },
        {
          "name": "stdout",
          "output_type": "stream",
          "text": [
            "40/40 [==============================] - 2s 16ms/step - loss: 0.0030 - accuracy: 0.0000e+00 - mean_squared_error: 0.0030 - val_loss: 1.4039e-04 - val_accuracy: 0.0000e+00 - val_mean_squared_error: 1.4039e-04\n",
            "Epoch 2/20\n",
            "31/40 [======================>.......] - ETA: 0s - loss: 9.9216e-05 - accuracy: 0.0000e+00 - mean_squared_error: 9.9216e-05"
          ]
        },
        {
          "name": "stderr",
          "output_type": "stream",
          "text": [
            "2023-12-06 22:49:23.468904: I tensorflow/core/framework/local_rendezvous.cc:421] Local rendezvous recv item cancelled. Key hash: 10316076964217112533\n"
          ]
        },
        {
          "name": "stdout",
          "output_type": "stream",
          "text": [
            "40/40 [==============================] - 0s 12ms/step - loss: 8.6611e-05 - accuracy: 0.0000e+00 - mean_squared_error: 8.6611e-05 - val_loss: 3.6920e-05 - val_accuracy: 0.0000e+00 - val_mean_squared_error: 3.6920e-05\n",
            "Epoch 3/20\n",
            "40/40 [==============================] - 1s 13ms/step - loss: 3.2324e-05 - accuracy: 0.0000e+00 - mean_squared_error: 3.2324e-05 - val_loss: 3.0399e-05 - val_accuracy: 0.0000e+00 - val_mean_squared_error: 3.0399e-05\n",
            "Epoch 4/20\n",
            "40/40 [==============================] - 1s 13ms/step - loss: 2.9770e-05 - accuracy: 0.0000e+00 - mean_squared_error: 2.9770e-05 - val_loss: 2.8486e-05 - val_accuracy: 0.0000e+00 - val_mean_squared_error: 2.8486e-05\n",
            "Epoch 5/20\n",
            "40/40 [==============================] - 1s 13ms/step - loss: 2.8573e-05 - accuracy: 0.0000e+00 - mean_squared_error: 2.8573e-05 - val_loss: 2.8181e-05 - val_accuracy: 0.0000e+00 - val_mean_squared_error: 2.8181e-05\n",
            "Epoch 6/20\n",
            "40/40 [==============================] - 1s 13ms/step - loss: 2.7800e-05 - accuracy: 0.0000e+00 - mean_squared_error: 2.7800e-05 - val_loss: 2.8153e-05 - val_accuracy: 0.0000e+00 - val_mean_squared_error: 2.8153e-05\n",
            "Epoch 7/20\n",
            "40/40 [==============================] - 1s 14ms/step - loss: 2.6898e-05 - accuracy: 0.0000e+00 - mean_squared_error: 2.6898e-05 - val_loss: 2.6299e-05 - val_accuracy: 0.0000e+00 - val_mean_squared_error: 2.6299e-05\n",
            "Epoch 8/20\n",
            "40/40 [==============================] - 1s 13ms/step - loss: 2.6130e-05 - accuracy: 0.0000e+00 - mean_squared_error: 2.6130e-05 - val_loss: 2.5742e-05 - val_accuracy: 0.0000e+00 - val_mean_squared_error: 2.5742e-05\n",
            "Epoch 9/20\n",
            "40/40 [==============================] - 1s 13ms/step - loss: 2.5684e-05 - accuracy: 0.0000e+00 - mean_squared_error: 2.5684e-05 - val_loss: 2.5386e-05 - val_accuracy: 0.0000e+00 - val_mean_squared_error: 2.5386e-05\n",
            "Epoch 10/20\n",
            "40/40 [==============================] - 1s 13ms/step - loss: 2.5357e-05 - accuracy: 0.0000e+00 - mean_squared_error: 2.5357e-05 - val_loss: 2.5103e-05 - val_accuracy: 0.0000e+00 - val_mean_squared_error: 2.5103e-05\n",
            "Epoch 11/20\n",
            "40/40 [==============================] - 1s 13ms/step - loss: 2.5108e-05 - accuracy: 0.0000e+00 - mean_squared_error: 2.5108e-05 - val_loss: 2.5159e-05 - val_accuracy: 0.0000e+00 - val_mean_squared_error: 2.5159e-05\n",
            "Epoch 12/20\n",
            "40/40 [==============================] - 1s 13ms/step - loss: 2.4954e-05 - accuracy: 0.0000e+00 - mean_squared_error: 2.4954e-05 - val_loss: 2.5355e-05 - val_accuracy: 0.0000e+00 - val_mean_squared_error: 2.5355e-05\n",
            "Epoch 13/20\n",
            "40/40 [==============================] - 1s 13ms/step - loss: 2.4816e-05 - accuracy: 0.0000e+00 - mean_squared_error: 2.4816e-05 - val_loss: 2.4988e-05 - val_accuracy: 0.0000e+00 - val_mean_squared_error: 2.4988e-05\n",
            "Epoch 14/20\n",
            "40/40 [==============================] - 0s 13ms/step - loss: 2.4612e-05 - accuracy: 0.0000e+00 - mean_squared_error: 2.4612e-05 - val_loss: 2.4192e-05 - val_accuracy: 0.0000e+00 - val_mean_squared_error: 2.4192e-05\n",
            "Epoch 15/20\n",
            "40/40 [==============================] - 1s 13ms/step - loss: 2.4473e-05 - accuracy: 0.0000e+00 - mean_squared_error: 2.4473e-05 - val_loss: 2.3881e-05 - val_accuracy: 0.0000e+00 - val_mean_squared_error: 2.3881e-05\n",
            "Epoch 16/20\n",
            "40/40 [==============================] - 1s 13ms/step - loss: 2.4451e-05 - accuracy: 0.0000e+00 - mean_squared_error: 2.4451e-05 - val_loss: 2.3658e-05 - val_accuracy: 0.0000e+00 - val_mean_squared_error: 2.3658e-05\n",
            "Epoch 17/20\n",
            "40/40 [==============================] - 1s 13ms/step - loss: 2.4457e-05 - accuracy: 0.0000e+00 - mean_squared_error: 2.4457e-05 - val_loss: 2.3570e-05 - val_accuracy: 0.0000e+00 - val_mean_squared_error: 2.3570e-05\n",
            "Epoch 18/20\n",
            "40/40 [==============================] - 1s 13ms/step - loss: 2.4443e-05 - accuracy: 0.0000e+00 - mean_squared_error: 2.4443e-05 - val_loss: 2.3783e-05 - val_accuracy: 0.0000e+00 - val_mean_squared_error: 2.3783e-05\n",
            "Epoch 19/20\n",
            "40/40 [==============================] - 1s 13ms/step - loss: 2.4611e-05 - accuracy: 0.0000e+00 - mean_squared_error: 2.4611e-05 - val_loss: 2.4511e-05 - val_accuracy: 0.0000e+00 - val_mean_squared_error: 2.4511e-05\n",
            "Epoch 20/20\n",
            "40/40 [==============================] - 1s 13ms/step - loss: 2.5019e-05 - accuracy: 0.0000e+00 - mean_squared_error: 2.5019e-05 - val_loss: 2.6584e-05 - val_accuracy: 0.0000e+00 - val_mean_squared_error: 2.6584e-05\n",
            "32/32 [==============================] - 0s 1ms/step\n",
            "17.07352647470692 0.0051418063 1.9644116\n",
            "18.73817422860385\n",
            "Epoch 1/20\n"
          ]
        },
        {
          "name": "stderr",
          "output_type": "stream",
          "text": [
            "2023-12-06 22:49:33.837532: I tensorflow/core/common_runtime/gpu/gpu_device.cc:1886] Created device /device:GPU:0 with 20609 MB memory:  -> device: 0, name: NVIDIA L4, pci bus id: 0000:00:03.0, compute capability: 8.9\n"
          ]
        },
        {
          "name": "stdout",
          "output_type": "stream",
          "text": [
            "     36/Unknown - 1s 6ms/step - loss: 0.0019 - accuracy: 0.0000e+00 - mean_squared_error: 0.0019 "
          ]
        },
        {
          "name": "stderr",
          "output_type": "stream",
          "text": [
            "2023-12-06 22:49:35.184860: I tensorflow/core/framework/local_rendezvous.cc:421] Local rendezvous recv item cancelled. Key hash: 12749084622472637211\n",
            "2023-12-06 22:49:35.184922: I tensorflow/core/framework/local_rendezvous.cc:421] Local rendezvous recv item cancelled. Key hash: 10316076964217112533\n"
          ]
        },
        {
          "name": "stdout",
          "output_type": "stream",
          "text": [
            "40/40 [==============================] - 2s 17ms/step - loss: 0.0017 - accuracy: 0.0000e+00 - mean_squared_error: 0.0017 - val_loss: 2.3919e-04 - val_accuracy: 0.0000e+00 - val_mean_squared_error: 2.3919e-04\n",
            "Epoch 2/20\n",
            "26/40 [==================>...........] - ETA: 0s - loss: 8.0683e-05 - accuracy: 0.0000e+00 - mean_squared_error: 8.0683e-05"
          ]
        },
        {
          "name": "stderr",
          "output_type": "stream",
          "text": [
            "2023-12-06 22:49:35.606977: I tensorflow/core/framework/local_rendezvous.cc:421] Local rendezvous recv item cancelled. Key hash: 10316076964217112533\n"
          ]
        },
        {
          "name": "stdout",
          "output_type": "stream",
          "text": [
            "40/40 [==============================] - 1s 16ms/step - loss: 6.5785e-05 - accuracy: 0.0000e+00 - mean_squared_error: 6.5785e-05 - val_loss: 3.3870e-05 - val_accuracy: 0.0000e+00 - val_mean_squared_error: 3.3870e-05\n",
            "Epoch 3/20\n",
            "40/40 [==============================] - 1s 13ms/step - loss: 2.9916e-05 - accuracy: 0.0000e+00 - mean_squared_error: 2.9916e-05 - val_loss: 2.9733e-05 - val_accuracy: 0.0000e+00 - val_mean_squared_error: 2.9733e-05\n",
            "Epoch 4/20\n",
            "40/40 [==============================] - 1s 13ms/step - loss: 2.8123e-05 - accuracy: 0.0000e+00 - mean_squared_error: 2.8123e-05 - val_loss: 2.8552e-05 - val_accuracy: 0.0000e+00 - val_mean_squared_error: 2.8552e-05\n",
            "Epoch 5/20\n",
            "40/40 [==============================] - 1s 13ms/step - loss: 2.7225e-05 - accuracy: 0.0000e+00 - mean_squared_error: 2.7225e-05 - val_loss: 2.7621e-05 - val_accuracy: 0.0000e+00 - val_mean_squared_error: 2.7621e-05\n",
            "Epoch 6/20\n",
            "40/40 [==============================] - 1s 13ms/step - loss: 2.6391e-05 - accuracy: 0.0000e+00 - mean_squared_error: 2.6391e-05 - val_loss: 2.7110e-05 - val_accuracy: 0.0000e+00 - val_mean_squared_error: 2.7110e-05\n",
            "Epoch 7/20\n",
            "40/40 [==============================] - 1s 13ms/step - loss: 2.5903e-05 - accuracy: 0.0000e+00 - mean_squared_error: 2.5903e-05 - val_loss: 2.6394e-05 - val_accuracy: 0.0000e+00 - val_mean_squared_error: 2.6394e-05\n",
            "Epoch 8/20\n",
            "40/40 [==============================] - 1s 13ms/step - loss: 2.5469e-05 - accuracy: 0.0000e+00 - mean_squared_error: 2.5469e-05 - val_loss: 2.5993e-05 - val_accuracy: 0.0000e+00 - val_mean_squared_error: 2.5993e-05\n",
            "Epoch 9/20\n",
            "40/40 [==============================] - 1s 13ms/step - loss: 2.4833e-05 - accuracy: 0.0000e+00 - mean_squared_error: 2.4833e-05 - val_loss: 2.5533e-05 - val_accuracy: 0.0000e+00 - val_mean_squared_error: 2.5533e-05\n",
            "Epoch 10/20\n",
            "40/40 [==============================] - 1s 13ms/step - loss: 2.4558e-05 - accuracy: 0.0000e+00 - mean_squared_error: 2.4558e-05 - val_loss: 2.5240e-05 - val_accuracy: 0.0000e+00 - val_mean_squared_error: 2.5240e-05\n",
            "Epoch 11/20\n",
            "40/40 [==============================] - 1s 13ms/step - loss: 2.4358e-05 - accuracy: 0.0000e+00 - mean_squared_error: 2.4358e-05 - val_loss: 2.5114e-05 - val_accuracy: 0.0000e+00 - val_mean_squared_error: 2.5114e-05\n",
            "Epoch 12/20\n",
            "40/40 [==============================] - 1s 13ms/step - loss: 2.4231e-05 - accuracy: 0.0000e+00 - mean_squared_error: 2.4231e-05 - val_loss: 2.5006e-05 - val_accuracy: 0.0000e+00 - val_mean_squared_error: 2.5006e-05\n",
            "Epoch 13/20\n",
            "40/40 [==============================] - 1s 14ms/step - loss: 2.4223e-05 - accuracy: 0.0000e+00 - mean_squared_error: 2.4223e-05 - val_loss: 2.4760e-05 - val_accuracy: 0.0000e+00 - val_mean_squared_error: 2.4760e-05\n",
            "Epoch 14/20\n",
            "40/40 [==============================] - 1s 13ms/step - loss: 2.4145e-05 - accuracy: 0.0000e+00 - mean_squared_error: 2.4145e-05 - val_loss: 2.4593e-05 - val_accuracy: 0.0000e+00 - val_mean_squared_error: 2.4593e-05\n",
            "Epoch 15/20\n",
            "40/40 [==============================] - 1s 13ms/step - loss: 2.4034e-05 - accuracy: 0.0000e+00 - mean_squared_error: 2.4034e-05 - val_loss: 2.4648e-05 - val_accuracy: 0.0000e+00 - val_mean_squared_error: 2.4648e-05\n",
            "Epoch 16/20\n",
            "40/40 [==============================] - 1s 13ms/step - loss: 2.4129e-05 - accuracy: 0.0000e+00 - mean_squared_error: 2.4129e-05 - val_loss: 2.5491e-05 - val_accuracy: 0.0000e+00 - val_mean_squared_error: 2.5491e-05\n",
            "Epoch 17/20\n",
            "40/40 [==============================] - 1s 13ms/step - loss: 2.4314e-05 - accuracy: 0.0000e+00 - mean_squared_error: 2.4314e-05 - val_loss: 2.5995e-05 - val_accuracy: 0.0000e+00 - val_mean_squared_error: 2.5995e-05\n",
            "Epoch 18/20\n",
            "40/40 [==============================] - 1s 13ms/step - loss: 2.5040e-05 - accuracy: 0.0000e+00 - mean_squared_error: 2.5040e-05 - val_loss: 2.7068e-05 - val_accuracy: 0.0000e+00 - val_mean_squared_error: 2.7068e-05\n",
            "Epoch 19/20\n",
            "40/40 [==============================] - 1s 13ms/step - loss: 2.6217e-05 - accuracy: 0.0000e+00 - mean_squared_error: 2.6217e-05 - val_loss: 2.4968e-05 - val_accuracy: 0.0000e+00 - val_mean_squared_error: 2.4968e-05\n",
            "Epoch 20/20\n",
            "40/40 [==============================] - 0s 13ms/step - loss: 2.5720e-05 - accuracy: 0.0000e+00 - mean_squared_error: 2.5720e-05 - val_loss: 2.5741e-05 - val_accuracy: 0.0000e+00 - val_mean_squared_error: 2.5741e-05\n",
            "32/32 [==============================] - 0s 1ms/step\n",
            "18.73817422860385 0.0050505344 2.1081398\n",
            "20.565123083486537\n",
            "Epoch 1/20\n"
          ]
        },
        {
          "name": "stderr",
          "output_type": "stream",
          "text": [
            "2023-12-06 22:49:46.163454: I tensorflow/core/common_runtime/gpu/gpu_device.cc:1886] Created device /device:GPU:0 with 20609 MB memory:  -> device: 0, name: NVIDIA L4, pci bus id: 0000:00:03.0, compute capability: 8.9\n"
          ]
        },
        {
          "name": "stdout",
          "output_type": "stream",
          "text": [
            "     40/Unknown - 1s 5ms/step - loss: 0.0033 - accuracy: 0.0000e+00 - mean_squared_error: 0.0033 "
          ]
        },
        {
          "name": "stderr",
          "output_type": "stream",
          "text": [
            "2023-12-06 22:49:47.499787: I tensorflow/core/framework/local_rendezvous.cc:425] Local rendezvous send item cancelled. Key hash: 3632331790298042566\n",
            "2023-12-06 22:49:47.499858: I tensorflow/core/framework/local_rendezvous.cc:425] Local rendezvous send item cancelled. Key hash: 15332740285842878431\n",
            "2023-12-06 22:49:47.499895: I tensorflow/core/framework/local_rendezvous.cc:421] Local rendezvous recv item cancelled. Key hash: 12749084622472637211\n",
            "2023-12-06 22:49:47.499903: I tensorflow/core/framework/local_rendezvous.cc:421] Local rendezvous recv item cancelled. Key hash: 10316076964217112533\n"
          ]
        },
        {
          "name": "stdout",
          "output_type": "stream",
          "text": [
            "40/40 [==============================] - 2s 17ms/step - loss: 0.0033 - accuracy: 0.0000e+00 - mean_squared_error: 0.0033 - val_loss: 9.2718e-05 - val_accuracy: 0.0000e+00 - val_mean_squared_error: 9.2718e-05\n",
            "Epoch 2/20\n",
            "31/40 [======================>.......] - ETA: 0s - loss: 8.8764e-05 - accuracy: 0.0000e+00 - mean_squared_error: 8.8764e-05"
          ]
        },
        {
          "name": "stderr",
          "output_type": "stream",
          "text": [
            "2023-12-06 22:49:47.923584: I tensorflow/core/framework/local_rendezvous.cc:421] Local rendezvous recv item cancelled. Key hash: 12749084622472637211\n",
            "2023-12-06 22:49:47.923637: I tensorflow/core/framework/local_rendezvous.cc:421] Local rendezvous recv item cancelled. Key hash: 10316076964217112533\n"
          ]
        },
        {
          "name": "stdout",
          "output_type": "stream",
          "text": [
            "40/40 [==============================] - 1s 13ms/step - loss: 7.8220e-05 - accuracy: 0.0000e+00 - mean_squared_error: 7.8220e-05 - val_loss: 3.1254e-05 - val_accuracy: 0.0000e+00 - val_mean_squared_error: 3.1254e-05\n",
            "Epoch 3/20\n",
            "40/40 [==============================] - 1s 13ms/step - loss: 2.9215e-05 - accuracy: 0.0000e+00 - mean_squared_error: 2.9215e-05 - val_loss: 2.7577e-05 - val_accuracy: 0.0000e+00 - val_mean_squared_error: 2.7577e-05\n",
            "Epoch 4/20\n",
            "40/40 [==============================] - 1s 13ms/step - loss: 2.7340e-05 - accuracy: 0.0000e+00 - mean_squared_error: 2.7340e-05 - val_loss: 2.6820e-05 - val_accuracy: 0.0000e+00 - val_mean_squared_error: 2.6820e-05\n",
            "Epoch 5/20\n",
            "40/40 [==============================] - 1s 14ms/step - loss: 2.6703e-05 - accuracy: 0.0000e+00 - mean_squared_error: 2.6703e-05 - val_loss: 2.6313e-05 - val_accuracy: 0.0000e+00 - val_mean_squared_error: 2.6313e-05\n",
            "Epoch 6/20\n",
            "40/40 [==============================] - 1s 13ms/step - loss: 2.6221e-05 - accuracy: 0.0000e+00 - mean_squared_error: 2.6221e-05 - val_loss: 2.5995e-05 - val_accuracy: 0.0000e+00 - val_mean_squared_error: 2.5995e-05\n",
            "Epoch 7/20\n",
            "40/40 [==============================] - 1s 13ms/step - loss: 2.5762e-05 - accuracy: 0.0000e+00 - mean_squared_error: 2.5762e-05 - val_loss: 2.5662e-05 - val_accuracy: 0.0000e+00 - val_mean_squared_error: 2.5662e-05\n",
            "Epoch 8/20\n",
            "40/40 [==============================] - 1s 13ms/step - loss: 2.5362e-05 - accuracy: 0.0000e+00 - mean_squared_error: 2.5362e-05 - val_loss: 2.5318e-05 - val_accuracy: 0.0000e+00 - val_mean_squared_error: 2.5318e-05\n",
            "Epoch 9/20\n",
            "40/40 [==============================] - 1s 13ms/step - loss: 2.5077e-05 - accuracy: 0.0000e+00 - mean_squared_error: 2.5077e-05 - val_loss: 2.5052e-05 - val_accuracy: 0.0000e+00 - val_mean_squared_error: 2.5052e-05\n",
            "Epoch 10/20\n",
            "40/40 [==============================] - 1s 13ms/step - loss: 2.4850e-05 - accuracy: 0.0000e+00 - mean_squared_error: 2.4850e-05 - val_loss: 2.4784e-05 - val_accuracy: 0.0000e+00 - val_mean_squared_error: 2.4784e-05\n",
            "Epoch 11/20\n",
            "40/40 [==============================] - 1s 13ms/step - loss: 2.4656e-05 - accuracy: 0.0000e+00 - mean_squared_error: 2.4656e-05 - val_loss: 2.4578e-05 - val_accuracy: 0.0000e+00 - val_mean_squared_error: 2.4578e-05\n",
            "Epoch 12/20\n",
            "40/40 [==============================] - 1s 13ms/step - loss: 2.4515e-05 - accuracy: 0.0000e+00 - mean_squared_error: 2.4515e-05 - val_loss: 2.4410e-05 - val_accuracy: 0.0000e+00 - val_mean_squared_error: 2.4410e-05\n",
            "Epoch 13/20\n",
            "40/40 [==============================] - 1s 13ms/step - loss: 2.4432e-05 - accuracy: 0.0000e+00 - mean_squared_error: 2.4432e-05 - val_loss: 2.4308e-05 - val_accuracy: 0.0000e+00 - val_mean_squared_error: 2.4308e-05\n",
            "Epoch 14/20\n",
            "40/40 [==============================] - 1s 13ms/step - loss: 2.4377e-05 - accuracy: 0.0000e+00 - mean_squared_error: 2.4377e-05 - val_loss: 2.4167e-05 - val_accuracy: 0.0000e+00 - val_mean_squared_error: 2.4167e-05\n",
            "Epoch 15/20\n",
            "40/40 [==============================] - 1s 14ms/step - loss: 2.4221e-05 - accuracy: 0.0000e+00 - mean_squared_error: 2.4221e-05 - val_loss: 2.4197e-05 - val_accuracy: 0.0000e+00 - val_mean_squared_error: 2.4197e-05\n",
            "Epoch 16/20\n",
            "40/40 [==============================] - 1s 13ms/step - loss: 2.4058e-05 - accuracy: 0.0000e+00 - mean_squared_error: 2.4058e-05 - val_loss: 2.4152e-05 - val_accuracy: 0.0000e+00 - val_mean_squared_error: 2.4152e-05\n",
            "Epoch 17/20\n",
            "40/40 [==============================] - 1s 13ms/step - loss: 2.4040e-05 - accuracy: 0.0000e+00 - mean_squared_error: 2.4040e-05 - val_loss: 2.3959e-05 - val_accuracy: 0.0000e+00 - val_mean_squared_error: 2.3959e-05\n",
            "Epoch 18/20\n",
            "40/40 [==============================] - 0s 13ms/step - loss: 2.4064e-05 - accuracy: 0.0000e+00 - mean_squared_error: 2.4064e-05 - val_loss: 2.3708e-05 - val_accuracy: 0.0000e+00 - val_mean_squared_error: 2.3708e-05\n",
            "Epoch 19/20\n",
            "40/40 [==============================] - 1s 13ms/step - loss: 2.4051e-05 - accuracy: 0.0000e+00 - mean_squared_error: 2.4051e-05 - val_loss: 2.3631e-05 - val_accuracy: 0.0000e+00 - val_mean_squared_error: 2.3631e-05\n",
            "Epoch 20/20\n",
            "40/40 [==============================] - 1s 13ms/step - loss: 2.3966e-05 - accuracy: 0.0000e+00 - mean_squared_error: 2.3966e-05 - val_loss: 2.3682e-05 - val_accuracy: 0.0000e+00 - val_mean_squared_error: 2.3682e-05\n",
            "32/32 [==============================] - 0s 1ms/step\n",
            "20.565123083486537 0.0049123764 1.9891073\n",
            "22.570197196339215\n",
            "Epoch 1/20\n"
          ]
        },
        {
          "name": "stderr",
          "output_type": "stream",
          "text": [
            "2023-12-06 22:49:58.388088: I tensorflow/core/common_runtime/gpu/gpu_device.cc:1886] Created device /device:GPU:0 with 20609 MB memory:  -> device: 0, name: NVIDIA L4, pci bus id: 0000:00:03.0, compute capability: 8.9\n"
          ]
        },
        {
          "name": "stdout",
          "output_type": "stream",
          "text": [
            "     38/Unknown - 1s 6ms/step - loss: 0.0033 - accuracy: 0.0000e+00 - mean_squared_error: 0.0033 "
          ]
        },
        {
          "name": "stderr",
          "output_type": "stream",
          "text": [
            "2023-12-06 22:49:59.721162: I tensorflow/core/framework/local_rendezvous.cc:425] Local rendezvous send item cancelled. Key hash: 3632331790298042566\n",
            "2023-12-06 22:49:59.721223: I tensorflow/core/framework/local_rendezvous.cc:425] Local rendezvous send item cancelled. Key hash: 15332740285842878431\n",
            "2023-12-06 22:49:59.721247: I tensorflow/core/framework/local_rendezvous.cc:421] Local rendezvous recv item cancelled. Key hash: 12749084622472637211\n",
            "2023-12-06 22:49:59.721254: I tensorflow/core/framework/local_rendezvous.cc:421] Local rendezvous recv item cancelled. Key hash: 10316076964217112533\n"
          ]
        },
        {
          "name": "stdout",
          "output_type": "stream",
          "text": [
            "40/40 [==============================] - 2s 17ms/step - loss: 0.0032 - accuracy: 0.0000e+00 - mean_squared_error: 0.0032 - val_loss: 4.7060e-05 - val_accuracy: 0.0000e+00 - val_mean_squared_error: 4.7060e-05\n",
            "Epoch 2/20\n",
            "31/40 [======================>.......] - ETA: 0s - loss: 9.0865e-05 - accuracy: 0.0000e+00 - mean_squared_error: 9.0865e-05"
          ]
        },
        {
          "name": "stderr",
          "output_type": "stream",
          "text": [
            "2023-12-06 22:50:00.159274: I tensorflow/core/framework/local_rendezvous.cc:421] Local rendezvous recv item cancelled. Key hash: 12749084622472637211\n",
            "2023-12-06 22:50:00.159335: I tensorflow/core/framework/local_rendezvous.cc:421] Local rendezvous recv item cancelled. Key hash: 10316076964217112533\n"
          ]
        },
        {
          "name": "stdout",
          "output_type": "stream",
          "text": [
            "40/40 [==============================] - 1s 13ms/step - loss: 7.9319e-05 - accuracy: 0.0000e+00 - mean_squared_error: 7.9319e-05 - val_loss: 3.3257e-05 - val_accuracy: 0.0000e+00 - val_mean_squared_error: 3.3257e-05\n",
            "Epoch 3/20\n",
            "40/40 [==============================] - 1s 13ms/step - loss: 2.8078e-05 - accuracy: 0.0000e+00 - mean_squared_error: 2.8078e-05 - val_loss: 2.7377e-05 - val_accuracy: 0.0000e+00 - val_mean_squared_error: 2.7377e-05\n",
            "Epoch 4/20\n",
            "40/40 [==============================] - 1s 13ms/step - loss: 2.6522e-05 - accuracy: 0.0000e+00 - mean_squared_error: 2.6522e-05 - val_loss: 2.7104e-05 - val_accuracy: 0.0000e+00 - val_mean_squared_error: 2.7104e-05\n",
            "Epoch 5/20\n",
            "40/40 [==============================] - 1s 13ms/step - loss: 2.6087e-05 - accuracy: 0.0000e+00 - mean_squared_error: 2.6087e-05 - val_loss: 2.6737e-05 - val_accuracy: 0.0000e+00 - val_mean_squared_error: 2.6737e-05\n",
            "Epoch 6/20\n",
            "40/40 [==============================] - 1s 13ms/step - loss: 2.5789e-05 - accuracy: 0.0000e+00 - mean_squared_error: 2.5789e-05 - val_loss: 2.6662e-05 - val_accuracy: 0.0000e+00 - val_mean_squared_error: 2.6662e-05\n",
            "Epoch 7/20\n",
            "40/40 [==============================] - 1s 13ms/step - loss: 2.5490e-05 - accuracy: 0.0000e+00 - mean_squared_error: 2.5490e-05 - val_loss: 2.5568e-05 - val_accuracy: 0.0000e+00 - val_mean_squared_error: 2.5568e-05\n",
            "Epoch 8/20\n",
            "40/40 [==============================] - 1s 13ms/step - loss: 2.5113e-05 - accuracy: 0.0000e+00 - mean_squared_error: 2.5113e-05 - val_loss: 2.5326e-05 - val_accuracy: 0.0000e+00 - val_mean_squared_error: 2.5326e-05\n",
            "Epoch 9/20\n",
            "40/40 [==============================] - 1s 13ms/step - loss: 2.4926e-05 - accuracy: 0.0000e+00 - mean_squared_error: 2.4926e-05 - val_loss: 2.5711e-05 - val_accuracy: 0.0000e+00 - val_mean_squared_error: 2.5711e-05\n",
            "Epoch 10/20\n",
            "40/40 [==============================] - 1s 13ms/step - loss: 2.4702e-05 - accuracy: 0.0000e+00 - mean_squared_error: 2.4702e-05 - val_loss: 2.6251e-05 - val_accuracy: 0.0000e+00 - val_mean_squared_error: 2.6251e-05\n",
            "Epoch 11/20\n",
            "40/40 [==============================] - 1s 13ms/step - loss: 2.4500e-05 - accuracy: 0.0000e+00 - mean_squared_error: 2.4500e-05 - val_loss: 2.5984e-05 - val_accuracy: 0.0000e+00 - val_mean_squared_error: 2.5984e-05\n",
            "Epoch 12/20\n",
            "40/40 [==============================] - 1s 13ms/step - loss: 2.4370e-05 - accuracy: 0.0000e+00 - mean_squared_error: 2.4370e-05 - val_loss: 2.5761e-05 - val_accuracy: 0.0000e+00 - val_mean_squared_error: 2.5761e-05\n",
            "Epoch 13/20\n",
            "40/40 [==============================] - 1s 13ms/step - loss: 2.4304e-05 - accuracy: 0.0000e+00 - mean_squared_error: 2.4304e-05 - val_loss: 2.5129e-05 - val_accuracy: 0.0000e+00 - val_mean_squared_error: 2.5129e-05\n",
            "Epoch 14/20\n",
            "40/40 [==============================] - 1s 13ms/step - loss: 2.4174e-05 - accuracy: 0.0000e+00 - mean_squared_error: 2.4174e-05 - val_loss: 2.4638e-05 - val_accuracy: 0.0000e+00 - val_mean_squared_error: 2.4638e-05\n",
            "Epoch 15/20\n",
            "40/40 [==============================] - 1s 13ms/step - loss: 2.3998e-05 - accuracy: 0.0000e+00 - mean_squared_error: 2.3998e-05 - val_loss: 2.4876e-05 - val_accuracy: 0.0000e+00 - val_mean_squared_error: 2.4876e-05\n",
            "Epoch 16/20\n",
            "40/40 [==============================] - 1s 14ms/step - loss: 2.3948e-05 - accuracy: 0.0000e+00 - mean_squared_error: 2.3948e-05 - val_loss: 2.5211e-05 - val_accuracy: 0.0000e+00 - val_mean_squared_error: 2.5211e-05\n",
            "Epoch 17/20\n",
            "40/40 [==============================] - 1s 13ms/step - loss: 2.3917e-05 - accuracy: 0.0000e+00 - mean_squared_error: 2.3917e-05 - val_loss: 2.5506e-05 - val_accuracy: 0.0000e+00 - val_mean_squared_error: 2.5506e-05\n",
            "Epoch 18/20\n",
            "40/40 [==============================] - 1s 13ms/step - loss: 2.3867e-05 - accuracy: 0.0000e+00 - mean_squared_error: 2.3867e-05 - val_loss: 2.5823e-05 - val_accuracy: 0.0000e+00 - val_mean_squared_error: 2.5823e-05\n",
            "Epoch 19/20\n",
            "40/40 [==============================] - 1s 13ms/step - loss: 2.3860e-05 - accuracy: 0.0000e+00 - mean_squared_error: 2.3860e-05 - val_loss: 2.6119e-05 - val_accuracy: 0.0000e+00 - val_mean_squared_error: 2.6119e-05\n",
            "Epoch 20/20\n",
            "40/40 [==============================] - 1s 13ms/step - loss: 2.3934e-05 - accuracy: 0.0000e+00 - mean_squared_error: 2.3934e-05 - val_loss: 2.7130e-05 - val_accuracy: 0.0000e+00 - val_mean_squared_error: 2.7130e-05\n",
            "32/32 [==============================] - 0s 1ms/step\n",
            "22.570197196339215 0.0050847945 2.0517733\n",
            "24.770763559917114\n",
            "Epoch 1/20\n"
          ]
        },
        {
          "name": "stderr",
          "output_type": "stream",
          "text": [
            "2023-12-06 22:50:10.646504: I tensorflow/core/common_runtime/gpu/gpu_device.cc:1886] Created device /device:GPU:0 with 20609 MB memory:  -> device: 0, name: NVIDIA L4, pci bus id: 0000:00:03.0, compute capability: 8.9\n"
          ]
        },
        {
          "name": "stdout",
          "output_type": "stream",
          "text": [
            "     31/Unknown - 1s 5ms/step - loss: 0.0044 - accuracy: 0.0000e+00 - mean_squared_error: 0.0044   "
          ]
        },
        {
          "name": "stderr",
          "output_type": "stream",
          "text": [
            "2023-12-06 22:50:11.956009: I tensorflow/core/framework/local_rendezvous.cc:421] Local rendezvous recv item cancelled. Key hash: 12749084622472637211\n",
            "2023-12-06 22:50:11.956068: I tensorflow/core/framework/local_rendezvous.cc:421] Local rendezvous recv item cancelled. Key hash: 10316076964217112533\n"
          ]
        },
        {
          "name": "stdout",
          "output_type": "stream",
          "text": [
            "40/40 [==============================] - 2s 16ms/step - loss: 0.0036 - accuracy: 0.0000e+00 - mean_squared_error: 0.0036 - val_loss: 1.8751e-04 - val_accuracy: 0.0000e+00 - val_mean_squared_error: 1.8751e-04\n",
            "Epoch 2/20\n",
            "26/40 [==================>...........] - ETA: 0s - loss: 1.1631e-04 - accuracy: 0.0000e+00 - mean_squared_error: 1.1631e-04"
          ]
        },
        {
          "name": "stderr",
          "output_type": "stream",
          "text": [
            "2023-12-06 22:50:12.380035: I tensorflow/core/framework/local_rendezvous.cc:421] Local rendezvous recv item cancelled. Key hash: 12749084622472637211\n",
            "2023-12-06 22:50:12.380080: I tensorflow/core/framework/local_rendezvous.cc:421] Local rendezvous recv item cancelled. Key hash: 10316076964217112533\n"
          ]
        },
        {
          "name": "stdout",
          "output_type": "stream",
          "text": [
            "40/40 [==============================] - 1s 14ms/step - loss: 9.0775e-05 - accuracy: 0.0000e+00 - mean_squared_error: 9.0775e-05 - val_loss: 2.6993e-05 - val_accuracy: 0.0000e+00 - val_mean_squared_error: 2.6993e-05\n",
            "Epoch 3/20\n",
            "40/40 [==============================] - 1s 14ms/step - loss: 2.7774e-05 - accuracy: 0.0000e+00 - mean_squared_error: 2.7774e-05 - val_loss: 2.6393e-05 - val_accuracy: 0.0000e+00 - val_mean_squared_error: 2.6393e-05\n",
            "Epoch 4/20\n",
            "40/40 [==============================] - 1s 13ms/step - loss: 2.5567e-05 - accuracy: 0.0000e+00 - mean_squared_error: 2.5567e-05 - val_loss: 2.5612e-05 - val_accuracy: 0.0000e+00 - val_mean_squared_error: 2.5612e-05\n",
            "Epoch 5/20\n",
            "40/40 [==============================] - 1s 13ms/step - loss: 2.5201e-05 - accuracy: 0.0000e+00 - mean_squared_error: 2.5201e-05 - val_loss: 2.5723e-05 - val_accuracy: 0.0000e+00 - val_mean_squared_error: 2.5723e-05\n",
            "Epoch 6/20\n",
            "40/40 [==============================] - 0s 12ms/step - loss: 2.5062e-05 - accuracy: 0.0000e+00 - mean_squared_error: 2.5062e-05 - val_loss: 2.5732e-05 - val_accuracy: 0.0000e+00 - val_mean_squared_error: 2.5732e-05\n",
            "Epoch 7/20\n",
            "40/40 [==============================] - 1s 13ms/step - loss: 2.4931e-05 - accuracy: 0.0000e+00 - mean_squared_error: 2.4931e-05 - val_loss: 2.5065e-05 - val_accuracy: 0.0000e+00 - val_mean_squared_error: 2.5065e-05\n",
            "Epoch 8/20\n",
            "40/40 [==============================] - 1s 13ms/step - loss: 2.4633e-05 - accuracy: 0.0000e+00 - mean_squared_error: 2.4633e-05 - val_loss: 2.4903e-05 - val_accuracy: 0.0000e+00 - val_mean_squared_error: 2.4903e-05\n",
            "Epoch 9/20\n",
            "40/40 [==============================] - 1s 13ms/step - loss: 2.4459e-05 - accuracy: 0.0000e+00 - mean_squared_error: 2.4459e-05 - val_loss: 2.4783e-05 - val_accuracy: 0.0000e+00 - val_mean_squared_error: 2.4783e-05\n",
            "Epoch 10/20\n",
            "40/40 [==============================] - 1s 13ms/step - loss: 2.4378e-05 - accuracy: 0.0000e+00 - mean_squared_error: 2.4378e-05 - val_loss: 2.4874e-05 - val_accuracy: 0.0000e+00 - val_mean_squared_error: 2.4874e-05\n",
            "Epoch 11/20\n",
            "40/40 [==============================] - 1s 14ms/step - loss: 2.4288e-05 - accuracy: 0.0000e+00 - mean_squared_error: 2.4288e-05 - val_loss: 2.4869e-05 - val_accuracy: 0.0000e+00 - val_mean_squared_error: 2.4869e-05\n",
            "Epoch 12/20\n",
            "40/40 [==============================] - 0s 13ms/step - loss: 2.4159e-05 - accuracy: 0.0000e+00 - mean_squared_error: 2.4159e-05 - val_loss: 2.4570e-05 - val_accuracy: 0.0000e+00 - val_mean_squared_error: 2.4570e-05\n",
            "Epoch 13/20\n",
            "40/40 [==============================] - 1s 13ms/step - loss: 2.4035e-05 - accuracy: 0.0000e+00 - mean_squared_error: 2.4035e-05 - val_loss: 2.4689e-05 - val_accuracy: 0.0000e+00 - val_mean_squared_error: 2.4689e-05\n",
            "Epoch 14/20\n",
            "40/40 [==============================] - 1s 13ms/step - loss: 2.4008e-05 - accuracy: 0.0000e+00 - mean_squared_error: 2.4008e-05 - val_loss: 2.5111e-05 - val_accuracy: 0.0000e+00 - val_mean_squared_error: 2.5111e-05\n",
            "Epoch 15/20\n",
            "40/40 [==============================] - 1s 13ms/step - loss: 2.3944e-05 - accuracy: 0.0000e+00 - mean_squared_error: 2.3944e-05 - val_loss: 2.5248e-05 - val_accuracy: 0.0000e+00 - val_mean_squared_error: 2.5248e-05\n",
            "Epoch 16/20\n",
            "40/40 [==============================] - 1s 13ms/step - loss: 2.3779e-05 - accuracy: 0.0000e+00 - mean_squared_error: 2.3779e-05 - val_loss: 2.4782e-05 - val_accuracy: 0.0000e+00 - val_mean_squared_error: 2.4782e-05\n",
            "Epoch 17/20\n",
            "40/40 [==============================] - 1s 13ms/step - loss: 2.3643e-05 - accuracy: 0.0000e+00 - mean_squared_error: 2.3643e-05 - val_loss: 2.4565e-05 - val_accuracy: 0.0000e+00 - val_mean_squared_error: 2.4565e-05\n",
            "Epoch 18/20\n",
            "40/40 [==============================] - 1s 13ms/step - loss: 2.3578e-05 - accuracy: 0.0000e+00 - mean_squared_error: 2.3578e-05 - val_loss: 2.4311e-05 - val_accuracy: 0.0000e+00 - val_mean_squared_error: 2.4311e-05\n",
            "Epoch 19/20\n",
            "40/40 [==============================] - 1s 13ms/step - loss: 2.3528e-05 - accuracy: 0.0000e+00 - mean_squared_error: 2.3528e-05 - val_loss: 2.4024e-05 - val_accuracy: 0.0000e+00 - val_mean_squared_error: 2.4024e-05\n",
            "Epoch 20/20\n",
            "40/40 [==============================] - 1s 13ms/step - loss: 2.3483e-05 - accuracy: 0.0000e+00 - mean_squared_error: 2.3483e-05 - val_loss: 2.3885e-05 - val_accuracy: 0.0000e+00 - val_mean_squared_error: 2.3885e-05\n",
            "32/32 [==============================] - 0s 1ms/step\n",
            "24.770763559917114 0.004881871 2.050886\n",
            "27.185882427329428\n",
            "Epoch 1/20\n"
          ]
        },
        {
          "name": "stderr",
          "output_type": "stream",
          "text": [
            "2023-12-06 22:50:22.845023: I tensorflow/core/common_runtime/gpu/gpu_device.cc:1886] Created device /device:GPU:0 with 20609 MB memory:  -> device: 0, name: NVIDIA L4, pci bus id: 0000:00:03.0, compute capability: 8.9\n"
          ]
        },
        {
          "name": "stdout",
          "output_type": "stream",
          "text": [
            "     40/Unknown - 1s 5ms/step - loss: 0.0023 - accuracy: 0.0000e+00 - mean_squared_error: 0.0023 "
          ]
        },
        {
          "name": "stderr",
          "output_type": "stream",
          "text": [
            "2023-12-06 22:50:24.175779: I tensorflow/core/framework/local_rendezvous.cc:421] Local rendezvous recv item cancelled. Key hash: 12749084622472637211\n",
            "2023-12-06 22:50:24.175839: I tensorflow/core/framework/local_rendezvous.cc:421] Local rendezvous recv item cancelled. Key hash: 10316076964217112533\n"
          ]
        },
        {
          "name": "stdout",
          "output_type": "stream",
          "text": [
            "40/40 [==============================] - 2s 17ms/step - loss: 0.0023 - accuracy: 0.0000e+00 - mean_squared_error: 0.0023 - val_loss: 4.8347e-05 - val_accuracy: 0.0000e+00 - val_mean_squared_error: 4.8347e-05\n",
            "Epoch 2/20\n",
            "31/40 [======================>.......] - ETA: 0s - loss: 8.2379e-05 - accuracy: 0.0000e+00 - mean_squared_error: 8.2379e-05"
          ]
        },
        {
          "name": "stderr",
          "output_type": "stream",
          "text": [
            "2023-12-06 22:50:24.599178: I tensorflow/core/framework/local_rendezvous.cc:421] Local rendezvous recv item cancelled. Key hash: 12749084622472637211\n",
            "2023-12-06 22:50:24.599228: I tensorflow/core/framework/local_rendezvous.cc:421] Local rendezvous recv item cancelled. Key hash: 10316076964217112533\n"
          ]
        },
        {
          "name": "stdout",
          "output_type": "stream",
          "text": [
            "40/40 [==============================] - 1s 13ms/step - loss: 7.1555e-05 - accuracy: 0.0000e+00 - mean_squared_error: 7.1555e-05 - val_loss: 3.3650e-05 - val_accuracy: 0.0000e+00 - val_mean_squared_error: 3.3650e-05\n",
            "Epoch 3/20\n",
            "40/40 [==============================] - 1s 13ms/step - loss: 2.6507e-05 - accuracy: 0.0000e+00 - mean_squared_error: 2.6507e-05 - val_loss: 2.6796e-05 - val_accuracy: 0.0000e+00 - val_mean_squared_error: 2.6796e-05\n",
            "Epoch 4/20\n",
            "40/40 [==============================] - 1s 14ms/step - loss: 2.5742e-05 - accuracy: 0.0000e+00 - mean_squared_error: 2.5742e-05 - val_loss: 2.8944e-05 - val_accuracy: 0.0000e+00 - val_mean_squared_error: 2.8944e-05\n",
            "Epoch 5/20\n",
            "40/40 [==============================] - 1s 13ms/step - loss: 2.5761e-05 - accuracy: 0.0000e+00 - mean_squared_error: 2.5761e-05 - val_loss: 2.7190e-05 - val_accuracy: 0.0000e+00 - val_mean_squared_error: 2.7190e-05\n",
            "Epoch 6/20\n",
            "40/40 [==============================] - 1s 13ms/step - loss: 2.5197e-05 - accuracy: 0.0000e+00 - mean_squared_error: 2.5197e-05 - val_loss: 2.9347e-05 - val_accuracy: 0.0000e+00 - val_mean_squared_error: 2.9347e-05\n",
            "Epoch 7/20\n",
            "40/40 [==============================] - 1s 13ms/step - loss: 2.5557e-05 - accuracy: 0.0000e+00 - mean_squared_error: 2.5557e-05 - val_loss: 3.0253e-05 - val_accuracy: 0.0000e+00 - val_mean_squared_error: 3.0253e-05\n",
            "Epoch 8/20\n",
            "40/40 [==============================] - 0s 13ms/step - loss: 2.5511e-05 - accuracy: 0.0000e+00 - mean_squared_error: 2.5511e-05 - val_loss: 3.2765e-05 - val_accuracy: 0.0000e+00 - val_mean_squared_error: 3.2765e-05\n",
            "Epoch 9/20\n",
            "40/40 [==============================] - 0s 13ms/step - loss: 2.5625e-05 - accuracy: 0.0000e+00 - mean_squared_error: 2.5625e-05 - val_loss: 3.6163e-05 - val_accuracy: 0.0000e+00 - val_mean_squared_error: 3.6163e-05\n",
            "Epoch 10/20\n",
            "40/40 [==============================] - 1s 13ms/step - loss: 2.5762e-05 - accuracy: 0.0000e+00 - mean_squared_error: 2.5762e-05 - val_loss: 3.4784e-05 - val_accuracy: 0.0000e+00 - val_mean_squared_error: 3.4784e-05\n",
            "Epoch 11/20\n",
            "40/40 [==============================] - 1s 13ms/step - loss: 2.5789e-05 - accuracy: 0.0000e+00 - mean_squared_error: 2.5789e-05 - val_loss: 3.8435e-05 - val_accuracy: 0.0000e+00 - val_mean_squared_error: 3.8435e-05\n",
            "Epoch 12/20\n",
            "40/40 [==============================] - 1s 14ms/step - loss: 2.6811e-05 - accuracy: 0.0000e+00 - mean_squared_error: 2.6811e-05 - val_loss: 4.4993e-05 - val_accuracy: 0.0000e+00 - val_mean_squared_error: 4.4993e-05\n",
            "Epoch 13/20\n",
            "40/40 [==============================] - 1s 13ms/step - loss: 2.7846e-05 - accuracy: 0.0000e+00 - mean_squared_error: 2.7846e-05 - val_loss: 3.8900e-05 - val_accuracy: 0.0000e+00 - val_mean_squared_error: 3.8900e-05\n",
            "Epoch 14/20\n",
            "40/40 [==============================] - 1s 14ms/step - loss: 2.6386e-05 - accuracy: 0.0000e+00 - mean_squared_error: 2.6386e-05 - val_loss: 3.3305e-05 - val_accuracy: 0.0000e+00 - val_mean_squared_error: 3.3305e-05\n",
            "Epoch 15/20\n",
            "40/40 [==============================] - 1s 13ms/step - loss: 2.5128e-05 - accuracy: 0.0000e+00 - mean_squared_error: 2.5128e-05 - val_loss: 3.4753e-05 - val_accuracy: 0.0000e+00 - val_mean_squared_error: 3.4753e-05\n",
            "Epoch 16/20\n",
            "40/40 [==============================] - 1s 13ms/step - loss: 2.5083e-05 - accuracy: 0.0000e+00 - mean_squared_error: 2.5083e-05 - val_loss: 3.5551e-05 - val_accuracy: 0.0000e+00 - val_mean_squared_error: 3.5551e-05\n",
            "Epoch 17/20\n",
            "40/40 [==============================] - 1s 13ms/step - loss: 2.5193e-05 - accuracy: 0.0000e+00 - mean_squared_error: 2.5193e-05 - val_loss: 3.2036e-05 - val_accuracy: 0.0000e+00 - val_mean_squared_error: 3.2036e-05\n",
            "Epoch 18/20\n",
            "40/40 [==============================] - 1s 13ms/step - loss: 2.5112e-05 - accuracy: 0.0000e+00 - mean_squared_error: 2.5112e-05 - val_loss: 3.1924e-05 - val_accuracy: 0.0000e+00 - val_mean_squared_error: 3.1924e-05\n",
            "Epoch 19/20\n",
            "40/40 [==============================] - 0s 12ms/step - loss: 2.5499e-05 - accuracy: 0.0000e+00 - mean_squared_error: 2.5499e-05 - val_loss: 3.1809e-05 - val_accuracy: 0.0000e+00 - val_mean_squared_error: 3.1809e-05\n",
            "Epoch 20/20\n",
            "40/40 [==============================] - 0s 13ms/step - loss: 2.6067e-05 - accuracy: 0.0000e+00 - mean_squared_error: 2.6067e-05 - val_loss: 3.0076e-05 - val_accuracy: 0.0000e+00 - val_mean_squared_error: 3.0076e-05\n",
            "32/32 [==============================] - 0s 1ms/step\n",
            "27.185882427329428 0.0054194024 2.0556617\n",
            "29.836472402833405\n",
            "Epoch 1/20\n"
          ]
        },
        {
          "name": "stderr",
          "output_type": "stream",
          "text": [
            "2023-12-06 22:50:35.004548: I tensorflow/core/common_runtime/gpu/gpu_device.cc:1886] Created device /device:GPU:0 with 20609 MB memory:  -> device: 0, name: NVIDIA L4, pci bus id: 0000:00:03.0, compute capability: 8.9\n"
          ]
        },
        {
          "name": "stdout",
          "output_type": "stream",
          "text": [
            "     32/Unknown - 1s 5ms/step - loss: 0.0012 - accuracy: 0.0000e+00 - mean_squared_error: 0.0012   "
          ]
        },
        {
          "name": "stderr",
          "output_type": "stream",
          "text": [
            "2023-12-06 22:50:36.313502: I tensorflow/core/framework/local_rendezvous.cc:421] Local rendezvous recv item cancelled. Key hash: 10316076964217112533\n"
          ]
        },
        {
          "name": "stdout",
          "output_type": "stream",
          "text": [
            "40/40 [==============================] - 2s 16ms/step - loss: 9.7421e-04 - accuracy: 0.0000e+00 - mean_squared_error: 9.7421e-04 - val_loss: 1.4411e-04 - val_accuracy: 0.0000e+00 - val_mean_squared_error: 1.4411e-04\n",
            "Epoch 2/20\n",
            "28/40 [====================>.........] - ETA: 0s - loss: 5.0269e-05 - accuracy: 0.0000e+00 - mean_squared_error: 5.0269e-05"
          ]
        },
        {
          "name": "stderr",
          "output_type": "stream",
          "text": [
            "2023-12-06 22:50:36.730955: I tensorflow/core/framework/local_rendezvous.cc:421] Local rendezvous recv item cancelled. Key hash: 12749084622472637211\n"
          ]
        },
        {
          "name": "stdout",
          "output_type": "stream",
          "text": [
            "40/40 [==============================] - 1s 13ms/step - loss: 4.4095e-05 - accuracy: 0.0000e+00 - mean_squared_error: 4.4095e-05 - val_loss: 2.7429e-05 - val_accuracy: 0.0000e+00 - val_mean_squared_error: 2.7429e-05\n",
            "Epoch 3/20\n",
            "40/40 [==============================] - 1s 13ms/step - loss: 2.5313e-05 - accuracy: 0.0000e+00 - mean_squared_error: 2.5313e-05 - val_loss: 2.5216e-05 - val_accuracy: 0.0000e+00 - val_mean_squared_error: 2.5216e-05\n",
            "Epoch 4/20\n",
            "40/40 [==============================] - 1s 13ms/step - loss: 2.5009e-05 - accuracy: 0.0000e+00 - mean_squared_error: 2.5009e-05 - val_loss: 2.5444e-05 - val_accuracy: 0.0000e+00 - val_mean_squared_error: 2.5444e-05\n",
            "Epoch 5/20\n",
            "40/40 [==============================] - 1s 13ms/step - loss: 2.5675e-05 - accuracy: 0.0000e+00 - mean_squared_error: 2.5675e-05 - val_loss: 2.4371e-05 - val_accuracy: 0.0000e+00 - val_mean_squared_error: 2.4371e-05\n",
            "Epoch 6/20\n",
            "40/40 [==============================] - 1s 13ms/step - loss: 2.4224e-05 - accuracy: 0.0000e+00 - mean_squared_error: 2.4224e-05 - val_loss: 2.5128e-05 - val_accuracy: 0.0000e+00 - val_mean_squared_error: 2.5128e-05\n",
            "Epoch 7/20\n",
            "40/40 [==============================] - 1s 13ms/step - loss: 2.5605e-05 - accuracy: 0.0000e+00 - mean_squared_error: 2.5605e-05 - val_loss: 3.9172e-05 - val_accuracy: 0.0000e+00 - val_mean_squared_error: 3.9172e-05\n",
            "Epoch 8/20\n",
            "40/40 [==============================] - 0s 13ms/step - loss: 3.1802e-05 - accuracy: 0.0000e+00 - mean_squared_error: 3.1802e-05 - val_loss: 2.6357e-05 - val_accuracy: 0.0000e+00 - val_mean_squared_error: 2.6357e-05\n",
            "Epoch 9/20\n",
            "40/40 [==============================] - 1s 13ms/step - loss: 3.8018e-05 - accuracy: 0.0000e+00 - mean_squared_error: 3.8018e-05 - val_loss: 2.9147e-05 - val_accuracy: 0.0000e+00 - val_mean_squared_error: 2.9147e-05\n",
            "Epoch 10/20\n",
            "40/40 [==============================] - 1s 13ms/step - loss: 3.9387e-05 - accuracy: 0.0000e+00 - mean_squared_error: 3.9387e-05 - val_loss: 2.6877e-05 - val_accuracy: 0.0000e+00 - val_mean_squared_error: 2.6877e-05\n",
            "Epoch 11/20\n",
            "40/40 [==============================] - 1s 13ms/step - loss: 3.5973e-05 - accuracy: 0.0000e+00 - mean_squared_error: 3.5973e-05 - val_loss: 4.1406e-05 - val_accuracy: 0.0000e+00 - val_mean_squared_error: 4.1406e-05\n",
            "Epoch 12/20\n",
            "40/40 [==============================] - 1s 13ms/step - loss: 3.7233e-05 - accuracy: 0.0000e+00 - mean_squared_error: 3.7233e-05 - val_loss: 3.9066e-05 - val_accuracy: 0.0000e+00 - val_mean_squared_error: 3.9066e-05\n",
            "Epoch 13/20\n",
            "40/40 [==============================] - 1s 13ms/step - loss: 3.9839e-05 - accuracy: 0.0000e+00 - mean_squared_error: 3.9839e-05 - val_loss: 3.7928e-05 - val_accuracy: 0.0000e+00 - val_mean_squared_error: 3.7928e-05\n",
            "Epoch 14/20\n",
            "40/40 [==============================] - 1s 13ms/step - loss: 3.9925e-05 - accuracy: 0.0000e+00 - mean_squared_error: 3.9925e-05 - val_loss: 4.2878e-05 - val_accuracy: 0.0000e+00 - val_mean_squared_error: 4.2878e-05\n",
            "Epoch 15/20\n",
            "40/40 [==============================] - 1s 13ms/step - loss: 4.2432e-05 - accuracy: 0.0000e+00 - mean_squared_error: 4.2432e-05 - val_loss: 4.1406e-05 - val_accuracy: 0.0000e+00 - val_mean_squared_error: 4.1406e-05\n",
            "Epoch 16/20\n",
            "40/40 [==============================] - 1s 13ms/step - loss: 4.3477e-05 - accuracy: 0.0000e+00 - mean_squared_error: 4.3477e-05 - val_loss: 4.0519e-05 - val_accuracy: 0.0000e+00 - val_mean_squared_error: 4.0519e-05\n",
            "Epoch 17/20\n",
            "40/40 [==============================] - 0s 13ms/step - loss: 4.1472e-05 - accuracy: 0.0000e+00 - mean_squared_error: 4.1472e-05 - val_loss: 4.2726e-05 - val_accuracy: 0.0000e+00 - val_mean_squared_error: 4.2726e-05\n",
            "Epoch 18/20\n",
            "40/40 [==============================] - 1s 14ms/step - loss: 3.5861e-05 - accuracy: 0.0000e+00 - mean_squared_error: 3.5861e-05 - val_loss: 5.6617e-05 - val_accuracy: 0.0000e+00 - val_mean_squared_error: 5.6617e-05\n",
            "Epoch 19/20\n",
            "40/40 [==============================] - 0s 12ms/step - loss: 6.0776e-05 - accuracy: 0.0000e+00 - mean_squared_error: 6.0776e-05 - val_loss: 3.3920e-05 - val_accuracy: 0.0000e+00 - val_mean_squared_error: 3.3920e-05\n",
            "Epoch 20/20\n",
            "40/40 [==============================] - 1s 13ms/step - loss: 3.1941e-05 - accuracy: 0.0000e+00 - mean_squared_error: 3.1941e-05 - val_loss: 2.6150e-05 - val_accuracy: 0.0000e+00 - val_mean_squared_error: 2.6150e-05\n",
            "32/32 [==============================] - 0s 1ms/step\n",
            "29.836472402833405 0.004996061 2.0881596\n",
            "32.745491628777316\n",
            "Epoch 1/20\n"
          ]
        },
        {
          "name": "stderr",
          "output_type": "stream",
          "text": [
            "2023-12-06 22:50:47.134520: I tensorflow/core/common_runtime/gpu/gpu_device.cc:1886] Created device /device:GPU:0 with 20609 MB memory:  -> device: 0, name: NVIDIA L4, pci bus id: 0000:00:03.0, compute capability: 8.9\n"
          ]
        },
        {
          "name": "stdout",
          "output_type": "stream",
          "text": [
            "40/40 [==============================] - 2s 16ms/step - loss: 0.0036 - accuracy: 0.0000e+00 - mean_squared_error: 0.0036 - val_loss: 2.2967e-04 - val_accuracy: 0.0000e+00 - val_mean_squared_error: 2.2967e-04\n",
            "Epoch 2/20\n",
            "31/40 [======================>.......] - ETA: 0s - loss: 9.6453e-05 - accuracy: 0.0000e+00 - mean_squared_error: 9.6453e-05"
          ]
        },
        {
          "name": "stderr",
          "output_type": "stream",
          "text": [
            "2023-12-06 22:50:48.874448: I tensorflow/core/framework/local_rendezvous.cc:421] Local rendezvous recv item cancelled. Key hash: 12749084622472637211\n",
            "2023-12-06 22:50:48.874507: I tensorflow/core/framework/local_rendezvous.cc:421] Local rendezvous recv item cancelled. Key hash: 10316076964217112533\n"
          ]
        },
        {
          "name": "stdout",
          "output_type": "stream",
          "text": [
            "40/40 [==============================] - 1s 13ms/step - loss: 8.3257e-05 - accuracy: 0.0000e+00 - mean_squared_error: 8.3257e-05 - val_loss: 2.5468e-05 - val_accuracy: 0.0000e+00 - val_mean_squared_error: 2.5468e-05\n",
            "Epoch 3/20\n",
            "40/40 [==============================] - 0s 13ms/step - loss: 2.6010e-05 - accuracy: 0.0000e+00 - mean_squared_error: 2.6010e-05 - val_loss: 2.4034e-05 - val_accuracy: 0.0000e+00 - val_mean_squared_error: 2.4034e-05\n",
            "Epoch 4/20\n",
            "40/40 [==============================] - 1s 14ms/step - loss: 2.3909e-05 - accuracy: 0.0000e+00 - mean_squared_error: 2.3909e-05 - val_loss: 2.3398e-05 - val_accuracy: 0.0000e+00 - val_mean_squared_error: 2.3398e-05\n",
            "Epoch 5/20\n",
            "40/40 [==============================] - 1s 13ms/step - loss: 2.3780e-05 - accuracy: 0.0000e+00 - mean_squared_error: 2.3780e-05 - val_loss: 2.3415e-05 - val_accuracy: 0.0000e+00 - val_mean_squared_error: 2.3415e-05\n",
            "Epoch 6/20\n",
            "40/40 [==============================] - 1s 13ms/step - loss: 2.3739e-05 - accuracy: 0.0000e+00 - mean_squared_error: 2.3739e-05 - val_loss: 2.3650e-05 - val_accuracy: 0.0000e+00 - val_mean_squared_error: 2.3650e-05\n",
            "Epoch 7/20\n",
            "40/40 [==============================] - 0s 12ms/step - loss: 2.3739e-05 - accuracy: 0.0000e+00 - mean_squared_error: 2.3739e-05 - val_loss: 2.3353e-05 - val_accuracy: 0.0000e+00 - val_mean_squared_error: 2.3353e-05\n",
            "Epoch 8/20\n",
            "40/40 [==============================] - 1s 13ms/step - loss: 2.3614e-05 - accuracy: 0.0000e+00 - mean_squared_error: 2.3614e-05 - val_loss: 2.3253e-05 - val_accuracy: 0.0000e+00 - val_mean_squared_error: 2.3253e-05\n",
            "Epoch 9/20\n",
            "40/40 [==============================] - 1s 13ms/step - loss: 2.3545e-05 - accuracy: 0.0000e+00 - mean_squared_error: 2.3545e-05 - val_loss: 2.3273e-05 - val_accuracy: 0.0000e+00 - val_mean_squared_error: 2.3273e-05\n",
            "Epoch 10/20\n",
            "40/40 [==============================] - 1s 13ms/step - loss: 2.3553e-05 - accuracy: 0.0000e+00 - mean_squared_error: 2.3553e-05 - val_loss: 2.3433e-05 - val_accuracy: 0.0000e+00 - val_mean_squared_error: 2.3433e-05\n",
            "Epoch 11/20\n",
            "40/40 [==============================] - 1s 13ms/step - loss: 2.3548e-05 - accuracy: 0.0000e+00 - mean_squared_error: 2.3548e-05 - val_loss: 2.3630e-05 - val_accuracy: 0.0000e+00 - val_mean_squared_error: 2.3630e-05\n",
            "Epoch 12/20\n",
            "40/40 [==============================] - 1s 13ms/step - loss: 2.3529e-05 - accuracy: 0.0000e+00 - mean_squared_error: 2.3529e-05 - val_loss: 2.3549e-05 - val_accuracy: 0.0000e+00 - val_mean_squared_error: 2.3549e-05\n",
            "Epoch 13/20\n",
            "40/40 [==============================] - 1s 14ms/step - loss: 2.3533e-05 - accuracy: 0.0000e+00 - mean_squared_error: 2.3533e-05 - val_loss: 2.3770e-05 - val_accuracy: 0.0000e+00 - val_mean_squared_error: 2.3770e-05\n",
            "Epoch 14/20\n",
            "40/40 [==============================] - 1s 13ms/step - loss: 2.3588e-05 - accuracy: 0.0000e+00 - mean_squared_error: 2.3588e-05 - val_loss: 2.4424e-05 - val_accuracy: 0.0000e+00 - val_mean_squared_error: 2.4424e-05\n",
            "Epoch 15/20\n",
            "40/40 [==============================] - 1s 13ms/step - loss: 2.3622e-05 - accuracy: 0.0000e+00 - mean_squared_error: 2.3622e-05 - val_loss: 2.4912e-05 - val_accuracy: 0.0000e+00 - val_mean_squared_error: 2.4912e-05\n",
            "Epoch 16/20\n",
            "40/40 [==============================] - 1s 13ms/step - loss: 2.3631e-05 - accuracy: 0.0000e+00 - mean_squared_error: 2.3631e-05 - val_loss: 2.4661e-05 - val_accuracy: 0.0000e+00 - val_mean_squared_error: 2.4661e-05\n",
            "Epoch 17/20\n",
            "40/40 [==============================] - 1s 13ms/step - loss: 2.3690e-05 - accuracy: 0.0000e+00 - mean_squared_error: 2.3690e-05 - val_loss: 2.4787e-05 - val_accuracy: 0.0000e+00 - val_mean_squared_error: 2.4787e-05\n",
            "Epoch 18/20\n",
            "40/40 [==============================] - 1s 13ms/step - loss: 2.3832e-05 - accuracy: 0.0000e+00 - mean_squared_error: 2.3832e-05 - val_loss: 2.4795e-05 - val_accuracy: 0.0000e+00 - val_mean_squared_error: 2.4795e-05\n",
            "Epoch 19/20\n",
            "40/40 [==============================] - 0s 13ms/step - loss: 2.3979e-05 - accuracy: 0.0000e+00 - mean_squared_error: 2.3979e-05 - val_loss: 2.3888e-05 - val_accuracy: 0.0000e+00 - val_mean_squared_error: 2.3888e-05\n",
            "Epoch 20/20\n",
            "40/40 [==============================] - 0s 12ms/step - loss: 2.3932e-05 - accuracy: 0.0000e+00 - mean_squared_error: 2.3932e-05 - val_loss: 2.3056e-05 - val_accuracy: 0.0000e+00 - val_mean_squared_error: 2.3056e-05\n",
            "32/32 [==============================] - 0s 1ms/step\n",
            "32.745491628777316 0.004740911 2.044956\n",
            "35.938136638046295\n",
            "Epoch 1/20\n"
          ]
        },
        {
          "name": "stderr",
          "output_type": "stream",
          "text": [
            "2023-12-06 22:50:59.273066: I tensorflow/core/common_runtime/gpu/gpu_device.cc:1886] Created device /device:GPU:0 with 20609 MB memory:  -> device: 0, name: NVIDIA L4, pci bus id: 0000:00:03.0, compute capability: 8.9\n"
          ]
        },
        {
          "name": "stdout",
          "output_type": "stream",
          "text": [
            "     31/Unknown - 1s 5ms/step - loss: 0.0019 - accuracy: 0.0000e+00 - mean_squared_error: 0.0019   "
          ]
        },
        {
          "name": "stderr",
          "output_type": "stream",
          "text": [
            "2023-12-06 22:51:00.571278: I tensorflow/core/framework/local_rendezvous.cc:421] Local rendezvous recv item cancelled. Key hash: 12749084622472637211\n"
          ]
        },
        {
          "name": "stdout",
          "output_type": "stream",
          "text": [
            "40/40 [==============================] - 2s 16ms/step - loss: 0.0015 - accuracy: 0.0000e+00 - mean_squared_error: 0.0015 - val_loss: 2.6644e-04 - val_accuracy: 0.0000e+00 - val_mean_squared_error: 2.6644e-04\n",
            "Epoch 2/20\n",
            "30/40 [=====================>........] - ETA: 0s - loss: 7.8214e-05 - accuracy: 0.0000e+00 - mean_squared_error: 7.8214e-05"
          ]
        },
        {
          "name": "stderr",
          "output_type": "stream",
          "text": [
            "2023-12-06 22:51:00.990708: I tensorflow/core/framework/local_rendezvous.cc:421] Local rendezvous recv item cancelled. Key hash: 10316076964217112533\n"
          ]
        },
        {
          "name": "stdout",
          "output_type": "stream",
          "text": [
            "40/40 [==============================] - 1s 13ms/step - loss: 6.7527e-05 - accuracy: 0.0000e+00 - mean_squared_error: 6.7527e-05 - val_loss: 3.3053e-05 - val_accuracy: 0.0000e+00 - val_mean_squared_error: 3.3053e-05\n",
            "Epoch 3/20\n",
            "40/40 [==============================] - 1s 13ms/step - loss: 2.6385e-05 - accuracy: 0.0000e+00 - mean_squared_error: 2.6385e-05 - val_loss: 3.6305e-05 - val_accuracy: 0.0000e+00 - val_mean_squared_error: 3.6305e-05\n",
            "Epoch 4/20\n",
            "40/40 [==============================] - 1s 13ms/step - loss: 2.6090e-05 - accuracy: 0.0000e+00 - mean_squared_error: 2.6090e-05 - val_loss: 2.7255e-05 - val_accuracy: 0.0000e+00 - val_mean_squared_error: 2.7255e-05\n",
            "Epoch 5/20\n",
            "40/40 [==============================] - 1s 13ms/step - loss: 2.4942e-05 - accuracy: 0.0000e+00 - mean_squared_error: 2.4942e-05 - val_loss: 2.7369e-05 - val_accuracy: 0.0000e+00 - val_mean_squared_error: 2.7369e-05\n",
            "Epoch 6/20\n",
            "40/40 [==============================] - 1s 14ms/step - loss: 2.5120e-05 - accuracy: 0.0000e+00 - mean_squared_error: 2.5120e-05 - val_loss: 2.4830e-05 - val_accuracy: 0.0000e+00 - val_mean_squared_error: 2.4830e-05\n",
            "Epoch 7/20\n",
            "40/40 [==============================] - 1s 13ms/step - loss: 2.4737e-05 - accuracy: 0.0000e+00 - mean_squared_error: 2.4737e-05 - val_loss: 2.6984e-05 - val_accuracy: 0.0000e+00 - val_mean_squared_error: 2.6984e-05\n",
            "Epoch 8/20\n",
            "40/40 [==============================] - 1s 13ms/step - loss: 2.4442e-05 - accuracy: 0.0000e+00 - mean_squared_error: 2.4442e-05 - val_loss: 3.2427e-05 - val_accuracy: 0.0000e+00 - val_mean_squared_error: 3.2427e-05\n",
            "Epoch 9/20\n",
            "40/40 [==============================] - 1s 13ms/step - loss: 2.5390e-05 - accuracy: 0.0000e+00 - mean_squared_error: 2.5390e-05 - val_loss: 2.8802e-05 - val_accuracy: 0.0000e+00 - val_mean_squared_error: 2.8802e-05\n",
            "Epoch 10/20\n",
            "40/40 [==============================] - 1s 13ms/step - loss: 2.5929e-05 - accuracy: 0.0000e+00 - mean_squared_error: 2.5929e-05 - val_loss: 2.8341e-05 - val_accuracy: 0.0000e+00 - val_mean_squared_error: 2.8341e-05\n",
            "Epoch 11/20\n",
            "40/40 [==============================] - 1s 13ms/step - loss: 3.2997e-05 - accuracy: 0.0000e+00 - mean_squared_error: 3.2997e-05 - val_loss: 2.6107e-05 - val_accuracy: 0.0000e+00 - val_mean_squared_error: 2.6107e-05\n",
            "Epoch 12/20\n",
            "40/40 [==============================] - 1s 13ms/step - loss: 3.7369e-05 - accuracy: 0.0000e+00 - mean_squared_error: 3.7369e-05 - val_loss: 2.6355e-05 - val_accuracy: 0.0000e+00 - val_mean_squared_error: 2.6355e-05\n",
            "Epoch 13/20\n",
            "40/40 [==============================] - 0s 12ms/step - loss: 3.2988e-05 - accuracy: 0.0000e+00 - mean_squared_error: 3.2988e-05 - val_loss: 5.8919e-05 - val_accuracy: 0.0000e+00 - val_mean_squared_error: 5.8919e-05\n",
            "Epoch 14/20\n",
            "40/40 [==============================] - 1s 13ms/step - loss: 4.1096e-05 - accuracy: 0.0000e+00 - mean_squared_error: 4.1096e-05 - val_loss: 6.2048e-05 - val_accuracy: 0.0000e+00 - val_mean_squared_error: 6.2048e-05\n",
            "Epoch 15/20\n",
            "40/40 [==============================] - 0s 12ms/step - loss: 4.1324e-05 - accuracy: 0.0000e+00 - mean_squared_error: 4.1324e-05 - val_loss: 5.9403e-05 - val_accuracy: 0.0000e+00 - val_mean_squared_error: 5.9403e-05\n",
            "Epoch 16/20\n",
            "40/40 [==============================] - 1s 13ms/step - loss: 4.0770e-05 - accuracy: 0.0000e+00 - mean_squared_error: 4.0770e-05 - val_loss: 6.6220e-05 - val_accuracy: 0.0000e+00 - val_mean_squared_error: 6.6220e-05\n",
            "Epoch 17/20\n",
            "40/40 [==============================] - 1s 13ms/step - loss: 4.1777e-05 - accuracy: 0.0000e+00 - mean_squared_error: 4.1777e-05 - val_loss: 6.8516e-05 - val_accuracy: 0.0000e+00 - val_mean_squared_error: 6.8516e-05\n",
            "Epoch 18/20\n",
            "40/40 [==============================] - 1s 13ms/step - loss: 4.1591e-05 - accuracy: 0.0000e+00 - mean_squared_error: 4.1591e-05 - val_loss: 6.9761e-05 - val_accuracy: 0.0000e+00 - val_mean_squared_error: 6.9761e-05\n",
            "Epoch 19/20\n",
            "40/40 [==============================] - 0s 12ms/step - loss: 4.0725e-05 - accuracy: 0.0000e+00 - mean_squared_error: 4.0725e-05 - val_loss: 7.0686e-05 - val_accuracy: 0.0000e+00 - val_mean_squared_error: 7.0686e-05\n",
            "Epoch 20/20\n",
            "40/40 [==============================] - 1s 13ms/step - loss: 3.9241e-05 - accuracy: 0.0000e+00 - mean_squared_error: 3.9241e-05 - val_loss: 6.1971e-05 - val_accuracy: 0.0000e+00 - val_mean_squared_error: 6.1971e-05\n",
            "32/32 [==============================] - 0s 1ms/step\n",
            "35.938136638046295 0.0077790683 2.0277998\n",
            "39.4420605943766\n",
            "Epoch 1/20\n"
          ]
        },
        {
          "name": "stderr",
          "output_type": "stream",
          "text": [
            "2023-12-06 22:51:11.372305: I tensorflow/core/common_runtime/gpu/gpu_device.cc:1886] Created device /device:GPU:0 with 20609 MB memory:  -> device: 0, name: NVIDIA L4, pci bus id: 0000:00:03.0, compute capability: 8.9\n"
          ]
        },
        {
          "name": "stdout",
          "output_type": "stream",
          "text": [
            "     31/Unknown - 1s 5ms/step - loss: 0.0043 - accuracy: 0.0000e+00 - mean_squared_error: 0.0043   "
          ]
        },
        {
          "name": "stderr",
          "output_type": "stream",
          "text": [
            "2023-12-06 22:51:12.674055: I tensorflow/core/framework/local_rendezvous.cc:421] Local rendezvous recv item cancelled. Key hash: 12749084622472637211\n"
          ]
        },
        {
          "name": "stdout",
          "output_type": "stream",
          "text": [
            "40/40 [==============================] - 2s 17ms/step - loss: 0.0035 - accuracy: 0.0000e+00 - mean_squared_error: 0.0035 - val_loss: 1.8901e-04 - val_accuracy: 0.0000e+00 - val_mean_squared_error: 1.8901e-04\n",
            "Epoch 2/20\n",
            "29/40 [====================>.........] - ETA: 0s - loss: 9.0057e-05 - accuracy: 0.0000e+00 - mean_squared_error: 9.0057e-05"
          ]
        },
        {
          "name": "stderr",
          "output_type": "stream",
          "text": [
            "2023-12-06 22:51:13.103661: I tensorflow/core/framework/local_rendezvous.cc:421] Local rendezvous recv item cancelled. Key hash: 12749084622472637211\n",
            "2023-12-06 22:51:13.103717: I tensorflow/core/framework/local_rendezvous.cc:421] Local rendezvous recv item cancelled. Key hash: 10316076964217112533\n"
          ]
        },
        {
          "name": "stdout",
          "output_type": "stream",
          "text": [
            "40/40 [==============================] - 1s 13ms/step - loss: 7.6065e-05 - accuracy: 0.0000e+00 - mean_squared_error: 7.6065e-05 - val_loss: 2.4875e-05 - val_accuracy: 0.0000e+00 - val_mean_squared_error: 2.4875e-05\n",
            "Epoch 3/20\n",
            "40/40 [==============================] - 1s 13ms/step - loss: 2.5166e-05 - accuracy: 0.0000e+00 - mean_squared_error: 2.5166e-05 - val_loss: 2.3628e-05 - val_accuracy: 0.0000e+00 - val_mean_squared_error: 2.3628e-05\n",
            "Epoch 4/20\n",
            "40/40 [==============================] - 1s 13ms/step - loss: 2.3409e-05 - accuracy: 0.0000e+00 - mean_squared_error: 2.3409e-05 - val_loss: 2.3187e-05 - val_accuracy: 0.0000e+00 - val_mean_squared_error: 2.3187e-05\n",
            "Epoch 5/20\n",
            "40/40 [==============================] - 1s 13ms/step - loss: 2.3279e-05 - accuracy: 0.0000e+00 - mean_squared_error: 2.3279e-05 - val_loss: 2.3148e-05 - val_accuracy: 0.0000e+00 - val_mean_squared_error: 2.3148e-05\n",
            "Epoch 6/20\n",
            "40/40 [==============================] - 1s 13ms/step - loss: 2.3241e-05 - accuracy: 0.0000e+00 - mean_squared_error: 2.3241e-05 - val_loss: 2.3170e-05 - val_accuracy: 0.0000e+00 - val_mean_squared_error: 2.3170e-05\n",
            "Epoch 7/20\n",
            "40/40 [==============================] - 1s 15ms/step - loss: 2.3226e-05 - accuracy: 0.0000e+00 - mean_squared_error: 2.3226e-05 - val_loss: 2.3104e-05 - val_accuracy: 0.0000e+00 - val_mean_squared_error: 2.3104e-05\n",
            "Epoch 8/20\n",
            "40/40 [==============================] - 1s 13ms/step - loss: 2.3196e-05 - accuracy: 0.0000e+00 - mean_squared_error: 2.3196e-05 - val_loss: 2.3020e-05 - val_accuracy: 0.0000e+00 - val_mean_squared_error: 2.3020e-05\n",
            "Epoch 9/20\n",
            "40/40 [==============================] - 1s 13ms/step - loss: 2.3188e-05 - accuracy: 0.0000e+00 - mean_squared_error: 2.3188e-05 - val_loss: 2.3002e-05 - val_accuracy: 0.0000e+00 - val_mean_squared_error: 2.3002e-05\n",
            "Epoch 10/20\n",
            "40/40 [==============================] - 1s 13ms/step - loss: 2.3192e-05 - accuracy: 0.0000e+00 - mean_squared_error: 2.3192e-05 - val_loss: 2.3002e-05 - val_accuracy: 0.0000e+00 - val_mean_squared_error: 2.3002e-05\n",
            "Epoch 11/20\n",
            "40/40 [==============================] - 1s 13ms/step - loss: 2.3206e-05 - accuracy: 0.0000e+00 - mean_squared_error: 2.3206e-05 - val_loss: 2.3011e-05 - val_accuracy: 0.0000e+00 - val_mean_squared_error: 2.3011e-05\n",
            "Epoch 12/20\n",
            "40/40 [==============================] - 1s 13ms/step - loss: 2.3239e-05 - accuracy: 0.0000e+00 - mean_squared_error: 2.3239e-05 - val_loss: 2.3063e-05 - val_accuracy: 0.0000e+00 - val_mean_squared_error: 2.3063e-05\n",
            "Epoch 13/20\n",
            "40/40 [==============================] - 1s 13ms/step - loss: 2.3304e-05 - accuracy: 0.0000e+00 - mean_squared_error: 2.3304e-05 - val_loss: 2.3375e-05 - val_accuracy: 0.0000e+00 - val_mean_squared_error: 2.3375e-05\n",
            "Epoch 14/20\n",
            "40/40 [==============================] - 1s 13ms/step - loss: 2.3403e-05 - accuracy: 0.0000e+00 - mean_squared_error: 2.3403e-05 - val_loss: 2.3763e-05 - val_accuracy: 0.0000e+00 - val_mean_squared_error: 2.3763e-05\n",
            "Epoch 15/20\n",
            "40/40 [==============================] - 1s 13ms/step - loss: 2.3407e-05 - accuracy: 0.0000e+00 - mean_squared_error: 2.3407e-05 - val_loss: 2.3323e-05 - val_accuracy: 0.0000e+00 - val_mean_squared_error: 2.3323e-05\n",
            "Epoch 16/20\n",
            "40/40 [==============================] - 1s 13ms/step - loss: 2.3263e-05 - accuracy: 0.0000e+00 - mean_squared_error: 2.3263e-05 - val_loss: 2.2887e-05 - val_accuracy: 0.0000e+00 - val_mean_squared_error: 2.2887e-05\n",
            "Epoch 17/20\n",
            "40/40 [==============================] - 1s 14ms/step - loss: 2.3239e-05 - accuracy: 0.0000e+00 - mean_squared_error: 2.3239e-05 - val_loss: 2.2746e-05 - val_accuracy: 0.0000e+00 - val_mean_squared_error: 2.2746e-05\n",
            "Epoch 18/20\n",
            "40/40 [==============================] - 1s 13ms/step - loss: 2.3272e-05 - accuracy: 0.0000e+00 - mean_squared_error: 2.3272e-05 - val_loss: 2.2689e-05 - val_accuracy: 0.0000e+00 - val_mean_squared_error: 2.2689e-05\n",
            "Epoch 19/20\n",
            "40/40 [==============================] - 1s 13ms/step - loss: 2.3290e-05 - accuracy: 0.0000e+00 - mean_squared_error: 2.3290e-05 - val_loss: 2.2760e-05 - val_accuracy: 0.0000e+00 - val_mean_squared_error: 2.2760e-05\n",
            "Epoch 20/20\n",
            "40/40 [==============================] - 1s 14ms/step - loss: 2.3196e-05 - accuracy: 0.0000e+00 - mean_squared_error: 2.3196e-05 - val_loss: 2.3318e-05 - val_accuracy: 0.0000e+00 - val_mean_squared_error: 2.3318e-05\n",
            "32/32 [==============================] - 0s 1ms/step\n",
            "39.4420605943766 0.0048097526 2.0617456\n",
            "43.287612810830616\n",
            "Epoch 1/20\n"
          ]
        },
        {
          "name": "stderr",
          "output_type": "stream",
          "text": [
            "2023-12-06 22:51:23.711599: I tensorflow/core/common_runtime/gpu/gpu_device.cc:1886] Created device /device:GPU:0 with 20609 MB memory:  -> device: 0, name: NVIDIA L4, pci bus id: 0000:00:03.0, compute capability: 8.9\n"
          ]
        },
        {
          "name": "stdout",
          "output_type": "stream",
          "text": [
            "     38/Unknown - 1s 6ms/step - loss: 0.0033 - accuracy: 0.0000e+00 - mean_squared_error: 0.0033 "
          ]
        },
        {
          "name": "stderr",
          "output_type": "stream",
          "text": [
            "2023-12-06 22:51:25.037589: I tensorflow/core/framework/local_rendezvous.cc:425] Local rendezvous send item cancelled. Key hash: 3632331790298042566\n",
            "2023-12-06 22:51:25.037651: I tensorflow/core/framework/local_rendezvous.cc:421] Local rendezvous recv item cancelled. Key hash: 12749084622472637211\n",
            "2023-12-06 22:51:25.037676: I tensorflow/core/framework/local_rendezvous.cc:421] Local rendezvous recv item cancelled. Key hash: 10316076964217112533\n"
          ]
        },
        {
          "name": "stdout",
          "output_type": "stream",
          "text": [
            "40/40 [==============================] - 3s 61ms/step - loss: 0.0032 - accuracy: 0.0000e+00 - mean_squared_error: 0.0032 - val_loss: 4.3403e-05 - val_accuracy: 0.0000e+00 - val_mean_squared_error: 4.3403e-05\n",
            "Epoch 2/20\n",
            "27/40 [===================>..........] - ETA: 0s - loss: 9.7274e-05 - accuracy: 0.0000e+00 - mean_squared_error: 9.7274e-05"
          ]
        },
        {
          "name": "stderr",
          "output_type": "stream",
          "text": [
            "2023-12-06 22:51:27.172011: I tensorflow/core/framework/local_rendezvous.cc:421] Local rendezvous recv item cancelled. Key hash: 12749084622472637211\n",
            "2023-12-06 22:51:27.172075: I tensorflow/core/framework/local_rendezvous.cc:421] Local rendezvous recv item cancelled. Key hash: 10316076964217112533\n"
          ]
        },
        {
          "name": "stdout",
          "output_type": "stream",
          "text": [
            "40/40 [==============================] - 1s 14ms/step - loss: 7.7151e-05 - accuracy: 0.0000e+00 - mean_squared_error: 7.7151e-05 - val_loss: 3.0404e-05 - val_accuracy: 0.0000e+00 - val_mean_squared_error: 3.0404e-05\n",
            "Epoch 3/20\n",
            "40/40 [==============================] - 1s 13ms/step - loss: 2.4718e-05 - accuracy: 0.0000e+00 - mean_squared_error: 2.4718e-05 - val_loss: 2.3285e-05 - val_accuracy: 0.0000e+00 - val_mean_squared_error: 2.3285e-05\n",
            "Epoch 4/20\n",
            "40/40 [==============================] - 1s 13ms/step - loss: 2.3367e-05 - accuracy: 0.0000e+00 - mean_squared_error: 2.3367e-05 - val_loss: 2.3049e-05 - val_accuracy: 0.0000e+00 - val_mean_squared_error: 2.3049e-05\n",
            "Epoch 5/20\n",
            "40/40 [==============================] - 1s 13ms/step - loss: 2.3195e-05 - accuracy: 0.0000e+00 - mean_squared_error: 2.3195e-05 - val_loss: 2.3139e-05 - val_accuracy: 0.0000e+00 - val_mean_squared_error: 2.3139e-05\n",
            "Epoch 6/20\n",
            "40/40 [==============================] - 1s 13ms/step - loss: 2.3200e-05 - accuracy: 0.0000e+00 - mean_squared_error: 2.3200e-05 - val_loss: 2.3216e-05 - val_accuracy: 0.0000e+00 - val_mean_squared_error: 2.3216e-05\n",
            "Epoch 7/20\n",
            "40/40 [==============================] - 1s 13ms/step - loss: 2.3219e-05 - accuracy: 0.0000e+00 - mean_squared_error: 2.3219e-05 - val_loss: 2.3183e-05 - val_accuracy: 0.0000e+00 - val_mean_squared_error: 2.3183e-05\n",
            "Epoch 8/20\n",
            "40/40 [==============================] - 1s 13ms/step - loss: 2.3266e-05 - accuracy: 0.0000e+00 - mean_squared_error: 2.3266e-05 - val_loss: 2.3392e-05 - val_accuracy: 0.0000e+00 - val_mean_squared_error: 2.3392e-05\n",
            "Epoch 9/20\n",
            "40/40 [==============================] - 1s 13ms/step - loss: 2.3415e-05 - accuracy: 0.0000e+00 - mean_squared_error: 2.3415e-05 - val_loss: 2.3287e-05 - val_accuracy: 0.0000e+00 - val_mean_squared_error: 2.3287e-05\n",
            "Epoch 10/20\n",
            "40/40 [==============================] - 1s 13ms/step - loss: 2.3449e-05 - accuracy: 0.0000e+00 - mean_squared_error: 2.3449e-05 - val_loss: 2.3154e-05 - val_accuracy: 0.0000e+00 - val_mean_squared_error: 2.3154e-05\n",
            "Epoch 11/20\n",
            "40/40 [==============================] - 1s 13ms/step - loss: 2.3215e-05 - accuracy: 0.0000e+00 - mean_squared_error: 2.3215e-05 - val_loss: 2.3049e-05 - val_accuracy: 0.0000e+00 - val_mean_squared_error: 2.3049e-05\n",
            "Epoch 12/20\n",
            "40/40 [==============================] - 1s 13ms/step - loss: 2.3145e-05 - accuracy: 0.0000e+00 - mean_squared_error: 2.3145e-05 - val_loss: 2.3098e-05 - val_accuracy: 0.0000e+00 - val_mean_squared_error: 2.3098e-05\n",
            "Epoch 13/20\n",
            "40/40 [==============================] - 1s 16ms/step - loss: 2.3148e-05 - accuracy: 0.0000e+00 - mean_squared_error: 2.3148e-05 - val_loss: 2.3261e-05 - val_accuracy: 0.0000e+00 - val_mean_squared_error: 2.3261e-05\n",
            "Epoch 14/20\n",
            "40/40 [==============================] - 1s 13ms/step - loss: 2.3119e-05 - accuracy: 0.0000e+00 - mean_squared_error: 2.3119e-05 - val_loss: 2.3088e-05 - val_accuracy: 0.0000e+00 - val_mean_squared_error: 2.3088e-05\n",
            "Epoch 15/20\n",
            "40/40 [==============================] - 1s 13ms/step - loss: 2.3069e-05 - accuracy: 0.0000e+00 - mean_squared_error: 2.3069e-05 - val_loss: 2.3001e-05 - val_accuracy: 0.0000e+00 - val_mean_squared_error: 2.3001e-05\n",
            "Epoch 16/20\n",
            "40/40 [==============================] - 1s 13ms/step - loss: 2.3094e-05 - accuracy: 0.0000e+00 - mean_squared_error: 2.3094e-05 - val_loss: 2.3022e-05 - val_accuracy: 0.0000e+00 - val_mean_squared_error: 2.3022e-05\n",
            "Epoch 17/20\n",
            "40/40 [==============================] - 0s 12ms/step - loss: 2.3180e-05 - accuracy: 0.0000e+00 - mean_squared_error: 2.3180e-05 - val_loss: 2.3168e-05 - val_accuracy: 0.0000e+00 - val_mean_squared_error: 2.3168e-05\n",
            "Epoch 18/20\n",
            "40/40 [==============================] - 1s 13ms/step - loss: 2.3184e-05 - accuracy: 0.0000e+00 - mean_squared_error: 2.3184e-05 - val_loss: 2.3280e-05 - val_accuracy: 0.0000e+00 - val_mean_squared_error: 2.3280e-05\n",
            "Epoch 19/20\n",
            "40/40 [==============================] - 1s 13ms/step - loss: 2.3017e-05 - accuracy: 0.0000e+00 - mean_squared_error: 2.3017e-05 - val_loss: 2.2993e-05 - val_accuracy: 0.0000e+00 - val_mean_squared_error: 2.2993e-05\n",
            "Epoch 20/20\n",
            "40/40 [==============================] - 1s 13ms/step - loss: 2.2959e-05 - accuracy: 0.0000e+00 - mean_squared_error: 2.2959e-05 - val_loss: 2.2930e-05 - val_accuracy: 0.0000e+00 - val_mean_squared_error: 2.2930e-05\n",
            "32/32 [==============================] - 0s 1ms/step\n",
            "43.287612810830616 0.0046620644 2.1177154\n",
            "47.50810162102798\n",
            "Epoch 1/20\n"
          ]
        },
        {
          "name": "stderr",
          "output_type": "stream",
          "text": [
            "2023-12-06 22:51:37.760137: I tensorflow/core/common_runtime/gpu/gpu_device.cc:1886] Created device /device:GPU:0 with 20609 MB memory:  -> device: 0, name: NVIDIA L4, pci bus id: 0000:00:03.0, compute capability: 8.9\n"
          ]
        },
        {
          "name": "stdout",
          "output_type": "stream",
          "text": [
            "     37/Unknown - 1s 6ms/step - loss: 7.4713e-04 - accuracy: 0.0000e+00 - mean_squared_error: 7.4713e-04"
          ]
        },
        {
          "name": "stderr",
          "output_type": "stream",
          "text": [
            "2023-12-06 22:51:39.104245: I tensorflow/core/framework/local_rendezvous.cc:425] Local rendezvous send item cancelled. Key hash: 3632331790298042566\n",
            "2023-12-06 22:51:39.104306: I tensorflow/core/framework/local_rendezvous.cc:421] Local rendezvous recv item cancelled. Key hash: 12749084622472637211\n",
            "2023-12-06 22:51:39.104332: I tensorflow/core/framework/local_rendezvous.cc:421] Local rendezvous recv item cancelled. Key hash: 10316076964217112533\n"
          ]
        },
        {
          "name": "stdout",
          "output_type": "stream",
          "text": [
            "40/40 [==============================] - 2s 17ms/step - loss: 7.1330e-04 - accuracy: 0.0000e+00 - mean_squared_error: 7.1330e-04 - val_loss: 3.7102e-05 - val_accuracy: 0.0000e+00 - val_mean_squared_error: 3.7102e-05\n",
            "Epoch 2/20\n",
            "29/40 [====================>.........] - ETA: 0s - loss: 3.8207e-05 - accuracy: 0.0000e+00 - mean_squared_error: 3.8207e-05"
          ]
        },
        {
          "name": "stderr",
          "output_type": "stream",
          "text": [
            "2023-12-06 22:51:39.519532: I tensorflow/core/framework/local_rendezvous.cc:421] Local rendezvous recv item cancelled. Key hash: 12749084622472637211\n",
            "2023-12-06 22:51:39.519588: I tensorflow/core/framework/local_rendezvous.cc:421] Local rendezvous recv item cancelled. Key hash: 10316076964217112533\n"
          ]
        },
        {
          "name": "stdout",
          "output_type": "stream",
          "text": [
            "40/40 [==============================] - 1s 13ms/step - loss: 3.4816e-05 - accuracy: 0.0000e+00 - mean_squared_error: 3.4816e-05 - val_loss: 2.5772e-05 - val_accuracy: 0.0000e+00 - val_mean_squared_error: 2.5772e-05\n",
            "Epoch 3/20\n",
            "40/40 [==============================] - 1s 13ms/step - loss: 2.4702e-05 - accuracy: 0.0000e+00 - mean_squared_error: 2.4702e-05 - val_loss: 2.4188e-05 - val_accuracy: 0.0000e+00 - val_mean_squared_error: 2.4188e-05\n",
            "Epoch 4/20\n",
            "40/40 [==============================] - 1s 13ms/step - loss: 2.4143e-05 - accuracy: 0.0000e+00 - mean_squared_error: 2.4143e-05 - val_loss: 2.4509e-05 - val_accuracy: 0.0000e+00 - val_mean_squared_error: 2.4509e-05\n",
            "Epoch 5/20\n",
            "40/40 [==============================] - 1s 13ms/step - loss: 2.4495e-05 - accuracy: 0.0000e+00 - mean_squared_error: 2.4495e-05 - val_loss: 2.7698e-05 - val_accuracy: 0.0000e+00 - val_mean_squared_error: 2.7698e-05\n",
            "Epoch 6/20\n",
            "40/40 [==============================] - 1s 13ms/step - loss: 2.5419e-05 - accuracy: 0.0000e+00 - mean_squared_error: 2.5419e-05 - val_loss: 2.3601e-05 - val_accuracy: 0.0000e+00 - val_mean_squared_error: 2.3601e-05\n",
            "Epoch 7/20\n",
            "40/40 [==============================] - 1s 13ms/step - loss: 2.6036e-05 - accuracy: 0.0000e+00 - mean_squared_error: 2.6036e-05 - val_loss: 2.4694e-05 - val_accuracy: 0.0000e+00 - val_mean_squared_error: 2.4694e-05\n",
            "Epoch 8/20\n",
            "40/40 [==============================] - 1s 13ms/step - loss: 2.5577e-05 - accuracy: 0.0000e+00 - mean_squared_error: 2.5577e-05 - val_loss: 2.7295e-05 - val_accuracy: 0.0000e+00 - val_mean_squared_error: 2.7295e-05\n",
            "Epoch 9/20\n",
            "40/40 [==============================] - 1s 13ms/step - loss: 4.6849e-05 - accuracy: 0.0000e+00 - mean_squared_error: 4.6849e-05 - val_loss: 3.6294e-05 - val_accuracy: 0.0000e+00 - val_mean_squared_error: 3.6294e-05\n",
            "Epoch 10/20\n",
            "40/40 [==============================] - 1s 13ms/step - loss: 4.1957e-05 - accuracy: 0.0000e+00 - mean_squared_error: 4.1957e-05 - val_loss: 3.2482e-05 - val_accuracy: 0.0000e+00 - val_mean_squared_error: 3.2482e-05\n",
            "Epoch 11/20\n",
            "40/40 [==============================] - 1s 13ms/step - loss: 3.5874e-05 - accuracy: 0.0000e+00 - mean_squared_error: 3.5874e-05 - val_loss: 7.2041e-05 - val_accuracy: 0.0000e+00 - val_mean_squared_error: 7.2041e-05\n",
            "Epoch 12/20\n",
            "40/40 [==============================] - 1s 13ms/step - loss: 3.9799e-05 - accuracy: 0.0000e+00 - mean_squared_error: 3.9799e-05 - val_loss: 3.0924e-05 - val_accuracy: 0.0000e+00 - val_mean_squared_error: 3.0924e-05\n",
            "Epoch 13/20\n",
            "40/40 [==============================] - 1s 13ms/step - loss: 4.9960e-05 - accuracy: 0.0000e+00 - mean_squared_error: 4.9960e-05 - val_loss: 2.5895e-05 - val_accuracy: 0.0000e+00 - val_mean_squared_error: 2.5895e-05\n",
            "Epoch 14/20\n",
            "40/40 [==============================] - 1s 13ms/step - loss: 6.2543e-05 - accuracy: 0.0000e+00 - mean_squared_error: 6.2543e-05 - val_loss: 6.2962e-05 - val_accuracy: 0.0000e+00 - val_mean_squared_error: 6.2962e-05\n",
            "Epoch 15/20\n",
            "40/40 [==============================] - 1s 13ms/step - loss: 4.2364e-05 - accuracy: 0.0000e+00 - mean_squared_error: 4.2364e-05 - val_loss: 2.5988e-05 - val_accuracy: 0.0000e+00 - val_mean_squared_error: 2.5988e-05\n",
            "Epoch 16/20\n",
            "40/40 [==============================] - 1s 13ms/step - loss: 2.8299e-05 - accuracy: 0.0000e+00 - mean_squared_error: 2.8299e-05 - val_loss: 4.3367e-05 - val_accuracy: 0.0000e+00 - val_mean_squared_error: 4.3367e-05\n",
            "Epoch 17/20\n",
            "40/40 [==============================] - 1s 13ms/step - loss: 5.6792e-05 - accuracy: 0.0000e+00 - mean_squared_error: 5.6792e-05 - val_loss: 2.8180e-05 - val_accuracy: 0.0000e+00 - val_mean_squared_error: 2.8180e-05\n",
            "Epoch 18/20\n",
            "40/40 [==============================] - 1s 13ms/step - loss: 3.4130e-05 - accuracy: 0.0000e+00 - mean_squared_error: 3.4130e-05 - val_loss: 5.3644e-05 - val_accuracy: 0.0000e+00 - val_mean_squared_error: 5.3644e-05\n",
            "Epoch 19/20\n",
            "40/40 [==============================] - 1s 13ms/step - loss: 5.5953e-05 - accuracy: 0.0000e+00 - mean_squared_error: 5.5953e-05 - val_loss: 2.7344e-05 - val_accuracy: 0.0000e+00 - val_mean_squared_error: 2.7344e-05\n",
            "Epoch 20/20\n",
            "40/40 [==============================] - 0s 12ms/step - loss: 3.7257e-05 - accuracy: 0.0000e+00 - mean_squared_error: 3.7257e-05 - val_loss: 4.5303e-05 - val_accuracy: 0.0000e+00 - val_mean_squared_error: 4.5303e-05\n",
            "32/32 [==============================] - 0s 1ms/step\n",
            "47.50810162102798 0.006750546 1.9399505\n",
            "52.140082879996896\n",
            "Epoch 1/20\n"
          ]
        },
        {
          "name": "stderr",
          "output_type": "stream",
          "text": [
            "2023-12-06 22:51:49.928396: I tensorflow/core/common_runtime/gpu/gpu_device.cc:1886] Created device /device:GPU:0 with 20609 MB memory:  -> device: 0, name: NVIDIA L4, pci bus id: 0000:00:03.0, compute capability: 8.9\n"
          ]
        },
        {
          "name": "stdout",
          "output_type": "stream",
          "text": [
            "     36/Unknown - 1s 6ms/step - loss: 0.0033 - accuracy: 0.0000e+00 - mean_squared_error: 0.0033 "
          ]
        },
        {
          "name": "stderr",
          "output_type": "stream",
          "text": [
            "2023-12-06 22:51:51.283783: I tensorflow/core/framework/local_rendezvous.cc:421] Local rendezvous recv item cancelled. Key hash: 10316076964217112533\n"
          ]
        },
        {
          "name": "stdout",
          "output_type": "stream",
          "text": [
            "40/40 [==============================] - 2s 17ms/step - loss: 0.0031 - accuracy: 0.0000e+00 - mean_squared_error: 0.0031 - val_loss: 4.6817e-05 - val_accuracy: 0.0000e+00 - val_mean_squared_error: 4.6817e-05\n",
            "Epoch 2/20\n",
            "31/40 [======================>.......] - ETA: 0s - loss: 8.4120e-05 - accuracy: 0.0000e+00 - mean_squared_error: 8.4120e-05"
          ]
        },
        {
          "name": "stderr",
          "output_type": "stream",
          "text": [
            "2023-12-06 22:51:51.698637: I tensorflow/core/framework/local_rendezvous.cc:421] Local rendezvous recv item cancelled. Key hash: 12749084622472637211\n",
            "2023-12-06 22:51:51.698696: I tensorflow/core/framework/local_rendezvous.cc:421] Local rendezvous recv item cancelled. Key hash: 10316076964217112533\n"
          ]
        },
        {
          "name": "stdout",
          "output_type": "stream",
          "text": [
            "40/40 [==============================] - 1s 14ms/step - loss: 7.2928e-05 - accuracy: 0.0000e+00 - mean_squared_error: 7.2928e-05 - val_loss: 2.9972e-05 - val_accuracy: 0.0000e+00 - val_mean_squared_error: 2.9972e-05\n",
            "Epoch 3/20\n",
            "40/40 [==============================] - 1s 13ms/step - loss: 2.4206e-05 - accuracy: 0.0000e+00 - mean_squared_error: 2.4206e-05 - val_loss: 2.3314e-05 - val_accuracy: 0.0000e+00 - val_mean_squared_error: 2.3314e-05\n",
            "Epoch 4/20\n",
            "40/40 [==============================] - 1s 13ms/step - loss: 2.3200e-05 - accuracy: 0.0000e+00 - mean_squared_error: 2.3200e-05 - val_loss: 2.3136e-05 - val_accuracy: 0.0000e+00 - val_mean_squared_error: 2.3136e-05\n",
            "Epoch 5/20\n",
            "40/40 [==============================] - 0s 13ms/step - loss: 2.3141e-05 - accuracy: 0.0000e+00 - mean_squared_error: 2.3141e-05 - val_loss: 2.3260e-05 - val_accuracy: 0.0000e+00 - val_mean_squared_error: 2.3260e-05\n",
            "Epoch 6/20\n",
            "40/40 [==============================] - 1s 13ms/step - loss: 2.3133e-05 - accuracy: 0.0000e+00 - mean_squared_error: 2.3133e-05 - val_loss: 2.3193e-05 - val_accuracy: 0.0000e+00 - val_mean_squared_error: 2.3193e-05\n",
            "Epoch 7/20\n",
            "40/40 [==============================] - 1s 13ms/step - loss: 2.3064e-05 - accuracy: 0.0000e+00 - mean_squared_error: 2.3064e-05 - val_loss: 2.2935e-05 - val_accuracy: 0.0000e+00 - val_mean_squared_error: 2.2935e-05\n",
            "Epoch 8/20\n",
            "40/40 [==============================] - 1s 13ms/step - loss: 2.3015e-05 - accuracy: 0.0000e+00 - mean_squared_error: 2.3015e-05 - val_loss: 2.2882e-05 - val_accuracy: 0.0000e+00 - val_mean_squared_error: 2.2882e-05\n",
            "Epoch 9/20\n",
            "40/40 [==============================] - 1s 13ms/step - loss: 2.3013e-05 - accuracy: 0.0000e+00 - mean_squared_error: 2.3013e-05 - val_loss: 2.2859e-05 - val_accuracy: 0.0000e+00 - val_mean_squared_error: 2.2859e-05\n",
            "Epoch 10/20\n",
            "40/40 [==============================] - 1s 13ms/step - loss: 2.3018e-05 - accuracy: 0.0000e+00 - mean_squared_error: 2.3018e-05 - val_loss: 2.2930e-05 - val_accuracy: 0.0000e+00 - val_mean_squared_error: 2.2930e-05\n",
            "Epoch 11/20\n",
            "40/40 [==============================] - 1s 14ms/step - loss: 2.3027e-05 - accuracy: 0.0000e+00 - mean_squared_error: 2.3027e-05 - val_loss: 2.2984e-05 - val_accuracy: 0.0000e+00 - val_mean_squared_error: 2.2984e-05\n",
            "Epoch 12/20\n",
            "40/40 [==============================] - 1s 13ms/step - loss: 2.3038e-05 - accuracy: 0.0000e+00 - mean_squared_error: 2.3038e-05 - val_loss: 2.3094e-05 - val_accuracy: 0.0000e+00 - val_mean_squared_error: 2.3094e-05\n",
            "Epoch 13/20\n",
            "40/40 [==============================] - 1s 13ms/step - loss: 2.3061e-05 - accuracy: 0.0000e+00 - mean_squared_error: 2.3061e-05 - val_loss: 2.2987e-05 - val_accuracy: 0.0000e+00 - val_mean_squared_error: 2.2987e-05\n",
            "Epoch 14/20\n",
            "40/40 [==============================] - 1s 14ms/step - loss: 2.3020e-05 - accuracy: 0.0000e+00 - mean_squared_error: 2.3020e-05 - val_loss: 2.2803e-05 - val_accuracy: 0.0000e+00 - val_mean_squared_error: 2.2803e-05\n",
            "Epoch 15/20\n",
            "40/40 [==============================] - 1s 13ms/step - loss: 2.3000e-05 - accuracy: 0.0000e+00 - mean_squared_error: 2.3000e-05 - val_loss: 2.2817e-05 - val_accuracy: 0.0000e+00 - val_mean_squared_error: 2.2817e-05\n",
            "Epoch 16/20\n",
            "40/40 [==============================] - 1s 13ms/step - loss: 2.3041e-05 - accuracy: 0.0000e+00 - mean_squared_error: 2.3041e-05 - val_loss: 2.2906e-05 - val_accuracy: 0.0000e+00 - val_mean_squared_error: 2.2906e-05\n",
            "Epoch 17/20\n",
            "40/40 [==============================] - 1s 13ms/step - loss: 2.3081e-05 - accuracy: 0.0000e+00 - mean_squared_error: 2.3081e-05 - val_loss: 2.2875e-05 - val_accuracy: 0.0000e+00 - val_mean_squared_error: 2.2875e-05\n",
            "Epoch 18/20\n",
            "40/40 [==============================] - 1s 13ms/step - loss: 2.3060e-05 - accuracy: 0.0000e+00 - mean_squared_error: 2.3060e-05 - val_loss: 2.2715e-05 - val_accuracy: 0.0000e+00 - val_mean_squared_error: 2.2715e-05\n",
            "Epoch 19/20\n",
            "40/40 [==============================] - 1s 13ms/step - loss: 2.3005e-05 - accuracy: 0.0000e+00 - mean_squared_error: 2.3005e-05 - val_loss: 2.2734e-05 - val_accuracy: 0.0000e+00 - val_mean_squared_error: 2.2734e-05\n",
            "Epoch 20/20\n",
            "40/40 [==============================] - 1s 13ms/step - loss: 2.3011e-05 - accuracy: 0.0000e+00 - mean_squared_error: 2.3011e-05 - val_loss: 2.2867e-05 - val_accuracy: 0.0000e+00 - val_mean_squared_error: 2.2867e-05\n",
            "32/32 [==============================] - 0s 1ms/step\n",
            "52.140082879996896 0.0048729093 2.0424483\n",
            "57.223676593502205\n",
            "Epoch 1/20\n"
          ]
        },
        {
          "name": "stderr",
          "output_type": "stream",
          "text": [
            "2023-12-06 22:52:02.215352: I tensorflow/core/common_runtime/gpu/gpu_device.cc:1886] Created device /device:GPU:0 with 20609 MB memory:  -> device: 0, name: NVIDIA L4, pci bus id: 0000:00:03.0, compute capability: 8.9\n"
          ]
        },
        {
          "name": "stdout",
          "output_type": "stream",
          "text": [
            "40/40 [==============================] - 2s 16ms/step - loss: 0.0032 - accuracy: 0.0000e+00 - mean_squared_error: 0.0032 - val_loss: 5.8607e-05 - val_accuracy: 0.0000e+00 - val_mean_squared_error: 5.8607e-05\n",
            "Epoch 2/20\n",
            "27/40 [===================>..........] - ETA: 0s - loss: 1.0026e-04 - accuracy: 0.0000e+00 - mean_squared_error: 1.0026e-04"
          ]
        },
        {
          "name": "stderr",
          "output_type": "stream",
          "text": [
            "2023-12-06 22:52:03.962382: I tensorflow/core/framework/local_rendezvous.cc:421] Local rendezvous recv item cancelled. Key hash: 12749084622472637211\n",
            "2023-12-06 22:52:03.962438: I tensorflow/core/framework/local_rendezvous.cc:421] Local rendezvous recv item cancelled. Key hash: 10316076964217112533\n"
          ]
        },
        {
          "name": "stdout",
          "output_type": "stream",
          "text": [
            "40/40 [==============================] - 1s 14ms/step - loss: 7.9993e-05 - accuracy: 0.0000e+00 - mean_squared_error: 7.9993e-05 - val_loss: 3.4115e-05 - val_accuracy: 0.0000e+00 - val_mean_squared_error: 3.4115e-05\n",
            "Epoch 3/20\n",
            "40/40 [==============================] - 1s 13ms/step - loss: 2.4870e-05 - accuracy: 0.0000e+00 - mean_squared_error: 2.4870e-05 - val_loss: 2.3936e-05 - val_accuracy: 0.0000e+00 - val_mean_squared_error: 2.3936e-05\n",
            "Epoch 4/20\n",
            "40/40 [==============================] - 1s 13ms/step - loss: 2.3163e-05 - accuracy: 0.0000e+00 - mean_squared_error: 2.3163e-05 - val_loss: 2.3327e-05 - val_accuracy: 0.0000e+00 - val_mean_squared_error: 2.3327e-05\n",
            "Epoch 5/20\n",
            "40/40 [==============================] - 1s 13ms/step - loss: 2.2983e-05 - accuracy: 0.0000e+00 - mean_squared_error: 2.2983e-05 - val_loss: 2.3240e-05 - val_accuracy: 0.0000e+00 - val_mean_squared_error: 2.3240e-05\n",
            "Epoch 6/20\n",
            "40/40 [==============================] - 1s 13ms/step - loss: 2.2917e-05 - accuracy: 0.0000e+00 - mean_squared_error: 2.2917e-05 - val_loss: 2.3444e-05 - val_accuracy: 0.0000e+00 - val_mean_squared_error: 2.3444e-05\n",
            "Epoch 7/20\n",
            "40/40 [==============================] - 1s 13ms/step - loss: 2.2857e-05 - accuracy: 0.0000e+00 - mean_squared_error: 2.2857e-05 - val_loss: 2.3494e-05 - val_accuracy: 0.0000e+00 - val_mean_squared_error: 2.3494e-05\n",
            "Epoch 8/20\n",
            "40/40 [==============================] - 1s 13ms/step - loss: 2.2820e-05 - accuracy: 0.0000e+00 - mean_squared_error: 2.2820e-05 - val_loss: 2.3472e-05 - val_accuracy: 0.0000e+00 - val_mean_squared_error: 2.3472e-05\n",
            "Epoch 9/20\n",
            "40/40 [==============================] - 1s 13ms/step - loss: 2.2849e-05 - accuracy: 0.0000e+00 - mean_squared_error: 2.2849e-05 - val_loss: 2.3417e-05 - val_accuracy: 0.0000e+00 - val_mean_squared_error: 2.3417e-05\n",
            "Epoch 10/20\n",
            "40/40 [==============================] - 1s 13ms/step - loss: 2.2890e-05 - accuracy: 0.0000e+00 - mean_squared_error: 2.2890e-05 - val_loss: 2.3330e-05 - val_accuracy: 0.0000e+00 - val_mean_squared_error: 2.3330e-05\n",
            "Epoch 11/20\n",
            "40/40 [==============================] - 0s 12ms/step - loss: 2.2876e-05 - accuracy: 0.0000e+00 - mean_squared_error: 2.2876e-05 - val_loss: 2.3273e-05 - val_accuracy: 0.0000e+00 - val_mean_squared_error: 2.3273e-05\n",
            "Epoch 12/20\n",
            "40/40 [==============================] - 1s 13ms/step - loss: 2.2912e-05 - accuracy: 0.0000e+00 - mean_squared_error: 2.2912e-05 - val_loss: 2.3360e-05 - val_accuracy: 0.0000e+00 - val_mean_squared_error: 2.3360e-05\n",
            "Epoch 13/20\n",
            "40/40 [==============================] - 1s 13ms/step - loss: 2.3013e-05 - accuracy: 0.0000e+00 - mean_squared_error: 2.3013e-05 - val_loss: 2.3324e-05 - val_accuracy: 0.0000e+00 - val_mean_squared_error: 2.3324e-05\n",
            "Epoch 14/20\n",
            "40/40 [==============================] - 1s 13ms/step - loss: 2.3027e-05 - accuracy: 0.0000e+00 - mean_squared_error: 2.3027e-05 - val_loss: 2.3073e-05 - val_accuracy: 0.0000e+00 - val_mean_squared_error: 2.3073e-05\n",
            "Epoch 15/20\n",
            "40/40 [==============================] - 1s 13ms/step - loss: 2.2862e-05 - accuracy: 0.0000e+00 - mean_squared_error: 2.2862e-05 - val_loss: 2.3144e-05 - val_accuracy: 0.0000e+00 - val_mean_squared_error: 2.3144e-05\n",
            "Epoch 16/20\n",
            "40/40 [==============================] - 1s 13ms/step - loss: 2.2781e-05 - accuracy: 0.0000e+00 - mean_squared_error: 2.2781e-05 - val_loss: 2.3093e-05 - val_accuracy: 0.0000e+00 - val_mean_squared_error: 2.3093e-05\n",
            "Epoch 17/20\n",
            "40/40 [==============================] - 1s 13ms/step - loss: 2.2775e-05 - accuracy: 0.0000e+00 - mean_squared_error: 2.2775e-05 - val_loss: 2.3011e-05 - val_accuracy: 0.0000e+00 - val_mean_squared_error: 2.3011e-05\n",
            "Epoch 18/20\n",
            "40/40 [==============================] - 1s 13ms/step - loss: 2.2776e-05 - accuracy: 0.0000e+00 - mean_squared_error: 2.2776e-05 - val_loss: 2.2999e-05 - val_accuracy: 0.0000e+00 - val_mean_squared_error: 2.2999e-05\n",
            "Epoch 19/20\n",
            "40/40 [==============================] - 1s 13ms/step - loss: 2.2759e-05 - accuracy: 0.0000e+00 - mean_squared_error: 2.2759e-05 - val_loss: 2.2974e-05 - val_accuracy: 0.0000e+00 - val_mean_squared_error: 2.2974e-05\n",
            "Epoch 20/20\n",
            "40/40 [==============================] - 1s 13ms/step - loss: 2.2730e-05 - accuracy: 0.0000e+00 - mean_squared_error: 2.2730e-05 - val_loss: 2.2964e-05 - val_accuracy: 0.0000e+00 - val_mean_squared_error: 2.2964e-05\n",
            "32/32 [==============================] - 0s 1ms/step\n",
            "57.223676593502205 0.0046964586 2.0245621\n",
            "62.802914418342596\n",
            "Epoch 1/20\n"
          ]
        },
        {
          "name": "stderr",
          "output_type": "stream",
          "text": [
            "2023-12-06 22:52:14.374450: I tensorflow/core/common_runtime/gpu/gpu_device.cc:1886] Created device /device:GPU:0 with 20609 MB memory:  -> device: 0, name: NVIDIA L4, pci bus id: 0000:00:03.0, compute capability: 8.9\n"
          ]
        },
        {
          "name": "stdout",
          "output_type": "stream",
          "text": [
            "     31/Unknown - 1s 5ms/step - loss: 0.0023 - accuracy: 0.0000e+00 - mean_squared_error: 0.0023   "
          ]
        },
        {
          "name": "stderr",
          "output_type": "stream",
          "text": [
            "2023-12-06 22:52:15.687168: I tensorflow/core/framework/local_rendezvous.cc:421] Local rendezvous recv item cancelled. Key hash: 12749084622472637211\n",
            "2023-12-06 22:52:15.687228: I tensorflow/core/framework/local_rendezvous.cc:421] Local rendezvous recv item cancelled. Key hash: 10316076964217112533\n"
          ]
        },
        {
          "name": "stdout",
          "output_type": "stream",
          "text": [
            "40/40 [==============================] - 2s 16ms/step - loss: 0.0018 - accuracy: 0.0000e+00 - mean_squared_error: 0.0018 - val_loss: 2.5095e-04 - val_accuracy: 0.0000e+00 - val_mean_squared_error: 2.5095e-04\n",
            "Epoch 2/20\n",
            "31/40 [======================>.......] - ETA: 0s - loss: 6.8799e-05 - accuracy: 0.0000e+00 - mean_squared_error: 6.8799e-05"
          ]
        },
        {
          "name": "stderr",
          "output_type": "stream",
          "text": [
            "2023-12-06 22:52:16.116414: I tensorflow/core/framework/local_rendezvous.cc:421] Local rendezvous recv item cancelled. Key hash: 12749084622472637211\n",
            "2023-12-06 22:52:16.116458: I tensorflow/core/framework/local_rendezvous.cc:421] Local rendezvous recv item cancelled. Key hash: 10316076964217112533\n"
          ]
        },
        {
          "name": "stdout",
          "output_type": "stream",
          "text": [
            "40/40 [==============================] - 1s 13ms/step - loss: 6.0273e-05 - accuracy: 0.0000e+00 - mean_squared_error: 6.0273e-05 - val_loss: 2.6514e-05 - val_accuracy: 0.0000e+00 - val_mean_squared_error: 2.6514e-05\n",
            "Epoch 3/20\n",
            "40/40 [==============================] - 1s 13ms/step - loss: 2.3800e-05 - accuracy: 0.0000e+00 - mean_squared_error: 2.3800e-05 - val_loss: 2.3128e-05 - val_accuracy: 0.0000e+00 - val_mean_squared_error: 2.3128e-05\n",
            "Epoch 4/20\n",
            "40/40 [==============================] - 1s 13ms/step - loss: 2.3060e-05 - accuracy: 0.0000e+00 - mean_squared_error: 2.3060e-05 - val_loss: 2.2905e-05 - val_accuracy: 0.0000e+00 - val_mean_squared_error: 2.2905e-05\n",
            "Epoch 5/20\n",
            "40/40 [==============================] - 1s 13ms/step - loss: 2.3090e-05 - accuracy: 0.0000e+00 - mean_squared_error: 2.3090e-05 - val_loss: 2.3589e-05 - val_accuracy: 0.0000e+00 - val_mean_squared_error: 2.3589e-05\n",
            "Epoch 6/20\n",
            "40/40 [==============================] - 1s 13ms/step - loss: 2.3181e-05 - accuracy: 0.0000e+00 - mean_squared_error: 2.3181e-05 - val_loss: 2.2860e-05 - val_accuracy: 0.0000e+00 - val_mean_squared_error: 2.2860e-05\n",
            "Epoch 7/20\n",
            "40/40 [==============================] - 1s 13ms/step - loss: 2.2898e-05 - accuracy: 0.0000e+00 - mean_squared_error: 2.2898e-05 - val_loss: 2.2929e-05 - val_accuracy: 0.0000e+00 - val_mean_squared_error: 2.2929e-05\n",
            "Epoch 8/20\n",
            "40/40 [==============================] - 1s 14ms/step - loss: 2.2896e-05 - accuracy: 0.0000e+00 - mean_squared_error: 2.2896e-05 - val_loss: 2.2825e-05 - val_accuracy: 0.0000e+00 - val_mean_squared_error: 2.2825e-05\n",
            "Epoch 9/20\n",
            "40/40 [==============================] - 0s 13ms/step - loss: 2.2900e-05 - accuracy: 0.0000e+00 - mean_squared_error: 2.2900e-05 - val_loss: 2.2747e-05 - val_accuracy: 0.0000e+00 - val_mean_squared_error: 2.2747e-05\n",
            "Epoch 10/20\n",
            "40/40 [==============================] - 1s 15ms/step - loss: 2.2921e-05 - accuracy: 0.0000e+00 - mean_squared_error: 2.2921e-05 - val_loss: 2.3131e-05 - val_accuracy: 0.0000e+00 - val_mean_squared_error: 2.3131e-05\n",
            "Epoch 11/20\n",
            "40/40 [==============================] - 1s 13ms/step - loss: 2.2994e-05 - accuracy: 0.0000e+00 - mean_squared_error: 2.2994e-05 - val_loss: 2.3788e-05 - val_accuracy: 0.0000e+00 - val_mean_squared_error: 2.3788e-05\n",
            "Epoch 12/20\n",
            "40/40 [==============================] - 1s 13ms/step - loss: 2.3103e-05 - accuracy: 0.0000e+00 - mean_squared_error: 2.3103e-05 - val_loss: 2.3659e-05 - val_accuracy: 0.0000e+00 - val_mean_squared_error: 2.3659e-05\n",
            "Epoch 13/20\n",
            "40/40 [==============================] - 1s 13ms/step - loss: 2.3291e-05 - accuracy: 0.0000e+00 - mean_squared_error: 2.3291e-05 - val_loss: 2.4171e-05 - val_accuracy: 0.0000e+00 - val_mean_squared_error: 2.4171e-05\n",
            "Epoch 14/20\n",
            "40/40 [==============================] - 0s 13ms/step - loss: 2.3613e-05 - accuracy: 0.0000e+00 - mean_squared_error: 2.3613e-05 - val_loss: 2.3026e-05 - val_accuracy: 0.0000e+00 - val_mean_squared_error: 2.3026e-05\n",
            "Epoch 15/20\n",
            "40/40 [==============================] - 1s 13ms/step - loss: 2.3320e-05 - accuracy: 0.0000e+00 - mean_squared_error: 2.3320e-05 - val_loss: 2.2529e-05 - val_accuracy: 0.0000e+00 - val_mean_squared_error: 2.2529e-05\n",
            "Epoch 16/20\n",
            "40/40 [==============================] - 1s 13ms/step - loss: 2.3116e-05 - accuracy: 0.0000e+00 - mean_squared_error: 2.3116e-05 - val_loss: 2.2533e-05 - val_accuracy: 0.0000e+00 - val_mean_squared_error: 2.2533e-05\n",
            "Epoch 17/20\n",
            "40/40 [==============================] - 1s 13ms/step - loss: 2.3192e-05 - accuracy: 0.0000e+00 - mean_squared_error: 2.3192e-05 - val_loss: 2.2665e-05 - val_accuracy: 0.0000e+00 - val_mean_squared_error: 2.2665e-05\n",
            "Epoch 18/20\n",
            "40/40 [==============================] - 0s 12ms/step - loss: 2.3127e-05 - accuracy: 0.0000e+00 - mean_squared_error: 2.3127e-05 - val_loss: 2.2831e-05 - val_accuracy: 0.0000e+00 - val_mean_squared_error: 2.2831e-05\n",
            "Epoch 19/20\n",
            "40/40 [==============================] - 1s 13ms/step - loss: 2.3191e-05 - accuracy: 0.0000e+00 - mean_squared_error: 2.3191e-05 - val_loss: 2.3249e-05 - val_accuracy: 0.0000e+00 - val_mean_squared_error: 2.3249e-05\n",
            "Epoch 20/20\n",
            "40/40 [==============================] - 1s 14ms/step - loss: 2.3392e-05 - accuracy: 0.0000e+00 - mean_squared_error: 2.3392e-05 - val_loss: 2.4256e-05 - val_accuracy: 0.0000e+00 - val_mean_squared_error: 2.4256e-05\n",
            "32/32 [==============================] - 0s 1ms/step\n",
            "62.802914418342596 0.0047586868 2.0489078\n",
            "68.92612104349702\n",
            "Epoch 1/20\n"
          ]
        },
        {
          "name": "stderr",
          "output_type": "stream",
          "text": [
            "2023-12-06 22:52:26.619418: I tensorflow/core/common_runtime/gpu/gpu_device.cc:1886] Created device /device:GPU:0 with 20609 MB memory:  -> device: 0, name: NVIDIA L4, pci bus id: 0000:00:03.0, compute capability: 8.9\n"
          ]
        },
        {
          "name": "stdout",
          "output_type": "stream",
          "text": [
            "     37/Unknown - 1s 6ms/step - loss: 0.0011 - accuracy: 0.0000e+00 - mean_squared_error: 0.0011 "
          ]
        },
        {
          "name": "stderr",
          "output_type": "stream",
          "text": [
            "2023-12-06 22:52:27.970282: I tensorflow/core/framework/local_rendezvous.cc:421] Local rendezvous recv item cancelled. Key hash: 10316076964217112533\n"
          ]
        },
        {
          "name": "stdout",
          "output_type": "stream",
          "text": [
            "40/40 [==============================] - 2s 17ms/step - loss: 0.0011 - accuracy: 0.0000e+00 - mean_squared_error: 0.0011 - val_loss: 5.2186e-05 - val_accuracy: 0.0000e+00 - val_mean_squared_error: 5.2186e-05\n",
            "Epoch 2/20\n",
            "31/40 [======================>.......] - ETA: 0s - loss: 4.9938e-05 - accuracy: 0.0000e+00 - mean_squared_error: 4.9938e-05"
          ]
        },
        {
          "name": "stderr",
          "output_type": "stream",
          "text": [
            "2023-12-06 22:52:28.402540: I tensorflow/core/framework/local_rendezvous.cc:421] Local rendezvous recv item cancelled. Key hash: 12749084622472637211\n",
            "2023-12-06 22:52:28.402591: I tensorflow/core/framework/local_rendezvous.cc:421] Local rendezvous recv item cancelled. Key hash: 10316076964217112533\n"
          ]
        },
        {
          "name": "stdout",
          "output_type": "stream",
          "text": [
            "40/40 [==============================] - 1s 13ms/step - loss: 4.5088e-05 - accuracy: 0.0000e+00 - mean_squared_error: 4.5088e-05 - val_loss: 3.2620e-05 - val_accuracy: 0.0000e+00 - val_mean_squared_error: 3.2620e-05\n",
            "Epoch 3/20\n",
            "40/40 [==============================] - 1s 13ms/step - loss: 2.4901e-05 - accuracy: 0.0000e+00 - mean_squared_error: 2.4901e-05 - val_loss: 2.6506e-05 - val_accuracy: 0.0000e+00 - val_mean_squared_error: 2.6506e-05\n",
            "Epoch 4/20\n",
            "40/40 [==============================] - 1s 13ms/step - loss: 2.4117e-05 - accuracy: 0.0000e+00 - mean_squared_error: 2.4117e-05 - val_loss: 2.9633e-05 - val_accuracy: 0.0000e+00 - val_mean_squared_error: 2.9633e-05\n",
            "Epoch 5/20\n",
            "40/40 [==============================] - 1s 13ms/step - loss: 2.4255e-05 - accuracy: 0.0000e+00 - mean_squared_error: 2.4255e-05 - val_loss: 2.4034e-05 - val_accuracy: 0.0000e+00 - val_mean_squared_error: 2.4034e-05\n",
            "Epoch 6/20\n",
            "40/40 [==============================] - 1s 13ms/step - loss: 2.4593e-05 - accuracy: 0.0000e+00 - mean_squared_error: 2.4593e-05 - val_loss: 3.2792e-05 - val_accuracy: 0.0000e+00 - val_mean_squared_error: 3.2792e-05\n",
            "Epoch 7/20\n",
            "40/40 [==============================] - 1s 13ms/step - loss: 2.4950e-05 - accuracy: 0.0000e+00 - mean_squared_error: 2.4950e-05 - val_loss: 2.4833e-05 - val_accuracy: 0.0000e+00 - val_mean_squared_error: 2.4833e-05\n",
            "Epoch 8/20\n",
            "40/40 [==============================] - 1s 13ms/step - loss: 2.6660e-05 - accuracy: 0.0000e+00 - mean_squared_error: 2.6660e-05 - val_loss: 2.4293e-05 - val_accuracy: 0.0000e+00 - val_mean_squared_error: 2.4293e-05\n",
            "Epoch 9/20\n",
            "40/40 [==============================] - 1s 13ms/step - loss: 2.7894e-05 - accuracy: 0.0000e+00 - mean_squared_error: 2.7894e-05 - val_loss: 2.3108e-05 - val_accuracy: 0.0000e+00 - val_mean_squared_error: 2.3108e-05\n",
            "Epoch 10/20\n",
            "40/40 [==============================] - 1s 13ms/step - loss: 2.6531e-05 - accuracy: 0.0000e+00 - mean_squared_error: 2.6531e-05 - val_loss: 4.8443e-05 - val_accuracy: 0.0000e+00 - val_mean_squared_error: 4.8443e-05\n",
            "Epoch 11/20\n",
            "40/40 [==============================] - 1s 13ms/step - loss: 4.2418e-05 - accuracy: 0.0000e+00 - mean_squared_error: 4.2418e-05 - val_loss: 5.9295e-05 - val_accuracy: 0.0000e+00 - val_mean_squared_error: 5.9295e-05\n",
            "Epoch 12/20\n",
            "40/40 [==============================] - 1s 13ms/step - loss: 3.9921e-05 - accuracy: 0.0000e+00 - mean_squared_error: 3.9921e-05 - val_loss: 5.7973e-05 - val_accuracy: 0.0000e+00 - val_mean_squared_error: 5.7973e-05\n",
            "Epoch 13/20\n",
            "40/40 [==============================] - 0s 13ms/step - loss: 3.9920e-05 - accuracy: 0.0000e+00 - mean_squared_error: 3.9920e-05 - val_loss: 5.5732e-05 - val_accuracy: 0.0000e+00 - val_mean_squared_error: 5.5732e-05\n",
            "Epoch 14/20\n",
            "40/40 [==============================] - 1s 13ms/step - loss: 4.5940e-05 - accuracy: 0.0000e+00 - mean_squared_error: 4.5940e-05 - val_loss: 5.8716e-05 - val_accuracy: 0.0000e+00 - val_mean_squared_error: 5.8716e-05\n",
            "Epoch 15/20\n",
            "40/40 [==============================] - 1s 13ms/step - loss: 4.2869e-05 - accuracy: 0.0000e+00 - mean_squared_error: 4.2869e-05 - val_loss: 5.7144e-05 - val_accuracy: 0.0000e+00 - val_mean_squared_error: 5.7144e-05\n",
            "Epoch 16/20\n",
            "40/40 [==============================] - 1s 15ms/step - loss: 4.4370e-05 - accuracy: 0.0000e+00 - mean_squared_error: 4.4370e-05 - val_loss: 5.7900e-05 - val_accuracy: 0.0000e+00 - val_mean_squared_error: 5.7900e-05\n",
            "Epoch 17/20\n",
            "40/40 [==============================] - 0s 12ms/step - loss: 4.6691e-05 - accuracy: 0.0000e+00 - mean_squared_error: 4.6691e-05 - val_loss: 6.1445e-05 - val_accuracy: 0.0000e+00 - val_mean_squared_error: 6.1445e-05\n",
            "Epoch 18/20\n",
            "40/40 [==============================] - 1s 13ms/step - loss: 4.4910e-05 - accuracy: 0.0000e+00 - mean_squared_error: 4.4910e-05 - val_loss: 6.1266e-05 - val_accuracy: 0.0000e+00 - val_mean_squared_error: 6.1266e-05\n",
            "Epoch 19/20\n",
            "40/40 [==============================] - 1s 13ms/step - loss: 4.6141e-05 - accuracy: 0.0000e+00 - mean_squared_error: 4.6141e-05 - val_loss: 6.1835e-05 - val_accuracy: 0.0000e+00 - val_mean_squared_error: 6.1835e-05\n",
            "Epoch 20/20\n",
            "40/40 [==============================] - 1s 13ms/step - loss: 4.7412e-05 - accuracy: 0.0000e+00 - mean_squared_error: 4.7412e-05 - val_loss: 6.3156e-05 - val_accuracy: 0.0000e+00 - val_mean_squared_error: 6.3156e-05\n",
            "32/32 [==============================] - 0s 1ms/step\n",
            "68.92612104349702 0.00788812 2.057477\n",
            "75.64633275546291\n",
            "Epoch 1/20\n"
          ]
        },
        {
          "name": "stderr",
          "output_type": "stream",
          "text": [
            "2023-12-06 22:52:38.865370: I tensorflow/core/common_runtime/gpu/gpu_device.cc:1886] Created device /device:GPU:0 with 20609 MB memory:  -> device: 0, name: NVIDIA L4, pci bus id: 0000:00:03.0, compute capability: 8.9\n"
          ]
        },
        {
          "name": "stdout",
          "output_type": "stream",
          "text": [
            "     38/Unknown - 1s 6ms/step - loss: 0.0032 - accuracy: 0.0000e+00 - mean_squared_error: 0.0032 "
          ]
        },
        {
          "name": "stderr",
          "output_type": "stream",
          "text": [
            "2023-12-06 22:52:40.205481: I tensorflow/core/framework/local_rendezvous.cc:421] Local rendezvous recv item cancelled. Key hash: 10316076964217112533\n"
          ]
        },
        {
          "name": "stdout",
          "output_type": "stream",
          "text": [
            "40/40 [==============================] - 2s 17ms/step - loss: 0.0032 - accuracy: 0.0000e+00 - mean_squared_error: 0.0032 - val_loss: 4.1450e-05 - val_accuracy: 0.0000e+00 - val_mean_squared_error: 4.1450e-05\n",
            "Epoch 2/20\n",
            "31/40 [======================>.......] - ETA: 0s - loss: 8.5563e-05 - accuracy: 0.0000e+00 - mean_squared_error: 8.5563e-05"
          ]
        },
        {
          "name": "stderr",
          "output_type": "stream",
          "text": [
            "2023-12-06 22:52:40.622442: I tensorflow/core/framework/local_rendezvous.cc:421] Local rendezvous recv item cancelled. Key hash: 10316076964217112533\n"
          ]
        },
        {
          "name": "stdout",
          "output_type": "stream",
          "text": [
            "40/40 [==============================] - 0s 12ms/step - loss: 7.4117e-05 - accuracy: 0.0000e+00 - mean_squared_error: 7.4117e-05 - val_loss: 2.8750e-05 - val_accuracy: 0.0000e+00 - val_mean_squared_error: 2.8750e-05\n",
            "Epoch 3/20\n",
            "40/40 [==============================] - 1s 13ms/step - loss: 2.4342e-05 - accuracy: 0.0000e+00 - mean_squared_error: 2.4342e-05 - val_loss: 2.2162e-05 - val_accuracy: 0.0000e+00 - val_mean_squared_error: 2.2162e-05\n",
            "Epoch 4/20\n",
            "40/40 [==============================] - 1s 15ms/step - loss: 2.3035e-05 - accuracy: 0.0000e+00 - mean_squared_error: 2.3035e-05 - val_loss: 2.1983e-05 - val_accuracy: 0.0000e+00 - val_mean_squared_error: 2.1983e-05\n",
            "Epoch 5/20\n",
            "40/40 [==============================] - 1s 13ms/step - loss: 2.2915e-05 - accuracy: 0.0000e+00 - mean_squared_error: 2.2915e-05 - val_loss: 2.1965e-05 - val_accuracy: 0.0000e+00 - val_mean_squared_error: 2.1965e-05\n",
            "Epoch 6/20\n",
            "40/40 [==============================] - 1s 13ms/step - loss: 2.2884e-05 - accuracy: 0.0000e+00 - mean_squared_error: 2.2884e-05 - val_loss: 2.1968e-05 - val_accuracy: 0.0000e+00 - val_mean_squared_error: 2.1968e-05\n",
            "Epoch 7/20\n",
            "40/40 [==============================] - 1s 13ms/step - loss: 2.2840e-05 - accuracy: 0.0000e+00 - mean_squared_error: 2.2840e-05 - val_loss: 2.1867e-05 - val_accuracy: 0.0000e+00 - val_mean_squared_error: 2.1867e-05\n",
            "Epoch 8/20\n",
            "40/40 [==============================] - 1s 13ms/step - loss: 2.2820e-05 - accuracy: 0.0000e+00 - mean_squared_error: 2.2820e-05 - val_loss: 2.1840e-05 - val_accuracy: 0.0000e+00 - val_mean_squared_error: 2.1840e-05\n",
            "Epoch 9/20\n",
            "40/40 [==============================] - 1s 13ms/step - loss: 2.2848e-05 - accuracy: 0.0000e+00 - mean_squared_error: 2.2848e-05 - val_loss: 2.1768e-05 - val_accuracy: 0.0000e+00 - val_mean_squared_error: 2.1768e-05\n",
            "Epoch 10/20\n",
            "40/40 [==============================] - 1s 13ms/step - loss: 2.2849e-05 - accuracy: 0.0000e+00 - mean_squared_error: 2.2849e-05 - val_loss: 2.1767e-05 - val_accuracy: 0.0000e+00 - val_mean_squared_error: 2.1767e-05\n",
            "Epoch 11/20\n",
            "40/40 [==============================] - 1s 13ms/step - loss: 2.2831e-05 - accuracy: 0.0000e+00 - mean_squared_error: 2.2831e-05 - val_loss: 2.1765e-05 - val_accuracy: 0.0000e+00 - val_mean_squared_error: 2.1765e-05\n",
            "Epoch 12/20\n",
            "40/40 [==============================] - 1s 14ms/step - loss: 2.2900e-05 - accuracy: 0.0000e+00 - mean_squared_error: 2.2900e-05 - val_loss: 2.1714e-05 - val_accuracy: 0.0000e+00 - val_mean_squared_error: 2.1714e-05\n",
            "Epoch 13/20\n",
            "40/40 [==============================] - 1s 13ms/step - loss: 2.2979e-05 - accuracy: 0.0000e+00 - mean_squared_error: 2.2979e-05 - val_loss: 2.1928e-05 - val_accuracy: 0.0000e+00 - val_mean_squared_error: 2.1928e-05\n",
            "Epoch 14/20\n",
            "40/40 [==============================] - 1s 13ms/step - loss: 2.3011e-05 - accuracy: 0.0000e+00 - mean_squared_error: 2.3011e-05 - val_loss: 2.2350e-05 - val_accuracy: 0.0000e+00 - val_mean_squared_error: 2.2350e-05\n",
            "Epoch 15/20\n",
            "40/40 [==============================] - 1s 13ms/step - loss: 2.2960e-05 - accuracy: 0.0000e+00 - mean_squared_error: 2.2960e-05 - val_loss: 2.2283e-05 - val_accuracy: 0.0000e+00 - val_mean_squared_error: 2.2283e-05\n",
            "Epoch 16/20\n",
            "40/40 [==============================] - 1s 14ms/step - loss: 2.2963e-05 - accuracy: 0.0000e+00 - mean_squared_error: 2.2963e-05 - val_loss: 2.2674e-05 - val_accuracy: 0.0000e+00 - val_mean_squared_error: 2.2674e-05\n",
            "Epoch 17/20\n",
            "40/40 [==============================] - 1s 13ms/step - loss: 2.3033e-05 - accuracy: 0.0000e+00 - mean_squared_error: 2.3033e-05 - val_loss: 2.3444e-05 - val_accuracy: 0.0000e+00 - val_mean_squared_error: 2.3444e-05\n",
            "Epoch 18/20\n",
            "40/40 [==============================] - 1s 14ms/step - loss: 2.3036e-05 - accuracy: 0.0000e+00 - mean_squared_error: 2.3036e-05 - val_loss: 2.3549e-05 - val_accuracy: 0.0000e+00 - val_mean_squared_error: 2.3549e-05\n",
            "Epoch 19/20\n",
            "40/40 [==============================] - 1s 13ms/step - loss: 2.2929e-05 - accuracy: 0.0000e+00 - mean_squared_error: 2.2929e-05 - val_loss: 2.2896e-05 - val_accuracy: 0.0000e+00 - val_mean_squared_error: 2.2896e-05\n",
            "Epoch 20/20\n",
            "40/40 [==============================] - 1s 13ms/step - loss: 2.2858e-05 - accuracy: 0.0000e+00 - mean_squared_error: 2.2858e-05 - val_loss: 2.2846e-05 - val_accuracy: 0.0000e+00 - val_mean_squared_error: 2.2846e-05\n",
            "32/32 [==============================] - 0s 1ms/step\n",
            "75.64633275546291 0.0047468552 2.0322733\n",
            "83.02175681319753\n",
            "Epoch 1/20\n"
          ]
        },
        {
          "name": "stderr",
          "output_type": "stream",
          "text": [
            "2023-12-06 22:52:51.179711: I tensorflow/core/common_runtime/gpu/gpu_device.cc:1886] Created device /device:GPU:0 with 20609 MB memory:  -> device: 0, name: NVIDIA L4, pci bus id: 0000:00:03.0, compute capability: 8.9\n"
          ]
        },
        {
          "name": "stdout",
          "output_type": "stream",
          "text": [
            "     37/Unknown - 1s 6ms/step - loss: 0.0034 - accuracy: 0.0000e+00 - mean_squared_error: 0.0034 "
          ]
        },
        {
          "name": "stderr",
          "output_type": "stream",
          "text": [
            "2023-12-06 22:52:52.513848: I tensorflow/core/framework/local_rendezvous.cc:421] Local rendezvous recv item cancelled. Key hash: 10316076964217112533\n"
          ]
        },
        {
          "name": "stdout",
          "output_type": "stream",
          "text": [
            "40/40 [==============================] - 2s 17ms/step - loss: 0.0033 - accuracy: 0.0000e+00 - mean_squared_error: 0.0033 - val_loss: 3.9326e-05 - val_accuracy: 0.0000e+00 - val_mean_squared_error: 3.9326e-05\n",
            "Epoch 2/20\n",
            "29/40 [====================>.........] - ETA: 0s - loss: 8.4900e-05 - accuracy: 0.0000e+00 - mean_squared_error: 8.4900e-05"
          ]
        },
        {
          "name": "stderr",
          "output_type": "stream",
          "text": [
            "2023-12-06 22:52:52.936896: I tensorflow/core/framework/local_rendezvous.cc:421] Local rendezvous recv item cancelled. Key hash: 12749084622472637211\n",
            "2023-12-06 22:52:52.936951: I tensorflow/core/framework/local_rendezvous.cc:421] Local rendezvous recv item cancelled. Key hash: 10316076964217112533\n"
          ]
        },
        {
          "name": "stdout",
          "output_type": "stream",
          "text": [
            "40/40 [==============================] - 1s 13ms/step - loss: 7.0647e-05 - accuracy: 0.0000e+00 - mean_squared_error: 7.0647e-05 - val_loss: 2.8587e-05 - val_accuracy: 0.0000e+00 - val_mean_squared_error: 2.8587e-05\n",
            "Epoch 3/20\n",
            "40/40 [==============================] - 1s 13ms/step - loss: 2.4172e-05 - accuracy: 0.0000e+00 - mean_squared_error: 2.4172e-05 - val_loss: 2.2926e-05 - val_accuracy: 0.0000e+00 - val_mean_squared_error: 2.2926e-05\n",
            "Epoch 4/20\n",
            "40/40 [==============================] - 1s 13ms/step - loss: 2.2893e-05 - accuracy: 0.0000e+00 - mean_squared_error: 2.2893e-05 - val_loss: 2.2350e-05 - val_accuracy: 0.0000e+00 - val_mean_squared_error: 2.2350e-05\n",
            "Epoch 5/20\n",
            "40/40 [==============================] - 1s 14ms/step - loss: 2.2692e-05 - accuracy: 0.0000e+00 - mean_squared_error: 2.2692e-05 - val_loss: 2.2327e-05 - val_accuracy: 0.0000e+00 - val_mean_squared_error: 2.2327e-05\n",
            "Epoch 6/20\n",
            "40/40 [==============================] - 1s 13ms/step - loss: 2.2693e-05 - accuracy: 0.0000e+00 - mean_squared_error: 2.2693e-05 - val_loss: 2.2431e-05 - val_accuracy: 0.0000e+00 - val_mean_squared_error: 2.2431e-05\n",
            "Epoch 7/20\n",
            "40/40 [==============================] - 1s 14ms/step - loss: 2.2719e-05 - accuracy: 0.0000e+00 - mean_squared_error: 2.2719e-05 - val_loss: 2.2300e-05 - val_accuracy: 0.0000e+00 - val_mean_squared_error: 2.2300e-05\n",
            "Epoch 8/20\n",
            "40/40 [==============================] - 1s 13ms/step - loss: 2.2681e-05 - accuracy: 0.0000e+00 - mean_squared_error: 2.2681e-05 - val_loss: 2.2374e-05 - val_accuracy: 0.0000e+00 - val_mean_squared_error: 2.2374e-05\n",
            "Epoch 9/20\n",
            "40/40 [==============================] - 1s 13ms/step - loss: 2.2770e-05 - accuracy: 0.0000e+00 - mean_squared_error: 2.2770e-05 - val_loss: 2.2767e-05 - val_accuracy: 0.0000e+00 - val_mean_squared_error: 2.2767e-05\n",
            "Epoch 10/20\n",
            "40/40 [==============================] - 0s 12ms/step - loss: 2.2852e-05 - accuracy: 0.0000e+00 - mean_squared_error: 2.2852e-05 - val_loss: 2.2852e-05 - val_accuracy: 0.0000e+00 - val_mean_squared_error: 2.2852e-05\n",
            "Epoch 11/20\n",
            "40/40 [==============================] - 1s 13ms/step - loss: 2.2821e-05 - accuracy: 0.0000e+00 - mean_squared_error: 2.2821e-05 - val_loss: 2.2610e-05 - val_accuracy: 0.0000e+00 - val_mean_squared_error: 2.2610e-05\n",
            "Epoch 12/20\n",
            "40/40 [==============================] - 1s 13ms/step - loss: 2.2823e-05 - accuracy: 0.0000e+00 - mean_squared_error: 2.2823e-05 - val_loss: 2.2870e-05 - val_accuracy: 0.0000e+00 - val_mean_squared_error: 2.2870e-05\n",
            "Epoch 13/20\n",
            "40/40 [==============================] - 1s 13ms/step - loss: 2.2970e-05 - accuracy: 0.0000e+00 - mean_squared_error: 2.2970e-05 - val_loss: 2.3137e-05 - val_accuracy: 0.0000e+00 - val_mean_squared_error: 2.3137e-05\n",
            "Epoch 14/20\n",
            "40/40 [==============================] - 1s 13ms/step - loss: 2.3022e-05 - accuracy: 0.0000e+00 - mean_squared_error: 2.3022e-05 - val_loss: 2.2547e-05 - val_accuracy: 0.0000e+00 - val_mean_squared_error: 2.2547e-05\n",
            "Epoch 15/20\n",
            "40/40 [==============================] - 1s 13ms/step - loss: 2.2810e-05 - accuracy: 0.0000e+00 - mean_squared_error: 2.2810e-05 - val_loss: 2.2220e-05 - val_accuracy: 0.0000e+00 - val_mean_squared_error: 2.2220e-05\n",
            "Epoch 16/20\n",
            "40/40 [==============================] - 1s 13ms/step - loss: 2.2698e-05 - accuracy: 0.0000e+00 - mean_squared_error: 2.2698e-05 - val_loss: 2.2273e-05 - val_accuracy: 0.0000e+00 - val_mean_squared_error: 2.2273e-05\n",
            "Epoch 17/20\n",
            "40/40 [==============================] - 1s 13ms/step - loss: 2.2720e-05 - accuracy: 0.0000e+00 - mean_squared_error: 2.2720e-05 - val_loss: 2.2318e-05 - val_accuracy: 0.0000e+00 - val_mean_squared_error: 2.2318e-05\n",
            "Epoch 18/20\n",
            "40/40 [==============================] - 1s 13ms/step - loss: 2.2765e-05 - accuracy: 0.0000e+00 - mean_squared_error: 2.2765e-05 - val_loss: 2.2296e-05 - val_accuracy: 0.0000e+00 - val_mean_squared_error: 2.2296e-05\n",
            "Epoch 19/20\n",
            "40/40 [==============================] - 1s 13ms/step - loss: 2.2753e-05 - accuracy: 0.0000e+00 - mean_squared_error: 2.2753e-05 - val_loss: 2.2478e-05 - val_accuracy: 0.0000e+00 - val_mean_squared_error: 2.2478e-05\n",
            "Epoch 20/20\n",
            "40/40 [==============================] - 1s 13ms/step - loss: 2.2778e-05 - accuracy: 0.0000e+00 - mean_squared_error: 2.2778e-05 - val_loss: 2.2608e-05 - val_accuracy: 0.0000e+00 - val_mean_squared_error: 2.2608e-05\n",
            "32/32 [==============================] - 0s 1ms/step\n",
            "83.02175681319753 0.004703785 1.9874496\n",
            "91.11627561154896\n",
            "Epoch 1/20\n"
          ]
        },
        {
          "name": "stderr",
          "output_type": "stream",
          "text": [
            "2023-12-06 22:53:03.438703: I tensorflow/core/common_runtime/gpu/gpu_device.cc:1886] Created device /device:GPU:0 with 20609 MB memory:  -> device: 0, name: NVIDIA L4, pci bus id: 0000:00:03.0, compute capability: 8.9\n"
          ]
        },
        {
          "name": "stdout",
          "output_type": "stream",
          "text": [
            "     31/Unknown - 1s 5ms/step - loss: 0.0035 - accuracy: 0.0000e+00 - mean_squared_error: 0.0035   "
          ]
        },
        {
          "name": "stderr",
          "output_type": "stream",
          "text": [
            "2023-12-06 22:53:04.760286: I tensorflow/core/framework/local_rendezvous.cc:421] Local rendezvous recv item cancelled. Key hash: 12749084622472637211\n"
          ]
        },
        {
          "name": "stdout",
          "output_type": "stream",
          "text": [
            "40/40 [==============================] - 2s 16ms/step - loss: 0.0028 - accuracy: 0.0000e+00 - mean_squared_error: 0.0028 - val_loss: 2.5075e-04 - val_accuracy: 0.0000e+00 - val_mean_squared_error: 2.5075e-04\n",
            "Epoch 2/20\n",
            "31/40 [======================>.......] - ETA: 0s - loss: 9.0621e-05 - accuracy: 0.0000e+00 - mean_squared_error: 9.0621e-05"
          ]
        },
        {
          "name": "stderr",
          "output_type": "stream",
          "text": [
            "2023-12-06 22:53:05.189626: I tensorflow/core/framework/local_rendezvous.cc:421] Local rendezvous recv item cancelled. Key hash: 12749084622472637211\n",
            "2023-12-06 22:53:05.189681: I tensorflow/core/framework/local_rendezvous.cc:421] Local rendezvous recv item cancelled. Key hash: 10316076964217112533\n"
          ]
        },
        {
          "name": "stdout",
          "output_type": "stream",
          "text": [
            "40/40 [==============================] - 1s 13ms/step - loss: 7.8299e-05 - accuracy: 0.0000e+00 - mean_squared_error: 7.8299e-05 - val_loss: 2.4228e-05 - val_accuracy: 0.0000e+00 - val_mean_squared_error: 2.4228e-05\n",
            "Epoch 3/20\n",
            "40/40 [==============================] - 1s 13ms/step - loss: 2.3826e-05 - accuracy: 0.0000e+00 - mean_squared_error: 2.3826e-05 - val_loss: 2.3112e-05 - val_accuracy: 0.0000e+00 - val_mean_squared_error: 2.3112e-05\n",
            "Epoch 4/20\n",
            "40/40 [==============================] - 1s 13ms/step - loss: 2.2755e-05 - accuracy: 0.0000e+00 - mean_squared_error: 2.2755e-05 - val_loss: 2.2743e-05 - val_accuracy: 0.0000e+00 - val_mean_squared_error: 2.2743e-05\n",
            "Epoch 5/20\n",
            "40/40 [==============================] - 1s 13ms/step - loss: 2.2691e-05 - accuracy: 0.0000e+00 - mean_squared_error: 2.2691e-05 - val_loss: 2.2523e-05 - val_accuracy: 0.0000e+00 - val_mean_squared_error: 2.2523e-05\n",
            "Epoch 6/20\n",
            "40/40 [==============================] - 1s 13ms/step - loss: 2.2634e-05 - accuracy: 0.0000e+00 - mean_squared_error: 2.2634e-05 - val_loss: 2.2522e-05 - val_accuracy: 0.0000e+00 - val_mean_squared_error: 2.2522e-05\n",
            "Epoch 7/20\n",
            "40/40 [==============================] - 1s 13ms/step - loss: 2.2538e-05 - accuracy: 0.0000e+00 - mean_squared_error: 2.2538e-05 - val_loss: 2.2498e-05 - val_accuracy: 0.0000e+00 - val_mean_squared_error: 2.2498e-05\n",
            "Epoch 8/20\n",
            "40/40 [==============================] - 1s 13ms/step - loss: 2.2543e-05 - accuracy: 0.0000e+00 - mean_squared_error: 2.2543e-05 - val_loss: 2.2577e-05 - val_accuracy: 0.0000e+00 - val_mean_squared_error: 2.2577e-05\n",
            "Epoch 9/20\n",
            "40/40 [==============================] - 0s 13ms/step - loss: 2.2560e-05 - accuracy: 0.0000e+00 - mean_squared_error: 2.2560e-05 - val_loss: 2.2879e-05 - val_accuracy: 0.0000e+00 - val_mean_squared_error: 2.2879e-05\n",
            "Epoch 10/20\n",
            "40/40 [==============================] - 1s 13ms/step - loss: 2.2547e-05 - accuracy: 0.0000e+00 - mean_squared_error: 2.2547e-05 - val_loss: 2.2997e-05 - val_accuracy: 0.0000e+00 - val_mean_squared_error: 2.2997e-05\n",
            "Epoch 11/20\n",
            "40/40 [==============================] - 1s 13ms/step - loss: 2.2509e-05 - accuracy: 0.0000e+00 - mean_squared_error: 2.2509e-05 - val_loss: 2.2936e-05 - val_accuracy: 0.0000e+00 - val_mean_squared_error: 2.2936e-05\n",
            "Epoch 12/20\n",
            "40/40 [==============================] - 0s 12ms/step - loss: 2.2493e-05 - accuracy: 0.0000e+00 - mean_squared_error: 2.2493e-05 - val_loss: 2.3033e-05 - val_accuracy: 0.0000e+00 - val_mean_squared_error: 2.3033e-05\n",
            "Epoch 13/20\n",
            "40/40 [==============================] - 1s 14ms/step - loss: 2.2508e-05 - accuracy: 0.0000e+00 - mean_squared_error: 2.2508e-05 - val_loss: 2.3103e-05 - val_accuracy: 0.0000e+00 - val_mean_squared_error: 2.3103e-05\n",
            "Epoch 14/20\n",
            "40/40 [==============================] - 1s 13ms/step - loss: 2.2543e-05 - accuracy: 0.0000e+00 - mean_squared_error: 2.2543e-05 - val_loss: 2.3164e-05 - val_accuracy: 0.0000e+00 - val_mean_squared_error: 2.3164e-05\n",
            "Epoch 15/20\n",
            "40/40 [==============================] - 1s 13ms/step - loss: 2.2592e-05 - accuracy: 0.0000e+00 - mean_squared_error: 2.2592e-05 - val_loss: 2.3535e-05 - val_accuracy: 0.0000e+00 - val_mean_squared_error: 2.3535e-05\n",
            "Epoch 16/20\n",
            "40/40 [==============================] - 1s 13ms/step - loss: 2.2639e-05 - accuracy: 0.0000e+00 - mean_squared_error: 2.2639e-05 - val_loss: 2.4073e-05 - val_accuracy: 0.0000e+00 - val_mean_squared_error: 2.4073e-05\n",
            "Epoch 17/20\n",
            "40/40 [==============================] - 1s 13ms/step - loss: 2.2664e-05 - accuracy: 0.0000e+00 - mean_squared_error: 2.2664e-05 - val_loss: 2.3945e-05 - val_accuracy: 0.0000e+00 - val_mean_squared_error: 2.3945e-05\n",
            "Epoch 18/20\n",
            "40/40 [==============================] - 1s 13ms/step - loss: 2.2679e-05 - accuracy: 0.0000e+00 - mean_squared_error: 2.2679e-05 - val_loss: 2.4033e-05 - val_accuracy: 0.0000e+00 - val_mean_squared_error: 2.4033e-05\n",
            "Epoch 19/20\n",
            "40/40 [==============================] - 1s 13ms/step - loss: 2.2787e-05 - accuracy: 0.0000e+00 - mean_squared_error: 2.2787e-05 - val_loss: 2.4819e-05 - val_accuracy: 0.0000e+00 - val_mean_squared_error: 2.4819e-05\n",
            "Epoch 20/20\n",
            "40/40 [==============================] - 1s 13ms/step - loss: 2.3045e-05 - accuracy: 0.0000e+00 - mean_squared_error: 2.3045e-05 - val_loss: 2.5032e-05 - val_accuracy: 0.0000e+00 - val_mean_squared_error: 2.5032e-05\n",
            "32/32 [==============================] - 0s 1ms/step\n",
            "91.11627561154896 0.00498245 2.0035067\n",
            "100.0\n",
            "Epoch 1/20\n"
          ]
        },
        {
          "name": "stderr",
          "output_type": "stream",
          "text": [
            "2023-12-06 22:53:15.568984: I tensorflow/core/common_runtime/gpu/gpu_device.cc:1886] Created device /device:GPU:0 with 20609 MB memory:  -> device: 0, name: NVIDIA L4, pci bus id: 0000:00:03.0, compute capability: 8.9\n"
          ]
        },
        {
          "name": "stdout",
          "output_type": "stream",
          "text": [
            "     39/Unknown - 1s 6ms/step - loss: 0.0036 - accuracy: 0.0000e+00 - mean_squared_error: 0.0036 "
          ]
        },
        {
          "name": "stderr",
          "output_type": "stream",
          "text": [
            "2023-12-06 22:53:16.904264: I tensorflow/core/framework/local_rendezvous.cc:421] Local rendezvous recv item cancelled. Key hash: 12749084622472637211\n",
            "2023-12-06 22:53:16.904329: I tensorflow/core/framework/local_rendezvous.cc:421] Local rendezvous recv item cancelled. Key hash: 10316076964217112533\n"
          ]
        },
        {
          "name": "stdout",
          "output_type": "stream",
          "text": [
            "40/40 [==============================] - 2s 17ms/step - loss: 0.0036 - accuracy: 0.0000e+00 - mean_squared_error: 0.0036 - val_loss: 2.7644e-04 - val_accuracy: 0.0000e+00 - val_mean_squared_error: 2.7644e-04\n",
            "Epoch 2/20\n",
            "31/40 [======================>.......] - ETA: 0s - loss: 9.1908e-05 - accuracy: 0.0000e+00 - mean_squared_error: 9.1908e-05"
          ]
        },
        {
          "name": "stderr",
          "output_type": "stream",
          "text": [
            "2023-12-06 22:53:17.317573: I tensorflow/core/framework/local_rendezvous.cc:421] Local rendezvous recv item cancelled. Key hash: 12749084622472637211\n"
          ]
        },
        {
          "name": "stdout",
          "output_type": "stream",
          "text": [
            "40/40 [==============================] - 0s 12ms/step - loss: 7.9164e-05 - accuracy: 0.0000e+00 - mean_squared_error: 7.9164e-05 - val_loss: 2.4959e-05 - val_accuracy: 0.0000e+00 - val_mean_squared_error: 2.4959e-05\n",
            "Epoch 3/20\n",
            "40/40 [==============================] - 1s 13ms/step - loss: 2.4303e-05 - accuracy: 0.0000e+00 - mean_squared_error: 2.4303e-05 - val_loss: 2.3087e-05 - val_accuracy: 0.0000e+00 - val_mean_squared_error: 2.3087e-05\n",
            "Epoch 4/20\n",
            "40/40 [==============================] - 1s 13ms/step - loss: 2.2745e-05 - accuracy: 0.0000e+00 - mean_squared_error: 2.2745e-05 - val_loss: 2.2702e-05 - val_accuracy: 0.0000e+00 - val_mean_squared_error: 2.2702e-05\n",
            "Epoch 5/20\n",
            "40/40 [==============================] - 1s 14ms/step - loss: 2.2570e-05 - accuracy: 0.0000e+00 - mean_squared_error: 2.2570e-05 - val_loss: 2.2884e-05 - val_accuracy: 0.0000e+00 - val_mean_squared_error: 2.2884e-05\n",
            "Epoch 6/20\n",
            "40/40 [==============================] - 1s 13ms/step - loss: 2.2552e-05 - accuracy: 0.0000e+00 - mean_squared_error: 2.2552e-05 - val_loss: 2.2863e-05 - val_accuracy: 0.0000e+00 - val_mean_squared_error: 2.2863e-05\n",
            "Epoch 7/20\n",
            "40/40 [==============================] - 1s 13ms/step - loss: 2.2556e-05 - accuracy: 0.0000e+00 - mean_squared_error: 2.2556e-05 - val_loss: 2.2618e-05 - val_accuracy: 0.0000e+00 - val_mean_squared_error: 2.2618e-05\n",
            "Epoch 8/20\n",
            "40/40 [==============================] - 0s 13ms/step - loss: 2.2483e-05 - accuracy: 0.0000e+00 - mean_squared_error: 2.2483e-05 - val_loss: 2.2591e-05 - val_accuracy: 0.0000e+00 - val_mean_squared_error: 2.2591e-05\n",
            "Epoch 9/20\n",
            "40/40 [==============================] - 1s 13ms/step - loss: 2.2406e-05 - accuracy: 0.0000e+00 - mean_squared_error: 2.2406e-05 - val_loss: 2.2570e-05 - val_accuracy: 0.0000e+00 - val_mean_squared_error: 2.2570e-05\n",
            "Epoch 10/20\n",
            "40/40 [==============================] - 1s 13ms/step - loss: 2.2396e-05 - accuracy: 0.0000e+00 - mean_squared_error: 2.2396e-05 - val_loss: 2.2586e-05 - val_accuracy: 0.0000e+00 - val_mean_squared_error: 2.2586e-05\n",
            "Epoch 11/20\n",
            "40/40 [==============================] - 1s 13ms/step - loss: 2.2396e-05 - accuracy: 0.0000e+00 - mean_squared_error: 2.2396e-05 - val_loss: 2.2624e-05 - val_accuracy: 0.0000e+00 - val_mean_squared_error: 2.2624e-05\n",
            "Epoch 12/20\n",
            "40/40 [==============================] - 0s 12ms/step - loss: 2.2392e-05 - accuracy: 0.0000e+00 - mean_squared_error: 2.2392e-05 - val_loss: 2.2627e-05 - val_accuracy: 0.0000e+00 - val_mean_squared_error: 2.2627e-05\n",
            "Epoch 13/20\n",
            "40/40 [==============================] - 0s 13ms/step - loss: 2.2378e-05 - accuracy: 0.0000e+00 - mean_squared_error: 2.2378e-05 - val_loss: 2.2658e-05 - val_accuracy: 0.0000e+00 - val_mean_squared_error: 2.2658e-05\n",
            "Epoch 14/20\n",
            "40/40 [==============================] - 1s 14ms/step - loss: 2.2375e-05 - accuracy: 0.0000e+00 - mean_squared_error: 2.2375e-05 - val_loss: 2.2668e-05 - val_accuracy: 0.0000e+00 - val_mean_squared_error: 2.2668e-05\n",
            "Epoch 15/20\n",
            "40/40 [==============================] - 1s 13ms/step - loss: 2.2379e-05 - accuracy: 0.0000e+00 - mean_squared_error: 2.2379e-05 - val_loss: 2.2548e-05 - val_accuracy: 0.0000e+00 - val_mean_squared_error: 2.2548e-05\n",
            "Epoch 16/20\n",
            "40/40 [==============================] - 1s 13ms/step - loss: 2.2356e-05 - accuracy: 0.0000e+00 - mean_squared_error: 2.2356e-05 - val_loss: 2.2442e-05 - val_accuracy: 0.0000e+00 - val_mean_squared_error: 2.2442e-05\n",
            "Epoch 17/20\n",
            "40/40 [==============================] - 0s 12ms/step - loss: 2.2340e-05 - accuracy: 0.0000e+00 - mean_squared_error: 2.2340e-05 - val_loss: 2.2458e-05 - val_accuracy: 0.0000e+00 - val_mean_squared_error: 2.2458e-05\n",
            "Epoch 18/20\n",
            "40/40 [==============================] - 1s 13ms/step - loss: 2.2398e-05 - accuracy: 0.0000e+00 - mean_squared_error: 2.2398e-05 - val_loss: 2.2566e-05 - val_accuracy: 0.0000e+00 - val_mean_squared_error: 2.2566e-05\n",
            "Epoch 19/20\n",
            "40/40 [==============================] - 1s 13ms/step - loss: 2.2487e-05 - accuracy: 0.0000e+00 - mean_squared_error: 2.2487e-05 - val_loss: 2.2697e-05 - val_accuracy: 0.0000e+00 - val_mean_squared_error: 2.2697e-05\n",
            "Epoch 20/20\n",
            "40/40 [==============================] - 1s 13ms/step - loss: 2.2553e-05 - accuracy: 0.0000e+00 - mean_squared_error: 2.2553e-05 - val_loss: 2.2490e-05 - val_accuracy: 0.0000e+00 - val_mean_squared_error: 2.2490e-05\n",
            "32/32 [==============================] - 0s 1ms/step\n",
            "100.0 0.004892342 2.0233185\n"
          ]
        }
      ],
      "source": [
        "# SCRIPT DE ENTRENAMIENTO EN FUNCION DE BETA, TEMPORAL\n",
        "mse_arr = {}\n",
        "for beta in betas:\n",
        "    print(beta)\n",
        "    dataset = ds_set[beta]\n",
        "    train_size = int(0.8 * num_samples)\n",
        "\n",
        "    train_dataset = dataset.take(train_size)\n",
        "    val_dataset = dataset.skip(train_size)\n",
        "\n",
        "\n",
        "    batch_size = 1024\n",
        "    train_dataset = train_dataset.batch(batch_size)\n",
        "    val_dataset = val_dataset.batch(batch_size)\n",
        "\n",
        "    #beta_val = beta_input[train_size:]\n",
        "    # Compile the model\n",
        "    model.compile(optimizer=Adam(),\n",
        "                loss='MSE',  \n",
        "                metrics=['accuracy', 'mean_squared_error'])\n",
        "\n",
        "    # Train the model\n",
        "    num_epochs = 20\n",
        "    device_name = tf.test.gpu_device_name()\n",
        "\n",
        "    with tf.device('/gpu:0'):\n",
        "        history = model.fit(train_dataset, epochs=num_epochs, validation_data=val_dataset)\n",
        "    \n",
        "    # Assuming you have a validation dataset (val_dataset)\n",
        "    iterador = iter(val_dataset)\n",
        "    sample = next(iterador)\n",
        "    next_sample = next(iterador)\n",
        "    input_data = sample[0]  # Assuming your dataset provides input data as the first element\n",
        "    actual_values = sample[1]  # Assuming your dataset provides actual labels as the second element\n",
        "\n",
        "    # Predict using the model\n",
        "    predictions = model.predict(input_data)\n",
        "\n",
        "    from sklearn.metrics import mean_squared_error\n",
        "\n",
        "    RMSE_pred = mean_squared_error(actual_values, predictions, squared=False)\n",
        "    RMSE_rand = mean_squared_error(actual_values, next_sample[1], squared=False)\n",
        "    print(beta, RMSE_pred, RMSE_rand)\n",
        "    mse_arr[beta] = RMSE_pred / RMSE_rand"
      ]
    },
    {
      "cell_type": "code",
      "execution_count": 25,
      "metadata": {},
      "outputs": [
        {
          "data": {
            "text/plain": [
              "{0.01: 0.004340341,\n",
              " 0.012067926406393288: 0.016677435,\n",
              " 0.014563484775012436: 0.003804141,\n",
              " 0.017575106248547922: 0.0018886577,\n",
              " 0.021209508879201904: 0.00043455587,\n",
              " 0.025595479226995357: 0.0040141763,\n",
              " 0.030888435964774818: 0.0058663855,\n",
              " 0.0372759372031494: 0.0009774505,\n",
              " 0.04498432668969444: 0.0011869574,\n",
              " 0.054286754393238594: 0.0009863802,\n",
              " 0.0655128556859551: 0.00063917827,\n",
              " 0.07906043210907697: 0.0031279516,\n",
              " 0.09540954763499938: 0.003923096,\n",
              " 0.1151395399326447: 0.004996429,\n",
              " 0.13894954943731375: 0.0021409448,\n",
              " 0.16768329368110074: 0.0015633062,\n",
              " 0.20235896477251566: 0.0012070757,\n",
              " 0.2442053094548651: 0.0018938576,\n",
              " 0.29470517025518095: 0.0009410841,\n",
              " 0.35564803062231287: 0.0027180535,\n",
              " 0.42919342601287763: 0.003573688,\n",
              " 0.517947467923121: 0.0010000453,\n",
              " 0.6250551925273969: 0.0018657005,\n",
              " 0.7543120063354615: 0.0008352658,\n",
              " 0.9102981779915218: 0.002245475,\n",
              " 1.0985411419875584: 0.045804735,\n",
              " 1.325711365590108: 0.010668376,\n",
              " 1.5998587196060574: 0.026423136,\n",
              " 1.9306977288832496: 0.0023803834,\n",
              " 2.329951810515372: 0.004559472,\n",
              " 2.811768697974228: 0.008074691,\n",
              " 3.3932217718953264: 0.0025684813,\n",
              " 4.094915062380423: 0.0025826867,\n",
              " 4.941713361323833: 0.0009807616,\n",
              " 5.963623316594643: 0.0011611875,\n",
              " 7.196856730011514: 0.0014911697,\n",
              " 8.68511373751352: 0.0018834714,\n",
              " 10.481131341546853: 0.00083453004,\n",
              " 12.648552168552959: 0.0044199917,\n",
              " 15.264179671752318: 0.0004933915,\n",
              " 18.420699693267146: 0.0073821805,\n",
              " 22.229964825261934: 0.0008806416,\n",
              " 26.826957952797247: 0.0016519005,\n",
              " 32.374575428176435: 0.00054689223,\n",
              " 39.06939937054613: 0.0020806757,\n",
              " 47.1486636345739: 0.00039783499,\n",
              " 56.89866029018293: 0.0015938221,\n",
              " 68.66488450042998: 0.0007591197,\n",
              " 82.86427728546842: 0.0075837355,\n",
              " 100.0: 0.0004638351}"
            ]
          },
          "execution_count": 25,
          "metadata": {},
          "output_type": "execute_result"
        }
      ],
      "source": [
        "mse_arr"
      ]
    },
    {
      "cell_type": "code",
      "execution_count": 45,
      "metadata": {},
      "outputs": [
        {
          "data": {
            "text/plain": [
              "Text(0, 0.5, 'Loss')"
            ]
          },
          "execution_count": 45,
          "metadata": {},
          "output_type": "execute_result"
        },
        {
          "data": {
            "image/png": "[encoded data removed]",
            "text/plain": [
              "<Figure size 640x480 with 1 Axes>"
            ]
          },
          "metadata": {},
          "output_type": "display_data"
        }
      ],
      "source": [
        "import matplotlib.pyplot as plt\n",
        "\n",
        "plt.plot(betas,mse_arr.values())\n",
        "plt.xscale('log', base=10)\n",
        "plt.yscale('log', base=10)\n",
        "plt.xlabel('Beta')\n",
        "plt.ylabel('Loss')"
      ]
    },
    {
      "cell_type": "code",
      "execution_count": 38,
      "metadata": {
        "colab": {
          "base_uri": "https://localhost:8080/",
          "height": 472
        },
        "id": "cvpE_X1iTXcB",
        "outputId": "eff0e5f5-5b26-46ea-ec6b-491d1de9944c"
      },
      "outputs": [
        {
          "data": {
            "image/png": "[encoded data removed]",
            "text/plain": [
              "<Figure size 640x480 with 1 Axes>"
            ]
          },
          "metadata": {},
          "output_type": "display_data"
        }
      ],
      "source": [
        "import matplotlib.pyplot as plt\n",
        "#plt.plot(history.history['accuracy'], label='Training Accuracy')\n",
        "#plt.plot(history.history['val_accuracy'], label='Validation Accuracy')\n",
        "plt.plot(history.history['mean_squared_error'], label='Training MSE')\n",
        "plt.plot(history.history['val_mean_squared_error'], label='Validation MSE')\n",
        "\n",
        "plt.xlabel('Epoch')\n",
        "plt.ylabel('MSE')\n",
        "plt.title('MSE vs. Epoch')\n",
        "plt.legend()\n",
        "plt.show()\n",
        "\n",
        "# MIN LOSS = 0.0128 c/fund 50epochs MSE\n",
        "##         = 0.0118 s/fund 50epochs MSE\n",
        "##         = 0.0039 s/fund 50epochs MSE m=4 d=6"
      ]
    },
    {
      "cell_type": "code",
      "execution_count": 133,
      "metadata": {
        "colab": {
          "base_uri": "https://localhost:8080/"
        },
        "id": "BRlZuRUNa6Yb",
        "outputId": "85850559-311b-4cf4-ea5b-465a9ee8a7af"
      },
      "outputs": [
        {
          "name": "stdout",
          "output_type": "stream",
          "text": [
            "8/8 [==============================] - 0s 1ms/step\n"
          ]
        }
      ],
      "source": [
        "# Assuming you have a validation dataset (val_dataset)\n",
        "iterador = iter(val_dataset)\n",
        "sample = next(iterador)\n",
        "next_sample = next(iterador)\n",
        "input_data = sample[0]  # Assuming your dataset provides input data as the first element\n",
        "actual_values = sample[1]  # Assuming your dataset provides actual labels as the second element\n",
        "\n",
        "# Predict using the model\n",
        "predictions = model.predict(input_data)"
      ]
    },
    {
      "cell_type": "code",
      "execution_count": 134,
      "metadata": {},
      "outputs": [
        {
          "name": "stdout",
          "output_type": "stream",
          "text": [
            "tf.Tensor(0.41295642, shape=(), dtype=float32)\n",
            "[0.41389617]\n",
            "tf.Tensor(0.9485647, shape=(), dtype=float32)\n",
            "[0.9455778]\n",
            "tf.Tensor(0.08134538, shape=(), dtype=float32)\n",
            "[0.0844989]\n",
            "tf.Tensor(0.5722696, shape=(), dtype=float32)\n",
            "[0.5770434]\n",
            "0.0038723878 0.3975444\n"
          ]
        }
      ],
      "source": [
        "from sklearn.metrics import mean_squared_error\n",
        "\n",
        "# Vemos algunos valores\n",
        "for e in val_dataset:\n",
        "    for i in range(0, 4):\n",
        "        print(e[1][i])\n",
        "        print(predictions[i])\n",
        "    break\n",
        "    \n",
        "\n",
        "RMSE_pred = mean_squared_error(actual_values, predictions, squared=False)\n",
        "RMSE_rand = mean_squared_error(actual_values, next_sample[1], squared=False)\n",
        "print(RMSE_pred, RMSE_rand)"
      ]
    },
    {
      "cell_type": "code",
      "execution_count": 95,
      "metadata": {
        "id": "ds5iD1OMbZu3"
      },
      "outputs": [
        {
          "ename": "ValueError",
          "evalue": "cannot reshape array of size 2 into shape (1,1)",
          "output_type": "error",
          "traceback": [
            "\u001b[0;31m---------------------------------------------------------------------------\u001b[0m",
            "\u001b[0;31mValueError\u001b[0m                                Traceback (most recent call last)",
            "\u001b[1;32m/home/agus/Escritorio/UNLP/FermionicML/FermionicML_thermal_2body.ipynb Cell 33\u001b[0m line \u001b[0;36m1\n\u001b[1;32m      <a href='vscode-notebook-cell:/home/agus/Escritorio/UNLP/FermionicML/FermionicML_thermal_2body.ipynb#Y146sZmlsZQ%3D%3D?line=7'>8</a>\u001b[0m \u001b[39mfor\u001b[39;00m e \u001b[39min\u001b[39;00m val_dataset:\n\u001b[1;32m      <a href='vscode-notebook-cell:/home/agus/Escritorio/UNLP/FermionicML/FermionicML_thermal_2body.ipynb#Y146sZmlsZQ%3D%3D?line=8'>9</a>\u001b[0m     \u001b[39mfor\u001b[39;00m i \u001b[39min\u001b[39;00m \u001b[39mrange\u001b[39m(\u001b[39m0\u001b[39m, \u001b[39m3\u001b[39m \u001b[39mif\u001b[39;00m printear \u001b[39melse\u001b[39;00m batch_size):\n\u001b[1;32m     <a href='vscode-notebook-cell:/home/agus/Escritorio/UNLP/FermionicML/FermionicML_thermal_2body.ipynb#Y146sZmlsZQ%3D%3D?line=9'>10</a>\u001b[0m         \u001b[39m# Valores actuales\u001b[39;00m\n\u001b[1;32m     <a href='vscode-notebook-cell:/home/agus/Escritorio/UNLP/FermionicML/FermionicML_thermal_2body.ipynb#Y146sZmlsZQ%3D%3D?line=10'>11</a>\u001b[0m         \u001b[39m#h = e[1][i].numpy().reshape(basis.size,basis.size)\u001b[39;00m\n\u001b[0;32m---> <a href='vscode-notebook-cell:/home/agus/Escritorio/UNLP/FermionicML/FermionicML_thermal_2body.ipynb#Y146sZmlsZQ%3D%3D?line=11'>12</a>\u001b[0m         h_true \u001b[39m=\u001b[39m gen_to_h(e[\u001b[39m1\u001b[39;49m][i], rho_1_arrays)\n\u001b[1;32m     <a href='vscode-notebook-cell:/home/agus/Escritorio/UNLP/FermionicML/FermionicML_thermal_2body.ipynb#Y146sZmlsZQ%3D%3D?line=12'>13</a>\u001b[0m         \u001b[39m#print(h) if printear else 0\u001b[39;00m\n\u001b[1;32m     <a href='vscode-notebook-cell:/home/agus/Escritorio/UNLP/FermionicML/FermionicML_thermal_2body.ipynb#Y146sZmlsZQ%3D%3D?line=13'>14</a>\u001b[0m         r \u001b[39m=\u001b[39m \u001b[39mmax\u001b[39m(np\u001b[39m.\u001b[39mlinalg\u001b[39m.\u001b[39meigvals(e[\u001b[39m0\u001b[39m][i]))\n",
            "\u001b[1;32m/home/agus/Escritorio/UNLP/FermionicML/FermionicML_thermal_2body.ipynb Cell 33\u001b[0m line \u001b[0;36m2\n\u001b[1;32m     <a href='vscode-notebook-cell:/home/agus/Escritorio/UNLP/FermionicML/FermionicML_thermal_2body.ipynb#Y146sZmlsZQ%3D%3D?line=18'>19</a>\u001b[0m \u001b[39mdef\u001b[39;00m \u001b[39mgen_to_h\u001b[39m(base, rho_1_arrays):\n\u001b[0;32m---> <a href='vscode-notebook-cell:/home/agus/Escritorio/UNLP/FermionicML/FermionicML_thermal_2body.ipynb#Y146sZmlsZQ%3D%3D?line=19'>20</a>\u001b[0m     triag \u001b[39m=\u001b[39m fill_triangular_np(base)\n\u001b[1;32m     <a href='vscode-notebook-cell:/home/agus/Escritorio/UNLP/FermionicML/FermionicML_thermal_2body.ipynb#Y146sZmlsZQ%3D%3D?line=20'>21</a>\u001b[0m     body_gen \u001b[39m=\u001b[39m triag \u001b[39m+\u001b[39m np\u001b[39m.\u001b[39mtranspose(triag)\u001b[39m-\u001b[39mnp\u001b[39m.\u001b[39mdiag(np\u001b[39m.\u001b[39mdiag(triag))\n\u001b[1;32m     <a href='vscode-notebook-cell:/home/agus/Escritorio/UNLP/FermionicML/FermionicML_thermal_2body.ipynb#Y146sZmlsZQ%3D%3D?line=21'>22</a>\u001b[0m     h \u001b[39m=\u001b[39m np\u001b[39m.\u001b[39marray(base_hamiltonian(body_gen, basis, rho_1_arrays))  \n",
            "\u001b[1;32m/home/agus/Escritorio/UNLP/FermionicML/FermionicML_thermal_2body.ipynb Cell 33\u001b[0m line \u001b[0;36m1\n\u001b[1;32m     <a href='vscode-notebook-cell:/home/agus/Escritorio/UNLP/FermionicML/FermionicML_thermal_2body.ipynb#Y146sZmlsZQ%3D%3D?line=14'>15</a>\u001b[0m n \u001b[39m=\u001b[39m np\u001b[39m.\u001b[39mint32(np\u001b[39m.\u001b[39msqrt(\u001b[39m.25\u001b[39m \u001b[39m+\u001b[39m \u001b[39m2\u001b[39m \u001b[39m*\u001b[39m m) \u001b[39m-\u001b[39m \u001b[39m.5\u001b[39m)\n\u001b[1;32m     <a href='vscode-notebook-cell:/home/agus/Escritorio/UNLP/FermionicML/FermionicML_thermal_2body.ipynb#Y146sZmlsZQ%3D%3D?line=15'>16</a>\u001b[0m x_tail \u001b[39m=\u001b[39m x[(m \u001b[39m-\u001b[39m (n\u001b[39m*\u001b[39m\u001b[39m*\u001b[39m\u001b[39m2\u001b[39m \u001b[39m-\u001b[39m m)):]\n\u001b[0;32m---> <a href='vscode-notebook-cell:/home/agus/Escritorio/UNLP/FermionicML/FermionicML_thermal_2body.ipynb#Y146sZmlsZQ%3D%3D?line=16'>17</a>\u001b[0m \u001b[39mreturn\u001b[39;00m np\u001b[39m.\u001b[39mtriu(np\u001b[39m.\u001b[39;49mconcatenate([x, x_tail[::\u001b[39m-\u001b[39;49m\u001b[39m1\u001b[39;49m]], \u001b[39m0\u001b[39;49m)\u001b[39m.\u001b[39;49mreshape(n, n))\n",
            "\u001b[0;31mValueError\u001b[0m: cannot reshape array of size 2 into shape (1,1)"
          ]
        }
      ],
      "source": [
        "m_size = basis.size\n",
        "rho_1_pred = []\n",
        "rho_1_actual = []\n",
        "norm = []\n",
        "norm_rand = []\n",
        "printear =  False\n",
        "\n",
        "for e in val_dataset:\n",
        "    for i in range(0, 3 if printear else batch_size):\n",
        "        # Valores actuales\n",
        "        #h = e[1][i].numpy().reshape(basis.size,basis.size)\n",
        "        h_true = gen_to_h(e[1][i], rho_1_arrays)\n",
        "        #print(h) if printear else 0\n",
        "        r = max(np.linalg.eigvals(e[0][i]))\n",
        "        rho_1_actual.append(r)\n",
        "\n",
        "        print(h_true) if printear else 0\n",
        "        print(r) if printear else 0\n",
        "\n",
        "        # Valores predichos\n",
        "        #h = predictions[i].reshape(basis.size,basis.size)\n",
        "        h_pred = gen_to_h(predictions[i], rho_1_arrays)\n",
        "        beta = 1\n",
        "        # Estado térmico\n",
        "        state = thermal_state(h_pred, beta)\n",
        "        # Estado puro\n",
        "        #state = pure_state(h_pred)\n",
        "        rho1 = np.array(rho_1(basis.d, state, rho_1_arrays))\n",
        "        r = max(np.sort(linalg_d.eigvals(rho1).real))\n",
        "        rho_1_pred.append(r)\n",
        "\n",
        "        print(h_pred) if printear else 0\n",
        "        print(r) if printear else 0\n",
        "        \n",
        "\n",
        "        # Normas\n",
        "        norm.append(np.linalg.norm(h_true-h_pred, ord='fro'))\n",
        "        print(f'Norma {norm[-1]}') if printear else 0\n",
        "        ## Vamos a comparar con un h aleatorio\n",
        "        size = basis.d*(basis.d+1)//2\n",
        "        base = np.random.uniform(low=0, high=1.0, size=(size,))\n",
        "        h_rand = gen_to_h(base, rho_1_arrays)\n",
        "        norm_rand.append(np.linalg.norm(h_true-h_rand, ord='fro'))\n",
        "        #print(f'Norma random {norm_rand[-1]}') if printear else 0\n",
        "        print('') if printear else 0\n",
        "        \n",
        "\n",
        "\n",
        "    # e contiene todo el batch y nos basta con uno\n",
        "    break"
      ]
    },
    {
      "cell_type": "code",
      "execution_count": null,
      "metadata": {},
      "outputs": [],
      "source": [
        "print(e[1][10])\n",
        "predictions[10]"
      ]
    },
    {
      "cell_type": "code",
      "execution_count": null,
      "metadata": {
        "colab": {
          "base_uri": "https://localhost:8080/",
          "height": 501
        },
        "id": "AL2EC9Ci-0HG",
        "outputId": "545ebe57-d3de-490f-f076-709d5c47b5f2"
      },
      "outputs": [],
      "source": [
        "from sklearn.metrics import mean_squared_error, r2_score\n",
        "import matplotlib.pyplot as plt\n",
        "\n",
        "f=1\n",
        "rho_1_actual = np.array(rho_1_actual)\n",
        "rho_1_pred = np.array(rho_1_pred)\n",
        "#print(mean_squared_error(rho_1_pred, rho_1_actual))\n",
        "\n",
        "print('Rho1 based statistics')\n",
        "print(np.mean(np.abs(rho_1_actual-rho_1_pred)))\n",
        "print(np.mean(rho_1_actual)*f)\n",
        "print('std')\n",
        "print(np.std(rho_1_actual-rho_1_pred)*f)\n",
        "print(np.std(rho_1_actual)*f)\n",
        "print(np.std(rho_1_pred)*f)\n",
        "plt.hist(np.array(rho_1_pred-rho_1_actual), bins=50)\n",
        "plt.show()\n",
        "print('H based statistics')\n",
        "print(np.mean(norm), np.mean(norm_rand))\n",
        "print(np.mean(norm_rand)/np.mean(norm))\n",
        "\n",
        "\n",
        "# BEST: FACTOR 1/8 c/fund\n",
        "## 500 epochs, 10M dataset\n",
        "# BEST: FACTOR 1/9 s/fund\n",
        "## 50 epochs, 5M dataset"
      ]
    },
    {
      "cell_type": "code",
      "execution_count": null,
      "metadata": {},
      "outputs": [],
      "source": [
        "6.25/1.30"
      ]
    },
    {
      "cell_type": "code",
      "execution_count": null,
      "metadata": {},
      "outputs": [],
      "source": [
        "# 25 epochs d = m*2\n",
        "res = {}\n",
        "res[5] = 35/8.19 \n",
        "res[4] = 15/2.47\n",
        "res[3] = 6.2/1.73"
      ]
    },
    {
      "cell_type": "code",
      "execution_count": null,
      "metadata": {},
      "outputs": [],
      "source": [
        "print(res)"
      ]
    },
    {
      "cell_type": "code",
      "execution_count": null,
      "metadata": {
        "colab": {
          "base_uri": "https://localhost:8080/",
          "height": 1000
        },
        "id": "YioVllOX3M1N",
        "outputId": "b7715c37-1400-4c04-8be3-dd247b4b9db9"
      },
      "outputs": [],
      "source": [
        "# Get the weights of all dense layers in the model\n",
        "dense_weights = []\n",
        "for layer in model.layers:\n",
        "    if isinstance(layer, tf.keras.layers.Dense):\n",
        "        weights = layer.get_weights()\n",
        "        if len(weights) > 0:\n",
        "            dense_weights.append(weights[0])\n",
        "\n",
        "# Visualize the weights of each dense layer\n",
        "for i, weights in enumerate(dense_weights):\n",
        "    plt.figure()\n",
        "    plt.imshow(weights, cmap='viridis', aspect='auto')\n",
        "    plt.colorbar()\n",
        "    plt.title(f\"Dense Layer {i+1} Weights Visualization\")\n",
        "    plt.show()\n"
      ]
    },
    {
      "cell_type": "code",
      "execution_count": null,
      "metadata": {},
      "outputs": [
        {
          "data": {
            "text/plain": [
              "0.0"
            ]
          },
          "execution_count": 25,
          "metadata": {},
          "output_type": "execute_result"
        }
      ],
      "source": [
        "rho_2_arrays[9,0,0,9]"
      ]
    },
    {
      "cell_type": "code",
      "execution_count": null,
      "metadata": {},
      "outputs": [
        {
          "name": "stdout",
          "output_type": "stream",
          "text": [
            "[0 0 0 0 1 1] [0 1 1 0 0 0]\n"
          ]
        },
        {
          "data": {
            "text/plain": [
              "0.0"
            ]
          },
          "execution_count": 51,
          "metadata": {},
          "output_type": "execute_result"
        }
      ],
      "source": [
        "# Genera las matrices de rho2\n",
        "def rho_2_gen(basis, mll_basis, t_basis):\n",
        "    size = t_basis.size\n",
        "    s = basis.size\n",
        "    # La entrada i, j contiene C_j^\\dag C_i    i, j \\in t_basis\n",
        "    mat = np.empty((size, size, s, s), dtype=np.float32)\n",
        "    for i, v in enumerate(t_basis.base):\n",
        "        for j, w in enumerate(t_basis.base):\n",
        "            c_i = b_gen(basis, mll_basis, rep_to_exi(v))\n",
        "            cdag_j = bd_gen(mll_basis, basis, rep_to_exi(w))\n",
        "            mat[i, j, :, :] = np.dot(cdag_j, c_i)\n",
        "            if mat[i,j,0,9] != 0:\n",
        "                print(v,w)\n",
        "\n",
        "    return mat\n",
        "\n",
        "r = rho_2_gen(basis, basis_m2, t_basis)\n",
        "r[9,0,0,9]"
      ]
    },
    {
      "cell_type": "code",
      "execution_count": null,
      "metadata": {},
      "outputs": [
        {
          "name": "stdout",
          "output_type": "stream",
          "text": [
            "[[0. 0. 0. 0. 0. 0. 0. 1. 0. 0. 0. 0. 0. 0. 0. 0. 0. 0. 0. 0.]\n",
            " [0. 0. 0. 0. 0. 0. 0. 0. 0. 0. 0. 0. 0. 1. 0. 0. 0. 0. 0. 0.]\n",
            " [0. 0. 0. 0. 0. 0. 0. 0. 0. 0. 0. 0. 0. 0. 0. 0. 1. 0. 0. 0.]\n",
            " [0. 0. 0. 0. 0. 0. 0. 0. 0. 0. 0. 0. 0. 0. 0. 0. 0. 0. 0. 0.]\n",
            " [0. 0. 0. 0. 0. 0. 0. 0. 0. 0. 0. 0. 0. 0. 0. 0. 0. 0. 0. 0.]\n",
            " [0. 0. 0. 0. 0. 0. 0. 0. 0. 0. 0. 0. 0. 0. 0. 0. 0. 0. 0. 1.]]\n"
          ]
        }
      ],
      "source": [
        "print(b_gen(basis, mll_basis, rep_to_exi([0,0,0,1,1,0])))"
      ]
    },
    {
      "cell_type": "code",
      "execution_count": null,
      "metadata": {},
      "outputs": [
        {
          "data": {
            "text/plain": [
              "array([[0., 0., 0., 0., 0., 0., 0., 1., 0., 0., 0., 0., 0., 0., 0., 0.,\n",
              "        0., 0., 0., 0.],\n",
              "       [0., 0., 0., 0., 0., 0., 0., 0., 0., 0., 0., 0., 0., 1., 0., 0.,\n",
              "        0., 0., 0., 0.],\n",
              "       [0., 0., 0., 0., 0., 0., 0., 0., 0., 0., 0., 0., 0., 0., 0., 0.,\n",
              "        1., 0., 0., 0.],\n",
              "       [0., 0., 0., 0., 0., 0., 0., 0., 0., 0., 0., 0., 0., 0., 0., 0.,\n",
              "        0., 0., 0., 0.],\n",
              "       [0., 0., 0., 0., 0., 0., 0., 0., 0., 0., 0., 0., 0., 0., 0., 0.,\n",
              "        0., 0., 0., 0.],\n",
              "       [0., 0., 0., 0., 0., 0., 0., 0., 0., 0., 0., 0., 0., 0., 0., 0.,\n",
              "        0., 0., 0., 1.]], dtype=float32)"
            ]
          },
          "execution_count": 38,
          "metadata": {},
          "output_type": "execute_result"
        }
      ],
      "source": [
        "b"
      ]
    },
    {
      "cell_type": "code",
      "execution_count": null,
      "metadata": {},
      "outputs": [
        {
          "data": {
            "text/plain": [
              "array([[1, 1, 1, 0, 0, 0],\n",
              "       [1, 1, 0, 1, 0, 0],\n",
              "       [1, 1, 0, 0, 1, 0],\n",
              "       [1, 1, 0, 0, 0, 1],\n",
              "       [1, 0, 1, 1, 0, 0],\n",
              "       [1, 0, 1, 0, 1, 0],\n",
              "       [1, 0, 1, 0, 0, 1],\n",
              "       [1, 0, 0, 1, 1, 0],\n",
              "       [1, 0, 0, 1, 0, 1],\n",
              "       [1, 0, 0, 0, 1, 1],\n",
              "       [0, 1, 1, 1, 0, 0],\n",
              "       [0, 1, 1, 0, 1, 0],\n",
              "       [0, 1, 1, 0, 0, 1],\n",
              "       [0, 1, 0, 1, 1, 0],\n",
              "       [0, 1, 0, 1, 0, 1],\n",
              "       [0, 1, 0, 0, 1, 1],\n",
              "       [0, 0, 1, 1, 1, 0],\n",
              "       [0, 0, 1, 1, 0, 1],\n",
              "       [0, 0, 1, 0, 1, 1],\n",
              "       [0, 0, 0, 1, 1, 1]])"
            ]
          },
          "execution_count": 57,
          "metadata": {},
          "output_type": "execute_result"
        }
      ],
      "source": [
        "basis.base"
      ]
    },
    {
      "cell_type": "code",
      "execution_count": null,
      "metadata": {},
      "outputs": [
        {
          "name": "stdout",
          "output_type": "stream",
          "text": [
            "(6, 20)\n",
            "[array([0, 1, 0, 1, 1, 0])] [0 1 0 0 0 0]\n"
          ]
        }
      ],
      "source": [
        "col = 1\n",
        "b = b_gen(basis, mll_basis, rep_to_exi([0,0,0,1,1,0]))\n",
        "print(b.shape)\n",
        "for x in range(0,b.shape[1]):\n",
        "    if b[col,x] != 0:\n",
        "        ind = x\n",
        "        break\n",
        "else:\n",
        "    ind = NaN\n",
        "\n",
        "print([basis.base[ind]], mll_basis.base[col])"
      ]
    },
    {
      "cell_type": "code",
      "execution_count": null,
      "metadata": {},
      "outputs": [],
      "source": [
        "m = 3\n",
        "d = 2*m\n",
        "basis = fixed_basis(m, d)\n",
        "t_basis = fixed_basis(2, d)\n",
        "basis_m1 = fixed_basis(m-1, d)\n",
        "basis_m2 = fixed_basis(m-2, d)\n",
        "ml_basis = basis_m1\n",
        "mll_basis = basis_m2\n",
        "rho_1_arrays = rho_1_gen(basis)\n",
        "rho_2_arrays = rho_2_gen(basis, mll_basis, t_basis)"
      ]
    },
    {
      "cell_type": "code",
      "execution_count": null,
      "metadata": {},
      "outputs": [],
      "source": [
        "t_basis = fixed_basis(2, d)\n",
        "mll_basis = fixed_basis(basis.m-2, d)\n",
        "rho_1_arrays = rho_1_gen(basis)\n",
        "rho_2_arrays = rho_2_gen(basis, mll_basis, t_basis)"
      ]
    },
    {
      "cell_type": "code",
      "execution_count": null,
      "metadata": {},
      "outputs": [],
      "source": [
        "def two_body_hamiltonian(t_basis_size, m, energy, G, rho_1_arrays, rho_2_arrays):\n",
        "    # Creamos la mat diagonal de d*d con los elementos de energy\n",
        "    # cada uno de estos, se contraen con los elementos de rho_1_arrays\n",
        "    # la mat energy contiene las energias de cada termino c^\\dag_k c_k para k kbar (iguales)\n",
        "    # por ello los elementos se repiten \n",
        "    energy_matrix = np.diagflat(np.kron(energy, np.ones(2)))\n",
        "    \n",
        "    # Construimos la mat de energía\n",
        "    h0 = np.sum(energy_matrix[:, :, np.newaxis, np.newaxis] * rho_1_arrays[:, :, :, :], axis=(0, 1))\n",
        "\n",
        "    # Pasamos ahora a la matrix de interacción con la misma estrategia\n",
        "    # dada G que indica la interacción entre los pares k' k'bar k kbar \n",
        "    # (que son elementos particulares de t_basis)\n",
        "    # transladamos estos coeficientes a una matriz en t_basis\n",
        "    # y multiplicamos por rho_2_arrays\n",
        "    \n",
        "    # Primero determinamos, dada t_basis, cuales son los indices de pares kkbar\n",
        "    offset = 4*m+1\n",
        "    indices = [-(k-1)*(2*k-offset) for k in range(1,m+1)] # Lo saque de Mathmatica, vos confia\n",
        "    i, j = np.meshgrid(indices, indices, indexing='ij') # Lo usamos para rellenar la mat deseada\n",
        "    \n",
        "    # Contruimos la mat que contraeremos con rho_2_arrays\n",
        "    mat = np.zeros((t_basis_size, t_basis_size))\n",
        "    mat[i, j] = G\n",
        "\n",
        "    hi = -np.sum(mat[:, :, np.newaxis, np.newaxis] * rho_2_arrays[:, :, :, :], axis=(0, 1))\n",
        "\n",
        "    return (h0, hi)\n"
      ]
    },
    {
      "cell_type": "code",
      "execution_count": null,
      "metadata": {},
      "outputs": [],
      "source": [
        "(h02,hi2) = two_body_hamiltonian(t_basis.size, m, [0,1,2], np.ones((3,3)), rho_1_arrays, rho_2_arrays)"
      ]
    },
    {
      "cell_type": "code",
      "execution_count": null,
      "metadata": {},
      "outputs": [
        {
          "data": {
            "text/plain": [
              "array([[[[1., 0., 0., ..., 0., 0., 0.],\n",
              "         [0., 1., 0., ..., 0., 0., 0.],\n",
              "         [0., 0., 1., ..., 0., 0., 0.],\n",
              "         ...,\n",
              "         [0., 0., 0., ..., 0., 0., 0.],\n",
              "         [0., 0., 0., ..., 0., 0., 0.],\n",
              "         [0., 0., 0., ..., 0., 0., 0.]],\n",
              "\n",
              "        [[0., 0., 0., ..., 0., 0., 0.],\n",
              "         [0., 0., 0., ..., 0., 0., 0.],\n",
              "         [0., 0., 0., ..., 0., 0., 0.],\n",
              "         ...,\n",
              "         [0., 0., 0., ..., 0., 0., 0.],\n",
              "         [0., 0., 0., ..., 0., 0., 0.],\n",
              "         [0., 0., 0., ..., 0., 0., 0.]],\n",
              "\n",
              "        [[0., 0., 0., ..., 0., 0., 0.],\n",
              "         [0., 0., 0., ..., 0., 0., 0.],\n",
              "         [0., 0., 0., ..., 0., 0., 0.],\n",
              "         ...,\n",
              "         [0., 0., 0., ..., 0., 0., 0.],\n",
              "         [0., 0., 0., ..., 0., 0., 0.],\n",
              "         [0., 0., 0., ..., 0., 0., 0.]],\n",
              "\n",
              "        ...,\n",
              "\n",
              "        [[0., 0., 0., ..., 0., 0., 0.],\n",
              "         [0., 0., 0., ..., 0., 0., 0.],\n",
              "         [0., 0., 0., ..., 0., 0., 0.],\n",
              "         ...,\n",
              "         [0., 0., 0., ..., 0., 0., 0.],\n",
              "         [0., 0., 0., ..., 0., 0., 0.],\n",
              "         [0., 0., 0., ..., 0., 0., 0.]],\n",
              "\n",
              "        [[0., 0., 0., ..., 0., 0., 0.],\n",
              "         [0., 0., 0., ..., 0., 0., 0.],\n",
              "         [0., 0., 0., ..., 0., 0., 0.],\n",
              "         ...,\n",
              "         [1., 0., 0., ..., 0., 0., 0.],\n",
              "         [0., 0., 0., ..., 0., 0., 0.],\n",
              "         [0., 0., 1., ..., 0., 0., 0.]],\n",
              "\n",
              "        [[0., 0., 0., ..., 0., 0., 0.],\n",
              "         [0., 0., 0., ..., 0., 0., 0.],\n",
              "         [0., 0., 0., ..., 0., 0., 0.],\n",
              "         ...,\n",
              "         [0., 0., 0., ..., 0., 0., 0.],\n",
              "         [1., 0., 0., ..., 0., 0., 0.],\n",
              "         [0., 1., 0., ..., 0., 0., 0.]]],\n",
              "\n",
              "\n",
              "       [[[0., 0., 0., ..., 0., 0., 0.],\n",
              "         [0., 0., 0., ..., 0., 0., 0.],\n",
              "         [0., 0., 0., ..., 0., 0., 0.],\n",
              "         ...,\n",
              "         [0., 0., 0., ..., 0., 0., 0.],\n",
              "         [0., 0., 0., ..., 0., 0., 0.],\n",
              "         [0., 0., 0., ..., 0., 0., 0.]],\n",
              "\n",
              "        [[1., 0., 0., ..., 0., 0., 0.],\n",
              "         [0., 0., 0., ..., 0., 0., 0.],\n",
              "         [0., 0., 0., ..., 0., 0., 0.],\n",
              "         ...,\n",
              "         [0., 0., 0., ..., 0., 0., 0.],\n",
              "         [0., 0., 0., ..., 0., 0., 0.],\n",
              "         [0., 0., 0., ..., 0., 0., 0.]],\n",
              "\n",
              "        [[0., 0., 0., ..., 0., 0., 0.],\n",
              "         [1., 0., 0., ..., 0., 0., 0.],\n",
              "         [0., 0., 0., ..., 0., 0., 0.],\n",
              "         ...,\n",
              "         [0., 0., 0., ..., 0., 0., 0.],\n",
              "         [0., 0., 0., ..., 0., 0., 0.],\n",
              "         [0., 0., 0., ..., 0., 0., 0.]],\n",
              "\n",
              "        ...,\n",
              "\n",
              "        [[0., 0., 0., ..., 0., 0., 0.],\n",
              "         [0., 0., 0., ..., 0., 0., 0.],\n",
              "         [0., 0., 0., ..., 0., 0., 0.],\n",
              "         ...,\n",
              "         [0., 0., 0., ..., 0., 0., 0.],\n",
              "         [0., 0., 0., ..., 0., 0., 0.],\n",
              "         [0., 0., 0., ..., 0., 0., 0.]],\n",
              "\n",
              "        [[0., 0., 0., ..., 0., 0., 0.],\n",
              "         [0., 0., 0., ..., 0., 0., 0.],\n",
              "         [0., 0., 0., ..., 0., 0., 0.],\n",
              "         ...,\n",
              "         [0., 0., 0., ..., 0., 0., 0.],\n",
              "         [0., 0., 0., ..., 0., 0., 0.],\n",
              "         [0., 0., 0., ..., 0., 0., 0.]],\n",
              "\n",
              "        [[0., 0., 0., ..., 0., 0., 0.],\n",
              "         [0., 0., 0., ..., 0., 0., 0.],\n",
              "         [0., 0., 0., ..., 0., 0., 0.],\n",
              "         ...,\n",
              "         [0., 0., 0., ..., 0., 0., 0.],\n",
              "         [0., 0., 0., ..., 0., 0., 0.],\n",
              "         [0., 0., 0., ..., 0., 0., 0.]]],\n",
              "\n",
              "\n",
              "       [[[0., 0., 0., ..., 0., 0., 0.],\n",
              "         [0., 0., 0., ..., 0., 0., 0.],\n",
              "         [0., 0., 0., ..., 0., 0., 0.],\n",
              "         ...,\n",
              "         [0., 0., 0., ..., 0., 0., 0.],\n",
              "         [0., 0., 0., ..., 0., 0., 0.],\n",
              "         [0., 0., 0., ..., 0., 0., 0.]],\n",
              "\n",
              "        [[0., 1., 0., ..., 0., 0., 0.],\n",
              "         [0., 0., 0., ..., 0., 0., 0.],\n",
              "         [0., 0., 0., ..., 0., 0., 0.],\n",
              "         ...,\n",
              "         [0., 0., 0., ..., 0., 0., 0.],\n",
              "         [0., 0., 0., ..., 0., 0., 0.],\n",
              "         [0., 0., 0., ..., 0., 0., 0.]],\n",
              "\n",
              "        [[0., 0., 0., ..., 0., 0., 0.],\n",
              "         [0., 1., 0., ..., 0., 0., 0.],\n",
              "         [0., 0., 0., ..., 0., 0., 0.],\n",
              "         ...,\n",
              "         [0., 0., 0., ..., 0., 0., 0.],\n",
              "         [0., 0., 0., ..., 0., 0., 0.],\n",
              "         [0., 0., 0., ..., 0., 0., 0.]],\n",
              "\n",
              "        ...,\n",
              "\n",
              "        [[0., 0., 0., ..., 0., 0., 0.],\n",
              "         [0., 0., 0., ..., 0., 0., 0.],\n",
              "         [0., 0., 0., ..., 0., 0., 0.],\n",
              "         ...,\n",
              "         [0., 0., 0., ..., 0., 0., 0.],\n",
              "         [0., 0., 0., ..., 0., 0., 0.],\n",
              "         [0., 0., 0., ..., 0., 0., 0.]],\n",
              "\n",
              "        [[0., 0., 0., ..., 0., 0., 0.],\n",
              "         [0., 0., 0., ..., 0., 0., 0.],\n",
              "         [0., 0., 0., ..., 0., 0., 0.],\n",
              "         ...,\n",
              "         [0., 0., 0., ..., 0., 0., 0.],\n",
              "         [0., 0., 0., ..., 0., 0., 0.],\n",
              "         [0., 0., 0., ..., 0., 0., 0.]],\n",
              "\n",
              "        [[0., 0., 0., ..., 0., 0., 0.],\n",
              "         [0., 0., 0., ..., 0., 0., 0.],\n",
              "         [0., 0., 0., ..., 0., 0., 0.],\n",
              "         ...,\n",
              "         [0., 0., 0., ..., 0., 0., 0.],\n",
              "         [0., 0., 0., ..., 0., 0., 0.],\n",
              "         [0., 0., 0., ..., 0., 0., 0.]]],\n",
              "\n",
              "\n",
              "       ...,\n",
              "\n",
              "\n",
              "       [[[0., 0., 0., ..., 0., 0., 0.],\n",
              "         [0., 0., 0., ..., 0., 0., 0.],\n",
              "         [0., 0., 0., ..., 0., 0., 0.],\n",
              "         ...,\n",
              "         [0., 0., 0., ..., 0., 0., 0.],\n",
              "         [0., 0., 0., ..., 0., 0., 0.],\n",
              "         [0., 0., 0., ..., 0., 0., 0.]],\n",
              "\n",
              "        [[0., 0., 0., ..., 0., 0., 0.],\n",
              "         [0., 0., 0., ..., 0., 0., 0.],\n",
              "         [0., 0., 0., ..., 0., 0., 0.],\n",
              "         ...,\n",
              "         [0., 0., 0., ..., 0., 0., 0.],\n",
              "         [0., 0., 0., ..., 0., 0., 0.],\n",
              "         [0., 0., 0., ..., 0., 0., 0.]],\n",
              "\n",
              "        [[0., 0., 0., ..., 0., 0., 0.],\n",
              "         [0., 0., 0., ..., 0., 0., 0.],\n",
              "         [0., 0., 0., ..., 0., 0., 0.],\n",
              "         ...,\n",
              "         [0., 0., 0., ..., 0., 0., 0.],\n",
              "         [0., 0., 0., ..., 0., 0., 0.],\n",
              "         [0., 0., 0., ..., 0., 0., 0.]],\n",
              "\n",
              "        ...,\n",
              "\n",
              "        [[0., 0., 0., ..., 0., 0., 0.],\n",
              "         [0., 0., 0., ..., 0., 0., 0.],\n",
              "         [0., 0., 0., ..., 0., 0., 0.],\n",
              "         ...,\n",
              "         [0., 0., 0., ..., 0., 0., 0.],\n",
              "         [0., 0., 0., ..., 0., 0., 0.],\n",
              "         [0., 0., 0., ..., 0., 0., 1.]],\n",
              "\n",
              "        [[0., 0., 0., ..., 0., 0., 0.],\n",
              "         [0., 0., 0., ..., 0., 0., 0.],\n",
              "         [0., 0., 0., ..., 0., 0., 0.],\n",
              "         ...,\n",
              "         [0., 0., 0., ..., 0., 0., 0.],\n",
              "         [0., 0., 0., ..., 0., 0., 0.],\n",
              "         [0., 0., 0., ..., 0., 0., 0.]],\n",
              "\n",
              "        [[0., 0., 0., ..., 0., 0., 0.],\n",
              "         [0., 0., 0., ..., 0., 0., 0.],\n",
              "         [0., 0., 0., ..., 0., 0., 0.],\n",
              "         ...,\n",
              "         [0., 0., 0., ..., 0., 0., 0.],\n",
              "         [0., 0., 0., ..., 0., 0., 0.],\n",
              "         [0., 0., 0., ..., 0., 0., 0.]]],\n",
              "\n",
              "\n",
              "       [[[0., 0., 0., ..., 1., 0., 0.],\n",
              "         [0., 0., 0., ..., 0., 0., 0.],\n",
              "         [0., 0., 0., ..., 0., 0., 1.],\n",
              "         ...,\n",
              "         [0., 0., 0., ..., 0., 0., 0.],\n",
              "         [0., 0., 0., ..., 0., 0., 0.],\n",
              "         [0., 0., 0., ..., 0., 0., 0.]],\n",
              "\n",
              "        [[0., 0., 0., ..., 0., 0., 0.],\n",
              "         [0., 0., 0., ..., 0., 0., 0.],\n",
              "         [0., 0., 0., ..., 0., 0., 0.],\n",
              "         ...,\n",
              "         [0., 0., 0., ..., 0., 0., 0.],\n",
              "         [0., 0., 0., ..., 0., 0., 0.],\n",
              "         [0., 0., 0., ..., 0., 0., 0.]],\n",
              "\n",
              "        [[0., 0., 0., ..., 0., 0., 0.],\n",
              "         [0., 0., 0., ..., 0., 0., 0.],\n",
              "         [0., 0., 0., ..., 0., 0., 0.],\n",
              "         ...,\n",
              "         [0., 0., 0., ..., 0., 0., 0.],\n",
              "         [0., 0., 0., ..., 0., 0., 0.],\n",
              "         [0., 0., 0., ..., 0., 0., 0.]],\n",
              "\n",
              "        ...,\n",
              "\n",
              "        [[0., 0., 0., ..., 0., 0., 0.],\n",
              "         [0., 0., 0., ..., 0., 0., 0.],\n",
              "         [0., 0., 0., ..., 0., 0., 0.],\n",
              "         ...,\n",
              "         [0., 0., 0., ..., 0., 0., 0.],\n",
              "         [0., 0., 0., ..., 0., 0., 0.],\n",
              "         [0., 0., 0., ..., 0., 0., 0.]],\n",
              "\n",
              "        [[0., 0., 0., ..., 0., 0., 0.],\n",
              "         [0., 0., 0., ..., 0., 0., 0.],\n",
              "         [0., 0., 0., ..., 0., 0., 0.],\n",
              "         ...,\n",
              "         [0., 0., 0., ..., 1., 0., 0.],\n",
              "         [0., 0., 0., ..., 0., 0., 0.],\n",
              "         [0., 0., 0., ..., 0., 0., 1.]],\n",
              "\n",
              "        [[0., 0., 0., ..., 0., 0., 0.],\n",
              "         [0., 0., 0., ..., 0., 0., 0.],\n",
              "         [0., 0., 0., ..., 0., 0., 0.],\n",
              "         ...,\n",
              "         [0., 0., 0., ..., 0., 0., 0.],\n",
              "         [0., 0., 0., ..., 1., 0., 0.],\n",
              "         [0., 0., 0., ..., 0., 0., 0.]]],\n",
              "\n",
              "\n",
              "       [[[0., 0., 0., ..., 0., 1., 0.],\n",
              "         [0., 0., 0., ..., 0., 0., 1.],\n",
              "         [0., 0., 0., ..., 0., 0., 0.],\n",
              "         ...,\n",
              "         [0., 0., 0., ..., 0., 0., 0.],\n",
              "         [0., 0., 0., ..., 0., 0., 0.],\n",
              "         [0., 0., 0., ..., 0., 0., 0.]],\n",
              "\n",
              "        [[0., 0., 0., ..., 0., 0., 0.],\n",
              "         [0., 0., 0., ..., 0., 0., 0.],\n",
              "         [0., 0., 0., ..., 0., 0., 0.],\n",
              "         ...,\n",
              "         [0., 0., 0., ..., 0., 0., 0.],\n",
              "         [0., 0., 0., ..., 0., 0., 0.],\n",
              "         [0., 0., 0., ..., 0., 0., 0.]],\n",
              "\n",
              "        [[0., 0., 0., ..., 0., 0., 0.],\n",
              "         [0., 0., 0., ..., 0., 0., 0.],\n",
              "         [0., 0., 0., ..., 0., 0., 0.],\n",
              "         ...,\n",
              "         [0., 0., 0., ..., 0., 0., 0.],\n",
              "         [0., 0., 0., ..., 0., 0., 0.],\n",
              "         [0., 0., 0., ..., 0., 0., 0.]],\n",
              "\n",
              "        ...,\n",
              "\n",
              "        [[0., 0., 0., ..., 0., 0., 0.],\n",
              "         [0., 0., 0., ..., 0., 0., 0.],\n",
              "         [0., 0., 0., ..., 0., 0., 0.],\n",
              "         ...,\n",
              "         [0., 0., 0., ..., 0., 0., 0.],\n",
              "         [0., 0., 0., ..., 0., 0., 0.],\n",
              "         [0., 0., 0., ..., 0., 0., 0.]],\n",
              "\n",
              "        [[0., 0., 0., ..., 0., 0., 0.],\n",
              "         [0., 0., 0., ..., 0., 0., 0.],\n",
              "         [0., 0., 0., ..., 0., 0., 0.],\n",
              "         ...,\n",
              "         [0., 0., 0., ..., 0., 1., 0.],\n",
              "         [0., 0., 0., ..., 0., 0., 0.],\n",
              "         [0., 0., 0., ..., 0., 0., 0.]],\n",
              "\n",
              "        [[0., 0., 0., ..., 0., 0., 0.],\n",
              "         [0., 0., 0., ..., 0., 0., 0.],\n",
              "         [0., 0., 0., ..., 0., 0., 0.],\n",
              "         ...,\n",
              "         [0., 0., 0., ..., 0., 0., 0.],\n",
              "         [0., 0., 0., ..., 0., 1., 0.],\n",
              "         [0., 0., 0., ..., 0., 0., 1.]]]], dtype=float32)"
            ]
          },
          "execution_count": 23,
          "metadata": {},
          "output_type": "execute_result"
        }
      ],
      "source": [
        "rho_2_arrays"
      ]
    },
    {
      "cell_type": "code",
      "execution_count": null,
      "metadata": {},
      "outputs": [
        {
          "name": "stdout",
          "output_type": "stream",
          "text": [
            "0.0\n"
          ]
        }
      ],
      "source": [
        "print(rho_2_arrays[9,0,0,9])"
      ]
    },
    {
      "cell_type": "code",
      "execution_count": null,
      "metadata": {},
      "outputs": [],
      "source": [
        "import numpy as np\n",
        "rho_1_arrays = rho_1_gen(basis)\n",
        "\n",
        "A = np.array([0, 1, 2])  # Your list with d elements\n",
        "\n",
        "# Create a diagonal matrix with each element repeated twice\n",
        "result_matrix = np.diagflat(np.kron(A, np.ones(2)))\n",
        "\n",
        "print(result_matrix)\n",
        "np.kron(A, np.ones(2))\n",
        "\n",
        "mat = np.zeros((basis.size, basis.size))\n",
        "for i in range(0,2*d):\n",
        "    for j in range(0, 2*d):\n",
        "        mat += result_matrix[i,j] * rho_1_arrays[i,j,:,:]\n"
      ]
    },
    {
      "cell_type": "code",
      "execution_count": null,
      "metadata": {},
      "outputs": [],
      "source": [
        "mat = np.sum(result_matrix[:, :, np.newaxis, np.newaxis] * rho_1_arrays[:, :, :, :], axis=(0, 1))"
      ]
    },
    {
      "cell_type": "code",
      "execution_count": null,
      "metadata": {},
      "outputs": [],
      "source": [
        "h0 == mat"
      ]
    },
    {
      "cell_type": "code",
      "execution_count": null,
      "metadata": {},
      "outputs": [
        {
          "name": "stdout",
          "output_type": "stream",
          "text": [
            "[1 1 0 0 0 0]\n",
            "[0 0 1 1 0 0]\n",
            "[0 0 0 0 1 1]\n",
            "[0, 9, 14]\n",
            "[0, 9, 14]\n"
          ]
        }
      ],
      "source": [
        "d = 3\n",
        "t_basis = fixed_basis(2, 2*d)\n",
        "basis = fixed_basis(d, 2*d)\n",
        "size = t_basis.size\n",
        "#basis = fixed_basis(d, 2*d)\n",
        "diag_elem = []\n",
        "for x in t_basis.base:\n",
        "    if all([x[i] == x[i+1] for i in range(0, 2*d, 2)]):\n",
        "        print(x)\n",
        "        diag_elem.append(t_basis.rep_to_index(x))\n",
        "\n",
        "print(diag_elem)\n",
        "# Veamos el GALERAZO de Wolfram\n",
        "n = 4*d+1\n",
        "print([-(k-1)*(2*k-n) for k in range(1,d+1)])\n"
      ]
    },
    {
      "cell_type": "code",
      "execution_count": null,
      "metadata": {},
      "outputs": [],
      "source": [
        "m2_basis = fixed_basis(2, d)\n",
        "print(m2_basis.size)\n",
        "nm2_basis = fixed_basis(basis.m-2, d)\n",
        "print(nm2_basis.base)\n"
      ]
    },
    {
      "cell_type": "code",
      "execution_count": null,
      "metadata": {},
      "outputs": [],
      "source": [
        "W = np.array([[1,2,3],[4,5,6],[7,8,9]])\n",
        "index = [0,9,14]\n",
        "mat = np.zeros((size,size))\n",
        "for i in range(0,3):\n",
        "    for j in range(0,3):\n",
        "        mat[index[i], index[j]] = W[i,j]"
      ]
    },
    {
      "cell_type": "code",
      "execution_count": null,
      "metadata": {},
      "outputs": [],
      "source": [
        "import numpy as np\n",
        "rho_2_arrays = rho_2_gen(basis, nm2_basis, m2_basis)\n",
        "#rho_2_arrays_tf = tf.constant(rho_2_arrays, dtype=tf.float32)\n",
        "\n",
        "W = np.array([[1, 2, 3], [4, 5, 6], [7, 8, 9]])\n",
        "W = np.ones((3,3))\n",
        "index = [0, 9, 14]\n",
        "size = 15  # Assuming size is the size of the matrix\n",
        "\n",
        "# Create a meshgrid of indices\n",
        "i, j = np.meshgrid(index, index, indexing='ij')\n",
        "\n",
        "# Use the meshgrid indices to assign values from W to the specified positions in mat\n",
        "mat = np.zeros((size, size))\n",
        "mat[i, j] = W\n",
        "\n",
        "# La mat... mat corresponde a los coeficientes en t_basis\n",
        "inte = np.zeros((basis.size, basis.size))\n",
        "for i in range(0, t_basis.size):\n",
        "    for j in range(0, t_basis.size):\n",
        "        inte += - mat[i, j] * rho_2_arrays[i,j,:,:]\n"
      ]
    },
    {
      "cell_type": "code",
      "execution_count": null,
      "metadata": {},
      "outputs": [],
      "source": [
        "inte == hi"
      ]
    },
    {
      "cell_type": "code",
      "execution_count": null,
      "metadata": {},
      "outputs": [],
      "source": [
        "m = 3\n",
        "basis = fixed_basis(m, d)\n",
        "basis_m1 = fixed_basis(m-1, d)\n",
        "basis_m2 = fixed_basis(m-2, d)\n",
        "\n",
        "from numba import njit\n",
        "\n",
        "# Parametros hamiltoniano\n",
        "e = 1\n",
        "eps = 0\n",
        "e0 = np.zeros(2*d)\n",
        "eigenspace_tol = 0.0001\n",
        "for k in range(0, d):\n",
        "    r = random.random() * eps * 0\n",
        "    e0[2*k] = k*e+r\n",
        "    e0[2*k+1] = k*e+r\n",
        "\n",
        "@njit(parallel=True)\n",
        "def base_hamiltonian_aux(basis, size, d, basis_m1, basis_m2):\n",
        "    # Construccion de H\n",
        "    d = d//2\n",
        "    h0 = np.zeros((size,size), dtype=np.float32)\n",
        "    for k in prange(0,2*d):\n",
        "        h0 += e0[k] * np.dot(bd_aux(basis_m1, basis, k),b_aux(basis, basis_m1, k))\n",
        "    hi = np.zeros((size, size), dtype=np.float32)\n",
        "    for k in prange(0,d):\n",
        "        for kb in prange(0,d):\n",
        "            bd_terms = np.dot(bd_aux(basis_m1, basis, 2*k),bd_aux(basis_m2, basis_m1, 2*k+1))\n",
        "            b_terms = np.dot(b_aux(basis_m1, basis_m2, 2*kb+1),b_aux(basis, basis_m1, 2*kb))\n",
        "            hi += -1*np.dot(bd_terms,b_terms)\n",
        "\n",
        "    return (h0, hi)\n",
        "\n",
        "def base_hamiltonian(basis, basis_m1, basis_m2):\n",
        "    return base_hamiltonian_aux(basis.base, basis.size, basis.d, basis_m1.base, basis_m2.base)\n",
        "\n",
        "h0, hi = base_hamiltonian(basis, basis_m1, basis_m2)"
      ]
    },
    {
      "cell_type": "code",
      "execution_count": null,
      "metadata": {},
      "outputs": [],
      "source": []
    }
  ],
  "metadata": {
    "colab": {
      "collapsed_sections": [
        "oapxWkD16fHg"
      ],
      "include_colab_link": true,
      "provenance": []
    },
    "kernelspec": {
      "display_name": "Python 3",
      "language": "python",
      "name": "python3"
    },
    "language_info": {
      "codemirror_mode": {
        "name": "ipython",
        "version": 3
      },
      "file_extension": ".py",
      "mimetype": "text/x-python",
      "name": "python",
      "nbconvert_exporter": "python",
      "pygments_lexer": "ipython3",
      "version": "3.10.12"
    },
    "orig_nbformat": 4
  },
  "nbformat": 4,
  "nbformat_minor": 0
}
