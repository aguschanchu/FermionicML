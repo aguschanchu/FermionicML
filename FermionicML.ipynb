{
  "cells": [
    {
      "cell_type": "markdown",
      "metadata": {
        "id": "view-in-github",
        "colab_type": "text"
      },
      "source": [
        "<a href=\"https://colab.research.google.com/github/aguschanchu/FermionicML/blob/main/FermionicML.ipynb\" target=\"_parent\"><img src=\"https://colab.research.google.com/assets/colab-badge.svg\" alt=\"Open In Colab\"/></a>"
      ]
    },
    {
      "cell_type": "markdown",
      "metadata": {
        "id": "NXz5cOlVwrzZ"
      },
      "source": [
        "# FermionicML:\n",
        "\n",
        "Code based on aguschanchu/Bosonic.py"
      ]
    },
    {
      "cell_type": "markdown",
      "source": [
        "## Código base"
      ],
      "metadata": {
        "id": "KLD2Yai55rMm"
      }
    },
    {
      "cell_type": "markdown",
      "source": [
        "Cargamos el código de Bosonic.py básico, branch fermionic"
      ],
      "metadata": {
        "id": "rgf9ExZN4jA7"
      }
    },
    {
      "cell_type": "code",
      "source": [
        "import numpy as np\n",
        "from scipy.special import binom\n",
        "from scipy.sparse import dok_matrix, linalg\n",
        "from scipy import linalg as linalg_d\n",
        "from joblib import Memory\n",
        "import random\n",
        "import plotly.graph_objects as go\n",
        "from joblib import Parallel, delayed\n",
        "from numba import jit, prange, njit\n",
        "import numba as nb\n",
        "import pickle\n",
        "import math\n",
        "\n",
        "# Funciones auxiliares optimiadas\n",
        "@nb.jit(nopython=True, parallel=True)\n",
        "def int_to_tuple_arr(ni,nf, b, digits=None):\n",
        "    sol = np.zeros((nf-ni, digits), dtype=np.int64)\n",
        "    for n in prange(ni, nf):\n",
        "        r = np.zeros(digits, dtype=np.int64)\n",
        "        ncop = n\n",
        "        idx = 0\n",
        "        while n != 0:\n",
        "            r[idx] = n % b\n",
        "            n = n // b\n",
        "            idx += 1\n",
        "        if digits is not None:\n",
        "            if idx < digits:\n",
        "                for i in range(idx, digits):\n",
        "                    r[i] = 0\n",
        "                idx = digits\n",
        "        sol[ncop-ni,:] = r[:idx]\n",
        "    return sol\n",
        "\n",
        "def tuple_to_int(t, d):\n",
        "    b = d-1\n",
        "    l = len(t)\n",
        "    s = [t[k]*b**(l-k-1) for k in range(0,l)]\n",
        "    return sum(s)\n",
        "\n",
        "def create_basis_(m, d, size):\n",
        "    base = []\n",
        "    index = 0\n",
        "    chunk_size = 1000000\n",
        "    for x in range(0,(m+1)**d, chunk_size):\n",
        "        start_index = x\n",
        "        end_index = min(x + chunk_size, (m+1)**d)\n",
        "        arr = int_to_tuple_arr(start_index, end_index, m+1, d)\n",
        "        sums = np.sum(arr, axis=1)\n",
        "        rows = np.where(sums == m)[0]\n",
        "        for row in [arr[i] for i in rows]:\n",
        "            if np.all(np.logical_or(row == 0, row == 1)):\n",
        "                base.append(row)\n",
        "\n",
        "    # Como consecuencia de la paralelizacion, es necesario reordenar la base\n",
        "    sorted_base = sorted(base, key=lambda x: tuple_to_int(x, d), reverse=True)\n",
        "    assert len(base) == size\n",
        "\n",
        "    return base\n",
        "\n",
        "class fixed_basis:\n",
        "\n",
        "    # Convierte a un enterno n a su escritura en base b\n",
        "    def _int_to_tuple(self, n, b, digits = None):\n",
        "        rep = np.base_repr(n, b)\n",
        "        rep_int = [int(x,b) for x in rep]\n",
        "        if digits is not None:\n",
        "            zeros = [0 for i in range(0,digits-len(rep))]\n",
        "            return zeros + rep_int\n",
        "        else:\n",
        "            return rep_int\n",
        "\n",
        "    # Revierte la transformacion anterior\n",
        "    def tuple_to_int(self, t):\n",
        "        b = self.d-1\n",
        "        l = len(t)\n",
        "        s = [t[k]*b**(l-k-1) for k in range(0,l)]\n",
        "        return sum(s)\n",
        "\n",
        "    # Convierte el vector en su representacion\n",
        "    def vect_to_repr(self, vect):\n",
        "        for i, k in enumerate(vect):\n",
        "            if k == 1. or k == 1:\n",
        "                break\n",
        "        else:\n",
        "            return 0\n",
        "        return self.base[i,:]\n",
        "\n",
        "    def rep_to_vect(self, rep):\n",
        "        rep = list(rep)\n",
        "        for i, r in [(j, self.base[j,:]) for j in range(0,self.size)]:\n",
        "            if list(r) == rep:\n",
        "                return self.canonicals[:,i]\n",
        "        else:\n",
        "            None\n",
        "\n",
        "    def rep_to_index(self, rep):\n",
        "        return self.base.tolist().index(list(rep))\n",
        "\n",
        "    @staticmethod\n",
        "    def rep_to_exi(rep):\n",
        "        r = []\n",
        "        for i, k in enumerate(rep):\n",
        "            r += [i for x in range(0,k)]\n",
        "        return r\n",
        "\n",
        "    # Crea base de M particulas en D estados (repr y base canonica)\n",
        "    def create_basis(self, m, d):\n",
        "        #print(\"Creating basis: \", m, d)\n",
        "        length = int(binom(d,m))\n",
        "        base = np.array(create_basis_(m, d, length))\n",
        "        # Asignamos a cada uno de ellos un canónico\n",
        "        canonicals = np.eye(length)\n",
        "        return base, canonicals\n",
        "\n",
        "    def __init__(self, m, d):\n",
        "        self.m = m\n",
        "        self.d = d\n",
        "        self.size = int(binom(d,m))\n",
        "        (self.base, self.canonicals) = self.create_basis(m, d)\n",
        "\n",
        "# Matrices de aniquilación y creación endomórficas. Estan fuera de la clase para poder ser cacheadas\n",
        "#@memory.cache\n",
        "def bdb(basis, i, j):\n",
        "    mat = dok_matrix((basis.size, basis.size), dtype=np.float32)\n",
        "    if i != j:\n",
        "        for k, v in enumerate(basis.base):\n",
        "            if v[j] != 0 and v[i] != 1:\n",
        "                print(v)\n",
        "                dest = list(v.copy())\n",
        "                dest[j] -= 1\n",
        "                dest[i] += 1\n",
        "                tar = basis.rep_to_index(dest)\n",
        "                mat[tar, k] = np.sqrt(v[i]+1)*np.sqrt(v[j])\n",
        "    else:\n",
        "        for k, v in enumerate(basis.base):\n",
        "            if v[j] != 0:\n",
        "                mat[k, k] = v[i]\n",
        "    return mat\n",
        "\n",
        "#@memory.cache\n",
        "def bbd(basis, i, j):\n",
        "    mat = dok_matrix((basis.size, basis.size), dtype=np.float32)\n",
        "    if i != j:\n",
        "        for k, v in enumerate(basis.base):\n",
        "            if v[i] != 0 and v[j] != 1:\n",
        "                dest = list(v.copy())\n",
        "                dest[i] -= 1\n",
        "                dest[j] += 1\n",
        "                tar = basis.rep_to_index(dest)\n",
        "                mat[tar, k] = np.sqrt(v[j]+1)*np.sqrt(v[i])\n",
        "    else:\n",
        "        for k, v in enumerate(basis.base):\n",
        "            if v[i] != 1:\n",
        "                mat[k, k] = v[i]+1\n",
        "    return mat\n",
        "\n",
        "# Matrices de aniquilación y creación.Toman la base de origen y destino (basis_o, basis_d) resp\n",
        "#@nb.jit(nopython=True, parallel=True)\n",
        "@nb.jit(nopython=True)\n",
        "def b_aux(basis_o, basis_d, i):\n",
        "    mat = np.zeros((len(basis_d), len(basis_o)), dtype=np.float32)\n",
        "    for k in prange(len(basis_o)):\n",
        "        if basis_o[k][i] != 0:\n",
        "            dest = list(basis_o[k].copy())\n",
        "            dest[i] -= 1\n",
        "            for j in prange(len(basis_d)):\n",
        "                if list(basis_d[j]) == dest:\n",
        "                    tar = j\n",
        "                    mat[tar, k] = np.sqrt(basis_o[k][i])\n",
        "    return mat\n",
        "\n",
        "def b(basis_o, basis_d, i):\n",
        "    return b_aux(basis_o.base, basis_d.base, i)\n",
        "\n",
        "#@nb.jit(nopython=True, parallel=True)\n",
        "@nb.jit(nopython=True)\n",
        "def bd_aux(basis_o, basis_d, i):\n",
        "    mat = np.zeros((len(basis_d), len(basis_o)), dtype=np.float32)\n",
        "    for k in prange(len(basis_o)):\n",
        "        if basis_o[k][i] != 1:\n",
        "            dest = list(basis_o[k].copy())\n",
        "            dest[i] += 1\n",
        "            for j in prange(len(basis_d)):\n",
        "                if list(basis_d[j]) == dest:\n",
        "                    tar = j\n",
        "                    mat[tar, k] = np.sqrt(basis_o[k][i]+1)\n",
        "    return mat\n",
        "\n",
        "def bd(basis_o, basis_d, i):\n",
        "    return bd_aux(basis_o.base, basis_d.base, i)\n",
        "\n",
        "# Acepta una lista de indices a crear\n",
        "@nb.jit(nopython=True, parallel=True)\n",
        "def bd_gen_aux(basis_o, basis_d, gen_list:list):\n",
        "    mat = np.zeros((len(basis_d), len(basis_o)), dtype=np.float32)\n",
        "    for k in prange(len(basis_o)):\n",
        "        conds = np.zeros(len(gen_list), dtype=np.int64)\n",
        "        for i in range(len(gen_list)):\n",
        "            if basis_o[k][gen_list[i]] != 1:\n",
        "                conds[i] = 1\n",
        "        if np.all(conds):\n",
        "            dest = list(basis_o[k].copy())\n",
        "            for i in gen_list:\n",
        "                dest[i] += 1\n",
        "            for j in prange(len(basis_d)):\n",
        "                if list(basis_d[j]) == dest:\n",
        "                    tar = j\n",
        "                    mat[tar, k] = np.sqrt(basis_o[k][i]+1)\n",
        "    return mat\n",
        "\n",
        "def bd_gen(basis_o, basis_d, i):\n",
        "    return bd_gen_aux(basis_o.base, basis_d.base, np.array(i))\n",
        "\n",
        "def b_gen(basis_o, basis_d, i):\n",
        "    return np.transpose(bd_gen(basis_d, basis_o, i))\n",
        "\n",
        "# Volvemos a definir la función para compilarla\n",
        "@nb.jit(forceobj=True)\n",
        "def _rep_to_index(base, rep):\n",
        "    return base.tolist().index(list(rep))\n",
        "\n",
        "# Funciones auxiliares para calcular rho2kkbar y gamma_p\n",
        "@nb.jit(nopython=True)\n",
        "def rep_to_exi(rep):\n",
        "    r = []\n",
        "    for i in range(len(rep)):\n",
        "        for j in range(rep[i]):\n",
        "            r.append(i)\n",
        "    return r\n",
        "\n",
        "@nb.njit\n",
        "def factorial(n):\n",
        "    result = 1\n",
        "    for i in range(1, n + 1):\n",
        "        result *= i\n",
        "    return result\n",
        "\n",
        "@nb.njit\n",
        "def gamma_lamba(x):\n",
        "    res = 1.0\n",
        "    for o in x:\n",
        "        res *= math.sqrt(factorial(o))\n",
        "    return res\n",
        "\n",
        "@nb.jit\n",
        "def gamma_lamba_inv(x):\n",
        "    res = 1.0\n",
        "    for o in x:\n",
        "        res *= 1.0 / np.sqrt(factorial(o))\n",
        "    return res\n",
        "\n",
        "@nb.njit\n",
        "def rep_to_index_np(base, rep):\n",
        "    for i in range(len(base)):\n",
        "        if np.all(base[i] == rep):\n",
        "            return i\n",
        "    return -1\n",
        "\n",
        "\n",
        "def gamma_p(basis, m, vect, m_basis = None, nm_basis = None):\n",
        "    d = basis.d\n",
        "    if not m_basis or not nm_basis:\n",
        "        m_basis = fixed_basis(m, d)\n",
        "        nm_basis = fixed_basis(basis.m-m,d)\n",
        "    return gamma_p_aux(basis.base, vect, m_basis.base, nm_basis.base)\n",
        "\n",
        "@nb.njit()\n",
        "def gamma_p_aux(basis, vect, m_basis, nm_basis):\n",
        "    mat = np.zeros((len(m_basis), len(nm_basis)), dtype=np.float32)\n",
        "    for i in prange(len(m_basis)):\n",
        "        v = m_basis[i]\n",
        "        for j in prange(len(nm_basis)):\n",
        "            w = nm_basis[j]\n",
        "            targ = v + w\n",
        "            index = rep_to_index_np(basis, targ)\n",
        "            if index != -1:\n",
        "                coef = vect[index]\n",
        "                if coef != 0:\n",
        "                    coef = coef * gamma_lamba_inv(v) * gamma_lamba_inv(w) * gamma_lamba(targ)\n",
        "                mat[i, j] = coef\n",
        "    return mat\n",
        "# Devuelve la matriz rho M asociada al vector\n",
        "def rho_m(basis, m, vect, m_basis = None, nm_basis = None):\n",
        "    g = gamma_p(basis, m, vect, m_basis, nm_basis)\n",
        "    return np.dot(g,np.transpose(g))\n",
        "\n",
        "# Devuelve la matriz gamma asociada a la descomposición (M,N-M) del vector\n",
        "@jit(forceobj=True)\n",
        "def gamma(basis, m, vect, m_basis = None, nm_basis = None):\n",
        "    d = basis.d\n",
        "    if not m_basis or not nm_basis:\n",
        "        m_basis = fixed_basis(m, d)\n",
        "        nm_basis = fixed_basis(basis.m-m,d)\n",
        "    mat = dok_matrix((m_basis.size, nm_basis.size), dtype=np.float32)\n",
        "    for i, v in enumerate(m_basis.base):\n",
        "        for j, w in enumerate(nm_basis.base):\n",
        "            targ = v+w\n",
        "            # Revisamos que sea un estado fermionico valido\n",
        "            arr = np.asarray(targ)\n",
        "            if not np.all(np.logical_or(arr == 0, arr == 1)):\n",
        "                continue\n",
        "            index = _rep_to_index(basis.base, targ)\n",
        "            coef = vect[index]\n",
        "            if coef != 0:\n",
        "                aux = lambda x: np.prod(np.reciprocal(np.sqrt([np.math.factorial(o) for o in x])))\n",
        "                aux_inv = lambda x: np.prod(np.sqrt([np.math.factorial(o) for o in x]))\n",
        "                coef = coef * aux(v) * aux(w) * aux_inv(targ)\n",
        "                #coef = coef\n",
        "                #print(v,w,coef)\n",
        "            mat[i,j] = coef\n",
        "    return mat\n",
        "\n",
        "# Devuelve la matriz rho 1 asociada al vector\n",
        "def rho_1(basis, vect):\n",
        "    d = basis.d\n",
        "    mat = dok_matrix((d, d), dtype=np.float32)\n",
        "    for i in range(0, d):\n",
        "        for j in range(0, d):\n",
        "            v = bdb(basis,j,i)*vect\n",
        "            mat[i,j] = np.inner(vect,v)\n",
        "    return mat\n",
        "\n",
        "# Devuelve la matriz rho 2 asociada al vector\n",
        "def rho_2(basis, vect, ml_basis = None, mll_basis = None, t_basis = None):\n",
        "    d = basis.d\n",
        "    # Creo las bases si no están dadad\n",
        "    if ml_basis == None or mll_basis == None or t_basis == None:\n",
        "        ml_basis = fixed_basis(m-1,d)\n",
        "        mll_basis = fixed_basis(m-2,d)\n",
        "        t_basis = fixed_basis(2,d)\n",
        "    mat = dok_matrix((t_basis.size, t_basis.size), dtype=np.float32)\n",
        "    for i, v in enumerate(t_basis.base):\n",
        "        for j, w in enumerate(t_basis.base):\n",
        "            # Creacion de los a\n",
        "            i_set = t_basis.rep_to_exi(v)\n",
        "            b_m = np.dot(b(ml_basis, mll_basis, i_set[1]),b(basis, ml_basis, i_set[0]))\n",
        "\n",
        "            # Creacion de los ad\n",
        "            i_set = t_basis.rep_to_exi(w)\n",
        "            bd_m = np.dot(bd(ml_basis, basis, i_set[1]),bd(mll_basis, ml_basis, i_set[0]))\n",
        "\n",
        "            # Mult de b's y filleo de mat\n",
        "            coef = np.inner(vect,np.dot(bd_m,b_m)*vect)\n",
        "            aux = lambda x: np.prod(np.reciprocal(np.sqrt([np.math.factorial(o) for o in x])))\n",
        "            mat[i,j] = coef * aux(v) * aux(w)\n",
        "    return mat\n",
        "\n",
        "# Devuelve la matriz rho 2 asociada al bloque kkbar\n",
        "def rho_2_kkbar(basis, vect, ml_basis = None, mll_basis = None, t_basis = None):\n",
        "    d = basis.d\n",
        "    # Creo las bases si no están dadas\n",
        "    if ml_basis == None or mll_basis == None or t_basis == None:\n",
        "        ml_basis = fixed_basis(m-1,d)\n",
        "        mll_basis = fixed_basis(m-2,d)\n",
        "        t_basis = fixed_basis(2,d)\n",
        "    diag = []\n",
        "    for v in t_basis.base:\n",
        "        for j in range(0, d, 2):\n",
        "            if v[j] == v[j+1]:\n",
        "                continue\n",
        "            else:\n",
        "                break\n",
        "        else:\n",
        "            diag.append(v)\n",
        "    diag = np.array(diag)\n",
        "    return rho_2_kkbar_aux(diag, vect, basis.base, ml_basis.base, mll_basis.base, t_basis.base)\n",
        "\n",
        "@nb.njit\n",
        "def rho_2_kkbar_lambda(x):\n",
        "    res = 1.0\n",
        "    for o in x:\n",
        "        res *= 1.0 / math.sqrt(factorial(o))\n",
        "    return res\n",
        "\n",
        "@nb.njit(parallel=True)\n",
        "def rho_2_kkbar_aux(diag, vect, basis, ml_basis, mll_basis, t_basis):\n",
        "    mat = np.zeros((len(diag), len(diag)), dtype=np.float32)\n",
        "    for i in prange(len(diag)):\n",
        "        for j in prange(len(diag)):\n",
        "            v = diag[i]\n",
        "            w = diag[j]\n",
        "            # Creacion de los a\n",
        "            i_set = rep_to_exi(v)\n",
        "            b_m = b_aux(ml_basis, mll_basis, i_set[1]) @ b_aux(basis, ml_basis, i_set[0])\n",
        "            # Creacion de los ad\n",
        "            i_set = rep_to_exi(w)\n",
        "            bd_m = bd_aux(ml_basis, basis, i_set[1]) @ bd_aux(mll_basis, ml_basis, i_set[0])\n",
        "            v1 = bd_m @ b_m @ vect\n",
        "            # Mult de b's y filleo de mat\n",
        "            coef = vect @ v1\n",
        "            rho_2_kkbar_lambda(v)\n",
        "            mat[i,j] = coef * rho_2_kkbar_lambda(v) * rho_2_kkbar_lambda(w)\n",
        "    return mat"
      ],
      "metadata": {
        "id": "Gydz4kCH4l5w"
      },
      "execution_count": 48,
      "outputs": []
    },
    {
      "cell_type": "markdown",
      "source": [
        "## Definicion de Hamiltoniano"
      ],
      "metadata": {
        "id": "6dga5Xx_5vDf"
      }
    },
    {
      "cell_type": "markdown",
      "source": [
        "Cargamos el código de creación y resolución de Hamiltonianos"
      ],
      "metadata": {
        "id": "myiTq53L5E1U"
      }
    },
    {
      "cell_type": "code",
      "source": [
        "m = 2\n",
        "d = 4\n",
        "# Creo las bases para no tener que recrearlas luego\n",
        "basis = fixed_basis(m, d)\n",
        "basis_m1 = fixed_basis(m-1, d)\n",
        "basis_m2 = fixed_basis(m-2, d)\n",
        "print(basis.base)\n",
        "print(basis.size)"
      ],
      "metadata": {
        "colab": {
          "base_uri": "https://localhost:8080/"
        },
        "id": "-h5FXWv849Mq",
        "outputId": "133bc34b-9d15-45cc-c96a-2b0f82a35f9c"
      },
      "execution_count": 119,
      "outputs": [
        {
          "output_type": "stream",
          "name": "stdout",
          "text": [
            "[[1 1 0 0]\n",
            " [1 0 1 0]\n",
            " [0 1 1 0]\n",
            " [1 0 0 1]\n",
            " [0 1 0 1]\n",
            " [0 0 1 1]]\n",
            "6\n"
          ]
        }
      ]
    },
    {
      "cell_type": "code",
      "source": [
        "# Dada una mat de dxd A, contruye el hamiltoniano de un cuerpo a_{ij} c^{dag}_i c_j\n",
        "\n",
        "@njit(nopython=True, parallel=True)\n",
        "def base_hamiltonian_aux(mat, basis, size, d, basis_m1, basis_m2):\n",
        "    # Construccion de H\n",
        "    h = np.zeros((size,size), dtype=np.float32)\n",
        "    for i in prange(0, d):\n",
        "        for j in prange(0, d):\n",
        "            h += mat[i,j] * np.dot(bd_aux(basis_m1, basis,i), b_aux(basis, basis_m1, j))\n",
        "    return h\n",
        "\n",
        "def base_hamiltonian(mat, basis, basis_m1, basis_m2):\n",
        "    return base_hamiltonian_aux(mat, basis.base, basis.size, basis.d, basis_m1.base, basis_m2.base)\n",
        "\n",
        "def solve(h, last_step = None):\n",
        "    sol = linalg.eigsh(h, which='SA',k=19)\n",
        "    eigenspace_tol = 0.0001\n",
        "    if type(last_step) != type(None):\n",
        "        # Seleccionamos todos los autovects que difieren sus autovalores menos que tol (mismo autoespacio)\n",
        "        # y tomamos la proyección en el autoespacio de la solución del paso anterior (last_step)\n",
        "        eig = sol[0].real\n",
        "        eigv = sol[1]\n",
        "        cand = [eigv[:,i].real  for (i, x) in enumerate(eig) if abs(x-min(eig)) < eigenspace_tol]\n",
        "        cand_norm = [x/np.linalg.norm(x) for x in cand]\n",
        "        fund = np.zeros(len(cand[0]))\n",
        "        for x in cand_norm:\n",
        "            fund += np.dot(last_step,x) * x\n",
        "    else:\n",
        "        argmin = np.argmin(sol[0].real)\n",
        "        fund = sol[1][:,argmin]\n",
        "    fund = fund.real / np.linalg.norm(fund)\n",
        "    return fund"
      ],
      "metadata": {
        "id": "PToiSs915TXw",
        "colab": {
          "base_uri": "https://localhost:8080/"
        },
        "outputId": "7ef8f3de-8a1b-4671-b0b4-0a66b8965030"
      },
      "execution_count": 120,
      "outputs": [
        {
          "output_type": "stream",
          "name": "stderr",
          "text": [
            "/usr/local/lib/python3.10/dist-packages/numba/core/decorators.py:253: RuntimeWarning: nopython is set for njit and is ignored\n",
            "  warnings.warn('nopython is set for njit and is ignored', RuntimeWarning)\n"
          ]
        }
      ]
    },
    {
      "cell_type": "markdown",
      "source": [
        "## Modelo de ML\n",
        "Basado en matrices densidad de 1 y 2 cuerpos como input, con hamiltoniano como salida"
      ],
      "metadata": {
        "id": "emVBTg2QD-Fg"
      }
    },
    {
      "cell_type": "code",
      "source": [
        "import tensorflow as tf\n",
        "import numpy as np"
      ],
      "metadata": {
        "id": "aF_Ec_mCGX96"
      },
      "execution_count": 97,
      "outputs": []
    },
    {
      "cell_type": "code",
      "source": [
        "# Construccion de bases para calculo de rho1 y rho2\n",
        "# rho2\n",
        "m = 2\n",
        "m2_basis = fixed_basis(m, d)\n",
        "print(m2_basis.size)\n",
        "nm2_basis = fixed_basis(basis.m-m, d)\n",
        "# rho1\n",
        "m = 1\n",
        "m1_basis = fixed_basis(m, d)\n",
        "print(m1_basis.size)\n",
        "nm1_basis = fixed_basis(basis.m-m, d)"
      ],
      "metadata": {
        "colab": {
          "base_uri": "https://localhost:8080/"
        },
        "id": "mJDoa6LUJJ8O",
        "outputId": "afdd5d44-11b1-463b-86f3-5175a545e67a"
      },
      "execution_count": 124,
      "outputs": [
        {
          "output_type": "stream",
          "name": "stdout",
          "text": [
            "6\n",
            "4\n"
          ]
        }
      ]
    },
    {
      "cell_type": "markdown",
      "source": [
        "### Algunos benchmarks y funciones auxiliares"
      ],
      "metadata": {
        "id": "oapxWkD16fHg"
      }
    },
    {
      "cell_type": "code",
      "source": [
        "import time\n",
        "t0 = time.time()\n",
        "a = bd_aux(basis_m1.base, basis.base, 1)\n",
        "b = b_aux(basis.base, basis_m1.base, 2)\n",
        "print(time.time()-t0)\n",
        "t0 = time.time()\n",
        "np.dot(a,b)\n",
        "print(time.time() - t0)\n"
      ],
      "metadata": {
        "colab": {
          "base_uri": "https://localhost:8080/"
        },
        "id": "31vGWUrbXpxG",
        "outputId": "74f13e57-1ad0-4a24-a36e-a28ba2d1f371"
      },
      "execution_count": 13,
      "outputs": [
        {
          "output_type": "stream",
          "name": "stdout",
          "text": [
            "0.00027751922607421875\n",
            "0.00017523765563964844\n"
          ]
        }
      ]
    },
    {
      "cell_type": "code",
      "source": [
        "# Given h calculo en rho2 y rho1 máximo\n",
        "def rho1_rho2(h):\n",
        "    fund = solve(h)\n",
        "    rho2 = rho_m(basis, 2, fund, m2_basis, nm2_basis)\n",
        "    r = np.sort(linalg_d.eigvals(rho2).real)\n",
        "    rho_2_max = r[0]\n",
        "    rho1 = rho_m(basis, 1, fund, m1_basis, nm1_basis)\n",
        "    r = np.sort(linalg_d.eigvals(rho1).real)\n",
        "    rho_1_max = r[0]\n",
        "\n",
        "    return (rho_1_max, rho_2_max)\n"
      ],
      "metadata": {
        "id": "umCIrxCZKXQd"
      },
      "execution_count": 79,
      "outputs": []
    },
    {
      "cell_type": "markdown",
      "source": [
        "### Construccion de dataset"
      ],
      "metadata": {
        "id": "ylpy_BCw6jxF"
      }
    },
    {
      "cell_type": "code",
      "source": [
        "import time\n",
        "from tqdm import tqdm\n",
        "# Construccion de listas de dataset\n",
        "num_samples = 50000\n",
        "rho_1_input = []\n",
        "rho_2_input = []\n",
        "h_labels = []\n",
        "\n",
        "t0 = time.time()\n",
        "for i in tqdm(range(num_samples)):\n",
        "    hamil_base = np.random.rand(d,d)\n",
        "    # Calculamos el fundamental\n",
        "    h = base_hamiltonian(hamil_base, basis, basis_m1, basis_m2)\n",
        "    # Guardamos el label\n",
        "    h_labels.append(h.flatten())\n",
        "    fund = solve(h)\n",
        "    # Calculamos las matrices de 1 y 2 cuerpos\n",
        "    rho2 = rho_m(basis, 2, fund, m2_basis, nm2_basis)\n",
        "    rho_2_input.append(rho2)\n",
        "    rho1 = rho_m(basis, 1, fund, m1_basis, nm1_basis)\n",
        "    rho_1_input.append(rho1)\n",
        "\n",
        "print(time.time()-t0)\n",
        "dataset = tf.data.Dataset.from_tensor_slices(((rho_1_input, rho_2_input), h_labels))\n",
        "\n",
        "rho1_size = m1_basis.size\n",
        "rho2_size = m2_basis.size\n",
        "\n",
        "#batch_size = 32\n",
        "#dataset = dataset.shuffle(buffer_size=num_samples).batch(batch_size)"
      ],
      "metadata": {
        "colab": {
          "base_uri": "https://localhost:8080/"
        },
        "id": "2is_Eo_qGpEz",
        "outputId": "7300a935-ceb1-4eba-c2a6-d6a46078eef1"
      },
      "execution_count": 125,
      "outputs": [
        {
          "output_type": "stream",
          "name": "stderr",
          "text": [
            "100%|██████████| 50000/50000 [00:48<00:00, 1040.08it/s]\n"
          ]
        },
        {
          "output_type": "stream",
          "name": "stdout",
          "text": [
            "48.07888317108154\n"
          ]
        }
      ]
    },
    {
      "cell_type": "code",
      "source": [
        "\n",
        "# Dividimos los datasets\n",
        "train_size = int(0.8 * num_samples)\n",
        "\n",
        "train_dataset = dataset.take(train_size)\n",
        "val_dataset = dataset.skip(train_size)\n",
        "\n",
        "\n",
        "batch_size = 1024\n",
        "train_dataset = train_dataset.shuffle(buffer_size=num_samples).batch(batch_size)\n",
        "val_dataset = val_dataset.shuffle(buffer_size=num_samples).batch(batch_size)"
      ],
      "metadata": {
        "id": "_r7nKtXsZQPz"
      },
      "execution_count": 126,
      "outputs": []
    },
    {
      "cell_type": "markdown",
      "source": [
        "### Definición de modelo"
      ],
      "metadata": {
        "id": "pYEEjNB-7b8y"
      }
    },
    {
      "cell_type": "code",
      "source": [
        "# Definicion de layers\n",
        "\n",
        "## rho 1\n",
        "rho1_layer =  tf.keras.layers.Input(shape=(rho1_size,rho1_size) + (1,), name='rho1')\n",
        "\"\"\"\n",
        "# Procesamos el primer input\n",
        "conv_rho1 = tf.keras.layers.Conv2D(4, (3, 3), activation='relu')(rho1_layer)\n",
        "pool_rho1 = tf.keras.layers.MaxPooling2D((2, 2))(conv_rho1)\n",
        "\"\"\"\n",
        "flatten_rho1 = tf.keras.layers.Flatten()(rho1_layer)\n",
        "\n",
        "## rho 2\n",
        "rho2_layer =  tf.keras.layers.Input(shape=(rho2_size,rho2_size) + (1,), name='rho2')\n",
        "\"\"\"\n",
        "# Procesamos el segundo input\n",
        "conv_rho2 = tf.keras.layers.Conv2D(8, (3, 3), activation='relu')(rho2_layer)\n",
        "pool_rho2 = tf.keras.layers.MaxPooling2D((2, 2))(conv_rho2)\n",
        "\"\"\"\n",
        "flatten_rho2 = tf.keras.layers.Flatten()(rho1_layer)\n",
        "\n",
        "# Concatenamos y construimos el resto de la arquitectura del modelo\n",
        "concatenated = tf.keras.layers.concatenate([flatten_rho1, flatten_rho2])\n",
        "dense1 = tf.keras.layers.Dense(128)(concatenated)\n",
        "dense1 = tf.keras.layers.Dense(64)(dense1)\n",
        "dense1 = tf.keras.layers.Dense(32)(dense1)\n",
        "output = tf.keras.layers.Dense(basis.size*basis.size)(dense1)\n",
        "\n",
        "# Creamos el modelo y compulamos\n",
        "model = tf.keras.models.Model(inputs=[rho1_layer, rho2_layer], outputs=output)\n"
      ],
      "metadata": {
        "id": "A8kkhJr5K0ZQ"
      },
      "execution_count": 127,
      "outputs": []
    },
    {
      "cell_type": "code",
      "source": [
        "from tensorflow.keras.optimizers import RMSprop, Adam\n",
        "\n",
        "# Compile the model\n",
        "model.compile(optimizer=Adam(),\n",
        "              loss='MSE',  # Use appropriate loss for your task\n",
        "              metrics=['accuracy', 'mean_squared_error'])\n",
        "\n",
        "# Train the model\n",
        "num_epochs = 10\n",
        "history = model.fit(train_dataset, epochs=num_epochs, batch_size=32, validation_data=val_dataset)"
      ],
      "metadata": {
        "colab": {
          "base_uri": "https://localhost:8080/"
        },
        "id": "nhJCHf0fQdRl",
        "outputId": "df09de21-cc51-4082-9723-1ea157007367"
      },
      "execution_count": 129,
      "outputs": [
        {
          "output_type": "stream",
          "name": "stdout",
          "text": [
            "Epoch 1/10\n",
            "40/40 [==============================] - 2s 14ms/step - loss: 0.1049 - accuracy: 0.2806 - mean_squared_error: 0.1049 - val_loss: 0.0726 - val_accuracy: 0.4664 - val_mean_squared_error: 0.0726\n",
            "Epoch 2/10\n",
            "40/40 [==============================] - 1s 12ms/step - loss: 0.0698 - accuracy: 0.5329 - mean_squared_error: 0.0698 - val_loss: 0.0679 - val_accuracy: 0.5416 - val_mean_squared_error: 0.0679\n",
            "Epoch 3/10\n",
            "40/40 [==============================] - 1s 11ms/step - loss: 0.0666 - accuracy: 0.5806 - mean_squared_error: 0.0666 - val_loss: 0.0658 - val_accuracy: 0.5807 - val_mean_squared_error: 0.0658\n",
            "Epoch 4/10\n",
            "40/40 [==============================] - 1s 11ms/step - loss: 0.0651 - accuracy: 0.5970 - mean_squared_error: 0.0651 - val_loss: 0.0646 - val_accuracy: 0.5864 - val_mean_squared_error: 0.0646\n",
            "Epoch 5/10\n",
            "40/40 [==============================] - 1s 11ms/step - loss: 0.0642 - accuracy: 0.6001 - mean_squared_error: 0.0642 - val_loss: 0.0640 - val_accuracy: 0.5920 - val_mean_squared_error: 0.0640\n",
            "Epoch 6/10\n",
            "40/40 [==============================] - 0s 10ms/step - loss: 0.0637 - accuracy: 0.6013 - mean_squared_error: 0.0637 - val_loss: 0.0639 - val_accuracy: 0.5798 - val_mean_squared_error: 0.0639\n",
            "Epoch 7/10\n",
            "40/40 [==============================] - 1s 10ms/step - loss: 0.0634 - accuracy: 0.6010 - mean_squared_error: 0.0634 - val_loss: 0.0636 - val_accuracy: 0.5868 - val_mean_squared_error: 0.0636\n",
            "Epoch 8/10\n",
            "40/40 [==============================] - 1s 10ms/step - loss: 0.0633 - accuracy: 0.6017 - mean_squared_error: 0.0633 - val_loss: 0.0634 - val_accuracy: 0.5840 - val_mean_squared_error: 0.0634\n",
            "Epoch 9/10\n",
            "40/40 [==============================] - 1s 10ms/step - loss: 0.0632 - accuracy: 0.6011 - mean_squared_error: 0.0632 - val_loss: 0.0633 - val_accuracy: 0.5928 - val_mean_squared_error: 0.0633\n",
            "Epoch 10/10\n",
            "40/40 [==============================] - 1s 12ms/step - loss: 0.0631 - accuracy: 0.6010 - mean_squared_error: 0.0631 - val_loss: 0.0633 - val_accuracy: 0.5845 - val_mean_squared_error: 0.0633\n"
          ]
        }
      ]
    },
    {
      "cell_type": "code",
      "source": [
        "import matplotlib.pyplot as plt\n",
        "#plt.plot(history.history['accuracy'], label='Training Accuracy')\n",
        "#plt.plot(history.history['val_accuracy'], label='Validation Accuracy')\n",
        "plt.plot(history.history['mean_squared_error'], label='Training MSE')\n",
        "plt.plot(history.history['val_mean_squared_error'], label='Validation MSE')\n",
        "\n",
        "plt.xlabel('Epoch')\n",
        "plt.ylabel('MSE')\n",
        "plt.title('MSE vs. Epoch')\n",
        "plt.legend()\n",
        "plt.show()"
      ],
      "metadata": {
        "colab": {
          "base_uri": "https://localhost:8080/",
          "height": 472
        },
        "id": "cvpE_X1iTXcB",
        "outputId": "0e00230e-2432-40e6-c66c-dfc6baeb7100"
      },
      "execution_count": 130,
      "outputs": [
        {
          "output_type": "display_data",
          "data": {
            "text/plain": [
              "<Figure size 640x480 with 1 Axes>"
            ],
            "image/png": "[encoded data removed]"
          },
          "metadata": {}
        }
      ]
    },
    {
      "cell_type": "code",
      "source": [
        "# Assuming you have a validation dataset (val_dataset)\n",
        "sample = next(iter(val_dataset))\n",
        "input_data = sample[0]  # Assuming your dataset provides input data as the first element\n",
        "actual_values = sample[1]  # Assuming your dataset provides actual labels as the second element\n",
        "\n",
        "# Predict using the model\n",
        "predictions = model.predict(input_data)"
      ],
      "metadata": {
        "colab": {
          "base_uri": "https://localhost:8080/"
        },
        "id": "BRlZuRUNa6Yb",
        "outputId": "add9a8fa-8145-42c3-f8de-20f2666d452a"
      },
      "execution_count": 131,
      "outputs": [
        {
          "output_type": "stream",
          "name": "stdout",
          "text": [
            "32/32 [==============================] - 0s 1ms/step\n"
          ]
        }
      ]
    },
    {
      "cell_type": "code",
      "source": [
        "#Compare predicted and actual values\n",
        "f = 100000\n",
        "for i in range(10):\n",
        "    h = predictions[i].reshape(basis.size, basis.size)\n",
        "    (rho_1, rho_2) = rho1_rho2(h)\n",
        "    print(h)\n",
        "    print(f\"RHO 1 Predicted {rho_1*f}, {rho_2*f}\")\n",
        "    h = actual_values[i].numpy().reshape(basis.size, basis.size)\n",
        "    (rho_1, rho_2) = rho1_rho2(h)\n",
        "    print(h)\n",
        "    print(f\"RHO 2 Actual value {rho_1*f}, {rho_2*f}\")\n",
        "    #print(f\"Sample {i + 1} - Predicted: {predictions[i]}, Actual: {actual_values[i]}\")"
      ],
      "metadata": {
        "colab": {
          "base_uri": "https://localhost:8080/"
        },
        "id": "GryAhmqv33Up",
        "outputId": "35cf1938-3a23-4613-b30a-ab9b1d977660"
      },
      "execution_count": 132,
      "outputs": [
        {
          "output_type": "stream",
          "name": "stdout",
          "text": [
            "[[ 1.0192565e+00  5.1013154e-01  5.0809276e-01  5.0353438e-01\n",
            "   4.8627758e-01 -2.4031047e-03]\n",
            " [ 6.5637332e-01  1.3156136e+00  5.0047910e-01  5.1649433e-01\n",
            "   7.0853066e-04  4.9942359e-01]\n",
            " [ 2.8598359e-01  5.7450587e-01  9.8367488e-01 -1.1927462e-02\n",
            "   5.1035959e-01  4.6863830e-01]\n",
            " [ 2.3612905e-01  6.4737058e-01 -2.1450017e-02  9.6542668e-01\n",
            "   5.0738466e-01  5.0555730e-01]\n",
            " [ 6.5005231e-01 -1.9419298e-02  6.3010406e-01  5.5702221e-01\n",
            "   6.8280464e-01  4.9940526e-01]\n",
            " [-1.6744934e-02  6.6623569e-01  2.7298182e-01  3.0808681e-01\n",
            "   6.6611755e-01  9.3785954e-01]]\n",
            "RHO 1 Predicted 1267.213560640812, -0.005684837134367626\n",
            "[[1.3322506  0.47324967 0.29565507 0.2869502  0.3069786  0.        ]\n",
            " [0.80379635 1.776639   0.3328321  0.6634407  0.         0.3069786 ]\n",
            " [0.02881155 0.72820145 1.1697999  0.         0.6634407  0.2869502 ]\n",
            " [0.41569775 0.52309906 0.         1.4484178  0.3328321  0.29565507]\n",
            " [0.6608571  0.         0.52309906 0.72820145 0.84157866 0.47324967]\n",
            " [0.         0.6608571  0.41569775 0.02881155 0.80379635 1.2859671 ]]\n",
            "RHO 2 Actual value 1617.353968322277, -0.003112318935905023\n",
            "[[ 1.0408316   0.4361606   0.4917072   0.5713096   0.38352406 -0.12446061]\n",
            " [-0.00328826  1.1490078   0.44078505  0.63679165 -0.05355364  0.57227635]\n",
            " [-0.14474262 -0.23322806  0.50950646  0.00712205  0.5057431   0.55709624]\n",
            " [ 0.7393558   0.77169675  0.00597897  1.5313305   0.36344525  0.40161315]\n",
            " [ 0.6976057   0.02795509  1.0395354  -0.05038559  0.60762584  0.5736985 ]\n",
            " [ 0.00359979  0.68457747  0.7938535   0.0165602  -0.04690585  0.81945646]]\n",
            "RHO 1 Predicted 1761.392317712307, -0.0007215651187664207\n",
            "[[0.9479466  0.9460681  0.8637497  0.4396559  0.09097587 0.        ]\n",
            " [0.10429904 0.92254966 0.42321077 0.0347772  0.         0.09097587]\n",
            " [0.08905009 0.06993003 0.4200233  0.         0.0347772  0.4396559 ]\n",
            " [0.42466596 0.5884217  0.         1.2173705  0.42321077 0.8637497 ]\n",
            " [0.5710237  0.         0.5884217  0.06993003 0.71484417 0.9460681 ]\n",
            " [0.         0.5710237  0.42466596 0.08905009 0.10429904 0.6894472 ]]\n",
            "RHO 2 Actual value 324.19594936072826, -0.001411522987382341\n",
            "[[ 1.6834028   0.4825676   0.52116793  0.5616109   0.45961237 -0.03887687]\n",
            " [ 0.3985041   0.89662427  0.47595277  0.5860498  -0.00968897  0.54185027]\n",
            " [ 0.04340704  0.20430315  0.6594898   0.00193175  0.5132026   0.55256265]\n",
            " [ 0.9035828   0.3057855  -0.00274641  1.3674911   0.4433688   0.46963382]\n",
            " [ 0.502035    0.0133299   0.4144141   0.277042    1.0182403   0.522352  ]\n",
            " [-0.01039384  0.49348018  0.95377064  0.11730367  0.39501905  0.28512216]]\n",
            "RHO 1 Predicted 6.755301728844643, -0.0001032273488910107\n",
            "[[1.5243917  0.39991993 0.80611944 0.70132047 0.9322109  0.        ]\n",
            " [0.53511167 1.3189936  0.14897472 0.5740866  0.         0.9322109 ]\n",
            " [0.02075478 0.30985746 1.0307281  0.         0.5740866  0.70132047]\n",
            " [0.86296695 0.666266   0.         1.3114754  0.14897472 0.80611944]\n",
            " [0.42880327 0.         0.666266   0.30985746 1.0232098  0.39991993]\n",
            " [0.         0.42880327 0.86296695 0.02075478 0.53511167 0.8178117 ]]\n",
            "RHO 2 Actual value 321.0905473679304, -0.00024011430621584395\n",
            "[[ 1.0320482   0.50726724  0.50594264  0.5075948   0.49066672  0.00478061]\n",
            " [ 0.72634375  1.0916512   0.49337354  0.517119   -0.00640826  0.51615024]\n",
            " [ 0.34844813  0.47944337  0.9897486  -0.01015803  0.5118987   0.48171756]\n",
            " [ 0.28778356  0.5637682  -0.01529508  0.980067    0.51318544  0.50171304]\n",
            " [ 0.7311349  -0.01750253  0.5334708   0.46541083  0.9102437   0.49690962]\n",
            " [-0.0186829   0.74242246  0.32801056  0.37309805  0.7269386   0.9384625 ]]\n",
            "RHO 1 Predicted 525.1396913081408, -0.0059604644775390625\n",
            "[[0.55981266 0.6356961  0.17934278 0.85131395 0.6494099  0.        ]\n",
            " [0.86899    0.651188   0.8419989  0.5979586  0.         0.6494099 ]\n",
            " [0.45728385 0.68020475 0.38674307 0.         0.5979586  0.85131395]\n",
            " [0.07088707 0.22363296 0.         0.65755486 0.8419989  0.17934278]\n",
            " [0.7252139  0.         0.22363296 0.68020475 0.39310992 0.6356961 ]\n",
            " [0.         0.7252139  0.07088707 0.45728385 0.86899    0.48448527]]\n",
            "RHO 2 Actual value 590.7446146011353, -0.0022754552020387564\n",
            "[[ 1.0014635e+00  4.9867114e-01  4.9944413e-01  4.9400973e-01\n",
            "   4.7293469e-01  8.0644637e-03]\n",
            " [ 3.6790785e-01  6.9957089e-01  4.7970754e-01  5.0950092e-01\n",
            "  -9.4911782e-03  4.9902689e-01]\n",
            " [ 4.7180855e-01  6.8898374e-01  1.1010562e+00 -4.4182427e-03\n",
            "   4.8912492e-01  4.8574859e-01]\n",
            " [ 4.0269810e-01  7.6597834e-01  1.1001956e-03  8.6313653e-01\n",
            "   5.1338595e-01  4.8678848e-01]\n",
            " [ 3.2995388e-01 -1.8313970e-02  7.5677007e-01  6.6995716e-01\n",
            "   1.2655054e+00  4.9286607e-01]\n",
            " [-6.0770214e-03  3.5256049e-01  4.5077336e-01  5.0869095e-01\n",
            "   3.7270147e-01  9.5408964e-01]]\n",
            "RHO 1 Predicted 143.12140410766006, -0.0015284745913390907\n",
            "[[0.9501113  0.22914886 0.5656541  0.28544885 0.35647646 0.        ]\n",
            " [0.7017598  0.354803   0.4106764  0.9026119  0.         0.35647646]\n",
            " [0.18436447 0.95262986 1.11182    0.         0.9026119  0.28544885]\n",
            " [0.89180285 0.99296945 0.         0.6575081  0.4106764  0.5656541 ]\n",
            " [0.08671202 0.         0.99296945 0.95262986 1.414525   0.22914886]\n",
            " [0.         0.08671202 0.89180285 0.18436447 0.7017598  0.81921667]]\n",
            "RHO 2 Actual value 98.5905877314508, -0.001404091420909026\n",
            "[[ 1.1397424   0.5020638   0.50904596  0.49925414  0.48761773 -0.01814836]\n",
            " [ 0.65664566  1.4280529   0.5197151   0.51711005  0.01683621  0.48018494]\n",
            " [ 0.35065216  0.5358875   0.84875095 -0.01007248  0.50852245  0.44809937]\n",
            " [ 0.22026284  0.71476746 -0.02847613  1.0931473   0.5002679   0.5290122 ]\n",
            " [ 0.49407253 -0.02322765  0.71861285  0.49616084  0.57392687  0.5014618 ]\n",
            " [-0.01078048  0.51223767  0.2408032   0.35146785  0.6868856   0.79896224]]\n",
            "RHO 1 Predicted 793.2409644126892, -0.0014479578425152795\n",
            "[[1.2905025  0.9088148  0.37957793 0.14587054 0.02812469 0.        ]\n",
            " [0.9154627  1.5054317  0.8019528  0.3634651  0.         0.02812469]\n",
            " [0.8778659  0.6549826  0.90998876 0.         0.3634651  0.14587054]\n",
            " [0.08491021 0.8557578  0.         1.1121098  0.8019528  0.37957793]\n",
            " [0.48034725 0.         0.8557578  0.6549826  0.5166669  0.9088148 ]\n",
            " [0.         0.48034725 0.08491021 0.8778659  0.9154627  0.73159605]]\n",
            "RHO 2 Actual value 55.99312135018408, -0.002018553679761226\n",
            "[[ 1.1053125   0.48986518  0.5021982   0.50600666  0.47955358  0.00893306]\n",
            " [ 0.33962652  0.98760754  0.4808637   0.52411383 -0.00223516  0.5035226 ]\n",
            " [ 0.76715046  0.463769    1.0953951   0.00471992  0.50201774  0.50436723]\n",
            " [ 0.67134833  0.47419518  0.00467438  0.91206694  0.5170557   0.50713116]\n",
            " [ 0.38322267 -0.01570184  0.4592111   0.42025623  0.99449694  0.48193392]\n",
            " [-0.00118325  0.39673296  0.7321575   0.78129977  0.35016057  0.88112855]]\n",
            "RHO 1 Predicted 130.47874672338367, -0.000677320377562296\n",
            "[[1.5559342  0.12323163 0.87263703 0.39950126 0.07003414 0.        ]\n",
            " [0.16579567 1.8217044  0.70804137 0.9703153  0.         0.07003414]\n",
            " [0.79890996 0.565709   1.5785916  0.         0.9703153  0.39950126]\n",
            " [0.9914853  0.67508835 0.         1.24446    0.70804137 0.87263703]\n",
            " [0.9617615  0.         0.67508835 0.565709   1.0013472  0.12323163]\n",
            " [0.         0.9617615  0.9914853  0.79890996 0.16579567 1.2671174 ]]\n",
            "RHO 2 Actual value 11.899633682332933, -0.0005804284608501575\n",
            "[[ 1.0294793e+00  5.0695640e-01  5.0468993e-01  4.9891129e-01\n",
            "   4.8283657e-01 -4.0395763e-03]\n",
            " [ 5.7006997e-01  1.3041747e+00  4.9714306e-01  5.1560289e-01\n",
            "   1.1760928e-03  4.9416402e-01]\n",
            " [ 3.1786746e-01  6.2642521e-01  8.6665660e-01 -1.0978581e-02\n",
            "   5.0924492e-01  4.6732017e-01]\n",
            " [ 2.5170800e-01  7.5375873e-01 -1.8114742e-02  1.0813917e+00\n",
            "   5.0641727e-01  5.0170881e-01]\n",
            " [ 5.3338617e-01 -2.0910300e-02  7.4017173e-01  6.0492522e-01\n",
            "   6.8433070e-01  5.0271136e-01]\n",
            " [-1.2741890e-02  5.5218399e-01  2.8661194e-01  3.4001228e-01\n",
            "   5.7988340e-01  9.2014611e-01]]\n",
            "RHO 1 Predicted 910.6878191232681, -0.003810963988826188\n",
            "[[1.1958109  0.42783138 0.02723635 0.71941525 0.8006907  0.        ]\n",
            " [0.86230993 1.6709089  0.87427175 0.4818449  0.         0.8006907 ]\n",
            " [0.79291296 0.86716425 0.91482806 0.         0.4818449  0.71941525]\n",
            " [0.15338674 0.8661534  0.         1.4970547  0.87427175 0.02723635]\n",
            " [0.59041184 0.         0.8661534  0.86716425 0.74097383 0.42783138]\n",
            " [0.         0.59041184 0.15338674 0.79291296 0.86230993 1.2160718 ]]\n",
            "RHO 2 Actual value 390.43822325766087, -0.00020001000855529583\n",
            "[[ 1.1405417   0.5011938   0.506283    0.51298827  0.49385563  0.00431208]\n",
            " [ 0.7396556   1.0688878   0.4951463   0.52254957 -0.00393131  0.5214451 ]\n",
            " [ 0.459766    0.3707      0.99840546 -0.00651729  0.5151235   0.4897802 ]\n",
            " [ 0.38676527  0.4531468  -0.01261449  0.9925618   0.5142434   0.509552  ]\n",
            " [ 0.7477158  -0.01608364  0.42308393  0.34932855  0.9393692   0.4935612 ]\n",
            " [-0.01744701  0.75437605  0.42853197  0.47670192  0.741989    0.8410362 ]]\n",
            "RHO 1 Predicted 26.897108182311058, 0.0\n",
            "[[0.6469266  0.9436215  0.5704459  0.50077367 0.54184717 0.        ]\n",
            " [0.86078084 0.5578462  0.47428113 0.5402715  0.         0.54184717]\n",
            " [0.5171348  0.18527557 0.5007348  0.         0.5402715  0.50077367]\n",
            " [0.17624107 0.43313432 0.         0.35395938 0.47428113 0.5704459 ]\n",
            " [0.9745185  0.         0.43313432 0.18527557 0.296848   0.9436215 ]\n",
            " [0.         0.9745185  0.17624107 0.5171348  0.86078084 0.20776762]]\n",
            "RHO 2 Actual value 3.647505582193844, -0.0007306347971081095\n",
            "[[ 1.0165026e+00  4.9164599e-01  5.0137687e-01  5.0280327e-01\n",
            "   4.7751889e-01  9.9867601e-03]\n",
            " [ 2.9867217e-01  9.7408915e-01  4.7599405e-01  5.2168137e-01\n",
            "  -4.1996660e-03  5.0023454e-01]\n",
            " [ 7.4198955e-01  5.2430403e-01  1.0072488e+00  4.2600799e-03\n",
            "   4.9981150e-01  5.0315994e-01]\n",
            " [ 6.6280931e-01  5.4144752e-01  6.2337350e-03  9.9179667e-01\n",
            "   5.1674104e-01  5.0176704e-01]\n",
            " [ 3.2275888e-01 -1.6219202e-02  5.2623147e-01  4.8179844e-01\n",
            "   9.9968910e-01  4.8376268e-01]\n",
            " [ 5.5439770e-04  3.3907542e-01  7.2425133e-01  7.5951838e-01\n",
            "   3.0797279e-01  9.6460271e-01]]\n",
            "RHO 1 Predicted 682.7579345554113, -0.0019731112743670565\n",
            "[[1.3066672  0.51382834 0.7398445  0.17300576 0.95262706 0.        ]\n",
            " [0.6524521  1.2938958  0.39238572 0.43314397 0.         0.95262706]\n",
            " [0.8880392  0.90880305 1.2869283  0.         0.43314397 0.17300576]\n",
            " [0.7530706  0.246482   0.         1.2720022  0.39238572 0.7398445 ]\n",
            " [0.13493092 0.         0.246482   0.90880305 1.2650347  0.51382834]\n",
            " [0.         0.13493092 0.7530706  0.8880392  0.6524521  1.2522634 ]]\n",
            "RHO 2 Actual value 432.5771238654852, -0.00109453903718304\n"
          ]
        },
        {
          "output_type": "stream",
          "name": "stderr",
          "text": [
            "/usr/local/lib/python3.10/dist-packages/scipy/sparse/linalg/_eigen/arpack/arpack.py:1600: RuntimeWarning: k >= N for N * N square matrix. Attempting to use scipy.linalg.eigh instead.\n",
            "  warnings.warn(\"k >= N for N * N square matrix. \"\n"
          ]
        }
      ]
    },
    {
      "cell_type": "code",
      "source": [],
      "metadata": {
        "id": "ZR4Jv4z6-8sX"
      },
      "execution_count": null,
      "outputs": []
    }
  ],
  "metadata": {
    "language_info": {
      "name": "python"
    },
    "orig_nbformat": 4,
    "colab": {
      "provenance": [],
      "collapsed_sections": [
        "KLD2Yai55rMm"
      ],
      "include_colab_link": true
    },
    "kernelspec": {
      "name": "python3",
      "display_name": "Python 3"
    }
  },
  "nbformat": 4,
  "nbformat_minor": 0
}