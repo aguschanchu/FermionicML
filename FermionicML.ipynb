{
  "cells": [
    {
      "cell_type": "markdown",
      "metadata": {
        "id": "view-in-github",
        "colab_type": "text"
      },
      "source": [
        "<a href=\"https://colab.research.google.com/github/aguschanchu/FermionicML/blob/main/FermionicML.ipynb\" target=\"_parent\"><img src=\"https://colab.research.google.com/assets/colab-badge.svg\" alt=\"Open In Colab\"/></a>"
      ]
    },
    {
      "cell_type": "markdown",
      "metadata": {
        "id": "NXz5cOlVwrzZ"
      },
      "source": [
        "# FermionicML:\n",
        "\n",
        "Code based on aguschanchu/Bosonic.py"
      ]
    },
    {
      "cell_type": "markdown",
      "source": [
        "## Código base"
      ],
      "metadata": {
        "id": "KLD2Yai55rMm"
      }
    },
    {
      "cell_type": "markdown",
      "source": [
        "Cargamos el código de Bosonic.py básico, branch fermionic"
      ],
      "metadata": {
        "id": "rgf9ExZN4jA7"
      }
    },
    {
      "cell_type": "code",
      "source": [
        "import numpy as np\n",
        "from scipy.special import binom\n",
        "from scipy.sparse import dok_matrix, linalg\n",
        "from scipy import linalg as linalg_d\n",
        "from joblib import Memory\n",
        "import random\n",
        "import plotly.graph_objects as go\n",
        "from joblib import Parallel, delayed\n",
        "from numba import jit, prange, njit\n",
        "import numba as nb\n",
        "import pickle\n",
        "import math\n",
        "\n",
        "# Funciones auxiliares optimiadas\n",
        "@nb.jit(nopython=True, parallel=True)\n",
        "def int_to_tuple_arr(ni,nf, b, digits=None):\n",
        "    sol = np.zeros((nf-ni, digits), dtype=np.int64)\n",
        "    for n in prange(ni, nf):\n",
        "        r = np.zeros(digits, dtype=np.int64)\n",
        "        ncop = n\n",
        "        idx = 0\n",
        "        while n != 0:\n",
        "            r[idx] = n % b\n",
        "            n = n // b\n",
        "            idx += 1\n",
        "        if digits is not None:\n",
        "            if idx < digits:\n",
        "                for i in range(idx, digits):\n",
        "                    r[i] = 0\n",
        "                idx = digits\n",
        "        sol[ncop-ni,:] = r[:idx]\n",
        "    return sol\n",
        "\n",
        "def tuple_to_int(t, d):\n",
        "    b = d-1\n",
        "    l = len(t)\n",
        "    s = [t[k]*b**(l-k-1) for k in range(0,l)]\n",
        "    return sum(s)\n",
        "\n",
        "def create_basis_(m, d, size):\n",
        "    base = []\n",
        "    index = 0\n",
        "    chunk_size = 1000000\n",
        "    for x in range(0,(m+1)**d, chunk_size):\n",
        "        start_index = x\n",
        "        end_index = min(x + chunk_size, (m+1)**d)\n",
        "        arr = int_to_tuple_arr(start_index, end_index, m+1, d)\n",
        "        sums = np.sum(arr, axis=1)\n",
        "        rows = np.where(sums == m)[0]\n",
        "        for row in [arr[i] for i in rows]:\n",
        "            if np.all(np.logical_or(row == 0, row == 1)):\n",
        "                base.append(row)\n",
        "\n",
        "    # Como consecuencia de la paralelizacion, es necesario reordenar la base\n",
        "    sorted_base = sorted(base, key=lambda x: tuple_to_int(x, d), reverse=True)\n",
        "    assert len(base) == size\n",
        "\n",
        "    return base\n",
        "\n",
        "class fixed_basis:\n",
        "\n",
        "    # Convierte a un enterno n a su escritura en base b\n",
        "    def _int_to_tuple(self, n, b, digits = None):\n",
        "        rep = np.base_repr(n, b)\n",
        "        rep_int = [int(x,b) for x in rep]\n",
        "        if digits is not None:\n",
        "            zeros = [0 for i in range(0,digits-len(rep))]\n",
        "            return zeros + rep_int\n",
        "        else:\n",
        "            return rep_int\n",
        "\n",
        "    # Revierte la transformacion anterior\n",
        "    def tuple_to_int(self, t):\n",
        "        b = self.d-1\n",
        "        l = len(t)\n",
        "        s = [t[k]*b**(l-k-1) for k in range(0,l)]\n",
        "        return sum(s)\n",
        "\n",
        "    # Convierte el vector en su representacion\n",
        "    def vect_to_repr(self, vect):\n",
        "        for i, k in enumerate(vect):\n",
        "            if k == 1. or k == 1:\n",
        "                break\n",
        "        else:\n",
        "            return 0\n",
        "        return self.base[i,:]\n",
        "\n",
        "    def rep_to_vect(self, rep):\n",
        "        rep = list(rep)\n",
        "        for i, r in [(j, self.base[j,:]) for j in range(0,self.size)]:\n",
        "            if list(r) == rep:\n",
        "                return self.canonicals[:,i]\n",
        "        else:\n",
        "            None\n",
        "\n",
        "    def rep_to_index(self, rep):\n",
        "        return self.base.tolist().index(list(rep))\n",
        "\n",
        "    @staticmethod\n",
        "    def rep_to_exi(rep):\n",
        "        r = []\n",
        "        for i, k in enumerate(rep):\n",
        "            r += [i for x in range(0,k)]\n",
        "        return r\n",
        "\n",
        "    # Crea base de M particulas en D estados (repr y base canonica)\n",
        "    def create_basis(self, m, d):\n",
        "        #print(\"Creating basis: \", m, d)\n",
        "        length = int(binom(d,m))\n",
        "        base = np.array(create_basis_(m, d, length))\n",
        "        # Asignamos a cada uno de ellos un canónico\n",
        "        canonicals = np.eye(length)\n",
        "        return base, canonicals\n",
        "\n",
        "    def __init__(self, m, d):\n",
        "        self.m = m\n",
        "        self.d = d\n",
        "        self.size = int(binom(d,m))\n",
        "        (self.base, self.canonicals) = self.create_basis(m, d)\n",
        "\n",
        "# Matrices de aniquilación y creación endomórficas. Estan fuera de la clase para poder ser cacheadas\n",
        "#@memory.cache\n",
        "def bdb(basis, i, j):\n",
        "    mat = dok_matrix((basis.size, basis.size), dtype=np.float32)\n",
        "    if i != j:\n",
        "        for k, v in enumerate(basis.base):\n",
        "            if v[j] != 0 and v[i] != 1:\n",
        "                print(v)\n",
        "                dest = list(v.copy())\n",
        "                dest[j] -= 1\n",
        "                dest[i] += 1\n",
        "                tar = basis.rep_to_index(dest)\n",
        "                mat[tar, k] = np.sqrt(v[i]+1)*np.sqrt(v[j])\n",
        "    else:\n",
        "        for k, v in enumerate(basis.base):\n",
        "            if v[j] != 0:\n",
        "                mat[k, k] = v[i]\n",
        "    return mat\n",
        "\n",
        "#@memory.cache\n",
        "def bbd(basis, i, j):\n",
        "    mat = dok_matrix((basis.size, basis.size), dtype=np.float32)\n",
        "    if i != j:\n",
        "        for k, v in enumerate(basis.base):\n",
        "            if v[i] != 0 and v[j] != 1:\n",
        "                dest = list(v.copy())\n",
        "                dest[i] -= 1\n",
        "                dest[j] += 1\n",
        "                tar = basis.rep_to_index(dest)\n",
        "                mat[tar, k] = np.sqrt(v[j]+1)*np.sqrt(v[i])\n",
        "    else:\n",
        "        for k, v in enumerate(basis.base):\n",
        "            if v[i] != 1:\n",
        "                mat[k, k] = v[i]+1\n",
        "    return mat\n",
        "\n",
        "# Matrices de aniquilación y creación.Toman la base de origen y destino (basis_o, basis_d) resp\n",
        "#@nb.jit(nopython=True, parallel=True)\n",
        "@nb.jit(nopython=True)\n",
        "def b_aux(basis_o, basis_d, i):\n",
        "    mat = np.zeros((len(basis_d), len(basis_o)), dtype=np.float32)\n",
        "    for k in prange(len(basis_o)):\n",
        "        if basis_o[k][i] != 0:\n",
        "            dest = list(basis_o[k].copy())\n",
        "            dest[i] -= 1\n",
        "            for j in prange(len(basis_d)):\n",
        "                if list(basis_d[j]) == dest:\n",
        "                    tar = j\n",
        "                    mat[tar, k] = np.sqrt(basis_o[k][i])\n",
        "    return mat\n",
        "\n",
        "def b(basis_o, basis_d, i):\n",
        "    return b_aux(basis_o.base, basis_d.base, i)\n",
        "\n",
        "#@nb.jit(nopython=True, parallel=True)\n",
        "@nb.jit(nopython=True)\n",
        "def bd_aux(basis_o, basis_d, i):\n",
        "    mat = np.zeros((len(basis_d), len(basis_o)), dtype=np.float32)\n",
        "    for k in prange(len(basis_o)):\n",
        "        if basis_o[k][i] != 1:\n",
        "            dest = list(basis_o[k].copy())\n",
        "            dest[i] += 1\n",
        "            for j in prange(len(basis_d)):\n",
        "                if list(basis_d[j]) == dest:\n",
        "                    tar = j\n",
        "                    mat[tar, k] = np.sqrt(basis_o[k][i]+1)\n",
        "    return mat\n",
        "\n",
        "def bd(basis_o, basis_d, i):\n",
        "    return bd_aux(basis_o.base, basis_d.base, i)\n",
        "\n",
        "# Acepta una lista de indices a crear\n",
        "@nb.jit(nopython=True, parallel=True)\n",
        "def bd_gen_aux(basis_o, basis_d, gen_list:list):\n",
        "    mat = np.zeros((len(basis_d), len(basis_o)), dtype=np.float32)\n",
        "    for k in prange(len(basis_o)):\n",
        "        conds = np.zeros(len(gen_list), dtype=np.int64)\n",
        "        for i in range(len(gen_list)):\n",
        "            if basis_o[k][gen_list[i]] != 1:\n",
        "                conds[i] = 1\n",
        "        if np.all(conds):\n",
        "            dest = list(basis_o[k].copy())\n",
        "            for i in gen_list:\n",
        "                dest[i] += 1\n",
        "            for j in prange(len(basis_d)):\n",
        "                if list(basis_d[j]) == dest:\n",
        "                    tar = j\n",
        "                    mat[tar, k] = np.sqrt(basis_o[k][i]+1)\n",
        "    return mat\n",
        "\n",
        "def bd_gen(basis_o, basis_d, i):\n",
        "    return bd_gen_aux(basis_o.base, basis_d.base, np.array(i))\n",
        "\n",
        "def b_gen(basis_o, basis_d, i):\n",
        "    return np.transpose(bd_gen(basis_d, basis_o, i))\n",
        "\n",
        "# Volvemos a definir la función para compilarla\n",
        "@nb.jit(forceobj=True)\n",
        "def _rep_to_index(base, rep):\n",
        "    return base.tolist().index(list(rep))\n",
        "\n",
        "# Funciones auxiliares para calcular rho2kkbar y gamma_p\n",
        "@nb.jit(nopython=True)\n",
        "def rep_to_exi(rep):\n",
        "    r = []\n",
        "    for i in range(len(rep)):\n",
        "        for j in range(rep[i]):\n",
        "            r.append(i)\n",
        "    return r\n",
        "\n",
        "@nb.njit\n",
        "def factorial(n):\n",
        "    result = 1\n",
        "    for i in range(1, n + 1):\n",
        "        result *= i\n",
        "    return result\n",
        "\n",
        "@nb.njit\n",
        "def gamma_lamba(x):\n",
        "    res = 1.0\n",
        "    for o in x:\n",
        "        res *= math.sqrt(factorial(o))\n",
        "    return res\n",
        "\n",
        "@nb.jit\n",
        "def gamma_lamba_inv(x):\n",
        "    res = 1.0\n",
        "    for o in x:\n",
        "        res *= 1.0 / np.sqrt(factorial(o))\n",
        "    return res\n",
        "\n",
        "@nb.njit\n",
        "def rep_to_index_np(base, rep):\n",
        "    for i in range(len(base)):\n",
        "        if np.all(base[i] == rep):\n",
        "            return i\n",
        "    return -1\n",
        "\n",
        "\n",
        "def gamma_p(basis, m, vect, m_basis = None, nm_basis = None):\n",
        "    d = basis.d\n",
        "    if not m_basis or not nm_basis:\n",
        "        m_basis = fixed_basis(m, d)\n",
        "        nm_basis = fixed_basis(basis.m-m,d)\n",
        "    return gamma_p_aux(basis.base, vect, m_basis.base, nm_basis.base)\n",
        "\n",
        "@nb.njit()\n",
        "def gamma_p_aux(basis, vect, m_basis, nm_basis):\n",
        "    mat = np.zeros((len(m_basis), len(nm_basis)), dtype=np.float32)\n",
        "    for i in prange(len(m_basis)):\n",
        "        v = m_basis[i]\n",
        "        for j in prange(len(nm_basis)):\n",
        "            w = nm_basis[j]\n",
        "            targ = v + w\n",
        "            index = rep_to_index_np(basis, targ)\n",
        "            if index != -1:\n",
        "                coef = vect[index]\n",
        "                if coef != 0:\n",
        "                    coef = coef * gamma_lamba_inv(v) * gamma_lamba_inv(w) * gamma_lamba(targ)\n",
        "                mat[i, j] = coef\n",
        "    return mat\n",
        "# Devuelve la matriz rho M asociada al vector\n",
        "def rho_m(basis, m, vect, m_basis = None, nm_basis = None):\n",
        "    g = gamma_p(basis, m, vect, m_basis, nm_basis)\n",
        "    return np.dot(g,np.transpose(g))\n",
        "\n",
        "# Devuelve la matriz gamma asociada a la descomposición (M,N-M) del vector\n",
        "@jit(forceobj=True)\n",
        "def gamma(basis, m, vect, m_basis = None, nm_basis = None):\n",
        "    d = basis.d\n",
        "    if not m_basis or not nm_basis:\n",
        "        m_basis = fixed_basis(m, d)\n",
        "        nm_basis = fixed_basis(basis.m-m,d)\n",
        "    mat = dok_matrix((m_basis.size, nm_basis.size), dtype=np.float32)\n",
        "    for i, v in enumerate(m_basis.base):\n",
        "        for j, w in enumerate(nm_basis.base):\n",
        "            targ = v+w\n",
        "            # Revisamos que sea un estado fermionico valido\n",
        "            arr = np.asarray(targ)\n",
        "            if not np.all(np.logical_or(arr == 0, arr == 1)):\n",
        "                continue\n",
        "            index = _rep_to_index(basis.base, targ)\n",
        "            coef = vect[index]\n",
        "            if coef != 0:\n",
        "                aux = lambda x: np.prod(np.reciprocal(np.sqrt([np.math.factorial(o) for o in x])))\n",
        "                aux_inv = lambda x: np.prod(np.sqrt([np.math.factorial(o) for o in x]))\n",
        "                coef = coef * aux(v) * aux(w) * aux_inv(targ)\n",
        "                #coef = coef\n",
        "                #print(v,w,coef)\n",
        "            mat[i,j] = coef\n",
        "    return mat\n",
        "\n",
        "# Devuelve la matriz rho 1 asociada al vector\n",
        "def rho_1(basis, vect):\n",
        "    d = basis.d\n",
        "    mat = dok_matrix((d, d), dtype=np.float32)\n",
        "    for i in range(0, d):\n",
        "        for j in range(0, d):\n",
        "            v = bdb(basis,j,i)*vect\n",
        "            mat[i,j] = np.inner(vect,v)\n",
        "    return mat\n",
        "\n",
        "# Devuelve la matriz rho 2 asociada al vector\n",
        "def rho_2(basis, vect, ml_basis = None, mll_basis = None, t_basis = None):\n",
        "    d = basis.d\n",
        "    # Creo las bases si no están dadad\n",
        "    if ml_basis == None or mll_basis == None or t_basis == None:\n",
        "        ml_basis = fixed_basis(m-1,d)\n",
        "        mll_basis = fixed_basis(m-2,d)\n",
        "        t_basis = fixed_basis(2,d)\n",
        "    mat = dok_matrix((t_basis.size, t_basis.size), dtype=np.float32)\n",
        "    for i, v in enumerate(t_basis.base):\n",
        "        for j, w in enumerate(t_basis.base):\n",
        "            # Creacion de los a\n",
        "            i_set = t_basis.rep_to_exi(v)\n",
        "            b_m = np.dot(b(ml_basis, mll_basis, i_set[1]),b(basis, ml_basis, i_set[0]))\n",
        "\n",
        "            # Creacion de los ad\n",
        "            i_set = t_basis.rep_to_exi(w)\n",
        "            bd_m = np.dot(bd(ml_basis, basis, i_set[1]),bd(mll_basis, ml_basis, i_set[0]))\n",
        "\n",
        "            # Mult de b's y filleo de mat\n",
        "            coef = np.inner(vect,np.dot(bd_m,b_m)*vect)\n",
        "            aux = lambda x: np.prod(np.reciprocal(np.sqrt([np.math.factorial(o) for o in x])))\n",
        "            mat[i,j] = coef * aux(v) * aux(w)\n",
        "    return mat\n",
        "\n",
        "# Devuelve la matriz rho 2 asociada al bloque kkbar\n",
        "def rho_2_kkbar(basis, vect, ml_basis = None, mll_basis = None, t_basis = None):\n",
        "    d = basis.d\n",
        "    # Creo las bases si no están dadas\n",
        "    if ml_basis == None or mll_basis == None or t_basis == None:\n",
        "        ml_basis = fixed_basis(m-1,d)\n",
        "        mll_basis = fixed_basis(m-2,d)\n",
        "        t_basis = fixed_basis(2,d)\n",
        "    diag = []\n",
        "    for v in t_basis.base:\n",
        "        for j in range(0, d, 2):\n",
        "            if v[j] == v[j+1]:\n",
        "                continue\n",
        "            else:\n",
        "                break\n",
        "        else:\n",
        "            diag.append(v)\n",
        "    diag = np.array(diag)\n",
        "    return rho_2_kkbar_aux(diag, vect, basis.base, ml_basis.base, mll_basis.base, t_basis.base)\n",
        "\n",
        "@nb.njit\n",
        "def rho_2_kkbar_lambda(x):\n",
        "    res = 1.0\n",
        "    for o in x:\n",
        "        res *= 1.0 / math.sqrt(factorial(o))\n",
        "    return res\n",
        "\n",
        "@nb.njit(parallel=True)\n",
        "def rho_2_kkbar_aux(diag, vect, basis, ml_basis, mll_basis, t_basis):\n",
        "    mat = np.zeros((len(diag), len(diag)), dtype=np.float32)\n",
        "    for i in prange(len(diag)):\n",
        "        for j in prange(len(diag)):\n",
        "            v = diag[i]\n",
        "            w = diag[j]\n",
        "            # Creacion de los a\n",
        "            i_set = rep_to_exi(v)\n",
        "            b_m = b_aux(ml_basis, mll_basis, i_set[1]) @ b_aux(basis, ml_basis, i_set[0])\n",
        "            # Creacion de los ad\n",
        "            i_set = rep_to_exi(w)\n",
        "            bd_m = bd_aux(ml_basis, basis, i_set[1]) @ bd_aux(mll_basis, ml_basis, i_set[0])\n",
        "            v1 = bd_m @ b_m @ vect\n",
        "            # Mult de b's y filleo de mat\n",
        "            coef = vect @ v1\n",
        "            rho_2_kkbar_lambda(v)\n",
        "            mat[i,j] = coef * rho_2_kkbar_lambda(v) * rho_2_kkbar_lambda(w)\n",
        "    return mat"
      ],
      "metadata": {
        "id": "Gydz4kCH4l5w"
      },
      "execution_count": 34,
      "outputs": []
    },
    {
      "cell_type": "markdown",
      "source": [
        "## Definicion de Hamiltoniano"
      ],
      "metadata": {
        "id": "6dga5Xx_5vDf"
      }
    },
    {
      "cell_type": "markdown",
      "source": [
        "Cargamos el código de creación y resolución de Hamiltonianos"
      ],
      "metadata": {
        "id": "myiTq53L5E1U"
      }
    },
    {
      "cell_type": "code",
      "source": [
        "m = 2\n",
        "d = 4\n",
        "# Creo las bases para no tener que recrearlas luego\n",
        "basis = fixed_basis(m, d)\n",
        "basis_m1 = fixed_basis(m-1, d)\n",
        "basis_m2 = fixed_basis(m-2, d)\n",
        "print(basis.base)\n",
        "print(basis.size)"
      ],
      "metadata": {
        "colab": {
          "base_uri": "https://localhost:8080/"
        },
        "id": "-h5FXWv849Mq",
        "outputId": "39c3f594-51b6-4e3c-c2d2-3d21658f151c"
      },
      "execution_count": 35,
      "outputs": [
        {
          "output_type": "stream",
          "name": "stdout",
          "text": [
            "[[1 1 0 0]\n",
            " [1 0 1 0]\n",
            " [0 1 1 0]\n",
            " [1 0 0 1]\n",
            " [0 1 0 1]\n",
            " [0 0 1 1]]\n",
            "6\n"
          ]
        }
      ]
    },
    {
      "cell_type": "code",
      "source": [
        "# Dados 1/2 (d^2+d) elementos, genera una mat de dxd:\n",
        "def sym_mat_gen(vect, d):\n",
        "    matrix = np.zeros((d, d))\n",
        "    idx = 0\n",
        "    for i in range(d):\n",
        "        for j in range(i, d):\n",
        "            matrix[i, j] = vect[idx]\n",
        "            idx += 1\n",
        "    return matrix + matrix.T - np.diag(matrix.diagonal())\n",
        "\n",
        "# Dada un a mat dxd simetrica, contruye el hamiltoniano de un cuerpo a_{ij} c^{dag}_i c_j\n",
        "@njit(nopython=True, parallel=True)\n",
        "def base_hamiltonian_aux(mat, basis, size, d, basis_m1, basis_m2):\n",
        "    # Construccion de H\n",
        "    h = np.zeros((size,size), dtype=np.float32)\n",
        "    for i in prange(0, d):\n",
        "        for j in prange(0, d):\n",
        "            h += mat[i,j] * np.dot(bd_aux(basis_m1, basis,i), b_aux(basis, basis_m1, j))\n",
        "    return h\n",
        "\n",
        "def base_hamiltonian(mat, basis, basis_m1, basis_m2):\n",
        "    return base_hamiltonian_aux(mat, basis.base, basis.size, basis.d, basis_m1.base, basis_m2.base)\n",
        "\n",
        "def solve(h, last_step = None):\n",
        "    sol = linalg.eigsh(h, which='SA',k=19)\n",
        "    eigenspace_tol = 0.0001\n",
        "    if type(last_step) != type(None):\n",
        "        # Seleccionamos todos los autovects que difieren sus autovalores menos que tol (mismo autoespacio)\n",
        "        # y tomamos la proyección en el autoespacio de la solución del paso anterior (last_step)\n",
        "        eig = sol[0].real\n",
        "        eigv = sol[1]\n",
        "        cand = [eigv[:,i].real  for (i, x) in enumerate(eig) if abs(x-min(eig)) < eigenspace_tol]\n",
        "        cand_norm = [x/np.linalg.norm(x) for x in cand]\n",
        "        fund = np.zeros(len(cand[0]))\n",
        "        for x in cand_norm:\n",
        "            fund += np.dot(last_step,x) * x\n",
        "    else:\n",
        "        argmin = np.argmin(sol[0].real)\n",
        "        fund = sol[1][:,argmin]\n",
        "    fund = fund.real / np.linalg.norm(fund)\n",
        "    return fund"
      ],
      "metadata": {
        "id": "PToiSs915TXw",
        "colab": {
          "base_uri": "https://localhost:8080/"
        },
        "outputId": "18118228-6039-4962-f486-cfe7bc8dcd4a"
      },
      "execution_count": 113,
      "outputs": [
        {
          "output_type": "stream",
          "name": "stderr",
          "text": [
            "/usr/local/lib/python3.10/dist-packages/numba/core/decorators.py:253: RuntimeWarning: nopython is set for njit and is ignored\n",
            "  warnings.warn('nopython is set for njit and is ignored', RuntimeWarning)\n"
          ]
        }
      ]
    },
    {
      "cell_type": "markdown",
      "source": [
        "## Modelo de ML\n",
        "Basado en matrices densidad de 1 y 2 cuerpos como input, con hamiltoniano como salida"
      ],
      "metadata": {
        "id": "emVBTg2QD-Fg"
      }
    },
    {
      "cell_type": "code",
      "source": [
        "import tensorflow as tf\n",
        "import numpy as np"
      ],
      "metadata": {
        "id": "aF_Ec_mCGX96"
      },
      "execution_count": 37,
      "outputs": []
    },
    {
      "cell_type": "code",
      "source": [
        "# Construccion de bases para calculo de rho1 y rho2\n",
        "# rho2\n",
        "m = 2\n",
        "m2_basis = fixed_basis(m, d)\n",
        "print(m2_basis.size)\n",
        "nm2_basis = fixed_basis(basis.m-m, d)\n",
        "# rho1\n",
        "m = 1\n",
        "m1_basis = fixed_basis(m, d)\n",
        "print(m1_basis.size)\n",
        "nm1_basis = fixed_basis(basis.m-m, d)"
      ],
      "metadata": {
        "colab": {
          "base_uri": "https://localhost:8080/"
        },
        "id": "mJDoa6LUJJ8O",
        "outputId": "44c62a07-c261-42e9-95a8-97df1530491f"
      },
      "execution_count": 38,
      "outputs": [
        {
          "output_type": "stream",
          "name": "stdout",
          "text": [
            "6\n",
            "4\n"
          ]
        }
      ]
    },
    {
      "cell_type": "markdown",
      "source": [
        "### Algunos benchmarks y funciones auxiliares"
      ],
      "metadata": {
        "id": "oapxWkD16fHg"
      }
    },
    {
      "cell_type": "code",
      "source": [
        "import time\n",
        "t0 = time.time()\n",
        "a = bd_aux(basis_m1.base, basis.base, 1)\n",
        "b = b_aux(basis.base, basis_m1.base, 2)\n",
        "print(time.time()-t0)\n",
        "t0 = time.time()\n",
        "np.dot(a,b)\n",
        "print(time.time() - t0)\n"
      ],
      "metadata": {
        "colab": {
          "base_uri": "https://localhost:8080/"
        },
        "id": "31vGWUrbXpxG",
        "outputId": "aaa25d0a-7f6e-4ef8-8086-64b8a4a70fe5"
      },
      "execution_count": 39,
      "outputs": [
        {
          "output_type": "stream",
          "name": "stdout",
          "text": [
            "0.6512072086334229\n",
            "0.0002739429473876953\n"
          ]
        }
      ]
    },
    {
      "cell_type": "code",
      "source": [
        "# Given h calculo en rho2 y rho1 máximo\n",
        "def rho1_rho2(h):\n",
        "    fund = solve(h)\n",
        "    rho2 = rho_m(basis, 2, fund, m2_basis, nm2_basis)\n",
        "    r = np.sort(linalg_d.eigvals(rho2).real)\n",
        "    rho_2_max = r[0]\n",
        "    rho1 = rho_m(basis, 1, fund, m1_basis, nm1_basis)\n",
        "    r = np.sort(linalg_d.eigvals(rho1).real)\n",
        "    rho_1_max = r[0]\n",
        "\n",
        "    return (rho_1_max, rho_2_max)\n"
      ],
      "metadata": {
        "id": "umCIrxCZKXQd"
      },
      "execution_count": 40,
      "outputs": []
    },
    {
      "cell_type": "markdown",
      "source": [
        "### Construccion de dataset"
      ],
      "metadata": {
        "id": "ylpy_BCw6jxF"
      }
    },
    {
      "cell_type": "code",
      "source": [
        "import time\n",
        "from tqdm import tqdm\n",
        "# Construccion de listas de dataset\n",
        "num_samples = 50000\n",
        "rho_1_input = []\n",
        "rho_2_input = []\n",
        "fund_input = []\n",
        "h_labels = []\n",
        "\n",
        "t0 = time.time()\n",
        "for i in tqdm(range(num_samples)):\n",
        "    mat_size = (basis.size**2+basis.size)//2\n",
        "    base_vect = np.random.rand(mat_size)\n",
        "    hamil_base = sym_mat_gen(base_vect, basis.size)\n",
        "    # Calculamos el fundamental\n",
        "    h = base_hamiltonian(hamil_base, basis, basis_m1, basis_m2)\n",
        "    # Guardamos el label\n",
        "    h_labels.append(h.flatten())\n",
        "    fund = solve(h)\n",
        "    fund_input.append(fund)\n",
        "    # Calculamos las matrices de 1 y 2 cuerpos\n",
        "    rho2 = rho_m(basis, 2, fund, m2_basis, nm2_basis)\n",
        "    rho_2_input.append(rho2)\n",
        "    rho1 = rho_m(basis, 1, fund, m1_basis, nm1_basis)\n",
        "    rho_1_input.append(rho1)\n",
        "\n",
        "print(time.time()-t0)\n",
        "dataset = tf.data.Dataset.from_tensor_slices(((rho_1_input, rho_2_input), h_labels))\n",
        "\n",
        "rho1_size = m1_basis.size\n",
        "rho2_size = m2_basis.size\n",
        "fund_size = basis.size\n",
        "#batch_size = 32\n",
        "#dataset = dataset.shuffle(buffer_size=num_samples).batch(batch_size)"
      ],
      "metadata": {
        "colab": {
          "base_uri": "https://localhost:8080/"
        },
        "id": "2is_Eo_qGpEz",
        "outputId": "f996f66f-ef0c-4d7e-87ae-264fef0e51b7"
      },
      "execution_count": 117,
      "outputs": [
        {
          "output_type": "stream",
          "name": "stderr",
          "text": [
            "\r  0%|          | 0/50000 [00:00<?, ?it/s]/usr/local/lib/python3.10/dist-packages/scipy/sparse/linalg/_eigen/arpack/arpack.py:1600: RuntimeWarning: k >= N for N * N square matrix. Attempting to use scipy.linalg.eigh instead.\n",
            "  warnings.warn(\"k >= N for N * N square matrix. \"\n",
            "100%|██████████| 50000/50000 [01:03<00:00, 781.63it/s]\n"
          ]
        },
        {
          "output_type": "stream",
          "name": "stdout",
          "text": [
            "63.97659873962402\n"
          ]
        }
      ]
    },
    {
      "cell_type": "code",
      "source": [
        "\n",
        "# Dividimos los datasets\n",
        "train_size = int(0.8 * num_samples)\n",
        "\n",
        "train_dataset = dataset.take(train_size)\n",
        "val_dataset = dataset.skip(train_size)\n",
        "\n",
        "\n",
        "batch_size = 1024\n",
        "train_dataset = train_dataset.shuffle(buffer_size=num_samples).batch(batch_size)\n",
        "val_dataset = val_dataset.shuffle(buffer_size=num_samples).batch(batch_size)"
      ],
      "metadata": {
        "id": "_r7nKtXsZQPz"
      },
      "execution_count": 118,
      "outputs": []
    },
    {
      "cell_type": "markdown",
      "source": [
        "### Definición de modelo"
      ],
      "metadata": {
        "id": "pYEEjNB-7b8y"
      }
    },
    {
      "cell_type": "code",
      "source": [
        "from keras.layers.attention.multi_head_attention import activation\n",
        "# Definicion de layers\n",
        "\n",
        "## rho 1\n",
        "rho1_layer =  tf.keras.layers.Input(shape=(rho1_size,rho1_size) + (1,), name='rho1')\n",
        "\n",
        "# Procesamos el primer input\n",
        "conv_rho1 = tf.keras.layers.Conv2D(16, (3, 3), activation='relu')(rho1_layer)\n",
        "#pool_rho1 = tf.keras.layers.MaxPooling2D((2, 2))(conv_rho1)\n",
        "\n",
        "flatten_rho1 = tf.keras.layers.Flatten()(conv_rho1)\n",
        "\n",
        "## rho 2\n",
        "rho2_layer =  tf.keras.layers.Input(shape=(rho2_size,rho2_size) + (1,), name='rho2')\n",
        "\n",
        "# Procesamos el segundo input\n",
        "conv_rho2 = tf.keras.layers.Conv2D(16, (3, 3), activation='relu')(rho2_layer)\n",
        "#pool_rho2 = tf.keras.layers.MaxPooling2D((2, 2))(conv_rho2)\n",
        "\n",
        "flatten_rho2 = tf.keras.layers.Flatten()(conv_rho2)\n",
        "\n",
        "## fund (deprecated)\n",
        "fund_layer =  tf.keras.layers.Input(shape=(fund_size,), name='fund')\n",
        "flatten_fund = tf.keras.layers.Flatten()(fund_layer)\n",
        "\n",
        "# Concatenamos y construimos el resto de la arquitectura del modelo\n",
        "concatenated = tf.keras.layers.concatenate([flatten_rho1, flatten_rho2])\n",
        "\n",
        "local_size = basis.size*basis.size\n",
        "dense1 = tf.keras.layers.Dense(local_size*2, activation='relu')(concatenated)\n",
        "output = tf.keras.layers.Dense(local_size)(dense1)\n",
        "\n",
        "\n",
        "# Creamos el modelo y compulamos\n",
        "model = tf.keras.models.Model(inputs=[rho1_layer, rho2_layer], outputs=output)\n",
        "model.summary()"
      ],
      "metadata": {
        "id": "A8kkhJr5K0ZQ",
        "colab": {
          "base_uri": "https://localhost:8080/"
        },
        "outputId": "76736331-601f-4ddd-8cda-0c471ac8e694"
      },
      "execution_count": 145,
      "outputs": [
        {
          "output_type": "stream",
          "name": "stdout",
          "text": [
            "Model: \"model_5\"\n",
            "__________________________________________________________________________________________________\n",
            " Layer (type)                   Output Shape         Param #     Connected to                     \n",
            "==================================================================================================\n",
            " rho1 (InputLayer)              [(None, 4, 4, 1)]    0           []                               \n",
            "                                                                                                  \n",
            " rho2 (InputLayer)              [(None, 6, 6, 1)]    0           []                               \n",
            "                                                                                                  \n",
            " conv2d_10 (Conv2D)             (None, 2, 2, 16)     160         ['rho1[0][0]']                   \n",
            "                                                                                                  \n",
            " conv2d_11 (Conv2D)             (None, 4, 4, 16)     160         ['rho2[0][0]']                   \n",
            "                                                                                                  \n",
            " flatten_15 (Flatten)           (None, 64)           0           ['conv2d_10[0][0]']              \n",
            "                                                                                                  \n",
            " flatten_16 (Flatten)           (None, 256)          0           ['conv2d_11[0][0]']              \n",
            "                                                                                                  \n",
            " concatenate_5 (Concatenate)    (None, 320)          0           ['flatten_15[0][0]',             \n",
            "                                                                  'flatten_16[0][0]']             \n",
            "                                                                                                  \n",
            " dense_10 (Dense)               (None, 72)           23112       ['concatenate_5[0][0]']          \n",
            "                                                                                                  \n",
            " dense_11 (Dense)               (None, 36)           2628        ['dense_10[0][0]']               \n",
            "                                                                                                  \n",
            "==================================================================================================\n",
            "Total params: 26,060\n",
            "Trainable params: 26,060\n",
            "Non-trainable params: 0\n",
            "__________________________________________________________________________________________________\n"
          ]
        }
      ]
    },
    {
      "cell_type": "code",
      "source": [
        "r_size = basis.size\n",
        "\n",
        "# Custom loss function based on GS MSE\n",
        "def gs_loss(h_pred, h_true):\n",
        "    h_pred = tf.reshape(h_pred, shape=(-1,r_size,r_size))\n",
        "    e, v = tf.linalg.eigh(h_pred)\n",
        "    gs_pred = v[:, 0]\n",
        "\n",
        "    h_true = tf.reshape(h_true, shape=(-1,r_size,r_size))\n",
        "    e, v = tf.linalg.eigh(h_true)\n",
        "    gs_true = v[:, 0]\n",
        "\n",
        "    gs_diff = tf.norm(gs_true - gs_pred)\n",
        "\n",
        "    return gs_diff\n",
        "\n",
        "def distance_to_hermitian(matrix):\n",
        "    hermitian_part = 0.5 * (matrix + tf.linalg.adjoint(matrix))\n",
        "    distance = tf.norm(matrix - hermitian_part, ord='euclidean')\n",
        "    return distance\n",
        "\n",
        "# Custom loss function based on MSE + non-hermitian penalization\n",
        "def herm_loss(h_pred, h_true):\n",
        "    h_pred_arr = tf.reshape(h_pred, shape=(-1,r_size,r_size))\n",
        "    return tf.reduce_mean(tf.square(h_true - h_pred)) + distance_to_hermitian(h_pred_arr)"
      ],
      "metadata": {
        "id": "RgoMlCyyfBe-"
      },
      "execution_count": 146,
      "outputs": []
    },
    {
      "cell_type": "code",
      "source": [
        "from tensorflow.keras.optimizers import RMSprop, Adam, Nadam\n",
        "\n",
        "# Compile the model\n",
        "model.compile(optimizer=Nadam(),\n",
        "              loss='MSE',  # Use appropriate loss for your task\n",
        "              metrics=['accuracy', 'mean_squared_error'])\n",
        "\n",
        "# Train the model\n",
        "num_epochs = 10\n",
        "history = model.fit(train_dataset, epochs=num_epochs, batch_size=1024, validation_data=val_dataset)"
      ],
      "metadata": {
        "colab": {
          "base_uri": "https://localhost:8080/"
        },
        "id": "nhJCHf0fQdRl",
        "outputId": "e60b3070-0b05-4b88-99e1-b1816945672a"
      },
      "execution_count": 147,
      "outputs": [
        {
          "output_type": "stream",
          "name": "stdout",
          "text": [
            "Epoch 1/10\n",
            "40/40 [==============================] - 5s 37ms/step - loss: 0.2178 - accuracy: 0.1418 - mean_squared_error: 0.2178 - val_loss: 0.0756 - val_accuracy: 0.2345 - val_mean_squared_error: 0.0756\n",
            "Epoch 2/10\n",
            "40/40 [==============================] - 1s 25ms/step - loss: 0.0688 - accuracy: 0.3185 - mean_squared_error: 0.0688 - val_loss: 0.0649 - val_accuracy: 0.4148 - val_mean_squared_error: 0.0649\n",
            "Epoch 3/10\n",
            "40/40 [==============================] - 1s 26ms/step - loss: 0.0623 - accuracy: 0.4875 - mean_squared_error: 0.0623 - val_loss: 0.0610 - val_accuracy: 0.5470 - val_mean_squared_error: 0.0610\n",
            "Epoch 4/10\n",
            "40/40 [==============================] - 1s 26ms/step - loss: 0.0591 - accuracy: 0.5704 - mean_squared_error: 0.0591 - val_loss: 0.0582 - val_accuracy: 0.5860 - val_mean_squared_error: 0.0582\n",
            "Epoch 5/10\n",
            "40/40 [==============================] - 1s 26ms/step - loss: 0.0564 - accuracy: 0.5937 - mean_squared_error: 0.0564 - val_loss: 0.0556 - val_accuracy: 0.5943 - val_mean_squared_error: 0.0556\n",
            "Epoch 6/10\n",
            "40/40 [==============================] - 2s 36ms/step - loss: 0.0539 - accuracy: 0.6036 - mean_squared_error: 0.0539 - val_loss: 0.0534 - val_accuracy: 0.6041 - val_mean_squared_error: 0.0534\n",
            "Epoch 7/10\n",
            "40/40 [==============================] - 1s 21ms/step - loss: 0.0521 - accuracy: 0.6155 - mean_squared_error: 0.0521 - val_loss: 0.0520 - val_accuracy: 0.6119 - val_mean_squared_error: 0.0520\n",
            "Epoch 8/10\n",
            "40/40 [==============================] - 1s 25ms/step - loss: 0.0508 - accuracy: 0.6236 - mean_squared_error: 0.0508 - val_loss: 0.0509 - val_accuracy: 0.6205 - val_mean_squared_error: 0.0509\n",
            "Epoch 9/10\n",
            "40/40 [==============================] - 1s 26ms/step - loss: 0.0498 - accuracy: 0.6324 - mean_squared_error: 0.0498 - val_loss: 0.0502 - val_accuracy: 0.6272 - val_mean_squared_error: 0.0502\n",
            "Epoch 10/10\n",
            "40/40 [==============================] - 1s 25ms/step - loss: 0.0491 - accuracy: 0.6386 - mean_squared_error: 0.0491 - val_loss: 0.0495 - val_accuracy: 0.6345 - val_mean_squared_error: 0.0495\n"
          ]
        }
      ]
    },
    {
      "cell_type": "code",
      "source": [
        "import matplotlib.pyplot as plt\n",
        "#plt.plot(history.history['accuracy'], label='Training Accuracy')\n",
        "#plt.plot(history.history['val_accuracy'], label='Validation Accuracy')\n",
        "plt.plot(history.history['mean_squared_error'], label='Training MSE')\n",
        "plt.plot(history.history['val_mean_squared_error'], label='Validation MSE')\n",
        "\n",
        "plt.xlabel('Epoch')\n",
        "plt.ylabel('MSE')\n",
        "plt.title('MSE vs. Epoch')\n",
        "plt.legend()\n",
        "plt.show()\n",
        "\n",
        "# MIN LOSS = 0.06"
      ],
      "metadata": {
        "colab": {
          "base_uri": "https://localhost:8080/",
          "height": 472
        },
        "id": "cvpE_X1iTXcB",
        "outputId": "1158824e-ecc6-4b0e-e097-ed4e99483990"
      },
      "execution_count": 148,
      "outputs": [
        {
          "output_type": "display_data",
          "data": {
            "text/plain": [
              "<Figure size 640x480 with 1 Axes>"
            ],
            "image/png": "[encoded data removed]"
          },
          "metadata": {}
        }
      ]
    },
    {
      "cell_type": "code",
      "source": [
        "# Assuming you have a validation dataset (val_dataset)\n",
        "sample = next(iter(val_dataset))\n",
        "input_data = sample[0]  # Assuming your dataset provides input data as the first element\n",
        "actual_values = sample[1]  # Assuming your dataset provides actual labels as the second element\n",
        "\n",
        "# Predict using the model\n",
        "predictions = model.predict(input_data)"
      ],
      "metadata": {
        "colab": {
          "base_uri": "https://localhost:8080/"
        },
        "id": "BRlZuRUNa6Yb",
        "outputId": "0c056a89-bf18-4e9a-feb5-54b991f03ee3"
      },
      "execution_count": 149,
      "outputs": [
        {
          "output_type": "stream",
          "name": "stdout",
          "text": [
            "32/32 [==============================] - 0s 2ms/step\n"
          ]
        }
      ]
    },
    {
      "cell_type": "code",
      "source": [
        "#Compare predicted and actual values\n",
        "f = 100\n",
        "m_size = basis.size\n",
        "for i in range(4,5):\n",
        "    print(i)\n",
        "    print(\"PREDICTED\")\n",
        "    mat = predictions[i]\n",
        "    h = mat.reshape(m_size, m_size)\n",
        "    print(mat)\n",
        "    # h = base_hamiltonian(hamil_base, basis, basis_m1, basis_m2)\n",
        "    fund = solve(h)\n",
        "    print(fund)\n",
        "    (rho_1, rho_2) = rho1_rho2(h)\n",
        "    #print(h)\n",
        "    print(f\"Rho1 {rho_1*f}, Rho2 {rho_2*f}\")\n",
        "    print(\"ACTUAL VALUE\")\n",
        "    mat = actual_values[i]\n",
        "    print(mat)\n",
        "    h = mat.numpy().reshape(m_size, m_size)\n",
        "    # h = base_hamiltonian(hamil_base, basis, basis_m1, basis_m2)\n",
        "    fund = solve(h)\n",
        "    print(fund)\n",
        "    (rho_1, rho_2) = rho1_rho2(h)\n",
        "    #print(h)\n",
        "    print(f\"Actual value {rho_1*f}, {rho_2*f}\")\n",
        "    #print(f\"Sample {i + 1} - Predicted: {predictions[i]}, Actual: {actual_values[i]}\")"
      ],
      "metadata": {
        "colab": {
          "base_uri": "https://localhost:8080/"
        },
        "id": "GryAhmqv33Up",
        "outputId": "73a59ac7-c677-412f-91f0-f92f3da2f2f6"
      },
      "execution_count": 151,
      "outputs": [
        {
          "output_type": "stream",
          "name": "stdout",
          "text": [
            "4\n",
            "PREDICTED\n",
            "[ 1.4321259e+00  5.6717288e-01  6.5469348e-01  6.2364727e-01\n",
            "  5.5514526e-01  4.7249133e-03  5.6768280e-01  1.0075750e+00\n",
            "  2.6780874e-01  3.1759346e-01 -1.0185749e-02  5.3824210e-01\n",
            "  6.5101898e-01  2.6488709e-01  1.0490770e+00  7.1366923e-03\n",
            "  3.2032901e-01  6.2497473e-01  6.3376772e-01  3.1535387e-01\n",
            " -3.3341823e-03  9.0969241e-01  2.4673255e-01  6.5973026e-01\n",
            "  5.3953779e-01  2.2375770e-03  3.1934461e-01  2.5070572e-01\n",
            "  9.6681517e-01  5.6149191e-01  5.9061870e-04  5.4452479e-01\n",
            "  6.2299329e-01  6.5922487e-01  5.6108385e-01  5.1993293e-01]\n",
            "[ 0.37238148 -0.24541748 -0.33212355 -0.38040978 -0.25703874  0.6928317 ]\n",
            "Rho1 0.893615186214447, Rho2 -1.7861697898524653e-06\n",
            "ACTUAL VALUE\n",
            "tf.Tensor(\n",
            "[1.4115433  0.6495947  0.9723183  0.6694653  0.86645126 0.\n",
            " 0.6495947  0.7884258  0.1429762  0.9005966  0.         0.86645126\n",
            " 0.9723183  0.1429762  0.8053172  0.         0.9005966  0.6694653\n",
            " 0.6694653  0.9005966  0.         0.7306296  0.1429762  0.9723183\n",
            " 0.86645126 0.         0.9005966  0.1429762  0.74752104 0.6495947\n",
            " 0.         0.86645126 0.6694653  0.9723183  0.6495947  0.12440368], shape=(36,), dtype=float32)\n",
            "[ 0.35386622 -0.25438473 -0.2947357  -0.36280042 -0.24412759  0.7293665 ]\n",
            "Actual value 0.40778275579214096, -1.6001399316678544e-06\n"
          ]
        }
      ]
    },
    {
      "cell_type": "code",
      "source": [
        "# Get the weights of all dense layers in the model\n",
        "dense_weights = []\n",
        "for layer in model.layers:\n",
        "    if isinstance(layer, tf.keras.layers.Dense):\n",
        "        weights = layer.get_weights()\n",
        "        if len(weights) > 0:\n",
        "            dense_weights.append(weights[0])\n",
        "\n",
        "# Visualize the weights of each dense layer\n",
        "for i, weights in enumerate(dense_weights):\n",
        "    plt.figure()\n",
        "    plt.imshow(weights, cmap='viridis', aspect='auto')\n",
        "    plt.colorbar()\n",
        "    plt.title(f\"Dense Layer {i+1} Weights Visualization\")\n",
        "    plt.show()\n"
      ],
      "metadata": {
        "colab": {
          "base_uri": "https://localhost:8080/",
          "height": 887
        },
        "id": "YioVllOX3M1N",
        "outputId": "87a817a3-a532-4fad-c7db-7c3bf4c4d531"
      },
      "execution_count": 144,
      "outputs": [
        {
          "output_type": "display_data",
          "data": {
            "text/plain": [
              "<Figure size 640x480 with 2 Axes>"
            ],
            "image/png": "[encoded data removed]"
          },
          "metadata": {}
        },
        {
          "output_type": "display_data",
          "data": {
            "text/plain": [
              "<Figure size 640x480 with 2 Axes>"
            ],
            "image/png": "[encoded data removed]"
          },
          "metadata": {}
        }
      ]
    },
    {
      "cell_type": "code",
      "source": [],
      "metadata": {
        "id": "5F8GQzs-7Kvf"
      },
      "execution_count": null,
      "outputs": []
    }
  ],
  "metadata": {
    "language_info": {
      "name": "python"
    },
    "orig_nbformat": 4,
    "colab": {
      "provenance": [],
      "collapsed_sections": [
        "KLD2Yai55rMm",
        "oapxWkD16fHg"
      ],
      "include_colab_link": true
    },
    "kernelspec": {
      "name": "python3",
      "display_name": "Python 3"
    }
  },
  "nbformat": 4,
  "nbformat_minor": 0
}