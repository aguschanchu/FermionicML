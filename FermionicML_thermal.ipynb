{
  "cells": [
    {
      "cell_type": "markdown",
      "metadata": {
        "colab_type": "text",
        "id": "view-in-github"
      },
      "source": [
        "<a href=\"https://colab.research.google.com/github/aguschanchu/FermionicML/blob/main/FermionicML_thermal.ipynb\" target=\"_parent\"><img src=\"https://colab.research.google.com/assets/colab-badge.svg\" alt=\"Open In Colab\"/></a>"
      ]
    },
    {
      "cell_type": "markdown",
      "metadata": {
        "id": "NXz5cOlVwrzZ"
      },
      "source": [
        "# FermionicML:\n",
        "\n",
        "Code based on aguschanchu/Bosonic.py\n",
        "\n",
        "A diferencia del código anterior, este modelo trabaja sobre estados térmicos"
      ]
    },
    {
      "cell_type": "markdown",
      "metadata": {
        "id": "KLD2Yai55rMm"
      },
      "source": [
        "## Código base"
      ]
    },
    {
      "cell_type": "markdown",
      "metadata": {
        "id": "rgf9ExZN4jA7"
      },
      "source": [
        "Cargamos el código de Bosonic.py básico, branch fermionic"
      ]
    },
    {
      "cell_type": "code",
      "execution_count": 1,
      "metadata": {
        "id": "Gydz4kCH4l5w"
      },
      "outputs": [
        {
          "name": "stderr",
          "output_type": "stream",
          "text": [
            "/var/tmp/ipykernel_23936/2171788955.py:248: NumbaDeprecationWarning: \u001b[1mThe 'nopython' keyword argument was not supplied to the 'numba.jit' decorator. The implicit default value for this argument is currently False, but it will be changed to True in Numba 0.59.0. See https://numba.readthedocs.io/en/stable/reference/deprecation.html#deprecation-of-object-mode-fall-back-behaviour-when-using-jit for details.\u001b[0m\n",
            "  def gamma_lamba_inv(x):\n"
          ]
        }
      ],
      "source": [
        "import numpy as np\n",
        "from scipy.special import binom\n",
        "from scipy.sparse import dok_matrix, linalg\n",
        "from scipy import linalg as linalg_d\n",
        "from joblib import Memory\n",
        "import random\n",
        "import plotly.graph_objects as go\n",
        "from joblib import Parallel, delayed\n",
        "from numba import jit, prange, njit\n",
        "import numba as nb\n",
        "import pickle\n",
        "import math\n",
        "import tensorflow_probability as tfp\n",
        "\n",
        "# Funciones auxiliares optimiadas\n",
        "@nb.jit(nopython=True, parallel=True)\n",
        "def int_to_tuple_arr(ni,nf, b, digits=None):\n",
        "    sol = np.zeros((nf-ni, digits), dtype=np.int64)\n",
        "    for n in prange(ni, nf):\n",
        "        r = np.zeros(digits, dtype=np.int64)\n",
        "        ncop = n\n",
        "        idx = 0\n",
        "        while n != 0:\n",
        "            r[idx] = n % b\n",
        "            n = n // b\n",
        "            idx += 1\n",
        "        if digits is not None:\n",
        "            if idx < digits:\n",
        "                for i in range(idx, digits):\n",
        "                    r[i] = 0\n",
        "                idx = digits\n",
        "        sol[ncop-ni,:] = r[:idx]\n",
        "    return sol\n",
        "\n",
        "def tuple_to_int(t, d):\n",
        "    b = d-1\n",
        "    l = len(t)\n",
        "    s = [t[k]*b**(l-k-1) for k in range(0,l)]\n",
        "    return sum(s)\n",
        "\n",
        "def create_basis_(m, d, size):\n",
        "    base = []\n",
        "    index = 0\n",
        "    chunk_size = 1000000\n",
        "    for x in range(0,(m+1)**d, chunk_size):\n",
        "        start_index = x\n",
        "        end_index = min(x + chunk_size, (m+1)**d)\n",
        "        arr = int_to_tuple_arr(start_index, end_index, m+1, d)\n",
        "        sums = np.sum(arr, axis=1)\n",
        "        rows = np.where(sums == m)[0]\n",
        "        for row in [arr[i] for i in rows]:\n",
        "            if np.all(np.logical_or(row == 0, row == 1)):\n",
        "                base.append(row)\n",
        "\n",
        "    # Como consecuencia de la paralelizacion, es necesario reordenar la base\n",
        "    sorted_base = sorted(base, key=lambda x: tuple_to_int(x, d), reverse=True)\n",
        "    assert len(base) == size\n",
        "\n",
        "    return base\n",
        "\n",
        "class fixed_basis:\n",
        "\n",
        "    # Convierte a un enterno n a su escritura en base b\n",
        "    def _int_to_tuple(self, n, b, digits = None):\n",
        "        rep = np.base_repr(n, b)\n",
        "        rep_int = [int(x,b) for x in rep]\n",
        "        if digits is not None:\n",
        "            zeros = [0 for i in range(0,digits-len(rep))]\n",
        "            return zeros + rep_int\n",
        "        else:\n",
        "            return rep_int\n",
        "\n",
        "    # Revierte la transformacion anterior\n",
        "    def tuple_to_int(self, t):\n",
        "        b = self.d-1\n",
        "        l = len(t)\n",
        "        s = [t[k]*b**(l-k-1) for k in range(0,l)]\n",
        "        return sum(s)\n",
        "\n",
        "    # Convierte el vector en su representacion\n",
        "    def vect_to_repr(self, vect):\n",
        "        for i, k in enumerate(vect):\n",
        "            if k == 1. or k == 1:\n",
        "                break\n",
        "        else:\n",
        "            return 0\n",
        "        return self.base[i,:]\n",
        "\n",
        "    def rep_to_vect(self, rep):\n",
        "        rep = list(rep)\n",
        "        for i, r in [(j, self.base[j,:]) for j in range(0,self.size)]:\n",
        "            if list(r) == rep:\n",
        "                return self.canonicals[:,i]\n",
        "        else:\n",
        "            None\n",
        "\n",
        "    def rep_to_index(self, rep):\n",
        "        return self.base.tolist().index(list(rep))\n",
        "\n",
        "    @staticmethod\n",
        "    def rep_to_exi(rep):\n",
        "        r = []\n",
        "        for i, k in enumerate(rep):\n",
        "            r += [i for x in range(0,k)]\n",
        "        return r\n",
        "\n",
        "    # Crea base de M particulas en D estados (repr y base canonica)\n",
        "    def create_basis(self, m, d):\n",
        "        #print(\"Creating basis: \", m, d)\n",
        "        length = int(binom(d,m))\n",
        "        base = np.array(create_basis_(m, d, length))\n",
        "        # Asignamos a cada uno de ellos un canónico\n",
        "        canonicals = np.eye(length)\n",
        "        return base, canonicals\n",
        "\n",
        "    def __init__(self, m, d):\n",
        "        self.m = m\n",
        "        self.d = d\n",
        "        self.size = int(binom(d,m))\n",
        "        (self.base, self.canonicals) = self.create_basis(m, d)\n",
        "\n",
        "\n",
        "# Matrices de aniquilación y creación endomórficas. Estan fuera de la clase para poder ser cacheadas\n",
        "#@memory.cache\n",
        "def bdb(basis, i, j):\n",
        "    mat = dok_matrix((basis.size, basis.size), dtype=np.float32)\n",
        "    if i != j:\n",
        "        for k, v in enumerate(basis.base):\n",
        "            if v[j] != 0 and v[i] != 1:\n",
        "                dest = list(v.copy())\n",
        "                dest[j] -= 1\n",
        "                dest[i] += 1\n",
        "                tar = basis.rep_to_index(dest)\n",
        "                mat[tar, k] = np.sqrt(v[i]+1)*np.sqrt(v[j])\n",
        "    else:\n",
        "        for k, v in enumerate(basis.base):\n",
        "            if v[j] != 0:\n",
        "                mat[k, k] = v[i]\n",
        "    return mat\n",
        "\n",
        "#@memory.cache\n",
        "def bbd(basis, i, j):\n",
        "    mat = dok_matrix((basis.size, basis.size), dtype=np.float32)\n",
        "    if i != j:\n",
        "        for k, v in enumerate(basis.base):\n",
        "            if v[i] != 0 and v[j] != 1:\n",
        "                dest = list(v.copy())\n",
        "                dest[i] -= 1\n",
        "                dest[j] += 1\n",
        "                tar = basis.rep_to_index(dest)\n",
        "                mat[tar, k] = np.sqrt(v[j]+1)*np.sqrt(v[i])\n",
        "    else:\n",
        "        for k, v in enumerate(basis.base):\n",
        "            if v[i] != 1:\n",
        "                mat[k, k] = v[i]+1\n",
        "    return mat\n",
        "\n",
        "# Matrices de aniquilación y creación.Toman la base de origen y destino (basis_o, basis_d) resp\n",
        "#@nb.jit(nopython=True, parallel=True)\n",
        "@nb.jit(nopython=True)\n",
        "def b_aux(basis_o, basis_d, i):\n",
        "    mat = np.zeros((len(basis_d), len(basis_o)), dtype=np.float32)\n",
        "    for k in prange(len(basis_o)):\n",
        "        if basis_o[k][i] != 0:\n",
        "            dest = list(basis_o[k].copy())\n",
        "            dest[i] -= 1\n",
        "            for j in prange(len(basis_d)):\n",
        "                if list(basis_d[j]) == dest:\n",
        "                    tar = j\n",
        "                    mat[tar, k] = np.sqrt(basis_o[k][i])\n",
        "    return mat\n",
        "\n",
        "def b(basis_o, basis_d, i):\n",
        "    return b_aux(basis_o.base, basis_d.base, i)\n",
        "\n",
        "#@nb.jit(nopython=True, parallel=True)\n",
        "@nb.jit(nopython=True)\n",
        "def bd_aux(basis_o, basis_d, i):\n",
        "    mat = np.zeros((len(basis_d), len(basis_o)), dtype=np.float32)\n",
        "    for k in prange(len(basis_o)):\n",
        "        if basis_o[k][i] != 1:\n",
        "            dest = list(basis_o[k].copy())\n",
        "            dest[i] += 1\n",
        "            for j in prange(len(basis_d)):\n",
        "                if list(basis_d[j]) == dest:\n",
        "                    tar = j\n",
        "                    mat[tar, k] = np.sqrt(basis_o[k][i]+1)\n",
        "    return mat\n",
        "\n",
        "def bd(basis_o, basis_d, i):\n",
        "    return bd_aux(basis_o.base, basis_d.base, i)\n",
        "\n",
        "\n",
        "# Acepta una lista de indices a crear\n",
        "@nb.jit(nopython=True, parallel=True)\n",
        "def bd_gen_aux(basis_o, basis_d, gen_list):\n",
        "    mat = np.zeros((len(basis_d), len(basis_o)), dtype=np.float32)\n",
        "    for k in prange(len(basis_o)):\n",
        "        conds = np.zeros(len(gen_list), dtype=np.int64)\n",
        "        for i in range(len(gen_list)):\n",
        "            if basis_o[k][gen_list[i]] != 1:\n",
        "                conds[i] = 1\n",
        "        if np.all(conds):\n",
        "            dest = list(basis_o[k].copy())\n",
        "            for i in gen_list:\n",
        "                dest[i] += 1\n",
        "            for j in prange(len(basis_d)):\n",
        "                if list(basis_d[j]) == dest:\n",
        "                    tar = j\n",
        "                    mat[tar, k] = np.sqrt(basis_o[k][i]+1)\n",
        "    return mat\n",
        "\n",
        "def bd_gen(basis_o, basis_d, i):\n",
        "    return bd_gen_aux(basis_o.base, basis_d.base, np.array(i))\n",
        "\n",
        "def b_gen(basis_o, basis_d, i):\n",
        "    return np.transpose(bd_gen(basis_d, basis_o, i))\n",
        "\n",
        "# Volvemos a definir la función para compilarla\n",
        "@nb.jit(forceobj=True)\n",
        "def _rep_to_index(base, rep):\n",
        "    return base.tolist().index(list(rep))\n",
        "\n",
        "# Funciones auxiliares para calcular rho2kkbar y gamma_p\n",
        "@nb.jit(nopython=True)\n",
        "def rep_to_exi(rep):\n",
        "    r = []\n",
        "    for i in range(len(rep)):\n",
        "        for j in range(rep[i]):\n",
        "            r.append(i)\n",
        "    return r\n",
        "\n",
        "@nb.njit\n",
        "def factorial(n):\n",
        "    result = 1\n",
        "    for i in range(1, n + 1):\n",
        "        result *= i\n",
        "    return result\n",
        "\n",
        "@nb.njit\n",
        "def gamma_lamba(x):\n",
        "    res = 1.0\n",
        "    for o in x:\n",
        "        res *= math.sqrt(factorial(o))\n",
        "    return res\n",
        "\n",
        "@nb.jit\n",
        "def gamma_lamba_inv(x):\n",
        "    res = 1.0\n",
        "    for o in x:\n",
        "        res *= 1.0 / np.sqrt(factorial(o))\n",
        "    return res\n",
        "\n",
        "@nb.njit\n",
        "def rep_to_index_np(base, rep):\n",
        "    for i in range(len(base)):\n",
        "        if np.all(base[i] == rep):\n",
        "            return i\n",
        "    return -1\n",
        "\n",
        "\n",
        "def gamma_p(basis, m, vect, m_basis = None, nm_basis = None):\n",
        "    d = basis.d\n",
        "    if not m_basis or not nm_basis:\n",
        "        m_basis = fixed_basis(m, d)\n",
        "        nm_basis = fixed_basis(basis.m-m,d)\n",
        "    return gamma_p_aux(basis.base, vect, m_basis.base, nm_basis.base)\n",
        "\n",
        "@nb.njit()\n",
        "def gamma_p_aux(basis, vect, m_basis, nm_basis):\n",
        "    mat = np.zeros((len(m_basis), len(nm_basis)), dtype=np.float32)\n",
        "    for i in prange(len(m_basis)):\n",
        "        v = m_basis[i]\n",
        "        for j in prange(len(nm_basis)):\n",
        "            w = nm_basis[j]\n",
        "            targ = v + w\n",
        "            index = rep_to_index_np(basis, targ)\n",
        "            if index != -1:\n",
        "                coef = vect[index]\n",
        "                if coef != 0:\n",
        "                    coef = coef * gamma_lamba_inv(v) * gamma_lamba_inv(w) * gamma_lamba(targ)\n",
        "                mat[i, j] = coef\n",
        "    return mat\n",
        "# Devuelve la matriz rho M asociada al vector\n",
        "def rho_m(basis, m, vect, m_basis = None, nm_basis = None):\n",
        "    g = gamma_p(basis, m, vect, m_basis, nm_basis)\n",
        "    return np.dot(g,np.transpose(g))\n",
        "\n",
        "# Devuelve la matriz gamma asociada a la descomposición (M,N-M) del vector\n",
        "@jit(forceobj=True)\n",
        "def gamma(basis, m, vect, m_basis = None, nm_basis = None):\n",
        "    d = basis.d\n",
        "    if not m_basis or not nm_basis:\n",
        "        m_basis = fixed_basis(m, d)\n",
        "        nm_basis = fixed_basis(basis.m-m,d)\n",
        "    mat = dok_matrix((m_basis.size, nm_basis.size), dtype=np.float32)\n",
        "    for i, v in enumerate(m_basis.base):\n",
        "        for j, w in enumerate(nm_basis.base):\n",
        "            targ = v+w\n",
        "            # Revisamos que sea un estado fermionico valido\n",
        "            arr = np.asarray(targ)\n",
        "            if not np.all(np.logical_or(arr == 0, arr == 1)):\n",
        "                continue\n",
        "            index = _rep_to_index(basis.base, targ)\n",
        "            coef = vect[index]\n",
        "            if coef != 0:\n",
        "                aux = lambda x: np.prod(np.reciprocal(np.sqrt([np.math.factorial(o) for o in x])))\n",
        "                aux_inv = lambda x: np.prod(np.sqrt([np.math.factorial(o) for o in x]))\n",
        "                coef = coef * aux(v) * aux(w) * aux_inv(targ)\n",
        "                #coef = coef\n",
        "                #print(v,w,coef)\n",
        "            mat[i,j] = coef\n",
        "    return mat\n",
        "\n",
        "# Genera las matrices de rho1\n",
        "def rho_1_gen(basis):\n",
        "    d = basis.d\n",
        "    s = basis.size\n",
        "    mat = np.empty((d,d,s,s), dtype=np.float32)\n",
        "    for i in range(0, d):\n",
        "        for j in range(0, d):\n",
        "            mat[i,j,:,:] = np.array(bdb(basis,j, i).todense())\n",
        "    return mat\n",
        "\n",
        "#@jit(parallel=True, nopython=True)\n",
        "def rho_1(d, state, rho_1_arrays):\n",
        "    state_expanded = state[np.newaxis, np.newaxis, :, :]\n",
        "    product = state_expanded * rho_1_arrays\n",
        "    mat = np.sum(product, axis=(-2, -1))\n",
        "\n",
        "    return mat\n",
        "\n",
        "\n",
        "# Genera las matrices de rho2\n",
        "def rho_2_gen(basis, mll_basis, t_basis):\n",
        "    size = t_basis.size\n",
        "    s = basis.size\n",
        "    # La entrada i, j contiene C_j^\\dag C_i    i, j \\in t_basis\n",
        "    mat = np.empty((size, size, s, s), dtype=np.float32)\n",
        "    for i, v in enumerate(t_basis.base):\n",
        "        for j, w in enumerate(t_basis.base):\n",
        "            c_i = b_gen(basis, mll_basis, rep_to_exi(v))\n",
        "            cdag_j = bd_gen(mll_basis, basis, rep_to_exi(w))\n",
        "            mat[i, j, :, :] = np.dot(cdag_j, c_i)\n",
        "\n",
        "    return mat\n",
        "\n",
        "def rho_2(size, state, rho_2_arrays):\n",
        "    state_expanded = state[np.newaxis, np.newaxis, :, :]\n",
        "    product = state_expanded * rho_2_arrays\n",
        "    mat = np.sum(product, axis=(-2, -1))\n",
        "\n",
        "    return mat\n",
        "\n",
        "# Devuelve la matriz rho 2 asociada al bloque kkbar\n",
        "def rho_2_kkbar(basis, vect, ml_basis = None, mll_basis = None, t_basis = None):\n",
        "    d = basis.d\n",
        "    # Creo las bases si no están dadas\n",
        "    if ml_basis == None or mll_basis == None or t_basis == None:\n",
        "        ml_basis = fixed_basis(m-1,d)\n",
        "        mll_basis = fixed_basis(m-2,d)\n",
        "        t_basis = fixed_basis(2,d)\n",
        "    diag = []\n",
        "    for v in t_basis.base:\n",
        "        for j in range(0, d, 2):\n",
        "            if v[j] == v[j+1]:\n",
        "                continue\n",
        "            else:\n",
        "                break\n",
        "        else:\n",
        "            diag.append(v)\n",
        "    diag = np.array(diag)\n",
        "    return rho_2_kkbar_aux(diag, vect, basis.base, ml_basis.base, mll_basis.base, t_basis.base)\n",
        "\n",
        "@nb.njit\n",
        "def rho_2_kkbar_lambda(x):\n",
        "    res = 1.0\n",
        "    for o in x:\n",
        "        res *= 1.0 / math.sqrt(factorial(o))\n",
        "    return res\n",
        "\n",
        "@nb.njit(parallel=True)\n",
        "def rho_2_kkbar_aux(diag, vect, basis, ml_basis, mll_basis, t_basis):\n",
        "    mat = np.zeros((len(diag), len(diag)), dtype=np.float32)\n",
        "    for i in prange(len(diag)):\n",
        "        for j in prange(len(diag)):\n",
        "            v = diag[i]\n",
        "            w = diag[j]\n",
        "            # Creacion de los a\n",
        "            i_set = rep_to_exi(v)\n",
        "            b_m = b_aux(ml_basis, mll_basis, i_set[1]) @ b_aux(basis, ml_basis, i_set[0])\n",
        "            # Creacion de los ad\n",
        "            i_set = rep_to_exi(w)\n",
        "            bd_m = bd_aux(ml_basis, basis, i_set[1]) @ bd_aux(mll_basis, ml_basis, i_set[0])\n",
        "            v1 = bd_m @ b_m @ vect\n",
        "            # Mult de b's y filleo de mat\n",
        "            coef = vect @ v1\n",
        "            rho_2_kkbar_lambda(v)\n",
        "            mat[i,j] = coef * rho_2_kkbar_lambda(v) * rho_2_kkbar_lambda(w)\n",
        "    return mat\n"
      ]
    },
    {
      "cell_type": "markdown",
      "metadata": {
        "id": "6dga5Xx_5vDf"
      },
      "source": [
        "## Definicion de Hamiltoniano"
      ]
    },
    {
      "cell_type": "markdown",
      "metadata": {
        "id": "myiTq53L5E1U"
      },
      "source": [
        "Cargamos el código de creación y resolución de Hamiltonianos"
      ]
    },
    {
      "cell_type": "code",
      "execution_count": 2,
      "metadata": {
        "colab": {
          "base_uri": "https://localhost:8080/"
        },
        "id": "-h5FXWv849Mq",
        "outputId": "49dd47b5-8c16-4ad4-92e7-e172462229b3"
      },
      "outputs": [
        {
          "name": "stdout",
          "output_type": "stream",
          "text": [
            "[[1 1 1 0 0 0]\n",
            " [1 1 0 1 0 0]\n",
            " [1 0 1 1 0 0]\n",
            " [0 1 1 1 0 0]\n",
            " [1 1 0 0 1 0]\n",
            " [1 0 1 0 1 0]\n",
            " [0 1 1 0 1 0]\n",
            " [1 0 0 1 1 0]\n",
            " [0 1 0 1 1 0]\n",
            " [0 0 1 1 1 0]\n",
            " [1 1 0 0 0 1]\n",
            " [1 0 1 0 0 1]\n",
            " [0 1 1 0 0 1]\n",
            " [1 0 0 1 0 1]\n",
            " [0 1 0 1 0 1]\n",
            " [0 0 1 1 0 1]\n",
            " [1 0 0 0 1 1]\n",
            " [0 1 0 0 1 1]\n",
            " [0 0 1 0 1 1]\n",
            " [0 0 0 1 1 1]]\n",
            "20\n",
            "15\n"
          ]
        }
      ],
      "source": [
        "m = 3\n",
        "d = 6\n",
        "# Creo las bases para no tener que recrearlas luego\n",
        "basis = fixed_basis(m, d)\n",
        "basis_m1 = fixed_basis(m-1, d)\n",
        "basis_m2 = fixed_basis(m-2, d)\n",
        "print(basis.base)\n",
        "print(basis.size)\n",
        "print(basis_m1.size)"
      ]
    },
    {
      "cell_type": "code",
      "execution_count": 3,
      "metadata": {
        "id": "PToiSs915TXw"
      },
      "outputs": [],
      "source": [
        "## Usamos este approach si queremos guardar los generadores\n",
        "# Dados 1/2 (d^2+d) elementos, genera una mat de dxd:\n",
        "def sym_mat_gen(vect, d):\n",
        "    matrix = fill_matrix(vect, d)\n",
        "    return matrix + matrix.T - np.diag(matrix.diagonal())\n",
        "\n",
        "@jit(nopython=True)\n",
        "def fill_matrix(vect, d):\n",
        "    matrix = np.zeros((d, d))\n",
        "    idx = 0\n",
        "    for i in prange(d):\n",
        "        for j in prange(i, d):\n",
        "            matrix[i, j] = vect[idx]\n",
        "            idx += 1\n",
        "    return matrix\n",
        "\n",
        "# Generamos una matrix aleatoria. Cuidado con la distribución, ver https://stackoverflow.com/questions/56605189/is-there-an-efficient-way-to-generate-a-symmetric-random-matrix\n",
        "def hamil_base_gen(d):\n",
        "    U = np.random.uniform(low=0, high=1.0, size=(d, d))\n",
        "    hamil_base = np.tril(U) + np.tril(U, -1).T\n",
        "    return hamil_base\n",
        "\n",
        "# Dada un a mat dxd simetrica, contruye el hamiltoniano de un cuerpo a_{ij} c^{dag}_i c_j\n",
        "# Alternativamente podemos construirlo a partir de rho_1_gen\n",
        "def base_hamiltonian_aux(mat, size, d, rho_1_gen):\n",
        "    # Construccion de H\n",
        "    rho_1_gen_transposed = rho_1_gen.transpose(1, 0, 2, 3)\n",
        "    mat_expanded = mat[:, :, np.newaxis, np.newaxis]\n",
        "    h = np.sum(mat_expanded * rho_1_gen_transposed[:, :, :, :], axis=(0, 1))\n",
        "    return h.astype(np.float32)\n",
        "\n",
        "def base_hamiltonian(mat, basis, rho_1_gen):\n",
        "    return base_hamiltonian_aux(mat, basis.size, basis.d, rho_1_gen)\n",
        "\n",
        "def solve(h, last_step = None):\n",
        "    sol = linalg.eigsh(h, which='SA',k=19)\n",
        "    eigenspace_tol = 0.0001\n",
        "    if type(last_step) != type(None):\n",
        "        # Seleccionamos todos los autovects que difieren sus autovalores menos que tol (mismo autoespacio)\n",
        "        # y tomamos la proyección en el autoespacio de la solución del paso anterior (last_step)\n",
        "        eig = sol[0].real\n",
        "        eigv = sol[1]\n",
        "        cand = [eigv[:,i].real  for (i, x) in enumerate(eig) if abs(x-min(eig)) < eigenspace_tol]\n",
        "        cand_norm = [x/np.linalg.norm(x) for x in cand]\n",
        "        fund = np.zeros(len(cand[0]))\n",
        "        for x in cand_norm:\n",
        "            fund += np.dot(last_step,x) * x\n",
        "    else:\n",
        "        argmin = np.argmin(sol[0].real)\n",
        "        fund = sol[1][:,argmin]\n",
        "    fund = fund.real / np.linalg.norm(fund)\n",
        "    return fund"
      ]
    },
    {
      "cell_type": "markdown",
      "metadata": {
        "id": "emVBTg2QD-Fg"
      },
      "source": [
        "## Modelo de ML\n",
        "Basado en matrices densidad de 1 y 2 cuerpos como input, con hamiltoniano como salida"
      ]
    },
    {
      "cell_type": "code",
      "execution_count": 4,
      "metadata": {
        "id": "aF_Ec_mCGX96"
      },
      "outputs": [
        {
          "name": "stderr",
          "output_type": "stream",
          "text": [
            "2023-10-24 21:27:58.652503: I tensorflow/core/util/port.cc:111] oneDNN custom operations are on. You may see slightly different numerical results due to floating-point round-off errors from different computation orders. To turn them off, set the environment variable `TF_ENABLE_ONEDNN_OPTS=0`.\n",
            "2023-10-24 21:27:59.402569: E tensorflow/compiler/xla/stream_executor/cuda/cuda_dnn.cc:9342] Unable to register cuDNN factory: Attempting to register factory for plugin cuDNN when one has already been registered\n",
            "2023-10-24 21:27:59.402609: E tensorflow/compiler/xla/stream_executor/cuda/cuda_fft.cc:609] Unable to register cuFFT factory: Attempting to register factory for plugin cuFFT when one has already been registered\n",
            "2023-10-24 21:27:59.406093: E tensorflow/compiler/xla/stream_executor/cuda/cuda_blas.cc:1518] Unable to register cuBLAS factory: Attempting to register factory for plugin cuBLAS when one has already been registered\n",
            "2023-10-24 21:27:59.775339: I tensorflow/core/platform/cpu_feature_guard.cc:182] This TensorFlow binary is optimized to use available CPU instructions in performance-critical operations.\n",
            "To enable the following instructions: AVX2 AVX512F AVX512_VNNI FMA, in other operations, rebuild TensorFlow with the appropriate compiler flags.\n",
            "2023-10-24 21:28:07.182059: I tensorflow/core/common_runtime/gpu/gpu_device.cc:1886] Created device /device:GPU:0 with 20609 MB memory:  -> device: 0, name: NVIDIA L4, pci bus id: 0000:00:03.0, compute capability: 8.9\n"
          ]
        },
        {
          "data": {
            "text/plain": [
              "'/device:GPU:0'"
            ]
          },
          "execution_count": 4,
          "metadata": {},
          "output_type": "execute_result"
        }
      ],
      "source": [
        "import tensorflow as tf\n",
        "import numpy as np\n",
        "tf.test.gpu_device_name()\n"
      ]
    },
    {
      "cell_type": "code",
      "execution_count": 5,
      "metadata": {
        "colab": {
          "base_uri": "https://localhost:8080/"
        },
        "id": "mJDoa6LUJJ8O",
        "outputId": "73481454-fbcb-469f-d72f-cd0f8d534808"
      },
      "outputs": [
        {
          "name": "stdout",
          "output_type": "stream",
          "text": [
            "15\n",
            "[[1 0 0 0 0 0]\n",
            " [0 1 0 0 0 0]\n",
            " [0 0 1 0 0 0]\n",
            " [0 0 0 1 0 0]\n",
            " [0 0 0 0 1 0]\n",
            " [0 0 0 0 0 1]]\n",
            "6\n",
            "[[1 0 0 0 0 0]\n",
            " [0 1 0 0 0 0]\n",
            " [0 0 1 0 0 0]\n",
            " [0 0 0 1 0 0]\n",
            " [0 0 0 0 1 0]\n",
            " [0 0 0 0 0 1]]\n"
          ]
        }
      ],
      "source": [
        "# Construccion de bases para calculo de rho1 y rho2\n",
        "# rho2\n",
        "m = 2\n",
        "m2_basis = fixed_basis(m, d)\n",
        "print(m2_basis.size)\n",
        "nm2_basis = fixed_basis(basis.m-m, d)\n",
        "print(nm2_basis.base)\n",
        "# rho1\n",
        "m = 1\n",
        "m1_basis = fixed_basis(m, d)\n",
        "print(m1_basis.size)\n",
        "print(m1_basis.base)\n",
        "nm1_basis = fixed_basis(basis.m-m, d)"
      ]
    },
    {
      "cell_type": "markdown",
      "metadata": {
        "id": "oapxWkD16fHg"
      },
      "source": [
        "### Algunos benchmarks y funciones auxiliares"
      ]
    },
    {
      "cell_type": "code",
      "execution_count": 6,
      "metadata": {
        "id": "umCIrxCZKXQd"
      },
      "outputs": [],
      "source": [
        "# Given h calculo en rho2 y rho1 máximo\n",
        "def rho1_rho2(h, beta):\n",
        "    fund = thermal_state(h, beta)\n",
        "    rho2 = np.array(rho_2(basis, m2_basis.size, state, rho_2_arrays))\n",
        "    r = np.sort(linalg_d.eigvals(rho2).real)\n",
        "    rho_2_max = r[0]\n",
        "    rho1 = np.array(rho_1(basis, state, rho_1_arrays))\n",
        "    r = np.sort(linalg_d.eigvals(rho1).real)\n",
        "    rho_1_max = r[0]\n",
        "\n",
        "    return (rho_1_max, rho_2_max)\n",
        "\n",
        "def fill_triangular_np(x):\n",
        "    m = x.shape[0]\n",
        "    n = np.int32(np.sqrt(.25 + 2 * m) - .5)\n",
        "    x_tail = x[(m - (n**2 - m)):]\n",
        "    return np.triu(np.concatenate([x, x_tail[::-1]], 0).reshape(n, n))\n"
      ]
    },
    {
      "cell_type": "code",
      "execution_count": 7,
      "metadata": {
        "id": "QaNnIIc5bZux"
      },
      "outputs": [],
      "source": [
        "# TEST: Las funciones de TF y comunes coinciden\n",
        "\n",
        "# Dado h, \\beta, construyo el estado térmico\n",
        "from scipy.linalg import expm\n",
        "\n",
        "def thermal_state(h, beta):\n",
        "    quotient = expm(-beta*h)\n",
        "    return quotient / np.trace(quotient)\n",
        "\n",
        "## NO usar para mat no hermiticas\n",
        "@nb.jit(nopython=True)\n",
        "def thermal_state_eig(h, beta):\n",
        "    w, v = np.linalg.eigh(-beta*h)\n",
        "    D = np.diag(np.exp(w))\n",
        "    mat = v @ D @ v.T\n",
        "    mat = mat / np.trace(mat)\n",
        "    return mat\n",
        "    \n",
        "def gen_to_h(base, rho_1_arrays):\n",
        "    triag = fill_triangular_np(base)\n",
        "    body_gen = triag + np.transpose(triag)-np.diag(np.diag(triag))\n",
        "    h = np.array(base_hamiltonian(body_gen, basis, rho_1_arrays))  \n",
        "    return h \n",
        "\n",
        "def gen_to_h_1b(hamil_base):\n",
        "    triag = tfp.math.fill_triangular(hamil_base, upper=True)\n",
        "    body_gen = triag + tf.transpose(triag, perm=[0,2,1])-tf.linalg.diag(tf.linalg.diag_part(triag))\n",
        "    return body_gen\n",
        "\n",
        "def gen_to_h_tf(hamil_base, rho_1_arrays):\n",
        "    triag = tfp.math.fill_triangular(hamil_base, upper=True)\n",
        "    body_gen = triag + tf.transpose(triag, perm=[0,2,1])-tf.linalg.diag(tf.linalg.diag_part(triag)) # Simetrizamos y generamos la matriz de h\n",
        "    hamil_expanded = body_gen[:, :, :, np.newaxis, np.newaxis]\n",
        "    rho_1_gen_transposed = tf.transpose(rho_1_arrays, perm=[1, 0, 2, 3])\n",
        "    h_arr = tf.reduce_sum(hamil_expanded * rho_1_gen_transposed[np.newaxis,:,:,:,:], axis=[1,2])\n",
        "    return h_arr\n",
        "\n",
        "def thermal_state_tf(h):\n",
        "    # Assume beta=1\n",
        "    exp_hamiltonian = tf.linalg.expm(-h)\n",
        "    partition_function = tf.linalg.trace(exp_hamiltonian)\n",
        "    partition_function = tf.expand_dims(partition_function, axis=1)\n",
        "    partition_function = tf.expand_dims(partition_function, axis=1)\n",
        "    \n",
        "    rho = exp_hamiltonian / partition_function\n",
        "\n",
        "    return rho\n",
        "\n",
        "def rho_1_tf(state, rho_1_arrays):\n",
        "    state = tf.expand_dims(state, axis=1)  # Shape: (5120, 10, 1, 10)\n",
        "    state_expanded = tf.expand_dims(state, axis=1)\n",
        "    rho_1_arrays_expanded = tf.expand_dims(rho_1_arrays, axis=0)  # Shape: (1, 5, 5, 10, 10)\n",
        "    product = state_expanded * rho_1_arrays_expanded  # Shape: (5120, 10, 5, 10, 10)\n",
        "    mat = tf.reduce_sum(product, axis=[-2, -1])  # Shape: (5120, 5, 5)\n",
        "    \n",
        "    return mat\n",
        "\n",
        "def rho_2_tf(state, rho_2_arrays):\n",
        "    state = tf.expand_dims(state, axis=1)  # Shape: (5120, 10, 1, 10)\n",
        "    state_expanded = tf.expand_dims(state, axis=1)\n",
        "    rho_2_arrays_expanded = tf.expand_dims(rho_2_arrays, axis=0)  # Shape: (1, 5, 5, 10, 10)\n",
        "    product = state_expanded * rho_2_arrays_expanded  # Shape: (5120, 10, 5, 10, 10)\n",
        "    mat = tf.reduce_sum(product, axis=[-2, -1])  # Shape: (5120, 5, 5)\n",
        "    \n",
        "    return mat\n",
        "\n",
        "def rho_1_gc_tf(hamil_base):\n",
        "    e, v = tf.linalg.eigh(gen_to_h_1b(hamil_base))\n",
        "    result = 1 / (1 + tf.exp(e))\n",
        "    result = tf.linalg.diag(result)\n",
        "    res = tf.linalg.matmul(v,result)\n",
        "    res = tf.linalg.matmul(res,v,adjoint_b=True)\n",
        "    \n",
        "    return tf.cast(res, tf.float32)\n",
        "\n",
        "# Aux function\n",
        "def outer_product(vector):\n",
        "    return tf.einsum('i,j->ij', vector, vector)\n",
        "\n",
        "def pure_state(h):\n",
        "    e, v = tf.linalg.eigh(h)\n",
        "    fund = v[:,:,0]\n",
        "    d = tf.map_fn(outer_product, fund)\n",
        "    return d\n",
        "    "
      ]
    },
    {
      "cell_type": "markdown",
      "metadata": {
        "id": "ylpy_BCw6jxF"
      },
      "source": [
        "### Construccion de dataset"
      ]
    },
    {
      "cell_type": "markdown",
      "metadata": {},
      "source": [
        "#### Version sincrónica"
      ]
    },
    {
      "cell_type": "code",
      "execution_count": 8,
      "metadata": {
        "colab": {
          "base_uri": "https://localhost:8080/"
        },
        "id": "2is_Eo_qGpEz",
        "outputId": "9a968190-59f2-4695-ef18-b99ff5b4a212"
      },
      "outputs": [
        {
          "name": "stderr",
          "output_type": "stream",
          "text": [
            "2023-10-24 21:28:11.677513: I tensorflow/core/common_runtime/gpu/gpu_device.cc:1886] Created device /job:localhost/replica:0/task:0/device:GPU:0 with 20609 MB memory:  -> device: 0, name: NVIDIA L4, pci bus id: 0000:00:03.0, compute capability: 8.9\n",
            "2023-10-24 21:28:11.928751: I tensorflow/core/common_runtime/gpu/gpu_device.cc:1886] Created device /device:GPU:0 with 20609 MB memory:  -> device: 0, name: NVIDIA L4, pci bus id: 0000:00:03.0, compute capability: 8.9\n"
          ]
        },
        {
          "name": "stdout",
          "output_type": "stream",
          "text": [
            "/device:GPU:0\n"
          ]
        },
        {
          "name": "stderr",
          "output_type": "stream",
          "text": [
            "  0%|                                                                                                                                                                                       | 0/98 [00:00<?, ?it/s]2023-10-24 21:28:12.104427: I tensorflow/core/util/cuda_solvers.cc:179] Creating GpuSolver handles for stream 0x5651282c77a0\n",
            "100%|██████████████████████████████████████████████████████████████████████████████████████████████████████████████████████████████████████████████████████████████████████████████| 98/98 [02:13<00:00,  1.36s/it]\n"
          ]
        }
      ],
      "source": [
        "import time\n",
        "from tqdm import tqdm\n",
        "# Config\n",
        "num_samples = 100000\n",
        "use_gpu = True\n",
        "gpu_batch_size = 1024\n",
        "\n",
        "# Construccion de parametros y matrices auxiliares\n",
        "rho1_size = m1_basis.size\n",
        "rho2_size = m2_basis.size\n",
        "fund_size = basis.size\n",
        "hamil_base_size = basis.d*(basis.d+1)//2\n",
        "rho_1_arrays = rho_1_gen(basis)\n",
        "rho_1_arrays_tf = tf.constant(rho_1_arrays, dtype=tf.float32)\n",
        "#rho_2_arrays = rho_2_gen(basis, nm2_basis, m2_basis)\n",
        "#rho_2_arrays_tf = tf.constant(rho_2_arrays, dtype=tf.float32)\n",
        "\n",
        "\n",
        "if use_gpu:\n",
        "    print(tf.test.gpu_device_name())\n",
        "    datasets = []\n",
        "    for i in tqdm(range(num_samples//gpu_batch_size+1)):\n",
        "        size = basis.d*(basis.d+1)//2\n",
        "        h_labels = [np.random.uniform(low=0, high=1.0, size=(size,)) for _ in range(0,gpu_batch_size)] # Generamos los generadores\n",
        "        hamil_base = tf.constant(h_labels, dtype=tf.float32)\n",
        "        h_arr = gen_to_h_tf(hamil_base, rho_1_arrays_tf)\n",
        "        # Estados térmicos\n",
        "        #state = thermal_state_tf(h_arr) \n",
        "        # Estados puros\n",
        "        state = pure_state(h_arr)\n",
        "        rho_1_input = rho_1_tf(state, rho_1_arrays_tf)\n",
        "        #rho_2_input = rho_2_tf(state, rho_2_arrays_tf)\n",
        "\n",
        "        datasets.append(tf.data.Dataset.from_tensor_slices(((rho_1_input), h_labels)))\n",
        "        #datasets.append(tf.data.Dataset.from_tensor_slices(((rho_1_input, rho_2_input), h_labels)))\n",
        "        #datasets.append(tf.data.Dataset.from_tensor_slices(((rho_1_input, rho_2_input, state), h_labels)))\n",
        "    ds = tf.data.Dataset.from_tensor_slices(datasets)\n",
        "    dataset = ds.interleave(\n",
        "        lambda x: x,\n",
        "        cycle_length=1,\n",
        "        num_parallel_calls=tf.data.AUTOTUNE,\n",
        "    )\n",
        "\n",
        "    \n",
        "else:\n",
        "    rho_1_input = []\n",
        "    rho_2_input = []\n",
        "    fund_input = []\n",
        "    beta_input = []\n",
        "    h_labels = []\n",
        "    hamil_base = []\n",
        "\n",
        "    time_hamil = 0\n",
        "    time_thermal = 0\n",
        "    time_rho1 = 0\n",
        "    time_rho2 = 0\n",
        "\n",
        "    tt = time.time()\n",
        "\n",
        "    # Construccion de hamiltonianos\n",
        "    print(\"Hamiltonian array generation in progress...\")\n",
        "    t0 = time.time()\n",
        "    h_arr = []\n",
        "    for i in tqdm(range(num_samples)):\n",
        "        size = basis.d*(basis.d+1)//2\n",
        "        base = np.random.uniform(low=0, high=1.0, size=(size,))\n",
        "        h = gen_to_h(base, rho_1_arrays)\n",
        "        hamil_base.append(base)\n",
        "        h_arr.append(h)\n",
        "    time_hamil = time.time() - t0\n",
        "\n",
        "    for i in tqdm(range(num_samples)):\n",
        "        t0 = time.time()\n",
        "        h = h_arr[i]\n",
        "        # Guardamos el label\n",
        "        h_labels.append(hamil_base[i])\n",
        "        #beta = np.random.random()*10+0.0001\n",
        "        beta = 1\n",
        "        state = thermal_state_eig(h, beta)\n",
        "        fund_input.append(state)\n",
        "        beta_input.append(beta)\n",
        "        time_thermal += time.time() - t0\n",
        "        #print(state.shape)\n",
        "        t0 = time.time()\n",
        "        # Calculamos las matrices de 1 y 2 cuerpos\n",
        "        rho1 = np.array(rho_1(d, state, rho_1_arrays))\n",
        "        time_rho1 += time.time() - t0\n",
        "\n",
        "        t0 = time.time()\n",
        "        #print(rho1)\n",
        "        rho2 = np.array(rho_2(m2_basis.size, state, rho_2_arrays))\n",
        "        #print(rho2)\n",
        "        rho_2_input.append(rho2)\n",
        "        rho_1_input.append(rho1)\n",
        "        time_rho2 += time.time() - t0\n",
        "\n",
        "    print(time.time()-tt)\n",
        "    t0 = time.time()\n",
        "    # Sin fundamental\n",
        "    #dataset = tf.data.Dataset.from_tensor_slices(((rho_1_input, rho_2_input), h_labels))\n",
        "    dataset = dataset = tf.data.Dataset.from_tensor_slices(((rho_1_input), h_labels))\n",
        "    # Con fundamental\n",
        "    #dataset = tf.data.Dataset.from_tensor_slices(((rho_1_input, rho_2_input, fund_input), h_labels))\n",
        "    time_data = time.time() - t0\n",
        "\n",
        "    print(time_hamil, time_thermal, time_rho1, time_rho2, time_data)\n",
        "\n",
        "#batch_size = 32\n",
        "#dataset = dataset.shuffle(buffer_size=num_samples).batch(batch_size)"
      ]
    },
    {
      "cell_type": "markdown",
      "metadata": {},
      "source": [
        "#### Filleo de dataset"
      ]
    },
    {
      "cell_type": "code",
      "execution_count": 9,
      "metadata": {},
      "outputs": [],
      "source": [
        "import pickle\n",
        "# Save and load dataset\n",
        "save_dataset = False\n",
        "load_dataset = False\n",
        "path = \"/home/agus/TF\"\n",
        "#num_samples = 5000000\n",
        "if save_dataset:\n",
        "    tf.data.Dataset.save(dataset, path)\n",
        "    with open(\"/home/agus/\"+'/file.pkl', 'wb') as file:\n",
        "        pickle.dump(beta_input, file)\n",
        "if load_dataset:\n",
        "    dataset = tf.data.Dataset.load(path)\n",
        "    with open(\"/home/agus/\"+'file.pkl', 'rb') as file:\n",
        "        beta_input = pickle.load(file)\n"
      ]
    },
    {
      "cell_type": "code",
      "execution_count": 10,
      "metadata": {
        "id": "8moZIlfabZuy"
      },
      "outputs": [],
      "source": [
        "# Dividimos los datasets\n",
        "train_size = int(0.8 * num_samples)\n",
        "\n",
        "train_dataset = dataset.take(train_size)\n",
        "val_dataset = dataset.skip(train_size)\n",
        "\n",
        "\n",
        "batch_size = 256\n",
        "train_dataset = train_dataset.batch(batch_size)\n",
        "val_dataset = val_dataset.batch(batch_size)\n",
        "\n",
        "#beta_val = beta_input[train_size:]"
      ]
    },
    {
      "cell_type": "code",
      "execution_count": 11,
      "metadata": {},
      "outputs": [
        {
          "name": "stdout",
          "output_type": "stream",
          "text": [
            "Validation Dataset Size: -2\n"
          ]
        }
      ],
      "source": [
        "# Cardinality no funciona con los datasets generados por GPU\n",
        "val_size = tf.data.experimental.cardinality(val_dataset).numpy()\n",
        "print(\"Validation Dataset Size:\", val_size)\n"
      ]
    },
    {
      "cell_type": "code",
      "execution_count": 12,
      "metadata": {},
      "outputs": [
        {
          "data": {
            "text/plain": [
              "0.16697513"
            ]
          },
          "execution_count": 12,
          "metadata": {},
          "output_type": "execute_result"
        }
      ],
      "source": [
        "state = thermal_state_tf(h_arr)\n",
        "mat = rho_1_gc_tf(h_labels) - rho_1_tf(state, rho_1_arrays_tf)\n",
        "\n",
        "np.mean(tf.norm(tf.reshape(mat, (-1,4,4)), ord='fro', axis=[-1,-2]))"
      ]
    },
    {
      "cell_type": "markdown",
      "metadata": {
        "id": "pYEEjNB-7b8y"
      },
      "source": [
        "### Definición de modelo"
      ]
    },
    {
      "cell_type": "code",
      "execution_count": 13,
      "metadata": {
        "colab": {
          "base_uri": "https://localhost:8080/"
        },
        "id": "QZBtonvGbZuz",
        "outputId": "f197277e-a84b-4ffd-c81f-c81581707fb1"
      },
      "outputs": [
        {
          "name": "stdout",
          "output_type": "stream",
          "text": [
            "Model: \"model\"\n",
            "_________________________________________________________________\n",
            " Layer (type)                Output Shape              Param #   \n",
            "=================================================================\n",
            " rho1 (InputLayer)           [(None, 6, 6, 1)]         0         \n",
            "                                                                 \n",
            " flatten (Flatten)           (None, 36)                0         \n",
            "                                                                 \n",
            " concatenate (Concatenate)   (None, 36)                0         \n",
            "                                                                 \n",
            " dense (Dense)               (None, 6)                 222       \n",
            "                                                                 \n",
            " dense_1 (Dense)             (None, 512)               3584      \n",
            "                                                                 \n",
            " dense_2 (Dense)             (None, 170)               87210     \n",
            "                                                                 \n",
            " dense_3 (Dense)             (None, 256)               43776     \n",
            "                                                                 \n",
            " dense_4 (Dense)             (None, 512)               131584    \n",
            "                                                                 \n",
            " dense_5 (Dense)             (None, 21)                10773     \n",
            "                                                                 \n",
            "=================================================================\n",
            "Total params: 277149 (1.06 MB)\n",
            "Trainable params: 277149 (1.06 MB)\n",
            "Non-trainable params: 0 (0.00 Byte)\n",
            "_________________________________________________________________\n"
          ]
        }
      ],
      "source": [
        "# Modelo denso + fundamental\n",
        "rho1_layer =  tf.keras.layers.Input(shape=(rho1_size,rho1_size, 1), name='rho1')\n",
        "flatten_rho1 = tf.keras.layers.Flatten()(rho1_layer)\n",
        "#rho2_layer =  tf.keras.layers.Input(shape=(rho2_size,rho2_size, 1), name='rho2')\n",
        "#flatten_rho2 = tf.keras.layers.Flatten()(rho2_layer)\n",
        "#fund_layer =  tf.keras.layers.Input(shape=(fund_size, fund_size, 1 ), name='fund')\n",
        "#flatten_fund = tf.keras.layers.Flatten()(fund_layer)\n",
        "\n",
        "dense1 = tf.keras.layers.concatenate([flatten_rho1])\n",
        "#dense1 = tf.keras.layers.concatenate([dense1, flatten_fund])\n",
        "dense1 = tf.keras.layers.Dense(rho1_size, activation='exponential')(dense1)\n",
        "\n",
        "local_size = hamil_base_size\n",
        "l=4\n",
        "layer_s = [512//i for i in range(1,l)]\n",
        "for i in range(0,l):\n",
        "    dense1 = tf.keras.layers.Dense(layer_s[-i], activation='relu')(dense1)\n",
        "\n",
        "output = tf.keras.layers.Dense(local_size)(dense1)\n",
        "# Creamos el modelo y compulamos\n",
        "model = tf.keras.models.Model(inputs=[rho1_layer], outputs=output)\n",
        "model.summary()\n"
      ]
    },
    {
      "cell_type": "code",
      "execution_count": 14,
      "metadata": {},
      "outputs": [],
      "source": [
        "rho1_size = m1_basis.size\n",
        "rho2_size = m2_basis.size"
      ]
    },
    {
      "cell_type": "code",
      "execution_count": 15,
      "metadata": {
        "colab": {
          "base_uri": "https://localhost:8080/"
        },
        "id": "A8kkhJr5K0ZQ",
        "outputId": "f1b731f1-6a02-4181-f0b5-5677a2a85784"
      },
      "outputs": [
        {
          "name": "stdout",
          "output_type": "stream",
          "text": [
            "Model: \"model_1\"\n",
            "_________________________________________________________________\n",
            " Layer (type)                Output Shape              Param #   \n",
            "=================================================================\n",
            " rho1 (InputLayer)           [(None, 6, 6, 1)]         0         \n",
            "                                                                 \n",
            " conv2d (Conv2D)             (None, 5, 5, 32)          160       \n",
            "                                                                 \n",
            " batch_normalization (Batch  (None, 5, 5, 32)          128       \n",
            " Normalization)                                                  \n",
            "                                                                 \n",
            " conv2d_1 (Conv2D)           (None, 4, 4, 8)           1032      \n",
            "                                                                 \n",
            " batch_normalization_1 (Bat  (None, 4, 4, 8)           32        \n",
            " chNormalization)                                                \n",
            "                                                                 \n",
            " max_pooling2d (MaxPooling2  (None, 2, 2, 8)           0         \n",
            " D)                                                              \n",
            "                                                                 \n",
            " flatten_1 (Flatten)         (None, 32)                0         \n",
            "                                                                 \n",
            " dense_6 (Dense)             (None, 32)                1056      \n",
            "                                                                 \n",
            " dense_7 (Dense)             (None, 16)                528       \n",
            "                                                                 \n",
            " dense_8 (Dense)             (None, 21)                357       \n",
            "                                                                 \n",
            "=================================================================\n",
            "Total params: 3293 (12.86 KB)\n",
            "Trainable params: 3213 (12.55 KB)\n",
            "Non-trainable params: 80 (320.00 Byte)\n",
            "_________________________________________________________________\n"
          ]
        }
      ],
      "source": [
        "# Definicion de layers basado en Conv 2D\n",
        "\n",
        "# Factor de cantidad de filtros\n",
        "lf = 8  \n",
        "conv_limit = (rho1_size - 4)\n",
        "initial_dense = (lf*2**(conv_limit-1)*((rho1_size-(conv_limit-1))//2)**2)//2\n",
        "## rho 1\n",
        "rho1_layer =  tf.keras.layers.Input(shape=(rho1_size,rho1_size, 1), name='rho1')\n",
        "\n",
        "# Procesamos el primer input\n",
        "conv_rho1 = tf.keras.layers.Conv2D(lf*2**conv_limit, (2, 2), activation='relu')(rho1_layer)\n",
        "conv_rho1 = tf.keras.layers.BatchNormalization()(conv_rho1)\n",
        "for j in [(2**conv_limit - 2**k)//2 for k in range(1,conv_limit)]:\n",
        "    conv_rho1 = tf.keras.layers.Conv2D(lf*j, (2, 2), activation='relu')(conv_rho1 if 2**j != 1 else rho1_layer)\n",
        "    conv_rho1 = tf.keras.layers.BatchNormalization()(conv_rho1)\n",
        "\n",
        "conv_rho1 = tf.keras.layers.MaxPooling2D((2, 2))(conv_rho1)\n",
        "\n",
        "flatten_rho1 = tf.keras.layers.Flatten()(conv_rho1)\n",
        "#flatten_rho1 = tf.keras.layers.Dense(rho1_size*rho1_size, activation='relu')(flatten_rho1)\n",
        "\n",
        "\"\"\"\n",
        "## rho 2\n",
        "rho2_layer =  tf.keras.layers.Input(shape=(rho2_size,rho2_size, 1), name='rho2')\n",
        "\n",
        "# Procesamos el segundo input\n",
        "conv_rho2 = tf.keras.layers.Conv2D(lf, (3, 3), activation='exponential')(rho2_layer)\n",
        "conv_rho2 = tf.keras.layers.BatchNormalization()(conv_rho2)\n",
        "conv_rho2 = tf.keras.layers.Conv2D(2*lf, (3, 3), activation='relu')(conv_rho2)\n",
        "conv_rho2 = tf.keras.layers.BatchNormalization()(conv_rho2)\n",
        "conv_rho2 = tf.keras.layers.Conv2D(4*lf, (3, 3), activation='relu')(conv_rho2)\n",
        "conv_rho2 = tf.keras.layers.BatchNormalization()(conv_rho2)\n",
        "\n",
        "#conv_rho2 = tf.keras.layers.MaxPooling2D((2, 2))(conv_rho2)\n",
        "\n",
        "flatten_rho2 = tf.keras.layers.Flatten()(conv_rho2)\n",
        "#flatten_rho2 = tf.keras.layers.Dense(rho2_size*rho2_size, activation='relu')(flatten_rho2)\n",
        "\n",
        "\n",
        "## Procesamos el tercer input\n",
        "fund_layer =  tf.keras.layers.Input(shape=(fund_size, fund_size, 1 ), name='fund')\n",
        "conv_fund = tf.keras.layers.Conv2D(lf, (3, 3), activation='exponential')(fund_layer)\n",
        "conv_fund = tf.keras.layers.Conv2D(lf*2, (3, 3), activation='relu')(conv_fund)\n",
        "#conv_fund = tf.keras.layers.MaxPooling2D((2, 2))(conv_fund)\n",
        "\n",
        "flatten_fund = tf.keras.layers.Flatten()(conv_fund)\n",
        "#flatten_fund = tf.keras.layers.Dense(fund_size*fund_size, activation='relu')(flatten_fund)\n",
        "\n",
        "\n",
        "dense1 = tf.keras.layers.concatenate([flatten_rho1, flatten_rho2])\n",
        "dense1 = tf.keras.layers.concatenate([dense1, flatten_fund])\n",
        "\n",
        "#dense1 = tf.keras.layers.Dense(rho1_size*rho2_size, activation='relu')(dense1)\n",
        "\"\"\"\n",
        "\n",
        "#local_size = basis.size*basis.size\n",
        "local_size = hamil_base_size\n",
        "\n",
        "#dense1 = tf.keras.layers.Dense(8*8*4*4, activation='relu')(dense1)\n",
        "#dense1 = tf.keras.layers.Dense(512, activation='relu')(flatten_rho1)\n",
        "#dense1 = tf.keras.layers.Dense(128, activation='relu')(flatten_rho1)\n",
        "dense1 = tf.keras.layers.Dense(initial_dense, activation='relu')(flatten_rho1)\n",
        "dense1 = tf.keras.layers.Dense(initial_dense//2, activation='relu')(dense1)\n",
        "\n",
        "output = tf.keras.layers.Dense(local_size)(dense1)\n",
        "\n",
        "\n",
        "# Creamos el modelo y compulamos\n",
        "#model = tf.keras.models.Model(inputs=[rho1_layer, rho2_layer, fund_layer], outputs=output)\n",
        "#model = tf.keras.models.Model(inputs=[rho1_layer, rho2_layer], outputs=output)\n",
        "model = tf.keras.models.Model(inputs=[rho1_layer], outputs=output)\n",
        "\n",
        "\n",
        "model.summary()"
      ]
    },
    {
      "cell_type": "code",
      "execution_count": 16,
      "metadata": {
        "id": "RgoMlCyyfBe-"
      },
      "outputs": [],
      "source": [
        "# LOSS FUNCTIONS\n",
        "r_size = basis.size\n",
        "\n",
        "# Custom loss function based on GS MSE\n",
        "def gs_loss(h_pred, h_true):\n",
        "    h_pred = tf.reshape(h_pred, shape=(-1,r_size,r_size))\n",
        "    e, v = tf.linalg.eigh(h_pred)\n",
        "    gs_pred = v[:, 0]\n",
        "\n",
        "    h_true = tf.reshape(h_true, shape=(-1,r_size,r_size))\n",
        "    e, v = tf.linalg.eigh(h_true)\n",
        "    gs_true = v[:, 0]\n",
        "\n",
        "    gs_diff = tf.norm(gs_true - gs_pred)\n",
        "\n",
        "    return gs_diff + tf.reduce_mean(tf.square(h_true - h_pred)) * 100\n",
        "\n",
        "def distance_to_hermitian(matrix):\n",
        "    hermitian_part = 0.5 * (matrix + tf.linalg.adjoint(matrix))\n",
        "    distance = tf.norm(matrix - hermitian_part, ord='euclidean')\n",
        "    return distance\n",
        "\n",
        "# Custom loss function based on MSE + non-hermitian penalization\n",
        "def herm_loss(h_pred, h_true):\n",
        "    h_pred_arr = tf.reshape(h_pred, shape=(-1,r_size,r_size))\n",
        "    return tf.reduce_mean(tf.square(h_true - h_pred)) + distance_to_hermitian(h_pred_arr)\n",
        "\n",
        "# Custom loss function based on h eigenvalues\n",
        "def eig_loss(h_pred, h_true):\n",
        "    eig_true = tf.sort(tf.math.real(tf.linalg.eigvals(tf.reshape(h_true, (-1, fund_size, fund_size)))))\n",
        "    eig_pred = tf.sort(tf.math.real(tf.linalg.eigvals(tf.reshape(h_pred, (-1, fund_size, fund_size)))))\n",
        "    return tf.reduce_mean(tf.square(eig_true - eig_pred))\n",
        "\n",
        "# MSE with a factor\n",
        "def mse_f(h_pred, h_true):\n",
        "    f = 100\n",
        "    return tf.reduce_mean(tf.square(h_true - h_pred))*f\n",
        "\n",
        "# Spectral radius loss\n",
        "def spectral_loss(h_pred, h_true):\n",
        "    eig = tf.math.real(tf.linalg.eigvals(tf.reshape(h_true-h_pred, (-1, fund_size, fund_size))))\n",
        "    return tf.math.reduce_max(tf.abs(eig))\n",
        "\n",
        "# Hamiltonian MSE loss (using generators)\n",
        "def base_mse_loss(base_pred, base_true):\n",
        "    h_pred = gen_to_h_tf(base_pred, rho_1_arrays_tf)\n",
        "    h_true = gen_to_h_tf(base_true, rho_1_arrays_tf)\n",
        "    mat = tf.reshape(h_pred-h_true, (-1, fund_size, fund_size))\n",
        "    return tf.norm(mat, ord='fro', axis=[-1, -2])\n",
        "\n",
        "# Custom loss function based on h eigenvalues (using generators)\n",
        "def base_eig_loss(base_pred, base_true):\n",
        "    h_pred = gen_to_h_tf(base_pred, rho_1_arrays_tf)\n",
        "    h_true = gen_to_h_tf(base_true, rho_1_arrays_tf)\n",
        "    eig_true = tf.sort(tf.math.real(tf.linalg.eigvals(tf.reshape(h_true, (-1, fund_size, fund_size)))))\n",
        "    eig_pred = tf.sort(tf.math.real(tf.linalg.eigvals(tf.reshape(h_pred, (-1, fund_size, fund_size)))))\n",
        "    return tf.reduce_mean(tf.square(eig_true - eig_pred))\n",
        "\n",
        "# Custom loss function based on rho1 eigenvals\n",
        "## Auxiliary function\n",
        "def base_to_rho_1_tf(base_pred):\n",
        "    h = gen_to_h_tf(base_pred, rho_1_arrays_tf)\n",
        "    h = tf.reshape(h, (-1, fund_size, fund_size))\n",
        "    state = thermal_state_tf(h)\n",
        "    rho1 = rho_1_tf(state, rho_1_arrays_tf)\n",
        "    return rho1\n",
        "    \n",
        "def rho1_loss(base_pred, base_true):\n",
        "    mat = base_to_rho_1_tf(base_pred) - base_to_rho_1_tf(base_true)\n",
        "    return tf.norm(mat, ord='fro', axis=[-1, -2])\n",
        "\n",
        "# Custom loss function based on rho1 eigenvals (using generators)\n",
        "def base_rho1_loss(base_pred, base_true):\n",
        "    h_pred = gen_to_h_tf(base_pred, rho_1_arrays_tf)\n",
        "    h_true = gen_to_h_tf(base_true, rho_1_arrays_tf)\n",
        "    return tf.reduce_mean(tf.square(rho_1_eig_tf(h_pred) - rho_1_eig_tf(h_true)))*1000\n"
      ]
    },
    {
      "cell_type": "markdown",
      "metadata": {
        "id": "aiWk9piJtNIZ"
      },
      "source": [
        "## Entrenamiento"
      ]
    },
    {
      "cell_type": "code",
      "execution_count": 23,
      "metadata": {
        "colab": {
          "base_uri": "https://localhost:8080/"
        },
        "id": "nhJCHf0fQdRl",
        "outputId": "1821cf27-9ff5-4d67-e9f5-956d20eda5e2"
      },
      "outputs": [
        {
          "name": "stdout",
          "output_type": "stream",
          "text": [
            "Epoch 1/100\n"
          ]
        },
        {
          "name": "stderr",
          "output_type": "stream",
          "text": [
            "2023-10-24 21:33:09.119331: I tensorflow/core/common_runtime/gpu/gpu_device.cc:1886] Created device /device:GPU:0 with 20609 MB memory:  -> device: 0, name: NVIDIA L4, pci bus id: 0000:00:03.0, compute capability: 8.9\n"
          ]
        },
        {
          "name": "stdout",
          "output_type": "stream",
          "text": [
            "    311/Unknown - 3s 4ms/step - loss: 0.0577 - accuracy: 0.1737 - mean_squared_error: 0.0577"
          ]
        },
        {
          "name": "stderr",
          "output_type": "stream",
          "text": [
            "2023-10-24 21:33:12.145890: I tensorflow/core/framework/local_rendezvous.cc:421] Local rendezvous recv item cancelled. Key hash: 18006013483743070822\n"
          ]
        },
        {
          "name": "stdout",
          "output_type": "stream",
          "text": [
            "313/313 [==============================] - 4s 6ms/step - loss: 0.0577 - accuracy: 0.1737 - mean_squared_error: 0.0577 - val_loss: 0.0579 - val_accuracy: 0.1682 - val_mean_squared_error: 0.0579\n",
            "Epoch 2/100\n",
            " 42/313 [===>..........................] - ETA: 1s - loss: 0.0574 - accuracy: 0.1721 - mean_squared_error: 0.0574"
          ]
        },
        {
          "name": "stderr",
          "output_type": "stream",
          "text": [
            "2023-10-24 21:33:13.021933: I tensorflow/core/framework/local_rendezvous.cc:421] Local rendezvous recv item cancelled. Key hash: 18006013483743070822\n",
            "2023-10-24 21:33:13.021995: I tensorflow/core/framework/local_rendezvous.cc:421] Local rendezvous recv item cancelled. Key hash: 11016516315169906398\n"
          ]
        },
        {
          "name": "stdout",
          "output_type": "stream",
          "text": [
            "313/313 [==============================] - 2s 6ms/step - loss: 0.0571 - accuracy: 0.1745 - mean_squared_error: 0.0571 - val_loss: 0.0564 - val_accuracy: 0.1755 - val_mean_squared_error: 0.0564\n",
            "Epoch 3/100\n",
            "313/313 [==============================] - 2s 6ms/step - loss: 0.0549 - accuracy: 0.1813 - mean_squared_error: 0.0549 - val_loss: 0.0550 - val_accuracy: 0.1778 - val_mean_squared_error: 0.0550\n",
            "Epoch 4/100\n",
            "313/313 [==============================] - 2s 6ms/step - loss: 0.0543 - accuracy: 0.1829 - mean_squared_error: 0.0543 - val_loss: 0.0547 - val_accuracy: 0.1793 - val_mean_squared_error: 0.0547\n",
            "Epoch 5/100\n",
            "313/313 [==============================] - 2s 6ms/step - loss: 0.0539 - accuracy: 0.1833 - mean_squared_error: 0.0539 - val_loss: 0.0546 - val_accuracy: 0.1777 - val_mean_squared_error: 0.0546\n",
            "Epoch 6/100\n",
            "313/313 [==============================] - 2s 6ms/step - loss: 0.0536 - accuracy: 0.1849 - mean_squared_error: 0.0536 - val_loss: 0.0542 - val_accuracy: 0.1820 - val_mean_squared_error: 0.0542\n",
            "Epoch 7/100\n",
            "313/313 [==============================] - 2s 6ms/step - loss: 0.0533 - accuracy: 0.1857 - mean_squared_error: 0.0533 - val_loss: 0.0537 - val_accuracy: 0.1821 - val_mean_squared_error: 0.0537\n",
            "Epoch 8/100\n",
            "313/313 [==============================] - 2s 6ms/step - loss: 0.0530 - accuracy: 0.1862 - mean_squared_error: 0.0530 - val_loss: 0.0527 - val_accuracy: 0.1842 - val_mean_squared_error: 0.0527\n",
            "Epoch 9/100\n",
            "313/313 [==============================] - 2s 6ms/step - loss: 0.0516 - accuracy: 0.1891 - mean_squared_error: 0.0516 - val_loss: 0.0518 - val_accuracy: 0.1860 - val_mean_squared_error: 0.0518\n",
            "Epoch 10/100\n",
            "313/313 [==============================] - 2s 6ms/step - loss: 0.0511 - accuracy: 0.1904 - mean_squared_error: 0.0511 - val_loss: 0.0514 - val_accuracy: 0.1881 - val_mean_squared_error: 0.0514\n",
            "Epoch 11/100\n",
            "313/313 [==============================] - 2s 6ms/step - loss: 0.0508 - accuracy: 0.1920 - mean_squared_error: 0.0508 - val_loss: 0.0512 - val_accuracy: 0.1877 - val_mean_squared_error: 0.0512\n",
            "Epoch 12/100\n",
            "313/313 [==============================] - 2s 6ms/step - loss: 0.0505 - accuracy: 0.1928 - mean_squared_error: 0.0505 - val_loss: 0.0509 - val_accuracy: 0.1874 - val_mean_squared_error: 0.0509\n",
            "Epoch 13/100\n",
            "313/313 [==============================] - 2s 6ms/step - loss: 0.0503 - accuracy: 0.1947 - mean_squared_error: 0.0503 - val_loss: 0.0506 - val_accuracy: 0.1893 - val_mean_squared_error: 0.0506\n",
            "Epoch 14/100\n",
            "313/313 [==============================] - 2s 6ms/step - loss: 0.0500 - accuracy: 0.1952 - mean_squared_error: 0.0500 - val_loss: 0.0503 - val_accuracy: 0.1918 - val_mean_squared_error: 0.0503\n",
            "Epoch 15/100\n",
            "313/313 [==============================] - 2s 6ms/step - loss: 0.0498 - accuracy: 0.1966 - mean_squared_error: 0.0498 - val_loss: 0.0501 - val_accuracy: 0.1920 - val_mean_squared_error: 0.0501\n",
            "Epoch 16/100\n",
            "313/313 [==============================] - 2s 6ms/step - loss: 0.0496 - accuracy: 0.1974 - mean_squared_error: 0.0496 - val_loss: 0.0500 - val_accuracy: 0.1930 - val_mean_squared_error: 0.0500\n",
            "Epoch 17/100\n",
            "313/313 [==============================] - 2s 6ms/step - loss: 0.0494 - accuracy: 0.1975 - mean_squared_error: 0.0494 - val_loss: 0.0499 - val_accuracy: 0.1922 - val_mean_squared_error: 0.0499\n",
            "Epoch 18/100\n",
            "313/313 [==============================] - 2s 6ms/step - loss: 0.0492 - accuracy: 0.1977 - mean_squared_error: 0.0492 - val_loss: 0.0497 - val_accuracy: 0.1928 - val_mean_squared_error: 0.0497\n",
            "Epoch 19/100\n",
            "313/313 [==============================] - 2s 6ms/step - loss: 0.0491 - accuracy: 0.1987 - mean_squared_error: 0.0491 - val_loss: 0.0496 - val_accuracy: 0.1929 - val_mean_squared_error: 0.0496\n",
            "Epoch 20/100\n",
            "313/313 [==============================] - 2s 6ms/step - loss: 0.0489 - accuracy: 0.1989 - mean_squared_error: 0.0489 - val_loss: 0.0496 - val_accuracy: 0.1922 - val_mean_squared_error: 0.0496\n",
            "Epoch 21/100\n",
            "313/313 [==============================] - 2s 6ms/step - loss: 0.0487 - accuracy: 0.1996 - mean_squared_error: 0.0487 - val_loss: 0.0494 - val_accuracy: 0.1929 - val_mean_squared_error: 0.0494\n",
            "Epoch 22/100\n",
            "313/313 [==============================] - 2s 6ms/step - loss: 0.0486 - accuracy: 0.2000 - mean_squared_error: 0.0486 - val_loss: 0.0493 - val_accuracy: 0.1915 - val_mean_squared_error: 0.0493\n",
            "Epoch 23/100\n",
            "313/313 [==============================] - 2s 6ms/step - loss: 0.0485 - accuracy: 0.2000 - mean_squared_error: 0.0485 - val_loss: 0.0491 - val_accuracy: 0.1915 - val_mean_squared_error: 0.0491\n",
            "Epoch 24/100\n",
            "313/313 [==============================] - 2s 6ms/step - loss: 0.0484 - accuracy: 0.2012 - mean_squared_error: 0.0484 - val_loss: 0.0489 - val_accuracy: 0.1924 - val_mean_squared_error: 0.0489\n",
            "Epoch 25/100\n",
            "313/313 [==============================] - 2s 6ms/step - loss: 0.0482 - accuracy: 0.2011 - mean_squared_error: 0.0482 - val_loss: 0.0488 - val_accuracy: 0.1928 - val_mean_squared_error: 0.0488\n",
            "Epoch 26/100\n",
            "313/313 [==============================] - 2s 6ms/step - loss: 0.0482 - accuracy: 0.2014 - mean_squared_error: 0.0482 - val_loss: 0.0487 - val_accuracy: 0.1933 - val_mean_squared_error: 0.0487\n",
            "Epoch 27/100\n",
            "313/313 [==============================] - 2s 6ms/step - loss: 0.0481 - accuracy: 0.2011 - mean_squared_error: 0.0481 - val_loss: 0.0487 - val_accuracy: 0.1925 - val_mean_squared_error: 0.0487\n",
            "Epoch 28/100\n",
            "313/313 [==============================] - 2s 6ms/step - loss: 0.0480 - accuracy: 0.2013 - mean_squared_error: 0.0480 - val_loss: 0.0484 - val_accuracy: 0.1942 - val_mean_squared_error: 0.0484\n",
            "Epoch 29/100\n",
            "313/313 [==============================] - 2s 6ms/step - loss: 0.0479 - accuracy: 0.2016 - mean_squared_error: 0.0479 - val_loss: 0.0485 - val_accuracy: 0.1933 - val_mean_squared_error: 0.0485\n",
            "Epoch 30/100\n",
            "313/313 [==============================] - 2s 6ms/step - loss: 0.0479 - accuracy: 0.2013 - mean_squared_error: 0.0479 - val_loss: 0.0484 - val_accuracy: 0.1923 - val_mean_squared_error: 0.0484\n",
            "Epoch 31/100\n",
            "313/313 [==============================] - 2s 6ms/step - loss: 0.0478 - accuracy: 0.2013 - mean_squared_error: 0.0478 - val_loss: 0.0483 - val_accuracy: 0.1937 - val_mean_squared_error: 0.0483\n",
            "Epoch 32/100\n",
            "313/313 [==============================] - 2s 6ms/step - loss: 0.0478 - accuracy: 0.2009 - mean_squared_error: 0.0478 - val_loss: 0.0483 - val_accuracy: 0.1943 - val_mean_squared_error: 0.0483\n",
            "Epoch 33/100\n",
            "313/313 [==============================] - 2s 6ms/step - loss: 0.0477 - accuracy: 0.2006 - mean_squared_error: 0.0477 - val_loss: 0.0482 - val_accuracy: 0.1943 - val_mean_squared_error: 0.0482\n",
            "Epoch 34/100\n",
            "313/313 [==============================] - 2s 6ms/step - loss: 0.0477 - accuracy: 0.2005 - mean_squared_error: 0.0477 - val_loss: 0.0482 - val_accuracy: 0.1944 - val_mean_squared_error: 0.0482\n",
            "Epoch 35/100\n",
            "313/313 [==============================] - 2s 6ms/step - loss: 0.0477 - accuracy: 0.2005 - mean_squared_error: 0.0477 - val_loss: 0.0482 - val_accuracy: 0.1948 - val_mean_squared_error: 0.0482\n",
            "Epoch 36/100\n",
            "313/313 [==============================] - 2s 6ms/step - loss: 0.0476 - accuracy: 0.2003 - mean_squared_error: 0.0476 - val_loss: 0.0481 - val_accuracy: 0.1946 - val_mean_squared_error: 0.0481\n",
            "Epoch 37/100\n",
            "313/313 [==============================] - 2s 6ms/step - loss: 0.0476 - accuracy: 0.2000 - mean_squared_error: 0.0476 - val_loss: 0.0482 - val_accuracy: 0.1939 - val_mean_squared_error: 0.0482\n",
            "Epoch 38/100\n",
            "313/313 [==============================] - 2s 6ms/step - loss: 0.0476 - accuracy: 0.2004 - mean_squared_error: 0.0476 - val_loss: 0.0481 - val_accuracy: 0.1944 - val_mean_squared_error: 0.0481\n",
            "Epoch 39/100\n",
            "313/313 [==============================] - 2s 6ms/step - loss: 0.0476 - accuracy: 0.2007 - mean_squared_error: 0.0476 - val_loss: 0.0481 - val_accuracy: 0.1946 - val_mean_squared_error: 0.0481\n",
            "Epoch 40/100\n",
            "313/313 [==============================] - 2s 6ms/step - loss: 0.0475 - accuracy: 0.2009 - mean_squared_error: 0.0475 - val_loss: 0.0480 - val_accuracy: 0.1960 - val_mean_squared_error: 0.0480\n",
            "Epoch 41/100\n",
            "313/313 [==============================] - 2s 6ms/step - loss: 0.0474 - accuracy: 0.2010 - mean_squared_error: 0.0474 - val_loss: 0.0480 - val_accuracy: 0.1961 - val_mean_squared_error: 0.0480\n",
            "Epoch 42/100\n",
            "313/313 [==============================] - 2s 6ms/step - loss: 0.0474 - accuracy: 0.2006 - mean_squared_error: 0.0474 - val_loss: 0.0479 - val_accuracy: 0.1971 - val_mean_squared_error: 0.0479\n",
            "Epoch 43/100\n",
            "313/313 [==============================] - 2s 6ms/step - loss: 0.0473 - accuracy: 0.1999 - mean_squared_error: 0.0473 - val_loss: 0.0477 - val_accuracy: 0.1965 - val_mean_squared_error: 0.0477\n",
            "Epoch 44/100\n",
            "313/313 [==============================] - 2s 6ms/step - loss: 0.0470 - accuracy: 0.1988 - mean_squared_error: 0.0470 - val_loss: 0.0474 - val_accuracy: 0.1959 - val_mean_squared_error: 0.0474\n",
            "Epoch 45/100\n",
            "313/313 [==============================] - 2s 6ms/step - loss: 0.0464 - accuracy: 0.1999 - mean_squared_error: 0.0464 - val_loss: 0.0465 - val_accuracy: 0.1958 - val_mean_squared_error: 0.0465\n",
            "Epoch 46/100\n",
            "313/313 [==============================] - 2s 6ms/step - loss: 0.0458 - accuracy: 0.2018 - mean_squared_error: 0.0458 - val_loss: 0.0457 - val_accuracy: 0.2011 - val_mean_squared_error: 0.0457\n",
            "Epoch 47/100\n",
            "313/313 [==============================] - 2s 6ms/step - loss: 0.0455 - accuracy: 0.2033 - mean_squared_error: 0.0455 - val_loss: 0.0455 - val_accuracy: 0.2008 - val_mean_squared_error: 0.0455\n",
            "Epoch 48/100\n",
            "313/313 [==============================] - 2s 6ms/step - loss: 0.0453 - accuracy: 0.2039 - mean_squared_error: 0.0453 - val_loss: 0.0454 - val_accuracy: 0.2019 - val_mean_squared_error: 0.0454\n",
            "Epoch 49/100\n",
            "313/313 [==============================] - 2s 6ms/step - loss: 0.0452 - accuracy: 0.2036 - mean_squared_error: 0.0452 - val_loss: 0.0453 - val_accuracy: 0.2017 - val_mean_squared_error: 0.0453\n",
            "Epoch 50/100\n",
            "313/313 [==============================] - 2s 6ms/step - loss: 0.0451 - accuracy: 0.2039 - mean_squared_error: 0.0451 - val_loss: 0.0453 - val_accuracy: 0.2026 - val_mean_squared_error: 0.0453\n",
            "Epoch 51/100\n",
            "313/313 [==============================] - 2s 6ms/step - loss: 0.0451 - accuracy: 0.2042 - mean_squared_error: 0.0451 - val_loss: 0.0452 - val_accuracy: 0.2030 - val_mean_squared_error: 0.0452\n",
            "Epoch 52/100\n",
            "313/313 [==============================] - 2s 6ms/step - loss: 0.0450 - accuracy: 0.2048 - mean_squared_error: 0.0450 - val_loss: 0.0452 - val_accuracy: 0.2029 - val_mean_squared_error: 0.0452\n",
            "Epoch 53/100\n",
            "313/313 [==============================] - 2s 6ms/step - loss: 0.0450 - accuracy: 0.2046 - mean_squared_error: 0.0450 - val_loss: 0.0451 - val_accuracy: 0.2033 - val_mean_squared_error: 0.0451\n",
            "Epoch 54/100\n",
            "313/313 [==============================] - 2s 6ms/step - loss: 0.0450 - accuracy: 0.2048 - mean_squared_error: 0.0450 - val_loss: 0.0451 - val_accuracy: 0.2031 - val_mean_squared_error: 0.0451\n",
            "Epoch 55/100\n",
            "313/313 [==============================] - 2s 6ms/step - loss: 0.0449 - accuracy: 0.2050 - mean_squared_error: 0.0449 - val_loss: 0.0450 - val_accuracy: 0.2034 - val_mean_squared_error: 0.0450\n",
            "Epoch 56/100\n",
            "313/313 [==============================] - 2s 6ms/step - loss: 0.0449 - accuracy: 0.2050 - mean_squared_error: 0.0449 - val_loss: 0.0450 - val_accuracy: 0.2042 - val_mean_squared_error: 0.0450\n",
            "Epoch 57/100\n",
            "313/313 [==============================] - 2s 6ms/step - loss: 0.0449 - accuracy: 0.2050 - mean_squared_error: 0.0449 - val_loss: 0.0449 - val_accuracy: 0.2041 - val_mean_squared_error: 0.0449\n",
            "Epoch 58/100\n",
            "313/313 [==============================] - 2s 6ms/step - loss: 0.0449 - accuracy: 0.2051 - mean_squared_error: 0.0449 - val_loss: 0.0449 - val_accuracy: 0.2028 - val_mean_squared_error: 0.0449\n",
            "Epoch 59/100\n",
            "313/313 [==============================] - 2s 6ms/step - loss: 0.0448 - accuracy: 0.2051 - mean_squared_error: 0.0448 - val_loss: 0.0448 - val_accuracy: 0.2034 - val_mean_squared_error: 0.0448\n",
            "Epoch 60/100\n",
            "313/313 [==============================] - 2s 6ms/step - loss: 0.0448 - accuracy: 0.2055 - mean_squared_error: 0.0448 - val_loss: 0.0448 - val_accuracy: 0.2036 - val_mean_squared_error: 0.0448\n",
            "Epoch 61/100\n",
            "313/313 [==============================] - 2s 6ms/step - loss: 0.0448 - accuracy: 0.2056 - mean_squared_error: 0.0448 - val_loss: 0.0448 - val_accuracy: 0.2028 - val_mean_squared_error: 0.0448\n",
            "Epoch 62/100\n",
            "313/313 [==============================] - 2s 6ms/step - loss: 0.0448 - accuracy: 0.2057 - mean_squared_error: 0.0448 - val_loss: 0.0448 - val_accuracy: 0.2032 - val_mean_squared_error: 0.0448\n",
            "Epoch 63/100\n",
            "313/313 [==============================] - 2s 6ms/step - loss: 0.0448 - accuracy: 0.2059 - mean_squared_error: 0.0448 - val_loss: 0.0448 - val_accuracy: 0.2026 - val_mean_squared_error: 0.0448\n",
            "Epoch 64/100\n",
            "313/313 [==============================] - 2s 6ms/step - loss: 0.0447 - accuracy: 0.2064 - mean_squared_error: 0.0447 - val_loss: 0.0447 - val_accuracy: 0.2024 - val_mean_squared_error: 0.0447\n",
            "Epoch 65/100\n",
            "313/313 [==============================] - 2s 6ms/step - loss: 0.0447 - accuracy: 0.2062 - mean_squared_error: 0.0447 - val_loss: 0.0447 - val_accuracy: 0.2021 - val_mean_squared_error: 0.0447\n",
            "Epoch 66/100\n",
            "313/313 [==============================] - 2s 6ms/step - loss: 0.0447 - accuracy: 0.2066 - mean_squared_error: 0.0447 - val_loss: 0.0447 - val_accuracy: 0.2017 - val_mean_squared_error: 0.0447\n",
            "Epoch 67/100\n",
            "313/313 [==============================] - 2s 6ms/step - loss: 0.0447 - accuracy: 0.2067 - mean_squared_error: 0.0447 - val_loss: 0.0447 - val_accuracy: 0.2014 - val_mean_squared_error: 0.0447\n",
            "Epoch 68/100\n",
            "313/313 [==============================] - 2s 6ms/step - loss: 0.0447 - accuracy: 0.2066 - mean_squared_error: 0.0447 - val_loss: 0.0447 - val_accuracy: 0.2016 - val_mean_squared_error: 0.0447\n",
            "Epoch 69/100\n",
            "313/313 [==============================] - 2s 6ms/step - loss: 0.0447 - accuracy: 0.2059 - mean_squared_error: 0.0447 - val_loss: 0.0447 - val_accuracy: 0.2019 - val_mean_squared_error: 0.0447\n",
            "Epoch 70/100\n",
            "313/313 [==============================] - 2s 6ms/step - loss: 0.0446 - accuracy: 0.2061 - mean_squared_error: 0.0446 - val_loss: 0.0446 - val_accuracy: 0.2022 - val_mean_squared_error: 0.0446\n",
            "Epoch 71/100\n",
            "313/313 [==============================] - 2s 6ms/step - loss: 0.0446 - accuracy: 0.2061 - mean_squared_error: 0.0446 - val_loss: 0.0446 - val_accuracy: 0.2022 - val_mean_squared_error: 0.0446\n",
            "Epoch 72/100\n",
            "313/313 [==============================] - 2s 6ms/step - loss: 0.0446 - accuracy: 0.2061 - mean_squared_error: 0.0446 - val_loss: 0.0446 - val_accuracy: 0.2021 - val_mean_squared_error: 0.0446\n",
            "Epoch 73/100\n",
            "313/313 [==============================] - 2s 6ms/step - loss: 0.0446 - accuracy: 0.2063 - mean_squared_error: 0.0446 - val_loss: 0.0446 - val_accuracy: 0.2017 - val_mean_squared_error: 0.0446\n",
            "Epoch 74/100\n",
            "313/313 [==============================] - 2s 6ms/step - loss: 0.0446 - accuracy: 0.2062 - mean_squared_error: 0.0446 - val_loss: 0.0446 - val_accuracy: 0.2020 - val_mean_squared_error: 0.0446\n",
            "Epoch 75/100\n",
            "313/313 [==============================] - 2s 6ms/step - loss: 0.0446 - accuracy: 0.2063 - mean_squared_error: 0.0446 - val_loss: 0.0446 - val_accuracy: 0.2010 - val_mean_squared_error: 0.0446\n",
            "Epoch 76/100\n",
            "313/313 [==============================] - 2s 6ms/step - loss: 0.0446 - accuracy: 0.2068 - mean_squared_error: 0.0446 - val_loss: 0.0445 - val_accuracy: 0.2011 - val_mean_squared_error: 0.0445\n",
            "Epoch 77/100\n",
            "313/313 [==============================] - 2s 6ms/step - loss: 0.0446 - accuracy: 0.2068 - mean_squared_error: 0.0446 - val_loss: 0.0445 - val_accuracy: 0.2012 - val_mean_squared_error: 0.0445\n",
            "Epoch 78/100\n",
            "313/313 [==============================] - 2s 6ms/step - loss: 0.0445 - accuracy: 0.2069 - mean_squared_error: 0.0445 - val_loss: 0.0445 - val_accuracy: 0.2008 - val_mean_squared_error: 0.0445\n",
            "Epoch 79/100\n",
            "313/313 [==============================] - 2s 6ms/step - loss: 0.0445 - accuracy: 0.2069 - mean_squared_error: 0.0445 - val_loss: 0.0448 - val_accuracy: 0.2008 - val_mean_squared_error: 0.0448\n",
            "Epoch 80/100\n",
            "313/313 [==============================] - 2s 6ms/step - loss: 0.0445 - accuracy: 0.2067 - mean_squared_error: 0.0445 - val_loss: 0.0445 - val_accuracy: 0.2009 - val_mean_squared_error: 0.0445\n",
            "Epoch 81/100\n",
            "313/313 [==============================] - 2s 6ms/step - loss: 0.0445 - accuracy: 0.2065 - mean_squared_error: 0.0445 - val_loss: 0.0445 - val_accuracy: 0.2016 - val_mean_squared_error: 0.0445\n",
            "Epoch 82/100\n",
            "313/313 [==============================] - 2s 6ms/step - loss: 0.0445 - accuracy: 0.2067 - mean_squared_error: 0.0445 - val_loss: 0.0445 - val_accuracy: 0.2019 - val_mean_squared_error: 0.0445\n",
            "Epoch 83/100\n",
            "313/313 [==============================] - 2s 6ms/step - loss: 0.0445 - accuracy: 0.2066 - mean_squared_error: 0.0445 - val_loss: 0.0444 - val_accuracy: 0.2018 - val_mean_squared_error: 0.0444\n",
            "Epoch 84/100\n",
            "313/313 [==============================] - 2s 6ms/step - loss: 0.0445 - accuracy: 0.2069 - mean_squared_error: 0.0445 - val_loss: 0.0444 - val_accuracy: 0.2017 - val_mean_squared_error: 0.0444\n",
            "Epoch 85/100\n",
            "313/313 [==============================] - 2s 6ms/step - loss: 0.0445 - accuracy: 0.2071 - mean_squared_error: 0.0445 - val_loss: 0.0444 - val_accuracy: 0.2022 - val_mean_squared_error: 0.0444\n",
            "Epoch 86/100\n",
            "313/313 [==============================] - 2s 6ms/step - loss: 0.0445 - accuracy: 0.2070 - mean_squared_error: 0.0445 - val_loss: 0.0444 - val_accuracy: 0.2023 - val_mean_squared_error: 0.0444\n",
            "Epoch 87/100\n",
            "313/313 [==============================] - 2s 6ms/step - loss: 0.0445 - accuracy: 0.2071 - mean_squared_error: 0.0445 - val_loss: 0.0444 - val_accuracy: 0.2023 - val_mean_squared_error: 0.0444\n",
            "Epoch 88/100\n",
            "313/313 [==============================] - 2s 6ms/step - loss: 0.0445 - accuracy: 0.2076 - mean_squared_error: 0.0445 - val_loss: 0.0444 - val_accuracy: 0.2022 - val_mean_squared_error: 0.0444\n",
            "Epoch 89/100\n",
            "313/313 [==============================] - 2s 6ms/step - loss: 0.0445 - accuracy: 0.2074 - mean_squared_error: 0.0445 - val_loss: 0.0444 - val_accuracy: 0.2030 - val_mean_squared_error: 0.0444\n",
            "Epoch 90/100\n",
            "313/313 [==============================] - 2s 6ms/step - loss: 0.0444 - accuracy: 0.2073 - mean_squared_error: 0.0444 - val_loss: 0.0444 - val_accuracy: 0.2030 - val_mean_squared_error: 0.0444\n",
            "Epoch 91/100\n",
            "313/313 [==============================] - 2s 6ms/step - loss: 0.0444 - accuracy: 0.2076 - mean_squared_error: 0.0444 - val_loss: 0.0444 - val_accuracy: 0.2028 - val_mean_squared_error: 0.0444\n",
            "Epoch 92/100\n",
            "313/313 [==============================] - 2s 6ms/step - loss: 0.0444 - accuracy: 0.2075 - mean_squared_error: 0.0444 - val_loss: 0.0444 - val_accuracy: 0.2024 - val_mean_squared_error: 0.0444\n",
            "Epoch 93/100\n",
            "313/313 [==============================] - 2s 6ms/step - loss: 0.0444 - accuracy: 0.2074 - mean_squared_error: 0.0444 - val_loss: 0.0444 - val_accuracy: 0.2026 - val_mean_squared_error: 0.0444\n",
            "Epoch 94/100\n",
            "313/313 [==============================] - 2s 6ms/step - loss: 0.0444 - accuracy: 0.2072 - mean_squared_error: 0.0444 - val_loss: 0.0444 - val_accuracy: 0.2022 - val_mean_squared_error: 0.0444\n",
            "Epoch 95/100\n",
            "313/313 [==============================] - 2s 6ms/step - loss: 0.0444 - accuracy: 0.2075 - mean_squared_error: 0.0444 - val_loss: 0.0444 - val_accuracy: 0.2021 - val_mean_squared_error: 0.0444\n",
            "Epoch 96/100\n",
            "313/313 [==============================] - 2s 6ms/step - loss: 0.0444 - accuracy: 0.2074 - mean_squared_error: 0.0444 - val_loss: 0.0444 - val_accuracy: 0.2017 - val_mean_squared_error: 0.0444\n",
            "Epoch 97/100\n",
            "313/313 [==============================] - 2s 6ms/step - loss: 0.0444 - accuracy: 0.2076 - mean_squared_error: 0.0444 - val_loss: 0.0444 - val_accuracy: 0.2018 - val_mean_squared_error: 0.0444\n",
            "Epoch 98/100\n",
            "313/313 [==============================] - 2s 6ms/step - loss: 0.0444 - accuracy: 0.2072 - mean_squared_error: 0.0444 - val_loss: 0.0444 - val_accuracy: 0.2016 - val_mean_squared_error: 0.0444\n",
            "Epoch 99/100\n",
            "313/313 [==============================] - 2s 6ms/step - loss: 0.0444 - accuracy: 0.2071 - mean_squared_error: 0.0444 - val_loss: 0.0444 - val_accuracy: 0.2014 - val_mean_squared_error: 0.0444\n",
            "Epoch 100/100\n",
            "313/313 [==============================] - 2s 6ms/step - loss: 0.0444 - accuracy: 0.2072 - mean_squared_error: 0.0444 - val_loss: 0.0444 - val_accuracy: 0.2006 - val_mean_squared_error: 0.0444\n"
          ]
        }
      ],
      "source": [
        "from tensorflow.keras.optimizers import RMSprop, Adam, Nadam, Lion\n",
        "\n",
        "# Compile the model\n",
        "model.compile(optimizer=Adam(),\n",
        "              loss='MSE',  \n",
        "              metrics=['accuracy', 'mean_squared_error'])\n",
        "\n",
        "# Train the model\n",
        "num_epochs = 100\n",
        "device_name = tf.test.gpu_device_name()\n",
        "\n",
        "with tf.device('/gpu:0'):\n",
        "    history = model.fit(train_dataset, epochs=num_epochs, validation_data=val_dataset)"
      ]
    },
    {
      "cell_type": "code",
      "execution_count": 24,
      "metadata": {
        "colab": {
          "base_uri": "https://localhost:8080/",
          "height": 472
        },
        "id": "cvpE_X1iTXcB",
        "outputId": "eff0e5f5-5b26-46ea-ec6b-491d1de9944c"
      },
      "outputs": [
        {
          "data": {
            "image/png": "[encoded data removed]",
            "text/plain": [
              "<Figure size 640x480 with 1 Axes>"
            ]
          },
          "metadata": {},
          "output_type": "display_data"
        }
      ],
      "source": [
        "import matplotlib.pyplot as plt\n",
        "#plt.plot(history.history['accuracy'], label='Training Accuracy')\n",
        "#plt.plot(history.history['val_accuracy'], label='Validation Accuracy')\n",
        "plt.plot(history.history['mean_squared_error'], label='Training MSE')\n",
        "plt.plot(history.history['val_mean_squared_error'], label='Validation MSE')\n",
        "\n",
        "plt.xlabel('Epoch')\n",
        "plt.ylabel('MSE')\n",
        "plt.title('MSE vs. Epoch')\n",
        "plt.legend()\n",
        "plt.show()\n",
        "\n",
        "# MIN LOSS = 0.0128 c/fund 50epochs MSE\n",
        "##         = 0.0118 s/fund 50epochs MSE\n",
        "##         = 0.0039 s/fund 50epochs MSE m=4 d=6"
      ]
    },
    {
      "cell_type": "code",
      "execution_count": 25,
      "metadata": {
        "colab": {
          "base_uri": "https://localhost:8080/"
        },
        "id": "BRlZuRUNa6Yb",
        "outputId": "85850559-311b-4cf4-ea5b-465a9ee8a7af"
      },
      "outputs": [
        {
          "name": "stdout",
          "output_type": "stream",
          "text": [
            "8/8 [==============================] - 0s 2ms/step\n"
          ]
        }
      ],
      "source": [
        "# Assuming you have a validation dataset (val_dataset)\n",
        "sample = next(iter(val_dataset))\n",
        "input_data = sample[0]  # Assuming your dataset provides input data as the first element\n",
        "actual_values = sample[1]  # Assuming your dataset provides actual labels as the second element\n",
        "\n",
        "# Predict using the model\n",
        "predictions = model.predict(input_data)"
      ]
    },
    {
      "cell_type": "code",
      "execution_count": 26,
      "metadata": {
        "id": "ds5iD1OMbZu3"
      },
      "outputs": [],
      "source": [
        "m_size = basis.size\n",
        "rho_1_pred = []\n",
        "rho_1_actual = []\n",
        "norm = []\n",
        "norm_rand = []\n",
        "printear =  False\n",
        "\n",
        "for e in val_dataset:\n",
        "    for i in range(0, 3 if printear else batch_size):\n",
        "        # Valores actuales\n",
        "        #h = e[1][i].numpy().reshape(basis.size,basis.size)\n",
        "        h_true = gen_to_h(e[1][i], rho_1_arrays)\n",
        "        #print(h) if printear else 0\n",
        "        r = max(np.linalg.eigvals(e[0][i]))\n",
        "        rho_1_actual.append(r)\n",
        "\n",
        "        print(h_true) if printear else 0\n",
        "        print(r) if printear else 0\n",
        "\n",
        "        # Valores predichos\n",
        "        #h = predictions[i].reshape(basis.size,basis.size)\n",
        "        h_pred = gen_to_h(predictions[i], rho_1_arrays)\n",
        "        beta = 1\n",
        "        # Estado térmico\n",
        "        state = thermal_state(h_pred, beta)\n",
        "        # Estado puro\n",
        "        #state = pure_state(h_pred)\n",
        "        rho1 = np.array(rho_1(basis.d, state, rho_1_arrays))\n",
        "        r = max(np.sort(linalg_d.eigvals(rho1).real))\n",
        "        rho_1_pred.append(r)\n",
        "\n",
        "        print(h_pred) if printear else 0\n",
        "        print(r) if printear else 0\n",
        "        \n",
        "\n",
        "        # Normas\n",
        "        norm.append(np.linalg.norm(h_true-h_pred, ord='fro'))\n",
        "        print(f'Norma {norm[-1]}') if printear else 0\n",
        "        ## Vamos a comparar con un h aleatorio\n",
        "        size = basis.d*(basis.d+1)//2\n",
        "        base = np.random.uniform(low=0, high=1.0, size=(size,))\n",
        "        h_rand = gen_to_h(base, rho_1_arrays)\n",
        "        norm_rand.append(np.linalg.norm(h_true-h_rand, ord='fro'))\n",
        "        #print(f'Norma random {norm_rand[-1]}') if printear else 0\n",
        "        print('') if printear else 0\n",
        "        \n",
        "\n",
        "\n",
        "    # e contiene todo el batch y nos basta con uno\n",
        "    break"
      ]
    },
    {
      "cell_type": "code",
      "execution_count": 27,
      "metadata": {},
      "outputs": [
        {
          "name": "stdout",
          "output_type": "stream",
          "text": [
            "tf.Tensor(\n",
            "[0.62711791 0.37355705 0.22410533 0.84490558 0.88529874 0.99805172\n",
            " 0.56961319 0.2563434  0.26200589 0.44036214 0.79603968 0.0416634\n",
            " 0.70762949 0.30116116 0.17348945 0.17427812 0.90418797 0.99659395\n",
            " 0.22638559 0.22852208 0.53613858], shape=(21,), dtype=float64)\n"
          ]
        },
        {
          "data": {
            "text/plain": [
              "array([0.58219635, 0.30976218, 0.17614833, 0.7934495 , 0.47874033,\n",
              "       0.7060023 , 0.5774565 , 0.39054304, 0.4893577 , 0.763705  ,\n",
              "       0.75563955, 0.27615702, 0.42616972, 0.51112276, 0.33082122,\n",
              "       0.46986908, 0.62217593, 0.7504883 , 0.313991  , 0.19175333,\n",
              "       0.62748265], dtype=float32)"
            ]
          },
          "execution_count": 27,
          "metadata": {},
          "output_type": "execute_result"
        }
      ],
      "source": [
        "print(e[1][10])\n",
        "predictions[10]"
      ]
    },
    {
      "cell_type": "code",
      "execution_count": 28,
      "metadata": {
        "colab": {
          "base_uri": "https://localhost:8080/",
          "height": 501
        },
        "id": "AL2EC9Ci-0HG",
        "outputId": "545ebe57-d3de-490f-f076-709d5c47b5f2"
      },
      "outputs": [
        {
          "name": "stdout",
          "output_type": "stream",
          "text": [
            "Rho1 based statistics\n",
            "0.61526823\n",
            "1.4827181100845337\n",
            "std\n",
            "0.12342830002307892\n",
            "0.1694856733083725\n",
            "0.062448907643556595\n"
          ]
        },
        {
          "data": {
            "image/png": "[encoded data removed]",
            "text/plain": [
              "<Figure size 640x480 with 1 Axes>"
            ]
          },
          "metadata": {},
          "output_type": "display_data"
        },
        {
          "name": "stdout",
          "output_type": "stream",
          "text": [
            "H based statistics\n",
            "3.4318662 6.248618\n",
            "1.820764\n"
          ]
        }
      ],
      "source": [
        "from sklearn.metrics import mean_squared_error, r2_score\n",
        "import matplotlib.pyplot as plt\n",
        "\n",
        "f=1\n",
        "rho_1_actual = np.array(rho_1_actual)\n",
        "rho_1_pred = np.array(rho_1_pred)\n",
        "#print(mean_squared_error(rho_1_pred, rho_1_actual))\n",
        "\n",
        "print('Rho1 based statistics')\n",
        "print(np.mean(np.abs(rho_1_actual-rho_1_pred)))\n",
        "print(np.mean(rho_1_actual)*f)\n",
        "print('std')\n",
        "print(np.std(rho_1_actual-rho_1_pred)*f)\n",
        "print(np.std(rho_1_actual)*f)\n",
        "print(np.std(rho_1_pred)*f)\n",
        "plt.hist(np.array(rho_1_pred-rho_1_actual), bins=50)\n",
        "plt.show()\n",
        "print('H based statistics')\n",
        "print(np.mean(norm), np.mean(norm_rand))\n",
        "print(np.mean(norm_rand)/np.mean(norm))\n",
        "\n",
        "\n",
        "# BEST: FACTOR 1/8 c/fund\n",
        "## 500 epochs, 10M dataset\n",
        "# BEST: FACTOR 1/9 s/fund\n",
        "## 50 epochs, 5M dataset"
      ]
    },
    {
      "cell_type": "code",
      "execution_count": 29,
      "metadata": {},
      "outputs": [
        {
          "data": {
            "text/plain": [
              "4.8076923076923075"
            ]
          },
          "execution_count": 29,
          "metadata": {},
          "output_type": "execute_result"
        }
      ],
      "source": [
        "6.25/1.30"
      ]
    },
    {
      "cell_type": "code",
      "execution_count": 30,
      "metadata": {},
      "outputs": [],
      "source": [
        "# 25 epochs d = m*2\n",
        "res = {}\n",
        "res[5] = 35/8.19 \n",
        "res[4] = 15/2.47\n",
        "res[3] = 6.2/1.73"
      ]
    },
    {
      "cell_type": "code",
      "execution_count": 31,
      "metadata": {},
      "outputs": [
        {
          "name": "stdout",
          "output_type": "stream",
          "text": [
            "{5: 4.273504273504273, 4: 6.072874493927125, 3: 3.5838150289017343}\n"
          ]
        }
      ],
      "source": [
        "print(res)"
      ]
    },
    {
      "cell_type": "code",
      "execution_count": 32,
      "metadata": {
        "colab": {
          "base_uri": "https://localhost:8080/",
          "height": 1000
        },
        "id": "YioVllOX3M1N",
        "outputId": "b7715c37-1400-4c04-8be3-dd247b4b9db9"
      },
      "outputs": [
        {
          "data": {
            "image/png": "[encoded data removed]",
            "text/plain": [
              "<Figure size 640x480 with 2 Axes>"
            ]
          },
          "metadata": {},
          "output_type": "display_data"
        },
        {
          "data": {
            "image/png": "[encoded data removed]",
            "text/plain": [
              "<Figure size 640x480 with 2 Axes>"
            ]
          },
          "metadata": {},
          "output_type": "display_data"
        },
        {
          "data": {
            "image/png": "[encoded data removed]",
            "text/plain": [
              "<Figure size 640x480 with 2 Axes>"
            ]
          },
          "metadata": {},
          "output_type": "display_data"
        }
      ],
      "source": [
        "# Get the weights of all dense layers in the model\n",
        "dense_weights = []\n",
        "for layer in model.layers:\n",
        "    if isinstance(layer, tf.keras.layers.Dense):\n",
        "        weights = layer.get_weights()\n",
        "        if len(weights) > 0:\n",
        "            dense_weights.append(weights[0])\n",
        "\n",
        "# Visualize the weights of each dense layer\n",
        "for i, weights in enumerate(dense_weights):\n",
        "    plt.figure()\n",
        "    plt.imshow(weights, cmap='viridis', aspect='auto')\n",
        "    plt.colorbar()\n",
        "    plt.title(f\"Dense Layer {i+1} Weights Visualization\")\n",
        "    plt.show()\n"
      ]
    }
  ],
  "metadata": {
    "colab": {
      "collapsed_sections": [
        "oapxWkD16fHg"
      ],
      "include_colab_link": true,
      "provenance": []
    },
    "kernelspec": {
      "display_name": "Python 3",
      "language": "python",
      "name": "python3"
    },
    "language_info": {
      "codemirror_mode": {
        "name": "ipython",
        "version": 3
      },
      "file_extension": ".py",
      "mimetype": "text/x-python",
      "name": "python",
      "nbconvert_exporter": "python",
      "pygments_lexer": "ipython3",
      "version": "3.10.12"
    },
    "orig_nbformat": 4
  },
  "nbformat": 4,
  "nbformat_minor": 0
}
